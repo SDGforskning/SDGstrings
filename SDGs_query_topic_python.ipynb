{
 "cells": [
  {
   "cell_type": "markdown",
   "id": "b3957d6d-393a-4f5c-82c4-dff1bd22eb25",
   "metadata": {},
   "source": [
    "# Search queries for all currently covered SDGs - topic approach. English and Norwegian.\n",
    "\n",
    "This file contains a method for searching for SDG relevant academic works within a dataset based on title (here, `result_title`). For SDG14, journal/series title (`journal`) is also used in the section \"Marine terms\". The script refers to an additional field, `result_id`, when displaying the results.\n",
    "\n",
    "It currently covers SDGs 1, 2, 3, 4, 7, 11, 12, 13, 14, and 15. This search is an adaptation of the topic searches for individual SDGs which were originally constructed in search syntax for the database Web of Science (WOS, Clarivate). A full documented version of these WOS searches can be found in Github (https://github.com/SDGforskning/sdg-strings) or Zenodo (https://doi.org/10.5281/zenodo.7241689). We have tried to retain a common structure between the WOS and python versions of the searches by dividing into the same \"phrases\" (i.e. target 1.4 phrase 2 here corresponds to target 1.4 phrase 2 in the WOS syntax searches, unless otherwise noted). Differences between the WOS and python versions are mainly:\n",
    "- Adaptation to title search, rather than also being able to search in the abstract and keywords. For this reason, some searches have been simplified/broadened. This does not mean that the searches cannot be run on abstracts/longer texts as well, but the results may be noisier. \n",
    "- Additional language search. This file will search for SDG-related works written in both English and Norwegian. The English search terms are always provided first, with the Norwegian translated terms on a new line. By translations, we mean direct translations as well as country-specific terminology. Note that in some cases, adjustments are made to the search to deal with specifically Norwegian isses (for example, large amounts of research on salmon anaemia causing noise in a search for human anaemia); these are commented on. In documentation and notes, \"(NO)\" signifies it is a Norwegian search term being discussed. Because the Norwegian terms have been optimised to find as much SDG-related research as possible for Norway (e.g. including country-specific terminology), care should be taken if the goal of mapping publications is to compare with other countries - for that purpose, we would suggest using the Web of Science strings or only the English terms in this script. \n",
    "\n",
    "The general structure of this file is \n",
    "1. Import\n",
    "2. Country sets - searches to identify results mentioning certain countries, used later in searches where the targets refer to certain groups of countries.\n",
    "3. Searches, split by SDG and target. Under each target, you will find the target text (English and Norwegian), any general notes, lists of search terms (\"termlist_xx\"), a search, and a preview of results. Note that occasionally, for efficiency, termlists may be re-used within a target (from an earlier phrase).\n",
    "4. Code to combine all of the labels created in the above part into two columns: SDG-level results (e.g. whether a result can be related to SDG4) and target-level results (e.g. whether a result can be related to target 4.1).  \n",
    "5. Cleaning\n",
    "\n",
    "Documentation included in this file is specific to a) implementation of the search in python, b) adaptation to a title search, or c) Norwegian search terms. For documentation of original English term sources, interpretations of SDG targets, relevance choices, and contributor information, see the documentation within the original Web of Science syntax files at the urls above.\n",
    "\n",
    "To cite, please see the suggested citation in Zenodo for your version: https://doi.org/10.5281/zenodo.7241689"
   ]
  },
  {
   "cell_type": "code",
   "execution_count": null,
   "id": "8b004871-aa3b-49ff-8517-60c2a61a58c8",
   "metadata": {
    "tags": []
   },
   "outputs": [],
   "source": [
    "import pandas as pd\n",
    "import numpy as np"
   ]
  },
  {
   "cell_type": "markdown",
   "id": "86ac825f-fa4a-42b8-bad3-214351df49f5",
   "metadata": {},
   "source": [
    "## Import\n",
    "\n",
    "Use file of all results, already pre-labelled with other methods if applicable. "
   ]
  },
  {
   "cell_type": "code",
   "execution_count": null,
   "id": "181a5d88-6d61-4b7e-a43f-3c9e0156c3e6",
   "metadata": {
    "tags": []
   },
   "outputs": [],
   "source": [
    "#Check data\n",
    "Data.head(2)"
   ]
  },
  {
   "cell_type": "code",
   "execution_count": null,
   "id": "bfa0b130-dd65-4e5b-b8bb-2b0d016828bb",
   "metadata": {},
   "outputs": [],
   "source": [
    "Data.info()"
   ]
  },
  {
   "cell_type": "code",
   "execution_count": null,
   "id": "40d00033-9091-4cc3-b8f3-23fa3ad76a64",
   "metadata": {
    "id": "hmTOZVYRp3G-",
    "tags": []
   },
   "outputs": [],
   "source": [
    "# Tables expand to show long variables (e.g. abstract)\n",
    "pd.set_option('display.max_colwidth', 1)"
   ]
  },
  {
   "cell_type": "markdown",
   "id": "2d3a6b73-7d78-4c64-88b2-af4af26c67ab",
   "metadata": {},
   "source": [
    "## Country sets\n",
    "\n",
    "This section creates columns (T/F) for results that mention groups/combinations of these groups of countries. These are used later in the searches if a topic should be limited to a group of countries. It is done in this way to reduce search time (searches for long country lists only need to be done once, rather than for each target that needs it).\n",
    "\n",
    "LDC = least-developed countries; SIDS = small-island developing states; LDS = landlocked developing states; LMICs = Low- and middle-income countries. Our classification of countries as least developed countries (LDCs), small island developing states (SIDS) and landlocked developing states (LDS) is taken from the Statistical Annex of United Nations World Economic Situation and Prospects (tables F, H and I) (United Nations, 2016, 2017, 2018, 2019, 2020, 2021). Additional terms for these countries, generic terms for country groups, and terms for low and middle income countries (LMICs) were gathered from the LMIC 2020 filter from the Norwegian Satellite of Cochrane Effective Practice and Organisation of Care (EPOC), developed by the Norwegian Institute of Public Heath (https://epoc.cochrane.org/lmic-filters). Translations to Norwegian were done by the project group. "
   ]
  },
  {
   "cell_type": "code",
   "execution_count": null,
   "id": "92cf5620-b632-408b-a3ad-f12436f9354f",
   "metadata": {
    "tags": []
   },
   "outputs": [],
   "source": [
    "LDC_termlist = [\n",
    "  \"least developed countr\", \"least developed nation\", \n",
    "  \"Angola\", \"Benin\", \"beninese\", \"Burkina Faso\", \"Burkina fasso\", \"burkin\", \"Burundi\", \"Central African Republic\", \"central african\", \"Chad\", \"Comoros\", \"comoro islands\", \n",
    "  \"iles comores\", \"Congo\", \"Djibouti\", \"Eritrea\", \"Ethiopia\", \"Gambia\", \"Guinea\", \"Guinea-Bissau\", \"guinean\", \"Lesotho\", \"lesothan\", \"Liberia\", \n",
    "  \"Madagasca\", \"Malawi\", \"Mauritania\", \"Mozambique\", \"mozambican\", \"Niger\", \"Rwanda\", \"Sao Tome and Principe\", \"Senegal\", \"Sierra Leone\", \n",
    "  \"Somalia\", \"South Sudan\", \"Sudan\", \"sudanese\", \"Togo\", \"togolese\", \"tongan\", \"Uganda\", \"Tanzania\", \"Zambia\", \"Cambodia\", \"Kiribati\", \n",
    "  \"Lao People’s democratic republic\", \"Laos\", \"Myanmar\", \"myanma\", \"Solomon islands\", \"Timor Leste\", \"Tuvalu\", \"Vanuatu\", \n",
    "  \"Afghanistan\", \"afghan\", \"Bangladesh\", \"Bhutan\", \"Nepal\", \"Yemen\", \"Haiti\", \n",
    "\n",
    "  \"minst utviklede land\", \"lavinntektsland\", \"låginntektsland\",\n",
    "  \"eritreisk\", \"eritreer\",\"eritrear\", \"gambisk\", \"gambier\", \"Den Sentralafrikanske republikk\", \"sentralafrikan\", \"Tsjad\", \"Komor\", \"Kongo\", \"Etiopi\", \"bissauguinean\", \"lesothi\", \"liberisk\", \"Madagas\", \"gasser\", \"mauritanier\", \"mauritaniar\", \"mauritanisk\", \"Mosambik\", \"Sao Tome og Principe\", \"saotomes\", \"Sør-Sudan\", \"sørsudan\", \n",
    "  \"Kambodsja\", \"Salomonøyene\", \"salomon\", \"Øst-Timor\", \"østtimores\"\n",
    "  ]\n",
    "LDC_termlist_trunc = [\"Mali\", \"malian\", \"malier\", \"maliar\", \"malisk\"]\n",
    "LDC_termlist_caps = [\"LEDC\", \" MUL \"]\n",
    "\n",
    "LDC_phrase = r'(?:{})'.format('|'.join(LDC_termlist))\n",
    "LDC_phrase_trunc = r'\\b(?:{})\\b'.format('|'.join(LDC_termlist_trunc))\n",
    "LDC_phrase_caps = r'(?:{})'.format('|'.join(LDC_termlist_caps))\n",
    "\n",
    "SIDS_termlist = [\n",
    "  \"small-island developing nation\", \"small-island developing stat\", \"small-island developing countr\",\n",
    "  \"small island developing nation\", \"small island developing stat\", \"small island developing countr\",\n",
    "  \"Antigua and Barbuda\", \"Antigua & Barbuda\", \"antiguan\", \"Bahamas\", \"bahamian\", \"Bahrain\", \"Barbados\", \"barbadian\", \"Belize\", \"Cabo Verde\", \"Cape Verde\", \"Comoros\", \"comoro islands\", \n",
    "  \"iles comores\", \"Cuba\", \"Dominica\", \"Micronesia\", \"Fiji\", \"Grenada\", \"Guinea-Bissau\", \"bissau-guinean\", \"Guyana\", \"guyan\", \"Haiti\", \"Jamaica\", \"Kiribati\", \"Maldives\", \"maldivian\", \"Marshall Islands\", \"Mauritius\", \"mauritian\", \"Nauru\", \"Palau\", \"Papua New Guinea\", \"Saint Kitts and Nevis\", \"st kitts and nevis\", \n",
    "  \"Saint Lucia\", \"St Lucia\", \"St. Vincent and the Grenadines\", \"Saint Vincent and the Grenadines\", \"Vincent & the Grenadines\", \"Samoa\", \"Sao Tome\", \"Seychelles\", \"seychellois\", \"Singapore\", \"Solomon Islands\",\n",
    "  \"Surinam\", \"Timor-Leste\", \"timorese\", \"Tonga\", \"Trinidad and Tobago\", \"Trinidad & Tobago\", \"trinidadian\", \"tobagonian\", \"Tuvalu\", \"Vanuatu\", \n",
    "  \"Anguilla\", \"Aruba\", \"Bermuda\", \"Cayman Islands\", \"Northern Mariana\", \"Cook Islands\", \"Curacao\", \"French Polynesia\", \"Guadeloupe\", \"Guam\", \"Martinique\", \n",
    "  \"Montserrat\", \"New Caledonia\", \"Niue\", \"Puerto Rico\", \"puerto rican\", \"Sint Maarten\", \"Turks and Caicos\", \"Turks & Caicos\", \"Virgin Islands\", \n",
    "\n",
    "  \"små utviklingsøystat\",\"små øystat\",\n",
    "  \"Antigua og Barbuda\", \"bahaman\", \"barbader\", \"barbadar\", \"barbadisk\", \"belizisk\", \"Kapp Verde\", \"kappverd\", \"Komor\", \"Den Dominikanske Republikk\", \"Mikronesi\", \"grenadi\", \"bissauguinean\", \"jamaikan\", \"Maldivene\", \"maldiver\", \"maldivisk\", \"maldivar\", \"Marshalløyene\", \"Papua Ny-Guinea\", \"papuan\", \"Saint Kitts og Nevis\", \n",
    "  \"sankkitt\", \"Saint Vincent og Grenadine\", \"sanktvinsent\", \"seychell\", \"saotomes\", \"singapor\", \"Salomonøy\", \"salomoner\", \"salomonsk\", \"salomonar\", \"Øst-timor\", \"østtimores\", \"Trinidad og Tobago\", \"trinidader\", \"trinidadar\", \"trinidadisk\", \"tuvaler\", \"tuvalar\", \"tuvalsk\", \"vanuatisk\", \"bermudisk\", \"Caymanøyene\", \"caymansk\", \"Nord-Marianene\", \"Cookøyene\", \"Fransk Polynesia\", \"polynesisk\", \"Ny-Caledonia\", \"kaledon\", \"martinikan\", \"Turks- og Caicosøyene\", \"ny-caledonia\", \"nykaledon\", \"puertorikan\", \"Jomfruøyene\"\n",
    "  ]\n",
    "SIDS_termlist_caps = [\"SIDS\"] #can us with \"case=TRUE\" but watch out for medical SIDS (sudden infant death syndrome)\n",
    "\n",
    "SIDS_phrase = r'(?:{})'.format('|'.join(SIDS_termlist))\n",
    "SIDS_phrase_caps = r'(?:{})'.format('|'.join(SIDS_termlist_caps))\n",
    "\n",
    "LDS_termlist = [\n",
    "  \"landlocked developing nation\", \"landlocked developing stat\", \"land-locked developing nation\", \"land-locked developing stat\", \n",
    "  \"Afghanistan\", \"afghan\", \"Armenia\", \"Azerbaijan\", \"Bhutan\", \"bhutanese\", \"Bolivia\", \"Botswana\", \"Burkina Faso\", \"Burundi\", \"Central African Republic\", \"Chad\",\n",
    "  \"Eswatini\", \"eswantian\", \"Ethiopia\", \"Kazakhstan\", \"kazakh\", \"Kyrgyzstan\", \"Kyrgyz\", \"kirghizia\", \"kirgizstan\", \"Lao People’s Democratic Republic\",\n",
    "  \"Laos\", \"Lesotho\", \"Malawi\", \"malawian\", \"Mali\", \"Mongol\", \"Nepal\", \"Niger\", \"North Macedonia\", \"Republic of Macedonia\", \"Paraguay\", \"Moldova\", \"Rwanda\", \n",
    "  \"South Sudan\", \"sudanese\", \"Swaziland\", \"Tajikistan\", \"tadjikistan\", \"tajikistani\", \"Turkmenistan\", \"Uganda\", \"Uzbekistan\", \"uzbekistani\", \n",
    "  \"Zambia\", \"zambian\", \"Zimbabwe\", \n",
    "\n",
    "  \"kystløse utviklingsland\",\n",
    "  \"armensk\", \"armener\", \"armenar\", \"Aserbajdsjan\", \"Den Sentralafrikanske republikk\", \"sentralafrikan\", \"Tsjad\", \"Etiopia\", \"etiopier\", \"etiopiar\", \"etiopisk\", \n",
    "  \"Kasakhstan\", \"Kirgisistan\", \"kirgiser\", \"kirgisar\", \"kirgisisk\", \"laot\", \"laotisk\", \"lesothisk\", \"Nord-Makedonia\", \"makedon\", \n",
    "  \"moldover\", \"rwander\", \"rwandisk\", \"Tadsjikistan\", \"Sør-sudan\", \"Tadsjikistan\", \"tadsjiker\", \"tadsjikar\", \"tadsjikisk\", \"turkmener\", \"turkmenar\", \"turkmensk\",\n",
    "  \"Usbekistan\", \"usbeker\", \"usbekar\", \"usbekisk\", \"zambier\", \"zambiar\", \"zambisk\", \"zimbabwisk\"]\n",
    "LDS_termlist_trunc = [\"Mali\", \"malian\", \"malier\", \"maliar\", \"malisk\"]\n",
    "\n",
    "LDS_phrase = r'(?:{})'.format('|'.join(LDS_termlist))\n",
    "LDS_phrase_caps = r'(?:{})'.format('|'.join(LDS_termlist_trunc))\n",
    "\n",
    "LMIC_termlist = [\n",
    "  \"least developed countr\", \"least developed nation\", \"developing countr\", \"developing nation\", \"developing states\", \"island developing state\", \"developing world\", \n",
    "  \"less developed countr\", \"less developed nation\", \n",
    "  \"under developed countr\", \"under developed nation\", \"underdeveloped countr\", \"underdeveloped nation\",\n",
    "  \"underserved countr\", \"underserved nation\", \"deprived countr\", \"deprived nation\",\n",
    "  \"middle income countr\", \"middle income nation\", \"middle-income countr\", \"middle-income nation\", \n",
    "  \"low income countr\", \"low income nation\", \"lower income countr\", \"lower income nation\", \"low-income countr\", \"low-income nation\", \"lower-income countr\", \"lower-income nation\", \n",
    "  \"poor countr\", \"poor nation\", \"poorer countr\", \"poorer nation\", \n",
    "  \"third world\", \"global south\", \"transitional countr\", \"emerging economies\", \"emerging nation\", \n",
    "  \n",
    "  \"utviklingsland\", \"u-land\", \"uland\", \"underutviklede land\", \"underutvikla land\", \"lavinntektsland\", \"låginntektsland\",\n",
    "  \"underpriviligerte land\", \"mellominntektsland\", \"ressurssvake land\", \"tredje verd\", \"fattige land\", \n",
    "  \"globale sør\", \"overgangsøkonomi\", \"fremvoksende økonomier\", \"framvoksende økonomier\", \"framveksande økonomi\"\n",
    "  \"framvoksende land\", \"fremvoksende land\", \"framveksande land\", \"bistandsland\", \"minst utviklede land\", \"små utviklingsøystat\", \"små øystat\",\n",
    "  \"kystløse utviklingsland\",\n",
    "  \n",
    "  \"Angola\", \"Benin\", \"Burkina Faso\", \"Burkina fasso\", \"burkinese\", \"burkinabe\", \"Burundi\", \"Central African Republic\", \"central african\", \n",
    "  \"Comoros\", \"comoro islands\", \"iles comores\", \"Congo\", \"Djibouti\", \"Eritre\", \"Ethiopia\", \"Gambia\", \"Guinea\",\n",
    "  \"Lesoth\", \"Liberia\", \"Madagas\", \"Malawi\", \"Mauritan\", \"Mozambi\", \"Niger\", \"Rwanda\", \"Sao Tome\", \n",
    "  \"Senegal\", \"Sierra Leone\", \"Somalia\", \"Sudan\", \"Togo\", \"tongan\", \"Uganda\", \"Tanzania\", \"Zambia\", \"Cambodia\", \"Kiribati\", \n",
    "  \"Lao People\", \"Laos\", \"myanma\", \"Solomon islands\", \"Timor Leste\", \"timorese\", \"Tuvalu\", \"Vanuatu\", \n",
    "  \"afghan\", \"Bangladesh\", \"Bhutan\", \"Nepal\", \"Yemen\", \"Haiti\", \n",
    "  \n",
    "  \"gambisk\", \"gambier\", \"gambiar\", \"Den Sentralafrikanske republikk\", \"sentralafrikan\", \"Tsjad\", \"Komor\", \"Kongo\", \"Etiopi\", \"bissauguinean\", \n",
    "  \"lesothi\", \"liberisk\", \"gassisk\", \"Mosambik\", \"Sao Tome og Principe\", \"saotomes\", \"Kambodsja\", \"Salomon\", \"Øst-Timor\", \"østtimores\"\n",
    "  \n",
    "  \"Antigua\", \"Barbuda\", \"Bahamas\", \"bahamian\", \"Bahrain\", \"Barbados\", \"barbadian\", \"Belize\", \"Cabo Verde\", \"Cape Verde\", \n",
    "  \"Cuba\", \"Dominica\", \"Micronesia\", \"Fiji\", \"Grenada\", \"Guyana\", \"Haiti\", \"Jamaica\", \"Maldiv\", \"Marshall Islands\", \"Mauriti\", \"Nauru\", \"Palau\", \n",
    "  \"Saint Kitts\", \"st kitts\", \"Saint Lucia\", \"St Lucia\", \"Vincent and the Grenadines\", \"the Grenadines\", \"Samoa\", \"Sao Tome\", \"Seychell\", \"Singapore\", \n",
    "  \"Surinam\", \"Tonga\", \"Trinidad\", \"Tobago\", \"Anguilla\", \"Aruba\", \"Bermuda\", \"Cayman Islands\", \"Northern Mariana\", \"Cook Islands\", \"Curacao\", \"French Polynesia\", \n",
    "  \"Guadeloupe\", \"Guam\", \"Martinique\", \"Montserrat\", \"New Caledonia\", \"Niue\", \"Puerto Ric\", \"Sint Maarten\", \"Turks and Caicos\", \"Turks & Caicos\", \"Virgin Islands\", \n",
    "  \n",
    "  \"Kapp Verde\", \"Den Dominikanske Republikk\", \"Mikronesi\", \"Marshalløy\", \"Vincent og Grenadine\", \"Nord-Marian\", \"Cookøy\", \n",
    "  \"Fransk Polynesia\", \"Ny-Caledonia\", \"Turks- og Caicosøy\", \"Jomfruøy\",\n",
    "  \n",
    "  \"Afghan\", \"Armenia\", \"Azerbaijan\", \"Bhutan\", \"Bolivia\", \"Botswana\", \"Burkina Faso\", \"Burundi\", \"Chad\", \n",
    "  \"Eswatini\", \"eswantian\", \"Kazakhstan\", \"Kyrgyzstan\", \"kirghiz\", \"Mongol\", \"Nepal\", \"North Macedonia\", \"Republic of Macedonia\", \"Paraguay\", \"Moldov\", \"Rwand\", \n",
    "  \"Swazi\", \"Tajikistan\", \"tadjikistan\", \"Turkmenistan\", \"Uganda\", \"Uzbekistan\", \"Zambia\", \"Zimbabwe\", \n",
    "  \n",
    "  \"armensk\", \"armener\", \"armenar\", \"Aserbajdsjan\", \"Kasakhstan\", \"Kirgis\", \"Nord-Makedon\", \"Tadsjik\", \"Usbek\", \"zambisk\", \"zambier\", \"zambiar\",\n",
    "  \n",
    "  \"Albania\", \"Algeria\", \"Argentin\", \"Bahrain\", \"Belarus\", \"Byelarus\", \"Belorussia\", \"Hondura\", \"dahomey\", \"Bosnia\", \"Herzegovina\", \n",
    "  \"Botswan\", \"Bechuanaland\", \"Brazil\", \"Brasil\", \"Bulgaria\", \"Upper Volta\", \"Kampuchea\", \"Khmer Republic\", \"Cameroon\", \"Cameroun\", \"Ubangi Shari\", \"Chile\", \n",
    "  \"China\", \"Chinese\", \"Colombia\", \"Costa Rica\", \"Cote d’Ivoire\", \"Cote d Ivoire\", \"Ivory Coast\", \"Croatia\", \"Cyprus\", \"cypriot\", \"Czech\", \n",
    "  \"Ecuador\", \"Egypt\", \"United Arab Republic\", \"El Salvador\", \"Estonia\", \"Gabon\", \"Ghana\", \"Gibralta\", \"Greece\", \"greek\", \"Hondura\", \"Hungary\", \"hungarian\", \n",
    "  \"India\", \"Indonesia\", \"Iran\", \"Iraq\", \"Isle of Man\", \"Jordan\", \"Kenya\", \"Korea\", \"Kosovo\", \"kosovan\", \"Latvia\", \"Lebanon\", \"lebanese\", \"Libya\", \"Lithuania\", \n",
    "  \"Macau\", \"Macao\", \"macanese\", \"malagasy\", \"Malaysia\", \"Malay Federation\", \"Malaya Federation\", \"Malta\", \"maltese\", \"Mexico\", \"mexican\", \"Montenegr\",\n",
    "  \"Morocco\", \"moroccan\", \"Namibia\", \"Netherlands Antilles\", \"Nicaragua\",  \"Oman\", \"Muscat\", \"Pakistan\", \"Panama\", \"Peru\", \"Philippine\", \"Philipine\", \"Phillipine\", \n",
    "  \"Phillippine\", \"filipino\", \"filipina\", \"Poland\", \"polish\", \"Portugal\", \"portugese\", \"Romania\", \n",
    "  \"Russia\", \"Polynesia\", \"Saudi Arabia\", \"Serbia\", \"Slovakia\", \"Slovak Republic\", \"Slovenia\", \"Melanesia\", \"South Africa\", \"Sri Lanka\", \"Dutch Guiana\", \n",
    "  \"netherlands guiana\",  \"syria\", \"thai\", \"tunisia\", \"ukrain\", \"uruguay\", \"venezuela\", \"vietnam\", \"west bank\", \"gaza\", \"palestin\", \n",
    "  \"Yugoslavia\", \"Turkey\", \"turkish\", \"Georgia\",\n",
    "  \n",
    "  \"Algerie\", \"Hviterussland\", \"Kviterussland\", \"Bosnia-Hercegovina\", \"Øvre Volta\", \"Kamerun\", \"Elfenbenskysten\", \"Elfenbeinskysten\", \"Kroat\", \"Kypros\", \n",
    "  \"kypriot\", \"Tsjekki\", \"Arabiske Emirat\", \"Estland\", \"estisk\", \"Hellas\", \"gresk\", \"greker\", \"grekar\", \"Ungarn\", \"ungarsk\",\"ungarer\", \"ungarar\", \"Irak\", \"Libanon\", \n",
    "  \"libanes\", \"Litau\", \"Marokko\", \"marokkan\", \"Nederlandske Antill\", \"Filippin\", \"Polen\", \"polsk\", \"polakk\", \"Russland\", \"russisk\", \"russer\", \"russar\", \"Sør-Afrika\", \n",
    "  \"Vestbredden\", \"Vestbreidda\", \"Tyrkia\", \"tyrkisk\", \"tyrker\", \"tyrkar\"\n",
    "  ]\n",
    "LMIC_termlist_trunc = [\"kina\", \"Mali\", \"malian\", \"malier\", \"maliar\", \"malisk\"]\n",
    "LMIC_termlist_caps = [\"LEDC\", \" MUL \", \"SIDS\", \"LMIC\", \"LAMI \"] #can use with \"case=TRUE\" but watch out for double meanings (medical SIDS)\n",
    "#space after \"LAMI\" is on purpose (always followed by country, nation etc.)\n",
    "#\"polish\" might cause problems\n",
    "#\"gasser\" (Norwegian for people from Madagascar) is omitted due to noise (in Norwegian)\n",
    "\n",
    "LMIC_phrase = r'(?:{})'.format('|'.join(LMIC_termlist))\n",
    "LMIC_phrase_trunc = r'\\b(?:{})\\b'.format('|'.join(LMIC_termlist_trunc))\n",
    "LMIC_phrase_caps = r'(?:{})'.format('|'.join(LMIC_termlist_caps))"
   ]
  },
  {
   "cell_type": "code",
   "execution_count": null,
   "id": "ec3821b5-ae40-412f-a015-c5d2bec1bc85",
   "metadata": {
    "tags": []
   },
   "outputs": [],
   "source": [
    "Data[\"LDCs\"] = (\n",
    "    (Data['result_title'].str.contains(LDC_phrase, na=False, case=False))\n",
    "    |(Data['result_title'].str.contains(LDC_phrase_trunc, na=False, case=False))\n",
    "    |(Data['result_title'].str.contains(LDC_phrase_caps, na=False, case=True))\n",
    ")\n",
    "print(\"Number of results mentioning LDCs = \", len(Data.loc[Data['LDCs']])) \n",
    "\n",
    "\n",
    "Data[\"SIDS\"] = (\n",
    "    (Data['result_title'].str.contains(SIDS_phrase, na=False, case=False))\n",
    "    |(Data['result_title'].str.contains(SIDS_phrase_caps, na=False, case=True))\n",
    ")\n",
    "print(\"Number of results mentioning SIDS = \", len(Data.loc[Data['SIDS']])) \n",
    "\n",
    "\n",
    "Data[\"LDS\"] = (\n",
    "    (Data['result_title'].str.contains(LDS_phrase, na=False, case=False))\n",
    "    |(Data['result_title'].str.contains(LDS_phrase_caps, na=False, case=True))\n",
    ")\n",
    "print(\"Number of results mentioning LDS = \", len(Data.loc[Data['LDS']])) \n",
    "\n",
    "\n",
    "Data[\"LMICs\"] = (\n",
    "    (Data['result_title'].str.contains(LMIC_phrase, na=False, case=False))\n",
    "    |(Data['result_title'].str.contains(LMIC_phrase_trunc, na=False, case=False))\n",
    "    |(Data['result_title'].str.contains(LMIC_phrase_caps, na=False, case=True))\n",
    ")\n",
    "print(\"Number of results mentioning LMICs = \", len(Data.loc[Data['LMICs']]))"
   ]
  },
  {
   "cell_type": "code",
   "execution_count": null,
   "id": "e7e86e3f-cec5-49d6-b319-a30cb04dc821",
   "metadata": {
    "tags": []
   },
   "outputs": [],
   "source": [
    "Data[\"LDCSIDS\"] = (Data[\"SIDS\"]|Data[\"LDCs\"])\n",
    "\n",
    "print(\"Number of results mentioning LDCs or SIDS = \", len(Data.loc[Data['LDCSIDS']]))"
   ]
  },
  {
   "cell_type": "markdown",
   "id": "2156dced-a69d-4fc6-b262-cbcdb625837c",
   "metadata": {
    "tags": []
   },
   "source": [
    "## SDG 1"
   ]
  },
  {
   "cell_type": "markdown",
   "id": "d9164a94-ed01-4339-ac61-41bd25d1e7f4",
   "metadata": {
    "id": "tt-Bv9BcnnUQ"
   },
   "source": [
    "### SDG 1.1\n",
    "\n",
    "*1.1 By 2030, eradicate extreme poverty for all people everywhere, currently measured as people living on less than $1.25 a day*\n",
    "\n",
    "*Innen 2030 utrydde all ekstrem fattigdom*"
   ]
  },
  {
   "cell_type": "code",
   "execution_count": null,
   "id": "799715f0-b00b-43ed-8ec7-09afa3838ee5",
   "metadata": {
    "id": "J1OyLMbMnhye"
   },
   "outputs": [],
   "source": [
    "#Term lists\n",
    "termlist1_1 = [\"extreme poverty\", \"severe poverty\", \"deep poverty\", \"abject poverty\", \"absolute poverty\", \"destitution\", \"global poverty\", \"international poverty\",\n",
    "              \"ekstrem fattigdom\", \"global fattigdom\", \"internasjonal fattigdom\"\n",
    "              ]\n",
    "\n",
    "phrasedefault1_1 = r'(?:{})'.format('|'.join(termlist1_1))"
   ]
  },
  {
   "cell_type": "code",
   "execution_count": null,
   "id": "996c22d6-1a90-4e58-b8aa-662f8bb99cc9",
   "metadata": {
    "colab": {
     "base_uri": "https://localhost:8080/"
    },
    "id": "EI6ZVZnZpE5i",
    "outputId": "afb61321-f2c8-401c-91c9-cd0d13b17b39"
   },
   "outputs": [],
   "source": [
    "#Search\n",
    "Data.loc[(\n",
    "    (Data['result_title'].str.contains(phrasedefault1_1, na=False, case=False))\n",
    "    ),\"tempsdg01_01\"] = \"SDG01_01\"\n",
    "\n",
    "print(\"Number of results = \", len(Data[(Data.tempsdg01_01 == \"SDG01_01\")])) "
   ]
  },
  {
   "cell_type": "code",
   "execution_count": null,
   "id": "ae8f316c-4304-416c-ab3c-44af60894731",
   "metadata": {
    "colab": {
     "base_uri": "https://localhost:8080/",
     "height": 389
    },
    "id": "Ixopkv8nppSs",
    "outputId": "b75b6bf4-25a7-481b-ea54-78ac014215fd"
   },
   "outputs": [],
   "source": [
    "#Results\n",
    "test=Data.loc[(Data.tempsdg01_01 == \"SDG01_01\"), (\"result_id\", \"result_title\")]\n",
    "test.iloc[0:5, ]"
   ]
  },
  {
   "cell_type": "markdown",
   "id": "6870fc97-128b-4b23-b045-4dde393124f1",
   "metadata": {
    "id": "28QC5YCmq6wD"
   },
   "source": [
    "### SDG 1.2\n",
    "\n",
    "*1.2 By 2030, reduce at least by half the proportion of men, women and children of all ages living in poverty in all its dimensions according to national definitions*\n",
    "\n",
    "*Innen 2030 minst halvere andelen menn, kvinner og barn i alle aldre som lever i fattigdom, i henhold til nasjonale definisjoner*\n"
   ]
  },
  {
   "cell_type": "code",
   "execution_count": null,
   "id": "588bf8dd-d3d6-469d-b346-87862f748f35",
   "metadata": {
    "id": "Ub1aKSj8q6wF"
   },
   "outputs": [],
   "source": [
    "#Termlists\n",
    "termlist1_2a = [\"anti-poverty\", \"antipoverty\", \"out of poverty\", \"poverty\", \"rural poor\", \"urban poor\", \"working poor\",\n",
    "              \"fattigdom\"\n",
    "              ]\n",
    "\n",
    "termlist1_2b = [\"låginntekt\", 'låg inntekt',\"fattig\"]\n",
    "#Only Norwegian used here - in English, \"low income\" is combined like \"poor\" (2d) - if not, there are too many irreleavnt results about \"low income countries\" \n",
    "\n",
    "termlist1_2c = [\"household\", \"people\", \"communit\", \"child\", \"relief\", \"family\", \"families\",\n",
    "              \"hushold\", \"hushald\", \"folk\", \"samfunn\", \"barn\", \"born\", \"famili\"\n",
    "              ]\n",
    "\n",
    "termlist_2d = [\"poor household\", \"poor people\", \"poor communit\", \"poor child\", \"poor famil\", \"poor relief\",\n",
    "               \"low income household\", \"low-income household\",\"low income people\", \"low-income people\",\"low income communit\", \"low-income communit\",\"low income famil\", \"low-income famil\"\n",
    "              ]\n",
    "#Testing revealed that \"poor\" AND people terms mostly found medical results (e.g. \"children of mothers with poor iodine intake\"), therefore \"poor\" is combined in phrases. This is only an issue in English.\n",
    "#In the same way, \"low income\" is combined like \"poor\" - without doing so, there are too many results about \"low income countries\" \n",
    "\n",
    "phrasedefault1_2a = r'(?:{})'.format('|'.join(termlist1_2a))\n",
    "phrasedefault1_2b = r'(?:{})'.format('|'.join(termlist1_2b))\n",
    "phrasedefault1_2c = r'(?:{})'.format('|'.join(termlist1_2c))\n",
    "phrasedefault1_2d = r'(?:{})'.format('|'.join(termlist_2d))"
   ]
  },
  {
   "cell_type": "code",
   "execution_count": null,
   "id": "5868d8d7-7b56-48c2-bea3-a357ef755350",
   "metadata": {
    "colab": {
     "base_uri": "https://localhost:8080/"
    },
    "id": "WSUKPLNFq6wH",
    "outputId": "d8b67fb1-f943-4015-fff0-6339360c16db"
   },
   "outputs": [],
   "source": [
    "#Search 1\n",
    "Data.loc[(\n",
    "    (Data['result_title'].str.contains(phrasedefault1_2a, na=False, case=False))\n",
    "    | ((Data['result_title'].str.contains(phrasedefault1_2b, na=False, case=False)) & (Data['result_title'].str.contains(phrasedefault1_2c, na=False, case=False)))\n",
    "    | (Data['result_title'].str.contains(phrasedefault1_2d, na=False, case=False))\n",
    "    ),\"tempsdg01_02\"] = \"SDG01_02\"\n",
    "\n",
    "print(\"Number of results = \", len(Data[(Data.tempsdg01_02 == \"SDG01_02\")])) "
   ]
  },
  {
   "cell_type": "code",
   "execution_count": null,
   "id": "ed9c2d05-7774-421e-a871-64c874fba038",
   "metadata": {
    "colab": {
     "base_uri": "https://localhost:8080/",
     "height": 1000
    },
    "id": "N61k67bjq6wI",
    "outputId": "59e022f7-525e-45df-f118-22cce9421e33"
   },
   "outputs": [],
   "source": [
    "#Results\n",
    "test=Data.loc[(Data.tempsdg01_02 == \"SDG01_02\"), (\"result_id\", \"result_title\")]\n",
    "test.iloc[0:5, ]"
   ]
  },
  {
   "cell_type": "markdown",
   "id": "a7a36396-aec2-444b-bfcc-b08ef491914d",
   "metadata": {
    "id": "28QC5YCmq6wD"
   },
   "source": [
    "### SDG 1.3\n",
    "\n",
    "*1.3 Implement nationally appropriate social protection systems and measures for all, including floors, and by 2030 achieve substantial coverage of the poor and the vulnerable*\n",
    "\n",
    "*Innføre nasjonalt tilpassede sosiale velferdsordninger og tiltak for alle, inkludert minstestandarder, og innen 2030 oppnå en vesentlig dekning av fattige og sårbare*\n",
    "\n",
    "Here the phrases used in WOS syntax have been merged. In the title and abstract search, the target was split into phrases because some of the terms worked well alone, but others were too general and thus were used combined with \"poor and vulnerable\" groups (see documentation in the WOS strings for how these were established). This was done even though the target applies to all people. However, here, with the title search, we do not think that this restriction is needed, and therefore is removed. \n",
    "\n",
    "We have also included some Norwegian-specific terminology/names for social support schemes, such as \"frikort\", \"folketrygd\" and \"NAV\" (Norwegian Labour and Welfare Administration; https://www.nav.no/en/home/about-nav/what-is-nav).\n"
   ]
  },
  {
   "cell_type": "code",
   "execution_count": null,
   "id": "72b33bfd-f458-40e9-a583-15998d02d832",
   "metadata": {
    "id": "Ub1aKSj8q6wF"
   },
   "outputs": [],
   "source": [
    "#Termlists\n",
    "termlist1_3a = [\"welfare system\", \"welfare service\", \"social security\", \"social service\", \"social assistance\", \"social floor\", \n",
    "                \"social safety net\", \"safety net program\",\n",
    "                \"social protection\", \"social benefits\" , \"social insurance\", \"social care service\",\n",
    "                \"basic income\" , \"income security\" , \"guaranteed income\" , \"living allowance\" , \"housing assistance\",\n",
    "                \"cash benefit\" , \"cash transfer\", \"cash plus program\",\n",
    "                \"school feeding\" , \"free school meal\" , \"food stamp program\" , \"nutrition assistance program\" , \"food assistance program\" , \"WIC program\" , \"WIC benefits\",\n",
    "                \"labour market polic\" , \"labor market polic\" , \"labour market intervention\" , \"labor market intervention\", \"labour market program\" , \"labor market program\" , \"public works program\",\n",
    "                \"unemployment benefit\" , \"unemployment compensation\" , \"unemployment insurance\" , \"unemployment allowance\" , \n",
    "                \"disability benefit\" , \"disability allowance\" , \"disability pension\" , \"disability tax credit\" , \"disability insurance\", \n",
    "                \"health care benefit\" , \"sickness benefit\" , \"sick benefit\" , \"sick pay\" , \"paid sick leave\" , \"paid medical leave\" , \"sickness allowance\",\n",
    "                \"maternity pay\" , \"maternity insurance\" , \"maternity benefit\" , \"maternity allowance\" , \"paid maternity leave\" , \n",
    "                \"parental benefit\" , \"paid parental leave\" , \"paid family leave\" , \"family leave tax credit\" , \"parental leave tax credit\",\n",
    "                \"child benefit\" , \"child tax credit\" , \"child allowance\",\n",
    "                \"pension insurance\" , \"pension plan\" , \"pension benefit\" , \"public pension\" , \"state pension\",\n",
    "                \n",
    "                \"velferdssystem\", \"velferdstjeneste\", \"velferdsteneste\", \"velferdsgode\", \"velferdsordning\", \"velferdsmodell\", \"velferdspolitikk\", \n",
    "                \"folketrygd\", \"trygdeordning\", \"sikkerhetsnett\", \"trygderett\", \n",
    "                \"sosialpolitiske ordning\", \"sosialhjelp\",\n",
    "                \"gratis skolemat\", \"gratis skolemåltid\",\n",
    "                \"arbeidsledighetstrygd\", \"arbeidsløysetrygd\", \"alderspensjon\", \"uførepensjon\", \"sykepenger\", \"sjukepengar\", \"frikort\",\n",
    "                \"barnetrygd\", \"foreldrepermisjon\", \"svangerskapspermisjon\", \"foreldrefradrag\", \"foreldrefrådrag\", \"foreldrepenger\", \"fedrekvote\", \"mødrekvote\"\n",
    "              ]\n",
    "#\"sikkerhetsnett\"(NO) is quite a general term but works ok\n",
    "\n",
    "termlist1_3b = [\"NAV \"] #for searching with case=TRUE. \"NAV\"(NO) is the local Norwegian welfare agency\n",
    "\n",
    "\n",
    "phrasedefault1_3a = r'(?:{})'.format('|'.join(termlist1_3a))\n",
    "phrasedefault1_3b = r'(?:{})'.format('|'.join(termlist1_3b))\n"
   ]
  },
  {
   "cell_type": "code",
   "execution_count": null,
   "id": "c693c6e3-07ed-4b35-a708-121c7928480f",
   "metadata": {
    "colab": {
     "base_uri": "https://localhost:8080/"
    },
    "id": "WSUKPLNFq6wH",
    "outputId": "d8b67fb1-f943-4015-fff0-6339360c16db"
   },
   "outputs": [],
   "source": [
    "#Search 1\n",
    "Data.loc[(\n",
    "    (Data['result_title'].str.contains(phrasedefault1_3a, na=False, case=False))\n",
    "    | (Data['result_title'].str.contains(phrasedefault1_3b, na=False, case=True))\n",
    "    ),\"tempsdg01_03\"] = \"SDG01_03\"\n",
    "\n",
    "print(\"Number of results = \", len(Data[(Data.tempsdg01_03 == \"SDG01_03\")])) "
   ]
  },
  {
   "cell_type": "code",
   "execution_count": null,
   "id": "a78a2a8b-0eb4-4e01-842e-ca14c1eb8c7a",
   "metadata": {
    "colab": {
     "base_uri": "https://localhost:8080/",
     "height": 1000
    },
    "id": "N61k67bjq6wI",
    "outputId": "59e022f7-525e-45df-f118-22cce9421e33"
   },
   "outputs": [],
   "source": [
    "#Results\n",
    "test=Data.loc[(Data.tempsdg01_03 == \"SDG01_03\"), (\"result_id\", \"result_title\")]\n",
    "test.iloc[0:5, ]"
   ]
  },
  {
   "cell_type": "markdown",
   "id": "2078a13e-b313-4c99-8401-f0d870342c86",
   "metadata": {
    "id": "28QC5YCmq6wD"
   },
   "source": [
    "### SDG 1.4\n",
    "\n",
    "*1.4 By 2030, ensure that all men and women, in particular the poor and the vulnerable, have equal rights to economic resources, as well as access to basic services, ownership and control over land and other forms of property, inheritance, natural resources, appropriate new technology and financial services, including microfinance*\n",
    "\n",
    "*Innen 2030 sikre at alle menn og kvinner, særlig fattige og sårbare, har lik rett til økonomiske ressurser og tilgang til grunnleggende tjenester, til å eie og kontrollere jord og andre former for eiendom, og til arv, naturressurser, ny teknologi og finansielle tjenester, inkludert mikrofinansiering*\n",
    "\n",
    "Like 1.3, many of the terms in the target were quite general. So although the target interpretation was for all people, to make the string find relevant results in an abstract search we combined all 3 phrases with \"poor and vulnerable\" groups (see documentation in the WOS strings for how these were established). However, here, with the title search, we do not think that this restriction is needed, and therefore is removed. "
   ]
  },
  {
   "cell_type": "markdown",
   "id": "ad044c96-5131-4762-9423-8396d4219aec",
   "metadata": {},
   "source": [
    "#### Phrase 1"
   ]
  },
  {
   "cell_type": "code",
   "execution_count": null,
   "id": "de5cb0e5-9c2e-4481-b141-1e8b3de37370",
   "metadata": {
    "id": "Ub1aKSj8q6wF"
   },
   "outputs": [],
   "source": [
    "#Termlists\n",
    "\n",
    "termlist1_4a = [\"financial inclusion\", \"unbanked\",\n",
    "                \"microfinanc\", \"micro-financ\", \"microinsurance\", \"micro-insurance\", \"microcredit\", \"micro-credit\", \"microloan\", \"micro-loan\",\n",
    "                \"mikrofinans\", \"mikrokreditt\", \"mikroinnskudd\", \"mikroforsikring\"\n",
    "              ]\n",
    "\n",
    "termlist1_4b = [\"access\" , \"equitab\" , \"equity\" , \"equality\" , \"equal\", \n",
    "                \"ownership\" , \"control\" , \"right\" , \"empower\" , \"inclusion\",\n",
    "                \"affordab\" , \"pro poor\" , \"pro-poor\", \"inexpensive\" , \"free of charge\" , \"free service\",\n",
    "                \"inaccessib\" , \"barrier\" , \"obstacle\" , \"unequal\" , \"inequalit\" , \"inequitab\" , \"exclusion\", \n",
    "                \"unaffordab\" , \"expensive\",\n",
    "\n",
    "                \"tilgang\", \"tilgjenge\", \"likestilling\", \"likhet\", \"likheit\", \"rettferd\", \"rettvis\",\n",
    "                \"kontroll\", \"rettighet\", \"rettigheit\", \"inkludering\", \"inkluderende\", \"inkluderande\", \"ekskludering\", \"marginalis\", \"myndiggjør\", \"myndiggjer\",\n",
    "                \"dyre\", \"ikke råd\", \"ikkje råd\"\n",
    "                ] \n",
    "                #\"equity\" etc. will cover \"inequity\" due to automatic truncation\n",
    "\n",
    "termlist1_4c = [\"a bank\" , \"bank account\" , \"banking\" , \"bank services\", \"financial service\", \"monetary service\", \"economic service\",\n",
    "                \"digital finance\", \"mobile money\", \"electronic payment\", \"digital payment\", \"fintech\",\n",
    "                \"credit\", \"savings account\", \"insurance\", \"payment service\", \"transfer service\", \"transfer fund\",\n",
    "                \"financial resource\", \"monetary resource\", \"economic resource\", \"financial asset\", \"economic asset\", \"financial opportunit\",\n",
    "\n",
    "                \"bankkonto\", \"bankkunde\", \"sparebank\", \"banktjenester\", \"finansielle tjenester\", \"banktenester\", \"finansielle tenester\",\n",
    "                \"kreditt\", \"lån\", \"sparekonto\", \"forsikring\", \"betalingsløsning\", \"betalingsløysing\", \"betalingstjeneste\", \"betalingsteneste\", \"digitale penger\", \"digitale pengar\", \"nettbank\", \"mobilbank\",\n",
    "                \"finansielle ressurs\", \"økonomiske ressurs\"\n",
    "                ]\n",
    "#\"Saving\" (=\"sparing\" NO) are not used here as they mostly add noise from \"energy saving\", \"cost savings\" or \"nerve-sparing\" (medical). \"seed banks\" are also an issue. \n",
    "\n",
    "phrasedefault1_4a = r'(?:{})'.format('|'.join(termlist1_4a))\n",
    "phrasedefault1_4b = r'(?:{})'.format('|'.join(termlist1_4b))\n",
    "phrasedefault1_4c = r'(?:{})'.format('|'.join(termlist1_4c))"
   ]
  },
  {
   "cell_type": "code",
   "execution_count": null,
   "id": "890477fc-6e94-4ac0-a80f-63ed2d078a4f",
   "metadata": {
    "colab": {
     "base_uri": "https://localhost:8080/"
    },
    "id": "WSUKPLNFq6wH",
    "outputId": "d8b67fb1-f943-4015-fff0-6339360c16db"
   },
   "outputs": [],
   "source": [
    "#Search 1\n",
    "Data.loc[(\n",
    "    (Data['result_title'].str.contains(phrasedefault1_4a, na=False, case=False))\n",
    "    | ((Data['result_title'].str.contains(phrasedefault1_4b, na=False, case=False)) & (Data['result_title'].str.contains(phrasedefault1_4c, na=False, case=False)))\n",
    "    ),\"tempsdg01_04\"] = \"SDG01_04\"\n",
    "\n",
    "print(\"Number of results = \", len(Data[(Data.tempsdg01_04 == \"SDG01_04\")])) "
   ]
  },
  {
   "cell_type": "code",
   "execution_count": null,
   "id": "6aeb4552-7189-4177-9f15-6846cf526123",
   "metadata": {
    "colab": {
     "base_uri": "https://localhost:8080/",
     "height": 1000
    },
    "id": "N61k67bjq6wI",
    "outputId": "59e022f7-525e-45df-f118-22cce9421e33"
   },
   "outputs": [],
   "source": [
    "#Results\n",
    "test=Data.loc[(Data.tempsdg01_04 == \"SDG01_04\"), (\"result_id\", \"result_title\")]\n",
    "test.iloc[0:5, ]"
   ]
  },
  {
   "cell_type": "markdown",
   "id": "d0223f63-43a7-4f5c-b28b-5c69bb008f49",
   "metadata": {},
   "source": [
    "#### Phrase 2"
   ]
  },
  {
   "cell_type": "code",
   "execution_count": null,
   "id": "714031f1-1630-4e0b-95d8-8d8ec2977534",
   "metadata": {
    "id": "Ub1aKSj8q6wF"
   },
   "outputs": [],
   "source": [
    "#Term lists\n",
    "\n",
    "termlist1_4d = [\"access\" , \"equitab\" , \"equity\" , \"equality\" , \"equal\", \n",
    "                \"ownership\" , \"control\" , \"right\" , \"empower\" , \"inclusion\", \"sharing\",\n",
    "                \"affordab\" , \"pro poor\" , \"pro-poor\", \n",
    "                \"inaccessib\" , \"barrier\" , \"obstacle\" , \"unequal\" , \"inequalit\" , \"inequitab\" , \"exclusion\",\n",
    "                \"unaffordab\" , \"expensive\", \"insecurity\",\n",
    "                \"land rental\", \"income security\", \"secure livelihood\",\n",
    "\n",
    "                \"tilgang\", \"tilgjenge\", \"likestilling\", \"ulikhet\", \"rettferd\", \"rettvis\", \n",
    "                \"eierskap\", \"eigarskap\", \"kontroll\", \"rettighet\", \"rettigheit\", \"ekskludering\", \"marginali\", \"myndiggjør\", \"myndiggjer\",\n",
    "                \"dyre\", \"ikke råd\", \"ikkje råd\", \"sikkerhet\", \"sikkerheit\", \"usikker\",\n",
    "                \"eiendomsrett\", \"eigedomsrett\", \"landrett\", \"landfattig\", \"jobbtrygghe\", \"arvesystem\"\n",
    "                ]\n",
    "                #We removed \"inkludering\"(NO) because the results were about using farms in inclusive education\n",
    "\n",
    "termlist1_4e = [\"economic resource.*\", \"natural resources\",\n",
    "                \"employment\", \"decent work\", \"paid work\", \"labour market\", \"incomes\", \"livelihood\", \"livelihoods\", \"wealth\", \"inheritance\", \"utkomme\", \"utkome\", \n",
    "                \"farmland.*\", \"land resources\", \"farm\", \"farms\", \"tenure\", \"property\", \"home ownership\",\n",
    "\n",
    "                \"finansielle ressurs.*\", \"økonomiske ressurs.*\", \"naturressurs.*\",\n",
    "                \"lønnet arbeid\", \"løna arbeid\", \"anstendig arbeid.*\", \"arbeidsmark.*\", \"inntekt\", \"lønn\", \"levebrød\", \"underhold\", \"underhald\", \"rikdom\", \"arv\", \"arving\",\n",
    "                \"gård\", \"småbruk\", \"familiegård\", \"gårdsbruk\", \"gardsbruk\", \"dyrket mark\", \"dyrka mark\", \"dyrkamark\", \"kultivert mark\", \"landsressurs.*\", \n",
    "                \"eiendom.*\", \"eigedom.*\", \"forpakting\"\n",
    "                ]\n",
    "                #Here we are preventing truncation because \"arv\"(NO) is problematic. \n",
    "                #We don't use \"land\" by itself, because in Norwegian it throws up mostly noise (it means country). Specific terms with \"land\" are added in 4f.\n",
    "                #We also had to remove the term \"income\" and specify it as \"income inequality\" under 4f. This was because there were many results about e.g. health outcomes of a disease in a low-income country.\n",
    "\n",
    "termlist1_4f = [\"land rights\", \"rights to land\", \"right to land\", \"access to land\", \"land grab\", \"tenure security\", \"secure tenure\", \"income inequality\", \n",
    "                \"rettigheter til land\", \"rettigheiter til land\", \"rett til land\", \"jordleie\", \"jordleige\", \"leie av jord\", \"tomtefeste\",\n",
    "                \"bygsling\", \"tomterett\", \"servitutt\"\n",
    "                ]\n",
    "\n",
    "termlist1_4g = [\"intellectual property right\", \"wind farm\", \"quality control\", \"parasite control\", \"worm control\", \"pest control\"] \n",
    "#These are terms that we want to remove, that create noise (NOT search)\n",
    "\n",
    "phrasedefault1_4d = r'(?:{})'.format('|'.join(termlist1_4d))\n",
    "phrasespecific1_4e = r'\\b(?:{})\\b'.format('|'.join(termlist1_4e))\n",
    "phrasedefault1_4f = r'(?:{})'.format('|'.join(termlist1_4f))\n",
    "phrasedefault1_4g = r'(?:{})'.format('|'.join(termlist1_4g))"
   ]
  },
  {
   "cell_type": "code",
   "execution_count": null,
   "id": "528b8a63-617b-46a3-a2f0-73871cf02552",
   "metadata": {
    "colab": {
     "base_uri": "https://localhost:8080/"
    },
    "id": "WSUKPLNFq6wH",
    "outputId": "d8b67fb1-f943-4015-fff0-6339360c16db"
   },
   "outputs": [],
   "source": [
    "#Search \n",
    "Data.loc[(\n",
    "    (\n",
    "        (Data['result_title'].str.contains(phrasedefault1_4f, na=False, case=False))\n",
    "        |((Data['result_title'].str.contains(phrasespecific1_4e, na=False, case=False)) & (Data['result_title'].str.contains(phrasedefault1_4d, na=False, case=False)))\n",
    "    ) \n",
    "    & (~Data['result_title'].str.contains(phrasedefault1_4g, na=False, case=False))\n",
    "),\"tempsdg01_04\"] = \"SDG01_04\"\n",
    "\n",
    "print(\"Number of results = \", len(Data[(Data.tempsdg01_04 == \"SDG01_04\")])) "
   ]
  },
  {
   "cell_type": "code",
   "execution_count": null,
   "id": "d6e32c2a-1ec3-486d-9040-9a005a5bc22f",
   "metadata": {
    "colab": {
     "base_uri": "https://localhost:8080/",
     "height": 1000
    },
    "id": "N61k67bjq6wI",
    "outputId": "59e022f7-525e-45df-f118-22cce9421e33"
   },
   "outputs": [],
   "source": [
    "#Results\n",
    "test=Data.loc[(Data.tempsdg01_04 == \"SDG01_04\"), (\"result_id\", \"subcategory\", \"result_title\", \"SDG_action\", \"SDG_topic_wos\", \"mentionssdgno\", \"tempsdg01_04\")]\n",
    "test.iloc[0:5, ]"
   ]
  },
  {
   "cell_type": "markdown",
   "id": "9cc16856-56b8-43be-a2c4-c05f7bfb1eed",
   "metadata": {},
   "source": [
    "#### Phrase 3"
   ]
  },
  {
   "cell_type": "code",
   "execution_count": null,
   "id": "a32364ac-4f87-4ee0-869e-b2d5a702af32",
   "metadata": {
    "id": "Ub1aKSj8q6wF"
   },
   "outputs": [],
   "source": [
    "#Term lists\n",
    "\n",
    "termlist1_4h = [\"access\" , \"equitab\" , \"equity\" , \"equality\" , \"equal\", \"empower\" , \"inclusion\", \n",
    "                \"ownership\", \"right\",\n",
    "                \"affordab\" , \"pro poor\" , \"pro-poor\", \"inexpensive\", \"unaffordab\" , \"expensive\", \"low cost\", \"free of charge\", \"free service\",\n",
    "                \"inaccessib\" , \"barrier\", \"inequalit\", \"inequitab\", \"exclusion\",\n",
    "\n",
    "                \"tilgang\", \"tilgjenge\", \"likestilling\", \"ulikhet\", \"rettferd\", \"rettvis\", \"myndiggjør\", \"myndiggjer\",\n",
    "                \"eierskap\", \"eigarskap\", \"rettighet\", \"rettigheit\",\n",
    "                \"ikke råd\", \"ikkje råd\",\n",
    "                \"ekskludering\"\n",
    "                ]\n",
    "                #We removed \"inkludering\"(NO) because the results were about using farms in inclusive education             \n",
    "\n",
    "termlist1_4i = [\"basic service\", \"basic facilities\", \"essential service\",\n",
    "                \"drinking water\", \"sanitation\", \"basic hygiene\", \"hygiene service\", \"toilet\", \"handwashing\", \"sewage\", \"WASH facilities\", \n",
    "                \"clean water\",\n",
    "                \"waste collection\", \"waste service\", \"waste facilit\", \"garbage service\", \"garbage collection\", \n",
    "                \"health service\", \"health facilit\", \"basic health\", \"essential health\", \"healthcare\", \"health care\", \"medical care\", \"essential medical\",\n",
    "                \"school service\", \"school facilit\", \"basic school\", \"primary school\", \"basic education\", \"education service\", \"primary education\",\n",
    "                \"basic communication service\", \"basic telecommunication service\", \"basic information service\", \"basic information infrastructure\",\n",
    "                \"electricity\", \"energy service\", \"modern energy\", \"clean fuel\", \"clean energy\", \"modern energy\",\n",
    "                \"public open space\", \"public space\", \"public green space\",\n",
    "                \"basic mobility\", \"urban mobility\", \"rural mobility\", \"all-season road\", \"transport service\", \"public transport\",\n",
    "\n",
    "                \"grunnleggende tjeneste\", \"grunnleggjande teneste\", \"greunnleggende fasilitet\", \n",
    "                \"drikkevann\", \"drikkevatn\", \"grunnleggende hygiene\", \"grunnleggjande hygiene\", \"kloakk\", \"toalett\", \"vannklosett\", \"vassklosett\", \"håndvask\", \"handvask\", \"sanitær\",\n",
    "                \"rent vann\", \"reint vatn\", \"reint vann\", \"innlagt vann\", \"innlagt vatn\", \"vanntilgang\", \"vannforsyning\",\n",
    "                \"avfallstjeneste\", \"avfallsteneste\", \"søppeltømming\", \"avfallsinnsamling\", \"bosteneste\", \"bosinnsamling\", \"bostømming\", \"renovasjon\",\n",
    "                \"helsetjeneste\", \"helseteneste\", \"fastlege\",\"helsevesen\",\n",
    "                \"ungdomsskole\", \"ungdomsskule\", \"barneskole\", \"barneskule\", \"grunnleggende utdannin\", \"grunnleggjande utdannin\", \n",
    "                \"kommunikasjonstjenester\", \"kommunikasjonstenester\", \"kommunikasjonsinfrastruktur\", \"grunnleggende kommunikasjon\",\n",
    "                \"energitjeneste\", \"energiteneste\", \"energilever\", \"elektrisitet\", \"energiforsyning\", \"kraftforsyning\", \"moderne energi\",\n",
    "                \"offentlig rom\", \"offentlige rom\", \"offentlege rom\", \"offentlege rom\", \"grønt areal\", \"grønne areal\", \"grøntområde\", \"friområde\", \"friareal\", \"rekreasjonsområde\",\n",
    "                \"offentlig transport\", \"offentlige transport\", \"offentleg transport\", \"offentlege transport\", \"kollektivtransport\", \"kollevktivtilb\", \"transport ordning\", \n",
    "                \"mobilitet\"\n",
    "                ] #\"skole\"(NO) is limited to specific basic levels here to avoid its use in Norwegian university names, e.g. \"Høyskole\"\n",
    "\n",
    "termlist1_4jnot = [\"Authenticated Access\", \"Access Control\"]\n",
    "#terms from ICT that are used a lot in healthcare (i.e. technical access and security) that we want to remove\n",
    "\n",
    "phrasedefault1_4h = r'(?:{})'.format('|'.join(termlist1_4h))\n",
    "phrasedefault1_4i = r'(?:{})'.format('|'.join(termlist1_4i))\n",
    "phrasedefault1_4jnot = r'(?:{})'.format('|'.join(termlist1_4jnot))"
   ]
  },
  {
   "cell_type": "code",
   "execution_count": null,
   "id": "b975bc54-558f-4126-b36c-78b733a20b4d",
   "metadata": {
    "colab": {
     "base_uri": "https://localhost:8080/"
    },
    "id": "WSUKPLNFq6wH",
    "outputId": "d8b67fb1-f943-4015-fff0-6339360c16db"
   },
   "outputs": [],
   "source": [
    "#Search \n",
    "Data.loc[(\n",
    "    (Data['result_title'].str.contains(phrasedefault1_4h, na=False, case=False)) \n",
    "    & (Data['result_title'].str.contains(phrasedefault1_4i, na=False, case=False))\n",
    "),\"tempsdg01_04\"] = \"SDG01_04\"\n",
    "\n",
    "print(\"Number of results = \", len(Data[(Data.tempsdg01_04 == \"SDG01_04\")])) "
   ]
  },
  {
   "cell_type": "code",
   "execution_count": null,
   "id": "3055a696-d406-4ed5-9588-e707f2c2fe06",
   "metadata": {
    "colab": {
     "base_uri": "https://localhost:8080/",
     "height": 1000
    },
    "id": "N61k67bjq6wI",
    "outputId": "59e022f7-525e-45df-f118-22cce9421e33"
   },
   "outputs": [],
   "source": [
    "#Results\n",
    "test=Data.loc[(Data.tempsdg01_04 == \"SDG01_04\"), (\"result_id\", \"result_title\")]\n",
    "test.iloc[0:5, ]"
   ]
  },
  {
   "cell_type": "markdown",
   "id": "0ee494d4-fc34-456e-9f41-2e13a93ed49f",
   "metadata": {
    "id": "28QC5YCmq6wD"
   },
   "source": [
    "### SDG 1.5\n",
    "\n",
    "*1.5 By 2030, build the resilience of the poor and those in vulnerable situations and reduce their exposure and vulnerability to climate-related extreme events and other economic, social and environmental shocks and disasters*\n",
    "\n",
    "*Innen 2030 bygge opp motstandskraften til fattige og personer i utsatte situasjoner, slik at de blir mindre utsatt for og mindre sårbare for klimarelaterte ekstremhendelser og andre økonomiske, sosiale og miljømessige påkjenninger og katastrofer*\n",
    "\n",
    "Here under terms for indigenous and minority groups, we have included Norwegian-specific groups (source: Utdanningsdirektoratet (n.d.) Nasjonale minoriteter. https://www.udir.no/laring-og-trivsel/nasjonale-minoriteter/hva-er-en-nasjonal-minoritet/ (accessed Nov 2022))\n"
   ]
  },
  {
   "cell_type": "code",
   "execution_count": null,
   "id": "d38c6d0f-3cfd-4df1-bc41-9f96862117ae",
   "metadata": {
    "id": "Ub1aKSj8q6wF"
   },
   "outputs": [],
   "source": [
    "#Termlists\n",
    "\n",
    "termlist1_5a = [\"sendai\", \"protect\", \"safeguard\", \"safety\", \"safety net\", \"social protection\", \"social floor\", \"social security\",\n",
    "                \"coping\", \"cope\", \"adapt\", \"resilien\", \"mitigat\", \"prepared\", \"protection\", \"early warning\", \"impact\", \"vulnerab\", \"exposure\",\n",
    "                # \"disaster strateg\", \"disaster relief\", \"disaster manag\", \"disaster polic\", \"medical respon\", \"risk plan\", \"risk strateg\", \"risk manag\", \"risk polic\",\n",
    "                \"planning\", \"disaster plan\", \"strateg\", \"disaster reduc\", \"risk reduc\", \"relief\", \"manag\", \"program\", \"programme\", \"policy\", \"policies\", \n",
    "                \"medical response\", \"medical respond\", \"emergency respon\",\n",
    "\n",
    "                \"beskytte\", \"verne\", \"sikkerhet\", \"sikkerheit\", \"sosialpolitiske ordning\", \"sosialhjelp\",\n",
    "                \"tåle\", \"tilpass\", \"forbered\", \"beredskap\", \"varsling\", \"varsel\", \"sårbar\", \"eksponer\", \"påvirkning\", \"påverknad\",\n",
    "                \"handlingsplan\", \"planer\", \"planar\", \"planlegging\", \"katastrofeplanlegging\", \"krisehandtering\", \"krisehåndtering\", \"risikoreduksjon\", \"strategi\", \"politikk\", \"retningslinj\",\n",
    "                \"nødhjelp\", \"naudhjelp\", \"feltsykehus\", \"feltsjukehus\"\n",
    "                ]\n",
    "                #terms commented out are already covered by other terms\n",
    "\n",
    "termlist1_5b = [\"disaster\", \"catastrophe\", \"hazard\",\n",
    "                \"extreme climat\", \"extreme weather\", \"extreme precipitation\", \"extreme rain\", \"extreme snow\", \"extreme temperatur\", \"extreme storm\", \"extreme wind\", \n",
    "                 \"rogue wave\", \"tsunami\", \"cyclone\", \"typhoon\", \"hurricane\", \"tornado\", \n",
    "                 \"drought\", \"flood\", \n",
    "                 \"avalanche\", \"landslide\", \"land-slide\", \"land slide\", \"rockslide\", \"rock-slide\", \"rock slide\", \"rockfall\", \"surface collapse\", \"mudflow\", \"mud-flow\", \n",
    "                 \"cold spell\", \"cold wave\", \"dzud\", \"blizzard\", \"snowstorm\", \n",
    "                 \"heatwave\", \"heat-wave\", \n",
    "                 \"earthquake\", \"volcan\", \"ash cloud\", \"ash fall\", \"tephra\", \n",
    "                 \"wildfire\", \"wild-fire\", \"wild fire\", \"forest-fire\", \"forest fire\", \"forestfire\", \n",
    "                 \"sea-level rise\", \"sea-level change\", \"rising sea-level\", \n",
    "                 \"outbreak\", \"pandemic\", \"epidemic\", \n",
    "                 \"armed conflict\", \"political instability\", \"civil instability\", \"politically volatile\", \n",
    "                 \"unrest\", \"financial crash\", \"financial shock\", \"economic downturn\", \"economic shock\",\n",
    "                \n",
    "                \"katastrof\", \"krise\", \n",
    "                 \"ekstremvær\", \"ekstremver\", \n",
    "                 \"tropisk lavtrykk\", \"tropisk lågtrykk\", \"flodbølg\", \"monsterbølg\", \"ekstrembølg\", \n",
    "                 \"orkan\",  \"tyfon\", \"syklon\", \"snøstorm\", \n",
    "                 \"flom\", \"flaum\", \"oversvøm\", \"ovefløym\", \"tørke\", \n",
    "                 \"snøskred\", \"skred\", \"snøras\", \"lavine\", \"jordskred\", \"jordras\", \"sørpeskred\", \"leirras\", \"leirskred\", \"steinras\", \"steinskred\", \"synkehull\", \n",
    "                 \"uvanlig kulde\", \"uvanlig kaldt\", \"uvanleg kulde\", \"uvanleg kaldt\", \"ekstrem kuld\", \"ekstremkuld\", \"kuldebølg\", \"snøstorm\", \n",
    "                 \"varmebølg\", \"hetebølg\", \"ekstrem varm\", \"ekstremvarm\", \"uvanlig varm\", \"uvanleg varm\", \n",
    "                 \"jordskjelv\", \"vulkan\", \"askenedfall\", \"oskenedfall\", \"askesky\", \"oskesky\", \n",
    "                 \"skogbrann\", \"gressbrann\", \"grasbrann\", \"lyngbrann\", \n",
    "                 \"havnivåstigning\", \"stormflo\", \n",
    "                 \"pandemi\", \"epidemi\", \"utbrudd\", \"utbrot\",\n",
    "                 \"politisk ustabilitet\", \"væpnede konflikter\", \"væpnet konflikt\", \"væpna konflikt\", \"borgerkrig\", \"borgarkrig\", \"fremmedkrig\", \"finanskrise\", \"finanssjokk\", \n",
    "                 \"finanskatastrofe\", \"finanskræsj\", \"økonomisk nedgang\", \"økonomisk sjokk\", \"økonomisk katastrofe\"\n",
    "                ] \n",
    "\n",
    "termlist1_5c = [\"war\", \"wars\", \n",
    "                \"krig\", \"ras\"]  #terms from 5b where we need to prevent truncation (lots of \"etterkrigstid\"(NO))\n",
    "\n",
    "termlist1_5d = [\"poverty\", \"rural poor\", \"urban poor\", \"working poor\", \"destitute\", \"low income\", \"low-income\", \"poor households\", \"poorest households\", \"poor communit\", \"poorest communit\", \n",
    "                \"social capital\",\n",
    "                \"disadvantaged\", \"marginalis\", \"marginalized\", \"vulnerable\", \"discriminated\",\n",
    "                \"slum\", \"shanty town\", \"informal settlement\", \"homeless\",\n",
    "                \"patient\", \"disabled\", \"disabilities\", \"disability\",\n",
    "                \"older people\", \"old people\", \"retired people\", \"elderly\", \"elders\", \"pensioner\", \n",
    "                \"unemployed\",\n",
    "                \"women\", \"woman\", \"girl\", \"pregnan\", \"maternity\", \"child\", \"baby\", \"babies\", \"newborn\", \"toddler\", \"youth\", \"infant\",\n",
    "                \"indigenous\", \"minorities\", \"minority\", \"refugee\", \"asylum\", \"immigrant\",\n",
    "                \"trans people\", \"transgender\", \"lgbt\", \"lesbian\", \"gay\", \"bisexual\", \"intersex\",\n",
    "                \"least developed countr\", \"least developed nation\", \"developing countr\", \"developing nation\", \"developing states\", \"island developing state\", \"developing world\", \n",
    "                \"less developed countr\", \"less developed nation\", \n",
    "                \"under developed countr\", \"under developed nation\", \"underdeveloped countr\", \"underdeveloped nation\",\n",
    "                \"underserved countr\", \"underserved nation\", \"deprived countr\", \"deprived nation\",\n",
    "                \"middle income countr\", \"middle income nation\", \"middle-income countr\", \"middle-income nation\", \n",
    "                \"low income countr\", \"low income nation\", \"lower income countr\", \"lower income nation\", \"low-income countr\", \"low-income nation\", \"lower-income countr\", \"lower-income nation\", \n",
    "                \"poor countr\", \"poor nation\", \"poorer countr\", \"poorer nation\", \n",
    "                \"third world\", \"global south\", \"transitional countr\", \"emerging economies\", \"emerging nation\", \n",
    "\n",
    " \n",
    "                \"fattig\", \"lavinntekt\", \"lav inntekt\", \"låginntekt\", \"låg inntekt\",\n",
    "                \"sårbar\", \"diskrimin\",\n",
    "                \"hjemløs\",\"heimlaus\",\n",
    "                \"pasient\", \"uføre\", \"funksjonshem\",\n",
    "                \"eldre\", \"de gamle\", \"dei gamle\",\n",
    "                \"arbeidsløs\",\"arbeidslaus\",\n",
    "                \"kvinne\", \"jente\", \"gravid\", \"barn\", \"born\", \"babier\", \"nyfødt\",\"nyfødd\",\n",
    "                \"urfolk\", \"urinnvånarar\", \"urbefolkning\", \"urinnvånere\", \"sápmi\", \"sami\", \"minoritet\", \"jøder\", \"jådar\", \"kvener\", \"kvenar\", \"norskfinn\", \"skogfinn\", \"romani\", \"tatere\", \"taterar\", \"asylsøk\", \"flyktning\", \"innvandrer\", \"innvandrar\",\n",
    "                \"transperson\", \"lesbisk\", \"homofile\", \"bifile\", \"lbht\", \"interkjønn\",\n",
    "                \"utviklingsland\", \"u-land\", \"uland\", \"underutviklede land\", \"underutvikla land\", \"lavinntektsland\", \"låginntektsland\",\n",
    "                \"underpriviligerte land\", \"mellominntektsland\", \"ressurssvake land\", \"tredje verd\", \"fattige land\", \n",
    "                \"globale sør\", \"overgangsøkonomi\", \"fremvoksende økonomier\", \"framvoksende økonomier\", \"framveksande økonomi\"\n",
    "                \"framvoksende land\", \"fremvoksende land\", \"framveksande land\", \"bistandsland\", \"minst utviklede land\", \"små utviklingsøystat\", \"små øystat\",\n",
    "                \"kystløse utviklingsland\",\n",
    "                ] \n",
    "#The term \"same\" (NO, for Sami people) is difficult to include because of the English word \"same\".\n",
    "\n",
    "phrasedefault1_5a = r'(?:{})'.format('|'.join(termlist1_5a))\n",
    "phrasedefault1_5b = r'(?:{})'.format('|'.join(termlist1_5b))\n",
    "phrasespecific1_5c = r'\\b(?:{})\\b'.format('|'.join(termlist1_5c))\n",
    "phrasedefault1_5d = r'(?:{})'.format('|'.join(termlist1_5d))\n"
   ]
  },
  {
   "cell_type": "code",
   "execution_count": null,
   "id": "172b0a6f-738d-4b38-9136-a9521672a5ea",
   "metadata": {},
   "outputs": [],
   "source": [
    "#Search\n",
    "Data.loc[(\n",
    "    (\n",
    "        (Data['result_title'].str.contains(phrasedefault1_5a, na=False, case=False))\n",
    "        & ((Data['result_title'].str.contains(phrasedefault1_5b, na=False, case=False)) | (Data['result_title'].str.contains(phrasespecific1_5c, na=False, case=False)))\n",
    "    )\n",
    "    & \n",
    "    (\n",
    "        (Data['result_title'].str.contains(phrasedefault1_5d, na=False, case=False))\n",
    "        |(Data['LDCSIDS']==True)\n",
    "    )\n",
    "),\"tempsdg01_05\"] = \"SDG01_05\"\n",
    "print(\"Number of results = \", len(Data[(Data.tempsdg01_05 == \"SDG01_05\")]))  "
   ]
  },
  {
   "cell_type": "code",
   "execution_count": null,
   "id": "24609bf0-bb29-476c-a298-7b84f7259c34",
   "metadata": {
    "colab": {
     "base_uri": "https://localhost:8080/",
     "height": 1000
    },
    "id": "N61k67bjq6wI",
    "outputId": "59e022f7-525e-45df-f118-22cce9421e33"
   },
   "outputs": [],
   "source": [
    "#Results\n",
    "test=Data.loc[(Data.tempsdg01_05 == \"SDG01_05\"), (\"result_id\", \"result_title\")]\n",
    "test.iloc[0:5, ]"
   ]
  },
  {
   "cell_type": "markdown",
   "id": "5557860c-218a-42b8-82cf-d053baab9ca5",
   "metadata": {
    "id": "28QC5YCmq6wD"
   },
   "source": [
    "### SDG 1.a\n",
    "\n",
    "*1.a Ensure significant mobilization of resources from a variety of sources, including through enhanced development cooperation, in order to provide adequate and predictable means for developing countries, in particular least developed countries, to implement programmes and policies to end poverty in all its dimensions.*\n",
    "\n",
    "*Sikre en betydelig mobilisering av ressurser fra ulike kilder, blant annet gjennom økt utviklingssamarbeid, for å gi utviklingslandene, særlig de minst utviklede landene, tilstrekkelige og forutsigbare midler til å gjennomføre programmer og politikk for å utrydde alle former for fattigdom*\n"
   ]
  },
  {
   "cell_type": "markdown",
   "id": "2c4fca34-0a69-4c4f-ae28-e2ab2f6547a8",
   "metadata": {},
   "source": [
    "Here a change in structure is suggested - as this is a title search, a simplification, where some terms count as relevant without needing to mention \"poverty\". While a work about \"cooperation\" would still need to mention \"poverty\", works are included if terms such as \"official development aid\" (termlist_aaalt) are in the title. We also allow just poverty to be in the title, rather than poverty alleviation specifically. "
   ]
  },
  {
   "cell_type": "code",
   "execution_count": null,
   "id": "1ade0745-6900-4155-904c-3dec957dafee",
   "metadata": {
    "id": "Ub1aKSj8q6wF"
   },
   "outputs": [],
   "source": [
    "#Termlists\n",
    "termlist1_aa = [\"oda\", \"development spending\", \"fdi\", \n",
    "                \"aid\", \"assistance\", \"funding\", \"grant\", \"invest\", \"investment.*\", \"investing\", \"financial support\", \"financing\", \"resources\", \"capital flow.*\",\n",
    "                \"cooperation\", \"co-operation\", \"collaboration.*\", \"network.*\", \"partnership.*\"\n",
    "\n",
    "                \"utviklingssamarbeid.*\", \"utviklingsstøtte\", \"utviklingsstønad\", \"utviklingshjelp\", \"u-hjelp\",\n",
    "                \"midlar\", \"bistand.*\", \"økonomiske ressurs.*\", \"finansiel.*\", \"ressurs.*\", \"investering\", \"nødhjelp\", \"naudhjelp\",              \n",
    "                \"samarbeidsfond.*\", \"samarbeid.*\", \"nettverk\", \"partnerskap.*\", \"partnarskap.*\"\n",
    "              ]\n",
    "              #Here specifying truncation because \"ODA\", \"aid\", invest\" etc. need word boundaries\n",
    "\n",
    "#Alternative option - some terms may find relevant results without using the word poverty (e.g. \"development spending\")?\n",
    "termlist1_aaalt = [\"oda\", \"development spending\", \"development assistance\",\n",
    "                   \"bistand.*\",  \"utviklingssamarbeid.*\", \"utviklingsstøtte\", \"utviklingsstønad\", \"utviklingshjelp\", \"u-hjelp\"\n",
    "                   ]\n",
    "termlist1_aaalt2 = [\"fdi\", \"aid\", \"assistance\", \"funding\", \"grant\", \"invest\", \"investment.*\", \"investing\", \"financial support\", \"financing\", \"resources\", \"capital flow.*\",\n",
    "                    \"cooperation\", \"co-operation\", \"collaboration.*\", \"network.*\", \"partnership.*\"\n",
    "                    \n",
    "                    \"midlar\", \"økonomiske ressurs.*\", \"finansiel.*\", \"ressurs.*\", \"investering\", \"nødhjelp\", \"naudhjelp\",\"kapitalstrøm\",              \n",
    "                    \"samarbeidsfond.*\", \"samarbeid.*\", \"nettverk.*\", \"partnerskap.*\", \"partnarskap.*\"\n",
    "                   ]\n",
    "\n",
    "termlist1_ab = [\"poverty\", \"pro-poor\", \"antipoverty\",\n",
    "                \"fattig\"\n",
    "                ]\n",
    "\n",
    "phrasespecific1_aa = r'\\b(?:{})\\b'.format('|'.join(termlist1_aa))\n",
    "phrasespecific1_aaalt = r'\\b(?:{})\\b'.format('|'.join(termlist1_aaalt))\n",
    "phrasespecific1_aaalt2 = r'\\b(?:{})\\b'.format('|'.join(termlist1_aaalt2))\n",
    "phrasedefault1_ab = r'(?:{})'.format('|'.join(termlist1_ab))"
   ]
  },
  {
   "cell_type": "code",
   "execution_count": null,
   "id": "438b33f6-6bc0-4341-a861-886006d4269b",
   "metadata": {
    "colab": {
     "base_uri": "https://localhost:8080/"
    },
    "id": "WSUKPLNFq6wH",
    "outputId": "d8b67fb1-f943-4015-fff0-6339360c16db"
   },
   "outputs": [],
   "source": [
    "#Search 1 - within LMIC set\n",
    "Data.loc[(\n",
    "    (\n",
    "        (Data['result_title'].str.contains(phrasespecific1_aaalt, na=False, case=False))\n",
    "        |((Data['result_title'].str.contains(phrasespecific1_aaalt2, na=False, case=False)) & (Data['result_title'].str.contains(phrasedefault1_ab, na=False, case=False)))\n",
    "    )\n",
    "    & (Data['LMICs']==True)\n",
    "    ),\"tempsdg01_a\"] = \"SDG01_0a\"\n",
    "\n",
    "print(\"Number of results = \", len(Data.loc[(Data.tempsdg01_a == \"SDG01_0a\")])) "
   ]
  },
  {
   "cell_type": "code",
   "execution_count": null,
   "id": "80acc4a1-1b71-4726-a64f-5aed88b8f52c",
   "metadata": {
    "colab": {
     "base_uri": "https://localhost:8080/",
     "height": 1000
    },
    "id": "N61k67bjq6wI",
    "outputId": "59e022f7-525e-45df-f118-22cce9421e33"
   },
   "outputs": [],
   "source": [
    "#Results\n",
    "test=Data.loc[(Data.tempsdg01_a == \"SDG01_0a\"), (\"result_id\", \"result_title\")]\n",
    "test.iloc[0:7, ]"
   ]
  },
  {
   "cell_type": "markdown",
   "id": "77574a2c-cc9d-4b8e-a027-63e9251752f8",
   "metadata": {
    "id": "28QC5YCmq6wD"
   },
   "source": [
    "### SDG 1.b\n",
    "\n",
    "*1.b Create sound policy frameworks at the national, regional and international levels, based on pro-poor and gender-sensitive development strategies, to support accelerated investment in poverty eradication actions*\n",
    "\n",
    "*Opprette gode politiske rammeverk på nasjonalt, regionalt og internasjonalt nivå basert på utviklingsstrategier som gagner de fattige og ivaretar kjønnsperspektivet, med sikte på å øke investeringer i tiltak som bekjemper fattigdom*"
   ]
  },
  {
   "cell_type": "code",
   "execution_count": null,
   "id": "ad8f0ca4-6afb-4c34-b0cb-eecee5baccd8",
   "metadata": {
    "id": "Ub1aKSj8q6wF"
   },
   "outputs": [],
   "source": [
    "#Termlists\n",
    "termlist1_ba = [\"legislat\", \"program\", \"strateg\", \"policy\", \"policies\", \"planning\", \"framework\", \"initiativ\",\n",
    "                \"lovverk\", \"lovgiv\", \"politikk\", \"retningslinje\", \"utredning\", \"utgreiing\", \"rammeverk\", \"tiltaksplan\", \"planer\", \"planar\"]\n",
    "termlist1_ba_trunc = [\"law\", \"laws\", \"plan\", \"plans\"]\n",
    "\n",
    "termlist1_bb = [\"anti poverty\", \"anti-poverty\", \"antipoverty\"]\n",
    "\n",
    "termlist1_bc = [\"poverty\", \n",
    "                \"fattig\"]\n",
    "\n",
    "termlist1_bd = [\"minimi\", \"reduc\", \"mitigat\", \"alleviat\", \"tackl\", \"fight\", \"combat\",\n",
    "                \"ending\", \"eliminat\", \"eradicat\", \"prevent\", \"out of\", \"overcom\", \"escap\", \"relief\",\n",
    "\n",
    "                \"reduser\", \"bekjemp\", \"forhind\", \"nedkjemp\", \"motarbeid\", \"forebygg\", \"førebygg\", \"førebu\",\n",
    "                \"utrydd\", \"kvitt\", \"løft\", \"ut av \" \n",
    "                ]\n",
    "termlist1_bd_trunc = [\"mot\", \"imot\", \"kamp\", \"kampen\"] #(NO)\n",
    "\n",
    "phrasedefault1_ba = r'(?:{})'.format('|'.join(termlist1_ba))\n",
    "phrasespecific1_ba_trunc = r'\\b(?:{})\\b'.format('|'.join(termlist1_ba_trunc))\n",
    "phrasedefault1_bb = r'(?:{})'.format('|'.join(termlist1_bb))\n",
    "phrasedefault1_bc = r'(?:{})'.format('|'.join(termlist1_bc))\n",
    "phrasedefault1_bd = r'(?:{})'.format('|'.join(termlist1_bd))\n",
    "phrasespecific1_bd_trunc = r'\\b(?:{})\\b'.format('|'.join(termlist1_bd_trunc))"
   ]
  },
  {
   "cell_type": "code",
   "execution_count": null,
   "id": "3653c362-e107-4fbd-af2a-50a5e3aa6364",
   "metadata": {
    "colab": {
     "base_uri": "https://localhost:8080/"
    },
    "id": "WSUKPLNFq6wH",
    "outputId": "d8b67fb1-f943-4015-fff0-6339360c16db"
   },
   "outputs": [],
   "source": [
    "#Search 1\n",
    "Data.loc[(\n",
    "    ((Data['result_title'].str.contains(phrasedefault1_ba, na=False, case=False)) | (Data['result_title'].str.contains(phrasespecific1_ba_trunc, na=False, case=False)))\n",
    "    & \n",
    "    ((Data['result_title'].str.contains(phrasedefault1_bb, na=False, case=False)) \n",
    "    | (\n",
    "        (Data['result_title'].str.contains(phrasedefault1_bc, na=False, case=False)) \n",
    "        & ((Data['result_title'].str.contains(phrasedefault1_bd, na=False, case=False))| (Data['result_title'].str.contains(phrasespecific1_bd_trunc, na=False, case=False)))\n",
    "      )\n",
    "    )\n",
    "),\"tempsdg01_b\"] = \"SDG01_b\"\n",
    "\n",
    "print(\"Number of results = \", len(Data[(Data.tempsdg01_b == \"SDG01_b\")])) "
   ]
  },
  {
   "cell_type": "code",
   "execution_count": null,
   "id": "c34024ea-0e89-4e86-9c4c-fe9d22b51e3d",
   "metadata": {
    "colab": {
     "base_uri": "https://localhost:8080/",
     "height": 1000
    },
    "id": "N61k67bjq6wI",
    "outputId": "59e022f7-525e-45df-f118-22cce9421e33"
   },
   "outputs": [],
   "source": [
    "#Results\n",
    "test=Data.loc[(Data.tempsdg01_b == \"SDG01_b\"), (\"result_id\", \"result_title\")]\n",
    "test.iloc[0:5, ]"
   ]
  },
  {
   "cell_type": "markdown",
   "id": "9f83a2fb-7746-4e8f-b71e-90cd831bab95",
   "metadata": {
    "id": "28QC5YCmq6wD"
   },
   "source": [
    "### SDG 1 mentions\n",
    "\n",
    "Works mentioning SDG1.\n",
    "\n",
    "Here it was not neccesary to exclude the NOT terms used in a normal abstract search, so they are not used. But in other contexts/abstract searches it may be necessary to add them in again. \n",
    "\n",
    "\"SDG\" was also not searched for case-sensitive, as it seems to work ok without."
   ]
  },
  {
   "cell_type": "code",
   "execution_count": null,
   "id": "7349d882-21f8-4150-90de-6c7c6776562a",
   "metadata": {
    "id": "Ub1aKSj8q6wF"
   },
   "outputs": [],
   "source": [
    "#Termlists\n",
    "#Because \"SDG1\" is a part of e.g. \"SDG15\" I prevent right hand truncation in most termlists.\n",
    "\n",
    "termlist_sdg_a = [\"SDG 1\", \"SDGs 1\", \"SDG1\", \"sustainable development goal 1\", \n",
    "               \"bærekraftsmål 1\", \"berekraftsmål 1\"]\n",
    "termlist_sdg_b = [\"sustainable development goal\", \n",
    "               \"bærekraftsmål\", \"berekraftsmål\"]\n",
    "termlist_sdg_c = [\"goal 1\",\n",
    "               \"mål 1\"]\n",
    "termlist_sdg_d = [\"sustainable development goal.*\", \"SDG\", \"goal 1\", \n",
    "               \"bærekraftsmål\", \"berekraftsmål\", \"mål 1\"]\n",
    "termlist_sdg_e = [\"poverty\",\n",
    "                  \"fattig\"]\n",
    "                  \n",
    "termlist_sdg_f = [\"no poverty\",\"utrydde fattigdom\"]\n",
    "#Possible search for the short titles of the SDGs, to be used in a title search\n",
    "\n",
    "phrasespecific_sdg_a = r'(?:{})\\b'.format('|'.join(termlist_sdg_a))\n",
    "phrasedefault_sdg_b = r'(?:{})'.format('|'.join(termlist_sdg_b))\n",
    "phrasespecific_sdg_c = r'(?:{})\\b'.format('|'.join(termlist_sdg_c))\n",
    "phrasespecific_sdg_d = r'(?:{})\\b'.format('|'.join(termlist_sdg_d))\n",
    "phrasedefault_sdg_e = r'(?:{})'.format('|'.join(termlist_sdg_e))\n",
    "phrasedefault_sdg_f = r'(?:{})'.format('|'.join(termlist_sdg_f))"
   ]
  },
  {
   "cell_type": "code",
   "execution_count": null,
   "id": "fe097040-3ce4-4cf6-9a80-5427a8ed8d80",
   "metadata": {
    "colab": {
     "base_uri": "https://localhost:8080/"
    },
    "id": "WSUKPLNFq6wH",
    "outputId": "d8b67fb1-f943-4015-fff0-6339360c16db"
   },
   "outputs": [],
   "source": [
    "#Search 1\n",
    "Data.loc[(\n",
    "      (Data['result_title'].str.contains(phrasespecific_sdg_a, na=False, case=False))\n",
    "      |(Data['result_title'].str.contains(phrasedefault_sdg_f, na=False, case=False))\n",
    "      |\n",
    "      (\n",
    "        (Data['result_title'].str.contains(phrasedefault_sdg_b, na=False, case=False))\n",
    "        & (Data['result_title'].str.contains(phrasespecific_sdg_c, na=False, case=False))\n",
    "      )\n",
    "      |\n",
    "      (\n",
    "         (Data['result_title'].str.contains(phrasespecific_sdg_d, na=False, case=False))\n",
    "         & (Data['result_title'].str.contains(phrasedefault_sdg_e, na=False, case=False))\n",
    "      )\n",
    "    ),\"tempmentionsdg01\"] = \"SDG01\"\n",
    "\n",
    "print(\"Number of results = \", len(Data[(Data.tempmentionsdg01 == \"SDG01\")])) "
   ]
  },
  {
   "cell_type": "code",
   "execution_count": null,
   "id": "3dff15d4-acca-4971-8ddf-ad8f84400467",
   "metadata": {
    "colab": {
     "base_uri": "https://localhost:8080/",
     "height": 1000
    },
    "id": "N61k67bjq6wI",
    "outputId": "59e022f7-525e-45df-f118-22cce9421e33"
   },
   "outputs": [],
   "source": [
    "#Results\n",
    "test=Data.loc[(Data.tempmentionsdg01 == \"SDG01\"), (\"result_id\", \"result_title\")]\n",
    "test.iloc[0:5, ]"
   ]
  },
  {
   "cell_type": "markdown",
   "id": "ddf9f61b-966e-4667-bc38-dee67138c2f1",
   "metadata": {},
   "source": [
    "## SDG 2"
   ]
  },
  {
   "cell_type": "markdown",
   "id": "a632acd2-5151-4819-91e8-d96596b39178",
   "metadata": {
    "id": "tt-Bv9BcnnUQ"
   },
   "source": [
    "### SDG 2.1\n",
    "\n",
    "*2.1 By 2030, end hunger and ensure access by all people, in particular the poor and people in vulnerable situations, including infants, to safe, nutritious and sufficient food all year round.*\n",
    "\n",
    "*Innen 2030 utrydde sult og sikre alle mennesker, særlig fattige og personer i utsatte situasjoner, inkludert spedbarn, tilgang til nok, trygg og sunn mat hele året*"
   ]
  },
  {
   "cell_type": "markdown",
   "id": "583003c1-bcc2-450e-92fb-75b67b963688",
   "metadata": {
    "id": "YXc1Vs2DZm3D"
   },
   "source": [
    "#### Phrase 1"
   ]
  },
  {
   "cell_type": "code",
   "execution_count": null,
   "id": "2f5db91f-0b6e-4eee-8b13-c21b4ee9d3f1",
   "metadata": {
    "id": "J1OyLMbMnhye"
   },
   "outputs": [],
   "source": [
    "#Term lists\n",
    "termlist2_1a = [\"end hunger\", \"ending hunger\", \"ends hunger\", \"world hunger\", \"hunger and poverty\", \"poverty and hunger\", \"child hunger\", \n",
    "                \"famine\", \"undernourish\"\n",
    "                \"food insecurity\", \"nutritional insecurity\",\n",
    "                \n",
    "                \"utrydde sult\", \"utrydde svolt\", \"utrydje svolt\", \"utrydda svolt\", \"utrydja svolt\", \"bekjempe sult\", \"bekjempe svolt\", \"sultne barn\", \"barn sult\", \"barnesult\",\n",
    "                \"sult og fattigdom\", \"fattigdom og sult\", \"svolt og fattigdom\", \"fattigdom og svolt\", \"global sult\", \"global svolt\", \n",
    "                \"hungersnød\", \"hungersnaud\", \"matusikkerhet\", \"matmangel\"\n",
    "              ]\n",
    "\n",
    "phrasedefault2_1a = r'(?:{})'.format('|'.join(termlist2_1a))"
   ]
  },
  {
   "cell_type": "code",
   "execution_count": null,
   "id": "b3134c28-89eb-45bd-a617-f73150c3d4b6",
   "metadata": {
    "colab": {
     "base_uri": "https://localhost:8080/"
    },
    "id": "EI6ZVZnZpE5i",
    "outputId": "6d311a0d-f55f-43b8-c7a9-3aacd7f99354"
   },
   "outputs": [],
   "source": [
    "#Search 1\n",
    "Data.loc[(\n",
    "    (Data['result_title'].str.contains(phrasedefault2_1a, na=False, case=False))\n",
    "    ),\"tempsdg02_01\"] = \"SDG02_01\"\n",
    "\n",
    "print(\"Number of results = \", len(Data[(Data.tempsdg02_01 == \"SDG02_01\")])) "
   ]
  },
  {
   "cell_type": "code",
   "execution_count": null,
   "id": "1f81e387-b4e8-49db-b10e-70b26ca7ab8a",
   "metadata": {
    "colab": {
     "base_uri": "https://localhost:8080/",
     "height": 459
    },
    "id": "Ixopkv8nppSs",
    "outputId": "ac52bded-31e5-4240-f75e-f2aad9ffaf41"
   },
   "outputs": [],
   "source": [
    "#Results\n",
    "test=Data.loc[(Data.tempsdg02_01 == \"SDG02_01\"), (\"result_id\", \"result_title\")]\n",
    "test.iloc[0:5, ]"
   ]
  },
  {
   "cell_type": "markdown",
   "id": "ebdce662-d9c2-4ed3-8dce-8227aacc44b0",
   "metadata": {
    "id": "YXc1Vs2DZm3D"
   },
   "source": [
    "#### Phrase 2"
   ]
  },
  {
   "cell_type": "code",
   "execution_count": null,
   "id": "a60f7e86-2611-4f17-bb00-b18b20259049",
   "metadata": {
    "id": "J1OyLMbMnhye"
   },
   "outputs": [],
   "source": [
    "#Term lists\n",
    "\n",
    "termlist2_1b = [\"right to food\", \"right to adequate food\", \"food sovereignty\",\n",
    "                \"nutrition security\", \"nutritional security\", \n",
    "                \"access to food\", \"food access\", \"food safety\", \"safe food\", \"food security\",\n",
    "                \"school feeding\", \"free school meal\", \"food stamp program\", \"nutrition assistance\", \"food assistance\",\n",
    "                \n",
    "                \"tilgang til mat\", \"matforsyning\",\n",
    "                \"nok mat\",  \"tilstrekkelig mat\", \"trygg mat\", \"mattrygghet\", \"sunn mat\", \"sunne mat\", \"matsikkerhet\",\n",
    "                \"gratis skolemat\", \"gratis skolemåltid\"\n",
    "              ]\n",
    "              \n",
    "termlist2_1c = [\"Norwegian Scientific Committee for Food Safety\"]\n",
    "#This term list is specific for Norway and can be dropped for works from other countries.\n",
    "#There are lots of reports from VKM Norwegian Scientific Committee for Food Safety found in this string. \n",
    "#These are mostly very specialised, for example risk assessments of certain substances. Therefore removed for now, but this could be discussed.\n",
    "#Note that this does not remove all VKM reports, but does exclude those with \"opinion of the Norwegian Scientific Committee for Food Safety...\" in the title. A number of more general reports from VKM are still there.\n",
    "\n",
    "phrasedefault2_1b = r'(?:{})'.format('|'.join(termlist2_1b))\n",
    "phrasedefault2_1c = r'(?:{})'.format('|'.join(termlist2_1c))"
   ]
  },
  {
   "cell_type": "code",
   "execution_count": null,
   "id": "eb5ab4b0-c168-416a-8986-c4e3554a2827",
   "metadata": {
    "colab": {
     "base_uri": "https://localhost:8080/"
    },
    "id": "EI6ZVZnZpE5i",
    "outputId": "6d311a0d-f55f-43b8-c7a9-3aacd7f99354"
   },
   "outputs": [],
   "source": [
    "#Search 1\n",
    "Data.loc[(\n",
    "    (\n",
    "        (Data['result_title'].str.contains(phrasedefault2_1b, na=False, case=False))\n",
    "    ) \n",
    "    & (~Data['result_title'].str.contains(phrasedefault2_1c, na=False, case=False))\n",
    "),\"tempsdg02_01\"] = \"SDG02_01\"\n",
    "\n",
    "print(\"Number of results = \", len(Data[(Data.tempsdg02_01 == \"SDG02_01\")])) "
   ]
  },
  {
   "cell_type": "code",
   "execution_count": null,
   "id": "4e7f2717-df43-4ac5-be36-6443a4048128",
   "metadata": {
    "colab": {
     "base_uri": "https://localhost:8080/",
     "height": 459
    },
    "id": "Ixopkv8nppSs",
    "outputId": "ac52bded-31e5-4240-f75e-f2aad9ffaf41"
   },
   "outputs": [],
   "source": [
    "#Results\n",
    "test=Data.loc[(Data.tempsdg02_01 == \"SDG02_01\"), (\"result_id\", \"result_title\")]\n",
    "test.iloc[0:5, ]"
   ]
  },
  {
   "cell_type": "markdown",
   "id": "d3e470c6-f5ff-47f8-9ac0-d005ceb8b05e",
   "metadata": {
    "id": "YXc1Vs2DZm3D"
   },
   "source": [
    "#### Phrase 3"
   ]
  },
  {
   "cell_type": "code",
   "execution_count": null,
   "id": "3941c7eb-8d39-40ba-b279-a5ac692b1101",
   "metadata": {
    "id": "J1OyLMbMnhye"
   },
   "outputs": [],
   "source": [
    "#Term lists\n",
    "\n",
    "termlist2_1d = [\"food supply\"]\n",
    "              #Note that this can result in some noise from biological works (e.g. food supply in a certain habitat), but it mostly gets relevant results in our dataset.\n",
    "\n",
    "phrasedefault2_1d = r'(?:{})'.format('|'.join(termlist2_1d))"
   ]
  },
  {
   "cell_type": "code",
   "execution_count": null,
   "id": "96ef56c0-adf5-4aef-a2ad-c0d36dbc99db",
   "metadata": {
    "colab": {
     "base_uri": "https://localhost:8080/"
    },
    "id": "EI6ZVZnZpE5i",
    "outputId": "6d311a0d-f55f-43b8-c7a9-3aacd7f99354"
   },
   "outputs": [],
   "source": [
    "#Search 1\n",
    "Data.loc[(\n",
    "    (Data['result_title'].str.contains(phrasedefault2_1d, na=False, case=False))\n",
    "    ),\"tempsdg02_01\"] = \"SDG02_01\"\n",
    "\n",
    "print(\"Number of results = \", len(Data[(Data.tempsdg02_01 == \"SDG02_01\")]))   "
   ]
  },
  {
   "cell_type": "code",
   "execution_count": null,
   "id": "919bccca-e1c3-4bbf-ae12-66fd3fefbdfb",
   "metadata": {
    "colab": {
     "base_uri": "https://localhost:8080/",
     "height": 459
    },
    "id": "Ixopkv8nppSs",
    "outputId": "ac52bded-31e5-4240-f75e-f2aad9ffaf41"
   },
   "outputs": [],
   "source": [
    "#Results\n",
    "test=Data.loc[(Data.tempsdg02_01 == \"SDG02_01\"), (\"result_id\", \"result_title\")]\n",
    "test.iloc[0:5, ]"
   ]
  },
  {
   "cell_type": "markdown",
   "id": "b5defa22-9b47-4a2d-994b-790395284e23",
   "metadata": {
    "id": "tt-Bv9BcnnUQ"
   },
   "source": [
    "### SDG 2.2\n",
    "\n",
    "*2.2 By 2030, end all forms of malnutrition, including achieving, by 2025, the internationally agreed targets on stunting and wasting in children under 5 years of age, and address the nutritional needs of adolescent girls, pregnant and lactating women and older persons.*\n",
    "\n",
    "*Innen 2030 utrydde alle former for feilernæring, og innen 2025 nå de internasjonalt avtalte målene som omhandler veksthemming og avmagring hos barn under fem år, og ivareta ernæringsbehovene til unge jenter, gravide, ammende kvinner og eldre personer*"
   ]
  },
  {
   "cell_type": "markdown",
   "id": "b2f3794b-18a0-497d-986a-e8fecd80c491",
   "metadata": {
    "id": "YXc1Vs2DZm3D"
   },
   "source": [
    "#### Phrase 1"
   ]
  },
  {
   "cell_type": "code",
   "execution_count": null,
   "id": "01785e44-981d-4328-b13e-fbbf5c683a54",
   "metadata": {
    "id": "J1OyLMbMnhye"
   },
   "outputs": [],
   "source": [
    "#Termlists\n",
    "termlist2_2a = [\"malnutrition\", \"malnourish\", \"kwashiorkor\", \"marasmus\", \"anaemia\", \"anemia\", \n",
    "                \"nutritional deficien\", \"inadequate nutrition\", \"nutritional inadequa\", \"dietary deficien\", \"dietary inadequa\", \n",
    "                \"vitamin deficien\", \"inadequate vitamin\", \"micronutrient deficien\", \"inadequate micronutrient\", \"iron deficien\", \"inadequate iron\", \"inadequate iodine\", \"iodine deficien\", \n",
    "                \"obese\", \"obesity\", \"overweight\"\n",
    "\n",
    "                \"feilernæring\", \"underernær\", \"ernæringsproblem\", \"jernmangel\", \"anemi\",\n",
    "                \"ernæringsmangel\", \"kostholdsmangel\", \n",
    "                \"vitamin mangel\", \"vitaminmangel\", \"avitaminosis\",\n",
    "                \"overvekt\", \"fedme\"]\n",
    "\n",
    "termlist2_2b = [\"stunting\", \"stunted\", \"wasting\", \"underweight\",\n",
    "                \"veksthemm\", \"avmagring\", \"undervekt\"]\n",
    "\n",
    "termlist2_2c = [\"child\", \"infant\", \"under five\", \"under-five\", \"babies\", \"baby\", \"toddler\", \"girl\", \"boy\",\n",
    "                \"barn\", \"jenter\", \"gutter\", \"gutar\"]\n",
    "\n",
    "termlist2_not = [\"salmon anaemia\", \"salmon anemia\", \"lakseanemi\"] \n",
    "#Norwegian specific term list for a NOT search - removed as much Norwegian research on these topics, that is not relevant to human health\n",
    "\n",
    "phrasedefault2_2a = r'(?:{})'.format('|'.join(termlist2_2a))\n",
    "phrasedefault2_2b = r'(?:{})'.format('|'.join(termlist2_2b))\n",
    "phrasedefault2_2c = r'(?:{})'.format('|'.join(termlist2_2c))\n",
    "phrasedefault2_2d = r'(?:{})'.format('|'.join(termlist2_not))"
   ]
  },
  {
   "cell_type": "code",
   "execution_count": null,
   "id": "ddd0a790-2c4a-42c3-ac89-4f40fad14514",
   "metadata": {
    "colab": {
     "base_uri": "https://localhost:8080/"
    },
    "id": "EI6ZVZnZpE5i",
    "outputId": "6d311a0d-f55f-43b8-c7a9-3aacd7f99354"
   },
   "outputs": [],
   "source": [
    "#Search 1\n",
    "Data.loc[(\n",
    "    (\n",
    "        (Data['result_title'].str.contains(phrasedefault2_2a, na=False, case=False))\n",
    "        | ((Data['result_title'].str.contains(phrasedefault2_2b, na=False, case=False))&(Data['result_title'].str.contains(phrasedefault2_2c, na=False, case=False)))\n",
    "    ) \n",
    "    & (~Data['result_title'].str.contains(phrasedefault2_2d, na=False, case=False))\n",
    "),\"tempsdg02_02\"] = \"SDG02_02\"\n",
    "\n",
    "print(\"Number of results = \", len(Data[(Data.tempsdg02_02 == \"SDG02_02\")])) "
   ]
  },
  {
   "cell_type": "code",
   "execution_count": null,
   "id": "8c7f8a76-4653-47b5-b27d-ee0659794d60",
   "metadata": {
    "colab": {
     "base_uri": "https://localhost:8080/",
     "height": 459
    },
    "id": "Ixopkv8nppSs",
    "outputId": "ac52bded-31e5-4240-f75e-f2aad9ffaf41"
   },
   "outputs": [],
   "source": [
    "#Results\n",
    "test=Data.loc[(Data.tempsdg02_02 == \"SDG02_02\"), (\"result_id\", \"result_title\")]\n",
    "test.iloc[0:5, ]"
   ]
  },
  {
   "cell_type": "markdown",
   "id": "f6c9255f-ba76-43ba-8b3a-e253ede0679b",
   "metadata": {
    "id": "YXc1Vs2DZm3D"
   },
   "source": [
    "#### Phrase 2"
   ]
  },
  {
   "cell_type": "code",
   "execution_count": null,
   "id": "3d4717d3-a42f-43ef-beb8-b1ba572065c1",
   "metadata": {
    "id": "J1OyLMbMnhye"
   },
   "outputs": [],
   "source": [
    "#Termlists\n",
    "termlist2_2d = [\"nutrition security\", \"nutritional security\", \"nutritional quality\", \"nutrition sensitive agriculture\", \"nutritional quality\", \"dietary quality\",\n",
    "                \"safe nutrition\", \"access to nutrition\", \"reliable nutrition\",\n",
    "\n",
    "                \"næringssikkerhet\", \"næringskvalitet\", \"tilgang til næring\", \"trygg næring\"]\n",
    "\n",
    "termlist2_2e = [\"nutrition\", \"folate\", \"micronutrient\",\n",
    "                \"ernæring\", \"næringsstoff\", \"næringsrik\", \"folsyre\", \"folacin\", \"folat\", \"mikronæring\"]\n",
    "\n",
    "termlist2_2f = [\"child\", \"infant\", \"under five\", \"under-five\", \"babies\", \"baby\", \"toddler\", \"girl\", \"boy\", \"perinatal\", \"prenatal\",\n",
    "                \"older person\", \"old person\", \"old people\", \"elderly\", \"older adult\",\n",
    "                \"women\", \"mother\", \"pregnan\",\n",
    "                \"school feeding\", \"free school meal\", \"food stamp program\", \"nutrition assistance\", \"food assistance\",\n",
    "\n",
    "                \"barn\", \"jenter\", \"gutter\", \"gutar\",\n",
    "                \"gammel person\", \"eldre\", \"de gamle\",\n",
    "                \"kvinne\", \"gravid\",\n",
    "                \"gratis skolemat\", \"gratis skolemåltid\"]\n",
    "              #We use \"eldre\" (NO) but not \"gamle\" (NO) alone because the latter is more likely to be used for non-humans (buildings etc.)\n",
    "\n",
    "termlist2_2g = [\"næringsliv\", \"næringsdrivend\"]\n",
    "#This term is an issue for Norwegian where \"næring\" (NO) is nutrients and \"næringsliv\" (NO) is business so the latter is removed with a NOT search.\n",
    "\n",
    "phrasedefault2_2d = r'(?:{})'.format('|'.join(termlist2_2d))\n",
    "phrasedefault2_2e = r'(?:{})'.format('|'.join(termlist2_2e))\n",
    "phrasedefault2_2f = r'(?:{})'.format('|'.join(termlist2_2f))\n",
    "phrasedefault2_2g = r'(?:{})'.format('|'.join(termlist2_2g))"
   ]
  },
  {
   "cell_type": "code",
   "execution_count": null,
   "id": "5f600550-1ee7-4535-83d2-1a8d0beff54a",
   "metadata": {
    "colab": {
     "base_uri": "https://localhost:8080/"
    },
    "id": "EI6ZVZnZpE5i",
    "outputId": "6d311a0d-f55f-43b8-c7a9-3aacd7f99354"
   },
   "outputs": [],
   "source": [
    "Data.loc[(\n",
    "    (\n",
    "        (Data['result_title'].str.contains(phrasedefault2_2d, na=False, case=False))\n",
    "        | ((Data['result_title'].str.contains(phrasedefault2_2e, na=False, case=False))&(Data['result_title'].str.contains(phrasedefault2_2f, na=False, case=False)))\n",
    "    ) \n",
    "    & (~Data['result_title'].str.contains(phrasedefault2_2g, na=False, case=False))\n",
    "),\"tempsdg02_02\"] = \"SDG02_02\"\n",
    "\n",
    "print(\"Number of results = \", len(Data[(Data.tempsdg02_02 == \"SDG02_02\")])) "
   ]
  },
  {
   "cell_type": "code",
   "execution_count": null,
   "id": "ceea7239-8427-41c3-b69a-b243828e0235",
   "metadata": {
    "colab": {
     "base_uri": "https://localhost:8080/",
     "height": 459
    },
    "id": "Ixopkv8nppSs",
    "outputId": "ac52bded-31e5-4240-f75e-f2aad9ffaf41"
   },
   "outputs": [],
   "source": [
    "#Results\n",
    "test=Data.loc[(Data.tempsdg02_02 == \"SDG02_02\"), (\"result_id\", \"result_title\")]\n",
    "test.iloc[0:5, ]"
   ]
  },
  {
   "cell_type": "markdown",
   "id": "77a087be-70cf-43df-8087-10e88027a614",
   "metadata": {
    "id": "YXc1Vs2DZm3D"
   },
   "source": [
    "#### Phrase 3"
   ]
  },
  {
   "cell_type": "code",
   "execution_count": null,
   "id": "727cd954-a573-471e-b649-18cc6fafef2c",
   "metadata": {
    "id": "J1OyLMbMnhye"
   },
   "outputs": [],
   "source": [
    "#Termlists\n",
    "termlist2_2h = [\"undernutrition\", \"under-nutrition\", \"undernourish\", \"under-nourish\", \"protein deficien\", \"nutritional value\", \"nutrient content\", \"nutritional content\",\n",
    "                \"underernær\", \"proteinmangel\", \"næringsinnhold\", \"næringsinnhald\"]\n",
    "\n",
    "phrasedefault2_2h = r'(?:{})'.format('|'.join(termlist2_2h))"
   ]
  },
  {
   "cell_type": "code",
   "execution_count": null,
   "id": "1d677214-dfe3-45d7-ac54-d8bc7f49887e",
   "metadata": {
    "colab": {
     "base_uri": "https://localhost:8080/"
    },
    "id": "EI6ZVZnZpE5i",
    "outputId": "6d311a0d-f55f-43b8-c7a9-3aacd7f99354"
   },
   "outputs": [],
   "source": [
    "#Search 1\n",
    "Data.loc[(\n",
    "    (Data['result_title'].str.contains(phrasedefault2_2h, na=False, case=False))\n",
    "    ),\"tempsdg02_02\"] = \"SDG02_02\"\n",
    "\n",
    "print(\"Number of results = \", len(Data[(Data.tempsdg02_02 == \"SDG02_02\")])) "
   ]
  },
  {
   "cell_type": "code",
   "execution_count": null,
   "id": "c5710a1f-5bc3-4dc5-8c71-a6f84f6f6124",
   "metadata": {
    "colab": {
     "base_uri": "https://localhost:8080/",
     "height": 459
    },
    "id": "Ixopkv8nppSs",
    "outputId": "ac52bded-31e5-4240-f75e-f2aad9ffaf41"
   },
   "outputs": [],
   "source": [
    "#Results\n",
    "test=Data.loc[(Data.tempsdg02_02 == \"SDG02_02\"), (\"result_id\", \"result_title\")]\n",
    "test.iloc[0:5, ]"
   ]
  },
  {
   "cell_type": "markdown",
   "id": "7a97b73b-ae74-4b5a-ace3-d327fcb0e1c5",
   "metadata": {
    "id": "tt-Bv9BcnnUQ"
   },
   "source": [
    "### SDG 2.3\n",
    "\n",
    "*2.3 By 2030, double the agricultural productivity and incomes of small-scale food producers, in particular women, indigenous peoples, family farmers, pastoralists and fishers, including through secure and equal access to land, other productive resources and inputs, knowledge, financial services, markets and opportunities for value addition and non-farm employment.*\n",
    "\n",
    "*Innen 2030 doble produktiviteten og inntektene til småskala matprodusenter, særlig kvinner, urfolk, familiebruk, husdyrnomader og fiskere, blant annet gjennom sikker og lik tilgang til jord, andre produksjonsressurser og innsatsmidler, kunnskap, finansielle tjenester, markeder og muligheter for verdiøkning og for sysselsetting utenfor landbruket*"
   ]
  },
  {
   "cell_type": "code",
   "execution_count": null,
   "id": "0478d614-5890-4d71-a3e8-572365949198",
   "metadata": {
    "id": "J1OyLMbMnhye"
   },
   "outputs": [],
   "source": [
    "#Termlists\n",
    "termlist2_3a = [\"intensification\", \"production\", \"productivity\", \"yield\", \"output\", \"production resources\",\n",
    "                \"livelihood\", \"income\", \"profit\", \"revenue\", \"economic viability\", \"economically viable\",\n",
    "                \"value addition\", \"diversification\", \"non-farm employment\", \"off-farm employment\", \n",
    "                \"access\", \"empowerment\", \"benefit\", \"tenure\", \"ownership\",\n",
    "                \"right to land\", \"rights to land\", \"land rights\", \"property rights\", \"tenure rights\",\n",
    "                \"land grab\", \"tenure insecurity\",\n",
    "                \"equity\", \"equitable\", \"justice\", \"injustice\", \"barrier\", \"obstacle\",\n",
    "\n",
    "                \"intensivering\", \"produksjon\", \"avling\", \"høsting\", \"produksjonsressurs\",\n",
    "                \"levebrød\", \"inntekt\", \"avkastning\", \"økonomi\", \"finansielle tjenester\", \"innsatsmidl\",\n",
    "                \"verdiøkning\", \"verdiauke\", \"sysselsetting utenfor\", \"sysselsette utenfor\", \"sysselsetting utafor\", \"sysselsette utafor\",\n",
    "                \"sysselsette utanfor\", \"sysselsetting utanfor\",\n",
    "                \"tilgang\", \"myndiggjør\", \"fordel\", \"eierskap\", \"eigarskap\",\n",
    "                \"landrett\",  \"rettigheter til land\", \"eiendomsrett\", \"eigedomsrett\", \"landrike\", \"landfattig\", \"jordleie\",\n",
    "                \"likestilling\", \"ulikhet\", \"ulikskap\", \"rettferd\", \"rettighet\", \"ekskludering\", \"marginali\"]\n",
    "              #I have added ownership and production resources here. \"tilgang/access\" (NO) will cover access to land, knowledge, financial services etc.\n",
    "\n",
    "termlist2_3b = [\"smallhold\", \"small-hold\", \"small holding\", \"small farm\", \"family farm\", \"family-run farm\", \"family run farm\", \"family-owned farm\", \"family owned farm\", \"home gardening\",\n",
    "                \"småbruk\", \"familiegård\", \"familiegard\", \"familiebruk\", \"kjøkkenhage\", \"grønnsakshage\", \"reindrift\", \"husdyrnomad\"]\n",
    "                #\"reindrift\" (NO, reindeer herding) added, often small-scale.\n",
    "\n",
    "termlist2_3c = [\"small-scale\", \"indigenous\", \"homestead\", \"subsistence\",\n",
    "                \"småskal\", \"urfolk\", \"urbefolk\", \"sami\", \"sapmi\", \"samer\", \"subsistens\"]\n",
    "                #\"Sami\" was added as an indigenous group relevant for Norway. \"Sami\" will cover \"samisk\" (NO)\n",
    "\n",
    "termlist2_3d = [\"food-produc\", \"food produc\", \"grower\", \"agro food\", \"agri-food\", \"agro-food\",\n",
    "                \"agricultur\", \"farm\", \"permacultur\", \"cropping\", \"orchard\", \"arable land\",\n",
    "                \"pasture\", \"pastoral\", \"agroforest\", \"agro-forest\", \"silvopastur\", \"silvopastoral\",\n",
    "                \"aquacultur\", \"maricultur\", \"fisher\", \"fish farm\", \"herding\",\n",
    "                \"crop\", \"grain\", \"vegetable\", \"fruit\", \"cereal\", \"rice\", \"wheat\", \"maize\", \"pulses\", \"legume\",\n",
    "                \"livestock\", \"fish\", \"salmon\", \"cattle\", \"sheep\", \"poultry\", \"pigs\", \"goats\", \"chicken\", \"buffalo\", \"ducks\", \"reindeer\",\n",
    "                \n",
    "                \"matproduksjon\", \"matprodusent\",\n",
    "                \"gård\", \"gard\", \"landbruk\", \"jordbruk\", \"gårdsbruk\", \"gardsbruk\", \"dyrket mark\", \"dyrkamark\", \"dyrka mark\", \"kultivert mark\",\n",
    "                \"beite\", \"dyreproduksjon\", \"meieri\",\n",
    "                \"fiskeoppdrett\", \"lakseoppdrett\", \"havbruk\",\n",
    "                \"grønnsak\", \"grønsak\", \"belgfrukt\", \"frukt\", \"fisk\", \"laks\", \"sauedrift\", \"sauehold\", \" sau\", \"storfe\", \" svin\", \"fjærkre\", \" rein\", \"reindrift\"]\n",
    "                #reindeer was added as a specific species, as was salmon, to adapt to Norwegian research.\n",
    "\n",
    "phrasedefault2_3a = r'(?:{})'.format('|'.join(termlist2_3a))\n",
    "phrasedefault2_3b = r'(?:{})'.format('|'.join(termlist2_3b))\n",
    "phrasedefault2_3c = r'(?:{})'.format('|'.join(termlist2_3c))\n",
    "phrasedefault2_3d = r'(?:{})'.format('|'.join(termlist2_3d))\n"
   ]
  },
  {
   "cell_type": "code",
   "execution_count": null,
   "id": "d5e0b229-4864-40ee-a860-567a5fa68109",
   "metadata": {
    "colab": {
     "base_uri": "https://localhost:8080/"
    },
    "id": "EI6ZVZnZpE5i",
    "outputId": "6d311a0d-f55f-43b8-c7a9-3aacd7f99354"
   },
   "outputs": [],
   "source": [
    "#Search 1\n",
    "Data.loc[(\n",
    "    (Data['result_title'].str.contains(phrasedefault2_3a, na=False, case=False)) \n",
    "    & \n",
    "    (\n",
    "        (Data['result_title'].str.contains(phrasedefault2_3b, na=False, case=False))\n",
    "        | ((Data['result_title'].str.contains(phrasedefault2_3c, na=False, case=False)) & (Data['result_title'].str.contains(phrasedefault2_3d, na=False, case=False)))\n",
    "    )\n",
    "    ),\"tempsdg02_03\"] = \"SDG02_03\"\n",
    "\n",
    "print(\"Number of results = \", len(Data[(Data.tempsdg02_03 == \"SDG02_03\")])) "
   ]
  },
  {
   "cell_type": "code",
   "execution_count": null,
   "id": "5475d460-4e39-491c-8f8e-e880a55adde5",
   "metadata": {
    "colab": {
     "base_uri": "https://localhost:8080/",
     "height": 459
    },
    "id": "Ixopkv8nppSs",
    "outputId": "ac52bded-31e5-4240-f75e-f2aad9ffaf41"
   },
   "outputs": [],
   "source": [
    "#Results\n",
    "test=Data.loc[(Data.tempsdg02_03 == \"SDG02_03\"), (\"result_id\", \"result_title\")]\n",
    "test.iloc[0:5, ]"
   ]
  },
  {
   "cell_type": "markdown",
   "id": "71d0f5b5-c9fd-4446-9284-c64e31138fa5",
   "metadata": {
    "id": "tt-Bv9BcnnUQ",
    "tags": []
   },
   "source": [
    "### SDG 2.4\n",
    "\n",
    "*2.4 By 2030, ensure sustainable food production systems and implement resilient agricultural practices that increase productivity and production, that help maintain ecosystems, that strengthen capacity for adaptation to climate change, extreme weather, drought, flooding and other disasters and that progressively improve land and soil quality.*\n",
    "\n",
    "*Innen 2030 sikre at det fSDG02_04innes bærekraftige systemer for matproduksjon, og innføre robuste metoder som gir økt produktivitet og produksjon, som bidrar til å opprettholde økosystemene, som styrker evnen til tilpasning til klimaendringer, ekstremvær, tørke, oversvømmelse og andre katastrofer, og som gradvis bedrer arealenes og jordas kvalitet*"
   ]
  },
  {
   "cell_type": "markdown",
   "id": "7937a3fc-8530-40a7-985f-c515661ee034",
   "metadata": {
    "tags": []
   },
   "source": [
    "#### Phrase 1"
   ]
  },
  {
   "cell_type": "code",
   "execution_count": null,
   "id": "988f36a0-b501-405e-b30b-1c59620b5237",
   "metadata": {
    "id": "J1OyLMbMnhye"
   },
   "outputs": [],
   "source": [
    "#Termlists\n",
    "termlist2_4a = [\"food-produc\", \"food produc\", \"grower\", \"agrifood\", \"agri-food\", \"agro-food\", \"agro food\",\n",
    "                \"agricultur\", \"farm\", \"smallhold\", \"small-hold\", \"permacultur\", \"cropping\", \"orchard\", \"arable land\",\n",
    "                \"pasture\", \"pastoral\", \"agroforest\", \"agro-forest\", \"silvopastur\", \"silvopastoral\",\n",
    "                \"aquacultur\", \"maricultur\", \"fisher\", \"fish farm\", \"herding\",\n",
    "                \"crop\", \"grain\", \"vegetable\", \"fruit\", \"cereal\", \" rice\", \"wheat\", \"maize\", \"pulses\", \"legume\",\n",
    "                \"livestock\", \"fish\", \"salmon\", \"cattle\", \"sheep\", \"poultry\", \"pigs\", \"goats\", \"chicken\", \"buffalo\", \"ducks\", \"reindeer\",\n",
    "                \"fodder\", \"animal feed \", \"fish feed \",\n",
    "                \n",
    "                \"matproduksjon\", \"matprodusent\",\n",
    "                \"gård\", \"gard\", \"landbruk\", \"jordbruk\", \"gårdsbruk\", \"gardsbruk\", \"småbruk\", \"familiebruk\", \"dyrket mark\", \"dyrkamark\",\n",
    "                \"dyrka mark\", \"kultivert mark\",\n",
    "                \"beite\", \"dyreproduksjon\", \"meieri\",\n",
    "                \"fiskeoppdrett\", \"lakseoppdrett\", \"havbruk\",\n",
    "                \"grønnsak\", \"grønsak\", \"belgfrukt\", \"frukt\", \"fiske\", \"laks\", \" sau \", \"sauedrift\", \"sauehold\", \"storfe\", \" svin\", \"fjærkre\", \" rein\",\n",
    "                \"bærekraftig fôr\", \"berekraftig fôr\", \"dyrefôr\", \"dyrefor \", \"fiskefôr\", \"fiskefor \"]\n",
    "                #Space before \" rice\" to avoid \"price\", similarly \"sau/svin\" (NO) and after \"xxxfor\" (NO, to avoid \"forbund\" etc.). Note that \"agricultur\" will also cover e.g. \"ecoagriculture\"\n",
    "    \n",
    "termlist2_4b = [\"intensif\", \"productivity\", \"efficiency\", \"yield\", \"agricultural output\", \"farm output\",\n",
    "                \"produktivitet\", \"effektivitet\", \"avling\"]\n",
    "\n",
    "termlist2_4c = [\"production\", \"produksjon\"]\n",
    "\n",
    "termlist2_4d = [\"increas\", \"improv\",\n",
    "                \"økt\", \"øke\", \"auke\", \"auka\"]\n",
    "                #\"production\" is combined with \"increasing\" because a lot of the results were too irrelevant when alone.\n",
    "\n",
    "phrasedefault2_4a = r'(?:{})'.format('|'.join(termlist2_4a))\n",
    "phrasedefault2_4b = r'(?:{})'.format('|'.join(termlist2_4b))\n",
    "phrasedefault2_4c = r'(?:{})'.format('|'.join(termlist2_4c))\n",
    "phrasedefault2_4d = r'(?:{})'.format('|'.join(termlist2_4d))"
   ]
  },
  {
   "cell_type": "code",
   "execution_count": null,
   "id": "e71f8b4f-15b1-4b01-8812-e106c2e9f81f",
   "metadata": {
    "colab": {
     "base_uri": "https://localhost:8080/"
    },
    "id": "EI6ZVZnZpE5i",
    "outputId": "6d311a0d-f55f-43b8-c7a9-3aacd7f99354"
   },
   "outputs": [],
   "source": [
    "#Search 1\n",
    "Data.loc[(\n",
    "    (Data['result_title'].str.contains(phrasedefault2_4a, na=False, case=False)) \n",
    "    & (\n",
    "        (Data['result_title'].str.contains(phrasedefault2_4b, na=False, case=False))\n",
    "        | ((Data['result_title'].str.contains(phrasedefault2_4c, na=False, case=False))&(Data['result_title'].str.contains(phrasedefault2_4d, na=False, case=False)))\n",
    "      )\n",
    "    ),\"tempsdg02_04\"] = \"SDG02_04\"\n",
    "\n",
    "print(\"Number of results = \", len(Data[(Data.tempsdg02_04 == \"SDG02_04\")])) "
   ]
  },
  {
   "cell_type": "code",
   "execution_count": null,
   "id": "c338b041-2d00-426d-8c8c-1b721dc58787",
   "metadata": {
    "colab": {
     "base_uri": "https://localhost:8080/",
     "height": 459
    },
    "id": "Ixopkv8nppSs",
    "outputId": "ac52bded-31e5-4240-f75e-f2aad9ffaf41"
   },
   "outputs": [],
   "source": [
    "#Results\n",
    "test=Data.loc[(Data.tempsdg02_04 == \"SDG02_04\"), (\"result_id\", \"result_title\")]\n",
    "test.iloc[0:5, ]"
   ]
  },
  {
   "cell_type": "markdown",
   "id": "e3ca414e-50f4-4c74-94ee-90f80e1ced5b",
   "metadata": {},
   "source": [
    "#### Phrase 2"
   ]
  },
  {
   "cell_type": "code",
   "execution_count": null,
   "id": "909d501b-8b13-4c82-85eb-f4da998cf333",
   "metadata": {
    "id": "J1OyLMbMnhye"
   },
   "outputs": [],
   "source": [
    "#Termlists\n",
    "termlist2_4e = [\"climate smart\", \"climate-smart\", \"resilien\", \"vulnerability\", \n",
    "                \"risk reduction\", \"disaster reduction\",\n",
    "                \"disaster plan\", \"disaster management\", \"disaster strateg\", \"disaster relief\", \"disaster program\", \"risk plan\", \"risk management\", \"risk strate\", \"manage risk\", \"risk program\",\n",
    "                \n",
    "                \"klimasmart\", \"sårbar\",\n",
    "                \"risikoplan\", \"katastrofe\", \"beredskap\"\n",
    "                ]\n",
    "                #It was necessary to have disasters and plans in phrases in english because there are a lot of results about \n",
    "                #e.g. risks to local habitats from agriculture, rather than risks to agriculture\n",
    "\n",
    "\n",
    "phrasedefault2_4e = r'(?:{})'.format('|'.join(termlist2_4e))"
   ]
  },
  {
   "cell_type": "code",
   "execution_count": null,
   "id": "a159636c-f782-4709-9c2c-2b002e48440f",
   "metadata": {
    "colab": {
     "base_uri": "https://localhost:8080/"
    },
    "id": "EI6ZVZnZpE5i",
    "outputId": "6d311a0d-f55f-43b8-c7a9-3aacd7f99354"
   },
   "outputs": [],
   "source": [
    "#Search 1\n",
    "Data.loc[(\n",
    "    (Data['result_title'].str.contains(phrasedefault2_4a, na=False, case=False)) \n",
    "    & (Data['result_title'].str.contains(phrasedefault2_4e, na=False, case=False))\n",
    "    ),\"tempsdg02_04\"] = \"SDG02_04\"\n",
    "\n",
    "print(\"Number of results = \", len(Data[(Data.tempsdg02_04 == \"SDG02_04\")])) "
   ]
  },
  {
   "cell_type": "code",
   "execution_count": null,
   "id": "3619937c-973f-4100-abe9-6e4883b16526",
   "metadata": {
    "colab": {
     "base_uri": "https://localhost:8080/",
     "height": 459
    },
    "id": "Ixopkv8nppSs",
    "outputId": "ac52bded-31e5-4240-f75e-f2aad9ffaf41"
   },
   "outputs": [],
   "source": [
    "#Results\n",
    "test=Data.loc[(Data.tempsdg02_04 == \"SDG02_04\"), (\"result_id\", \"result_title\")]\n",
    "test.iloc[0:5, ]"
   ]
  },
  {
   "cell_type": "markdown",
   "id": "3fb4b298-702e-436b-9c05-a28f9688113a",
   "metadata": {},
   "source": [
    "#### Phrase 3"
   ]
  },
  {
   "cell_type": "code",
   "execution_count": null,
   "id": "b1fd2462-3dfd-4f7f-be70-ff58789c5b32",
   "metadata": {
    "id": "J1OyLMbMnhye"
   },
   "outputs": [],
   "source": [
    "#Termlists\n",
    "termlist2_4f = [\"adapt\", \"mitigat\", \"protect\", \"avoid\", \"limit\", \"prevent\", \"manag\", \n",
    "                \"planning\", \"plans\", \"strateg\", \"disaster reduc\", \"risk reduc\", \"relief\", \"program\", \"programme\", \"policy\", \"policies\", \"strateg\", \"framework\", \"governance\", \"legislat\",\n",
    "                \"cope\", \"coping\", \"tolera\", \"preparedness\", \"early warning\",\n",
    "                \"sendai\",\n",
    "\n",
    "                \"tilpass\", \"forbered\", \"førebu\", \"beskytt\", \"unngå\", \"begrens\", \"hindr\", \"forebygg\", \"førebygg\" ,\"håndter\",\n",
    "                \"planer\", \"planlegging\", \"handlingsplan\", \"rammeverk\", \"politikk\", \"retningslin\", \"styring\", \"ledelse\", \"leiing\", \"lovgiv\", \n",
    "                \"katastrofeplanlegging\", \"risikoreduksjon\", \"strategi\", \"krisehåndtering\", \"tåle\", \"beredskap\", \"varsling\", \"varsel\"]\n",
    "              \n",
    "termlist2_4g = [\"climate change\", \"changing climate\", \"global warming\",\n",
    "                \"disaster\", \"catastrophe\", \"hazard\",\n",
    "                \"extreme climat\", \"extreme weather\", \"extreme precipitation\", \"extreme rain\", \"extreme snow\", \"extreme temperatur\", \"extreme storm\", \"extreme wind\", \n",
    "                 \"rogue wave\", \"tsunami\", \"cyclone\", \"typhoon\", \"hurricane\", \"tornado\", \n",
    "                 \"drought\", \"flood\", \n",
    "                 \"avalanche\", \"landslide\", \"land-slide\", \"land slide\", \"rockslide\", \"rock-slide\", \"rock slide\", \"rockfall\", \"surface collapse\", \"mudflow\", \"mud-flow\", \n",
    "                 \"cold spell\", \"cold wave\", \"dzud\", \"blizzard\", \"snowstorm\", \n",
    "                 \"heatwave\", \"heat-wave\", \n",
    "                 \"earthquake\", \"volcan\", \"ash cloud\", \"ash fall\", \"tephra\", \n",
    "                 \"wildfire\", \"wild-fire\", \"wild fire\", \"forest-fire\", \"forest fire\", \"forestfire\", \n",
    "                 \"sea-level rise\", \"sea-level change\", \"rising sea-level\", \n",
    "                 \"outbreak\", \"pandemic\", \"epidemic\", \n",
    "                 \"armed conflict\", \"political instability\", \"civil instability\", \"politically volatile\", \n",
    "                 \"unrest\", \"financial crash\", \"financial shock\", \"economic downturn\", \"economic shock\",\n",
    "                \n",
    "                \"klimaendring\", \"global oppvarm\", \n",
    "                \"katastrof\", \"krise\", \n",
    "                 \"ekstremvær\", \"ekstremver\", \n",
    "                 \"tropisk lavtrykk\", \"tropisk lågtrykk\", \"flodbølg\", \"monsterbølg\", \"ekstrembølg\", \n",
    "                 \"orkan\",  \"tyfon\", \"syklon\", \"snøstorm\", \n",
    "                 \"flom\", \"flaum\", \"oversvøm\", \"ovefløym\", \"tørke\", \n",
    "                 \"snøskred\", \"skred\", \"snøras\", \"lavine\", \"jordskred\", \"jordras\", \"sørpeskred\", \"leirras\", \"leirskred\", \"steinras\", \"steinskred\", \"synkehull\", \n",
    "                 \"uvanlig kulde\", \"uvanlig kaldt\", \"uvanleg kulde\", \"uvanleg kaldt\", \"ekstrem kuld\", \"ekstremkuld\", \"kuldebølg\", \"snøstorm\", \n",
    "                 \"varmebølg\", \"hetebølg\", \"ekstrem varm\", \"ekstremvarm\", \"uvanlig varm\", \"uvanleg varm\", \n",
    "                 \"jordskjelv\", \"vulkan\", \"askenedfall\", \"oskenedfall\", \"askesky\", \"oskesky\", \n",
    "                 \"skogbrann\", \"gressbrann\", \"grasbrann\", \"lyngbrann\", \n",
    "                 \"havnivåstigning\", \"stormflo\", \n",
    "                 \"pandemi\", \"epidemi\", \"utbrudd\", \"utbrot\",\n",
    "                 \"politisk ustabilitet\", \"væpnede konflikter\", \"væpnet konflikt\", \"væpna konflikt\", \"borgerkrig\", \"borgarkrig\", \"fremmedkrig\", \"finanskrise\", \"finanssjokk\", \n",
    "                 \"finanskatastrofe\", \"finanskræsj\", \"økonomisk nedgang\", \"økonomisk sjokk\", \"økonomisk katastrofe\"]\n",
    "\n",
    "termlist2_4h = [\"war\", \"wars\", \n",
    "                \"krig\", \"ras\"]  \n",
    "\n",
    "phrasedefault2_4f = r'(?:{})'.format('|'.join(termlist2_4f))\n",
    "phrasedefault2_4g = r'(?:{})'.format('|'.join(termlist2_4g))\n",
    "phrasespecific2_4h = r'\\b(?:{})\\b'.format('|'.join(termlist2_4h))"
   ]
  },
  {
   "cell_type": "code",
   "execution_count": null,
   "id": "25aefa48-ec7f-4957-8242-684b0986d506",
   "metadata": {
    "colab": {
     "base_uri": "https://localhost:8080/"
    },
    "id": "EI6ZVZnZpE5i",
    "outputId": "6d311a0d-f55f-43b8-c7a9-3aacd7f99354"
   },
   "outputs": [],
   "source": [
    "#Search 1\n",
    "Data.loc[(\n",
    "    (Data['result_title'].str.contains(phrasedefault2_4a, na=False, case=False)) \n",
    "    & (Data['result_title'].str.contains(phrasedefault2_4f, na=False, case=False))\n",
    "    & ((Data['result_title'].str.contains(phrasedefault2_4g, na=False, case=False)) | (Data['result_title'].str.contains(phrasespecific2_4h, na=False, case=False)))\n",
    "    ),\"tempsdg02_04\"] = \"SDG02_04\"\n",
    "\n",
    "print(\"Number of results = \", len(Data[(Data.tempsdg02_04 == \"SDG02_04\")])) "
   ]
  },
  {
   "cell_type": "code",
   "execution_count": null,
   "id": "ecc51810-ec65-4e82-b650-ba31d75e820e",
   "metadata": {
    "colab": {
     "base_uri": "https://localhost:8080/",
     "height": 459
    },
    "id": "Ixopkv8nppSs",
    "outputId": "ac52bded-31e5-4240-f75e-f2aad9ffaf41"
   },
   "outputs": [],
   "source": [
    "#Results\n",
    "test=Data.loc[(Data.tempsdg02_04 == \"SDG02_04\"), (\"result_id\", \"result_title\")]\n",
    "test.iloc[0:5, ]"
   ]
  },
  {
   "cell_type": "markdown",
   "id": "d7084ceb-4f02-4ad3-aa44-02c6a665e769",
   "metadata": {},
   "source": [
    "#### Phrase 4\n",
    "The following report from NIBIO was used to help with Norwegian sustainable agriculture terms: Bøe et al. (2020) Fangvekster som klimatiltak i Norge. Egnet dyrkingsareal, potensiale for klimagassbesparelse, kostnader, barrierer og virkemiddel. NIBIO Report. http://hdl.handle.net/11250/2638984\n"
   ]
  },
  {
   "cell_type": "code",
   "execution_count": null,
   "id": "3ebd4746-11a2-442e-9dc4-0547c55161f9",
   "metadata": {
    "id": "J1OyLMbMnhye"
   },
   "outputs": [],
   "source": [
    "#Termlists\n",
    "termlist2_4i = [\"ecoagricultur\", \"eco-agricultur\", \"agroecolog\", \"permaculture\", \"conservation agriculture\", \"conservation farming\",\n",
    "                \"organic farm\", \"organic agricult\", \"organic crop\", \"organic orchard\", \"organic arable\", \"organic pasture\",\n",
    "                \"organic aquacultur\", \"organic salmon\", \"organic pig\", \"organic poultry\", \"organic dairy\", \"organic reindeer\",\n",
    "\n",
    "                \"økolandbruk\", \"økojordbruk\", \"permakultur\"     \n",
    "                ]\n",
    "                #\"organic\" is not used alone, but is instead combined in phrases to avoid e.g. organic acids, organic matter. Moved to this part rather than 4j as it can stand alone.\n",
    "                #\"bærekraftig fôr\" (NO) is added specifically due to it's inclusion as a priority area (\"samfunnsoppdrag\") in the governments Long-term plan.\n",
    "              \n",
    "termlist2_4j = [\"sustainab\", \"eco-friendly\", \"environmentally friendly\", \"ecosystem approach\", \"ecosystem based\",\n",
    "                \"natural pest control\", \"natural pest management\", \"biological pest control\", \"intergrated pest management\",\n",
    "                \"intercropping\", \"cover crop\", \"crop rotation\", \"polyculture\", \"permaculture\", \n",
    "                \"reduced tillage\", \"mulch\", \"mulching\",\n",
    "                \"water conservation\",\n",
    "\n",
    "                \"bærekraftig\", \"berekraftig\", \"selvbærende\", \"sjølvberande\", \"miljøvennlig\", \"miljøvennleg\", \"miljøvenleg\", \"miljøbevisst\", \"miljømedveten\", \"miljømedviten\", \"økosystem\", \n",
    "                \"økologisk\", \"biologisk bekjempelse\", \"biologisk nedkjemping\", \"biologisk skadedyrkontroll\", \"integrert skadedyrkontroll\", \"integrert ugrasbekjempelse\", \"integrert plantevern\",\n",
    "                \"vekstskifte\", \"grønngjødsling\", \"dekkvekst\", \"underkultur\", \"underså\", \"ettervekster\", \"polykultur\", \"permakultur\",\n",
    "                \"redusert jordarbeiding\", \"gjødselplanlegging\",\n",
    "                \"vannsparing\"                \n",
    "                ] \n",
    "\n",
    "phrasedefault2_4i = r'(?:{})'.format('|'.join(termlist2_4i))\n",
    "phrasedefault2_4j = r'(?:{})'.format('|'.join(termlist2_4j))"
   ]
  },
  {
   "cell_type": "code",
   "execution_count": null,
   "id": "0228cf3a-6052-475f-9805-42754e43c6f5",
   "metadata": {
    "colab": {
     "base_uri": "https://localhost:8080/"
    },
    "id": "EI6ZVZnZpE5i",
    "outputId": "6d311a0d-f55f-43b8-c7a9-3aacd7f99354"
   },
   "outputs": [],
   "source": [
    "#Search 1\n",
    "Data.loc[(\n",
    "    (Data['result_title'].str.contains(phrasedefault2_4i, na=False, case=False)) \n",
    "    | ((Data['result_title'].str.contains(phrasedefault2_4a, na=False, case=False)) & (Data['result_title'].str.contains(phrasedefault2_4j, na=False, case=False)))\n",
    "    ),\"tempsdg02_04\"] = \"SDG02_04\"\n",
    "\n",
    "print(\"Number of results = \", len(Data[(Data.tempsdg02_04 == \"SDG02_04\")])) "
   ]
  },
  {
   "cell_type": "code",
   "execution_count": null,
   "id": "60d992c9-9122-4042-9de9-bbbcf49a232a",
   "metadata": {
    "colab": {
     "base_uri": "https://localhost:8080/",
     "height": 459
    },
    "id": "Ixopkv8nppSs",
    "outputId": "ac52bded-31e5-4240-f75e-f2aad9ffaf41"
   },
   "outputs": [],
   "source": [
    "#Results\n",
    "test=Data.loc[(Data.tempsdg02_04 == \"SDG02_04\"), (\"result_id\", \"result_title\")]\n",
    "test.iloc[0:5, ]"
   ]
  },
  {
   "cell_type": "markdown",
   "id": "6e1a61db-fe89-4306-9730-84d825274892",
   "metadata": {},
   "source": [
    "#### Phrase 5\n",
    "The following NIBIO report was used to help with relevant Norwegian terms around soil management: Bardalen et al. (2021). Jordvernets begrunnelser Kunnskapsgrunnlag for revidert jordvernstrategi. NIBIO Report. https://hdl.handle.net/11250/2738064"
   ]
  },
  {
   "cell_type": "code",
   "execution_count": null,
   "id": "246e0943-a904-41f2-a665-3c16d0337d35",
   "metadata": {
    "id": "J1OyLMbMnhye"
   },
   "outputs": [],
   "source": [
    "#Termlists\n",
    "termlist2_4k = [\"soil conserv\", \"soil structure\", \"soil fertility\", \"soil health\", \"soil improvement\",\n",
    "                \"soil quality\", \"land quality\", \"farmland quality\", \"quality of soil\", \"quality of land\",\n",
    "                \"biodiversit\", \"species diversity\", \"ecosystem\", \"pollinator\",\n",
    "\n",
    "                \"jordvern\", \"jordfunksjon\", \"jordforbedring\", \"jordforbetring\", \"jordforvaltning\", \"jordkvalitet\", \"jordas kvalitet\",\n",
    "                \"biologisk mangfold\", \"biologiske mangfold\", \"biologisk mangfald\", \"biomangfold\", \"biomangfald\", \"artsmangfold\", \"artsmangfald\",\n",
    "                \"naturmangfold\", \"naturmangfald\", \"økosystem\"\n",
    "                ]\n",
    "\n",
    "phrasedefault2_4k = r'(?:{})'.format('|'.join(termlist2_4k))"
   ]
  },
  {
   "cell_type": "code",
   "execution_count": null,
   "id": "5319ed9f-8d31-4678-8275-5111ae7d8f6e",
   "metadata": {
    "colab": {
     "base_uri": "https://localhost:8080/"
    },
    "id": "EI6ZVZnZpE5i",
    "outputId": "6d311a0d-f55f-43b8-c7a9-3aacd7f99354"
   },
   "outputs": [],
   "source": [
    "#Search 1\n",
    "Data.loc[(\n",
    "    (Data['result_title'].str.contains(phrasedefault2_4a, na=False, case=False)) \n",
    "    & (Data['result_title'].str.contains(phrasedefault2_4k, na=False, case=False))\n",
    "    ),\"tempsdg02_04\"] = \"SDG02_04\"\n",
    "\n",
    "print(\"Number of results = \", len(Data[(Data.tempsdg02_04 == \"SDG02_04\")])) "
   ]
  },
  {
   "cell_type": "code",
   "execution_count": null,
   "id": "c04ebad9-6fb8-4320-b6ab-da617ac718d8",
   "metadata": {
    "colab": {
     "base_uri": "https://localhost:8080/",
     "height": 459
    },
    "id": "Ixopkv8nppSs",
    "outputId": "ac52bded-31e5-4240-f75e-f2aad9ffaf41"
   },
   "outputs": [],
   "source": [
    "#Results\n",
    "test=Data.loc[(Data.tempsdg02_04 == \"SDG02_04\"), (\"result_id\", \"result_title\")]\n",
    "test.iloc[0:5, ]"
   ]
  },
  {
   "cell_type": "markdown",
   "id": "f074fa73-651c-4864-a338-7299486e28e3",
   "metadata": {},
   "source": [
    "#### Phrase 6\n",
    "The following NIBIO report was used to help with relevant Norwegian terms around soil management: Bardalen et al. (2021). Jordvernets begrunnelser Kunnskapsgrunnlag for revidert jordvernstrategi. NIBIO Report. https://hdl.handle.net/11250/2738064"
   ]
  },
  {
   "cell_type": "code",
   "execution_count": null,
   "id": "3845a460-66fb-4e4e-b54b-6a76137e1d97",
   "metadata": {
    "id": "J1OyLMbMnhye"
   },
   "outputs": [],
   "source": [
    "#Termlists\n",
    "#Note that we don't need biodiversity/pollinator terms here because they are already covered in phrase 5\n",
    "termlist2_4l = [\"desertification\", \"land degradation\", \"environmental impact\", \"environmental footprint\",\n",
    "                \"vannknapphet\", \"ørkenspredning\", \"ørkenspreiing\", \"forørkning\", \"landforringelse\", \"jordforringelse\", \"miljøpåvirk\", \"fotavtrykk\"]\n",
    "\n",
    "termlist2_4m = [\"soil\", \"cropland\", \"farmland\", \"arable land\", \"cultivated land\", \"agricultural land\",\n",
    "                \"jord\", \"dyrket mark\", \"dyrka mark\", \"dyrkamark\", \"dyrket land\", \"dyrka land\"]\n",
    "                #\"land\" had some noise if used alone, for example \"Greenland\"\n",
    "\n",
    "termlist2_4n = [\"loss\", \"degradation\", \"depletion\", \"erosion\", \"compaction\", \"waterlogging\", \"salinization\", \"salinisation\", \"acidifi\", \"pollut\", \"contaminat\", \"vulnerab\",\n",
    "                \"forring\", \"forverr\", \"næringsfattig\", \"avrenning\", \"jordtap\", \"erosjon\", \"forsalting\", \"jordpakking\", \"forsuring\", \"forurensing\", \"forureining\", \"sårbar\"]\n",
    "\n",
    "phrasedefault2_4l = r'(?:{})'.format('|'.join(termlist2_4l))\n",
    "phrasedefault2_4m = r'(?:{})'.format('|'.join(termlist2_4m))\n",
    "phrasedefault2_4n = r'(?:{})'.format('|'.join(termlist2_4n))"
   ]
  },
  {
   "cell_type": "code",
   "execution_count": null,
   "id": "ef9e89bd-68db-443d-8ba4-6272471f7672",
   "metadata": {
    "colab": {
     "base_uri": "https://localhost:8080/"
    },
    "id": "EI6ZVZnZpE5i",
    "outputId": "6d311a0d-f55f-43b8-c7a9-3aacd7f99354"
   },
   "outputs": [],
   "source": [
    "#Search 1\n",
    "Data.loc[(\n",
    "    (Data['result_title'].str.contains(phrasedefault2_4a, na=False, case=False)) \n",
    "    & \n",
    "      ((Data['result_title'].str.contains(phrasedefault2_4l, na=False, case=False))\n",
    "      | ((Data['result_title'].str.contains(phrasedefault2_4m, na=False, case=False))&(Data['result_title'].str.contains(phrasedefault2_4n, na=False, case=False)))\n",
    "      )\n",
    "    ),\"tempsdg02_04\"] = \"SDG02_04\"\n",
    "\n",
    "print(\"Number of results = \", len(Data[(Data.tempsdg02_04 == \"SDG02_04\")])) "
   ]
  },
  {
   "cell_type": "code",
   "execution_count": null,
   "id": "14febf0a-cea0-4818-95ff-d343cb56a505",
   "metadata": {
    "colab": {
     "base_uri": "https://localhost:8080/",
     "height": 459
    },
    "id": "Ixopkv8nppSs",
    "outputId": "ac52bded-31e5-4240-f75e-f2aad9ffaf41"
   },
   "outputs": [],
   "source": [
    "#Results\n",
    "test=Data.loc[(Data.tempsdg02_04 == \"SDG02_04\"), (\"result_id\", \"result_title\")]\n",
    "test.iloc[0:5, ]"
   ]
  },
  {
   "cell_type": "markdown",
   "id": "fc8f981a-96e9-434b-ae9d-49e3ae1265c5",
   "metadata": {},
   "source": [
    "### SDG 2.5\n",
    "\n",
    "*2.5 By 2020, maintain the genetic diversity of seeds, cultivated plants and farmed and domesticated animals and their related wild species, including through soundly managed and diversified seed and plant banks at the national, regional and international levels, and promote access to and fair and equitable sharing of benefits arising from the utilization of genetic resources and associated traditional knowledge, as internationally agreed.*\n",
    "\n",
    "*Innen 2020 opprettholde det genetiske mangfoldet av frø, kulturplanter, husdyr og beslektede ville arter, blant annet gjennom veldrevne og rikholdige frø- og plantesamlinger nasjonalt, regionalt og internasjonalt, og fremme tilgang til og en rettferdig og likeverdig fordeling av de goder som følger av bruk av genressurser og tilhørende tradisjonell kunnskap, i tråd med internasjonal enighet*"
   ]
  },
  {
   "cell_type": "markdown",
   "id": "c2dfd752-10c5-4400-b154-252725c4684a",
   "metadata": {
    "tags": []
   },
   "source": [
    "#### Phrase 1 & 2\n",
    "These two are combined here because it was difficult to find completely non-overlapping terms in Norwegian. Phrase 1 deals with terms quite specific to animal and plant genetic diversity in agriculture, while phrase 2 deals with genetic resources generally combined with agriculture. In practice, here the approach for these became so similar that I combined them. "
   ]
  },
  {
   "cell_type": "code",
   "execution_count": null,
   "id": "1d852674-20cf-4e14-b82c-b12e308b83ce",
   "metadata": {
    "id": "J1OyLMbMnhye"
   },
   "outputs": [],
   "source": [
    "#Termlists\n",
    "termlist2_5a = [\"plant genetic resource\", \"animal genetic resource\", \n",
    "                \"agricultural diversity\", \"agricultural biodiversity\", \"agrobiodiversity\",\n",
    "                \"wild relative\", \n",
    "                \"local breed\", \"local cultivar\", \"traditional breed\", \"traditional cultivar\", \"indiengous breed\", \"indigenous cultivar\", \"autochthonous breed\", \"autochthonous cultivar\",\n",
    "                \"indigenous variet\", \"indigenous crop\", \"indigenous grain\", \"indigenous vegetable\", \"indigenous fruit\", \"indigenous cereal\", \"indigenous rice\", \"indigenous wheat\", \"indigenous maize\", \"indigenous pulse\",\n",
    "                \"indigenous livestock\", \"indigenous poultry\", \"indigenous cattle\", \"indigenous sheep\", \"indigenous goat\", \"indigenous chicken\", \"indigenous duck\", \"indigenous buffalo\",\n",
    "                \"traditional livestock\", \"traditional poultry\", \"traditional cattle\", \"traditional sheep\", \"traditional goat\", \"traditional chicken\", \"traditional duck\", \"traditional buffalo\",\n",
    "                \"traditional variet\", \"traditional crop\", \"traditional grain\", \"traditional vegetable\", \"traditional fruit\", \"traditional cereal\", \"traditional rice\", \"traditional wheat\", \"traditional maize\", \"traditional pulse\",\n",
    "                \"local variet\", \"local crop\", \"local grain\", \"local vegetable\", \"local fruit\", \"local cereal\", \"local rice\", \"local wheat\", \"local maize\", \"local pulse\",\n",
    "                \"local livestock\", \"local poultry\", \"local cattle\", \"local sheep\", \"local goat\", \"local chicken\", \"local duck\", \"local buffalo\",\n",
    "                \"landrace\",\n",
    "                \n",
    "                \"plantegenetiske ressurs\", \"dyrgenetiske ressurs\", \"dyregenetiske ressurs\",\n",
    "                \"biologisk mangfold for mat\",\"biologisk mangfold for landbruk\",\"biologisk mangfold for jordbruk\",\n",
    "                \"biologisk diversitet for mat\",\"biologisk diversitet for landbruk\",\"biologisk diversitet for jordbruk\",\n",
    "                \"biomangfold for mat\",\"biomangfold for landbruk\",\"biomangfold for jordbruk\",\n",
    "                \"ville slekt\", \"villslekt\",\n",
    "                \"gamle eplesort\", \"gamle eplevariant\", \"tradisjonelle eplesort\", \"tradisjonelle eplevariant\"]\n",
    "                #Apples are added in Norwegian as this seems to be a specific focus area\n",
    "\n",
    "termlist2_5b = [\"heirloom\", \"wild relative\", \"genetic resource\", \"genetic diversity\",\n",
    "                \"mangfold\", \"mangfald\", \"ville\", \"viltvoks\", \"viltvaks\", \"tradisjonelle\", \"genetiske ressurs\", \"genressurs\", \"genetikk diversit\"]\n",
    "\n",
    "termlist2_5c = [\"food-produc\", \"food produc\", \"grower\", \"agrifood\", \"agri-food\", \"agro-food\", \"agro food\",\n",
    "                \"agricultur\", \"farm\", \"smallhold\", \"small-hold\", \"permacultur\", \"cropping\", \"orchard\", \"arable land\",\n",
    "                \"pasture\", \"pastoral\", \"agroforest\", \"agro-forest\", \"silvopastur\", \"silvopastoral\",\n",
    "                \"aquacultur\", \"maricultur\", \"fisher\", \"fish farm\", \"herding\",\n",
    "                \"crop\", \"grain\", \"vegetable\", \"fruit\", \"cereal\", \" rice\", \"wheat\", \"maize\", \"pulses\", \"legume\",\n",
    "                \"livestock\", \"fish\", \"salmon\", \"cattle\", \"sheep\", \"poultry\", \"pigs\", \"goats\", \"chicken\", \"buffalo\", \"ducks\", \"reindeer\",\n",
    "                \n",
    "                \"matproduksjon\", \"matprodusent\",\n",
    "                \"landbruk\", \"jordbruk\", \"gårdsbruk\", \"gardsbruk\", \"småbruk\", \"familiebruk\", \"dyrket mark\", \"dyrkamark\", \"dyrka mark\", \"kultivert mark\",\n",
    "                \"beite\", \"dyreproduksjon\", \"meieri\",\n",
    "                \"fiskeoppdrett\", \"lakseoppdrett\", \"havbruk\",\n",
    "                \"grønnsak\", \"grønsak\", \"frukt\", \"laks\", \" sau\", \"storfe\", \" svin\", \"fjærkre\", \" rein\",\n",
    "                \"eplesort\", \"epler\", \"epledyrk\"]\n",
    "                #\"husdyr\" (NO) was tested but mostly brought noise about household fauna\n",
    "                #\"gård\" (NO) was also removed as mostly were results with place names (e.g Oppegård)\n",
    "                #\"fish\" is changed to \"fisher\" here to avoid fish diversity works\n",
    "                #\"eple\" (NO) is used in other forms because it is a part of other words such as \"sykEPLEier\".\n",
    "\n",
    "phrasedefault2_5a = r'(?:{})'.format('|'.join(termlist2_5a))\n",
    "phrasedefault2_5b = r'(?:{})'.format('|'.join(termlist2_5b))\n",
    "phrasedefault2_5c = r'(?:{})'.format('|'.join(termlist2_5c))"
   ]
  },
  {
   "cell_type": "code",
   "execution_count": null,
   "id": "94690beb-c7aa-454d-871d-ce6a5a548e33",
   "metadata": {
    "colab": {
     "base_uri": "https://localhost:8080/"
    },
    "id": "EI6ZVZnZpE5i",
    "outputId": "6d311a0d-f55f-43b8-c7a9-3aacd7f99354"
   },
   "outputs": [],
   "source": [
    "#Search 1\n",
    "Data.loc[(\n",
    "   (Data['result_title'].str.contains(phrasedefault2_5a, na=False, case=False)) \n",
    "    | (\n",
    "        (Data['result_title'].str.contains(phrasedefault2_5b, na=False, case=False))&(Data['result_title'].str.contains(phrasedefault2_5c, na=False, case=False))\n",
    "      )\n",
    "    ),\"tempsdg02_05\"] = \"SDG02_05\"\n",
    "\n",
    "print(\"Number of results = \", len(Data[(Data.tempsdg02_05 == \"SDG02_05\")])) "
   ]
  },
  {
   "cell_type": "code",
   "execution_count": null,
   "id": "b86b9707-bacc-4a55-a0ec-1aeb85a5a11d",
   "metadata": {
    "colab": {
     "base_uri": "https://localhost:8080/",
     "height": 459
    },
    "id": "Ixopkv8nppSs",
    "outputId": "ac52bded-31e5-4240-f75e-f2aad9ffaf41"
   },
   "outputs": [],
   "source": [
    "#Results\n",
    "test=Data.loc[(Data.tempsdg02_05 == \"SDG02_05\"), (\"result_id\", \"result_title\")]\n",
    "test.iloc[20:30, ]"
   ]
  },
  {
   "cell_type": "markdown",
   "id": "dc4f0e31-0c25-46e1-a4b6-5dcc50b27f6e",
   "metadata": {},
   "source": [
    "#### Phrase 3\n",
    "\n",
    "Here we have simplified (to adapt from abstract to title search) - drop the terms starting `\"diversity\" OR \"genetic resources\"...` so it is enough for the title to mention cryoconservation / genebanks. In the abstract the more detialed approach was necessary becaue many works mention that they *used* a gene bank in the methods, but are not about gene banks. "
   ]
  },
  {
   "cell_type": "code",
   "execution_count": null,
   "id": "da86eddc-3ba9-43d2-9c6a-00f0e26f91b7",
   "metadata": {
    "id": "J1OyLMbMnhye"
   },
   "outputs": [],
   "source": [
    "#Termlists\n",
    "termlist2_5d = [\"cryoconserv\", \n",
    "                \"kryo-bevaring\", \"kryobevaring\"] \n",
    "\n",
    "termlist2_5e = [\"plant bank\", \"seed bank\", \"genebank\", \"germplasm bank\", \"cryobank\", \"ex-situ\", \"cryopreserv\", \n",
    "                \"frøhvelv\", \"frøkvelv\", \"plantebank\", \"frøbank\", \"genbank\", \"genbevaring\", \"genressurssenter\", \"kimplasmabank\", \"kimplasmabevaring\", \"kryopreserv\"]\n",
    "\n",
    "phrasedefault2_5d = r'(?:{})'.format('|'.join(termlist2_5d))\n",
    "phrasedefault2_5e = r'(?:{})'.format('|'.join(termlist2_5e))"
   ]
  },
  {
   "cell_type": "code",
   "execution_count": null,
   "id": "95aedecf-1bf8-49e0-969a-748778735fcc",
   "metadata": {
    "colab": {
     "base_uri": "https://localhost:8080/"
    },
    "id": "EI6ZVZnZpE5i",
    "outputId": "6d311a0d-f55f-43b8-c7a9-3aacd7f99354"
   },
   "outputs": [],
   "source": [
    "#Search 1\n",
    "Data.loc[(\n",
    "    (Data['result_title'].str.contains(phrasedefault2_5c, na=False, case=False)) \n",
    "    & ((Data['result_title'].str.contains(phrasedefault2_5d, na=False, case=False))|(Data['result_title'].str.contains(phrasedefault2_5e, na=False, case=False)))\n",
    "    ),\"tempsdg02_05\"] = \"SDG02_05\"\n",
    "\n",
    "print(\"Number of results = \", len(Data[(Data.tempsdg02_05 == \"SDG02_05\")])) "
   ]
  },
  {
   "cell_type": "code",
   "execution_count": null,
   "id": "3d647d88-6185-49f7-b6aa-18a1c618fdf8",
   "metadata": {
    "colab": {
     "base_uri": "https://localhost:8080/",
     "height": 459
    },
    "id": "Ixopkv8nppSs",
    "outputId": "ac52bded-31e5-4240-f75e-f2aad9ffaf41"
   },
   "outputs": [],
   "source": [
    "#Results\n",
    "test=Data.loc[(Data.tempsdg02_05 == \"SDG02_05\"), (\"result_id\", \"result_title\")]\n",
    "test.iloc[0:5, ]"
   ]
  },
  {
   "cell_type": "markdown",
   "id": "4d4a29c8-984e-4fcb-acfe-de86dc78c1fe",
   "metadata": {},
   "source": [
    "#### Phrase 4 & 5"
   ]
  },
  {
   "cell_type": "code",
   "execution_count": null,
   "id": "96807e9c-4647-4f1b-ab57-7938b2c5d3a2",
   "metadata": {
    "id": "J1OyLMbMnhye"
   },
   "outputs": [],
   "source": [
    "#Termlists\n",
    "termlist2_5f = [\"genetic resource\", \"agrobiodiversity\",\n",
    "                \"plant bank\", \"seed bank\", \"genebank\", \"germplasm bank\", \"cryobank\", \"ex-situ\", \"cryopreserv\", \n",
    "                \"seed commons\",\n",
    "                \"bioprospect\", \n",
    "                \"traditional knowledge\", \"local knowledge\", \"indigenous knowledge\",\"autochthonous knowledge\", \n",
    "                \n",
    "                \"genetiske ressurs\", \"genressurs\", \n",
    "                \"frøhvelv\", \"frøkvelv\",\"plantebank\", \"frøbank\", \"genbank\", \"genbevaring\", \"kimplasmabevaring\", \"kimplasmabank\", \"kimplasmaressurs\",  \"kryopreserv\",\n",
    "                \"frøallmenning\",\n",
    "                \"bioprospekt\",\n",
    "                \"tradisjonelle kunnskap\", \"tradisjonell kunnskap\", \"urfolkskunnskap\", \"urfolksperspektiv\"]\n",
    "              \n",
    "termlist2_5g = [\"governance\", \"justice\", \"ownership\",\n",
    "                \"biopira\", \"inequit\", \n",
    "                \"material transfer\", \"consent\", \"sharing\", \"equitab\", \"equal\", \"fair\", \"access\", \"right\", \"availab\",\n",
    "                \"Convention on biological diversity\", \"CBD\", \"Nagoya\", \n",
    "\n",
    "                \"myndig\", \"styring\", \"ledelse\", \"leiing\", \"rettferd\", \"eierskap\", \"eigarskap\",\n",
    "                \"avtale\", \"deling\", \"deler\", \"tilgang\", \"tilgjeng\", \"rett\",\n",
    "                \"Konvensjonen om biologisk mangfold\"] \n",
    "\n",
    "termlist2_5h = [\"International Seed Treaty\", \"Global Plan of Action for Animal Genetic Resources\", \"Plant Genetic Resources for Food and Agriculture\", \"PGRFA\",\n",
    "                \"Den internasjonale plantetraktaten\"]\n",
    "\n",
    "phrasedefault2_5f = r'(?:{})'.format('|'.join(termlist2_5f))\n",
    "phrasedefault2_5g = r'(?:{})'.format('|'.join(termlist2_5g))\n",
    "phrasedefault2_5h = r'(?:{})'.format('|'.join(termlist2_5h))"
   ]
  },
  {
   "cell_type": "code",
   "execution_count": null,
   "id": "75f824ae-58e0-4dc7-8b7f-2eccbba6d023",
   "metadata": {
    "colab": {
     "base_uri": "https://localhost:8080/"
    },
    "id": "EI6ZVZnZpE5i",
    "outputId": "6d311a0d-f55f-43b8-c7a9-3aacd7f99354"
   },
   "outputs": [],
   "source": [
    "#Search 1\n",
    "Data.loc[(\n",
    "    (\n",
    "        (Data['result_title'].str.contains(phrasedefault2_5c, na=False, case=False)) \n",
    "        & (Data['result_title'].str.contains(phrasedefault2_5f, na=False, case=False))\n",
    "        & (Data['result_title'].str.contains(phrasedefault2_5g, na=False, case=False))\n",
    "    )\n",
    "    |(Data['result_title'].str.contains(phrasedefault2_5h, na=False, case=False))\n",
    "    ),\"tempsdg02_05\"] = \"SDG02_05\"\n",
    "\n",
    "print(\"Number of results = \", len(Data[(Data.tempsdg02_05 == \"SDG02_05\")])) "
   ]
  },
  {
   "cell_type": "code",
   "execution_count": null,
   "id": "167e2873-39d0-49a8-b2fd-b641a0885ba1",
   "metadata": {
    "colab": {
     "base_uri": "https://localhost:8080/",
     "height": 459
    },
    "id": "Ixopkv8nppSs",
    "outputId": "ac52bded-31e5-4240-f75e-f2aad9ffaf41",
    "tags": []
   },
   "outputs": [],
   "source": [
    "#Results\n",
    "test=Data.loc[(Data.tempsdg02_05 == \"SDG02_05\"), (\"result_id\", \"result_title\")]\n",
    "test.iloc[0:5, ]"
   ]
  },
  {
   "cell_type": "markdown",
   "id": "4b150de9-48f7-45a4-8c84-a1b320a73fbe",
   "metadata": {
    "id": "tt-Bv9BcnnUQ"
   },
   "source": [
    "### SDG 2.a\n",
    "\n",
    "*2.a Increase investment, including through enhanced international cooperation, in rural infrastructure, agricultural research and extension services, technology development and plant and livestock gene banks in order to enhance agricultural productive capacity in developing countries, in particular least developed countries.*\n",
    "\n",
    "*Blant annet gjennom bedre internasjonalt samarbeid øke investeringene i infrastruktur på landsbygda, i forskning og veiledningstjenester innenfor landbruket, i teknologiutvikling og i genbanker for planter og husdyr, med sikte på å forbedre produksjonskapasiteten i landbruket i utviklingsland, særlig i de minst utviklede landene*"
   ]
  },
  {
   "cell_type": "code",
   "execution_count": null,
   "id": "95f92c89-3f28-45c1-b1eb-d0ebe8508c4f",
   "metadata": {
    "id": "J1OyLMbMnhye"
   },
   "outputs": [],
   "source": [
    "#Termlists\n",
    "termlist2_aa = [\"Agriculture Orientation Index for Government Expenditure\"]\n",
    "\n",
    "termlist2_ab = [\"government expenditure\", \"government spending\", \"public expenditure\", \"public spending\",\n",
    "                \"investment\", \"investing\", \"invest \", \"finance\", \"financing\", \"fund\", \"grant\", \"financial resource\",\n",
    "                \"cooperation fund\", \"co-operation fund\", \"development spending\", \n",
    "                \"international cooperation\", \"international co-operation\", \"international collaboration\", \"international network\", \"international partnership\", \"international aid\", \"international assistance\",\n",
    "                \"international development\", \"development cooperation\", \"development co-operation\", \"development collaboration\", \"development network\", \"development partnership\", \"development aid\", \"development assistance\",\n",
    "                \"foreign cooperation\", \"foreign co-operation\", \"foreign collaboration\", \"foreign network\", \"foreign partnership\", \"foreign aid\", \"foreign assistance\",\n",
    "\n",
    "                \"statsbudsjett\", \"statsstøtte\", \"offentlig støtte\", \n",
    "                \"finansiel\", \"midlar\", \"økonomiske ressurs\",\n",
    "                \"samarbeidsfond\", \"utviklingsstøtte\", \"utviklingsstønad\", \"bistand\", \"utviklingshjelp\", \"u-hjelp\",\n",
    "                \"utviklingssamarbeid\", \"internasjonalt samarbeid\", \"internasjonale samarbeid\"]\n",
    "\n",
    "termlist2_ab_trunc = [\"ODA\"]\n",
    "\n",
    "termlist2_ac = [\"rural infrastructure\", \"rural infrastructure\", \"rural techn\", \"rural development\",\n",
    "                \"agronom\", \"agroecolog\", \"agro-ecolog\", \"agricultural sector\",\n",
    "                \"plant bank\", \"seed bank\", \"gene bank\", \"genebank\", \"germplasm bank\", \"cryobank\",\n",
    "                \"agricultur\", \"farm\", \"smallhold\", \"small-hold\", \"irrigat\", \"agrofood\", \"agrifood\", \"agri food\", \"agri-food\", \"aquacultur\", \"maricultur\",\n",
    "\n",
    "                \"frøhvelv\", \"frøkvelv\", \"plantebank\", \"frøbank\", \"genbank\", \"genbevaring\", \"genressurssenter\", \"kimplasmabank\", \"kimplasmabevaring\",\n",
    "                \"jordbruk\", \"landbruk\", \"gård\", \"gard\", \"småbruk\", \"familiebruk\", \"matprodusent\", \"matproduksjon\", \"akvakultur\", \"havbruk\"]\n",
    "\n",
    "phrasedefault2_aa = r'(?:{})'.format('|'.join(termlist2_aa))\n",
    "phrasedefault2_ab = r'(?:{})'.format('|'.join(termlist2_ab))\n",
    "phrasespecific2_ab = r'\\b(?:{})\\b'.format('|'.join(termlist2_ab_trunc))\n",
    "phrasedefault2_ac = r'(?:{})'.format('|'.join(termlist2_ac))"
   ]
  },
  {
   "cell_type": "code",
   "execution_count": null,
   "id": "3d25a3d4-1f9b-4abe-a54f-620644fb4c4a",
   "metadata": {},
   "outputs": [],
   "source": [
    "#Search - in LMICs\n",
    "Data.loc[(\n",
    "    (\n",
    "      (Data['result_title'].str.contains(phrasedefault2_aa, na=False, case=False)) \n",
    "      |\n",
    "        (\n",
    "            ((Data['result_title'].str.contains(phrasedefault2_ab, na=False, case=False))|(Data['result_title'].str.contains(phrasespecific2_ab, na=False, case=False)))\n",
    "            & (Data['result_title'].str.contains(phrasedefault2_ac, na=False, case=False)) \n",
    "        )\n",
    "    )\n",
    "    & (Data['LMICs']==True)\n",
    "),\"tempsdg02_a\"] = \"SDG02_0a\"\n",
    "\n",
    "print(\"Number of results = \", len(Data[(Data.tempsdg02_a == \"SDG02_0a\")]))  "
   ]
  },
  {
   "cell_type": "code",
   "execution_count": null,
   "id": "ac230a18-be42-4375-a3a4-ce1a50e2db20",
   "metadata": {
    "colab": {
     "base_uri": "https://localhost:8080/",
     "height": 459
    },
    "id": "Ixopkv8nppSs",
    "outputId": "ac52bded-31e5-4240-f75e-f2aad9ffaf41"
   },
   "outputs": [],
   "source": [
    "#Results\n",
    "test=Data.loc[(Data.tempsdg02_a == \"SDG02_0a\"), (\"result_id\", \"result_title\")]\n",
    "test.iloc[0:15, ]"
   ]
  },
  {
   "cell_type": "markdown",
   "id": "e53082a3-46ff-4c14-8b3a-633f78bc5c36",
   "metadata": {
    "id": "tt-Bv9BcnnUQ"
   },
   "source": [
    "### SDG 2.b\n",
    "\n",
    "*2.b Correct and prevent trade restrictions and distortions in world agricultural markets, including through the parallel elimination of all forms of agricultural export subsidies and all export measures with equivalent effect, in accordance with the mandate of the Doha Development Round.*\n",
    "\n",
    "*Korrigere og hindre handelsrestriksjoner og vridninger på verdens landbruksmarkeder, blant annet gjennom en parallell avvikling av alle former for eksportsubsidier på landbruksvarer og alle eksporttiltak med tilsvarende effekt, i samsvar med mandatet for Doha-runden*"
   ]
  },
  {
   "cell_type": "code",
   "execution_count": null,
   "id": "03a2a3e1-7ddd-4c49-80b5-9dbd0f56c423",
   "metadata": {
    "id": "J1OyLMbMnhye"
   },
   "outputs": [],
   "source": [
    "#Termlists\n",
    "termlist2_ba = [\"export subsid\",\"export credit\",\"export financ\",\"export competition\",\"export support\",\n",
    "                \"eksportsubsidi\", \"eksporttiltak\", \"eksportrestriksjon\", \"markeds-forstyrrende\",]\n",
    "\n",
    "termlist2_bb = [\"food\", \"agricultur\", \"aquacult\", \"maricult\", \n",
    "                \"crop\", \"grain\", \"vegetable\", \"fruit\", \"cereal\", \" rice\", \"wheat\", \"maize\", \"pulses\", \"legume\", \n",
    "                \"livestock\", \"fish\", \"salmon\", \"cattle\", \"sheep\", \"poultry\", \"pigs\", \"goats\", \"chicken\", \"buffalo\", \"ducks\", \"reindeer\",\n",
    "                \n",
    "                \"matprod\", \"gård\", \"landbruk\", \"jordbruk\", \"fiskeoppdrett\", \"lakseoppdrett\", \"havbruk\", \"akvakultur\",\n",
    "                \"grønnsak\", \"grønsak\", \"frukt\", \"fisk\", \"laks\", \" sau\", \"storfe\", \" svin\", \"fjærkre\", \"rein\"]\n",
    "\n",
    "termlist2_bc = [\"distort\", \"price-fixing\", \"dumping\", \"trade restrict\", \"sanction\", \"Doha\", \"food aid\", \"state support\",\"state financial support\",\n",
    "                \"WTO dispute\",\n",
    "\n",
    "                \"vridning\", \"handelsrestriksjon\", \"matbistand\", \n",
    "                \"verdens handelsorganisasjon\", \"verdas handelsorganisasjon\", \"handelsreform\"]\n",
    "\n",
    "#termlist2_bd = [\"trade\", \"trading\", \"market\", \"export\", \"import\",       \n",
    "#                \"handel\", \"marked\", \"marknad\", \"eksport\"]\n",
    "\n",
    "phrasedefault2_ba = r'(?:{})'.format('|'.join(termlist2_ba))\n",
    "phrasedefault2_bb = r'(?:{})'.format('|'.join(termlist2_bb))\n",
    "phrasedefault2_bc = r'(?:{})'.format('|'.join(termlist2_bc))\n",
    "#phrasedefault2_bd = r'(?:{})'.format('|'.join(termlist2_bd))"
   ]
  },
  {
   "cell_type": "code",
   "execution_count": null,
   "id": "918edaec-2a41-4fc8-99c5-a2ffd428c789",
   "metadata": {
    "colab": {
     "base_uri": "https://localhost:8080/"
    },
    "id": "EI6ZVZnZpE5i",
    "outputId": "6d311a0d-f55f-43b8-c7a9-3aacd7f99354"
   },
   "outputs": [],
   "source": [
    "#Search 1\n",
    "#Note that although the WOS phrase would be a&b|b&c&d, here in the title search d is not as necessary. Removing it adds 1 more result.\n",
    "\n",
    "Data.loc[(\n",
    "    (Data['result_title'].str.contains(phrasedefault2_bb, na=False, case=False)) \n",
    "    & \n",
    "    (\n",
    "        (Data['result_title'].str.contains(phrasedefault2_ba, na=False, case=False))\n",
    "        |(Data['result_title'].str.contains(phrasedefault2_bc, na=False, case=False))\n",
    "    )\n",
    "    ),\"tempsdg02_b\"] = \"SDG02_b\"\n",
    "\n",
    "print(\"Number of results = \", len(Data[(Data.tempsdg02_b == \"SDG02_b\")])) "
   ]
  },
  {
   "cell_type": "code",
   "execution_count": null,
   "id": "17815b87-8589-41e1-8d7e-10bedad85fb3",
   "metadata": {
    "colab": {
     "base_uri": "https://localhost:8080/",
     "height": 459
    },
    "id": "Ixopkv8nppSs",
    "outputId": "ac52bded-31e5-4240-f75e-f2aad9ffaf41"
   },
   "outputs": [],
   "source": [
    "#Results\n",
    "test=Data.loc[(Data.tempsdg02_b == \"SDG02_b\"), (\"result_id\", \"result_title\")]\n",
    "test.iloc[0:6, ]"
   ]
  },
  {
   "cell_type": "markdown",
   "id": "c7e957f6-4b57-4cb1-8c91-6c2560850de6",
   "metadata": {
    "id": "tt-Bv9BcnnUQ"
   },
   "source": [
    "### SDG 2.c\n",
    "\n",
    "*2.c Adopt measures to ensure the proper functioning of food commodity markets and their derivatives and facilitate timely access to market information, including on food reserves, in order to help limit extreme food price volatility.*\n",
    "\n",
    "*Vedta tiltak for å sikre at råvare- og derivatmarkedene for matvarer er velfungerende og legge til rette for rask tilgang til markedsinformasjon, blant annet om matreserver, for å begrense ekstreme svingninger i matvareprisene*"
   ]
  },
  {
   "cell_type": "code",
   "execution_count": null,
   "id": "5edd14ea-8c5a-4be5-bcef-d3e9c37f318a",
   "metadata": {
    "id": "J1OyLMbMnhye"
   },
   "outputs": [],
   "source": [
    "#Termlists\n",
    "termlist2_ca = [\"food\", \"agricultur\", \"aquacultur\", \"maricultur\",\n",
    "                \" crop\", \"grain\", \"vegetable\", \"fruit\", \"cereal\", \" rice\", \"wheat\", \"maize\", \"pulses\", \"legume\",\n",
    "                \"livestock\", \"fish\", \"salmon\", \"cattle\", \"sheep\", \"poultry\", \"pigs\", \"goats\", \"chicken\", \"buffalo\", \"ducks\", \"reindeer\",\n",
    "                \n",
    "                \"matprod\", \"gård\", \"gard\", \"landbruk\", \"jordbruk\",\n",
    "                \"fiskeoppdrett\", \"lakseoppdrett\", \"havbruk\", \"akvakultur\", \n",
    "                \"grønnsak\", \"grønsak\", \"frukt\", \"fisk\", \"laks\", \" sau\", \"storfe\", \"svine\", \"fjærkre\", \"rein\"]\n",
    "                #\"food\" will find agrifood etc.\n",
    "                #I've added a space before \"crop\" and \"rice\" to prevent \"macro\" and \"price\"\n",
    "                #using \"svine\"(NO) here instead of svin, because we expect it to talk about svineprodukt, but also because it only adds 1 noisy result\n",
    "\n",
    "termlist2_cb = [\"price\", \"market\", \"trade\", \"trading\",\n",
    "                \"pris\", \"kostnad\", \"marked\", \"marknad\", \"verdenshandel\", \"verdshandel\", \"internasjonal handel\", \"internasjonale handel\"]\n",
    "\n",
    "termlist2_cc = [\"volatil\",\"anomalies\",\"price shock\",\"price spike\",\"inflation\",\"stabil\",\"stable\",\"function\",\n",
    "                \"sving\", \"forutsig\", \"forutsei\", \"prishopp\",\"prissjokk\",\"inflasjon\",\"funksjon\"]\n",
    "                #\"stabil\" will find stabilis/ze, stability, instability, and the Norwegian term for stable/unstable (stabil, NO). \n",
    "                #\"Volatil\" will find the Norwegian word too.\n",
    "\n",
    "termlist2_cd = [\"price\", \n",
    "                \"pris\", \"kostnad\"]\n",
    "\n",
    "termlist2_ce = [\"market\", \"marknad\", \"trading\", \"trading\", \n",
    "                \"marked\", \"verdenshandel\", \"verdshandel\", \"internasjonal handel\", \"internasjonale handel\"]\n",
    "\n",
    "phrasedefault2_ca = r'(?:{})'.format('|'.join(termlist2_ca))\n",
    "phrasedefault2_cb = r'(?:{})'.format('|'.join(termlist2_cb))\n",
    "phrasedefault2_cc = r'(?:{})'.format('|'.join(termlist2_cc))\n",
    "phrasedefault2_cd = r'(?:{})'.format('|'.join(termlist2_cd))\n",
    "phrasedefault2_ce = r'(?:{})'.format('|'.join(termlist2_ce))"
   ]
  },
  {
   "cell_type": "code",
   "execution_count": null,
   "id": "d462f09a-eeea-4fda-b563-5f9ee160b2c8",
   "metadata": {
    "colab": {
     "base_uri": "https://localhost:8080/"
    },
    "id": "EI6ZVZnZpE5i",
    "outputId": "6d311a0d-f55f-43b8-c7a9-3aacd7f99354"
   },
   "outputs": [],
   "source": [
    "#Search 1\n",
    "Data.loc[(\n",
    "    (Data['result_title'].str.contains(phrasedefault2_ca, na=False, case=False)) \n",
    "    & \n",
    "    (\n",
    "        ((Data['result_title'].str.contains(phrasedefault2_cb, na=False, case=False)) & (Data['result_title'].str.contains(phrasedefault2_cc, na=False, case=False)))\n",
    "        |((Data['result_title'].str.contains(phrasedefault2_cd, na=False, case=False)) & (Data['result_title'].str.contains(phrasedefault2_ce, na=False, case=False)))\n",
    "    )\n",
    "    ),\"tempsdg02_c\"] = \"SDG02_c\"\n",
    "\n",
    "print(\"Number of results = \", len(Data[(Data.tempsdg02_c == \"SDG02_c\")])) "
   ]
  },
  {
   "cell_type": "code",
   "execution_count": null,
   "id": "f2bf0757-5c0a-443c-bbb8-b10b515c815f",
   "metadata": {
    "colab": {
     "base_uri": "https://localhost:8080/",
     "height": 459
    },
    "id": "Ixopkv8nppSs",
    "outputId": "ac52bded-31e5-4240-f75e-f2aad9ffaf41"
   },
   "outputs": [],
   "source": [
    "#Results\n",
    "test=Data.loc[(Data.tempsdg02_c == \"SDG02_c\"), (\"result_id\", \"result_title\")]\n",
    "test.iloc[0:5, ]"
   ]
  },
  {
   "cell_type": "markdown",
   "id": "bba4e5e8-eb87-4292-b5a3-545a9bcc1da1",
   "metadata": {
    "id": "_ADzDRAX7cfF"
   },
   "source": [
    "### SDG 2 mentions\n",
    "\n",
    "Works mentioning the SDG"
   ]
  },
  {
   "cell_type": "code",
   "execution_count": null,
   "id": "eff97712-8038-4bb0-9659-415f1b0dd3dd",
   "metadata": {
    "id": "jHKLb8DLzOkf"
   },
   "outputs": [],
   "source": [
    "#Termlists\n",
    "termlist_sdg_a = [\"SDG 2\", \"SDGs 2\", \"SDG2\", \"sustainable development goal 2\", \n",
    "                  \"bærekraftsmål 2\"]\n",
    "termlist_sdg_b = [\"sustainable development goal\", \n",
    "                  \"bærekraftsmål\"]\n",
    "termlist_sdg_c = [\"goal 2\",\n",
    "                  \"mål 2\"]\n",
    "termlist_sdg_d = [\"sustainable development goal.*\", \"SDG\", \"goal 2\", \n",
    "                  \"bærekraftsmål.*\", \"mål 2\"]\n",
    "termlist_sdg_e = [\"hunger\", \"food\", \n",
    "                  \"utrydde sult\"]\n",
    "\n",
    "phrasespecific_sdg_a = r'(?:{})\\b'.format('|'.join(termlist_sdg_a))\n",
    "phrasedefault_sdg_b = r'(?:{})'.format('|'.join(termlist_sdg_b))\n",
    "phrasedefault_sdg_c = r'(?:{})'.format('|'.join(termlist_sdg_c))\n",
    "phrasespecific_sdg_d = r'(?:{})\\b'.format('|'.join(termlist_sdg_d))\n",
    "phrasedefault_sdg_e = r'(?:{})'.format('|'.join(termlist_sdg_e))"
   ]
  },
  {
   "cell_type": "markdown",
   "id": "5ef18739-417c-4927-965b-4b76318e362b",
   "metadata": {
    "id": "zBtRoz_MzOki"
   },
   "source": [
    "Here it was not neccesary to exclude the NOT terms used in a normal abstract search, so they are not used. But in other contexts/abstract searches it may be necessary to add them in again. \n",
    "\n",
    "\"SDG\" was also not searched for case-sensitive, as it seems to work ok without.\n",
    "\n",
    "Right truncation on SDG2 is prevented to avoid the course code SDG214 (Norway-specific problem). "
   ]
  },
  {
   "cell_type": "code",
   "execution_count": null,
   "id": "0fda3f75-156d-450e-9ac7-7681d03cccd8",
   "metadata": {
    "colab": {
     "base_uri": "https://localhost:8080/"
    },
    "id": "PdvRZGF2zOki",
    "outputId": "39b20227-9468-4d55-d9e8-358768808005"
   },
   "outputs": [],
   "source": [
    "#Search 1\n",
    "Data.loc[(\n",
    "      (Data['result_title'].str.contains(phrasespecific_sdg_a, na=False, case=False))\n",
    "      |((Data['result_title'].str.contains(phrasedefault_sdg_b, na=False, case=False)) & (Data['result_title'].str.contains(phrasedefault_sdg_c, na=False, case=False)))\n",
    "      |((Data['result_title'].str.contains(phrasespecific_sdg_d, na=False, case=False))& (Data['result_title'].str.contains(phrasedefault_sdg_e, na=False, case=False)))\n",
    "    ),\"tempmentionsdg02\"] = \"SDG02\"\n",
    "\n",
    "print(\"Number of results = \", len(Data[(Data.tempmentionsdg02 == \"SDG02\")])) "
   ]
  },
  {
   "cell_type": "code",
   "execution_count": null,
   "id": "5f94e0e3-e606-45f8-b455-e2e5e8a9c889",
   "metadata": {
    "colab": {
     "base_uri": "https://localhost:8080/",
     "height": 455
    },
    "id": "FbI98lLkzOkk",
    "outputId": "cc97161a-07a5-4a9c-ceae-2bf3fc05d89e",
    "tags": []
   },
   "outputs": [],
   "source": [
    "test=Data.loc[(Data.tempmentionsdg02 == \"SDG02\"), (\"result_id\", \"result_title\")]\n",
    "test.iloc[0:5, ]"
   ]
  },
  {
   "cell_type": "markdown",
   "id": "53c58159-5be8-4702-b4e8-96da7a34cde7",
   "metadata": {
    "id": "XlCmOYBwniZB"
   },
   "source": [
    "## SDG 3\n",
    "\n",
    "To help with sourcing Norwegian terms, we used webpages about SDG targets from the UN Association of Norway (https://www.fn.no/om-fn/fns-baerekraftsmaal/god-helse-og-livskvalitet) and  \"Realfagstermer\", a controlled vocabulary for scientific terms from the University of Oslo and University of Bergen (https://app.uio.no/ub/emnesok/realfagstermer/search)."
   ]
  },
  {
   "cell_type": "markdown",
   "id": "8203c78b-0855-428b-897d-3b0a9a1dc32a",
   "metadata": {
    "id": "28QC5YCmq6wD"
   },
   "source": [
    "### SDG 3.1\n",
    "\n",
    "*By 2030, reduce the global maternal mortality ratio to less than 70 per 100,000 live births.*\n",
    "\n",
    "*Innen 2030 redusere mødredødeligheten i verden til under 70 per 100 000 levendefødte*\n"
   ]
  },
  {
   "cell_type": "markdown",
   "id": "4e8150bb-fe3e-4205-b620-5fcf64842dd9",
   "metadata": {
    "id": "_Oyh6vBbDPF7"
   },
   "source": [
    "Because this is a title search, it is less important with the NOT search implemented in the WoS strings (it does not seem to cause as much noise). It may be more important for use on research sets which have large amounts of agricultural research. "
   ]
  },
  {
   "cell_type": "code",
   "execution_count": null,
   "id": "783d0b80-6be9-4c4e-b84b-5ec37c259576",
   "metadata": {
    "id": "Ub1aKSj8q6wF"
   },
   "outputs": [],
   "source": [
    "#Termlists\n",
    "termlist3_1a = [\"pregnan\",\"post partum\",\"postpartum\",\"peripartum\",\"obstetric\",\n",
    "                \"premature deliver\",\"preterm deliver\",\"preterm labor\",\"preterm labour\",\"childbirth\",\n",
    "                \"maternal\",\"mothers\",\n",
    "\n",
    "                \"gravid\", \"obstetrikk\",\n",
    "                \"mødre\"]\n",
    "\n",
    "termlist3_1atrunk = [\"mor\"]\n",
    "\n",
    "termlist3_1b = [\"mortality\",\"death\",\n",
    "                \"død\"] \n",
    "\n",
    "termlist3_1c = [\"mødredødelighet\"]\n",
    "\n",
    "phrasedefault3_1a = r'(?:{})'.format('|'.join(termlist3_1a))\n",
    "phrasedefault3_1b = r'(?:{})'.format('|'.join(termlist3_1b))\n",
    "phrasedefault3_1c = r'(?:{})'.format('|'.join(termlist3_1c))\n",
    "phrasedefault3_1atrunk = r'\\b(?:{})\\b'.format('|'.join(termlist3_1atrunk))\n",
    "\n",
    "#This string is hard to create in a way that cleanly separates out results about mortality for children/babies, which should be in 3.2\n",
    "#\"birth\" in particular seems to be an issue and is removed from this string; it is included in 3.2, and here as \"childbirth\""
   ]
  },
  {
   "cell_type": "code",
   "execution_count": null,
   "id": "b1b352f6-bf39-45f4-9461-81ba3f414a2b",
   "metadata": {
    "colab": {
     "base_uri": "https://localhost:8080/"
    },
    "id": "WSUKPLNFq6wH",
    "outputId": "03d16f44-28bc-478d-f281-f9ec172754d3"
   },
   "outputs": [],
   "source": [
    "#Search 1\n",
    "Data.loc[(\n",
    "    (Data['result_title'].str.contains(phrasedefault3_1c, na=False, case=False))\n",
    "    |\n",
    "    (\n",
    "        ((Data['result_title'].str.contains(phrasedefault3_1a, na=False, case=False))|(Data['result_title'].str.contains(phrasedefault3_1atrunk, na=False, case=False)))\n",
    "        & (Data['result_title'].str.contains(phrasedefault3_1b, na=False, case=False)) \n",
    "    )\n",
    "    ),\"tempsdg03_01\"] = \"SDG03_01\"\n",
    "\n",
    "print(\"Number of results = \", len(Data[(Data.tempsdg03_01 == \"SDG03_01\")])) "
   ]
  },
  {
   "cell_type": "code",
   "execution_count": null,
   "id": "0f0ea969-91d2-4021-86d4-7946fe5bd30d",
   "metadata": {
    "colab": {
     "base_uri": "https://localhost:8080/"
    },
    "id": "Rjkp-WkKm1Db",
    "outputId": "093227b4-6f05-44e3-9208-1d59b8eafd30"
   },
   "outputs": [],
   "source": [
    "test=Data.loc[(Data.tempsdg03_01 == \"SDG03_01\"), (\"result_id\", \"result_title\")]\n",
    "test.iloc[0:5, ]"
   ]
  },
  {
   "cell_type": "markdown",
   "id": "4856aad5-5ff9-4edc-b663-022cba25fa1f",
   "metadata": {
    "id": "TpEselsSq3ps"
   },
   "source": [
    "### SDG 3.2\n",
    "\n",
    "*By 2030, end preventable deaths of newborns and children under 5 years of age, with all countries aiming to reduce neonatal mortality to at least as low as 12 per 1,000 live births and under‑5 mortality to at least as low as 25 per 1,000 live births*\n",
    "\n",
    "*Innen 2030 få slutt på dødsfall som kan forhindres blant nyfødte og barn under fem år, med et felles mål for alle land om å redusere dødeligheten blant nyfødte til høyst 12 per 1 000 levendefødte og til høyst 25 per 1 000 levendefødte blant barn under fem år*\n",
    "\n",
    "Phrases 1 and 2 are combined here."
   ]
  },
  {
   "cell_type": "code",
   "execution_count": null,
   "id": "dc1ca9d8-1a79-4ec3-9b2c-415287a403ba",
   "metadata": {
    "id": "70OcZ_OWvoLX"
   },
   "outputs": [],
   "source": [
    "#Termlists\n",
    "termlist3_2a = [\"child\",\"infant\",\"toddler\",\"under-five\",\n",
    "                \"baby\",\"babies\",\"newborn\",\"neonatal\",\"neonate\",\"birth\",\n",
    "                \"perinatal\",\"prenatal\",\"antenatal\",\n",
    "\n",
    "                \"barn\", \"under 5 år\", \"under fem år\",\n",
    "                \"nyfød\", \"spedbarn\", \"føds\", \"for tidlig født\"\n",
    "              ]\n",
    "              #\"føds\" (NO) is used to capture both \"fødsel\" and  \"fødsler\" etc.\n",
    "              #In Norwegian, \"for tidlig født\" (NO) can be used for premature babies. It is not included in english specifically because\n",
    "              #it would be strange not to include the words \"baby\", \"newborn\" etc. together with premature (?).\n",
    "\n",
    "termlist3_2b = [\"mortality\",\"death\",\"stillbirth\",\"still-birth\", \"surviv\",\n",
    "                \"mortalitet\", \"død\", \"overleve\"]\n",
    "\n",
    "phrasedefault3_2a = r'(?:{})'.format('|'.join(termlist3_2a))\n",
    "phrasedefault3_2b = r'(?:{})'.format('|'.join(termlist3_2b))"
   ]
  },
  {
   "cell_type": "code",
   "execution_count": null,
   "id": "6c5c3712-173f-4824-86e7-76bcdabad650",
   "metadata": {
    "colab": {
     "base_uri": "https://localhost:8080/"
    },
    "id": "F1Xb_vc6voLZ",
    "outputId": "b9022cd8-bd11-4381-ba4e-4cb90525da2d"
   },
   "outputs": [],
   "source": [
    "#Search 1\n",
    "Data.loc[(\n",
    "    (Data['result_title'].str.contains(phrasedefault3_2a, na=False, case=False))\n",
    "    & (Data['result_title'].str.contains(phrasedefault3_2b, na=False, case=False))\n",
    "    ),\"tempsdg03_02\"] = \"SDG03_02\"\n",
    "\n",
    "print(\"Number of results = \", len(Data[(Data.tempsdg03_02 == \"SDG03_02\")])) "
   ]
  },
  {
   "cell_type": "code",
   "execution_count": null,
   "id": "1c9163a3-eb2a-4c7c-ad97-a28bc38aec3b",
   "metadata": {
    "colab": {
     "base_uri": "https://localhost:8080/"
    },
    "id": "KFSovp5-voLb",
    "outputId": "a5196257-3ca0-4903-f954-8340e8cc7768"
   },
   "outputs": [],
   "source": [
    "test=Data.loc[(Data.tempsdg03_02 == \"SDG03_02\"), (\"result_id\", \"result_title\")]\n",
    "test.iloc[0:5, ]"
   ]
  },
  {
   "cell_type": "markdown",
   "id": "e283ae2c-03c1-4a9d-9d7f-8641ffc0a2c9",
   "metadata": {
    "id": "KEvhGTvE3qhK"
   },
   "source": [
    "### SDG 3.3\n",
    "\n",
    "*By 2030, end the epidemics of AIDS, tuberculosis, malaria and neglected tropical diseases and combat hepatitis, water-borne diseases and other communicable diseases.*\n",
    "\n",
    "*Innen 2030 stanse epidemiene av aids, tuberkulose, malaria og neglisjerte tropiske sykdommer, og bekjempe hepatitt, vannbårne sykdommer og andre smittsomme sykdommer*"
   ]
  },
  {
   "cell_type": "markdown",
   "id": "e7a75166-4769-42f6-9920-7ba1d91a47cc",
   "metadata": {
    "id": "HixEU1PIsiv8"
   },
   "source": [
    "#### Phrase 1"
   ]
  },
  {
   "cell_type": "code",
   "execution_count": null,
   "id": "41d206c1-a819-4b21-bc2b-b04ac59a32eb",
   "metadata": {
    "id": "AuK2N2yssudt"
   },
   "outputs": [],
   "source": [
    "#Termlists\n",
    "termlist3_3a = [\"communicable disease\", \"communicable illness\",\n",
    "                \"overførbar sykdom\", \"overførbare sykdommer\", \"smittsom sykdom\", \"smittsomme sykdommer\", \"smittsam sjukdom\", \"smittsame sjukdommar\"] \n",
    "\n",
    "termlist3_3b = [\"prevent\",\"combat\",\"fight\",\"tackl\",\"reduc\",\"alleviat\",\"mitigat\",\n",
    "                \"eradicat\",\"eliminat\",\"end\",\"ended\",\"ending\",\n",
    "                \"treat\",\"cure\",\"vaccin\",\"control\",\n",
    "                \"epidemic\",\"pandemic\",\"outbreak\",\"spread\",\"transmission\",\"occurrence\",\"incidence\",\"prevalence\",\"risk\",\"rate\",\n",
    "                \"medicine\",\"drug\",\"intervention\",\"therap\",\n",
    "                \n",
    "                \"hindr\", \"forebygg\", \"førebygg\", \"kjemp\", \"takl\", \"reduser\", \"reduksjon\", \"lett\", \"mink\",\n",
    "                \"utrydd\", \"eliminer\", \"stopp\", \"stogg\",\n",
    "                \"behandl\", \"kurer\", \"vaksine\", \"kontroll\",\n",
    "                \"epidemi\", \"pandemi\", \"utbrudd\", \"utbrot\", \"spre\", \"smitte\", \"overføring\", \"forekom\", \"førekom\", \"tilfelle\", \"utbre\", \"risik\",\n",
    "                \"medisin\", \"legemid\", \"intervensjon\", \"terap\"\n",
    "               ]\n",
    "\n",
    "termlist3_3c = [\"non-communicable disease\", \"non-communicable illness\", \"noncommunicable disease\", \"noncommunicable illness\", \n",
    "                \"ikke smittsom sykdom\", \"ikke-smittsom sykdom\", \"ikke-smittsomme sykdom\", \"ikkje-smittsam sjukdom\", \"ikkje smittsame sjukdom\"]\n",
    "\n",
    "termlist3_3d = [\"infectious disease\", \"tropical illness\",\n",
    "                \"non communicable and communicable\",\"communicable and non communicable\",\"non-communicable and communicable\",\"communicable and non-communicable\", \"noncommunicable and communicable\",\"communicable and noncommunicable\",\n",
    "                \n",
    "                \"overførbar\", \"tropisk sykdom\", \"tropiske sykdom\", \"tropesykdom\", \"tropisk sjukdom\", \"tropiske sjukdom\", \"tropesjukdom\", \n",
    "                \"ikke-smittsom og smittsom\", \"ikke-smittsomme og smittsomme\", \"smittsom og ikke-smittsom\", \"smittsomme og ikke-smittsomme\",\"ikkje-smittsam og smittsam\", \"ikkje-smittsame og smittsame\", \"smittsam og ikkje-smittsam\", \"smittsame og ikkje-smittsame\"]            \n",
    "\n",
    "phrasedefault3_3a = r'(?:{})'.format('|'.join(termlist3_3a))\n",
    "phrasedefault3_3b = r'(?:{})'.format('|'.join(termlist3_3b))\n",
    "phrasedefault3_3c = r'(?:{})'.format('|'.join(termlist3_3c))\n",
    "phrasedefault3_3d = r'(?:{})'.format('|'.join(termlist3_3d))"
   ]
  },
  {
   "cell_type": "code",
   "execution_count": null,
   "id": "fd768abd-a450-43ad-b1e1-ca421c436c08",
   "metadata": {
    "colab": {
     "base_uri": "https://localhost:8080/"
    },
    "id": "EI6ZVZnZpE5i",
    "outputId": "6d311a0d-f55f-43b8-c7a9-3aacd7f99354"
   },
   "outputs": [],
   "source": [
    "#Search 1\n",
    "Data.loc[(\n",
    "    (\n",
    "        (Data['result_title'].str.contains(phrasedefault3_3a, na=False, case=False))\n",
    "        &(Data['result_title'].str.contains(phrasedefault3_3b, na=False, case=False))\n",
    "    ) \n",
    "    & (~(Data['result_title'].str.contains(phrasedefault3_3c, na=False, case=False))&(~Data['result_title'].str.contains(phrasedefault3_3d, na=False, case=False)))\n",
    "),\"tempsdg03_03\"] = \"SDG03_03\"\n",
    "\n",
    "print(\"Number of results = \", len(Data[(Data.tempsdg03_03 == \"SDG03_03\")])) "
   ]
  },
  {
   "cell_type": "code",
   "execution_count": null,
   "id": "8facf108-9cb3-4a4c-bacf-a85e272cfc2a",
   "metadata": {},
   "outputs": [],
   "source": [
    "test=Data.loc[(Data.tempsdg03_03 == \"SDG03_03\"), (\"result_id\", \"result_title\")]\n",
    "test.iloc[0:10, ]"
   ]
  },
  {
   "cell_type": "markdown",
   "id": "cf0f4155-df45-4b39-86b6-dda56fb6da15",
   "metadata": {
    "id": "XwVw0yr24qF5"
   },
   "source": [
    "#### Phrase 2\n"
   ]
  },
  {
   "cell_type": "code",
   "execution_count": null,
   "id": "d8fa7a1b-ad82-405c-b450-08e73cac3364",
   "metadata": {
    "id": "z78Ci-qa6uNt"
   },
   "outputs": [],
   "source": [
    "#Termlists \n",
    "termlist3_3e = [\"water borne\", \"waterborne\", \"water-borne\", \"water-related\", \"diorrhea\", \"diarrhea\", \"contagious\", \"transmissible\", \"infectious\",\n",
    "                \"vannbår\", \"vassbår\", \"vassbor\", \"vannrelatert\", \"diare\", \"smittsom\", \"smittsam\", \"smitte\", \"overførbar\"]\n",
    "\n",
    "termlist3_3f = [\"disease\", \"infection\", \"epidemic\", \"illness\", \n",
    "                \"sykdom\", \"sjukdom\", \"infeksjon\", \"epidemi\"]\n",
    "\n",
    "termlist3_3g = [\"hepatitis\", \"acquired immune deficiency syndrome\", \"acquired immuno-deficiency syndrome\", \"acquired immunodeficiency syndrome\", \"Human Immunodeficiency Virus\", \"prevent aids\",\n",
    "                \"tuberculosis\", \"malaria\", \"cholera\", \"meningitis\", \"influenza\", \"avian influenza\", \"h5n1\", \"rubella\", \"diphteria\", \"japanese encephalitis\", \"measles\", \"mumps\", \"tetanus\",\n",
    "                \"pertussis\", \"polio\", \"yellow fever\", \"sexually transmitted disease\", \"sexually transmitted infection\", \"syphilis\", \n",
    "                \"lower respiratory infection\", \"respiratory tract infection\",\n",
    "                \"coronavirus\", \"covid\", \"sars-cov\", \"middle east respiratory syndrome\", \"severe acute respiratory syndrome\",\n",
    "                \"crimean-congo haemorrhagic fever\", \"viral haemorrhagic fever\", \"ebola\", \"plague\", \"rift valley fever\", \"zika virus\",\n",
    "                \"amebiasis\", \"cryptosporidiosis\", \"cryptosporidium infection\", \"giardiasis\", \"giardia infection\", \"shigellosis\", \"cronobacter infection\",\n",
    "                \"acanthamoeba\", \"balamuthia\", \"naegleria\", \"sappinia\", \"typhoid\", \n",
    "                \"neglected tropical disease\", \"buruli ulcer\", \"chagas\", \"dengue\", \"chikungunya\", \"dracunculiasis\", \"guinea-worm disease\", \"echinococcosis\", \"foodborne trematodiases\",\n",
    "                \"human african trypanosomiasis\", \"sleeping sickness\", \"leishmaniasis\", \"leprosy\", \"lymphatic filariasis\", \"mycetom\", \"chromoblastomycosis\", \"deep mycoses\",\n",
    "                \"onchocerciasis\", \"river blindness\", \"rabies\", \"scabies\", \"schistosomiasis\", \"soil-transmitted helminthiasis\", \"hookworm\", \"roundworm\", \"whipworm\", \"ascaris lumbricoides\",\n",
    "                \"trichuris trichiura\", \"necator americanus\", \"ancylostoma duodenale\", \"snakebite envenoming\", \"taeniasis\", \"cysticercosis\", \"trachoma\", \"yaws\",\n",
    "                \"trichuris\", \"necator\", \"ancylostoma\",\n",
    "                \n",
    "                \"hepatitt\", \"ervervet immunsvikt syndrom-virus\", \"humant immunsviktvirus\", \"hindre aids\",\n",
    "                \"tuberkulose\", \"kolera\", \"meningitt\", \"influensa\", \"røde hunder\", \"difteri\", \"japansk encefalitt\", \"meslinger\", \"kusma\", \"stivkrampe\",\n",
    "                \"kikhoste\", \"gulfeber\", \"seksuelt overførbar\", \"syfilis\", \n",
    "                \"luftveisinfeksjon\", \n",
    "                \"koronavirus\", \n",
    "                \"krimfeber\", \"rift valley-feber\", \"zikavirus\",\n",
    "                \"amøbiasis\", \"kryptosporidiose\", \"giardiainfeksjon\", \"shigellose\", \"enterobakterieinfeksjon\", \"tyfoidfeber\",         \n",
    "                \"neglisjert tropesykdom\", \"neglisjerte tropesjukdom\", \"neglisjert tropesjukdom\", \"negliserte tropesjukdom\", \"burulisår\", \"ekinokkokose\", \"trematodeinfeksjon\",\n",
    "                \"afrikansk trypanosomiasis\", \"lepra\", \"lymfatisk filariasis\", \"mykose\", \"kromomykose\",\n",
    "                \"onkocerkose\", \"skabb\", \"helmintiasis\", \"jordoverført helminthiasis\", \"hakeorm\", \"rundorm\", \"guineaorm\", \n",
    "                \"taeniainfeksjon\", \"cysticerkose\", \"trakom\", \"frambøsi\"\n",
    "                ]\n",
    "# \"pest\" (NO, = \"plague\" EN) is difficult to include as \"pest\" + \"control\" is noisy. \n",
    "termlist3_3i = [\"HIV\", \"AIDS\", \"MERS\", \"SARS\"]\n",
    "termlist3_3j = [\"prevent\", \"combat\", \"fight\", \"tackl\", \"reduc\", \"alleviat\", \"mitigat\", \"eradicat\", \"eliminat\", \"treat\", \"cure\", \"curing\", \"vaccinate\", \"control\", \"contain\",\n",
    "                \"hindr\", \"forebygg\", \"førebygg\", \"nedkjemp\", \"takl\", \"overvinn\", \"lette\", \"utrydde\", \"elimin\", \"stopp\", \"stogg\", \"behandl\", \"kurer\", \"vaksiner\", \"kontroll\"]\n",
    "\n",
    "phrasedefault3_3e = r'(?:{})'.format('|'.join(termlist3_3e))\n",
    "phrasedefault3_3f = r'(?:{})'.format('|'.join(termlist3_3f))\n",
    "phrasedefault3_3g = r'(?:{})'.format('|'.join(termlist3_3g))\n",
    "phrasedefault3_3i = r'(?:{})'.format('|'.join(termlist3_3i))\n",
    "phrasedefault3_3j = r'(?:{})'.format('|'.join(termlist3_3j))\n"
   ]
  },
  {
   "cell_type": "code",
   "execution_count": null,
   "id": "3c724d38-6239-435b-9919-8b729c9fc789",
   "metadata": {
    "colab": {
     "base_uri": "https://localhost:8080/"
    },
    "id": "rKc9d861-TWr",
    "outputId": "ed195fe4-dee4-4839-97d4-12590898cf1d"
   },
   "outputs": [],
   "source": [
    "#Search \n",
    "Data.loc[(\n",
    "    (\n",
    "        (\n",
    "            (Data['result_title'].str.contains(phrasedefault3_3e, na=False, case=False))\n",
    "            &(Data['result_title'].str.contains(phrasedefault3_3f, na=False, case=False))\n",
    "        )\n",
    "    |\n",
    "        (\n",
    "            (Data['result_title'].str.contains(phrasedefault3_3g, na=False, case=False))\n",
    "            |(Data['result_title'].str.contains(phrasedefault3_3i, na=False, case=True))\n",
    "        )\n",
    "    )\n",
    "    & (Data['result_title'].str.contains(phrasedefault3_3j, na=False, case=False))\n",
    "    ),\"tempsdg03_03\"] = \"SDG03_03\"\n",
    "\n",
    "print(\"Number of results = \", len(Data[(Data.tempsdg03_03 == \"SDG03_03\")])) "
   ]
  },
  {
   "cell_type": "code",
   "execution_count": null,
   "id": "e096c5f8-f69d-4a8e-a3f6-5d4b8e704270",
   "metadata": {
    "colab": {
     "base_uri": "https://localhost:8080/",
     "height": 1000
    },
    "id": "HmipNu9W_cKT",
    "outputId": "90acc70c-33b1-45ce-fff8-9adf3a2b3228"
   },
   "outputs": [],
   "source": [
    "test=Data.loc[(Data.tempsdg03_03 == \"SDG03_03\"), (\"result_id\", \"result_title\")]\n",
    "test.iloc[0:5, ]"
   ]
  },
  {
   "cell_type": "markdown",
   "id": "4e09fd74-98d9-447f-acf0-9f809630b198",
   "metadata": {
    "id": "XwVw0yr24qF5"
   },
   "source": [
    "#### Phrase 3"
   ]
  },
  {
   "cell_type": "code",
   "execution_count": null,
   "id": "a1df9802-c90b-447d-ab0d-a47e1995cfe6",
   "metadata": {
    "id": "z78Ci-qa6uNt"
   },
   "outputs": [],
   "source": [
    "#Termlists \n",
    "termlist3_3k = [\"hepatitis\", \"acquired immune deficiency syndrome\", \"acquired immuno-deficiency syndrome\", \"acquired immunodeficiency syndrome\", \"Human Immunodeficiency Virus\", \"prevent aids\",\n",
    "                \"tuberculosis\", \"malaria\", \"cholera\", \"meningitis\", \"influenza\", \"avian influenza\", \"h5n1\", \"rubella\", \"diphteria\", \"japanese encephalitis\", \"measles\", \"mumps\", \"tetanus\",\n",
    "                \"pertussis\", \"polio\", \"yellow fever\", \"sexually transmitted disease\", \"sexually transmitted infection\", \"syphilis\", \n",
    "                \"lower respiratory infection\", \"respiratory tract infection\",\n",
    "                \"middle east respiratory syndrome\", \n",
    "                \"crimean-congo haemorrhagic fever\", \"viral haemorrhagic fever\", \"ebola\", \"plague\", \"rift valley fever\", \"zika virus\",\n",
    "                \"amebiasis\", \"cryptosporidiosis\", \"cryptosporidium infection\", \"giardiasis\", \"giardia infection\", \"shigellosis\", \"cronobacter infection\",\n",
    "                \"acanthamoeba\", \"balamuthia\", \"naegleria\", \"sappinia\", \"typhoid\", \n",
    "                \"neglected tropical disease\", \"buruli ulcer\", \"chagas\", \"dengue\", \"chikungunya\", \"dracunculiasis\", \"guinea-worm disease\", \"echinococcosis\", \"foodborne trematodiases\",\n",
    "                \"human african trypanosomiasis\", \"sleeping sickness\", \"leishmaniasis\", \"leprosy\", \"lymphatic filariasis\", \"mycetom\", \"chromoblastomycosis\", \"deep mycoses\",\n",
    "                \"onchocerciasis\", \"river blindness\", \"rabies\", \"scabies\", \"schistosomiasis\", \"soil-transmitted helminthiasis\", \"hookworm\", \"roundworm\", \"whipworm\", \"ascaris lumbricoides\",\n",
    "                \"trichuris trichiura\", \"necator americanus\", \"ancylostoma duodenale\", \"snakebite envenoming\", \"taeniasis\", \"cysticercosis\", \"trachoma\", \"yaws\",\n",
    "                \"trichuris\", \"necator\", \"ancylostoma\",\n",
    "                \n",
    "                \"hepatitt\", \"ervervet immunsvikt syndrom-virus\", \"humant immunsviktvirus\", \"hindre aids\",\n",
    "                \"tuberkulose\", \"kolera\", \"meningitt\", \"influensa\", \"røde hunder\", \"difteri\", \"japansk encefalitt\", \"meslinger\", \"kusma\", \"stivkrampe\",\n",
    "                \"kikhoste\", \"gulfeber\", \"seksuelt overførbar\", \"syfilis\", \n",
    "                \"luftveisinfeksjon\", \n",
    "                \"krimfeber\", \"rift valley-feber\", \"zikavirus\",\n",
    "                \"amøbiasis\", \"kryptosporidiose\", \"giardiainfeksjon\", \"shigellose\", \"enterobakterieinfeksjon\", \"tyfoidfeber\",         \n",
    "                \"neglisjert tropesykdom\", \"neglisjerte tropesjukdom\", \"neglisjert tropesjukdom\", \"negliserte tropesjukdom\", \"burulisår\", \"ekinokkokose\", \"trematodeinfeksjon\",\n",
    "                \"afrikansk trypanosomiasis\", \"lepra\", \"lymfatisk filariasis\", \"mykose\", \"kromomykose\",\n",
    "                \"onkocerkose\", \"skabb\", \"helmintiasis\", \"jordoverført helminthiasis\", \"hakeorm\", \"rundorm\", \"guineaorm\", \n",
    "                \"taeniainfeksjon\", \"cysticerkose\", \"trakom\", \"frambøsi\"\n",
    "                ]\n",
    "termlist3_3k_caps = [\"HIV\", \"AIDS\", \"MERS\"]\n",
    "\n",
    "termlist3_3l = [\"epidemi\", \"pandemi\", \"outbreak\", \n",
    "                \"spread\", \"transmission\", \"occurrence\", \"incidence\", \"prevalence\", \"risk\", \"rate\",\n",
    "                \"medicine\", \"vaccin\", \"cure\", \"treatment\", \"drug\", \"intervention\", \"therap\",\n",
    "                \"antimalaria\", \"antiviral\", \"antibioti\", \"antiparasitic\", \"antihelminthic\",\n",
    "\n",
    "                \"utbrudd\", \"utbrot\", \"spredning\", \"spreiing\", \"smitte\", \"overføring\", \"forekomst\", \"førekomst\", \"hendelse\", \"hending\", \"utbredelse\", \"utbreiing\", \"risik\",\n",
    "                \"medisin\", \"vaksin\", \"behandl\", \"legemiddel\", \"medikament\", \"intervensjon\", \"terap\", \"antihelminti\"\n",
    "               ]\n",
    "\n",
    "termlist3_3m = [\"coronavirus\", \"covid\", \"sars-cov\", \"severe acute respiratory syndrome\",\n",
    "                \"koronavirus\"]\n",
    "termlist3_3m_caps = [\"SARS\"]\n",
    "\n",
    "termlist3_3n = [\"epidemi\", \"pandemi\", \"outbreak\",\n",
    "                \"utbrudd\", \"utbrot\"]\n",
    "\n",
    "termlist3_3o = [\"pandemic response\", \"epidemic response\", \"outbreak response\",\n",
    "                \"spread\", \"transmission\", \"occurrence\", \"incidence\", \"prevalence\", \"risk\", \" rate\",\n",
    "                \"medicine\", \"vaccin\", \"cure\", \"treatment\", \"drug\", \"intervention\", \"therap\",\n",
    "                \"antimalaria\", \"antiviral\", \"antibioti\", \"antiparasitic\", \"antihelminthic\",\n",
    "\n",
    "                \"utbrudd\", \"utbrot\", \n",
    "                \"spredning\", \"spreiing\", \"smitte\", \"overføring\", \"forekomst\", \"førekomst\", \"hendelse\", \"hending\", \"utbredelse\", \"utbreiing\", \"risik\",\n",
    "                \"medisin\", \"vaksin\", \"behandl\", \"legemiddel\", \"medikament\", \"intervensjon\", \"terap\", \"antihelminti\"\n",
    "               ]\n",
    "# space before \"rate\" (EN) is intentional to avoid \"generate\"\n",
    "\n",
    "phrasedefault3_3k = r'(?:{})'.format('|'.join(termlist3_3k))\n",
    "phrasedefault3_3k_caps = r'(?:{})'.format('|'.join(termlist3_3k_caps))\n",
    "phrasedefault3_3l = r'(?:{})'.format('|'.join(termlist3_3l))\n",
    "phrasedefault3_3m = r'(?:{})'.format('|'.join(termlist3_3m))\n",
    "phrasedefault3_3m_caps = r'(?:{})'.format('|'.join(termlist3_3m_caps))\n",
    "phrasedefault3_3n = r'(?:{})'.format('|'.join(termlist3_3n))\n",
    "phrasedefault3_3o = r'(?:{})'.format('|'.join(termlist3_3o))"
   ]
  },
  {
   "cell_type": "code",
   "execution_count": null,
   "id": "20ff864d-ea68-4537-b1d2-af59eb8fb9b4",
   "metadata": {
    "colab": {
     "base_uri": "https://localhost:8080/"
    },
    "id": "rKc9d861-TWr",
    "outputId": "ed195fe4-dee4-4839-97d4-12590898cf1d"
   },
   "outputs": [],
   "source": [
    "#Search \n",
    "#in this search, some termlists from the previous search (phrase 2), are reused: termlist3_3e, termlist3_3f, termlist3_3h, termlist3_3j\n",
    "Data.loc[(\n",
    "    (\n",
    "        (\n",
    "            ((Data['result_title'].str.contains(phrasedefault3_3e, na=False, case=False)) & (Data['result_title'].str.contains(phrasedefault3_3f, na=False, case=False)))\n",
    "            |(Data['result_title'].str.contains(phrasedefault3_3k, na=False, case=False))\n",
    "            |(Data['result_title'].str.contains(phrasedefault3_3k_caps, na=False, case=True))\n",
    "        )\n",
    "    & (Data['result_title'].str.contains(phrasedefault3_3l, na=False, case=False)) \n",
    "    )\n",
    "    |\n",
    "    (\n",
    "        (\n",
    "            (Data['result_title'].str.contains(phrasedefault3_3m, na=False, case=False))\n",
    "            |(Data['result_title'].str.contains(phrasedefault3_3m_caps, na=False, case=True))\n",
    "        )\n",
    "        &\n",
    "        (\n",
    "            ((Data['result_title'].str.contains(phrasedefault3_3j, na=False, case=False)) & (Data['result_title'].str.contains(phrasedefault3_3n, na=False, case=False)))\n",
    "            |(Data['result_title'].str.contains(phrasedefault3_3o, na=False, case=False))\n",
    "        )\n",
    "    )\n",
    "),\"tempsdg03_03\"] = \"SDG03_03\"\n",
    "\n",
    "print(\"Number of results = \", len(Data[(Data.tempsdg03_03 == \"SDG03_03\")])) "
   ]
  },
  {
   "cell_type": "code",
   "execution_count": null,
   "id": "d485d44d-84cc-4aff-bcda-33fe8a0a564c",
   "metadata": {
    "colab": {
     "base_uri": "https://localhost:8080/",
     "height": 1000
    },
    "id": "HmipNu9W_cKT",
    "outputId": "90acc70c-33b1-45ce-fff8-9adf3a2b3228"
   },
   "outputs": [],
   "source": [
    "test=Data.loc[(Data.tempsdg03_03 == \"SDG03_03\"), (\"result_id\", \"result_title\")]\n",
    "test.iloc[0:10, ]"
   ]
  },
  {
   "cell_type": "markdown",
   "id": "79d070b7-935a-4bf1-a435-55b0d7d9cc94",
   "metadata": {
    "id": "RSKv8yE_0aV3"
   },
   "source": [
    "### SDG 3.4\n",
    "\n",
    "*By 2030, reduce by one third premature mortality from non-communicable diseases through prevention and treatment and promote mental health and well-being.*\n",
    "\n",
    "*Innen 2030 redusere prematur dødelighet forårsaket av ikke-smittsomme sykdommer med en tredel gjennom forebygging og behandling, og fremme mental helse og livskvalitet*"
   ]
  },
  {
   "cell_type": "markdown",
   "id": "d39b58a7-12b1-4bf2-af59-df047fbadc60",
   "metadata": {
    "id": "KYKL-mkA0spN"
   },
   "source": [
    "#### Phrase 1"
   ]
  },
  {
   "cell_type": "code",
   "execution_count": null,
   "id": "0f114e9e-0802-4e53-99ac-0d3d5fbef6bf",
   "metadata": {
    "id": "8lBhEhI_08DV"
   },
   "outputs": [],
   "source": [
    "#Termlists \n",
    "termlist3_4a = [\"non communicable\", \"noncommunicable\", \"non-communicable\", \"non transmissible\", \"nontransmissible\", \"non-transmissible\", \n",
    "                \"non infectious\", \"noninfectious\", \"non-infectious\", \"auto immun\", \"autoimmun\", \"auto-immun\",\n",
    "                \n",
    "                \"ikke-smittsom\", \"ikkje-smittsam\", \"ikke smittsom\", \"ikkje smittsam\"\n",
    "               ]\n",
    "termlist3_4b = [\"disease\", \"illness\", \n",
    "                \"sykdom\", \"sjukdom\"\n",
    "               ]\n",
    "termlist3_4c = [\"cardiovascular disease\", \"heart disease\", \"heart attack\", \"stroke\", \"diabetes\",\n",
    "                \"chronic respiratory disease\", \"asthma\", \"emphysema\", \"chronic obstructive pulmonary disease\",\n",
    "                \"COPD\", \"chronic obstructive airway disease\", \"chronic bronchitis\", \n",
    "                \"cancer\", \"sarcoma\", \"carcinoma\", \"blastoma\", \"myeloma\", \"lymphoma\", \"leukaemia\", \"leukemia\",\n",
    "                \"mesothelioma\", \"melanom\", \"kidney disease\", \"alzheimer\", \"dementia\", \"cirrhosis\",\n",
    "                \n",
    "                \"kardiovaskulær sykdom\", \"kardiovaskulære sykdom\", \"kardiovaskulær sjukdom\", \"kardiovaskulære sjukdom\",\n",
    "                \"hjertesykdom\", \"hjartesjukdom\", \"hjerteinfarkt\", \"hjarteinfarkt\", \"hjerteanfall\", \"hjarteanfall\", \"hjerteattakk\", \"hjarteattakk\", \"slag\",\n",
    "                \"kronisk luftvei\", \"astma\", \"emfysem\", \"kronisk obstruktiv lungesykdom\", \"kronisk obstruktiv lungesjukdom\", \"kols\", \"kronisk bronkitt\",\n",
    "                \"kreft\", \"sarkom\", \"karsinom\", \"blastom\", \"lymfom\", \"leukemi\",\n",
    "                \"mesoteliom\", \"nyresykdom\", \"nyresjukdom\", \"demens\"\n",
    "               ]\n",
    "termlist3_4d = [\"chronic\", \n",
    "                \"kronisk\"]\n",
    "termlist3_4e = [\"lung\", \n",
    "                \"pulmonar\"]    \n",
    "termlist3_4f = [\"malignant\", \"incurable\", \"malign\", \n",
    "                \"ondart\", \"vondarta\", \"uhelbredelig\"] \n",
    "termlist3_4g = [\"neoplasm\", \"tumour\", \n",
    "                \"tumor\", \"svulst\"]  \n",
    "termlist3_4h = [\"mortalit\", \"death\", \"surviv\", \n",
    "                \"dødelighet\", \"overlev\"]                         \n",
    "\n",
    "phrasedefault3_4a = r'(?:{})'.format('|'.join(termlist3_4a))\n",
    "phrasedefault3_4b = r'(?:{})'.format('|'.join(termlist3_4b))\n",
    "phrasedefault3_4c = r'(?:{})'.format('|'.join(termlist3_4c))\n",
    "phrasedefault3_4d = r'(?:{})'.format('|'.join(termlist3_4d))\n",
    "phrasedefault3_4e = r'(?:{})'.format('|'.join(termlist3_4e))\n",
    "phrasedefault3_4f = r'(?:{})'.format('|'.join(termlist3_4f))\n",
    "phrasedefault3_4g = r'(?:{})'.format('|'.join(termlist3_4g))\n",
    "phrasedefault3_4h = r'(?:{})'.format('|'.join(termlist3_4h))"
   ]
  },
  {
   "cell_type": "code",
   "execution_count": null,
   "id": "4df7307d-95df-4d66-b79f-68ec35336a60",
   "metadata": {
    "colab": {
     "base_uri": "https://localhost:8080/"
    },
    "id": "wWOgMFrNDRWV",
    "outputId": "8ea48481-3435-437f-f3c9-7ac4a9242a28"
   },
   "outputs": [],
   "source": [
    "#Search \n",
    "Data.loc[(\n",
    "    (\n",
    "        ((Data['result_title'].str.contains(phrasedefault3_4a, na=False, case=False)) & (Data['result_title'].str.contains(phrasedefault3_4b, na=False, case=False)))\n",
    "        |(Data['result_title'].str.contains(phrasedefault3_4c, na=False, case=False))\n",
    "        |((Data['result_title'].str.contains(phrasedefault3_4d, na=False, case=False)) & (Data['result_title'].str.contains(phrasedefault3_4e, na=False, case=False))) \n",
    "        |((Data['result_title'].str.contains(phrasedefault3_4f, na=False, case=False)) & (Data['result_title'].str.contains(phrasedefault3_4g, na=False, case=False)))\n",
    "    )\n",
    "    & (Data['result_title'].str.contains(phrasedefault3_4h, na=False, case=False))\n",
    "),\"tempsdg03_04\"] = \"SDG03_04\"\n",
    "\n",
    "print(\"Number of results = \", len(Data[(Data.tempsdg03_04 == \"SDG03_04\")]))\n"
   ]
  },
  {
   "cell_type": "code",
   "execution_count": null,
   "id": "ecd5e458-0be7-4f72-8a22-a055f916fc74",
   "metadata": {
    "colab": {
     "base_uri": "https://localhost:8080/",
     "height": 1000
    },
    "id": "HmipNu9W_cKT",
    "outputId": "90acc70c-33b1-45ce-fff8-9adf3a2b3228"
   },
   "outputs": [],
   "source": [
    "test=Data.loc[(Data.tempsdg03_04 == \"SDG03_04\"), (\"result_id\", \"result_title\")]\n",
    "test.iloc[0:10, ]"
   ]
  },
  {
   "cell_type": "markdown",
   "id": "4eae7077-700f-41e4-a1e2-6d5d1c04e9f7",
   "metadata": {
    "id": "e8srM3I7mn7Z"
   },
   "source": [
    "#### Phrase 2"
   ]
  },
  {
   "cell_type": "code",
   "execution_count": null,
   "id": "16ee489d-14db-4fe1-9ece-582376b30a26",
   "metadata": {
    "id": "IojPJAl2mn7e"
   },
   "outputs": [],
   "source": [
    "#Termlists\n",
    "termlist3_4h = [\"mental health disorder\", \"mental illness\", \"suicid\", \"depression\", \"depressive disorder\",\n",
    "                \"bipolar affective disorder\", \"schizophrenia\", \"psychosis\", \"psychoses\",\n",
    "                \n",
    "                \"psykisk lidelse\", \"psykisk liding\", \"psykisk syk\", \"psykisk sjuk\", \"selvmord\", \"sjølmord\", \"sjølvmord\", \"depresjon\", \"depressiv lid\",\n",
    "                \"bipolar lid\", \"schizofreni\", \"psykose\"\n",
    "               ]\n",
    "termlist3_4i = [\"prevent\", \"combat\", \"fight\", \"reduc\", \"alleviat\", \"eradicat\", \"eliminat\", \"tackl\", \"treat\", \"cure\",\n",
    "                \"epidemi\", \"occurrence\", \"incidence\", \"prevalence\", \"risk\", \"rate\",\n",
    "                \"medicine\", \"vaccin\", \"drug\", \"treatment\", \"intervention\", \"therap\",\n",
    "                \"outreach\", \"services\", \"support\", \"counseling\", \"counselling\",\n",
    "                \n",
    "                \"hindr\", \"forebygg\", \"førebygg\", \"kjemp\", \"reduser\", \"reduksjon\", \"utrydd\", \"eliminer\", \"takl\", \"behandl\", \"kurer\", \n",
    "                \"forekom\", \"førekom\", \"hendelse\", \"hending\", \"tilfelle\", \"utbre\", \"risik\",\n",
    "                \"medisin\", \"vaksin\", \"legemid\", \"medikament\", \"behandling\", \"intervensjon\", \"terap\",\n",
    "                \"støtte\", \"stønad\", \"tjeneste\", \"teneste\", \"rådgiv\", \"rådgjev\"\n",
    "               ]       \n",
    "                            \n",
    "phrasedefault3_4h = r'(?:{})'.format('|'.join(termlist3_4h))\n",
    "phrasedefault3_4i = r'(?:{})'.format('|'.join(termlist3_4i))"
   ]
  },
  {
   "cell_type": "code",
   "execution_count": null,
   "id": "6d3ff33e-a7a1-4c2e-84a0-5043b0c69691",
   "metadata": {
    "colab": {
     "base_uri": "https://localhost:8080/"
    },
    "id": "wNJchkCimn7j",
    "outputId": "ddfcc2c7-fd94-497d-b4a7-722acf326172"
   },
   "outputs": [],
   "source": [
    "#Search 3_4hi\n",
    "Data.loc[(\n",
    "    (Data['result_title'].str.contains(phrasedefault3_4h, na=False, case=False)) \n",
    "    & (Data['result_title'].str.contains(phrasedefault3_4i, na=False, case= False)) \n",
    "    ),\"tempsdg03_04\"] = \"SDG03_04\"\n",
    "\n",
    "print(\"Number of results = \", len(Data[(Data.tempsdg03_04 == \"SDG03_04\")])) "
   ]
  },
  {
   "cell_type": "markdown",
   "id": "095f30a0-5596-4bb4-87ef-6316d54c6a4e",
   "metadata": {
    "id": "QIwfFqk-z_uU"
   },
   "source": [
    "#### Phrase 3"
   ]
  },
  {
   "cell_type": "code",
   "execution_count": null,
   "id": "3d60271d-378a-4d75-bd9c-ed6be9388478",
   "metadata": {
    "id": "LDRPxWUy0PNv"
   },
   "outputs": [],
   "source": [
    "#Termlists\n",
    "termlist3_4j = [\"mental health\", \"well being\", \"wellbeing\", \"well-being\",\n",
    "                \"mental helse\", \"velvære\", \"god helse\"\n",
    "               ]\n",
    "termlist3_4k = [\"promot\", \"strengthen\", \"improv\", \"enhanc\", \"medicine\", \"vaccin\", \"drug\", \"cure\", \"treatment\", \"intervention\", \n",
    "                \"therap\", \"outreach\", \"services\", \"support\", \"counselling\", \"counseling\",\n",
    "\n",
    "                \"fremme\", \"fremje\", \"styrke\", \"bedre\", \"betre\", \"øke\", \"auke\", \"medisin\", \"vaksine\", \"medikament\", \"legemid\", \"kurer\", \"behandl\", \"intervensjon\"\n",
    "                \"terap\", \"tjeneste\", \"teneste\", \"støtte\", \"stønad\", \"rådgi\", \"rådgje\"\n",
    "               ]\n",
    "termlist3_4l = [\"reduc\", \"decreas\", \n",
    "                \"reduser\", \"mink\"\n",
    "               ]\n",
    "termlist3_4m = [\"problem\"]     \n",
    "\n",
    "\n",
    "phrasedefault3_4j = r'(?:{})'.format('|'.join(termlist3_4j))\n",
    "phrasedefault3_4k = r'(?:{})'.format('|'.join(termlist3_4k))\n",
    "phrasedefault3_4l = r'(?:{})'.format('|'.join(termlist3_4l))\n",
    "phrasedefault3_4m = r'(?:{})'.format('|'.join(termlist3_4m))"
   ]
  },
  {
   "cell_type": "code",
   "execution_count": null,
   "id": "704b0324-1c54-4039-a745-b58e81a55580",
   "metadata": {
    "colab": {
     "base_uri": "https://localhost:8080/"
    },
    "id": "Og8O1lGcRQGO",
    "outputId": "566dd788-2846-444b-ad8a-1a53eea75e56"
   },
   "outputs": [],
   "source": [
    "#Search\n",
    "Data.loc[(\n",
    "    (Data['result_title'].str.contains(phrasedefault3_4j, na=False, case=False)) \n",
    "    &\n",
    "    (\n",
    "        (Data['result_title'].str.contains(phrasedefault3_4k, na=False, case=False))\n",
    "        |\n",
    "        (\n",
    "            (Data['result_title'].str.contains(phrasedefault3_4l, na=False, case=False))\n",
    "            & (Data['result_title'].str.contains(phrasedefault3_4m, na=False, case=False))\n",
    "        )\n",
    "    )  \n",
    "),\"tempsdg03_04\"] = \"SDG03_04\"\n",
    "\n",
    "print(\"Number of results = \", len(Data[(Data.tempsdg03_04 == \"SDG03_04\")])) "
   ]
  },
  {
   "cell_type": "code",
   "execution_count": null,
   "id": "a248fb61-18ed-4847-800a-76a3c0d8ed4c",
   "metadata": {
    "colab": {
     "base_uri": "https://localhost:8080/",
     "height": 1000
    },
    "id": "C-hz_VYMG1KG",
    "outputId": "5bbf4bd8-375e-4114-9ed1-83eac4dba836"
   },
   "outputs": [],
   "source": [
    "test=Data.loc[(Data.tempsdg03_04 == \"SDG03_04\"), (\"result_id\", \"result_title\")]\n",
    "test.iloc[0:5, ]"
   ]
  },
  {
   "cell_type": "markdown",
   "id": "f83413db-3b36-426d-ad87-a775510ce2b6",
   "metadata": {
    "id": "3FeBRzXW0O1G"
   },
   "source": [
    "### SDG 3.5\n",
    "\n",
    "*Strengthen the prevention and treatment of substance abuse, including narcotic drug abuse and harmful use of alcohol.*\n",
    "\n",
    "*Styrke forebygging og behandling av rusmiddelmisbruk, blant annet misbruk av narkotiske stoffer og skadelig bruk av alkohol*\n"
   ]
  },
  {
   "cell_type": "code",
   "execution_count": null,
   "id": "5bf0c879-955d-4118-acd3-5e74ba529867",
   "metadata": {
    "id": "NmWp7m690O1Q"
   },
   "outputs": [],
   "source": [
    "#Termlists\n",
    "termlist3_5a = [\"binge drinking\", \"binge drinker\", \"alcohol\", \"excessive drinking\", \"problematic drinking\", \"problem drinking\",\n",
    "                \"substance use\", \"illicit drugs\", \"people who inject drugs\", \"PWID\", \"opiod epidemic\",\n",
    "                \n",
    "                \"alkohol\", \"periodedrank\", \"periodedrikk\", \"narkotikamisbruk\", \"stoffmisbruk\", \"opioidepidemi\"\n",
    "               ]\n",
    "termlist3_5atrunk = [\"fyll\"]  \n",
    "\n",
    "termlist3_5b = [\"drug\", \"narcotic\", \"substance\", \"alcohol\", \"amphetamine\", \"metamphetamine\", \"MDMA\", \"ecstacy\", \"cocaine\", \"inhalant\", \"amyl nitrate\",\n",
    "                \"marijuana\", \"cannabis\", \"opioid\", \"opiat\", \"heroin\", \"morphine\", \"phencyclidine\", \"LSD\", \"psilocybin\", \"dimethyltriptamin\", \"khat\", \"tobacco\",\n",
    "                \n",
    "                \"rusmid\", \"narkotik\", \"stoff\", \"alkohol\", \"amfetamin\", \"metamfetamin\", \"kokain\", \"inhalasjon\", \"inhalering\", \"amylnitrat\", \n",
    "                \"marihuana\", \"hasj\", \"morfin\", \"fensyklidin\", \"tobakk\"\n",
    "               ]\n",
    "\n",
    "termlist3_5c = [\"abuse\", \"misuse\", \"dependence\", \"addict\", \n",
    "                \"overdose\", \"misbruk\", \"avheng\"]\n",
    "\n",
    "termlist3_5d = [\"use\", \"usage\", \"consumption\",\n",
    "                \"bruk\", \"forbruk\"]\n",
    "\n",
    "termlist3_5e = [\"harmful\", \"problematic\", \"excessive\", \"disorder\",\n",
    "                \"skadelig\", \"skadeleg\", \"problematisk\", \"overdreven\", \"overdriven\", \"lidelse\", \"liding\"]  \n",
    "\n",
    "termlist3_5f = [\"prevent\", \"combat\", \"tackl\", \"fight against\", \"reduc\", \"decrease\", \"minimi\", \"limit\", \"alleviat\", \"mitigat\", \"eradicat\", \"eliminat\", \"stop\", \"treat\", \"control\",\n",
    "                \"hindr\", \"forebygg\", \"førebygg\", \"takl\", \"kjemp\", \"reduser\", \"reduksjon\", \"grens\", \"utrydd\", \"eliminer\", \"kontroll\"]\n",
    "\n",
    "termlist3_5g = [\"medicine\", \"cure\", \"treatment\", \"intervention\", \"therapy\", \"therapies\", \"outreach\", \"services\", \"support\", \"rehabilitat\", \"aftercare\", \"counseling\", \"counselling\",\n",
    "                \"medisin\", \"kurer\", \"behandl\", \"intervensjon\", \"terapi\", \"tjeneste\", \"teneste\", \"støtte\", \"stønad\", \"rehabiliter\", \"rådgi\", \"rådgje\"]                \n",
    "                \n",
    "phrasedefault3_5a = r'(?:{})'.format('|'.join(termlist3_5a))\n",
    "phrasespecific3_5atrunk = r'\\b(?:{})\\b'.format('|'.join(termlist3_5atrunk))\n",
    "phrasedefault3_5b = r'(?:{})'.format('|'.join(termlist3_5b))\n",
    "phrasedefault3_5c = r'(?:{})'.format('|'.join(termlist3_5c))\n",
    "phrasedefault3_5d = r'(?:{})'.format('|'.join(termlist3_5d))\n",
    "phrasedefault3_5e = r'(?:{})'.format('|'.join(termlist3_5e))\n",
    "phrasedefault3_5f = r'(?:{})'.format('|'.join(termlist3_5f))\n",
    "phrasedefault3_5g = r'(?:{})'.format('|'.join(termlist3_5g))"
   ]
  },
  {
   "cell_type": "code",
   "execution_count": null,
   "id": "76d52b01-fe49-46d7-bf52-721b9ffb9b70",
   "metadata": {
    "colab": {
     "base_uri": "https://localhost:8080/"
    },
    "id": "ApcBKHh80O1S",
    "outputId": "08bbbe72-9bf9-405c-d911-98931cec266b"
   },
   "outputs": [],
   "source": [
    "#Search 3_5abcdefg\n",
    "Data.loc[(\n",
    "    (\n",
    "        (Data['result_title'].str.contains(phrasedefault3_5a, na=False, case=False))\n",
    "        |(Data['result_title'].str.contains(phrasespecific3_5atrunk, na=False, case=False))\n",
    "        |\n",
    "        (\n",
    "            (Data['result_title'].str.contains(phrasedefault3_5b, na=False, case=False)) \n",
    "            &\n",
    "            (\n",
    "                (Data['result_title'].str.contains(phrasedefault3_5c, na=False, case=False))\n",
    "                |((Data['result_title'].str.contains(phrasedefault3_5d, na=False, case=False)) & (Data['result_title'].str.contains(phrasedefault3_5e, na=False, case=False)))\n",
    "            )   \n",
    "        )\n",
    "    )\n",
    "    &\n",
    "    (\n",
    "        (Data['result_title'].str.contains(phrasedefault3_5f, na=False, case=False))\n",
    "        |(Data['result_title'].str.contains(phrasedefault3_5g, na=False, case=False))\n",
    "    )\n",
    "),\"tempsdg03_05\"] = \"SDG03_05\"\n",
    "\n",
    "print(\"Number of results = \", len(Data[(Data.tempsdg03_05 == \"SDG03_05\")]))"
   ]
  },
  {
   "cell_type": "code",
   "execution_count": null,
   "id": "ddd9f383-aa9f-4fd6-9a67-0ad7a67ba50f",
   "metadata": {
    "colab": {
     "base_uri": "https://localhost:8080/",
     "height": 1000
    },
    "id": "tZFPAYyk0O1Y",
    "outputId": "e94b62bb-38aa-400a-b15f-2bc082fa6664"
   },
   "outputs": [],
   "source": [
    "test=Data.loc[(Data.tempsdg03_05 == \"SDG03_05\"), (\"result_id\", \"result_title\")]\n",
    "test.iloc[0:5, ]"
   ]
  },
  {
   "cell_type": "markdown",
   "id": "a2055a12-8077-4947-86be-1e1d2fd7dae9",
   "metadata": {
    "id": "94Y0SQYG5or6"
   },
   "source": [
    "### SDG 3.6\n",
    "\n",
    "*By 2020, halve the number of global deaths and injuries from road traffic accidents.*\n",
    "\n",
    "*Innen 2030 halvere antall dødsfall og skader i verden forårsaket av trafikkulykker*\n"
   ]
  },
  {
   "cell_type": "markdown",
   "id": "186fc4fc-5fdb-4999-a38f-4577e63a55a7",
   "metadata": {
    "id": "QsAXa2LIJFE-"
   },
   "source": [
    "In the Web of science search, \"air traffic\" and \"boat traffic\" were excluded using NOT, but that does not seem necessary in this search. A few hits with metaphorical use of terms like \"road\" and \"death\" are hard to avoid.\n"
   ]
  },
  {
   "cell_type": "code",
   "execution_count": null,
   "id": "6d3c3194-f3cb-4ecf-820d-40aa18631ef2",
   "metadata": {
    "id": "AYA0Vkx65osA"
   },
   "outputs": [],
   "source": [
    "#Termlists\n",
    "termlist3_6a = [\"traffic\", \"roadway\", \"street\", \"roundabout\", \"highway\", \"motorway\", \"cycling lane\", \"cycle path\", \"bicycle lane\",\n",
    "                \"walkway\", \"walking path\", \"sidewalk\", \"pavement\", \"bicycles\", \"motorcycles\", \"motorbike\", \"automobile\", \"lorry\", \"lorries\", \"truck\", \"pedestrian\", \"cyclist\", \n",
    "                \"driving fatalit\",\n",
    "\n",
    "                \"trafikk\", \"rundkjøring\", \"rundkøyring\", \"motorvei\", \"motorveg\", \"sykkelsti\", \"sykkelve\",\n",
    "                \"gangve\", \"fortau\", \"sykkel\", \"sykler\", \"syklar\", \"motorsykkel\", \"motorsykler\", \"motorsyklar\", \"buss\", \"fotgjenger\", \"syklist\", \"syklende\", \"syklande\", \n",
    "                \"trafikkdød\", \"trafikkulykke\", \"trafikkulukke\", \"bilulykke\", \"bilulukke\"]\n",
    "\n",
    "termlist3_6atrunk = [\"bus\", \"buses\", \"HGV\", \"HGVs\", \"SUV\", \"SUVs\", \"road\", \"roads\",\n",
    "                     \"vei\", \"veier\", \"veg\", \"veger\", \"vegar\", \"gående\", \"gåande\"]\n",
    "\n",
    "termlist3_6btrunk = [\"vehicle.*\", \"driver.*\", \"driving\", \"car\", \"cars\",\n",
    "                     \"kjøretøy.*\", \"køyretøy.*\", \".*fører\", \".*førar\", \".*sjåfør.*\", \"kjøring\", \"køyring\", \"bil\", \"biler\", \"bilar\"]\n",
    "\n",
    "termlist3_6c = [\"accident\", \"crash\", \"collision\", \"incident\",\n",
    "                \"ulykke\", \"ulukke\", \"kræsj\", \"kollisjon\", \"traffikhend\"]\n",
    "\n",
    "termlist3_6c_case = [\"RTI\", \"RTIs\"]\n",
    "\n",
    "termlist3_6d = [\"mortal\", \"death\", \"fatal\", \"deadly\", \"morbidity\", \"injury\", \"injuries\", \"injured\", \"road trauma\",\n",
    "                \"dødelig\", \"dødeleg\", \"døyeleg\", \"død\", \"skade\", \"skadd\"]\n",
    "\n",
    "termlist3_6e = [\"driver\", \"road\", \"cycling\", \"cyclist\", \"bicycle\", \"pedestrian\", \"vehicle\"\n",
    "                \n",
    "                \"fører\", \"førar\", \"sjåfør\", \"vei\", \"veier\", \"veg\", \"veger\", \"vegar\", \"sykler\", \"syklar\", \"syklist\", \"syklende\", \"syklande\", \"sykkel\",\n",
    "                \"fotgjenger\", \"fotgjengar\", \"gående\", \"gåande\", \"kjøretøy\", \"køyretøy\"]\n",
    "\n",
    "#termlist3_6f = [\"air traffic\", \"boat traffic\"]\n",
    "\n",
    "phrasedefault3_6a = r'(?:{})'.format('|'.join(termlist3_6a))\n",
    "phrasespecific3_6atrunk = r'\\b(?:{})\\b'.format('|'.join(termlist3_6atrunk))\n",
    "phrasespecific3_6btrunk = r'\\b(?:{})\\b'.format('|'.join(termlist3_6btrunk))\n",
    "phrasedefault3_6c = r'(?:{})'.format('|'.join(termlist3_6c))\n",
    "phrasespecific3_6c_case = r'\\b(?:{})\\b'.format('|'.join(termlist3_6c_case))\n",
    "phrasedefault3_6d = r'(?:{})'.format('|'.join(termlist3_6d))\n",
    "phrasedefault3_6e = r'(?:{})'.format('|'.join(termlist3_6e))\n",
    "#phrasedefault3_6f = r'(?:{})'.format('|'.join(termlist3_6f))"
   ]
  },
  {
   "cell_type": "code",
   "execution_count": null,
   "id": "fe522a4a-9e1d-4421-9f72-03e74cc4b12f",
   "metadata": {
    "colab": {
     "base_uri": "https://localhost:8080/"
    },
    "id": "vnEUxUej5osC",
    "outputId": "c7482743-f28b-4f34-c498-2d97c679de16"
   },
   "outputs": [],
   "source": [
    "#Search 3_6Prenatal and childhood exposure to air pollution and traffic and the risk of liver injury in European children \t\n",
    "Data.loc[(\n",
    "    (\n",
    "        (Data['result_title'].str.contains(phrasedefault3_6a, na=False, case=False))\n",
    "        |(Data['result_title'].str.contains(phrasespecific3_6atrunk, na=False, case=False))\n",
    "        |\n",
    "        (\n",
    "            (Data['result_title'].str.contains(phrasespecific3_6btrunk, na=False, case=False)) \n",
    "            & ((Data['result_title'].str.contains(phrasedefault3_6c, na=False, case=False)) | (Data['result_title'].str.contains(phrasespecific3_6c_case, na=False, case=True)))\n",
    "        )\n",
    "    )\n",
    "    & ((Data['result_title'].str.contains(phrasedefault3_6d, na=False, case=False)) | (Data['result_title'].str.contains(phrasespecific3_6c_case, na=False, case=True)))\n",
    "    & \n",
    "    (\n",
    "        ((Data['result_title'].str.contains(phrasedefault3_6c, na=False, case=False)) | (Data['result_title'].str.contains(phrasespecific3_6c_case, na=False, case=True)))\n",
    "        |((Data['result_title'].str.contains(phrasedefault3_6d, na=False, case=False)) & (Data['result_title'].str.contains(phrasedefault3_6e, na=False, case=False)))\n",
    "    )\n",
    "),\"tempsdg03_06\"] = \"SDG03_06\"\n",
    "\n",
    "print(\"Number of results = \", len(Data[(Data.tempsdg03_06 == \"SDG03_06\")]))"
   ]
  },
  {
   "cell_type": "code",
   "execution_count": null,
   "id": "f6775b23-1c4d-4996-9efe-9a94db0ebd8a",
   "metadata": {
    "colab": {
     "base_uri": "https://localhost:8080/",
     "height": 1000
    },
    "id": "oz5GAJpN5osF",
    "outputId": "3ca6f054-59cf-4072-96a4-6a961cd60482"
   },
   "outputs": [],
   "source": [
    "test=Data.loc[(Data.tempsdg03_06 == \"SDG03_06\"), (\"result_id\", \"result_title\")]\n",
    "test.iloc[0:5, ]"
   ]
  },
  {
   "cell_type": "markdown",
   "id": "7e2e2c53-7953-433f-96e0-41e2c02fa6bc",
   "metadata": {
    "id": "-7fgw7omIq0n"
   },
   "source": [
    "### SDG 3.7\n",
    "\n",
    "*By 2030, ensure universal access to sexual and reproductive health-care services, including for family planning, information and education, and the integration of reproductive health into national strategies and programmes*\n",
    "\n",
    "*Innen 2030 sikre allmenn tilgang til tjenester knyttet til seksuell og reproduktiv helse, inkludert familieplanlegging og tilhørende informasjon og opplæring, og sikre at reproduktiv helse innarbeides i nasjonale strategier og programmer*"
   ]
  },
  {
   "cell_type": "markdown",
   "id": "6b00d42c-2d22-4329-9101-198eb0be5b6d",
   "metadata": {
    "id": "VJNncYuMJwWy"
   },
   "source": [
    "#### Phrase 1"
   ]
  },
  {
   "cell_type": "code",
   "execution_count": null,
   "id": "96f841a5-62c0-481a-a5a2-c7407c942bf4",
   "metadata": {
    "id": "OHsT-pHiIq0x"
   },
   "outputs": [],
   "source": [
    "#Termlists\n",
    "termlist3_7a = [\"reproductive health\", \"sexual health\", \"family planning\", \"planned pregnanc\", \"contracept\", \"abortion\",\n",
    "                \"reproduksjonshelse\", \"reproduktiv helse\", \"seksuell helse\", \"familieplanlegging\", \"planlagt graviditet\", \"prevensjon\", \"abort\"]\n",
    "\n",
    "termlist3_7b = [\"reproduct\", \"sex\", \n",
    "                \"reproduk\"]\n",
    "\n",
    "termlist3_7c = [\"education\", \"inform\", \"health literacy\", \n",
    "                \"utdann\", \"opplær\", \"opplys\", \"kompetanse\"]\n",
    "\n",
    "termlist3_7d = [\"health equity\", \"equality in health\", \"health for all\", \"health promotion\",\n",
    "                \"access\", \"right\", \"coverage\", \"afford\", \"low cost\", \"free of charge\", \"free service\", \"subsidi\",\n",
    "                \"barrier\", \"obstacle\", \"impediment\", \"unaffordab\", \"expensive\",\n",
    "                \n",
    "                \"rettferdig helse\", \"helsefrem\",\n",
    "                \"tilgang\", \"adgang\", \"åtgang\", \"rett\", \"dekning\", \"rimelig\", \"rimeleg\", \"billig\", \"billeg\", \"gratis\", \"hindr\", \"hinder\", \"dyr\", \"kostbar\"\n",
    "               ]\n",
    "\n",
    "phrasedefault3_7a = r'(?:{})'.format('|'.join(termlist3_7a))\n",
    "phrasedefault3_7b = r'(?:{})'.format('|'.join(termlist3_7b))\n",
    "phrasedefault3_7c = r'(?:{})'.format('|'.join(termlist3_7c))\n",
    "phrasedefault3_7d = r'(?:{})'.format('|'.join(termlist3_7d))"
   ]
  },
  {
   "cell_type": "code",
   "execution_count": null,
   "id": "7f732977-8a03-417d-9338-365b60751318",
   "metadata": {
    "colab": {
     "base_uri": "https://localhost:8080/"
    },
    "id": "IeYMyN-QIq01",
    "outputId": "92c3d26c-cd35-427c-eb64-2e780f4a6811"
   },
   "outputs": [],
   "source": [
    "#Search 1\n",
    "Data.loc[(\n",
    "    (\n",
    "        (Data['result_title'].str.contains(phrasedefault3_7a, na=False, case=False))\n",
    "        |((Data['result_title'].str.contains(phrasedefault3_7b, na=False, case=False)) & (Data['result_title'].str.contains(phrasedefault3_7c, na=False, case=False)))  \n",
    "    )\n",
    "    & (Data['result_title'].str.contains(phrasedefault3_7d, na=False, case=False)) \n",
    "),\"tempsdg03_07\"] = \"SDG03_07\"\n",
    "\n",
    "print(\"Number of results = \", len(Data[(Data.tempsdg03_07 == \"SDG03_07\")]))"
   ]
  },
  {
   "cell_type": "code",
   "execution_count": null,
   "id": "4e2e1b8f-b00e-4c62-8aeb-b18ad28d35eb",
   "metadata": {},
   "outputs": [],
   "source": [
    "#Results\n",
    "test=Data.loc[(Data.tempsdg03_07 == \"SDG03_07\"), (\"result_id\", \"result_title\")]\n",
    "test.iloc[0:5, ]"
   ]
  },
  {
   "cell_type": "markdown",
   "id": "4b6e27c0-14b0-4320-820a-f7368d5031c2",
   "metadata": {
    "id": "5ZiKbfSRr4Mp"
   },
   "source": [
    "#### Phrase 2"
   ]
  },
  {
   "cell_type": "code",
   "execution_count": null,
   "id": "7fcd160b-be03-4992-ae6e-8207eff76d69",
   "metadata": {
    "id": "nDZY6ck2KfYc"
   },
   "outputs": [],
   "source": [
    "#Termlists  \n",
    "termlist3_7e = [\"reproductive health\", \"sexual health\", \"family planning\", \"planned pregnanc\", \"contracept\", \"abortion\",\n",
    "                \"reproduksjonshelse\", \"reproduktiv helse\", \"seksuell helse\", \"familieplanlegging\", \"planlagt graviditet\", \"prevensjon\", \"abort\"]\n",
    "\n",
    "termlist3_7f = [\"reproduct\", \"sex\", \n",
    "                \"reproduk\"]\n",
    "\n",
    "termlist3_7g = [\"education\", \"inform\", \"health literacy\", \n",
    "                \"utdann\", \"opplær\", \"opplys\", \"kompetanse\"]\n",
    "\n",
    "termlist3_7h = [\"policy\", \"policies\", \"initiativ\", \"framework\", \"program\", \"plan \",\n",
    "                \"strateg\", \"politikk\", \"retningslin\", \"rammeverk\", \"planlegg\"]\n",
    "\n",
    "termlist3_7i = [\"national\", \"state\", \"federal\", \n",
    "                \"nasjonal\", \"stat\"]\n",
    "\n",
    "phrasedefault3_7e = r'(?:{})'.format('|'.join(termlist3_7e))\n",
    "phrasedefault3_7f = r'(?:{})'.format('|'.join(termlist3_7f))\n",
    "phrasedefault3_7g = r'(?:{})'.format('|'.join(termlist3_7g))\n",
    "phrasedefault3_7h = r'(?:{})'.format('|'.join(termlist3_7h))\n",
    "phrasedefault3_7i = r'(?:{})'.format('|'.join(termlist3_7i))"
   ]
  },
  {
   "cell_type": "code",
   "execution_count": null,
   "id": "b283b89c-0e06-44ac-97d0-bb081db1b1ed",
   "metadata": {},
   "outputs": [],
   "source": [
    "#Search 1\n",
    "Data.loc[(\n",
    "    (\n",
    "       (Data['result_title'].str.contains(phrasedefault3_7e, na=False, case=False))\n",
    "       |((Data['result_title'].str.contains(phrasedefault3_7f, na=False, case=False)) & (Data['result_title'].str.contains(phrasedefault3_7g, na=False, case=False)))\n",
    "    )\n",
    "    & (Data['result_title'].str.contains(phrasedefault3_7h, na=False, case=False))\n",
    "    & \n",
    "    (\n",
    "        (Data['LMICs']==True)\n",
    "        |(Data['result_title'].str.contains(phrasedefault3_7i, na=False, case=False))\n",
    "    )\n",
    "),\"tempsdg03_07\"] = \"SDG03_07\"\n",
    "\n",
    "print(\"Number of results = \", len(Data[(Data.tempsdg03_07 == \"SDG03_07\")])) "
   ]
  },
  {
   "cell_type": "code",
   "execution_count": null,
   "id": "1da0ae61-0e74-44df-8bea-a9bc4016a38b",
   "metadata": {
    "colab": {
     "base_uri": "https://localhost:8080/",
     "height": 1000
    },
    "id": "N61k67bjq6wI",
    "outputId": "59e022f7-525e-45df-f118-22cce9421e33"
   },
   "outputs": [],
   "source": [
    "#Results\n",
    "test=Data.loc[(Data.tempsdg03_07 == \"SDG03_07\"), (\"result_id\", \"result_title\")]\n",
    "test.iloc[0:5, ]"
   ]
  },
  {
   "cell_type": "markdown",
   "id": "b4ea975f-ae19-4b9a-afab-af0a8b48379b",
   "metadata": {
    "id": "5M72AnzujaXx"
   },
   "source": [
    "### SDG 3.8\n",
    "\n",
    "*Achieve universal health coverage, including financial risk protection, access to quality essential health-care services and access to safe, effective, quality and affordable essential medicines and vaccines for all*\n",
    "\n",
    "*Oppnå allmenn dekning av helsetjenester, inkludert ordninger som beskytter mot økonomiske konsekvenser, og allmenn tilgang til grunnleggende og gode helsetjenester og trygge, virksomme og nødvendige medisiner og vaksiner av god kvalitet og til en overkommelig pris*"
   ]
  },
  {
   "cell_type": "markdown",
   "id": "41bce52a-9447-4a55-b5ad-bda0b04ff20d",
   "metadata": {
    "id": "DL7CN5Sj65_G"
   },
   "source": [
    "#### Phrase 1"
   ]
  },
  {
   "cell_type": "code",
   "execution_count": null,
   "id": "15d6f2af-54a7-4bf3-906d-a0b44374b20a",
   "metadata": {
    "id": "M1T2J_KKjaX7"
   },
   "outputs": [],
   "source": [
    "#Termlists\n",
    "termlist3_8a = [\"universal health coverage\", \"universal healthcare\", \"universal health care\",\n",
    "                \n",
    "                \"universell helsedekning\", \"allmenn dekning av helsetenester\", \"allmenn dekning av helsetjenester\", \"allmenn tilgang til helsetjenester\",\n",
    "                \"allmenn tilgang til helsetenester\", \"allment tilgjengelige helsetjenester\", \"allment tilgjengelege helsetenester\",\n",
    "                \"helsetjenester for alle\", \"helsetenester for alle\"]\n",
    "\n",
    "phrasedefault3_8a = r'(?:{})'.format('|'.join(termlist3_8a))"
   ]
  },
  {
   "cell_type": "code",
   "execution_count": null,
   "id": "12b06ba6-95f8-444a-8db1-61d13e277692",
   "metadata": {
    "colab": {
     "base_uri": "https://localhost:8080/"
    },
    "id": "LB6Quz3MjaX-",
    "outputId": "d6d48d58-710c-4f98-b40d-b4eed97b7844"
   },
   "outputs": [],
   "source": [
    "#Search 1\n",
    "Data.loc[(\n",
    "    (Data['result_title'].str.contains(phrasedefault3_8a, na=False, case=False)) \n",
    "    ),\"tempsdg03_08\"] = \"SDG03_08\"\n",
    "\n",
    "print(\"Number of results = \", len(Data[(Data.tempsdg03_08 == \"SDG03_08\")])) "
   ]
  },
  {
   "cell_type": "code",
   "execution_count": null,
   "id": "0ffac315-eb14-4a44-9525-5b2bcd07d78e",
   "metadata": {
    "colab": {
     "base_uri": "https://localhost:8080/",
     "height": 1000
    },
    "id": "N61k67bjq6wI",
    "outputId": "59e022f7-525e-45df-f118-22cce9421e33"
   },
   "outputs": [],
   "source": [
    "#Results\n",
    "test=Data.loc[(Data.tempsdg03_08 == \"SDG03_08\"), (\"result_id\", \"result_title\")]\n",
    "test.iloc[0:10, ]"
   ]
  },
  {
   "cell_type": "markdown",
   "id": "2bc4bb2e-f1fb-4226-889f-be309d75b298",
   "metadata": {
    "id": "uGfq7Bz88qRD"
   },
   "source": [
    "#### Phrase 2\n"
   ]
  },
  {
   "cell_type": "code",
   "execution_count": null,
   "id": "01bf4db4-c388-4bda-ae52-7183a9053f87",
   "metadata": {
    "id": "rQRnTlog9CED"
   },
   "outputs": [],
   "source": [
    "#Termlists\n",
    "termlist3_8b = [\"health care\", \"healthcare\", \"health service\", \"medical service\", \"medical care\", \"health coverage\", \"family planning\", \"reproductive health\", \"sexual health\",\n",
    "                \"vaccin\", \"immunisation\", \"immunization\", \"treatment access\", \"access to treatment\",\n",
    "                \n",
    "                \"helsehjelp\", \"helsetjeneste\", \"helseteneste\", \"omsorgstjeneste\", \"omsorgsteneste\", \"helsedekning\", \"familieplanlegging\", \"reproduksjonshelse\", \"reproduktiv helse\", \n",
    "                \"seksuell helse\", \"vaksin\", \"immunisering\", \"tilgang til behandling\"]\n",
    "\n",
    "termlist3_8c = [\"essential\", \"basic\", \"life saving\", \"necessary\", \"emergency\",\n",
    "                \"essensiell\", \"nødvendig\", \"grunnlegg\", \"livred\", \"nødvendig\", \"naudsynt\", \"nødstilfelle\", \"naudstilfelle\"]\n",
    "\n",
    "termlist3_8d = [\"medicines\", \"medication\", \"treatment\", \"therap\",\n",
    "                \"medisin\", \"behandl\", \"terap\"]\n",
    "\n",
    "termlist3_8e = [\"health equity\", \"equity in health\", \"health care equity\", \"equity in healthcare\", \"health for all\", \"vaccine equity\", \n",
    "                \"access\", \"barrier\", \"obstacle\", \n",
    "                \"afford\", \"low cost\", \"inexpensive\", \"free service\", \"free of charge\", \"voucher\", \"high price\", \"costly\", \"debt\", \"financial risk\", \"financial burden\",\n",
    "                \"financial hardship\", \"household expenditure\", \"medical expenditure\", \"medical expenses\", \"medical bill\", \"medical cost\", \"out of pocket\", \"microinsurance\",\n",
    "                \"quality medicines\", \"quality care\", \"quality of care\", \"quality health care\",\n",
    "\n",
    "                \"rettferdig helse\", \"rettferdig vaksine\", \n",
    "                \"tilgang\", \"adgang\", \"åtgang\", \"hindr\", \"hinder\", \"rimelig\", \"rimeleg\", \"billig\", \"billeg\", \"gratis\", \"høy pris\", \"høg pris\",\n",
    "                \"kostbar\", \"økonomisk risiko\", \"økonomisk byrde\", \"økonomisk besvær\", \"økonomisk vansk\", \"økonomiske vansk\", \"husholdningsutgift\", \"hushaldningsutgift\", \n",
    "                \"medisinsk utgift\", \"medisinske utgift\", \"helseutgift\", \"legeregning\", \"legerekning\", \"sykehusregning\", \"sjukehusrekning\", \"behandlingsutgift\", \"mikroforsikring\"]                    \n",
    "    \n",
    "phrasedefault3_8b = r'(?:{})'.format('|'.join(termlist3_8b))\n",
    "phrasedefault3_8c = r'(?:{})'.format('|'.join(termlist3_8c))\n",
    "phrasedefault3_8d = r'(?:{})'.format('|'.join(termlist3_8d))\n",
    "phrasedefault3_8e = r'(?:{})'.format('|'.join(termlist3_8e))"
   ]
  },
  {
   "cell_type": "code",
   "execution_count": null,
   "id": "5936ccea-829d-4c43-ac44-efc0a1362d75",
   "metadata": {
    "colab": {
     "base_uri": "https://localhost:8080/"
    },
    "id": "VzediJ-eJ23V",
    "outputId": "9d765c87-69ea-4697-cb52-71c523d28745"
   },
   "outputs": [],
   "source": [
    "#Search 1\n",
    "Data.loc[(\n",
    "    (\n",
    "        (Data['result_title'].str.contains(phrasedefault3_8b, na=False, case=False)) \n",
    "        |((Data['result_title'].str.contains(phrasedefault3_8c, na=False, case=False)) & (Data['result_title'].str.contains(phrasedefault3_8d, na=False, case=False))) \n",
    "    )\n",
    "    & (Data['result_title'].str.contains(phrasedefault3_8e, na=False, case=False))  \n",
    "),\"tempsdg03_08\"] = \"SDG03_08\"\n",
    "\n",
    "print(\"Number of results = \", len(Data[(Data.tempsdg03_08 == \"SDG03_08\")])) "
   ]
  },
  {
   "cell_type": "code",
   "execution_count": null,
   "id": "2dd07fe5-6f07-480d-b96c-3d5d5be48a62",
   "metadata": {
    "colab": {
     "base_uri": "https://localhost:8080/"
    },
    "id": "dq04z2dtAgMF",
    "outputId": "1ea9d815-9932-481f-f2cf-288ae75404f7"
   },
   "outputs": [],
   "source": [
    "test=Data.loc[(Data.tempsdg03_08 == \"SDG03_08\"), (\"result_id\", \"result_title\")]\n",
    "test.iloc[0:5, ]"
   ]
  },
  {
   "cell_type": "markdown",
   "id": "b0ed48ee-974a-4907-8dce-3254701d921f",
   "metadata": {
    "id": "khq_t-dwokmq"
   },
   "source": [
    "### SDG 3.9\n",
    "\n",
    "*By 2030, substantially reduce the number of deaths and illnesses from hazardous chemicals and air, water and soil pollution and contamination*\n",
    "\n",
    "*Innen 2030 betydelig redusere antall dødsfall og sykdomstilfeller forårsaket av farlige kjemikalier og forurenset luft, vann og jord*\n"
   ]
  },
  {
   "cell_type": "markdown",
   "id": "f0677ebf-addf-43a7-925c-35ee0bc8d1d7",
   "metadata": {
    "id": "LrB_4e03okmx"
   },
   "source": [
    "#### Phrase 1"
   ]
  },
  {
   "cell_type": "code",
   "execution_count": null,
   "id": "9b90f356-ef0b-48a5-9476-f73d8474d544",
   "metadata": {
    "id": "VXOJxQrpokm3"
   },
   "outputs": [],
   "source": [
    "#Termlists\n",
    "termlist3_9a = [\"air pollution\", \"particular matter\", \"ozon\", \n",
    "                \"luftforurensing\", \"luftforurensning\", \"luftforureining\", \"partik\"]\n",
    "\n",
    "termlist3_9b = [\"PM2.5\", \"PM10\"]\n",
    "\n",
    "termlist3_9c = [\"nitrogen dioxide\", \"sulfur dioxide\", \"sulphur dioxide\", \"carbon monoxide\", \"volatile organic compounds\",\n",
    "                \"nitrogendioksid\", \"svoveldioksid\", \"karbonmonoksid\", \"flyktig organisk forbindelse\", \"flyktige organiske forbindelse\"]\n",
    "\n",
    "termlist3_9d = [\"pollution\", \"poisoning\", \n",
    "                \"forurensing\", \"forurensning\", \"forureining\", \"forgift\"]\n",
    "\n",
    "termlist3_9e = [\"smoke pollution\", \"secondhand smok\", \"second hand smok\", \"involuntarily smoking\", \"passive smoking\", \n",
    "                \"røykforurensning\", \"røykforurensing\", \"røykforureining\", \"passiv røyk\"]\n",
    "\n",
    "termlist3_9f = [\"drinking water\", \"potable water\", \"water source\", \n",
    "                \"drikkevann\", \"drikkevatn\", \"drikkevass\", \"vannkilde\", \"vasskjelde\"]\n",
    "\n",
    "termlist3_9g = [\"unsafe\", \"safe\", \"contaminated\", \"contamination\", \"pollut\", \"clean\", \n",
    "                \"tryg\", \"forurens\", \"forurein\", \"ren\", \"rein\"]\n",
    "\n",
    "termlist3_9h = [\"poor hygiene\", \"good hygiene\", \"hand hygiene\", \"personal hygiene\", \"hygiene practice\", \"hygiene intervention\", \"handwashing\", \"poor sanitation\",\n",
    "                \"adequate sanitation\", \"good sanitation\", \"sanitation facilities\", \"water sanitation and hygiene\",\n",
    "                \n",
    "                \"dårlig hygien\", \"god hygien\", \"håndhygien\", \"handhygien\", \"personlig hygien\", \"personleg hygien\", \"hygien\", \"håndvask\", \"handvask\", \"sanitær\"]\n",
    "\n",
    "termlist3_9i = [\"food\",\n",
    "                \"mat\", \"føde\"]\n",
    "\n",
    "termlist3_9j = [\"unsafe\", \"contaminated\", \"contamination\", \"sanitation\", \n",
    "                \"utryg\", \"forurens\", \"forurein\", \"sanitet\", \"sanitær\"]\n",
    "\n",
    "termlist3_9k = [\"food poisoning\", \"foodborne pathogens\", \n",
    "                \"matforgift\", \"matbår\"]\n",
    "\n",
    "termlist3_9l = [\"poisoning\", \n",
    "                \"forgift\"]\n",
    "\n",
    "termlist3_9m = [\"unintentional\", \"accidental\", \n",
    "                \"ikke-intendert\", \"uintendert\", \"tilfeldig\"]    \n",
    "\n",
    "termlist3_9n = [\"mortality\", \"death\", \"illness\", \"disease\", \"morbidity\", \"poisoning\", \n",
    "                \"død\", \"dau\", \"sykdom\", \"sjukdom\", \"forgift\"]             \n",
    "\n",
    "phrasedefault3_9a = r'(?:{})'.format('|'.join(termlist3_9a))\n",
    "phrasedefault3_9b = r'(?:{})'.format('|'.join(termlist3_9b))\n",
    "phrasedefault3_9c = r'(?:{})'.format('|'.join(termlist3_9c))\n",
    "phrasedefault3_9d = r'(?:{})'.format('|'.join(termlist3_9d))\n",
    "phrasedefault3_9e = r'(?:{})'.format('|'.join(termlist3_9e))\n",
    "phrasedefault3_9f = r'(?:{})'.format('|'.join(termlist3_9f))\n",
    "phrasedefault3_9g = r'(?:{})'.format('|'.join(termlist3_9g))\n",
    "phrasedefault3_9h = r'(?:{})'.format('|'.join(termlist3_9h))\n",
    "phrasedefault3_9i = r'(?:{})'.format('|'.join(termlist3_9i))\n",
    "phrasedefault3_9j = r'(?:{})'.format('|'.join(termlist3_9j))\n",
    "phrasedefault3_9k = r'(?:{})'.format('|'.join(termlist3_9k))\n",
    "phrasedefault3_9l = r'(?:{})'.format('|'.join(termlist3_9l))\n",
    "phrasedefault3_9m = r'(?:{})'.format('|'.join(termlist3_9m))\n",
    "phrasedefault3_9n = r'(?:{})'.format('|'.join(termlist3_9n))"
   ]
  },
  {
   "cell_type": "code",
   "execution_count": null,
   "id": "70a4da08-ee09-44c6-842c-59250e87ee91",
   "metadata": {
    "colab": {
     "base_uri": "https://localhost:8080/"
    },
    "id": "78027ZoPokm8",
    "outputId": "984acccd-9bd8-4e1c-cfae-a86300dd28d4"
   },
   "outputs": [],
   "source": [
    "#Search 1\n",
    "Data.loc[(\n",
    "    (\n",
    "        (Data['result_title'].str.contains(phrasedefault3_9a, na=False, case=False))\n",
    "        |(Data['result_title'].str.contains(phrasedefault3_9b, na=False, case=False))\n",
    "        |((Data['result_title'].str.contains(phrasedefault3_9c, na=False, case=False)) & (Data['result_title'].str.contains(phrasedefault3_9d, na=False, case=False)))\n",
    "        |(Data['result_title'].str.contains(phrasedefault3_9e, na=False, case=False))\n",
    "        |((Data['result_title'].str.contains(phrasedefault3_9f, na=False, case=False)) & (Data['result_title'].str.contains(phrasedefault3_9g, na=False, case=False)) )\n",
    "        |(Data['result_title'].str.contains(phrasedefault3_9h, na=False, case=False))       \n",
    "        |((Data['result_title'].str.contains(phrasedefault3_9i, na=False, case=False)) & (Data['result_title'].str.contains(phrasedefault3_9j, na=False, case=False)))\n",
    "        |(Data['result_title'].str.contains(phrasedefault3_9k, na=False, case=False)) \n",
    "        |((Data['result_title'].str.contains(phrasedefault3_9l, na=False, case=False)) & (Data['result_title'].str.contains(phrasedefault3_9m, na=False, case=False)))\n",
    "    )          \n",
    "    & (Data['result_title'].str.contains(phrasedefault3_9n, na=False, case=False))      \n",
    "),\"tempsdg03_09\"] = \"SDG03_09\"\n",
    "\n",
    "print(\"Number of results = \", len(Data[(Data.tempsdg03_09 == \"SDG03_09\")])) "
   ]
  },
  {
   "cell_type": "code",
   "execution_count": null,
   "id": "6f48ccb2-2598-48d8-be08-57d8119f58c9",
   "metadata": {},
   "outputs": [],
   "source": [
    "test=Data.loc[(Data.tempsdg03_09 == \"SDG03_09\"), (\"result_id\", \"result_title\")]\n",
    "test.iloc[0:5, ]"
   ]
  },
  {
   "cell_type": "markdown",
   "id": "d9ce2c23-8335-4052-8ca0-9ae67d54cb9e",
   "metadata": {
    "id": "yi7o53m8dPe3"
   },
   "source": [
    "#### Phrase 2"
   ]
  },
  {
   "cell_type": "markdown",
   "id": "8b9f3215-23a7-4345-9225-9df6564dc784",
   "metadata": {},
   "source": [
    "In this search it proved hard to exclude noise eg. from articles concerning animals. We could not use \"human\" terms to delimit the search as we did in Web of Science, as this excluded too many relevant hits. Sometimes articles which have animal names in the title, are ultimately concerned with issues relating to human conditions, therefore they shoud be included. It is also hard to specify species to include/exclude, as we cannot know or predict which may be used in what context."
   ]
  },
  {
   "cell_type": "code",
   "execution_count": null,
   "id": "d2bc9d8a-93ae-4d97-b6f0-a48d68134499",
   "metadata": {
    "id": "HrK66W7Puxsj"
   },
   "outputs": [],
   "source": [
    "#Termlists\n",
    "termlist3_9o = [\"hazardous chemical\", \"hazardous material\", \"hazardous substance\", \"hazardous waste\", \"pollution\", \n",
    "                \"soil contamination\", \"contamination of soils\", \"water contamination\",\"contamination of water\", \n",
    "                \"arsenic\", \"asbestos\", \"benzen\", \"cadmium\", \"dioxin\", \"mercury\", \"fluoride\", \"pesticide\", \n",
    "                \"lead poison\", \"lead toxicity\", \"lead-mediated toxicity\", \"lead-induced toxicity\", \"lead exposure\", \"lead carcinogen\", \"blood lead\", \n",
    "                \"radioactive waste\", \"persistent organic pollutant\", \"sanitation\",\n",
    "\n",
    "                \"farlige kjemikalier\", \"farlege kjemikaliar\", \"farlige materialer\", \"farlege materialar\", \"farlige stoff\", \"farlege stoff\", \"farlig avfall\", \"farleg avfall\", \n",
    "                \"forurensing\", \"forurensning\", \"forureining\", \"forurenset grunn\", \"forureina grunn\", \n",
    "                \"arsenikk\", \"asbest\", \"kadmium\", \"dioksin\", \"kvikksølv\", \"fluor\", \"pesticid\", \"plantevernmiddel\",\n",
    "                \"blyforgift\", \"blyeksponering\", \n",
    "                \"radioaktivt avfall\", \"miljøgift\"\n",
    "               ]\n",
    "\n",
    "termlist3_9p = [\"mortality\", \"death\", \"illness\", \"disease\", \"morbidity\", \"toxicity\", \"poisoning\", \"poisoned\", \"fluorosis\",\n",
    "                \"dødelighet\", \"dødelegheit\", \"død\", \"daud\", \"sykdom\", \"sjukdom\", \"toksisitet\", \"forgift\", \"fluorose\"\n",
    "               ]\n",
    "#termlist3_9q = [\"human\", \"humanity\", \"people\", \"person\", \"child\", \"under fives\", \"infant\", \"toddler\", \"babies\", \"teenager\", \"adolescent\", \"girls\", \"boys\", \"elderly\", \"adult\", \"women\", \n",
    "#                \"woman\", \"rural\", \"urban\", \"cities\", \"town\", \"village\", \"countr\", \"nation\", \"developed state\", \"developing state\",\n",
    "#                \"patient\", \"hospital\", \"premature death\", \"premature mortality\", \"neglected tropical disease\", \"diarrhoea\", \"diarrhea\",\n",
    "#                \"menneske\", \"folk\", \"person\", \"barn\", \"unge\", \"spedbarn\", \"baby\", \"nyfød\", \"tenåring\", \"ungdom\", \"jente\", \"eldre\", \"voksen\", \"vaksen\", \"voksne\", \"vaksne\", \"kvinne\",\n",
    "#                \"land\", \"nasjon\", \"pasient\", \"sykehus\", \"sjukehus\", \"prematur\", \"neglisjerte tropesykdommer\", \"neglisjerte tropesjukdom\", \"diare\"]\n",
    "#Not used - see comment over.\n",
    "\n",
    "phrasedefault3_9o = r'(?:{})'.format('|'.join(termlist3_9o))\n",
    "phrasedefault3_9p = r'(?:{})'.format('|'.join(termlist3_9p))\n",
    "#phrasedefault3_9q = r'(?:{})'.format('|'.join(termlist3_9q))"
   ]
  },
  {
   "cell_type": "code",
   "execution_count": null,
   "id": "6c4b8fd8-e6c2-458c-aab7-446a1eaf6c1f",
   "metadata": {
    "colab": {
     "base_uri": "https://localhost:8080/"
    },
    "id": "a1rnXRCluxsl",
    "outputId": "4fbdd6bd-336f-4fe1-ae6f-1184c7dc1a21"
   },
   "outputs": [],
   "source": [
    "Data.loc[( \n",
    "    (Data['result_title'].str.contains(phrasedefault3_9o, na=False, case=False))\n",
    "    &(Data['result_title'].str.contains(phrasedefault3_9p, na=False, case=False))   \n",
    "),\"tempsdg03_09\"] = \"SDG03_09\"\n",
    "\n",
    "print(\"Number of results = \", len(Data[(Data.tempsdg03_09 == \"SDG03_09\")])) "
   ]
  },
  {
   "cell_type": "code",
   "execution_count": null,
   "id": "77bf0c35-524c-44c7-a83e-b40f20d7824d",
   "metadata": {
    "colab": {
     "base_uri": "https://localhost:8080/",
     "height": 1000
    },
    "id": "IjhJg2_Auxsp",
    "outputId": "923b155d-186e-476f-8e4a-d6f1de7637fc"
   },
   "outputs": [],
   "source": [
    "test=Data.loc[(Data.tempsdg03_09 == \"SDG03_09\"), (\"result_id\", \"result_title\")]\n",
    "test.iloc[0:5, ]"
   ]
  },
  {
   "cell_type": "markdown",
   "id": "fb6415a5-7871-49f9-83b1-e62ce6b92068",
   "metadata": {
    "id": "VCHVtNa45AGg"
   },
   "source": [
    "### SDG 3.a\n",
    "\n",
    "*Strengthen the implementation of the World Health Organization Framework Convention on Tobacco Control in all countries, as appropriate*\n",
    "\n",
    "*Styrke gjennomføringen av Verdens helseorganisasjons rammekonvensjon om forebygging av tobakksskader i alle land*"
   ]
  },
  {
   "cell_type": "markdown",
   "id": "ffce9839-bfa7-4a64-be10-4db017a1418e",
   "metadata": {
    "id": "5bGK4U385J7-"
   },
   "source": [
    "#### Phrase 1"
   ]
  },
  {
   "cell_type": "code",
   "execution_count": null,
   "id": "7dbadd19-986c-4f73-84fb-2e3924969c71",
   "metadata": {
    "id": "RBh9SrSv54eL"
   },
   "outputs": [],
   "source": [
    "#Termlists\n",
    "termlist3_a1 = [\"framework convention on tobacco control\", \n",
    "                \"tobakkskonvensjon\", \"konvensjon om forebygging av tobakksskad\"]\n",
    "termlist3_a2 = [\"FCTC\"]                \n",
    "              \n",
    "phrasedefault3_a1 = r'(?:{})'.format('|'.join(termlist3_a1))\n",
    "phrasedefault3_a2 = r'(?:{})'.format('|'.join(termlist3_a2))"
   ]
  },
  {
   "cell_type": "code",
   "execution_count": null,
   "id": "a80f52b6-138b-4003-8b10-42f24ff50be4",
   "metadata": {
    "colab": {
     "base_uri": "https://localhost:8080/"
    },
    "id": "IT_3C5J47BP4",
    "outputId": "265ae18a-8f92-407f-b3ad-917b47ca0781"
   },
   "outputs": [],
   "source": [
    "#search\n",
    "Data.loc[(\n",
    "         (Data['result_title'].str.contains(phrasedefault3_a1, na=False, case=False))\n",
    "         |(Data['result_title'].str.contains(phrasedefault3_a2, na=False, case=True))   \n",
    "    ),\"tempsdg03_a\"] = \"SDG03_0a\"\n",
    "\n",
    "print(\"Number of results = \", len(Data[(Data.tempsdg03_a == \"SDG03_0a\")])) "
   ]
  },
  {
   "cell_type": "code",
   "execution_count": null,
   "id": "a6600008-4a31-4850-a068-7f08b1aea203",
   "metadata": {
    "colab": {
     "base_uri": "https://localhost:8080/",
     "height": 142
    },
    "id": "5wJ-Zg-Y8z5y",
    "outputId": "267a22d5-b3ad-4d4c-bb94-5462c55db0fe"
   },
   "outputs": [],
   "source": [
    "test=Data.loc[(Data.tempsdg03_a == \"SDG03_0a\"), (\"result_id\", \"result_title\")]\n",
    "test.iloc[0:5, ]"
   ]
  },
  {
   "cell_type": "markdown",
   "id": "54cad173-af42-40af-9e39-610aa48546f3",
   "metadata": {
    "id": "qn9QoP7k5MuR"
   },
   "source": [
    "#### Phrase 2\n",
    "\n",
    "When searching only titles, the approach used in the Web of Science search proved too restrictive. Many articles talk about smoke cessation etc. without mentioning \"tobacco\", therefore we have built the search without \"tobacco\" as a necessary term, even though this leads to some noise. "
   ]
  },
  {
   "cell_type": "code",
   "execution_count": null,
   "id": "9dc3f81a-b8c4-4229-9711-29f7d65822ee",
   "metadata": {
    "id": "6os-Jw7J6EEZ"
   },
   "outputs": [],
   "source": [
    "#Termlists\n",
    "termlist3_a3 = [\"tobacco\", \"smoking\", \"cigarette\", \n",
    "                \"tobakk\", \"røyking\", \"sigarett\"]\n",
    "\n",
    "termlist3_a4 = [\"reduc\", \"control\", \"ban\", \"prohibit\", \"legislation\", \"policy\", \"policies\", \"regulat\", \"law\", \"strateg\", \"intervention\", \"tax\", \"health warning\",\n",
    "                \"smoking cessation\", \"quitting\", \"services\", \"cessation service\", \"cessation program\", \"alternativ\",\n",
    "                \n",
    "                \"reduser\", \"reduksjon\", \"kontroll\", \"forby\", \"forbud\", \"forbod\", \"lovgivning\", \"lovgiving\", \"politikk\", \"retningslin\", \"reguler\", \"lov\", \"strategi\", \"intervensjon\", \"inngrip\",\n",
    "                \"skatt\", \"helseadvarsel\", \"helseåtvaring\", \"røykeslutt\", \"røykestopp\", \"slutt\", \"stopp\", \"tjeneste\", \"teneste\"]\n",
    "\n",
    "termlist3_a5 = [\"reduce tobacco\", \"reduce smoking\", \"decrease tobacco\", \"reduce dependence on tobacco\", \n",
    "                \"redusere avhengig\"]    \n",
    "\n",
    "#termlist3_a6 = [\"tobacco\", \"tobakk\"]            \n",
    "#Not used, see comment over\n",
    "\n",
    "phrasedefault3_a3 = r'(?:{})'.format('|'.join(termlist3_a3))\n",
    "phrasedefault3_a4 = r'(?:{})'.format('|'.join(termlist3_a4))\n",
    "phrasedefault3_a5 = r'(?:{})'.format('|'.join(termlist3_a5))\n",
    "#phrasedefault3_a6 = r'(?:{})'.format('|'.join(termlist3_a6))"
   ]
  },
  {
   "cell_type": "code",
   "execution_count": null,
   "id": "ec9f78c1-f604-406a-8b53-e580ab36833d",
   "metadata": {
    "colab": {
     "base_uri": "https://localhost:8080/"
    },
    "id": "07eTkTDJmcFN",
    "outputId": "9ef0190d-b4b6-4f4c-d2b5-aed906e22db3"
   },
   "outputs": [],
   "source": [
    "Data.loc[(\n",
    "    (\n",
    "        (Data['result_title'].str.contains(phrasedefault3_a3, na=False, case=False))\n",
    "        & (Data['result_title'].str.contains(phrasedefault3_a4, na=False, case=False))\n",
    "    )\n",
    "    |(Data['result_title'].str.contains(phrasedefault3_a5, na=False, case=False))             \n",
    "),\"tempsdg03_a\"] = \"SDG03_0a\"\n",
    "\n",
    "print(\"Number of results = \", len(Data[(Data.tempsdg03_a == \"SDG03_0a\")])) "
   ]
  },
  {
   "cell_type": "code",
   "execution_count": null,
   "id": "09c8c432-05ea-4688-b771-85840d41b7e2",
   "metadata": {
    "colab": {
     "base_uri": "https://localhost:8080/",
     "height": 1000
    },
    "id": "p9JdZN0S91KI",
    "outputId": "8d477917-8800-4857-8076-2fccfd9a98cf"
   },
   "outputs": [],
   "source": [
    "test=Data.loc[(Data.tempsdg03_a == \"SDG03_0a\"), (\"result_id\", \"result_title\")]\n",
    "test.iloc[0:5, ]"
   ]
  },
  {
   "cell_type": "markdown",
   "id": "a35548d2-8bd7-4d33-a2e1-d4b943cc09c2",
   "metadata": {
    "id": "I51tA3CT5PEv"
   },
   "source": [
    "#### Phrase 3\n"
   ]
  },
  {
   "cell_type": "code",
   "execution_count": null,
   "id": "fa666706-2523-4d8c-add5-26cc6aed8faf",
   "metadata": {
    "id": "Gd7yYi9D5Ohl"
   },
   "outputs": [],
   "source": [
    "#Termlists \n",
    "termlist3_a7 = [\"tobacco farm\", \"tobacco production\", \"tobacco growing\", \"tobacco grower\", \n",
    "                \"tobakksproduksjon\", \"produksjon av tobakk\", \"tobakksdyrk\", \"dyrking av tobakk\", \"tobakksbonde\", \"tobakksbønder\"]\n",
    "\n",
    "termlist3_a8 = [\"alternativ\", \"diversif\", \"alternative crop\", \"crop substitution\", \"alternative livelihood\", \"sustainable livelihood\",\n",
    "                \"divers\", \"alternativt jordbruk\", \"alternativ avling\", \"alternativt levebrød\", \"alternative inntektsk\", \"bærekraftig levebrød\", \"berekraftig levebrød\"]\n",
    "\n",
    "phrasedefault3_a7 = r'(?:{})'.format('|'.join(termlist3_a7))\n",
    "phrasedefault3_a8 = r'(?:{})'.format('|'.join(termlist3_a8))"
   ]
  },
  {
   "cell_type": "code",
   "execution_count": null,
   "id": "afdd14d1-92f3-4c98-a307-bb122ac1e9bd",
   "metadata": {
    "colab": {
     "base_uri": "https://localhost:8080/"
    },
    "id": "Wj5iqxtN1Yu4",
    "outputId": "03c9012d-4e4a-480a-ba28-a9ccbb33dc67"
   },
   "outputs": [],
   "source": [
    "#search\n",
    "Data.loc[(\n",
    "    (Data['result_title'].str.contains(phrasedefault3_a7, na=False, case=False))\n",
    "    & (Data['result_title'].str.contains(phrasedefault3_a8, na=False, case=False))\n",
    "    ),\"tempsdg03_a\"] = \"SDG03_0a\"\n",
    "\n",
    "print(\"Number of results = \", len(Data[(Data.tempsdg03_a == \"SDG03_0a\")])) "
   ]
  },
  {
   "cell_type": "code",
   "execution_count": null,
   "id": "9ce39196-d10d-4e25-b57c-b58cfad1a1fd",
   "metadata": {
    "id": "ZsdE_Kl42ri4"
   },
   "outputs": [],
   "source": [
    "test=Data.loc[(Data.tempsdg03_a == \"SDG03_0a\"), (\"result_id\", \"result_title\")]\n",
    "test.iloc[0:5, ]"
   ]
  },
  {
   "cell_type": "markdown",
   "id": "3ed07daf-2945-4f1d-b8de-90c60cd49b7c",
   "metadata": {
    "id": "98Nayd_M6TMj"
   },
   "source": [
    "### SDG 3.b\n",
    "\n",
    "*Support the research and development of vaccines and medicines for the communicable and non‑communicable diseases that primarily affect developing countries, provide access to affordable essential medicines and vaccines, in accordance with the Doha Declaration on the TRIPS Agreement and Public Health, which affirms the right of developing countries to use to the full the provisions in the Agreement on Trade-Related Aspects of Intellectual Property Rights regarding flexibilities to protect public health, and, in particular, provide access to medicines for all*\n",
    "\n",
    "*Støtte forskning på – og utvikling av – vaksiner og medisiner mot smittsomme og ikke-smittsomme sykdommer som primært rammer utviklingsland, sørge for tilgang til nødvendige medisiner og vaksiner til en overkommelig pris, i samsvar med Doha-erklæringen om TRIPS-avtalen og folkehelse, som bekrefter utviklingslandenes rett til fullt ut å anvende bestemmelsene som gjelder adgangen til å verne om folkehelsen og særlig sørge for tilgang til medisiner for alle, i avtalen om handelsrelaterte aspekter ved immaterielle rettigheter*"
   ]
  },
  {
   "cell_type": "markdown",
   "id": "0947b2cf-2436-45e6-b148-58456b55cf74",
   "metadata": {
    "id": "FPlUbxjp6htL"
   },
   "source": [
    "#### Phrase 1"
   ]
  },
  {
   "cell_type": "code",
   "execution_count": null,
   "id": "24889889-4bc6-434b-a840-5d566c6f5be1",
   "metadata": {
    "id": "4leZhKpW68Xd"
   },
   "outputs": [],
   "source": [
    "#Termlists\n",
    "#termlist3_b1 = [\"develop\", \"research\", \"r&d\", \"r & d\",\n",
    "#                \"utvikl\", \"forskning\", \"FOU\"]\n",
    "\n",
    "termlist3_b2 = [\"new medicine\", \"novel medicin\", \"new medicatio\", \"novel medication\", \"new therap\", \"novel therap\",\n",
    "                \"new vaccin\", \"novel vaccin\", \"vaccine development\",\n",
    "                \"new drug\", \"novel drug\", \"drug development\", \"drug discovery\", \"new cure\", \"novel cure\", \"new treatment\", \"novel treatment\",\n",
    "\n",
    "                \"ny medisin\", \"nye medisin\", \"nytt medikament\", \"nye medikament\", \"ny terap\", \"nye terapie\",\n",
    "                \"ny vaksine\", \"nye vaksine\", \"vaksineutvikling\", \"utvikling av vaksin\", \n",
    "                \"nytt legemiddel\", \"nye legemid\", \"ny behandling\"]\n",
    "#We tried having \"new\" and \"medicine\"(++) in two separate term lists combined by AND, but it was noisy, hence use of phrases in termlist b2\n",
    "\n",
    "termlist3_b3 = [\"neglected tropical disease\", \n",
    "                \"african trypanosomiasis\", \"aids\", \"hiv\", \"appendicitis\", \"buruli ulcer\", \"chagas\", \"chikungunya\", \"dengue\", \"diarrheal disease\", \"diphteria\", \"dracunculiasis\", \"ebola\", \n",
    "                \"guinea-worm disease\", \"echinococcosis\", \"foodborne trematodiases\", \"hemolytic disease\", \"hepatitis B\", \"human african trypanosomiasis\", \"sleeping sickness\", \"leishmaniasis\", \"leprosy\", \n",
    "                \"lower respiratory infection\", \"respiratory tract infection\", \"lymphatic filariasis\",\"malaria\", \n",
    "                \"maternal hemorrage\", \"maternal sepsis\", \"measles\", \"mycetom\", \"chromoblastomycosis\", \"deep mycoses\", \"neonatal encephalopathy\", \"neural tube defect\",\n",
    "                \"onchocerciasis\", \"river blindness\", \"pertussis\", \"rabies\", \"rheumatic heart disease\", \"scabies\", \"schistosomiasis\", \"sickle cell\", \n",
    "                \"soil-transmitted helminthiasis\", \"hookworm\", \"roundworm\", \"whipworm\", \"ascaris lumbricoides\",\n",
    "                \"trichuris trichiura\", \"necator americanus\", \"ancylostoma duodenale\", \"snakebite envenoming\", \"taeniasis\", \"cysticercosis\", \"tetanus\", \"trachoma\", \n",
    "                \"trichuriasis\", \"tuberculosis\", \"typhiod fever\", \"yaws\", \"yellow fever\",\n",
    "\n",
    "                \"neglisjert tropesykdom\", \"neglisjerte tropesykdom\", \"neglisjert tropesjukdom\", \"neglisjerte tropesjukdom\", \n",
    "                \"afrikansk trypanosomiasis\", \"apendisitt\", \"blindtarmbetennelse\", \"burulisår\", \"diare\", \"difteri\", \"ekinokkokose\", \"trematodeinfeksjon\",\n",
    "                \"hemolytisk\", \"hepatitt B\", \"lepra\", \"luftveisinfeksjon\", \"lymfatisk filariasis\", \"meslinger\", \"mykose\", \"kromomykose\",\n",
    "                \"onkocerkose\", \"kikhoste\", \"skabb\", \"sigdcelle\", \n",
    "                \"helmintiasis\", \"jordoverført helminthiasis\", \"hakeorm\", \"rundorm\", \"guineaorm\", \"trichuris\", \"necator\", \"ancylostoma\", \n",
    "                \"taeniainfeksjon\", \"cysticerkose\", \"trakom\", \"tuberkulose\", \"tyfoid\", \"frambøsi\", \"gulfeber\",\n",
    "\n",
    "                \"virus\", \"epidemi\", \"pandemi\", \"infectious\", \"communicable\",\n",
    "                \"smittsom\", \"overførbar\",\n",
    "                ]\n",
    " #a few general terms (\"virus\", \"epidemi\" etc.) not originally included in the Web of Science were added to termlist3_b3 \n",
    " #as very few hits resulted from the title search when using only the names of specific diseases\n",
    "\n",
    "#phrasedefault3_b1 = r'(?:{})'.format('|'.join(termlist3_b1))\n",
    "phrasedefault3_b2 = r'(?:{})'.format('|'.join(termlist3_b2))\n",
    "phrasedefault3_b3 = r'(?:{})'.format('|'.join(termlist3_b3))"
   ]
  },
  {
   "cell_type": "code",
   "execution_count": null,
   "id": "022e9b40-7b1f-4bc4-bfcc-d761ae1f0ab6",
   "metadata": {},
   "outputs": [],
   "source": [
    "#Search 1 - in LMICs data\n",
    "Data.loc[(\n",
    "    (\n",
    "        (Data['result_title'].str.contains(phrasedefault3_b2, na=False, case=False))\n",
    "        & ((Data['LMICs']==True)|(Data['result_title'].str.contains(phrasedefault3_b3, na=False, case=False)))\n",
    "    )\n",
    "),\"tempsdg03_b\"] = \"SDG03_b\"\n",
    "\n",
    "print(\"Number of results = \", len(Data[(Data.tempsdg03_b == \"SDG03_b\")])) "
   ]
  },
  {
   "cell_type": "code",
   "execution_count": null,
   "id": "d7738e88-1fd9-438d-a1ca-44a7bc4e49c2",
   "metadata": {
    "colab": {
     "base_uri": "https://localhost:8080/",
     "height": 1000
    },
    "id": "N61k67bjq6wI",
    "outputId": "59e022f7-525e-45df-f118-22cce9421e33"
   },
   "outputs": [],
   "source": [
    "#Results\n",
    "test=Data.loc[(Data.tempsdg03_b == \"SDG03_b\"), (\"result_id\", \"result_title\")]\n",
    "test.iloc[0:5, ]"
   ]
  },
  {
   "cell_type": "markdown",
   "id": "10ad38c3-18ee-4214-b173-a7f6695bf892",
   "metadata": {
    "id": "-PJXHxkYAXjm"
   },
   "source": [
    "#### Phrase 2"
   ]
  },
  {
   "cell_type": "code",
   "execution_count": null,
   "id": "7821125a-767a-48ae-888f-2ccd8c9c839a",
   "metadata": {
    "id": "hn_FrPyqAa7W"
   },
   "outputs": [],
   "source": [
    "#Termlists\n",
    "termlist3_b4 = [\"doha declaration\", \"compulsory licens\", \"patent\", \"intellectual property\", \"TRIPS agreement\",\n",
    "                \"doha-erklæring\", \"tvangslisens\", \"immaterielle rett\", \"intellektuell eiendom\", \"TRIPS-avtal\"]\n",
    "\n",
    "termlist3_b5 = [\"pharmaceuticals\", \"medicine\", \"vaccine\", \"immunisation\", \"immunization\", \"essential drug\", \"medication\", \"treatment access\", \"access to therapy\", \n",
    "                \"legemid\", \"medisin\", \"medikament\", \"vaksine\", \"immunisering\", \"essensiell medisin\", \"livsnødvendig medisin\", \"behandlingstilgang\", \"tilgang til behandling\", \"adgang til behandling\", \"åtgang til behandling\"]\n",
    "\n",
    "termlist3_b6 = [\"essential\", \"life saving\", \"life-saving\", \"emergency\", \"health\", \"medical\",\n",
    "                \"essensiel\", \"livred\", \"livsviktig\", \"krise\", \"akutt\", \"helse\", \"medisinsk\"]\n",
    "\n",
    "termlist3_b7 = [\"treatment\", \"therapy\", \n",
    "                \"behandling\", \"terapi\"]\n",
    "\n",
    "termlist3_b8 = [\"access\", \"affordab\", \"low cost\", \"low-cost\", \"inexpensive\", \"free of charge\", \"expensive\", \n",
    "                \"tilgang\", \"adgang\", \"åtgang\", \"rimelig\", \"rimeleg\", \"billig\", \"billeg\", \"gratis\"]\n",
    "\n",
    "termlist3_b9 = [\"vaccine equity\", \"vaccine inequit\", \n",
    "                \"vaksinefordeling\", \"fordeling av vaksiner\"]\n",
    "\n",
    "phrasedefault3_b4 = r'(?:{})'.format('|'.join(termlist3_b4))\n",
    "phrasedefault3_b5 = r'(?:{})'.format('|'.join(termlist3_b5))\n",
    "phrasedefault3_b6 = r'(?:{})'.format('|'.join(termlist3_b6))\n",
    "phrasedefault3_b7 = r'(?:{})'.format('|'.join(termlist3_b7))\n",
    "phrasedefault3_b8 = r'(?:{})'.format('|'.join(termlist3_b8))\n",
    "phrasedefault3_b9 = r'(?:{})'.format('|'.join(termlist3_b9))"
   ]
  },
  {
   "cell_type": "code",
   "execution_count": null,
   "id": "a8e29126-47e3-45e4-8a8f-39b74561300c",
   "metadata": {
    "colab": {
     "base_uri": "https://localhost:8080/"
    },
    "id": "7_qfKPe8yBtS",
    "outputId": "a551beef-108a-45cf-a883-d5f35d9abcf1"
   },
   "outputs": [],
   "source": [
    "#Search 1\n",
    "# This search (vaccine equity OR trips/doha + medicines OR medicines + access) is wider than the WOS search (vaccine equity OR trips/doha AND medicines AND access) - adaptation to titles, where\n",
    "# we were missing results about access in for certain countries. It adds a few noisy results about individual-level access to medicines (which are perhaps more relevant in 3.8 than 3.b).\n",
    "Data.loc[(\n",
    "    (Data['result_title'].str.contains(phrasedefault3_b9, na=False, case=False))\n",
    "    |((Data['result_title'].str.contains(phrasedefault3_b4, na=False, case=False)) & (Data['result_title'].str.contains(phrasedefault3_b5, na=False, case=False)))\n",
    "    |\n",
    "    (\n",
    "        (\n",
    "            (Data['result_title'].str.contains(phrasedefault3_b5, na=False, case=False)) \n",
    "            |((Data['result_title'].str.contains(phrasedefault3_b6, na=False, case=False)) & (Data['result_title'].str.contains(phrasedefault3_b7, na=False, case=False))) \n",
    "        )\n",
    "        & (Data['result_title'].str.contains(phrasedefault3_b8, na=False, case=False))\n",
    "    )\n",
    "),\"tempsdg03_b\"] = \"SDG03_b\"\n",
    "\n",
    "print(\"Number of results = \", len(Data[(Data.tempsdg03_b == \"SDG03_b\")])) "
   ]
  },
  {
   "cell_type": "code",
   "execution_count": null,
   "id": "e0be9acf-e6a2-492d-ac3c-d37705563cb8",
   "metadata": {
    "colab": {
     "base_uri": "https://localhost:8080/",
     "height": 1000
    },
    "id": "lSGsGiOWyU7n",
    "outputId": "c78fdc80-4042-492b-f376-0f64ec792dde"
   },
   "outputs": [],
   "source": [
    "test=Data.loc[(Data.tempsdg03_b == \"SDG03_b\"), (\"result_id\", \"result_title\")]\n",
    "test.iloc[0:5, ]"
   ]
  },
  {
   "cell_type": "markdown",
   "id": "a91576f3-029c-4fd4-baca-1e74fe150020",
   "metadata": {
    "id": "zrENLG-8ho5q"
   },
   "source": [
    "### SDG 3.c\n",
    "*Substantially increase health financing and the recruitment, development, training and retention of the health workforce in developing countries, especially in least developed countries and small island developing States*\n",
    "\n",
    "*Oppnå betydelig økt finansiering av helsetjenester og rekruttering, utvikling og opplæring av helsepersonell i utviklingsland, særlig i de minst utviklede landene og små utviklingsøystater, og arbeide for at slikt personell blir værende i landene*"
   ]
  },
  {
   "cell_type": "markdown",
   "id": "4726b7a4-8a8d-402a-922a-28544dce6457",
   "metadata": {
    "id": "6OWptJXFhtMt"
   },
   "source": [
    "#### Phrase 1"
   ]
  },
  {
   "cell_type": "code",
   "execution_count": null,
   "id": "6e516c32-4211-43f4-9ca7-71a9f104fb3f",
   "metadata": {
    "id": "krETJNbUh6x_"
   },
   "outputs": [],
   "source": [
    "#Termlists\n",
    "termlist3_c1 = [\"recruitment\", \"professional development\", \"retention\", \"capacity building\", \"capacity development\", \"train more\", \"recruit more\", \"increase trained\",\n",
    "                \"increase the number of\", \"human capital flight\", \"brain drain\", \"emigration\", \"turnover\", \"intention to leave\",\n",
    "                \n",
    "                \"rekruttering\", \"fagutvikl\", \"faglig utvikl\", \"fagleg utvikl\", \"bevaring\", \"kapasitetsbygging\", \"kapasitetsutvikling\", \"trene fle\", \"rekruttere fle\",\n",
    "                \"øke trente\", \"auke trente\", \"øke antallet\", \"øke tallet\", \"auke talet\", \"hjerneflukt\", \"emigrasjon\", \"utskifting\", \"gjennom\"]\n",
    "\n",
    "termlist3_c2 = [\"increase\", \"improv\", \"enhanc\", \n",
    "                \"øk\", \"auk\", \"bedr\", \"betr\", \"styrk\", \"utvid\"]\n",
    "\n",
    "termlist3_c3 = [\"training\", \"education\",\n",
    "                \"trening\", \"opplæring\", \"utdanning\"]\n",
    "\n",
    "termlist3_c4 = [\"health\", \"medical\", \n",
    "                \"helse\", \"medisinsk\"]\n",
    "\n",
    "termlist3_c5 = [\"workforce\", \"professional\", \"worker\", \"personnel\", \"practitioner\", \"human resources\", \"student\", \n",
    "                \"arbeidsstyrke\", \"profesjonell\", \"arbeider\", \"arbeidar\", \"personell\", \"personale\", \"utøver\", \"utøvar\", \"menneskelige ressurs\", \"menneskelege ressurs\"]\n",
    "\n",
    "termlist3_c6 = [\"nurse\", \"doctor\", \"physician\", \"anesthetist\", \"audiologist\", \"dental staff\", \"dentist\", \"doula\", \"emergency medical dispatcher\", \"health educator\",\n",
    "                \"health facility administrator\", \"infection control practitioner\", \"medical chaperone\", \"medical laboratory personnel\", \"nutritionist\",\n",
    "                \"therapist\", \"optometrist\", \"pharmacist\", \"allergist\", \"anesthesiolog\", \"cardiolog\", \"dermatolog\", \"endocrinolog\", \"gastroenterolog\", \"general practic\",\n",
    "                \"geriatrician\", \"gynecologist\", \"hospitalist\", \"nephrolog\", \"neurolog\", \"oncolog\", \"ophtalmolog\", \"otolaryngolog\", \"midwives\", \"pathologist\", \"pediatric\",\n",
    "                \"physiatrist\", \"pulmonolog\", \"radiolog\", \"rheumatolog\", \"surgeon\", \"urolog\", \n",
    "                 \n",
    "                \"sykepleier\", \"sjukepleiar\", \"doktor\", \"lege\", \"anestesiolog\", \"anestesilege\", \"audiograf\", \"tannlege\", \"AMK-operatør\", \"smittevern\", \"laboratorieperson\",\n",
    "                \"ernæringsfysiolog\", \"terapeut\", \"farmasøyt\", \"allergolog\", \"kardiolog\", \"endokrinolog\", \"allmennlege\", \"geriatrik\", \"gynekolog\", \"nevrolog\", \"onkolog\", \n",
    "                \"oftalmolog\", \"jordmor\", \"jordmødre\", \"patolog\", \"pediater\", \"kirurg\"]                               \n",
    "\n",
    "phrasedefault3_c1 = r'(?:{})'.format('|'.join(termlist3_c1))\n",
    "phrasedefault3_c2 = r'(?:{})'.format('|'.join(termlist3_c2))\n",
    "phrasedefault3_c3 = r'(?:{})'.format('|'.join(termlist3_c3))\n",
    "phrasedefault3_c4 = r'(?:{})'.format('|'.join(termlist3_c4))\n",
    "phrasedefault3_c5 = r'(?:{})'.format('|'.join(termlist3_c5))\n",
    "phrasedefault3_c6 = r'(?:{})'.format('|'.join(termlist3_c6))"
   ]
  },
  {
   "cell_type": "code",
   "execution_count": null,
   "id": "35d3cff9-9c1c-45a0-b9e3-8bb39e243543",
   "metadata": {},
   "outputs": [],
   "source": [
    "#Search 1 - in LMICs data\n",
    "Data.loc[(\n",
    "    (\n",
    "        (\n",
    "            (Data['result_title'].str.contains(phrasedefault3_c1, na=False, case=False))\n",
    "            |((Data['result_title'].str.contains(phrasedefault3_c2, na=False, case=False)) & (Data['result_title'].str.contains(phrasedefault3_c3, na=False, case=False)))\n",
    "        )\n",
    "        & \n",
    "        (\n",
    "            ((Data['result_title'].str.contains(phrasedefault3_c4, na=False, case=False)) & (Data['result_title'].str.contains(phrasedefault3_c5, na=False, case=False)))\n",
    "            |(Data['result_title'].str.contains(phrasedefault3_c6, na=False, case=False))\n",
    "        )    \n",
    "    )\n",
    "    & (Data['LMICs']==True)\n",
    "),\"tempsdg03_c\"] = \"SDG03_c\"\n",
    "\n",
    "print(\"Number of results = \", len(Data[(Data.tempsdg03_c == \"SDG03_c\")]))  "
   ]
  },
  {
   "cell_type": "markdown",
   "id": "7fdd28a8-860e-400f-9f14-5d254a049820",
   "metadata": {
    "id": "y7_vMsgF6A8g"
   },
   "source": [
    "#### Phrase 2\n"
   ]
  },
  {
   "cell_type": "code",
   "execution_count": null,
   "id": "2b9c2a22-e2c3-43ea-acdc-f831e393e0fd",
   "metadata": {
    "id": "EayVouZg6NH1"
   },
   "outputs": [],
   "source": [
    "#Termlists\n",
    "termlist3_c8 = [\"financing\", \"investment\", \"investing\", \"fund\", \"health spending\", \"health care spending\", \"health budget\", \"public spending\", \"government spending\",\n",
    "                \"financial assist\", \"economic assist\", \"financial support\", \"financial resources\", \"subsidy\", \"subsidies\", \"subsidis\", \"subsidiz\",\n",
    "                \"cooperation fund\", \"development spending\",\n",
    "\n",
    "                \"finansie\", \"fond\", \"helseutgift\", \"helsebudsjett\", \"offentlige utgifter\", \"offentlege utgifter\", \"finansiell assistanse\", \"økonomisk assistanse\", \n",
    "                \"finansiell støtte\", \"finansiell stønad\", \"finansielle ressurs\", \"subsidi\", \"offentlig utviklings\", \"offentleg utviklings\", \"offisiell utviklings\", \"samarbeidsfond\"]\n",
    "\n",
    "termlist3_c8_case = [\"ODA\", \"invest\", \"Invest\"]\n",
    "\n",
    "termlist3_c9 = [\"international\", \"development\", \"foreign\", \n",
    "                \"internasjonal\", \"utvikling\", \"utenlands\", \"utanlands\"]\n",
    "\n",
    "termlist3_c10 = [\"aid\", \"assistance\", \"finance\", \"grant\", \n",
    "                 \"hjelp\", \"støtte\", \"stønad\", \"bistand\", \"assistanse\", \"finansie\"]\n",
    "\n",
    "termlist3_c11 = [\"health sector\", \"health financing\", \"health budget\", \"health spending\", \"health service\", \"healthcare\", \"health care\", \"medical care\",\n",
    "                 \"medical research\", \"health research\", \"health R&D\", \"medical R&D\",\n",
    "                 \n",
    "                 \"helsesektor\", \"helsefinansiering\", \"helsebudjett\", \"helseøkonomi\", \"helseutgift\", \"helsetjeneste\", \"helseteneste\", \"omsorgstjeneste\", \"omsorgsteneste\", \n",
    "                 \"medisinsk forskning\", \"medisinsk forsking\", \"helseforskning\", \"helseforsking\"]\n",
    "\n",
    "phrasedefault3_c8 = r'(?:{})'.format('|'.join(termlist3_c8))\n",
    "phrasespecific3_c8_case = r'\\b(?:{})\\b'.format('|'.join(termlist3_c8_case))\n",
    "phrasedefault3_c9 = r'(?:{})'.format('|'.join(termlist3_c9))\n",
    "phrasedefault3_c10 = r'(?:{})'.format('|'.join(termlist3_c10))\n",
    "phrasedefault3_c11 = r'(?:{})'.format('|'.join(termlist3_c11))"
   ]
  },
  {
   "cell_type": "code",
   "execution_count": null,
   "id": "2bd7a51d-45f6-4c9d-8c1d-f01221c3a8c4",
   "metadata": {},
   "outputs": [],
   "source": [
    "#Search - in LMICs data\n",
    "Data.loc[(\n",
    "    (\n",
    "        (Data['result_title'].str.contains(phrasedefault3_c8, na=False, case=False))\n",
    "        |(Data['result_title'].str.contains(phrasespecific3_c8_case, na=False, case=True))\n",
    "        |((Data['result_title'].str.contains(phrasedefault3_c9, na=False, case=False)) & (Data['result_title'].str.contains(phrasedefault3_c10, na=False, case=False)))\n",
    "    )\n",
    "    & (Data['result_title'].str.contains(phrasedefault3_c11, na=False, case=False)) \n",
    "    & (Data['LMICs']==True)\n",
    "),\"tempsdg03_c\"] = \"SDG03_c\"\n",
    "\n",
    "print(\"Number of results = \", len(Data[(Data.tempsdg03_c == \"SDG03_c\")]))  "
   ]
  },
  {
   "cell_type": "code",
   "execution_count": null,
   "id": "9c60b35e-0ad2-47b0-a452-f2b19ed4a789",
   "metadata": {},
   "outputs": [],
   "source": [
    "test=Data.loc[(Data.tempsdg03_c == \"SDG03_c\"), (\"result_id\", \"result_title\")]\n",
    "test.iloc[0:5, ]"
   ]
  },
  {
   "cell_type": "markdown",
   "id": "8d988f5a-0250-41cc-b170-447bbbddfc09",
   "metadata": {
    "id": "wIJybz2D6qnR"
   },
   "source": [
    "### SDG 3.d\n",
    "*Strengthen the capacity of all countries, in particular developing countries, for early warning, risk reduction and management of national and global health risks*\n",
    "\n",
    "*Styrke kapasiteten i alle land, særlig i utviklingsland, for tidligvarsling, risikoredusering og håndtering av nasjonale og globale helserisikoer*"
   ]
  },
  {
   "cell_type": "code",
   "execution_count": null,
   "id": "dc9f40d1-0fb5-41ef-87ed-d6271eaefdbc",
   "metadata": {
    "id": "N97TQX_A6uFt"
   },
   "outputs": [],
   "source": [
    "#Termlists\n",
    "termlist3_d1 = [\"national health risk\", \"global health risk\", \"public health risk\", \n",
    "                \"pandemic preparedness\", \"pandemic polic\", \"epidemic\", \"outbreak\", \"medical disaster\", \"health emergenc\", \n",
    "                \"radiation emergenc\", \"radiation event\", \"chemical event\", \"chemical emergenc\", \"zoonotic event\", \"zoonotic emergenc\", \n",
    "                \"food safety\", \"foodborne event\", \"biosecurity event\", \"biosecurity emergenc\",\n",
    "                \"antimicrobial resistan\", \"antibiotic resistan\", \"resistance to antibiotics\", \"antifungal resistan\",\n",
    "                \n",
    "                \"helserisiko\", \"epidemisk\", \"epidemier\", \"epidemien\", \"utbrudd\", \"utbrot\", \n",
    "                \"medisinsk katastrofe\", \n",
    "                \"strålingsulykke\", \"kjemikalieulykke\", \n",
    "                \"zoonotisk\", \"matsikkerhe\", \"matbåren\", \"biosikkerhe\", \n",
    "                \"antimikrobiell resistens\", \"antibiotikaresistens\", \"antimykotisk\"]\n",
    "\n",
    "termlist3_d1trunk = [\"epidemi\"]\n",
    "\n",
    "termlist3_d2 = [\"capacity\", \"early warning\", \"early detection\", \"surveillance\", \"monitoring system\", \"laboratory reporting\", \"laboratory infrastructure\", \"laboratory quality\", \"laboratory system\",\n",
    "                \"preparing\", \"prepare\", \"disaster planning\", \"national health emergency framework\", \"emergency risk assessment\", \"risk reduction\", \"risk management\", \"risk communication\",\n",
    "                \"emergency management\", \"emergency response\", \"personnel deployment\", \"security authorities\", \n",
    "                \"vaccination program\", \"vaccination framework\", \"immunisation program\", \"immunization program\", \n",
    "                \"legislation\", \"polic\", \"financing\", \"international health regulation\", \"national focal point\", \"national action plan\",\n",
    "\n",
    "                \"kapasitet\", \"tidligvarsling\", \"tidlig varsling\", \"tidlegvarsling\", \"tidleg varsling\", \"tidlig oppdag\", \"tidleg oppdag\", \"overvåk\", \"overvaking\", \"laboratorie\",\n",
    "                \"forberedt\", \"førebudd\", \"katastrofeplan\", \"kriseplan\", \"nasjonal helseberedskapsplan\", \"risikovurdering\", \"risikoreduksjon\", \"risikohåndtering\", \"risikokommunikasjon\",\n",
    "                \"krisehåndtering\", \"kriserespons\", \"sikkerhetsmyndighet\", \"tryggingsorgan\", \n",
    "                \"vaksinasjonsprogram\", \"vaksinasjonsrammeverk\", \"immuniseringsprogram\",\n",
    "                \"lovgivning\", \"lovgiving\", \"politikk\", \"retningslin\", \"finansiering\", \"internasjonalt helsereglement\", \"internasjonale helsereglement\", \"nasjonal handlingsplan\"]\n",
    "\n",
    "#termlist3_d3 = [\"blight\", \"plant pathogen\", \"plant disease\" ]       \n",
    "# for a title search, it was not necessary to exlude the terms in termslist 3_d3 with a NOT search         \n",
    "\n",
    "termlist3_d4 = [\"pandemi\"]\n",
    "\n",
    "termlist3_d5 = [\"influenza\", \"health\", \"hospital\", \"clinic\", \"ward\", \"care\", \"nurs\", \"pharmac\", \"medic\", \"vaccin\",\n",
    "                \"influensa\", \"helse\", \"sykehus\", \"sjukehus\", \"avdeling\", \"klinikk\", \"omsorg\", \"farmas\", \"medisin\", \"vaksin\"]\n",
    "\n",
    "phrasedefault3_d1 = r'(?:{})'.format('|'.join(termlist3_d1))\n",
    "phrasespecific3_d1trunk = r'\\b(?:{})\\b'.format('|'.join(termlist3_d1trunk))\n",
    "phrasedefault3_d2 = r'(?:{})'.format('|'.join(termlist3_d2))\n",
    "#phrasedefault3_d3 = r'(?:{})'.format('|'.join(termlist3_d3))\n",
    "phrasedefault3_d4 = r'(?:{})'.format('|'.join(termlist3_d4))\n",
    "phrasedefault3_d5 = r'(?:{})'.format('|'.join(termlist3_d5))"
   ]
  },
  {
   "cell_type": "code",
   "execution_count": null,
   "id": "b66b1493-140d-4287-b7b2-b80c72a7be71",
   "metadata": {
    "colab": {
     "base_uri": "https://localhost:8080/"
    },
    "id": "ObKf2GOQB66_",
    "outputId": "37a5bfd8-9489-4d14-ff33-2eab3f761a26"
   },
   "outputs": [],
   "source": [
    "#search\n",
    "Data.loc[(\n",
    "    (\n",
    "        (Data['result_title'].str.contains(phrasedefault3_d1, na=False, case=False))\n",
    "        |(Data['result_title'].str.contains(phrasespecific3_d1trunk, na=False, case=False))\n",
    "        |((Data['result_title'].str.contains(phrasedefault3_d4, na=False, case=False)) & (Data['result_title'].str.contains(phrasedefault3_d5, na=False, case=False)))\n",
    "    )\n",
    "    & (Data['result_title'].str.contains(phrasedefault3_d2, na=False, case=False))\n",
    "),\"tempsdg03_d\"] = \"SDG03_d\"\n",
    "\n",
    "print(\"Number of results = \", len(Data[(Data.tempsdg03_d == \"SDG03_d\")])) "
   ]
  },
  {
   "cell_type": "code",
   "execution_count": null,
   "id": "f0fac3b6-44f9-45cf-9146-0d42378557c5",
   "metadata": {
    "colab": {
     "base_uri": "https://localhost:8080/",
     "height": 1000
    },
    "id": "Hfjy-QzRCDBR",
    "outputId": "118e7117-4941-4d69-a02e-52c6a5c4ed67"
   },
   "outputs": [],
   "source": [
    "test=Data.loc[(Data.tempsdg03_d == \"SDG03_d\"), (\"result_id\", \"result_title\")]\n",
    "test.iloc[0:5, ]"
   ]
  },
  {
   "cell_type": "markdown",
   "id": "7191fc4a-4428-4113-83d3-5ba1f92e6b35",
   "metadata": {
    "id": "zKLQY7KEDvkl"
   },
   "source": [
    "### SDG 3 mentions"
   ]
  },
  {
   "cell_type": "code",
   "execution_count": null,
   "id": "b6363c79-6d81-43d0-8793-fcba49f3b91a",
   "metadata": {
    "id": "3vWSaOoQFYpL"
   },
   "outputs": [],
   "source": [
    "#Termlists\n",
    "termlist3_1 = [\"SDG 3\", \"SDGs 3\", \"SDG3\", \"sustainable development goal 3\", \n",
    "               \"bærekraftsmål 3\", \"berekraftsmål 3\"]\n",
    "termlist3_2 = [\"sustainable development goal\", \n",
    "               \"bærekraftsmål\", \"berekraftsmål\"]\n",
    "termlist3_3 = [\"goal 3\", \n",
    "               \"mål 3\"]\n",
    "termlist3_4 = [\"sustainable development goal\", \"SDG\", \"goal 3\", \n",
    "               \"bærekraftsmål\", \"berekraftsmål\", \"mål 3\"]\n",
    "termlist3_5 = [\"health\",\n",
    "               \"helse\"]\n",
    "termlist3_6 = [\"good health and well-being\", \n",
    "               \"god helse og livskvalitet\"]\n",
    "\n",
    "phrasedefault3_1 = r'(?:{})'.format('|'.join(termlist3_1))\n",
    "phrasedefault3_2 = r'(?:{})'.format('|'.join(termlist3_2))\n",
    "phrasedefault3_3 = r'(?:{})'.format('|'.join(termlist3_3))\n",
    "phrasedefault3_4 = r'(?:{})'.format('|'.join(termlist3_4))\n",
    "phrasedefault3_5 = r'(?:{})'.format('|'.join(termlist3_5))\n",
    "phrasedefault3_6 = r'(?:{})'.format('|'.join(termlist3_6))\n"
   ]
  },
  {
   "cell_type": "code",
   "execution_count": null,
   "id": "e8cd0cdf-12d1-46d0-b3c2-e4f3ea009cd7",
   "metadata": {
    "colab": {
     "base_uri": "https://localhost:8080/"
    },
    "id": "DRoKFA_ZFhPF",
    "outputId": "6cf7d275-5b3d-4b4a-c454-95d70bcd6dab"
   },
   "outputs": [],
   "source": [
    "#search\n",
    "Data.loc[(\n",
    "    (Data['result_title'].str.contains(phrasedefault3_1, na=False, case=False))\n",
    "    |((Data['result_title'].str.contains(phrasedefault3_2, na=False, case=False)) & (Data['result_title'].str.contains(phrasedefault3_3, na=False, case=False)))\n",
    "    |((Data['result_title'].str.contains(phrasedefault3_4, na=False, case=False)) & (Data['result_title'].str.contains(phrasedefault3_5, na=False, case=False)))\n",
    "    |(Data['result_title'].str.contains(phrasedefault3_6, na=False, case=False))\n",
    "),\"tempmentionsdg03\"] = \"SDG03\"\n",
    "\n",
    "print(\"Number of results = \", len(Data[(Data.tempmentionsdg03 == \"SDG03\")])) "
   ]
  },
  {
   "cell_type": "code",
   "execution_count": null,
   "id": "c24dfbf3-db6f-4719-b9b9-3cb49cbb34c8",
   "metadata": {
    "colab": {
     "base_uri": "https://localhost:8080/",
     "height": 1000
    },
    "id": "i-8jHXrkFjk7",
    "outputId": "cabae5e4-aa7b-41e6-ec93-5df17453d818",
    "tags": []
   },
   "outputs": [],
   "source": [
    "test=Data.loc[(Data.tempmentionsdg03 == \"SDG03\"), (\"result_id\", \"result_title\")]\n",
    "test.iloc[0:5, ]"
   ]
  },
  {
   "cell_type": "markdown",
   "id": "2d97620a-27f5-4042-a87f-976ddde116b5",
   "metadata": {},
   "source": [
    "## SDG 4"
   ]
  },
  {
   "cell_type": "markdown",
   "id": "0917b550-fda7-4e16-a4ac-4b12119f97f7",
   "metadata": {
    "id": "80Z44bYOnHQU"
   },
   "source": [
    "### SDG 4.1\n",
    "By 2030, ensure that all girls and boys complete free, equitable and quality primary and secondary education leading to relevant and effective learning outcomes\n",
    "\n",
    "*Innen 2030 sikre at alle jenter og gutter fullfører gratis og likeverdig grunnskole og videregående opplæring av høy kvalitet som kan gi dem et relevant og reelt læringsutbytte*"
   ]
  },
  {
   "cell_type": "markdown",
   "id": "710d7b5e-f65c-4d93-aced-e87d688d8745",
   "metadata": {
    "id": "yRM-FrgWYm7e"
   },
   "source": [
    "#### Phrase 1"
   ]
  },
  {
   "cell_type": "code",
   "execution_count": null,
   "id": "f6641d61-6a83-41c5-bc6e-efba0c96fa61",
   "metadata": {
    "id": "NuoOmVcpYsxK"
   },
   "outputs": [],
   "source": [
    "#Termlists\n",
    "termlist4_1_1a = [\"complet\", \"school completion\", \"finish\", \"graduat\",\n",
    "                  \"fullfør\", \"gjennomføring\"]\n",
    "                  \n",
    "termlist4_1_1b = [\"primary school\", \"elementary school\", \"primary educat\", \"middle school\", \"secondary school\", \"secondary education\",\n",
    "                  \n",
    "                  \"barnesk\", \"grunnskulen\", \"grunnskolen\", \"grunnutdann\", \"grunnopplæring\", \"ungdomssk\", \"vidaregåande skule\", \"videregående skole\", \"vidaregåande opplæring\", \"videregående opplæring\",\n",
    "                  \"yrkesskule\", \"yrkesopplæring\"]\n",
    "                  \n",
    "termlist4_1_1c = [\"school\", \"education\",\n",
    "                  \"skole\", \"skule\", \"utdann\"]\n",
    "\n",
    "termlist4_1_1d = [\"boys\", \"girls\", \"kids\", \"child\", \"children\",\n",
    "                  \"gut\", \"gutar\", \"gutter\", \"jente\", \"jenter\", \"barn\", \"born\", \"unge\", \"ungdom\", \"ungdommer\", \"ungdomar\"]                  \n",
    "\n",
    "termlist4_1_1e = [\"skole\", \"skule\"]     \n",
    "\n",
    "phrasedefault4_1_1a = r'(?:{})'.format('|'.join(termlist4_1_1a))\n",
    "phrasedefault4_1_1b = r'(?:{})'.format('|'.join(termlist4_1_1b))\n",
    "phrasedefault4_1_1c = r'(?:{})'.format('|'.join(termlist4_1_1c))\n",
    "phrasespecific4_1_1d = r'(?:{})\\b'.format('|'.join(termlist4_1_1d))\n",
    "phrasespecific4_1_1e = r'\\b(?:{})'.format('|'.join(termlist4_1_1e))"
   ]
  },
  {
   "cell_type": "code",
   "execution_count": null,
   "id": "51524f00-54b5-438a-816d-bbaf5c19dcf3",
   "metadata": {
    "colab": {
     "base_uri": "https://localhost:8080/"
    },
    "id": "DwfZ55eidk5M",
    "outputId": "46c4c00e-f40e-4b63-eaac-1bb00cd13b4d"
   },
   "outputs": [],
   "source": [
    "#Search \n",
    "Data.loc[(\n",
    "    (Data['result_title'].str.contains(phrasedefault4_1_1a, na=False, case=False))\n",
    "    & \n",
    "    (\n",
    "        (Data['result_title'].str.contains(phrasedefault4_1_1b, na=False, case=False)) \n",
    "        | (Data['result_title'].str.contains(phrasespecific4_1_1e, na=False, case=False))\n",
    "        | ((Data['result_title'].str.contains(phrasedefault4_1_1c, na=False, case=False)) & (Data['result_title'].str.contains(phrasespecific4_1_1d, na=False, case=False)))\n",
    "    )\n",
    "),\"tempsdg04_01\"] = \"SDG04_01\"\n",
    "\n",
    "print(\"Number of results = \", len(Data[(Data.tempsdg04_01 == \"SDG04_01\")])) "
   ]
  },
  {
   "cell_type": "code",
   "execution_count": null,
   "id": "5084af40-d5f8-46d4-a50b-22fbefd587ad",
   "metadata": {
    "colab": {
     "base_uri": "https://localhost:8080/"
    },
    "id": "zN6B0kPunEsz",
    "outputId": "0a697275-89e6-4b55-ffe0-748bc7fc8c80"
   },
   "outputs": [],
   "source": [
    "test=Data.loc[(Data.tempsdg04_01 == \"SDG04_01\"), (\"result_id\", \"result_title\")]\n",
    "test.iloc[0:5, ]"
   ]
  },
  {
   "cell_type": "markdown",
   "id": "0904947e-4ab5-41f7-b565-e084538537cb",
   "metadata": {
    "id": "S34nerrJijWG"
   },
   "source": [
    "#### Phrase 2"
   ]
  },
  {
   "cell_type": "code",
   "execution_count": null,
   "id": "aa1fcc4b-eee9-47ed-9f74-84f997e9c48b",
   "metadata": {
    "id": "-WnlFDkviwtI"
   },
   "outputs": [],
   "source": [
    "#Termlists\n",
    "termlist4_1_2a = [\"dropout\", \"drop-out\", \"drop out\", \"dropping out\", \"early school-leaving\", \n",
    "                  \"droppe ut\", \"dropper ut\", \"frafall\", \"fråfall\", \"falle ut\"]\n",
    "                 \n",
    "termlist4_1_2b = [\"primary school\", \"elementary school\", \"primary educat\", \"middle school\", \"secondary school\", \"secondary education\",\n",
    "                  \n",
    "                  \"barnesk\", \"grunnskulen\", \"grunnskolen\", \"grunnutdann\", \"grunnopplæring\", \"ungdomssk\", \"vidaregåande skule\", \"videregående skole\", \"vidaregåande opplæring\", \"videregående opplæring\",\n",
    "                  \"yrkesskule\", \"yrkesopplæring\"]\n",
    "                \n",
    "termlist4_1_2c = [\"school\", \"education\",\n",
    "                  \"skole\", \"utdann\"]\n",
    "\n",
    "termlist4_1_2d = [\"boys\", \"girls\", \"kids\", \"child\", \"children\",\n",
    "                  \"gut\", \"gutar\", \"gutter\", \"jente\", \"jenter\", \"barn\", \"born\", \"unge\", \"ungdom\", \"ungdommer\", \"ungdomar\"]\n",
    "\n",
    "termlist4_1_2e = [\"quit\"]\n",
    "                 \n",
    "termlist4_1_2f = [\"skole\", \"skule\"]\n",
    "                 \n",
    "\n",
    "phrasedefault4_1_2a = r'(?:{})'.format('|'.join(termlist4_1_2a))\n",
    "phrasedefault4_1_2b = r'(?:{})'.format('|'.join(termlist4_1_2b))\n",
    "phrasedefault4_1_2c = r'(?:{})'.format('|'.join(termlist4_1_2c))\n",
    "phrasespecific4_1_2d = r'(?:{})\\b'.format('|'.join(termlist4_1_2d))\n",
    "phrasespecific4_1_2e = r'\\b(?:{})'.format('|'.join(termlist4_1_2e))\n",
    "phrasespecific4_1_2f = r'\\b(?:{})'.format('|'.join(termlist4_1_2f))"
   ]
  },
  {
   "cell_type": "code",
   "execution_count": null,
   "id": "b4271d93-eda4-49d4-8a22-67d853d26892",
   "metadata": {
    "colab": {
     "base_uri": "https://localhost:8080/"
    },
    "id": "UPSGOcZ3kCHQ",
    "outputId": "7e339faf-e8b5-49bb-feb5-5900f81ac6aa"
   },
   "outputs": [],
   "source": [
    "#Search \n",
    "Data.loc[(\n",
    "    (\n",
    "        (Data['result_title'].str.contains(phrasedefault4_1_2a, na=False, case=False)) \n",
    "        |(Data['result_title'].str.contains(phrasespecific4_1_2e, na=False, case=False))\n",
    "    )\n",
    "    & \n",
    "    (\n",
    "        (Data['result_title'].str.contains(phrasedefault4_1_2b, na=False, case=False)) \n",
    "        |(Data['result_title'].str.contains(phrasespecific4_1_2f, na=False, case=False))\n",
    "        |((Data['result_title'].str.contains(phrasedefault4_1_2c, na=False, case=False)) & (Data['result_title'].str.contains(phrasespecific4_1_2d, na=False, case=False)))\n",
    "    )\n",
    "),\"tempsdg04_01\"] = \"SDG04_01\"\n",
    "\n",
    "print(\"Number of results = \", len(Data[(Data.tempsdg04_01 == \"SDG04_01\")])) "
   ]
  },
  {
   "cell_type": "code",
   "execution_count": null,
   "id": "f1583f6a-aab8-4966-b495-9d71fe5e6418",
   "metadata": {
    "colab": {
     "base_uri": "https://localhost:8080/"
    },
    "id": "wvOF2E-Fmw1L",
    "outputId": "8f042d13-0f34-40be-bbde-3029b43d631f"
   },
   "outputs": [],
   "source": [
    "test=Data.loc[(Data.tempsdg04_01 == \"SDG04_01\"), (\"result_id\", \"result_title\")]\n",
    "test.iloc[0:5, ]"
   ]
  },
  {
   "cell_type": "markdown",
   "id": "cc046610-48a3-410b-b6bd-9dda89aa6d3b",
   "metadata": {
    "id": "JO9sO4wxo9VP"
   },
   "source": [
    "#### Phrase 3\n",
    "The structure from Topic search in WoS (access+school+free) is simplified here because of title search. 'Free' is not included in the search, in order not to lose relevant hits.\n"
   ]
  },
  {
   "cell_type": "code",
   "execution_count": null,
   "id": "0c1e1f71-ce12-4816-b660-f967be6da975",
   "metadata": {
    "id": "RG5kMBj0pHDX"
   },
   "outputs": [],
   "source": [
    "#Termlists\n",
    "termlist4_1_3a = [\"access\", \"entry\", \"enroll\", \"admission\", \"admit\",\n",
    "                  \"tilgang\", \"adgang\", \"tillating\", \"tillatelse\", \"løyve\", \"høve\"]\n",
    "            \n",
    "termlist4_1_3b = [\"primary school\", \"elementary school\", \"primary educat\", \"middle school\", \"secondary school\", \"secondary education\",\n",
    "                  \n",
    "                  \"barnesk\", \"grunnskule\", \"grunnskole\", \"grunnutdann\", \"grunnopplæring\", \"ungdomssk\", \n",
    "                  \"vidaregåande skule\", \"videregående skole\", \"vidaregåande opplæring\", \"videregående opplæring\",\n",
    "                  \"yrkesskule\", \"yrkesopplæring\"]                 \n",
    "\n",
    "termlist4_1_3c = [\"enter\"]\n",
    "#Turns off truncation to avoid \"STUDENTER\"(NO)\n",
    "\n",
    "phrasedefault4_1_3a = r'(?:{})'.format('|'.join(termlist4_1_3a))\n",
    "phrasedefault4_1_3b = r'(?:{})'.format('|'.join(termlist4_1_3b))\n",
    "phrasespecific4_1_3c = r'\\b(?:{})\\b'.format('|'.join(termlist4_1_3c))"
   ]
  },
  {
   "cell_type": "code",
   "execution_count": null,
   "id": "715d635e-1893-4b82-881c-305a530e8f2b",
   "metadata": {
    "colab": {
     "base_uri": "https://localhost:8080/"
    },
    "id": "882jDZu-yvqd",
    "outputId": "335cf510-c486-4330-8029-3592afd4aa69"
   },
   "outputs": [],
   "source": [
    "#Search \n",
    "Data.loc[(\n",
    "    (\n",
    "        (Data['result_title'].str.contains(phrasedefault4_1_3a, na=False, case=False)) \n",
    "        |(Data['result_title'].str.contains(phrasespecific4_1_3c, na=False, case=False))\n",
    "    )\n",
    "    & (Data['result_title'].str.contains(phrasedefault4_1_3b, na=False, case=False))    \n",
    "),\"tempsdg04_01\"] = \"SDG04_01\"\n",
    "\n",
    "print(\"Number of results = \", len(Data[(Data.tempsdg04_01 == \"SDG04_01\")])) "
   ]
  },
  {
   "cell_type": "code",
   "execution_count": null,
   "id": "208c73f1-ce2f-492e-858d-a22753b444a0",
   "metadata": {
    "colab": {
     "base_uri": "https://localhost:8080/"
    },
    "id": "Ba2ml4hTFuIo",
    "outputId": "b43161b2-478b-4a0c-9530-f8883df2f2ef"
   },
   "outputs": [],
   "source": [
    "test=Data.loc[(Data.tempsdg04_01 == \"SDG04_01\"), (\"result_id\", \"result_title\")]\n",
    "test.iloc[0:5, ]"
   ]
  },
  {
   "cell_type": "markdown",
   "id": "e68e41ba-44ed-4d00-92f2-d9764eac303c",
   "metadata": {
    "id": "wW-06My4M1N2"
   },
   "source": [
    "#### Phrase 4"
   ]
  },
  {
   "cell_type": "code",
   "execution_count": null,
   "id": "e5996eca-6976-4fba-a334-a11211c1ec6e",
   "metadata": {
    "id": "aHgy6guwNLHe"
   },
   "outputs": [],
   "source": [
    "#Termlists\n",
    "termlist4_1_4a = [\"basic\", \"fundamental\", \"minim\", \"core\", \"elementary\",\n",
    "                  \"basis\", \"kjerne\", \"elementær\", \"grunnlegg\"]\n",
    "                \n",
    "termlist4_1_4b = [\"proficienc\", \"skill\", \"comprehen\", \"literac\", \"mathematic\", \"math\", \"maths\", \"numera\",\n",
    "                  \"ferdigh\", \"dyktigh\", \"kyndigh\", \"dugleik\", \"forstå\"] \n",
    "                \n",
    "termlist4_1_4c = [\"basisferdighe\", \"basiskompetanse\", \"kjerneferdighe\", \"kjernekompetanse\"]\n",
    "                         \n",
    "termlist4_1_4d = [\"reading\", \"mathematic\", \"math\", \"maths\", \"numera\",\n",
    "                  \"regneferdigh\", \"rekneferdigh\", \"talforstå\", \"tallforstå\", \"talferdigh\", \"tallferdigh\", \"matematikk\", \"rekning\", \"regning\"]\n",
    "\n",
    "termlist4_1_4e = [\"school\", \"student\", \"boys\", \"girls\", \"kids\", \"child\", \n",
    "                  \"skole\", \"skule\", \"gut\", \"jente\", \"born\", \"barn\", \"elever\", \"elevar\" ]\n",
    "                 \n",
    "termlist4_1_4f = [\"read\",\n",
    "                 \"les\"]\n",
    "                                   \n",
    "                 \n",
    "phrasedefault4_1_4a = r'(?:{})'.format('|'.join(termlist4_1_4a))\n",
    "phrasedefault4_1_4b = r'(?:{})'.format('|'.join(termlist4_1_4b))\n",
    "phrasedefault4_1_4c = r'(?:{})'.format('|'.join(termlist4_1_4c))\n",
    "phrasedefault4_1_4d = r'(?:{})'.format('|'.join(termlist4_1_4d))\n",
    "phrasedefault4_1_4e = r'(?:{})'.format('|'.join(termlist4_1_4e))\n",
    "phrasespecific4_1_4f = r'\\b(?:{})'.format('|'.join(termlist4_1_4f))"
   ]
  },
  {
   "cell_type": "code",
   "execution_count": null,
   "id": "2bf9d8a4-79e0-4521-b662-15c511e37811",
   "metadata": {
    "colab": {
     "base_uri": "https://localhost:8080/"
    },
    "id": "dFZa58XfNQ2t",
    "outputId": "a2411a97-763d-4bd7-a328-cd1ffbea727e"
   },
   "outputs": [],
   "source": [
    "#Search \n",
    "Data.loc[(\n",
    "    (\n",
    "        (\n",
    "            (Data['result_title'].str.contains(phrasedefault4_1_4a, na=False, case=False)) \n",
    "            & \n",
    "            (\n",
    "                (Data['result_title'].str.contains(phrasedefault4_1_4b, na=False, case=False)) \n",
    "                |(Data['result_title'].str.contains(phrasespecific4_1_4f, na=False, case=False))\n",
    "            )\n",
    "        )\n",
    "        |(Data['result_title'].str.contains(phrasedefault4_1_4c, na=False, case=False))\n",
    "    )\n",
    "    & \n",
    "    (\n",
    "        (Data['result_title'].str.contains(phrasedefault4_1_4d, na=False, case=False)) \n",
    "        | (Data['result_title'].str.contains(phrasespecific4_1_4f, na=False, case=False))\n",
    "    )\n",
    "    & (Data['result_title'].str.contains(phrasedefault4_1_4e, na=False, case=False))\n",
    "),\"tempsdg04_01\"] = \"SDG04_01\"\n",
    "\n",
    "print(\"Number of results = \", len(Data[(Data.tempsdg04_01 == \"SDG04_01\")]))"
   ]
  },
  {
   "cell_type": "code",
   "execution_count": null,
   "id": "93968191-5506-43bb-a038-a95487c35b60",
   "metadata": {
    "colab": {
     "base_uri": "https://localhost:8080/"
    },
    "id": "SwOAGm5aNWSb",
    "outputId": "68c978aa-1271-4b6a-df73-7b8d91c4ee10"
   },
   "outputs": [],
   "source": [
    "test=Data.loc[(Data.tempsdg04_01 == \"SDG04_01\"), (\"result_id\", \"result_title\")]\n",
    "test.iloc[0:5, ]"
   ]
  },
  {
   "cell_type": "markdown",
   "id": "a1eb8e63-ba25-4db3-9b5d-896eb4ae719e",
   "metadata": {
    "id": "ZlkgtShKGwsQ"
   },
   "source": [
    "### SDG 4.2\n",
    "By 2030, ensure that all girls and boys have access to quality early childhood development, care and pre-primary education so that they are ready for primary education\n",
    "\n",
    "*Innen 2030 sikre alle jenter og gutter mulighet for god tidlig utvikling og omsorg og tilgang til førskole, slik at de er forberedt på å begynne i grunnskolen*"
   ]
  },
  {
   "cell_type": "markdown",
   "id": "31b96421-4cb9-4d7e-80a8-64abaef6722d",
   "metadata": {
    "id": "mbpyqtWpbP1Z"
   },
   "source": [
    "#### Phrase 1"
   ]
  },
  {
   "cell_type": "code",
   "execution_count": null,
   "id": "eab88ffb-e538-42a9-af8d-18c8a0747ba5",
   "metadata": {
    "id": "rL50Z7mxYyZM"
   },
   "outputs": [],
   "source": [
    "#Termlists\n",
    "termlist4_2_1a = [\"access\", \"obstacle\", \"barrier\", \"hinder\", \"hindrance\", \"equit\", \n",
    "                \"tilgang\", \"adgang\", \"tilgjenge\", \"barrier\", \"hindring\", \"hinder\", \"hindre\"]\n",
    "\n",
    "termlist4_2_1b = [\"early childhood care\", \"kindergarten\", \"pre-kindergarten\", \"nurser\", \"pre-primary education\", \"pre school education\", \"preschool education\", \"pre-school education\", \"ECEC\",\n",
    "                  \"førsk\", \"barnehage\", \"tidlig utvikling\", \"tidleg utvikling\"]\n",
    "\n",
    "termlist4_2_1c = [\"early childhood\", \"under five\", \"under-five\"]\n",
    "\n",
    "termlist4_2_1d = [\"education\"]\n",
    "\n",
    "termlist4_2_1e = [\"barnehagedekning\", \"barnehageplass\", \"tilbud om barnehage\", \"tilbod om barnehage\", \"barnehageopptak\", \"opptak i barnehage\", \"opptak til barnehage\"]\n",
    "\n",
    "\n",
    "phrasedefault4_2_1a = r'(?:{})'.format('|'.join(termlist4_2_1a))\n",
    "phrasedefault4_2_1b = r'(?:{})'.format('|'.join(termlist4_2_1b))\n",
    "phrasedefault4_2_1c = r'(?:{})'.format('|'.join(termlist4_2_1c))\n",
    "phrasedefault4_2_1d = r'(?:{})'.format('|'.join(termlist4_2_1d))\n",
    "phrasedefault4_2_1e = r'(?:{})'.format('|'.join(termlist4_2_1e))"
   ]
  },
  {
   "cell_type": "code",
   "execution_count": null,
   "id": "3e37489a-70f4-4915-943c-a9b005c36c79",
   "metadata": {
    "colab": {
     "base_uri": "https://localhost:8080/"
    },
    "id": "tuh1ZfVockbY",
    "outputId": "e214f11b-6e07-4bec-da96-bf530a1fbb7f"
   },
   "outputs": [],
   "source": [
    "#Search \n",
    "Data.loc[(\n",
    "    (          \n",
    "        (Data['result_title'].str.contains(phrasedefault4_2_1a, na=False, case=False))\n",
    "        & \n",
    "        (\n",
    "            (Data['result_title'].str.contains(phrasedefault4_2_1b, na=False, case=False))\n",
    "            |((Data['result_title'].str.contains(phrasedefault4_2_1c, na=False, case=False)) & (Data['result_title'].str.contains(phrasedefault4_2_1d, na=False, case=False)))\n",
    "        )\n",
    "    )\n",
    "    | (Data['result_title'].str.contains(phrasedefault4_2_1e, na=False, case=False))  \n",
    "    ),\"tempsdg04_02\"] = \"SDG04_02\"\n",
    "\n",
    "print(\"Number of results = \", len(Data[(Data.tempsdg04_02 == \"SDG04_02\")]))  "
   ]
  },
  {
   "cell_type": "code",
   "execution_count": null,
   "id": "01358c5c-fe68-4911-80ff-9df91e1c19cc",
   "metadata": {
    "colab": {
     "base_uri": "https://localhost:8080/",
     "height": 556
    },
    "id": "ldQld8aUaG3e",
    "outputId": "2a884ec9-38cd-45a3-efad-5a913c515f09"
   },
   "outputs": [],
   "source": [
    "test=Data.loc[(Data.tempsdg04_02 == \"SDG04_02\"), (\"result_id\", \"result_title\")]\n",
    "test.iloc[0:5, ]"
   ]
  },
  {
   "cell_type": "markdown",
   "id": "e4a1a848-1c73-444a-82d5-39a123c65dce",
   "metadata": {
    "id": "yNvJCWcJbVEU"
   },
   "source": [
    "#### Phrase 2"
   ]
  },
  {
   "cell_type": "code",
   "execution_count": null,
   "id": "10284e23-b410-4945-a347-e37e80b6cefc",
   "metadata": {
    "id": "vArrs0wnd6nQ"
   },
   "outputs": [],
   "source": [
    "#Termlists\n",
    "termlist4_2_2a = [\"school ready\", \"school-ready\", \"school readiness\", \"school-readiness\",\n",
    "                \"skolemoden\", \"skulemoden\", \"skulemogen\"]\n",
    "\n",
    "termlist4_2_2b = [\"ready\", \"readiness\", \"prepared\", \"transition\",\n",
    "                 \"moden\", \"mogen\", \"forberedt\", \"førebudd\", \"overgang\"]\n",
    "\n",
    "termlist4_2_2c = [\"primary education\", \"primary school\", \"elementary school\", \"first grade\", \"1st grade\",\n",
    "                \"første klass\", \"fyrste klass\", \"6-åring\", \"seksåring\", \"fyrsteklass\", \"førsteklass\", \"skole\", \"skule\", \"barnehage\"]\n",
    "\n",
    "termlist4_2_2d = [\"development\",\n",
    "                \"utvikling\"]\n",
    "\n",
    "termlist4_2_2e = [\"child\", \"under-five\", \"early childhood\",\n",
    "                \"barn\", \"tidlig barndom\", \"tidleg barndom\"]\n",
    "\n",
    "termlist4_2_2f= [\"school entry\", \"start school\", \"start school\",\n",
    "                \"skolestart\", \"skulestart\"]\n",
    "\n",
    "termlist4_2_2g = [\"klar\", \"klare\", \"klår\", \"klåre\"]\n",
    "\n",
    "termlist4_2_2h = [\"ungdomssk\", \"videregående\", \"vidaregåande\", \"høgskule\", \"høgskole\", \"universitet\", \"voksen\", \"vaksen\", \"arbeid\", \"jobb\", \"yrke\"]\n",
    "                \n",
    "phrasedefault4_2_2a = r'(?:{})'.format('|'.join(termlist4_2_2a))\n",
    "phrasedefault4_2_2b = r'(?:{})'.format('|'.join(termlist4_2_2b))\n",
    "phrasedefault4_2_2c = r'(?:{})'.format('|'.join(termlist4_2_2c))\n",
    "phrasedefault4_2_2d = r'(?:{})'.format('|'.join(termlist4_2_2f))\n",
    "phrasedefault4_2_2e = r'(?:{})'.format('|'.join(termlist4_2_2e))\n",
    "phrasedefault4_2_2f = r'(?:{})'.format('|'.join(termlist4_2_2f))\n",
    "phrasespecific4_2_2g = r'\\b(?:{})\\b'.format('|'.join(termlist4_2_2g))\n",
    "phrasedefault4_2_2h = r'(?:{})'.format('|'.join(termlist4_2_2h))"
   ]
  },
  {
   "cell_type": "code",
   "execution_count": null,
   "id": "402c6bf2-6e21-40e6-bfa0-85ebaeeddb87",
   "metadata": {
    "colab": {
     "base_uri": "https://localhost:8080/"
    },
    "id": "5VUbxbpHIcJr",
    "outputId": "8af136f8-6971-484f-a666-1f0c0a36e41b"
   },
   "outputs": [],
   "source": [
    "#Search\n",
    "Data.loc[(\n",
    "    (\n",
    "        (Data['result_title'].str.contains(phrasedefault4_2_2a, na=False, case=False)) \n",
    "        |\n",
    "        (\n",
    "            ((Data['result_title'].str.contains(phrasedefault4_2_2b, na=False, case=False)) | (Data['result_title'].str.contains(phrasespecific4_2_2g, na=False, case=False))) \n",
    "            & (Data['result_title'].str.contains(phrasedefault4_2_2c, na=False, case=False))\n",
    "        )\n",
    "        | \n",
    "        (\n",
    "            (Data['result_title'].str.contains(phrasedefault4_2_2d, na=False, case=False)) \n",
    "            & (Data['result_title'].str.contains(phrasedefault4_2_2e, na=False, case=False))\n",
    "            & (Data['result_title'].str.contains(phrasedefault4_2_2f, na=False, case=False))\n",
    "        )\n",
    "    )\n",
    "    &(~Data['result_title'].str.contains(phrasedefault4_2_2h, na=False, case=False))\n",
    "),\"tempsdg04_02\"] = \"SDG04_02\"\n",
    "\n",
    "print(\"Number of results = \", len(Data[(Data.tempsdg04_02 == \"SDG04_02\")])) "
   ]
  },
  {
   "cell_type": "code",
   "execution_count": null,
   "id": "49b3ffb2-a3f0-44e4-b019-1d4706c18f9b",
   "metadata": {
    "colab": {
     "base_uri": "https://localhost:8080/"
    },
    "id": "4OHcxtfmvE7T",
    "outputId": "2e96b0b4-d08c-4b60-cd0a-9e740d24ff65"
   },
   "outputs": [],
   "source": [
    "test=Data.loc[(Data.tempsdg04_02 == \"SDG04_02\"), (\"result_id\", \"result_title\")]\n",
    "test.iloc[0:5, ]"
   ]
  },
  {
   "cell_type": "markdown",
   "id": "0209b046-72cc-4d37-9806-7b04cc6bf846",
   "metadata": {
    "id": "ZSutBoD4HmUX"
   },
   "source": [
    "### SDG 4.3\n",
    "By 2030, ensure equal access for all women and men to affordable and quality technical, vocational and tertiary education, including university\n",
    "\n",
    "*Innen 2030 sikre kvinner og menn lik tilgang til god teknisk og yrkesfaglig opplæring og høyere utdanning, inkludert universitetsutdanning, til en overkommelig pris*"
   ]
  },
  {
   "cell_type": "markdown",
   "id": "ef637167-185b-482d-acd1-e255f98b7a23",
   "metadata": {
    "id": "oNQ8Fv_QECKi"
   },
   "source": [
    "#### Phrase 1 & Phrase 2\n",
    "Due to title search, phrase 1 and phrase 2 from WoS are here combined into one phrase. To a great extent, in WoS, the two phrases contain the same terms. We have included *Access* in termlist e) -  which is searched in AND-combination with termlist d) *University* - in order to include some more hits.\n"
   ]
  },
  {
   "cell_type": "code",
   "execution_count": null,
   "id": "c05bf977-e685-47f6-bd93-de19b7dfca30",
   "metadata": {
    "id": "EjMF3wfrQAiM"
   },
   "outputs": [],
   "source": [
    "#Termlists\n",
    "termlist4_3_1a = [\"access\", \"inclusion\", \"inclusiv\", \"equit\", \"equal\", \"afford\", \"barrier\", \"obstacle\", \"discriminat\",\n",
    "                  \n",
    "                \"tilgang\", \"tilgjenge\", \"adgang\", \"inkluder\", \"rettferdig\", \"rettvis\",\n",
    "                \"ikkje råd\", \"ikke råd\", \"barrier\", \"hindring\", \"hinder\", \"diskrimin\", \"utesteng\"]\n",
    "                \n",
    "termlist4_3_1c = [\"higher education\",\n",
    "                  \"høgare utdann\", \"høyere utdann\", \"universitetsutdann\", \"fagskul\", \"fagskol\"]\n",
    "\n",
    "termlist4_3_1d = [\"universit\", \"college\",\n",
    "                  \"høgskule\", \"høgskole\", \"høyskole\"]\n",
    "\n",
    "termlist4_3_1e = [\"admission\", \"enrol\", \"access\", \n",
    "                 \"adgang\", \"tilgang\", \"tilgjenge\", \"immatrikuler\", \"opptak\"]\n",
    "\n",
    "termlist4_3_1f = [\"technic\", \"vocation\", \"tertiar\", \"university\", \"postsecondary\", \"post secondary\",\n",
    "                  \"teknisk\", \"tertiær\", \"fagskole\", \"fagskul\", \"yrkesfaglig\", \"yrkesfagleg\", \"yrkesutdann\", \"yrkesopplæring\", \"universitet\"]\n",
    "\n",
    "termlist4_3_1g = [\"education\", \"training\", \"school\", \"learning\",\n",
    "                  \"utdann\", \"skole\", \"skule\", \"læring\"\n",
    "                  ]\n",
    "\n",
    "termlist4_3_1h = [\"open access\", \"åpen tilgang\", \"open tilgang\", \"equals\", \"accession\", \"library\", \n",
    "                  \"bibliotek\", \"hospital\", \"sykehus\", \"sjukehus\"]\n",
    "                 #Noisy phrases, removed with NOT\n",
    "\n",
    "phrasedefault4_3_1a = r'(?:{})'.format('|'.join(termlist4_3_1a))\n",
    "phrasedefault4_3_1c = r'(?:{})'.format('|'.join(termlist4_3_1c))\n",
    "phrasedefault4_3_1d = r'(?:{})'.format('|'.join(termlist4_3_1d))\n",
    "phrasedefault4_3_1e = r'(?:{})'.format('|'.join(termlist4_3_1e))\n",
    "phrasedefault4_3_1f = r'(?:{})'.format('|'.join(termlist4_3_1f))\n",
    "phrasedefault4_3_1g = r'(?:{})'.format('|'.join(termlist4_3_1g))\n",
    "phrasedefault4_3_1h = r'(?:{})'.format('|'.join(termlist4_3_1h))"
   ]
  },
  {
   "cell_type": "code",
   "execution_count": null,
   "id": "f6fde6c0-6ae7-4bbc-a597-6ece5d632c45",
   "metadata": {
    "colab": {
     "base_uri": "https://localhost:8080/"
    },
    "id": "-SMzjQHeQDp9",
    "outputId": "31ff9846-0e18-41bb-fff2-322b77a27159"
   },
   "outputs": [],
   "source": [
    "#Search \n",
    "Data.loc[(\n",
    "    (Data['result_title'].str.contains(phrasedefault4_3_1a, na=False, case=False)) \n",
    "    &\n",
    "    (\n",
    "        (Data['result_title'].str.contains(phrasedefault4_3_1c, na=False, case=False)) \n",
    "        |((Data['result_title'].str.contains(phrasedefault4_3_1d, na=False, case=False)) & (Data['result_title'].str.contains(phrasedefault4_3_1e, na=False, case=False)))\n",
    "        |((Data['result_title'].str.contains(phrasedefault4_3_1f, na=False, case=False)) & (Data['result_title'].str.contains(phrasedefault4_3_1g, na=False, case=False)))\n",
    "    )\n",
    "    & (~Data['result_title'].str.contains(phrasedefault4_3_1h, na=False, case=False))\n",
    "),\"tempsdg04_03\"] = \"SDG04_03\"\n",
    "\n",
    "print(\"Number of results = \", len(Data[(Data.tempsdg04_03 == \"SDG04_03\")])) "
   ]
  },
  {
   "cell_type": "code",
   "execution_count": null,
   "id": "1d16e76d-7669-4ac0-a14e-2bae1c5ad3a4",
   "metadata": {
    "colab": {
     "base_uri": "https://localhost:8080/"
    },
    "id": "oI_4-s2kArKr",
    "outputId": "6fb07852-f422-4884-de9d-4fec308ceee8"
   },
   "outputs": [],
   "source": [
    "test=Data.loc[(Data.tempsdg04_03 == \"SDG04_03\"), (\"result_id\", \"result_title\")]\n",
    "test.iloc[0:5, ]"
   ]
  },
  {
   "cell_type": "markdown",
   "id": "9635b972-73f1-42de-82ac-0422c69471fc",
   "metadata": {
    "id": "XMPyJ7YQEI4q"
   },
   "source": [
    "#### Phrase 3"
   ]
  },
  {
   "cell_type": "code",
   "execution_count": null,
   "id": "738ab63a-8df6-4f2c-bdbc-a4b339450124",
   "metadata": {
    "id": "uJdssAArHMv8"
   },
   "outputs": [],
   "source": [
    "#Termlists\n",
    "\n",
    "termlist4_3_3a = [\"inclusive\", \"inclusion\", \n",
    "                  \"inkluder\"]\n",
    "\n",
    "termlist4_3_3b = [\"higher education\",\n",
    "                  \"høgare utdann\", \"høyere utdann\", \"universitetsutdann\", \"høgskuleutdann\", \"høgskoleutdann\", \"tertiærutdann\"]\n",
    "\n",
    "phrasedefault4_3_3a = r'(?:{})'.format('|'.join(termlist4_3_3a))\n",
    "phrasedefault4_3_3b = r'(?:{})'.format('|'.join(termlist4_3_3b))"
   ]
  },
  {
   "cell_type": "code",
   "execution_count": null,
   "id": "c66bcd6f-4dac-453e-a2e6-76aad6cd465f",
   "metadata": {
    "colab": {
     "base_uri": "https://localhost:8080/"
    },
    "id": "EHhJQqkfJivl",
    "outputId": "fdc2cc8e-051f-4922-b06f-3826228d811e"
   },
   "outputs": [],
   "source": [
    "#Search \n",
    "Data.loc[(\n",
    "    (Data['result_title'].str.contains(phrasedefault4_3_3a, na=False, case=False)) & (Data['result_title'].str.contains(phrasedefault4_3_3b, na=False, case=False))\n",
    "    ),\"tempsdg04_03\"] = \"SDG04_03\"\n",
    "\n",
    "print(\"Number of results = \", len(Data[(Data.tempsdg04_03 == \"SDG04_03\")])) "
   ]
  },
  {
   "cell_type": "code",
   "execution_count": null,
   "id": "be0c6cf6-484f-448d-9508-41fa53a19dc6",
   "metadata": {
    "colab": {
     "base_uri": "https://localhost:8080/",
     "height": 626
    },
    "id": "r39lbDdsLQTV",
    "outputId": "cee28415-dd3d-4904-df7b-3d215bfa3dc2"
   },
   "outputs": [],
   "source": [
    "test=Data.loc[(Data.tempsdg04_03 == \"SDG04_03\"), (\"result_id\", \"result_title\")]\n",
    "test.iloc[0:5, ]"
   ]
  },
  {
   "cell_type": "markdown",
   "id": "26c33630-ee01-4a75-827a-61caee29982a",
   "metadata": {
    "id": "QoOqswa2H3_a"
   },
   "source": [
    "### SDG 4.4\n",
    "By 2030, substantially increase the number of youth and adults who have relevant skills, including technical and vocational skills, for employment, decent jobs and entrepreneurship\n",
    "\n",
    "*Innen 2030 oppnå en betydelig økning i antall unge og voksne som har kompetanse, blant annet i tekniske fag og yrkesfag, som er relevant for sysselsetting, anstendig arbeid og entreprenørskap*"
   ]
  },
  {
   "cell_type": "markdown",
   "id": "89bd8754-ca6b-4b2b-b8b3-a88df46a742c",
   "metadata": {
    "id": "uUfV9O-0EPGj"
   },
   "source": [
    "#### Phrase 1"
   ]
  },
  {
   "cell_type": "code",
   "execution_count": null,
   "id": "12880968-9efb-4bee-942f-0d56e33760b7",
   "metadata": {
    "id": "vkCflQLRX1Gg"
   },
   "outputs": [],
   "source": [
    "#Termlists\n",
    "termlist4_4_1a = [\"skill\", \"abilit\", \"competenc\", \"literac\",\n",
    "                  \"ferdigh\", \"kompetanse\", \"dugleik\", \"dyktighe\",   \n",
    "                ]\n",
    "#\"skill\" covers \"upskill\" and \"reskill\" etc.\n",
    "              \n",
    "termlist4_4_1b = [\"employability\", \"employment\", \"decent job\", \"decent work\", \"entrepreneurship\",\n",
    "                 \"ansettelse\", \"sysselset\", \"tilset\", \"anstendig arbeid\", \"anstendig jobb\", \"jobb\", \"entreprenørskap\" ]\n",
    "\n",
    "termlist4_4_1c = [\"entrepreneurship education\", \"entrepreneur education\", \"entrepreneurial education\"]\n",
    "\n",
    "phrasedefault4_4_1a = r'(?:{})'.format('|'.join(termlist4_4_1a))\n",
    "phrasedefault4_4_1b = r'(?:{})'.format('|'.join(termlist4_4_1b))\n",
    "phrasedefault4_4_1c = r'(?:{})'.format('|'.join(termlist4_4_1c))"
   ]
  },
  {
   "cell_type": "code",
   "execution_count": null,
   "id": "14263e01-2cd9-4164-a802-f1bafe375995",
   "metadata": {
    "colab": {
     "base_uri": "https://localhost:8080/"
    },
    "id": "4yDS-gXpansZ",
    "outputId": "f97933db-0a12-4345-a81b-d8f02d6f8895"
   },
   "outputs": [],
   "source": [
    "#Search \n",
    "Data.loc[(\n",
    "    ((Data['result_title'].str.contains(phrasedefault4_4_1a, na=False, case=False)) & (Data['result_title'].str.contains(phrasedefault4_4_1b, na=False, case=False)))\n",
    "    |(Data['result_title'].str.contains(phrasedefault4_4_1c, na=False, case=False))\n",
    "),\"tempsdg04_04\"] = \"SDG04_04\"\n",
    "\n",
    "print(\"Number of results = \", len(Data[(Data.tempsdg04_04 == \"SDG04_04\")]))  "
   ]
  },
  {
   "cell_type": "code",
   "execution_count": null,
   "id": "83d63d8c-730e-4349-9f55-2b686f6970d8",
   "metadata": {
    "colab": {
     "base_uri": "https://localhost:8080/"
    },
    "id": "civKMHpzbVVw",
    "outputId": "9ff213ea-bca9-4e92-dfb5-4abadb700354"
   },
   "outputs": [],
   "source": [
    "test=Data.loc[(Data.tempsdg04_04 == \"SDG04_04\"), (\"result_id\", \"result_title\")]\n",
    "test.iloc[0:5, ]"
   ]
  },
  {
   "cell_type": "markdown",
   "id": "767c33e0-1c6a-4c82-a9a8-2778c6fd6344",
   "metadata": {
    "id": "E1fVYc_gEQfL"
   },
   "source": [
    "#### Phrase 2"
   ]
  },
  {
   "cell_type": "code",
   "execution_count": null,
   "id": "a5565afc-4551-46a4-a198-a98d07b98d6e",
   "metadata": {
    "id": "f1vhUHwbcFpv"
   },
   "outputs": [],
   "source": [
    "#Termlists\n",
    "termlist4_4_2a = [\"unemploy\", \"underemploy\", \"out of work\", \"not in work\", \n",
    "                  \"arbeidsledig\", \"langtidsledig\", \"arbeidslau\", \"arbeidslø\", \"utan arbeid\", \"uten arbeid\", \"utan jobb\", \"uten jobb\", \"ikkje i arbeid\", \"ikke i arbeid\"]\n",
    "  \n",
    "termlist4_4_2acaps = [\"NEET\", \"NEETs\"]\n",
    "    \n",
    "termlist4_4_2b = [\"skill\", \" abilit\", \"employability\", \"competenc\", \"litera\", \n",
    "                  \"continuing education\", \"lifelong learning\", \"life long learning\", \"adult learning\", \"adult education\", \"training program\", \"vocational training\", \"new skills\",\n",
    "                  \n",
    "                  \"ferdigh\", \"kompetanse\", \"evne\", \"dugleik\", \"dyktighe\", \"kyndig\", \n",
    "                  \"videreutdanning\", \"vidareutdanning\", \"livslang læring\", \"voksenopplæring\", \"vaksenopplæring\", \"opplæringsprogram\", \"yrkesopplæring\"]\n",
    "#\" ability\" is used with a space before to avoid many works about \"disability\" which are not to do with training/skills\n",
    "\n",
    "phrasedefault4_4_2a = r'(?:{})'.format('|'.join(termlist4_4_2a))\n",
    "phrasespecific4_4_2acaps = r'\\b(?:{})'.format('|'.join(termlist4_4_2acaps))\n",
    "phrasedefault4_4_2b = r'(?:{})'.format('|'.join(termlist4_4_2b))"
   ]
  },
  {
   "cell_type": "code",
   "execution_count": null,
   "id": "e1c5549b-6c0e-4788-8d57-f91749257429",
   "metadata": {
    "colab": {
     "base_uri": "https://localhost:8080/"
    },
    "id": "Qopgqq3HeRPv",
    "outputId": "2757253e-4749-4a5b-9faa-f35de88a8540"
   },
   "outputs": [],
   "source": [
    "#Search \n",
    "phrase4_4_2 = Data.loc[(\n",
    "    ((Data['result_title'].str.contains(phrasedefault4_4_2a, na=False, case=False)) | (Data['result_title'].str.contains(phrasespecific4_4_2acaps, na=False, case=False)))\n",
    "    & (Data['result_title'].str.contains(phrasedefault4_4_2b, na=False, case=False))\n",
    "    ),\"tempsdg04_04\"] = \"SDG04_04\"\n",
    "\n",
    "print(\"Number of results = \", len(Data[(Data.tempsdg04_04 == \"SDG04_04\")])) "
   ]
  },
  {
   "cell_type": "code",
   "execution_count": null,
   "id": "1f38da1a-aed9-417c-80a4-ec833fe4151b",
   "metadata": {
    "colab": {
     "base_uri": "https://localhost:8080/"
    },
    "id": "jekwhCni9dea",
    "outputId": "a3a04edb-2191-4320-e4d9-2eb6b7477580"
   },
   "outputs": [],
   "source": [
    "test=Data.loc[(Data.tempsdg04_04 == \"SDG04_04\"), (\"result_id\", \"result_title\")]\n",
    "test.iloc[0:5, ] "
   ]
  },
  {
   "cell_type": "markdown",
   "id": "c1ee2aa6-b7e8-459d-ad04-ebfa6fae1be3",
   "metadata": {
    "id": "j3swgdZWETXz"
   },
   "source": [
    "#### Phrase 3"
   ]
  },
  {
   "cell_type": "code",
   "execution_count": null,
   "id": "6d27d66f-fbe3-4d12-a556-4072853167f0",
   "metadata": {
    "id": "BD1vvIrleol-"
   },
   "outputs": [],
   "source": [
    "#Termlists\n",
    "termlist4_4_3a = [\"read\", \"writ\", \"comput\", \"literacy\", \"numeracy\",\n",
    "                  \"lese\", \"skrive\", \"digital kompetanse\", \"digitale ferdigh\", \"tallferdighe\", \"talferdigh\", \"talforst\", \"tallforst\", \"regneferdigh\", \"rekneferdigh\", \"reknedugleik\",\n",
    "                  \"basisferdigh\", \"grunnleggende ferdigh\", \"grunnleggjande ferdigh\"\n",
    "                 ]\n",
    "\n",
    "termlist4_4_3b = [\"basic technolog\", \"specialized\", \"specialised\"]\n",
    "\n",
    "termlist4_4_3c = [\"skills\", \"knowledge\"]\n",
    "\n",
    "termlist4_4_3d = [\"learn and adapt\"]\n",
    "\n",
    "termlist4_4_3e = [\"listen\", \"communicat\"]\n",
    "\n",
    "termlist4_4_3f = [\"skills\", \"effective\"]\n",
    "\n",
    "termlist4_4_3g = [\"kommunikasjonsferdigh\", \"lytteferdigh\", \"lederferdigh\", \"leiarferdigh\", \"lederkompetanse\", \"leiarkompetanse\", \"jobbkompetanse\"]\n",
    "\n",
    "termlist4_4_3h = [\"think creatively\", \"creative thinking\", \"solve problem\", \"problem-solv\",\n",
    "                  \"problemlø\"]\n",
    "\n",
    "termlist4_4_3i = [\"interact\",\n",
    "                  \"samhandl\", \"samarbeid\"]\n",
    "\n",
    "termlist4_4_3j = [\"co-work\", \"colleague\",\n",
    "                  \"kollega\"]\n",
    "\n",
    "termlist4_4_3k = [\"work\",\n",
    "                  \"arbeid\", \"jobb\"]\n",
    "\n",
    "termlist4_4_3l = [\"team\", \"group\",\n",
    "                  \"gruppe\"]\n",
    "\n",
    "termlist4_4_3m = [\"education\", \"professional development\", \"adult education\", \"adult learning\", \"lifelong learning\", \"life long learning\", \"employee development\", \"new skills\",\n",
    "                  \"utdanning\", \"voksenopplæring\", \"vaksenopplæring\", \"livslang læring\"]\n",
    "\n",
    "termlist4_4_3n = [\"leader\"]\n",
    "\n",
    "\n",
    "termlist4_4_3o = [\"follow\",\n",
    "                  \"følge\", \"følgje\", \"motta\", \"ta imot\"]\n",
    "\n",
    "termlist4_4_3p = [\"supervi\",\n",
    "                  \"veiled\", \"rettlei\", \"veglei\"]\n",
    "\n",
    "termlist4_4_3q = [\"transfer\",\n",
    "                  \"overførbar\"]\n",
    "\n",
    "termlist4_4_3r = [\"skills\",\n",
    "                  \"ferdigh\"]\n",
    "\n",
    "termlist4_4_3s = [\"employability\", \"employable\",\n",
    "                  \"ansettbar\", \"arbeidsevne\", \"syssels\"]\n",
    "\n",
    "phrasedefault4_4_3a = r'(?:{})'.format('|'.join(termlist4_4_3a))\n",
    "phrasedefault4_4_3b = r'(?:{})'.format('|'.join(termlist4_4_3b))\n",
    "phrasedefault4_4_3c = r'(?:{})'.format('|'.join(termlist4_4_3c))\n",
    "phrasedefault4_4_3d = r'(?:{})'.format('|'.join(termlist4_4_3d))\n",
    "phrasedefault4_4_3e = r'(?:{})'.format('|'.join(termlist4_4_3e))\n",
    "phrasedefault4_4_3f = r'(?:{})'.format('|'.join(termlist4_4_3f))\n",
    "phrasedefault4_4_3g = r'(?:{})'.format('|'.join(termlist4_4_3g))\n",
    "phrasedefault4_4_3h = r'(?:{})'.format('|'.join(termlist4_4_3h))\n",
    "phrasedefault4_4_3i = r'(?:{})'.format('|'.join(termlist4_4_3i))\n",
    "phrasedefault4_4_3j = r'(?:{})'.format('|'.join(termlist4_4_3j))\n",
    "phrasedefault4_4_3k = r'(?:{})'.format('|'.join(termlist4_4_3k))\n",
    "phrasedefault4_4_3l = r'(?:{})'.format('|'.join(termlist4_4_3l))\n",
    "phrasedefault4_4_3m = r'(?:{})'.format('|'.join(termlist4_4_3m))\n",
    "phrasedefault4_4_3n = r'(?:{})'.format('|'.join(termlist4_4_3n))\n",
    "phrasedefault4_4_3o = r'(?:{})'.format('|'.join(termlist4_4_3o))\n",
    "phrasedefault4_4_3p = r'(?:{})'.format('|'.join(termlist4_4_3p))\n",
    "phrasedefault4_4_3q = r'(?:{})'.format('|'.join(termlist4_4_3q))\n",
    "phrasedefault4_4_3r = r'(?:{})'.format('|'.join(termlist4_4_3r))\n",
    "phrasedefault4_4_3s = r'(?:{})'.format('|'.join(termlist4_4_3s))"
   ]
  },
  {
   "cell_type": "code",
   "execution_count": null,
   "id": "2b389190-338e-4fcc-ada1-22cc61c67583",
   "metadata": {
    "colab": {
     "base_uri": "https://localhost:8080/"
    },
    "id": "aPPogl65esRs",
    "outputId": "4bcebdbb-7ee7-49c7-d223-43666ad47daf"
   },
   "outputs": [],
   "source": [
    "#Search \n",
    "Data.loc[(\n",
    "    (\n",
    "     (Data['result_title'].str.contains(phrasedefault4_4_3a, na=False, case=False))\n",
    "    |((Data['result_title'].str.contains(phrasedefault4_4_3b, na=False, case=False)) & (Data['result_title'].str.contains(phrasedefault4_4_3c, na=False, case=False)))\n",
    "    |(Data['result_title'].str.contains(phrasedefault4_4_3d, na=False, case=False))\n",
    "    |((Data['result_title'].str.contains(phrasedefault4_4_3e, na=False, case=False)) & (Data['result_title'].str.contains(phrasedefault4_4_3f, na=False, case=False)))\n",
    "    |(Data['result_title'].str.contains(phrasedefault4_4_3g, na=False, case=False))\n",
    "    |(Data['result_title'].str.contains(phrasedefault4_4_3h, na=False, case=False))\n",
    "    |((Data['result_title'].str.contains(phrasedefault4_4_3i, na=False, case=False)) & (Data['result_title'].str.contains(phrasedefault4_4_3j, na=False, case=False)))\n",
    "    |((Data['result_title'].str.contains(phrasedefault4_4_3k, na=False, case=False)) & (Data['result_title'].str.contains(phrasedefault4_4_3l, na=False, case=False)))\n",
    "    |(Data['result_title'].str.contains(phrasedefault4_4_3m, na=False, case=False))\n",
    "    |((Data['result_title'].str.contains(phrasedefault4_4_3n, na=False, case=False)) & (Data['result_title'].str.contains(phrasedefault4_4_3f, na=False, case=False)))\n",
    "    |((Data['result_title'].str.contains(phrasedefault4_4_3o, na=False, case=False)) & (Data['result_title'].str.contains(phrasedefault4_4_3p, na=False, case=False)))\n",
    "    |((Data['result_title'].str.contains(phrasedefault4_4_3q, na=False, case=False)) & (Data['result_title'].str.contains(phrasedefault4_4_3r, na=False, case=False)))\n",
    "    )\n",
    "    & (Data['result_title'].str.contains(phrasedefault4_4_3s, na=False, case=False))\n",
    "),\"tempsdg04_04\"] = \"SDG04_04\"\n",
    "\n",
    "print(\"Number of results = \", len(Data[(Data.tempsdg04_04 == \"SDG04_04\")])) "
   ]
  },
  {
   "cell_type": "code",
   "execution_count": null,
   "id": "ab56b8d7-4e27-4cb4-9212-480fa1894d7b",
   "metadata": {
    "colab": {
     "base_uri": "https://localhost:8080/",
     "height": 386
    },
    "id": "3btFaQD6et3l",
    "outputId": "2b85d5dc-a760-4ce9-e211-82b33cfcf714"
   },
   "outputs": [],
   "source": [
    "test=Data.loc[(Data.tempsdg04_04 == \"SDG04_04\"), (\"result_id\", \"result_title\")]\n",
    "test.iloc[0:5, ] "
   ]
  },
  {
   "cell_type": "markdown",
   "id": "6519e4cf-9c34-4fa4-9aee-7bd59ffc0e03",
   "metadata": {
    "id": "wvpGGAd5EVPs"
   },
   "source": [
    "#### Phrase 4"
   ]
  },
  {
   "cell_type": "code",
   "execution_count": null,
   "id": "53a1ceea-e788-4432-821b-eb4f5589e548",
   "metadata": {
    "id": "M22S3arBq-3T"
   },
   "outputs": [],
   "source": [
    "#Termlists\n",
    "termlist4_4_4a = [\"information and communication technology\", \"ICT\", \"vocational\", \"technical\", \"technolog\", \"comput\", \"data\", \"digital\", \"information\",\n",
    "                  \"informasjonsteknologi\", \"IKT\", \"fagsk\", \"teknisk\", \"teknologi\"]\n",
    "\n",
    "termlist4_4_4b = [\"skill\", \"competen\", \"literac\",\n",
    "                  \"ferdigh\", \"kompetanse\", \"evne\", \"dugleik\", \"dyktigh\"]\n",
    "\n",
    "termlist4_4_4c = [\"it-kompetanse\", \"it-ferdigh\", \"ikt-kompetanse\", \"ikt-ferdigh\", \"datakompetanse\", \"dataferdigh\", \"teknologikompetanse\", \"teknologiferdigh\"]\n",
    "\n",
    "termlist4_4_4d = [\"employ\", \"job\", \"decent work\",\n",
    "                  \"ansett\", \"sysselset\", \"tilset\", \"anstendig arbeid\", \"anstendig jobb\", \"jobbrelevan\", \"arbeidsrelevan\", \"yrkesrelevan\"]\n",
    "                  \n",
    "phrasedefault4_4_4a = r'(?:{})'.format('|'.join(termlist4_4_4a))\n",
    "phrasedefault4_4_4b = r'(?:{})'.format('|'.join(termlist4_4_4b))\n",
    "phrasedefault4_4_4c = r'(?:{})'.format('|'.join(termlist4_4_4c))\n",
    "phrasedefault4_4_4d = r'(?:{})'.format('|'.join(termlist4_4_4d))         "
   ]
  },
  {
   "cell_type": "code",
   "execution_count": null,
   "id": "36591b36-a0b7-46f0-86c1-2b1a41be4831",
   "metadata": {
    "colab": {
     "base_uri": "https://localhost:8080/"
    },
    "id": "aPcneBRjrIKk",
    "outputId": "84035385-ce2e-4515-cb42-a85be31171dc"
   },
   "outputs": [],
   "source": [
    "#Search \n",
    "Data.loc[(\n",
    "    (\n",
    "        ((Data['result_title'].str.contains(phrasedefault4_4_4a, na=False, case=False)) & (Data['result_title'].str.contains(phrasedefault4_4_4b, na=False, case=False)))\n",
    "        | (Data['result_title'].str.contains(phrasedefault4_4_4c, na=False, case=False))\n",
    "    )\n",
    "    & (Data['result_title'].str.contains(phrasedefault4_4_4d, na=False, case=False))\n",
    "),\"tempsdg04_04\"] = \"SDG04_04\"\n",
    "\n",
    "print(\"Number of results = \", len(Data[(Data.tempsdg04_04 == \"SDG04_04\")])) "
   ]
  },
  {
   "cell_type": "code",
   "execution_count": null,
   "id": "912b7c58-3b33-4f3d-b068-2e07b3f82d73",
   "metadata": {},
   "outputs": [],
   "source": [
    "test=Data.loc[(Data.tempsdg04_04 == \"SDG04_04\"), (\"result_id\", \"result_title\")]\n",
    "test.iloc[0:5, ] "
   ]
  },
  {
   "cell_type": "markdown",
   "id": "12f0645e-16ce-46b2-aa24-a72419fcb3bd",
   "metadata": {
    "id": "0sHWEfrRIkah"
   },
   "source": [
    "### SDG 4.5\n",
    "By 2030, eliminate gender disparities in education and ensure equal access to all levels of education and vocational training for the vulnerable, including persons with disabilities, indigenous peoples and children in vulnerable situations\n",
    "\n",
    "*Innen 2030 avskaffe kjønnsforskjeller i utdanning og opplæring og sikre lik tilgang til alle nivåer innenfor utdanning og yrkesfaglig opplæring for sårbare grupper, inkludert personer med nedsatt funksjonsevne, urfolk og barn i utsatte situasjoner*"
   ]
  },
  {
   "cell_type": "markdown",
   "id": "d8a35074-e0d3-40df-8660-87937f61d977",
   "metadata": {
    "id": "f5UT4GRJEZXM"
   },
   "source": [
    "#### Phrase 1"
   ]
  },
  {
   "cell_type": "code",
   "execution_count": null,
   "id": "eb03379a-9271-400a-a99a-3288976bb78f",
   "metadata": {
    "id": "kTvRd4OWMEcI"
   },
   "outputs": [],
   "source": [
    "#Termlists\n",
    "termlist4_5_1a = [\"gender\", \"girl\", \"woman\", \"women\", \"female\", \"boy\", \"male\",\n",
    "                \"kjønn\", \"jente\", \"kvinne\", \"gut\"]\n",
    "\n",
    "termlist4_5_1b = [\"equit\", \"equal\", \"balanc\",\n",
    "                  \"rettferd\", \"rettvis\", \"jevnbyrdig\", \"likheit\", \"likhet\", \"likskap\", \"ulikskap\", \"skilnad\", \"balans\"]\n",
    "\n",
    "termlist4_5_1c = [\"likestilling\"]\n",
    "\n",
    "termlist4_5_1d = [\"school\", \"educat\", \"vocational training\", \"student\",\n",
    "                  \"skole\", \"skule\", \"utdann\", \"undervisning\", \"undervising\", \"opplæring\", \"yrkesfag\"]\n",
    "\n",
    "phrasedefault4_5_1a = r'(?:{})'.format('|'.join(termlist4_5_1a))\n",
    "phrasedefault4_5_1b = r'(?:{})'.format('|'.join(termlist4_5_1b))\n",
    "phrasedefault4_5_1c = r'(?:{})'.format('|'.join(termlist4_5_1c))\n",
    "phrasedefault4_5_1d = r'(?:{})'.format('|'.join(termlist4_5_1d))"
   ]
  },
  {
   "cell_type": "code",
   "execution_count": null,
   "id": "f5f7491e-1c87-418d-bcf1-2d7c28318d38",
   "metadata": {
    "colab": {
     "base_uri": "https://localhost:8080/"
    },
    "id": "Xp9JLScNMQrn",
    "outputId": "2e6bad9c-173d-47d2-e18e-c59e1e38e857"
   },
   "outputs": [],
   "source": [
    "#Search \n",
    "Data.loc[(\n",
    "    (\n",
    "        ((Data['result_title'].str.contains(phrasedefault4_5_1a, na=False, case=False)) & (Data['result_title'].str.contains(phrasedefault4_5_1b, na=False, case=False)))\n",
    "        |(Data['result_title'].str.contains(phrasedefault4_5_1c, na=False, case=False))\n",
    "    )\n",
    "    & (Data['result_title'].str.contains(phrasedefault4_5_1d, na=False, case=False))\n",
    "),\"tempsdg04_05\"] = \"SDG04_05\"\n",
    "\n",
    "print(\"Number of results = \", len(Data[(Data.tempsdg04_05 == \"SDG04_05\")])) "
   ]
  },
  {
   "cell_type": "code",
   "execution_count": null,
   "id": "95400224-4395-41a5-b3a9-3ec73b7b2d3f",
   "metadata": {
    "colab": {
     "base_uri": "https://localhost:8080/"
    },
    "id": "k3K5qfCTMZ_C",
    "outputId": "05ecfe68-1b04-4450-882e-8426cadb0a2f"
   },
   "outputs": [],
   "source": [
    "test=Data.loc[(Data.tempsdg04_05 == \"SDG04_05\"), (\"result_id\", \"result_title\")]\n",
    "test.iloc[0:5, ]"
   ]
  },
  {
   "cell_type": "markdown",
   "id": "5589c85f-7ce5-43a7-8d78-6760f6956187",
   "metadata": {
    "id": "n1x80jyOEa4c"
   },
   "source": [
    "#### Phrase 2"
   ]
  },
  {
   "cell_type": "code",
   "execution_count": null,
   "id": "c5f53016-5ace-4b12-94fb-0a32667fcedb",
   "metadata": {
    "id": "CasvrZS-rg69"
   },
   "outputs": [],
   "source": [
    "#Termlists\n",
    "termlist4_5_2a = [\"gender\", \"girl\", \"woman\", \"women\", \"female\", \"boy\", \"male\",\n",
    "                  \"kjønn\", \"jente\", \"kvinne\", \"gut\"]\n",
    "\n",
    "termlist4_5_2b = [\"non-equit\", \"non-equal\", \"inequal\", \"unequal\", \"unbalanc\", \"imbalanc\", \"disparit\", \"discriminat\", \"obstacle\", \"barrier\", \"hindrance\", \"hinder\", \"bias\", \"parity\", \"gap\",\n",
    "                  \"ulikhet\", \"ulikheit\", \"urett\", \"ubalans\", \"misforhold\", \"forskjell\", \"skilnad\", \"diskriminer\", \"hinder\", \"hindre\", \"barrier\"]\n",
    "\n",
    "termlist4_5_2c = [\"gender gap\", \"gender parity\",\n",
    "                  \"kjønnsdiskriminering\", \"kjønnsforskjell\", \"kjønnsskilnad\"]\n",
    "\n",
    "termlist4_5_2d = [\"school\", \"educat\", \"vocational training\", \"student\",\n",
    "                  \"skole\", \"skule\", \"utdann\", \"undervisning\", \"undervising\", \"opplæring\", \"yrkesfag\"]\n",
    "\n",
    "termlist4_5_2e = [\"mortality\", \"health\", \"wealth\"]\n",
    "\n",
    "termlist4_5_2f = [\"difference\", \"discrepan\",\n",
    "                  \"forskjell\", \"ulik\", \"skilnad\"]\n",
    "\n",
    "termlist4_5_2g = [\"complet\", \"result\", \"perform\", \"success\", \"achieve\", \"access\", \"enter\", \"entry\", \"enroll\", \"admission\", \"admit\", \"graduation\", \"graduating\", \"attend\",\n",
    "                  \"fullfør\", \"gjennomfør\", \"resultat\", \"suksess\", \"oppnå\", \"adgang\", \"opptak\", \"tilgang\"]\n",
    "\n",
    "phrasedefault4_5_2a = r'(?:{})'.format('|'.join(termlist4_5_2a))\n",
    "phrasedefault4_5_2b = r'(?:{})'.format('|'.join(termlist4_5_2b))\n",
    "phrasedefault4_5_2c = r'(?:{})'.format('|'.join(termlist4_5_2c))\n",
    "phrasedefault4_5_2d = r'(?:{})'.format('|'.join(termlist4_5_2d))\n",
    "phrasedefault4_5_2e = r'(?:{})'.format('|'.join(termlist4_5_2e))\n",
    "phrasedefault4_5_2f = r'(?:{})'.format('|'.join(termlist4_5_2f))\n",
    "phrasedefault4_5_2g = r'(?:{})'.format('|'.join(termlist4_5_2g))"
   ]
  },
  {
   "cell_type": "code",
   "execution_count": null,
   "id": "a5c6405e-a7d8-4074-b235-4a8819782c9e",
   "metadata": {
    "colab": {
     "base_uri": "https://localhost:8080/"
    },
    "id": "mYf2TzQsCNPq",
    "outputId": "3379888f-6e01-423c-a944-04e302dd5806"
   },
   "outputs": [],
   "source": [
    "#Search\n",
    "Data.loc[(\n",
    "    (\n",
    "        (\n",
    "            (Data['result_title'].str.contains(phrasedefault4_5_2c, na=False, case=False))\n",
    "            |\n",
    "            (\n",
    "                (Data['result_title'].str.contains(phrasedefault4_5_2a, na=False, case=False)) \n",
    "                &\n",
    "                (\n",
    "                    (Data['result_title'].str.contains(phrasedefault4_5_2b, na=False, case=False))\n",
    "                    |((Data['result_title'].str.contains(phrasedefault4_5_2f, na=False, case=False)) & (Data['result_title'].str.contains(phrasedefault4_5_2g, na=False, case=False)))\n",
    "                )\n",
    "            )\n",
    "        )\n",
    "        & (Data['result_title'].str.contains(phrasedefault4_5_2d, na=False, case=False))\n",
    "    )\n",
    "    & (~Data['result_title'].str.contains(phrasedefault4_5_2e, na=False, case=False))\n",
    "),\"tempsdg04_05\"] = \"SDG04_05\"\n",
    "\n",
    "print(\"Number of results = \", len(Data[(Data.tempsdg04_05 == \"SDG04_05\")]))  "
   ]
  },
  {
   "cell_type": "code",
   "execution_count": null,
   "id": "cbf13a24-ad0d-482c-807f-32a92d6d3fb3",
   "metadata": {
    "colab": {
     "base_uri": "https://localhost:8080/"
    },
    "id": "j3FGYKWeM7x4",
    "outputId": "33645a4c-2ffa-483e-dc10-ed3e273044d1"
   },
   "outputs": [],
   "source": [
    "test=Data.loc[(Data.tempsdg04_05 == \"SDG04_05\"), (\"result_id\", \"result_title\")]\n",
    "test.iloc[0:5, ]"
   ]
  },
  {
   "cell_type": "markdown",
   "id": "84941be3-f558-47b1-a6c7-91e62737dcd4",
   "metadata": {
    "id": "LaHffg3TEcg0"
   },
   "source": [
    "#### Phrase 3\n",
    "\n",
    "Here under terms for vulnerable groups we have included Norwegian-specific indigenous and minority groups (source: Utdanningsdirektoratet (n.d.) Nasjonale minoriteter. https://www.udir.no/laring-og-trivsel/nasjonale-minoriteter/hva-er-en-nasjonal-minoritet/ (accessed Nov 2022)))."
   ]
  },
  {
   "cell_type": "code",
   "execution_count": null,
   "id": "c2802da6-e4c0-40b4-9f28-81b4094397e6",
   "metadata": {
    "id": "oBRKoI_nM1Wf"
   },
   "outputs": [],
   "source": [
    "#Termlists\n",
    "termlist4_5_3a = [\"access\", \"admission\", \"admit\", \"attend\", \"entry\", \"enrol\", \"inclusion\", \"inclusiv\", \"non-discriminat\", \"equitab\",\n",
    "                  \"education for all\", \"Rights of Persons with Disabilities\", \"CRPD\",\n",
    "                  \n",
    "                  \"tilgang\", \"tilgjenge\", \"adkomst\", \"adgang\", \"opptak\", \"inkluder\", \"rettferd\", \"rettvis\", \n",
    "                  \"utdanning for alle\", \"rettigheter til personer med nedsatt funksjonsevne\", \"rettar til menneske med nedsett funksjonsevne\"]\n",
    "\n",
    "termlist4_5_3b = [\"discriminat\", \"non-discriminat\", \"inequit\", \"unequit\", \"disparit\", \"barrier\", \"obstacle\", \"exclusion\", \"excluding\",\n",
    "                  \"diskriminer\", \"urettvis\", \"urettferd\", \"barrier\", \"hinder\", \"hindr\", \"eksklu\"]\n",
    "\n",
    "termlist4_5_3c =  [\"school\", \"educat\", \"vocational training\",\n",
    "                  \"skole\", \"skule\", \"utdann\", \"undervis\", \"opplæring\", \"yrkesfagl\"]\n",
    "\n",
    "termlist4_5_3d =  [\"person\", \"people\", \"adult\", \"child\", \"student\", \"youth\", \"adolescent\",\n",
    "                   \"menneske\", \"vaksne\", \"voksne\", \"elev\", \"ung\", \"tenåring\", \"barn\", \"born\"]\n",
    "\n",
    "termlist4_5_3e = [\"disabled\", \"disabilit\", \"unemployed\", \"older\", \"elderly\", \"poor\", \"poverty\", \"disadvantaged\", \"vulnerab\", \"displaced\", \"marginali\", \"developing countr\",\n",
    "                  \"specific learning disabilit\", \"SLD\", \"other health impairment\", \"autism spectrum disorder\", \"ASD\", \"emotional disturbance\", \"speech impairment\",\n",
    "                  \"language impairment\", \"visual impairment\", \"blindness\", \"deafness\", \"hearing impairment\", \"deaf-blindness\", \"orthopedic impairment\", \"intellectual disabilit\", \"traumatic brain injur\", \"multiple disabilit\",\n",
    "                  \n",
    "                  \"uføre\", \"funksjonshem\", \"arbeidsl\", \"utan arbeid\", \"uten arbeid\", \"fattig\", \"lavinntekt\", \"låginntekt\", \"lav inntekt\", \"låg inntekt\", \"sårbar\", \"diskriminert\",\n",
    "                  \"marginalisert\", \"utviklingsland\", \"u-land\", \"lærevansk\", \"særskilte behov\", \"autismespekter\", \"emosjonelle forstyrr\", \"talevansk\", \"språkvansk\", \"synsvansk\", \"blind\", \"døv\", \"hørsel\",\n",
    "                  \"ortopediske vansk\", \"intellektuelle vansk\", \"traumatisk hjerneskade\"]\n",
    "                  #Norwegian terms for OLDER are not included as they cause noise.\n",
    "\n",
    "termlist4_5_3f = [\"disab\", \"disadvantage\", \"vulnerab\", \"indigenous\", \"the poor\",\n",
    "                  \"refugee\", \"asylum\", \"displaced\", \"migrant\", \n",
    "                  \"low income\", \"minorit\", \"marginal\", \"slum\", \"rural\", \"special educational needs\",\n",
    "                  \"LGBT\", \"lesbian\", \"gay\", \"bisexual\", \"transgender\", \n",
    "                  \n",
    "                  \"uføre\", \"funksjonshem\", \"sårbar\", \"hjemløs\", \"heimlaus\", \"urfolk\", \"urbefolkning\", \"urinnvån\", \"minoritet\",\n",
    "                  \"sápmi\", \"sami\", \"minoritet\", \"jøder\", \"jødar\", \"kvener\", \"kvenar\", \"norskfinn\", \"skogfinn\", \"romani\", \"tatere\", \"taterar\",\n",
    "                  \"asylsøk\", \"flyktning\", \"innvandr\",\n",
    "                  \"fattig\", \"lavinntekt\", \"låg inntekt\", \"låginntekt\", \"lav inntekt\", \n",
    "                  \"transperson\", \"lesbisk\", \"homofile\", \"homoseksuell\", \"bifil\", \"lbht\", \"interkjønn\", \"innfød\"]\n",
    "\n",
    "termlist4_5_3g = [\"special educat\", \"special needs educat\", \"inclusive education\", \"aided education\",\n",
    "                  \"tilrettelagt undervisning\", \"spesialundervisning\", \"tilpasset opplæring\", \"tilpassa opplæring\", \"inkluderende opplæring\", \"inkluderande opplæring\"]\n",
    "\n",
    "termlist4_5_3h = [\"SEN\"]\n",
    "\n",
    "phrasedefault4_5_3a = r'(?:{})'.format('|'.join(termlist4_5_3a))\n",
    "phrasedefault4_5_3b = r'(?:{})'.format('|'.join(termlist4_5_3b))\n",
    "phrasedefault4_5_3c = r'(?:{})'.format('|'.join(termlist4_5_3c))\n",
    "phrasedefault4_5_3d = r'(?:{})'.format('|'.join(termlist4_5_3d))\n",
    "phrasedefault4_5_3e = r'(?:{})'.format('|'.join(termlist4_5_3e))\n",
    "phrasedefault4_5_3f = r'(?:{})'.format('|'.join(termlist4_5_3f))\n",
    "phrasedefault4_5_3g = r'(?:{})'.format('|'.join(termlist4_5_3g))\n",
    "phrasespecific4_5_3h = r'\\b(?:{})\\b'.format('|'.join(termlist4_5_3h))"
   ]
  },
  {
   "cell_type": "code",
   "execution_count": null,
   "id": "ff6b50b6-789a-4900-8707-1d0ff82283d6",
   "metadata": {
    "colab": {
     "base_uri": "https://localhost:8080/"
    },
    "id": "B9IDPQxoM4vX",
    "outputId": "a32e237f-40ba-40ef-e068-a323bf6816e6"
   },
   "outputs": [],
   "source": [
    "#Search \n",
    "Data.loc[(\n",
    "    (\n",
    "        (\n",
    "            ((Data['result_title'].str.contains(phrasedefault4_5_3a, na=False, case=False)) | (Data['result_title'].str.contains(phrasedefault4_5_3b, na=False, case=False)))\n",
    "            & (Data['result_title'].str.contains(phrasedefault4_5_3c, na=False, case=False))\n",
    "        )\n",
    "        &\n",
    "        (\n",
    "            ((Data['result_title'].str.contains(phrasedefault4_5_3d, na=False, case=False)) & (Data['result_title'].str.contains(phrasedefault4_5_3e, na=False, case=False)))\n",
    "            |(Data['result_title'].str.contains(phrasedefault4_5_3f, na=False, case=False)) \n",
    "            |(Data['result_title'].str.contains(phrasespecific4_5_3h, na=False, case=True))\n",
    "        )\n",
    "    )\n",
    "    |\n",
    "    (\n",
    "        ((Data['result_title'].str.contains(phrasedefault4_5_3a, na=False, case=False)) | (Data['result_title'].str.contains(phrasedefault4_5_3b, na=False, case=False)))\n",
    "        & (Data['result_title'].str.contains(phrasedefault4_5_3g, na=False, case=False))\n",
    "    )\n",
    "),\"tempsdg04_05\"] = \"SDG04_05\"\n",
    "\n",
    "print(\"Number of results = \", len(Data[(Data.tempsdg04_05 == \"SDG04_05\")]))"
   ]
  },
  {
   "cell_type": "code",
   "execution_count": null,
   "id": "15356357-6fe8-4e03-bf5f-5a1aa3e9ee51",
   "metadata": {
    "colab": {
     "base_uri": "https://localhost:8080/"
    },
    "id": "O91fFEqTM88f",
    "outputId": "1a12da5f-cc55-468b-8cea-c1f14f2247d7"
   },
   "outputs": [],
   "source": [
    "test=Data.loc[(Data.tempsdg04_05 == \"SDG04_05\"), (\"result_id\", \"result_title\")]\n",
    "test.iloc[0:5, ]"
   ]
  },
  {
   "cell_type": "markdown",
   "id": "79a027b2-87af-421b-afc0-7a25b396178c",
   "metadata": {
    "id": "iCPqDKWWIzdz"
   },
   "source": [
    "### SDG 4.6\n",
    "By 2030, ensure that all youth and a substantial proportion of adults, both men and women, achieve literacy and numeracy\n",
    "\n",
    "*Innen 2030 sikre at all ungdom og en betydelig andel voksne, både kvinner og menn, lærer å lese, skrive og regne*"
   ]
  },
  {
   "cell_type": "markdown",
   "id": "ac5d1066-14b6-4cb0-8ccc-72151d300155",
   "metadata": {
    "id": "QXwAsDjOEjTF"
   },
   "source": [
    "#### Phrase 1\n",
    "The phrase is simplified compared to topic search in WoS. The structure of the search is *skills + reading/mathematics*.\n"
   ]
  },
  {
   "cell_type": "code",
   "execution_count": null,
   "id": "cebc133f-9fbb-404d-82df-7b3fcf64c79e",
   "metadata": {
    "id": "UnBymkjiJQya"
   },
   "outputs": [],
   "source": [
    "#Termlists                \n",
    "termlist4_6_1a = [\"proficienc\", \"skill\", \"comprehension\", \"comprehend\", \"literac\",\n",
    "                  \"ferdigh\", \"dyktighe\", \"kyndighe\", \"kompetanse\", \"evne\", \"dugleik\", \"forstå\", \"nivå\", \"grunnlegg\"]\n",
    "\n",
    "termlist4_6_1b = [\"ability\", \"abilities\", \"level\"]\n",
    "\n",
    "termlist4_6_1c =  [\"reading\", \"literate\", \"mathematic\", \"maths\", \"mathematics\", \"numera\", \n",
    "                   \n",
    "                   \"leseferdigh\", \"leseforstå\", \"lesekompetanse\", \"lesedugleik\",\n",
    "                   \"rekne\", \"rekna\", \"regneferdigh\", \"rekneferdigh\", \"reknedugleik\",\n",
    "                   \"talforstå\", \"tallforstå\", \"talferdigh\", \"tallferdigh\", \"matematikk\"]\n",
    "\n",
    "termlist4_6_1d = [\"read\", \n",
    "                  \"lese\", \"lesa\", \"lesing\", \"rekning\", \"regning\"]                 \n",
    "\n",
    "termlist4_6_1e = [\"teacher\", \"readability\", \"readiness\", \"spread\", \"information literacy\",\n",
    "                  \"lærer\", \"lærar\", \"student\", \"skille\", \"mikropolitisk\"] #Noisy terms, removed with NOT\n",
    "\n",
    "termlist4_6_1f = [\"core literacy\", \"functional literacy\", \"basic literacy\"]\n",
    "\n",
    "phrasedefault4_6_1a = r'(?:{})'.format('|'.join(termlist4_6_1a))\n",
    "phrasespecific4_6_1b = r'\\b(?:{})\\b'.format('|'.join(termlist4_6_1b))\n",
    "phrasedefault4_6_1c = r'(?:{})'.format('|'.join(termlist4_6_1c))\n",
    "phrasespecific4_6_1d = r'\\b(?:{})\\b'.format('|'.join(termlist4_6_1d))\n",
    "phrasedefault4_6_1e = r'(?:{})'.format('|'.join(termlist4_6_1e))\n",
    "phrasedefault4_6_1f = r'(?:{})'.format('|'.join(termlist4_6_1f))"
   ]
  },
  {
   "cell_type": "code",
   "execution_count": null,
   "id": "5cf21a13-4809-4162-9bc7-30b43bd330f9",
   "metadata": {
    "colab": {
     "base_uri": "https://localhost:8080/"
    },
    "id": "P_dSoEBwQaRQ",
    "outputId": "a4cb3951-cbd4-4eb9-a83e-ec77d1660d4a"
   },
   "outputs": [],
   "source": [
    "#Search \n",
    "Data.loc[(\n",
    "    (Data['result_title'].str.contains(phrasedefault4_6_1f, na=False, case=False))\n",
    "    |\n",
    "    (\n",
    "        (\n",
    "             ((Data['result_title'].str.contains(phrasedefault4_6_1a, na=False, case=False)) | (Data['result_title'].str.contains(phrasespecific4_6_1b, na=False, case=False)))\n",
    "             & ((Data['result_title'].str.contains(phrasedefault4_6_1c, na=False, case=False)) | (Data['result_title'].str.contains(phrasespecific4_6_1d, na=False, case=False)))\n",
    "        )\n",
    "    & (~Data['result_title'].str.contains(phrasedefault4_6_1e, na=False, case=False))\n",
    "    )\n",
    "),\"tempsdg04_06\"] = \"SDG04_06\"\n",
    "\n",
    "print(\"Number of results = \", len(Data[(Data.tempsdg04_06 == \"SDG04_06\")]))"
   ]
  },
  {
   "cell_type": "code",
   "execution_count": null,
   "id": "2aa1f182-422e-43af-baca-04a7ea0cf8ba",
   "metadata": {
    "colab": {
     "base_uri": "https://localhost:8080/"
    },
    "id": "nlyi1e0TbEC6",
    "outputId": "5cbb5db8-23a8-44b0-b14f-72318b031351"
   },
   "outputs": [],
   "source": [
    "test=Data.loc[(Data.tempsdg04_06 == \"SDG04_06\"), (\"result_id\", \"result_title\")]\n",
    "test.iloc[0:5, ]"
   ]
  },
  {
   "cell_type": "markdown",
   "id": "6d4a060a-a2cb-46cc-9803-ed37f90685db",
   "metadata": {
    "id": "GwuQkyzgEk1G"
   },
   "source": [
    "#### Phrase 2"
   ]
  },
  {
   "cell_type": "code",
   "execution_count": null,
   "id": "edd79eeb-d9ff-4da8-8329-cb0e49325ea3",
   "metadata": {
    "id": "5ENO2ltRJT1y"
   },
   "outputs": [],
   "source": [
    "#Termlists\n",
    "termlist4_6_2 = [\"illiterate child\", \"illiterate people\", \"illiterate user\", \n",
    "                 \"analfabet\", \"analphabet\", \"innumeracy\", \"innumerate\",\n",
    "                 \n",
    "                 \"analfabet\", \"lesekyn\", \"lesekunnig\", \"talkyn\", \"tallkyn\", \"talkunn\", \"talforståing\", \"tallforståelse\"] \n",
    "\n",
    "termlist4_6_2a = [\"illitera\"] \n",
    "                         \n",
    "phrasedefault4_6_2 = r'\\b(?:{})'.format('|'.join(termlist4_6_2))\n",
    "phrasedefault4_6_2a = r'(?:{})'.format('|'.join(termlist4_6_2a))"
   ]
  },
  {
   "cell_type": "code",
   "execution_count": null,
   "id": "32c4ea3f-be06-490b-a945-01766cde3068",
   "metadata": {
    "colab": {
     "base_uri": "https://localhost:8080/"
    },
    "id": "SHxjz95-Jgwr",
    "outputId": "d2f97455-8d52-45ab-de51-7fb561f114a5"
   },
   "outputs": [],
   "source": [
    "#Search \n",
    "Data.loc[(\n",
    "    (Data['result_title'].str.contains(phrasedefault4_6_2, na=False, case=False))   \n",
    "    |\n",
    "    (\n",
    "        (Data['result_title'].str.contains(phrasedefault4_6_2a, na=False, case=False)) \n",
    "        & ((Data['result_title'].str.contains(phrasedefault4_6_1c, na=False, case=False)) | (Data['result_title'].str.contains(phrasespecific4_6_1d, na=False, case=False)))\n",
    "    )\n",
    "),\"tempsdg04_06\"] = \"SDG04_06\"\n",
    "\n",
    "print(\"Number of results = \", len(Data[(Data.tempsdg04_06 == \"SDG04_06\")]))"
   ]
  },
  {
   "cell_type": "code",
   "execution_count": null,
   "id": "279d9464-4f88-4988-b43e-c58f24a8c7df",
   "metadata": {
    "colab": {
     "base_uri": "https://localhost:8080/"
    },
    "id": "SLkNVITMJmub",
    "outputId": "a8453960-db91-44dc-b2e0-7d21f299d2c3"
   },
   "outputs": [],
   "source": [
    "test=Data.loc[(Data.tempsdg04_06 == \"SDG04_06\"), (\"result_id\", \"result_title\")]\n",
    "test.iloc[0:5, ]"
   ]
  },
  {
   "cell_type": "markdown",
   "id": "3ab98eba-6e1f-41ea-a31f-6d0884dadd6b",
   "metadata": {
    "id": "LNsr-h06JEdt"
   },
   "source": [
    "### SDG 4.7\n",
    "By 2030, ensure that all learners acquire the knowledge and skills needed to promote sustainable development, including, among others, through education for sustainable development and sustainable lifestyles, human rights, gender equality, promotion of a culture of peace and non-violence, global citizenship and appreciation of cultural diversity and of culture’s contribution to sustainable development\n",
    "\n",
    "*Innen 2030 sikre at alle elever og studenter tilegner seg den kompetansen som er nødvendig for å fremme bærekraftig utvikling, blant annet gjennom utdanning i bærekraftig utvikling og livsstil, menneskerettigheter, likestilling, fremme av freds- og ikkevoldskultur, globalt borgerskap og verdsetting av kulturelt mangfold og kulturens bidrag til bærekraftig utvikling*"
   ]
  },
  {
   "cell_type": "markdown",
   "id": "fda831a1-9b73-4ef4-93f9-644a79b97eb2",
   "metadata": {
    "id": "t1YCy41yEofA"
   },
   "source": [
    "#### Phrase 1"
   ]
  },
  {
   "cell_type": "code",
   "execution_count": null,
   "id": "220779e6-6ee4-4f0a-9c46-c0929e0d30f7",
   "metadata": {
    "id": "QeaeJGia3lQS"
   },
   "outputs": [],
   "source": [
    "#Termlists\n",
    "termlist4_7_1a = [\"educat\", \"curricul\", \"student assess\", \"teaching\", \"teacher education\", \"teacher training\", \"online learning\", \"professional learning\", \n",
    "                  \"utdann\", \"opplæring\", \"pensum\", \"studieplan\", \"emneplan\", \"fagplan\", \"studentvurdering\", \"elevvurdering\", \"undervisning\", \"undervising\", \"nettbasert læring\", \"online læring\", \"profesjonslæring\"]  \n",
    "                  \n",
    "termlist4_7_1b = [\"learn\",\n",
    "                  \"læring\"]\n",
    "\n",
    "termlist4_7_1c = [\"vurdering\"]\n",
    "\n",
    "termlist4_7_1d =  [\"student\",\n",
    "                   \"elev\"]  \n",
    "                 \n",
    "termlist4_7_1e = [\"sustainable development\", \"sustainable lifestyle\", \"global citizen\", \"glocal\", \"human right\", \"gender equality\", \n",
    "                  \"peace\", \"non-violen\", \"cultural divers\", \"toleran\",\n",
    "                  \n",
    "                  \"bærekraftig utvikling\", \"berekraftig utvikling\", \"berekraftig livsstil\", \"bærekraftig livsstil\", \n",
    "                  \"global borg\", \"globalt borg\", \"menneskerett\", \"likestilling\", \"ikkje-vald\", \"ikke-vold\", \"ikkevold\", \"ikkjevald\", \n",
    "                  \"kulturelt mangfold\", \"kulturelt mangfald\"]\n",
    "                  \n",
    "termlist4_7_1f = [\"sustainability\",\n",
    "                  \"bærekraft\", \"berekraft\"]\n",
    "\n",
    "termlist4_7_1g = [\"interdisciplinar\", \"transdisciplinar\", \"crossdisciplinar\", \"cultural\", \"economic\", \"ecological\", \"participation\", \n",
    "                  \"agency\", \"responsibility\", \"ethic\", \"wicked problem\", \n",
    "                  \"complexity\", \"capacity for change\", \"transition\",\n",
    "                  \n",
    "                  \"tverrfagl\", \"tverrvit\", \"kulturell\", \"økonomisk\", \"økologisk\", \"deltak\", \"handling\", \"ansvar\", \"etisk\", \n",
    "                  \"kompleks\", \"uløselig problem\", \"uløyseleg problem\", \"endring\", \"overgang\"]\n",
    "                  \n",
    "      \n",
    "termlist4_7_1h = [\"Global Citizenship Education\"]\n",
    "                  \n",
    "termlist4_7_1i = [\"fred\"]\n",
    "\n",
    "phrasedefault4_7_1a = r'(?:{})'.format('|'.join(termlist4_7_1a))\n",
    "phrasedefault4_7_1b = r'(?:{})'.format('|'.join(termlist4_7_1b))\n",
    "phrasedefault4_7_1c = r'(?:{})'.format('|'.join(termlist4_7_1c))\n",
    "phrasedefault4_7_1d = r'(?:{})'.format('|'.join(termlist4_7_1d))\n",
    "phrasedefault4_7_1e = r'(?:{})'.format('|'.join(termlist4_7_1e))\n",
    "phrasedefault4_7_1f = r'(?:{})'.format('|'.join(termlist4_7_1f))\n",
    "phrasedefault4_7_1g = r'(?:{})'.format('|'.join(termlist4_7_1g))\n",
    "phrasedefault4_7_1h = r'(?:{})'.format('|'.join(termlist4_7_1h))\n",
    "phrasespecific4_7_1i = r'\\b(?:{})'.format('|'.join(termlist4_7_1i))"
   ]
  },
  {
   "cell_type": "code",
   "execution_count": null,
   "id": "4401216f-0d0a-4509-b8b0-52fba5adc9f8",
   "metadata": {
    "colab": {
     "base_uri": "https://localhost:8080/"
    },
    "id": "wZT1pSnA3zvW",
    "outputId": "8d7a0d86-ab66-47fe-9701-08163d24cde6"
   },
   "outputs": [],
   "source": [
    "#Search \n",
    "Data.loc[(\n",
    "    (\n",
    "        (Data['result_title'].str.contains(phrasedefault4_7_1a, na=False, case=False)) \n",
    "        |((Data['result_title'].str.contains(phrasedefault4_7_1b, na=False, case=False)) & (Data['result_title'].str.contains(phrasedefault4_7_1d, na=False, case=False)))\n",
    "        |((Data['result_title'].str.contains(phrasedefault4_7_1c, na=False, case=False)) & (Data['result_title'].str.contains(phrasedefault4_7_1d, na=False, case=False)))\n",
    "    )\n",
    "    &\n",
    "    (\n",
    "        (Data['result_title'].str.contains(phrasedefault4_7_1e, na=False, case=False))\n",
    "        | (Data['result_title'].str.contains(phrasespecific4_7_1i, na=False, case=False))\n",
    "        | ((Data['result_title'].str.contains(phrasedefault4_7_1f, na=False, case=False)) & (Data['result_title'].str.contains(phrasedefault4_7_1g, na=False, case=False)))\n",
    "        | (Data['result_title'].str.contains(phrasedefault4_7_1h, na=False, case=False)) \n",
    "    )\n",
    "),\"tempsdg04_07\"] = \"SDG04_07\"\n",
    "\n",
    "print(\"Number of results = \", len(Data[(Data.tempsdg04_07 == \"SDG04_07\")])) "
   ]
  },
  {
   "cell_type": "code",
   "execution_count": null,
   "id": "af1b64b7-2f04-4d4c-9e4c-287ad3dd39ac",
   "metadata": {
    "colab": {
     "base_uri": "https://localhost:8080/"
    },
    "id": "OQIhEq6v4CNN",
    "outputId": "fc05ddf0-1d9a-4035-b4de-aa986f5bcf3c"
   },
   "outputs": [],
   "source": [
    "test=Data.loc[(Data.tempsdg04_07 == \"SDG04_07\"), (\"result_id\", \"result_title\")]\n",
    "test.iloc[0:5, ]"
   ]
  },
  {
   "cell_type": "markdown",
   "id": "4fb7aa2b-6aab-4c6b-b320-db0c0859da49",
   "metadata": {
    "id": "B2L-WHvBEprm"
   },
   "source": [
    "#### Phrase 2"
   ]
  },
  {
   "cell_type": "code",
   "execution_count": null,
   "id": "ce81f43d-a516-453e-82de-db5e77449d2f",
   "metadata": {
    "id": "WUhLFaIK3lxB"
   },
   "outputs": [],
   "source": [
    "#Termlists\n",
    "termlist4_7_2a = [\"education for sustainab\", \"education in sustainab\", \"education on sustainab\", \"sustainable development education\", \"sustainability education\",\n",
    "                  \n",
    "                  \"utdanning for bærekraft\", \"utdanning for berekraft\", \"utdanning for en bærekraft\", \"utdanning for ei berekraft\",\n",
    "                  \"opplæring for bærekraft\", \"opplæring for berekraft\", \"opplæring for en bærekraft\", \"opplæring for ei berekraft\"\n",
    "                 ]\n",
    "                  \n",
    "\n",
    "termlist4_7_2b = [\"whole school\", \"teaching\",\n",
    "                  \n",
    "                  \"heilhetlig\", \"heilskapleg\", \"helhetlig\", \"helskole\", \"heilskule\",\n",
    "                  \"undervisning\", \"undervising\", \"utdanning\", \"opplæring\"]\n",
    "\n",
    "termlist4_7_2c = [\"sustainab\", \"berekraft\", \"bærekraft\"]\n",
    "\n",
    "termlist4_7_2cspec = [\"ESD\", \"UBU\"]\n",
    "\n",
    "termlist4_7_2d = [\"educat\", \"utdann\", \"opplæring\"]\n",
    " \n",
    "\n",
    "phrasedefault4_7_2a = r'(?:{})'.format('|'.join(termlist4_7_2a))\n",
    "phrasedefault4_7_2b = r'(?:{})'.format('|'.join(termlist4_7_2b))\n",
    "phrasedefault4_7_2c = r'(?:{})'.format('|'.join(termlist4_7_2c))\n",
    "phrasedespecific4_7_2c = r'\\b(?:{})\\b'.format('|'.join(termlist4_7_2cspec))\n",
    "phrasedefault4_7_2d = r'(?:{})'.format('|'.join(termlist4_7_2d))"
   ]
  },
  {
   "cell_type": "code",
   "execution_count": null,
   "id": "0df5e8b6-000c-4a0d-b16b-de40216b2061",
   "metadata": {
    "colab": {
     "base_uri": "https://localhost:8080/"
    },
    "id": "gZleLIOr32eG",
    "outputId": "41dd80f9-b1d1-4f2d-aff9-cabf671bb205"
   },
   "outputs": [],
   "source": [
    "#Search \n",
    "Data.loc[(\n",
    "    (Data['result_title'].str.contains(phrasedefault4_7_2a, na=False, case=False)) \n",
    "    | \n",
    "    (\n",
    "        (Data['result_title'].str.contains(phrasedefault4_7_2b, na=False, case=False))\n",
    "        & ((Data['result_title'].str.contains(phrasedefault4_7_2c, na=False, case=False)) | (Data['result_title'].str.contains(phrasedespecific4_7_2c, na=False, case=True)))\n",
    "        & (Data['result_title'].str.contains(phrasedefault4_7_2d, na=False, case=False))\n",
    "    )\n",
    "),\"tempsdg04_07\"] = \"SDG04_07\"\n",
    "\n",
    "print(\"Number of results = \", len(Data[(Data.tempsdg04_07 == \"SDG04_07\")])) "
   ]
  },
  {
   "cell_type": "code",
   "execution_count": null,
   "id": "b2b5bebe-dc5c-4516-9f1c-fdb9e9b21332",
   "metadata": {
    "colab": {
     "base_uri": "https://localhost:8080/"
    },
    "id": "-l5X6kXK4DL8",
    "outputId": "c6d352cf-ff32-4603-e15e-32177227afc2"
   },
   "outputs": [],
   "source": [
    "test=Data.loc[(Data.tempsdg04_07 == \"SDG04_07\"), (\"result_id\", \"result_title\")]\n",
    "test.iloc[0:5, ]"
   ]
  },
  {
   "cell_type": "markdown",
   "id": "57d442fb-d237-426d-8bd7-3705a8d3cb69",
   "metadata": {
    "id": "iceNRR_2ErfW"
   },
   "source": [
    "#### Phrase 3"
   ]
  },
  {
   "cell_type": "code",
   "execution_count": null,
   "id": "6452045d-9607-4e7a-8c38-0351b9ba7390",
   "metadata": {
    "id": "bogl6ka33mVa"
   },
   "outputs": [],
   "source": [
    "#Termlists\n",
    "termlist4_7_3a = [\"culture\", \"cultural\",\n",
    "                  \"kultur\"]\n",
    "                                \n",
    "termlist4_7_3b = [\"sustainable development\",\n",
    "                  \"bærekraft\", \"berekraft\"]\n",
    "\n",
    "termlist4_7_3c = [\"kulturøkonomi\", \"kulturskole\", \"kulturskule\"]\n",
    "\n",
    "phrasespecific4_7_3a = r'\\b(?:{})'.format('|'.join(termlist4_7_3a))\n",
    "phrasedefault4_7_3b = r'(?:{})'.format('|'.join(termlist4_7_3b))\n",
    "phrasedefault4_7_3c = r'(?:{})'.format('|'.join(termlist4_7_3c))"
   ]
  },
  {
   "cell_type": "code",
   "execution_count": null,
   "id": "9267aca3-77ed-4bb1-851b-0d5daf4f094d",
   "metadata": {
    "colab": {
     "base_uri": "https://localhost:8080/"
    },
    "id": "EdaCI6MgPwbq",
    "outputId": "e8db592d-19f0-47d5-b1cf-8704b98fcf91"
   },
   "outputs": [],
   "source": [
    "#Search \n",
    "Data.loc[(\n",
    "    (Data['result_title'].str.contains(phrasespecific4_7_3a, na=False, case=False)) \n",
    "    & (Data['result_title'].str.contains(phrasedefault4_7_3b, na=False, case=False))      \n",
    "    & (~Data['result_title'].str.contains(phrasedefault4_7_3c, na=False, case=False))\n",
    "),\"tempsdg04_07\"] = \"SDG04_07\"\n",
    "\n",
    "print(\"Number of results = \", len(Data[(Data.tempsdg04_07 == \"SDG04_07\")])) "
   ]
  },
  {
   "cell_type": "code",
   "execution_count": null,
   "id": "56ca3eeb-107d-4af4-b19e-8cc644c4d227",
   "metadata": {
    "colab": {
     "base_uri": "https://localhost:8080/"
    },
    "id": "drzfOqwO4Ezs",
    "outputId": "27433a6c-ca0d-44aa-a873-359266ce54ee"
   },
   "outputs": [],
   "source": [
    "test=Data.loc[(Data.tempsdg04_07 == \"SDG04_07\"), (\"result_id\", \"result_title\")]\n",
    "test.iloc[10:15, ]"
   ]
  },
  {
   "cell_type": "markdown",
   "id": "288f5fb7-b7e9-4e64-b3df-75d0817d03e8",
   "metadata": {
    "id": "4xdGIDlEJW90"
   },
   "source": [
    "### SDG 4.a\n",
    "Build and upgrade education facilities that are child, disability and gender sensitive and provide safe, non-violent, inclusive and effective learning environments for all\n",
    "\n",
    "*Etablere og oppgradere utdanningstilbud som er barnevennlige, og som ivaretar hensynet til kjønnsforskjeller og til personer med nedsatt funksjonsevne og sikrer trygge, ikke-voldelige, inkluderende og effektive læringsmiljø for alle*"
   ]
  },
  {
   "cell_type": "markdown",
   "id": "390549d9-8ca4-4585-8f13-eec2563e52de",
   "metadata": {
    "id": "D5bwafTKEugn"
   },
   "source": [
    "#### Phrase 1"
   ]
  },
  {
   "cell_type": "code",
   "execution_count": null,
   "id": "3e986bcb-b1e0-4f64-ab01-0dfdfaf2b9e0",
   "metadata": {
    "id": "nTc3bGqq3nTK"
   },
   "outputs": [],
   "source": [
    "#Termlists\n",
    "termlist4_a_1a = [\"school\", \"education facilit\",\n",
    "                  \"skole\", \"skule\", \"opplæring\"]\n",
    "                 \n",
    "termlist4_a_1b = [\"safe\", \"secure\", \"non-violen\", \"inclusive\", \n",
    "                  \"sikker\", \"sikre\", \"trygg\", \"barneven\", \"borneven\", \"ikke-vold\", \"ikkje-vald\", \"inkluder\"]\n",
    "\n",
    "termlist4_a_1c =  [\"sensitiv\",\n",
    "                   \"følsom\", \"hensyn\", \"omsyn\"]\n",
    "\n",
    "termlist4_a_1d = [\"child\", \"disability\", \"gender\",\n",
    "                  \"barn\", \"born\", \"funksjonshem\", \"funksjonsevne\", \"kjønn\"]\n",
    "\n",
    "termlist4_a_1e = [\"taste sensitivity\", \"smak\"]\n",
    "\n",
    "phrasedefault4_a_1a = r'(?:{})'.format('|'.join(termlist4_a_1a))\n",
    "phrasedefault4_a_1b = r'(?:{})'.format('|'.join(termlist4_a_1b))\n",
    "phrasedefault4_a_1c = r'(?:{})'.format('|'.join(termlist4_a_1c))\n",
    "phrasedefault4_a_1d = r'(?:{})'.format('|'.join(termlist4_a_1d))\n",
    "phrasedefault4_a_1e = r'(?:{})'.format('|'.join(termlist4_a_1e))"
   ]
  },
  {
   "cell_type": "code",
   "execution_count": null,
   "id": "6d0e2b0d-b0d9-4236-8d81-db1ebab8ea17",
   "metadata": {
    "colab": {
     "base_uri": "https://localhost:8080/"
    },
    "id": "zN1wVH_kdGJi",
    "outputId": "90cd5b96-59cb-4b0d-fc04-b417ff60b791"
   },
   "outputs": [],
   "source": [
    "#Search\n",
    "Data.loc[(\n",
    "    (Data['result_title'].str.contains(phrasedefault4_a_1a, na=False, case=False))\n",
    "    &\n",
    "    (\n",
    "        (Data['result_title'].str.contains(phrasedefault4_a_1b, na=False, case=False))\n",
    "        | ((Data['result_title'].str.contains(phrasedefault4_a_1c, na=False, case=False)) & (Data['result_title'].str.contains(phrasedefault4_a_1d, na=False, case=False)))     \n",
    "    )\n",
    "    & (~Data['result_title'].str.contains(phrasedefault4_a_1e, na=False, case=False))\n",
    "),\"tempsdg04_a\"] = \"SDG04_0a\"\n",
    "\n",
    "print(\"Number of results = \", len(Data[(Data.tempsdg04_a == \"SDG04_0a\")]))"
   ]
  },
  {
   "cell_type": "code",
   "execution_count": null,
   "id": "c78009c5-eef5-4df8-b452-8b7c139ef98a",
   "metadata": {
    "colab": {
     "base_uri": "https://localhost:8080/"
    },
    "id": "mcALDRCL4Gqk",
    "outputId": "e5046894-9a8b-4d26-86a7-6c2f3bd40b61"
   },
   "outputs": [],
   "source": [
    "test=Data.loc[(Data.tempsdg04_a == \"SDG04_0a\"), (\"result_id\", \"result_title\")]\n",
    "test.iloc[0:5, ]"
   ]
  },
  {
   "cell_type": "markdown",
   "id": "33195512-64e0-4fb0-a29a-f4c545051aa0",
   "metadata": {
    "id": "RJkEf34iEv6X"
   },
   "source": [
    "#### Phrase 2\n",
    "Here we have chosen a more simple search than in WoS. *Effective* is not included here. The structure here is then *Learning environment + School.*"
   ]
  },
  {
   "cell_type": "code",
   "execution_count": null,
   "id": "103fad54-c454-4519-a8ed-2b3ce575e9dc",
   "metadata": {
    "id": "NZq8jCEv3oO6"
   },
   "outputs": [],
   "source": [
    "#Termlists\n",
    "termlist4_a_2a = [\"learning environment\", \"indoor environmental quality\", \"air quality\",\n",
    "                  \"læringsmiljø\", \"inneklima\"]\n",
    "\n",
    "termlist4_a_2b =  [\"primary school\", \"elementary school\", \"primary educat\", \"middle school\", \"secondary school\", \"secondary educat\", \"school\", \"education\", \"learner\", \"classroom\",\n",
    "                   \"skole\", \"skule\", \"utdann\", \"opplæring\", \"lærling\", \"klasserom\"]\n",
    "\n",
    "termlist4_a_2c = [\"student\", \"universit\", \"higher education\", \"teacher education\", \n",
    "                  \"høyere utdanning\", \"høgare utdanning\", \"lærerutdanning\", \"lærarutdanning\"]\n",
    "\n",
    "phrasedefault4_a_2a = r'(?:{})'.format('|'.join(termlist4_a_2a))\n",
    "phrasedefault4_a_2b = r'(?:{})'.format('|'.join(termlist4_a_2b))\n",
    "phrasedefault4_a_2c = r'(?:{})'.format('|'.join(termlist4_a_2c))"
   ]
  },
  {
   "cell_type": "code",
   "execution_count": null,
   "id": "b6968471-5951-4745-954d-53f3697dc54d",
   "metadata": {
    "colab": {
     "base_uri": "https://localhost:8080/"
    },
    "id": "2Bn48McueOL1",
    "outputId": "5c099d12-5b3a-4893-e9a3-fabb016d7778"
   },
   "outputs": [],
   "source": [
    "#Search\n",
    "Data.loc[(\n",
    "    (Data['result_title'].str.contains(phrasedefault4_a_2a, na=False, case=False))\n",
    "    & (Data['result_title'].str.contains(phrasedefault4_a_2b, na=False, case=False)) \n",
    "    & (~Data['result_title'].str.contains(phrasedefault4_a_2c, na=False, case=False))\n",
    "),\"tempsdg04_a\"] = \"SDG04_0a\"\n",
    "\n",
    "print(\"Number of results = \", len(Data[(Data.tempsdg04_a == \"SDG04_0a\")]))"
   ]
  },
  {
   "cell_type": "code",
   "execution_count": null,
   "id": "a8878bbb-4b63-4c9d-b923-7f751a88c63c",
   "metadata": {
    "colab": {
     "base_uri": "https://localhost:8080/"
    },
    "id": "FV2OQSJq4ICk",
    "outputId": "f488aac8-5f83-41f8-c6e2-3616a7da6ea3"
   },
   "outputs": [],
   "source": [
    "test=Data.loc[(Data.tempsdg04_a == \"SDG04_0a\"), (\"result_id\", \"result_title\")]\n",
    "test.iloc[0:5, ]"
   ]
  },
  {
   "cell_type": "markdown",
   "id": "41cfba15-61dc-48ba-95f2-217898a0e27d",
   "metadata": {
    "id": "SDAXPiSJExJP"
   },
   "source": [
    "#### Phrase 3\n",
    "The structure from topic search in WoS is a bit simplified. *Access* is  not included, and the structure here is: *School + Basic services*"
   ]
  },
  {
   "cell_type": "code",
   "execution_count": null,
   "id": "1dca01c9-6734-40d0-8818-0a5622171985",
   "metadata": {
    "id": "vOOKYGuN3o3i"
   },
   "outputs": [],
   "source": [
    "#Termlists\n",
    "termlist4_a_3a = [\"school\", \"education\", \"skole\", \"skule\", \"opplæring\", \"utdanning\"]\n",
    "\n",
    "termlist4_a_3b = [\"basic services\", \"basic facilities\", \"basic infrastructure\",\n",
    "                  \"electricity\", \"electrical supply\", \"modern energy\", \"internet facilities\", \"computer facilities\", \"ICT facilit\",\n",
    "                  \"adapted infrastructure\", \"adapted material\",\n",
    "                  \"universal design\", \"drinking water\", \"sanitation\", \"handwash\", \"hand wash\", \"WASH facilities\", \"toilet\",\n",
    "\n",
    "                  \"grunnleggende tjenester\", \"grunnleggjande tenester\",\n",
    "                  \"elektrisitet\", \"fasilitet\", \"infrastruktur\",\n",
    "                  \"universell design\", \"universell utforming\",\n",
    "                  \"drikkeva\", \"sanitær\", \"håndvask\", \"handvask\", \"vaskemuligh\", \"vaskemog\", \"toalett\"\n",
    "                 ]\n",
    "\n",
    "termlist4_a_3c = [\"higher education\"]\n",
    "\n",
    "phrasedefault4_a_3a = r'(?:{})'.format('|'.join(termlist4_a_3a))\n",
    "phrasedefault4_a_3b = r'(?:{})'.format('|'.join(termlist4_a_3b))\n",
    "phrasedefault4_a_3c = r'(?:{})'.format('|'.join(termlist4_a_3c))"
   ]
  },
  {
   "cell_type": "code",
   "execution_count": null,
   "id": "3fbb3eff-5e0a-4b49-8e9d-a444698cf366",
   "metadata": {
    "colab": {
     "base_uri": "https://localhost:8080/"
    },
    "id": "KisZE5z8SwZp",
    "outputId": "197fc1fa-8c4e-405b-f1b8-da3836365f2b"
   },
   "outputs": [],
   "source": [
    "#Search \n",
    "Data.loc[(\n",
    "    (Data['result_title'].str.contains(phrasedefault4_a_3a, na=False, case=False))\n",
    "    & (Data['result_title'].str.contains(phrasedefault4_a_3b, na=False, case=False))\n",
    "    & (~Data['result_title'].str.contains(phrasedefault4_a_3c, na=False, case=False))\n",
    "),\"tempsdg04_a\"] = \"SDG04_0a\"\n",
    "\n",
    "print(\"Number of results = \", len(Data[(Data.tempsdg04_a == \"SDG04_0a\")]))"
   ]
  },
  {
   "cell_type": "code",
   "execution_count": null,
   "id": "02f50262-ff92-4c02-bc1a-c28ca23020fe",
   "metadata": {
    "colab": {
     "base_uri": "https://localhost:8080/"
    },
    "id": "fsgZ9b53KMe0",
    "outputId": "07100b67-2a42-40e3-d8fe-32a0a78cc194"
   },
   "outputs": [],
   "source": [
    "test=Data.loc[(Data.tempsdg04_a == \"SDG04_0a\"), (\"result_id\", \"result_title\")]\n",
    "test.iloc[0:5, ]"
   ]
  },
  {
   "cell_type": "markdown",
   "id": "51793e56-02fd-4181-8ea1-3e8517e2679a",
   "metadata": {
    "id": "d9LQxd4xJjAr"
   },
   "source": [
    "### SDG 4.b\n",
    "By 2020, substantially expand globally the number of scholarships available to developing countries, in particular least developed countries, small island developing States and African countries, for enrolment in higher education, including vocational training and information and communications technology, technical, engineering and scientific programmes, in developed countries and other developing countries\n",
    "\n",
    "*Innen 2020 oppnå en vesentlig økning globalt i antall stipender som er tilgjengelige for studenter fra utviklingsland, særlig de minst utviklede landene, små utviklingsøystater og afrikanske land, for å gi dem tilgang til høyere utdanning, blant annet yrkesfaglig opplæring og programmer for informasjons- og kommunikasjonsteknologi, teknikk, ingeniørfag og vitenskap, både i andre utviklingsland og i utviklede land*"
   ]
  },
  {
   "cell_type": "code",
   "execution_count": null,
   "id": "0b3a5632-51eb-43a6-a436-a95153e5349f",
   "metadata": {
    "id": "u0e2r-X83qY6"
   },
   "outputs": [],
   "source": [
    "#Termlists\n",
    "termlist4_ba = [\"scholarships\", \"scholarship program\", \"fellowship\", \"exchange program\", \n",
    "                \"student exchange\", \"student mobility\", \"study abroad\", \"overseas stud\",\n",
    "\n",
    "                \"stipend\", \"økonomisk støtte\", \"utveksling\", \"legat\"]\n",
    "                   \n",
    "termlist4_bbuntrunc = [\"grant\", \"grants\"]\n",
    "\n",
    "termlist4_bc = [\"sponsor\"]\n",
    "\n",
    "termlist4_bd = [\"education\", \"student\", \"trainee\", \"mobility\", \"utdanning\"]         \n",
    "\n",
    "phrasedefault4_ba = r'(?:{})'.format('|'.join(termlist4_ba))\n",
    "phrasespecific4_bbuntrunc = r'\\b(?:{})\\b'.format('|'.join(termlist4_bbuntrunc))\n",
    "phrasedefault4_bc = r'(?:{})'.format('|'.join(termlist4_bc))\n",
    "phrasedefault4_bd = r'(?:{})'.format('|'.join(termlist4_bd))"
   ]
  },
  {
   "cell_type": "code",
   "execution_count": null,
   "id": "1a441102-2438-4e9c-b9cf-fb3e40e44577",
   "metadata": {
    "colab": {
     "base_uri": "https://localhost:8080/"
    },
    "id": "p3CK-7mnX7vu",
    "outputId": "dbb9a30f-3c76-4150-b5ce-2fc1d405ae32"
   },
   "outputs": [],
   "source": [
    "#Search\n",
    "Data.loc[(\n",
    "     (\n",
    "         (Data['result_title'].str.contains(phrasedefault4_ba, na=False, case=False)) \n",
    "         |\n",
    "         (\n",
    "             ((Data['result_title'].str.contains(phrasespecific4_bbuntrunc, na=False, case=False)) | (Data['result_title'].str.contains(phrasedefault4_bc, na=False, case=False)))\n",
    "             & (Data['result_title'].str.contains(phrasedefault4_bd, na=False, case=False))\n",
    "         )\n",
    "     )\n",
    "    & (Data['LMICs']==True)\n",
    "),\"tempsdg04_b\"] = \"SDG04_b\"\n",
    "\n",
    "print(\"Number of results = \", len(Data[(Data.tempsdg04_b == \"SDG04_b\")]))  "
   ]
  },
  {
   "cell_type": "code",
   "execution_count": null,
   "id": "4228429e-88f5-4a32-b368-af1dae943084",
   "metadata": {
    "colab": {
     "base_uri": "https://localhost:8080/",
     "height": 726
    },
    "id": "0fX919o-ZrDw",
    "outputId": "f3a57236-d7a6-4372-9b53-619e9792cd35"
   },
   "outputs": [],
   "source": [
    "test=Data.loc[(Data.tempsdg04_b == \"SDG04_b\"), (\"result_id\", \"result_title\")]\n",
    "test.iloc[0:5, ]"
   ]
  },
  {
   "cell_type": "markdown",
   "id": "49916e1a-ff69-473e-807d-65689ad9c68a",
   "metadata": {
    "id": "PpzhVdplJtA2"
   },
   "source": [
    "### SDG 4.c\n",
    "By 2030, substantially increase the supply of qualified teachers, including through international cooperation for teacher training in developing countries, especially least developed countries and small island developing States\n",
    "\n",
    "*Innen 2030 oppnå en vesentlig økning i antall kvalifiserte lærere, blant annet gjennom internasjonalt samarbeid om lærerutdanning i utviklingsland, særlig i de minst utviklede landene og i små utviklingsøystater*"
   ]
  },
  {
   "cell_type": "markdown",
   "id": "b952786f-c0d9-468d-a65e-f62a62f501fc",
   "metadata": {
    "id": "Y91iUiCHE5lh"
   },
   "source": [
    "#### Phrase 1"
   ]
  },
  {
   "cell_type": "code",
   "execution_count": null,
   "id": "ffd7d3f2-d040-4748-80fc-14f976fb5eec",
   "metadata": {
    "id": "yZTtebYg3q8q"
   },
   "outputs": [],
   "source": [
    "#Termlists\n",
    "termlist4_c_1a = [\"teacher supply\", \"supply of teacher\", \"teacher coverage\", \"teacher recruit\", \"recruitment of teacher\", \"recruiting of teacher\", \n",
    "                 \"lack of teacher\", \"teacher turnover\", \"teacher shortage\", \"teacher retention\", \"teacher attrition\",\n",
    "                  \n",
    "                 \"lærerdekning\", \"lærardekning\", \"lærerrekruttering\", \"lærarrekruttering\", \"rekruttering av lær\", \n",
    "                 \"lærermangel\", \"lærarmangel\", \"lærarturnover\", \"lærerturnover\", \"turnover av lær\", \n",
    "                 \"lærerslitasje\", \"lærarslitasje\"\n",
    "                ]\n",
    "\n",
    "termlist4_c_1b = [\"avgang\", \"slitasje\", \"mangel\", \"rekruttering\"]\n",
    "\n",
    "termlist4_c_1c = [\"lærer\", \"lærar\"]\n",
    "\n",
    "termlist4_c_1d = [\"barnehage\"]\n",
    "              \n",
    "phrasedefault4_c_1a = r'(?:{})'.format('|'.join(termlist4_c_1a))\n",
    "phrasespecific4_c_1b = r'\\b(?:{})\\b'.format('|'.join(termlist4_c_1b))\n",
    "phrasedefault4_c_1c = r'(?:{})'.format('|'.join(termlist4_c_1c))\n",
    "phrasedefault4_c_1d = r'(?:{})'.format('|'.join(termlist4_c_1d))"
   ]
  },
  {
   "cell_type": "code",
   "execution_count": null,
   "id": "246bc48b-f356-4a3f-84fb-ea540c250623",
   "metadata": {
    "colab": {
     "base_uri": "https://localhost:8080/"
    },
    "id": "PglAFoVu80sJ",
    "outputId": "a2a5dcc4-a9a2-4cdd-f49d-98f176b4bb00"
   },
   "outputs": [],
   "source": [
    "#Search \n",
    "Data.loc[(\n",
    "    (\n",
    "        (Data['result_title'].str.contains(phrasedefault4_c_1a, na=False, case=False)) \n",
    "        | ((Data['result_title'].str.contains(phrasespecific4_c_1b, na=False, case=False)) & (Data['result_title'].str.contains(phrasedefault4_c_1c, na=False, case=False)))\n",
    "    )\n",
    "    & (~Data['result_title'].str.contains(phrasedefault4_c_1d, na=False, case=False))\n",
    "),\"tempsdg04_c\"] = \"SDG04_c\"\n",
    "\n",
    "print(\"Number of results = \", len(Data[(Data.tempsdg04_c == \"SDG04_c\")]))"
   ]
  },
  {
   "cell_type": "code",
   "execution_count": null,
   "id": "f16c35d5-402c-4e56-9e5b-13c2fb10384b",
   "metadata": {
    "colab": {
     "base_uri": "https://localhost:8080/"
    },
    "id": "lJI4Txmp4MNB",
    "outputId": "3d4df271-18ff-4369-ddde-baf3768a40df"
   },
   "outputs": [],
   "source": [
    "test=Data.loc[(Data.tempsdg04_c == \"SDG04_c\"), (\"result_id\", \"result_title\")]\n",
    "test.iloc[0:5, ]"
   ]
  },
  {
   "cell_type": "markdown",
   "id": "cb5e6a54-4c11-4425-aff4-de99e1083ae0",
   "metadata": {
    "id": "mdESFO0bE69X"
   },
   "source": [
    "#### Phrase 2"
   ]
  },
  {
   "cell_type": "code",
   "execution_count": null,
   "id": "329eaa7a-1708-473f-88e4-98fb367f09a5",
   "metadata": {
    "id": "rLh1UIOz3rkr"
   },
   "outputs": [],
   "source": [
    "#Termlists\n",
    "termlist4_c_2a = [\"teacher training\", \"teacher education\", \"education of teacher\", \"teacher qualification\", \"qualified teacher\", \"teacher student\", \n",
    "                  \n",
    "                  \"lærarutdann\", \"lærerutdann\", \"utdanning av lærarar\", \"utdanning av lærere\", \"lærarstudent\", \"lærerstudent\", \n",
    "                  \"kvalifiserte lær\", \"lærarkompetanse\", \"lærerkompetanse\", \"lærerkvalifikasjon\", \"lærarkvalifikasjon\"]\n",
    "          \n",
    "termlist4_c_2b = [\"lærer\", \"lærar\", \"teacher\"]\n",
    "\n",
    "termlist4_c_2c = [\"kvalifikasjon\", \"kvalifiser\", \"kompetanse\", \n",
    "                  \"qualification\", \"qualified\", \"training\",]\n",
    "\n",
    "phrasedefault4_c_2a = r'(?:{})'.format('|'.join(termlist4_c_2a))\n",
    "phrasedefault4_c_2b = r'(?:{})'.format('|'.join(termlist4_c_2b))\n",
    "phrasedefault4_c_2c = r'(?:{})'.format('|'.join(termlist4_c_2c))"
   ]
  },
  {
   "cell_type": "code",
   "execution_count": null,
   "id": "d26a61c4-c211-490a-99b6-4a362bffbd21",
   "metadata": {
    "colab": {
     "base_uri": "https://localhost:8080/"
    },
    "id": "uY3eymEVKUps",
    "outputId": "04d655f5-e2fe-40cc-ec2d-c55e82348902"
   },
   "outputs": [],
   "source": [
    "#Search \n",
    "Data.loc[(\n",
    "    (\n",
    "        (Data['result_title'].str.contains(phrasedefault4_c_2a, na=False, case=False)) \n",
    "        | ((Data['result_title'].str.contains(phrasedefault4_c_2b, na=False, case=False)) & (Data['result_title'].str.contains(phrasedefault4_c_2c, na=False, case=False)))\n",
    "    )\n",
    "    & (Data['LMICs']==True)\n",
    "),\"tempsdg04_c\"] = \"SDG04_c\"\n",
    "\n",
    "print(\"Number of results = \", len(Data[(Data.tempsdg04_c == \"SDG04_c\")]))"
   ]
  },
  {
   "cell_type": "code",
   "execution_count": null,
   "id": "ca61ae95-39a4-4ad9-860c-7df58da797ae",
   "metadata": {
    "colab": {
     "base_uri": "https://localhost:8080/",
     "height": 173
    },
    "id": "3AepuoOM44lT",
    "outputId": "145011ac-189a-4c67-9d98-4625d0220c8c"
   },
   "outputs": [],
   "source": [
    "test=Data.loc[(Data.tempsdg04_c == \"SDG04_c\"), (\"result_id\", \"result_title\")]\n",
    "test.iloc[0:5, ]"
   ]
  },
  {
   "cell_type": "markdown",
   "id": "0e2e84ed-76a9-40fb-a4ee-e224cc9c79ad",
   "metadata": {
    "id": "hEiuz-plKCjL"
   },
   "source": [
    "### SDG 4 mentions"
   ]
  },
  {
   "cell_type": "code",
   "execution_count": null,
   "id": "2b8e5121-b097-4cd7-b560-55b8158bf724",
   "metadata": {
    "id": "JYFR1a0bRmSG"
   },
   "outputs": [],
   "source": [
    "#Termlists\n",
    "\n",
    "termlist_sdg4_a = [\"SDG 4\", \"SDGs 4\", \"SDG4\", \"sustainable development goal 4\", \n",
    "                  \"bærekraftsmål 4\", \"berekraftsmål 4\", \"berekraftmål 4\"]\n",
    "\n",
    "termlist_sdg4_b = [\"sustainable development goal\",\n",
    "                 \"bærekraftsmål\", \"berekraftsmål\", \"berekraftmål\"]\n",
    "                 \n",
    "termlist_sdg4_c = [\"goal 4\",\n",
    "                   \"mål 4\"]\n",
    "\n",
    "termlist_sdg4_d = [\"education\",\n",
    "                  \"utdann\", \"opplæring\", \"undervisning\", \"undervising\"]\n",
    "                  \n",
    "termlist_sdg4_e = [\"sustainable development goal\", \"SDG\", \"goal 4\", \n",
    "                 \"bærekraftsmål\", \"berekraftsmål\", \"berekraftmål\", \"mål 4\"]\n",
    "\n",
    "termlist_sdg4_f = [\"learning\", \"teaching\", \"teacher\", \"early childhood\", \"child development\", \n",
    "                  \"education for sustainable\", \"global citizenship education\", \"transdisciplinary education\", \n",
    "                  \"inclusive education\", \"formal education\", \"primary education\", \"secondary education\", \"tertiary education\", \n",
    "                  \"higher education\", \"right to education\", \"access to education\",  \"education for all\",  \"education sector\", \n",
    "                   \n",
    "                   \"utdann\", \"opplæring\", \"skolegang\", \"skulegang\", \"tidleg barndom\", \"tidlig barndom\", \n",
    "                   \"barns utvikling\", \"borns utvikling\"]\n",
    "\n",
    "termlist_sdg4_g = [\"quality education\", \"god utdanning\"]\n",
    "\n",
    "phrase_sdg4_a = r'(?:{})'.format('|'.join(termlist_sdg4_a))\n",
    "phrase_sdg4_b = r'(?:{})'.format('|'.join(termlist_sdg4_b))\n",
    "phrase_sdg4_c = r'(?:{})'.format('|'.join(termlist_sdg4_c))\n",
    "phrase_sdg4_d = r'(?:{})'.format('|'.join(termlist_sdg4_d))\n",
    "phrase_sdg4_e = r'(?:{})'.format('|'.join(termlist_sdg4_e))\n",
    "phrase_sdg4_f = r'(?:{})'.format('|'.join(termlist_sdg4_f))\n",
    "phrase_sdg4_g = r'(?:{})'.format('|'.join(termlist_sdg4_g))"
   ]
  },
  {
   "cell_type": "code",
   "execution_count": null,
   "id": "1f958f9a-03b6-438e-a397-01044aafc590",
   "metadata": {
    "colab": {
     "base_uri": "https://localhost:8080/"
    },
    "id": "k1Rkbm9fRxTw",
    "outputId": "c050cfe1-6422-406d-8b76-e81bee3fb4de"
   },
   "outputs": [],
   "source": [
    "#Search \n",
    "Data.loc[(\n",
    "      (Data['result_title'].str.contains(phrase_sdg4_a, na=False, case=False))\n",
    "      |((Data['result_title'].str.contains(phrase_sdg4_b, na=False, case=False)) & (Data['result_title'].str.contains(phrase_sdg4_c, na=False, case=False)))\n",
    "      |((Data['result_title'].str.contains(phrase_sdg4_d, na=False, case=False)) & (Data['result_title'].str.contains(phrase_sdg4_e, na=False, case=False)))\n",
    "      |((Data['result_title'].str.contains(phrase_sdg4_e, na=False, case=False)) & (Data['result_title'].str.contains(phrase_sdg4_f, na=False, case=False)))\n",
    "      |(Data['result_title'].str.contains(phrase_sdg4_g, na=False, case=False))\n",
    "),\"tempmentionsdg04\"] = \"SDG04\"\n",
    "    \n",
    "print(\"Number of results = \", len(Data[(Data.tempmentionsdg04 == \"SDG04\")])) "
   ]
  },
  {
   "cell_type": "code",
   "execution_count": null,
   "id": "e79f8488-afdd-476c-919c-fe89869533ce",
   "metadata": {
    "colab": {
     "base_uri": "https://localhost:8080/"
    },
    "id": "z-sLl7-mgqxL",
    "outputId": "af2bc376-5cc3-4e90-a710-c6f9462631e3"
   },
   "outputs": [],
   "source": [
    "test=Data.loc[(Data.tempmentionsdg04 == \"SDG04\"), (\"result_id\", \"result_title\")]\n",
    "test.iloc[0:5, ]"
   ]
  },
  {
   "cell_type": "markdown",
   "id": "ac069352-7bd9-40b8-b62e-b3f095f7fe8a",
   "metadata": {},
   "source": [
    "## SDG 7"
   ]
  },
  {
   "cell_type": "markdown",
   "id": "1fb9ece7-9486-4d6f-9b7d-7c69dcce787a",
   "metadata": {
    "id": "5F_l4hfIco7-"
   },
   "source": [
    "### SDG 7.1\n",
    "\n",
    "*By 2030, ensure universal access to affordable, reliable and modern energy services*\n",
    "\n",
    "*Innen 2030 sikre allmenn tilgang til pålitelige og moderne energitjenester til en overkommelig pris*"
   ]
  },
  {
   "cell_type": "markdown",
   "id": "60c7c8bd-1654-4d52-8416-d92e13422bad",
   "metadata": {
    "id": "E4GMrrsce3mm"
   },
   "source": [
    "#### Phrase 1"
   ]
  },
  {
   "cell_type": "code",
   "execution_count": null,
   "id": "9e2b8b6a-f04a-4ca1-a748-c29d53e151e7",
   "metadata": {
    "id": "J1OyLMbMnhye"
   },
   "outputs": [],
   "source": [
    "#Term lists\n",
    "termlist7_1a = [\"energy transition\", \n",
    "                \"energiomlegging\", \"energiomstilling\"]\n",
    "\n",
    "termlist7_1b = [\"household\", \"cooking\", \"stove\", \"lighting\", \"lamps\", \"heating\",\n",
    "                \"hushold\", \"hushald\", \"matlaging\", \"komfyr\", \"ovn\", \"lys\", \"lampe\", \"oppvarming\"]\n",
    "\n",
    "termlist7_1c = [\"clean fuel\", \"clean energy\", \"clean electricity\", \"clean cooking\", \"clean stove\", \"clean lighting\", \"clean lamp\", \"clean heating\",\n",
    "                \"modern fuel\", \"modern stove\", \"modern lighting\", \"modern lamps\", \"modern heating\",\n",
    "                \n",
    "                \"rent brennstoff\", \"reint brennstoff\", \"rentbrennende\", \"reintbrennande\", \"ren energi\", \"rein energi\", \"ren strøm\", \"rein straum\", \"ren elektrisitet\", \"rein elektrisitet\"]\n",
    "\n",
    "termlist7_1d = [\"household\", \"homes\", \"house\", \"housing\", \"residential\", \"dwelling\", \"domestic\", \"slum\", \"village\", \"women\", \n",
    "                \"hushold\", \"hushald\", \"hjem\", \"heim\", \"hus\", \"bolig\", \"bustad\", \"landsby\", \"kvinne\"]                                       \n",
    "\n",
    "phrasedefault7_1a = r'(?:{})'.format('|'.join(termlist7_1a))\n",
    "phrasedefault7_1b = r'(?:{})'.format('|'.join(termlist7_1b))\n",
    "phrasedefault7_1c = r'(?:{})'.format('|'.join(termlist7_1c))\n",
    "phrasedefault7_1d = r'(?:{})'.format('|'.join(termlist7_1d))"
   ]
  },
  {
   "cell_type": "code",
   "execution_count": null,
   "id": "93a544d9-26d5-4fc4-870a-3d981d535d97",
   "metadata": {
    "colab": {
     "base_uri": "https://localhost:8080/"
    },
    "id": "pQ4xsd9zqCYj",
    "outputId": "e4d07dd0-472b-449c-d29e-4cfa5341a30d"
   },
   "outputs": [],
   "source": [
    "#Search 7_1abcd - \n",
    "Data.loc[(\n",
    "      (\n",
    "          (\n",
    "            (Data['result_title'].str.contains(phrasedefault7_1a, na=False, case=False))\n",
    "            &(Data['result_title'].str.contains(phrasedefault7_1b, na=False, case=False))    \n",
    "          )     \n",
    "       |(Data['result_title'].str.contains(phrasedefault7_1c, na=False, case=False)) \n",
    "      )\n",
    "    & (Data['result_title'].str.contains(phrasedefault7_1d, na=False, case=False)) \n",
    "),\"tempsdg07_01\"] = \"SDG07_01\"\n",
    "\n",
    "print(\"Number of results = \", len(Data[(Data.tempsdg07_01 == \"SDG07_01\")])) "
   ]
  },
  {
   "cell_type": "code",
   "execution_count": null,
   "id": "b2f5d69e-31c9-4a6a-9d78-80d144bf6bde",
   "metadata": {
    "colab": {
     "base_uri": "https://localhost:8080/",
     "height": 378
    },
    "id": "zkvcvoNrxYfz",
    "outputId": "eb3e3f0b-80aa-4914-889c-f0300564d30a"
   },
   "outputs": [],
   "source": [
    "test=Data.loc[(Data.tempsdg07_01 == \"SDG07_01\"), (\"result_id\", \"result_title\")]\n",
    "test.iloc[0:5, ]"
   ]
  },
  {
   "cell_type": "markdown",
   "id": "6e8f386e-7546-4c86-830e-87c2be6481cb",
   "metadata": {
    "id": "L4h83VAd5_fR"
   },
   "source": [
    "#### Phrase 2"
   ]
  },
  {
   "cell_type": "code",
   "execution_count": null,
   "id": "b7f77aba-6d4e-4f15-8fd9-81333eb89ffa",
   "metadata": {
    "id": "6KA-gQUu6YNj"
   },
   "outputs": [],
   "source": [
    "#Term lists\n",
    "termlist7_1e = [\"solar cook\", \"solar box cook\", \"improved cookstove\", \"improved stove\", \"modern cookstove\", \"modern stove\",\n",
    "                \"solkok\", \"solovn\", \"solcelleovn\", \"solfyr\", \"solgrill\"]\n",
    "\n",
    "phrasedefault7_1e = r'(?:{})'.format('|'.join(termlist7_1e))"
   ]
  },
  {
   "cell_type": "code",
   "execution_count": null,
   "id": "5ff0366e-c2f4-48a4-adab-18899df968c0",
   "metadata": {
    "colab": {
     "base_uri": "https://localhost:8080/"
    },
    "id": "Q44ipFju9SWr",
    "outputId": "f7d3e357-3967-45ef-8b85-5ac6444eddfe"
   },
   "outputs": [],
   "source": [
    "#Search 7_1e\n",
    "Data.loc[(\n",
    " (Data['result_title'].str.contains(phrasedefault7_1e, na=False, case=False)) \n",
    "),\"tempsdg07_01\"] = \"SDG07_01\"\n",
    "\n",
    "print(\"Number of results = \", len(Data[(Data.tempsdg07_01 == \"SDG07_01\")])) "
   ]
  },
  {
   "cell_type": "code",
   "execution_count": null,
   "id": "62e4da71-566d-47bf-98bf-d7a6e770b7d0",
   "metadata": {
    "colab": {
     "base_uri": "https://localhost:8080/",
     "height": 240
    },
    "id": "4XEOz3_o-CKD",
    "outputId": "1a045270-5013-4663-b00f-7ac3dcff09f5"
   },
   "outputs": [],
   "source": [
    "test=Data.loc[(Data.tempsdg07_01 == \"SDG07_01\"), (\"result_id\", \"result_title\")]\n",
    "test.iloc[0:5, ]"
   ]
  },
  {
   "cell_type": "markdown",
   "id": "1dfb5239-d3e8-4da1-8c92-8d159816eebc",
   "metadata": {
    "id": "Sy8jyouS-_SH"
   },
   "source": [
    "#### Phrase 3"
   ]
  },
  {
   "cell_type": "code",
   "execution_count": null,
   "id": "dc4ee0ec-db93-4ac1-bae7-2ee083a6364e",
   "metadata": {
    "id": "ChvDWRBJ_VMI"
   },
   "outputs": [],
   "source": [
    "#Term lists\n",
    "termlist7_1f = [\"kerosene\", \"solid fuel.*\", \"coal\",\n",
    "                \"parafin.*\", \"fast bren.*\", \"koks\"]\n",
    "termlist7_1f2 = [\"kerosene\", \"solid fuel.*\",\n",
    "                 \"parafin.*\", \"fast bren.*\", \"koks\"]\n",
    "\n",
    "termlist7_1g = [\"household\", \"home\", \"hous\", \"residential\", \"dwelling\", \"domestic use\", \"slum\", \"residential heating\", \"central heating\", \"winter heating\",\n",
    "                \"cooking\", \"stove\", \"lighting\", \"lamps\",\n",
    "\n",
    "                \"hushold\", \"hushald\", \"hjem\", \"heim\", \"hus\", \"bolig\", \"bustad\", \"slum\",\n",
    "                \"oppvarming\", \"varme\", \"fyre\", \"fyring\", \"matlaging\", \"ovn\", \"lys\", \"belysning\", \"ljos\", \"lampe\"]\n",
    "                #There is no Norwegian translation of the search term \"coal\" as it only returns noise, not really a common fuel in Norway        \n",
    "\n",
    "termlist7_1g2 = [\"heating\"]\n",
    "    \n",
    "phrasespecific7_1f = r'\\b(?:{})\\b'.format('|'.join(termlist7_1f))\n",
    "phrasespecific7_1f2 = r'\\b(?:{})\\b'.format('|'.join(termlist7_1f2))\n",
    "phrasedefault7_1g = r'(?:{})'.format('|'.join(termlist7_1g))\n",
    "phrasedefault7_1g2 = r'(?:{})'.format('|'.join(termlist7_1g2))"
   ]
  },
  {
   "cell_type": "code",
   "execution_count": null,
   "id": "fec94bae-fb85-46e0-9375-fab0aa84f253",
   "metadata": {
    "colab": {
     "base_uri": "https://localhost:8080/"
    },
    "id": "4lALez7pC9K4",
    "outputId": "cb0982ba-f469-47ee-ce18-bf969f24f765"
   },
   "outputs": [],
   "source": [
    "#Search 7_1fg\n",
    "Data.loc[(\n",
    "    (\n",
    "        (Data['result_title'].str.contains(phrasespecific7_1f, na=False, case=False)) \n",
    "        & (Data['result_title'].str.contains(phrasedefault7_1g, na=False, case=False)) \n",
    "    )\n",
    "    |\n",
    "    (\n",
    "        (Data['result_title'].str.contains(phrasespecific7_1f2, na=False, case=False)) \n",
    "        & (Data['result_title'].str.contains(phrasedefault7_1g2, na=False, case=False)) \n",
    "    )\n",
    "),\"tempsdg07_01\"] = \"SDG07_01\"\n",
    "\n",
    "print(\"Number of results = \", len(Data[(Data.tempsdg07_01 == \"SDG07_01\")])) "
   ]
  },
  {
   "cell_type": "code",
   "execution_count": null,
   "id": "9420e3a2-53e6-463e-8ecd-35f496fd35d3",
   "metadata": {
    "colab": {
     "base_uri": "https://localhost:8080/",
     "height": 191
    },
    "id": "f1-M0j5oDwj1",
    "outputId": "9bd3567e-cb0e-451c-89d4-bd594b6dd8c8"
   },
   "outputs": [],
   "source": [
    "test=Data.loc[(Data.tempsdg07_01 == \"SDG07_01\"), (\"result_id\", \"result_title\")]\n",
    "test.iloc[0:8, ]"
   ]
  },
  {
   "cell_type": "markdown",
   "id": "b287c01f-7b3a-4e2b-9b9d-ac8970c206e6",
   "metadata": {
    "id": "QRJcqU4pDg32"
   },
   "source": [
    "#### Phrase 4\n"
   ]
  },
  {
   "cell_type": "code",
   "execution_count": null,
   "id": "ad9cd7af-7b27-41c3-932d-58b61e2d43ec",
   "metadata": {
    "id": "xi_1FGd6Dx8C"
   },
   "outputs": [],
   "source": [
    "#Term lists\n",
    "termlist7_1h = [\"energy poverty\", \"energy vulnerability\", \"fuel poverty\", \"energy democracy\", \"energy justice\", \"energy inequit\", \"energy security\", \"energy insecur\",\n",
    "                \"energifattigdom\", \"energisårbarhet\", \"energidemokrati\", \"energirettferdighet\", \"energisikkerhet\"] \n",
    "\n",
    "phrasedefault7_1h = r'(?:{})'.format('|'.join(termlist7_1h))"
   ]
  },
  {
   "cell_type": "code",
   "execution_count": null,
   "id": "88487e0f-da6b-46f2-b7f7-fb3265bbfc10",
   "metadata": {
    "colab": {
     "base_uri": "https://localhost:8080/"
    },
    "id": "eEE7aOHkIHCy",
    "outputId": "04382345-50d6-46f3-cb3d-8ed723d11d80"
   },
   "outputs": [],
   "source": [
    "#Search 7_1h\n",
    "Data.loc[(\n",
    "    (Data['result_title'].str.contains(phrasedefault7_1h, na=False, case=False)) \n",
    "),\"tempsdg07_01\"] = \"SDG07_01\"\n",
    "\n",
    "print(\"Number of results = \", len(Data[(Data.tempsdg07_01 == \"SDG07_01\")]))  "
   ]
  },
  {
   "cell_type": "code",
   "execution_count": null,
   "id": "1f211745-f6b9-40b6-a296-7021b93481e1",
   "metadata": {
    "colab": {
     "base_uri": "https://localhost:8080/",
     "height": 1000
    },
    "id": "Ec4llyAoH7c5",
    "outputId": "c14d20ff-ea69-4bf5-f382-bd4c4e5df7e6"
   },
   "outputs": [],
   "source": [
    "test=Data.loc[(Data.tempsdg07_01 == \"SDG07_01\"), (\"result_id\", \"result_title\")]\n",
    "test.iloc[0:5, ]"
   ]
  },
  {
   "cell_type": "markdown",
   "id": "1595b20d-7945-4b4c-9a68-eee4b3093437",
   "metadata": {
    "id": "TqvTkiAS7N9U"
   },
   "source": [
    "#### Phrase 5\n"
   ]
  },
  {
   "cell_type": "code",
   "execution_count": null,
   "id": "2f4f4ef3-8984-42ae-b512-f8da49f5daf0",
   "metadata": {
    "id": "GiVUXBzN8FW0"
   },
   "outputs": [],
   "source": [
    "#Term lists - \n",
    "termlist7_1i = [\"electricity\", \"energy\", \"power\", \"universal electrification\", \"rural electrification\", \"national electrification\", \"electrification\", \"grid extension\", \"grid extensions\",\n",
    "                \"access to energy\", \"provision of energy\", \"energy provision\", \"provision of electricity\", \"electricity provision\", \"electricity supply\", \"electrical supply\", \"power supply\",\n",
    "                \n",
    "                \"elektrisitet\", \"strøm\", \"straum\", \"energi\", \"kraft\", \"elektrifisering\", \"elektrisering\", \"mikronett\", \"øydrift\", \"tilgang til energi\", \"tilgang på energi\", \"energitilgang\",\n",
    "                \"tilgang til elektrisitet\", \"tilgang på elektrisitet\", \"tilgang til strøm\", \"tilgang til straum\", \"tilgang på strøm\", \"tilgang på straum\"]\n",
    "\n",
    "termlist7_1j = [\"household\", \"home\", \"house\", \"housing\", \"residential\", \"dwelling\", \"domestic use\", \"slum\", \"village\",\"sustainable\", \"green\", \"clean\",\"modern\",\n",
    "                \"hushold\", \"hushald\", \"hjem\", \"heim\", \"hus\", \"bolig\", \"bustad\", \"slum\", \"landsby\",\"bærekraftig\", \"berekraftig\", \"grøn\", \"ren\", \"rein\", \"moderne\"]\n",
    "\n",
    "termlist7_1k = [\"rural\", \"remote region\", \"remote area\", \"remote communit\",\n",
    "                \"landlig\", \"landsby\"]\n",
    "\n",
    "termlist7_1i2 = [\"universal electrification\", \"rural electrification\", \"national electrification\",\n",
    "                 \"elektrifisering\"]\n",
    "\n",
    "termlist7_1x = [\"access\", \"provision\",\n",
    "                \"tilgang\", \"tilbud\", \"tilbod\"]\n",
    "\n",
    "termlist7_1xt = [\"energy services\", \"energy supply\",\n",
    "                 \"energitjeneste\", \"energiteneste\", \"energiforsyning\", \"strømforsyning\", \"straumforsyning\", \"kraftforsyning\"]\n",
    "\n",
    "termlist7_1xtr = [\"electric\", \"energy\", \"power\",\n",
    "                  \"elektris\", \"energi\", \"kraft\"]\n",
    "\n",
    "termlist7_1xtra = [\"electrification\", \"grid extension\",\n",
    "                   \"elektrifiser\"]\n",
    "\n",
    "termlist7_1xtras = [\"energy\", \"electricity\", \"electrical supply\", \"power supply\",\n",
    "                    \"elektris\", \"energi\", \"strømforsyning\", \"straumforsyning\", \"kraftforsyning\"]\n",
    "\n",
    "phrasedefault7_1i = r'(?:{})'.format('|'.join(termlist7_1i))\n",
    "phrasedefault7_1j = r'(?:{})'.format('|'.join(termlist7_1j))\n",
    "phrasedefault7_1k = r'(?:{})'.format('|'.join(termlist7_1k))\n",
    "phrasedefault7_1i2 = r'(?:{})'.format('|'.join(termlist7_1i2))\n",
    "phrasedefault7_1x = r'(?:{})'.format('|'.join(termlist7_1x))\n",
    "phrasedefault7_1xt = r'(?:{})'.format('|'.join(termlist7_1xt))\n",
    "phrasedefault7_1xtr = r'(?:{})'.format('|'.join(termlist7_1xtr))\n",
    "phrasedefault7_1xtra = r'(?:{})'.format('|'.join(termlist7_1xtra))\n",
    "phrasedefault7_1xtras = r'(?:{})'.format('|'.join(termlist7_1xtras))"
   ]
  },
  {
   "cell_type": "code",
   "execution_count": null,
   "id": "6c0c26ff-e760-4ef9-a680-9e9f560aa0d0",
   "metadata": {},
   "outputs": [],
   "source": [
    "#Search 1 - in LMICs data\n",
    "Data.loc[(\n",
    "    (Data['result_title'].str.contains(phrasedefault7_1i2, na=False, case=False))\n",
    "    |\n",
    "    (\n",
    "        (Data['result_title'].str.contains(phrasedefault7_1x, na=False, case=False))\n",
    "        &\n",
    "        (\n",
    "            (Data['result_title'].str.contains(phrasedefault7_1xt, na=False, case=False))\n",
    "            |((Data['result_title'].str.contains(phrasedefault7_1xtr, na=False, case=False)) & (Data['result_title'].str.contains(phrasedefault7_1j, na=False, case=False)))\n",
    "        )\n",
    "    )\n",
    "    |\n",
    "    (\n",
    "        (\n",
    "            (Data['result_title'].str.contains(phrasedefault7_1xtra, na=False, case=False))\n",
    "            |((Data['result_title'].str.contains(phrasedefault7_1x, na=False, case=False)) & (Data['result_title'].str.contains(phrasedefault7_1xtras, na=False, case=False)))\n",
    "        )\n",
    "        & ((Data['LMICs']==True)|(Data['result_title'].str.contains(phrasedefault7_1k, na=False, case=False)))\n",
    "    )\n",
    "),\"tempsdg07_01\"] = \"SDG07_01\""
   ]
  },
  {
   "cell_type": "code",
   "execution_count": null,
   "id": "a346f873-b656-45ec-b208-d61fa0ea77fa",
   "metadata": {},
   "outputs": [],
   "source": [
    "print(\"Number of results = \", len(Data[(Data.tempsdg07_01 == \"SDG07_01\")])) "
   ]
  },
  {
   "cell_type": "code",
   "execution_count": null,
   "id": "555ab9b5-c16d-4788-b196-396ad300dd35",
   "metadata": {
    "colab": {
     "base_uri": "https://localhost:8080/",
     "height": 1000
    },
    "id": "l3Tw6l36lJuD",
    "outputId": "babcc186-7016-4e9d-fff6-7fa94586c82b"
   },
   "outputs": [],
   "source": [
    "test=Data.loc[(Data.tempsdg07_01 == \"SDG07_01\"), (\"result_id\", \"result_title\")]\n",
    "test.iloc[0:5, ]"
   ]
  },
  {
   "cell_type": "markdown",
   "id": "41ab0867-6c81-4355-882a-4f53729783c0",
   "metadata": {
    "id": "7xAI_WUXmWV3"
   },
   "source": [
    "#### Phrase 6"
   ]
  },
  {
   "cell_type": "code",
   "execution_count": null,
   "id": "2b56b796-9a4f-41ee-9135-ce6bd5a5f282",
   "metadata": {
    "id": "3v4mboemUd-P"
   },
   "outputs": [],
   "source": [
    "#Term lists\n",
    "termlist7_1l = [\"stable\", \"stability\", \"reliable\", \"reliability\", \"secur\", \"resilient\", \"resilience\", \"affordable\", \"affordability\", \"inexpensive\", \"low cost\", \"cheap\",\n",
    "                \"unstable\", \"instability\", \"unreliable\", \"unreliability\", \"unaffordable\", \"costly\", \"energy cost\", \"expensive\",\n",
    "                \n",
    "                \"stabil\", \"pålitelig\", \"påliteleg\", \"sikker\", \"robust\", \"rimelig\", \"rimeleg\", \"billig\", \"ustabil\", \"upålitelig\", \"upåliteleg\", \"kostbar\", \"dyr\"]\n",
    "\n",
    "termlist7_1m = [\"energy services\", \"electric supply\",\n",
    "                \"energitjeneste\", \"energiteneste\", \"energiforsyning\", \"strømforsyning\", \"straumforsyning\", \"kraftforsyning\"]\n",
    "\n",
    "termlist7_1n = [\"energy\", \"power\", \"electricity\",\n",
    "                \"energi\", \"strøm\", \"straum\", \"kraft\", \"elektrisitet\"]\n",
    "\n",
    "termlist7_1o = [\"household\", \"home\", \"house\", \"housing\", \"residential\", \"dwelling\", \"domestic use\", \"slum\", \"village\", \"sustainable\",\n",
    "                \"hushold\", \"hushald\", \"hjem\", \"heim\", \"hus\", \"bolig\", \"bustad\", \"slum\", \"landsby\", \"bærekraftig\", \"berekraftig\",\n",
    "                \"forsyningssikkerhet\", \"forsyningssikkerheit\"]\n",
    "\n",
    "termlist7_1p = [\"microgrid\", \"micro grid\", \"minigrid\", \"mini grid\", \"off grid solution\", \"off-grid system\",\n",
    "                \"mikronett\", \"øydrift\"]\n",
    "\n",
    "termlist7_1q = [\"energy\", \"electricity\",\n",
    "                \"energi\", \"elektrisitet\", \"strøm\", \"straum\", \"kraft\"]\n",
    "\n",
    "termlist7_1r = [\"infrastructure\", \"off grid\", \"decentralised\", \"decentralized\", \"cooperative\",\n",
    "                \"infrastruktur\", \"desentralisert\", \"kooperativ\"]\n",
    "\n",
    "termlist7_1s = [\"community energy\", \"community renewable energy\",\n",
    "                \"energisamfunn\"]\n",
    "\n",
    "phrasedefault7_1l = r'(?:{})'.format('|'.join(termlist7_1l))\n",
    "phrasedefault7_1m = r'(?:{})'.format('|'.join(termlist7_1m))\n",
    "phrasedefault7_1n = r'(?:{})'.format('|'.join(termlist7_1n))\n",
    "phrasedefault7_1o = r'(?:{})'.format('|'.join(termlist7_1o))\n",
    "phrasedefault7_1p = r'(?:{})'.format('|'.join(termlist7_1p))\n",
    "phrasedefault7_1q = r'(?:{})'.format('|'.join(termlist7_1q))\n",
    "phrasedefault7_1r = r'(?:{})'.format('|'.join(termlist7_1r))\n",
    "phrasedefault7_1s = r'(?:{})'.format('|'.join(termlist7_1s))"
   ]
  },
  {
   "cell_type": "code",
   "execution_count": null,
   "id": "620ab24d-73be-46d9-915a-87396af1a926",
   "metadata": {
    "colab": {
     "base_uri": "https://localhost:8080/"
    },
    "id": "e1o6ehl2SiT5",
    "outputId": "12c211e7-0d5f-4d90-9861-7ed0ebc24068"
   },
   "outputs": [],
   "source": [
    "#Search 7_1lmnopqrs\n",
    "Data.loc[(\n",
    "    (Data['result_title'].str.contains(phrasedefault7_1l, na=False, case=False))\n",
    "    &\n",
    "    (\n",
    "        (Data['result_title'].str.contains(phrasedefault7_1m, na=False, case=False))\n",
    "        |((Data['result_title'].str.contains(phrasedefault7_1n, na=False, case=False)) & (Data['result_title'].str.contains(phrasedefault7_1o, na=False, case=False)))\n",
    "        |(Data['result_title'].str.contains(phrasedefault7_1p, na=False, case=False))\n",
    "        |((Data['result_title'].str.contains(phrasedefault7_1q, na=False, case=False)) & (Data['result_title'].str.contains(phrasedefault7_1r, na=False, case=False)))\n",
    "        |(Data['result_title'].str.contains(phrasedefault7_1s, na=False, case=False))\n",
    "    )\n",
    "),\"tempsdg07_01\"] = \"SDG07_01\"\n",
    "\n",
    "print(\"Number of results = \", len(Data[(Data.tempsdg07_01 == \"SDG07_01\")]))  "
   ]
  },
  {
   "cell_type": "code",
   "execution_count": null,
   "id": "9d96d98f-3983-4c6e-9a81-614951328d42",
   "metadata": {
    "colab": {
     "base_uri": "https://localhost:8080/",
     "height": 1000
    },
    "id": "TbWg_glcaIL0",
    "outputId": "18142a37-33c5-47c6-f03d-76ca68c5ea9d"
   },
   "outputs": [],
   "source": [
    "test=Data.loc[(Data.tempsdg07_01 == \"SDG07_01\"), (\"result_id\", \"result_title\")]\n",
    "test.iloc[0:5, ]"
   ]
  },
  {
   "cell_type": "markdown",
   "id": "5d16647f-9e83-489f-9d6a-7ed2b54f22b7",
   "metadata": {
    "id": "AWpHYPtC0d39"
   },
   "source": [
    "### SDG 7.2\n",
    "\n",
    "*By 2030, increase substantially the share of renewable energy in the global energy mix*\n",
    "\n",
    "*Innen 2030 øke andelen fornybar energi i verdens samlede energiforbruk betydelig*"
   ]
  },
  {
   "cell_type": "markdown",
   "id": "1b5ca133-d162-46ce-9c9a-35cd350e318d",
   "metadata": {
    "id": "9vc6KVpJ0zqG"
   },
   "source": [
    "#### Phrase 1"
   ]
  },
  {
   "cell_type": "code",
   "execution_count": null,
   "id": "4791222a-dab8-4dca-8aaa-b6ebbeb96646",
   "metadata": {
    "id": "-dp2U2rSehZe"
   },
   "outputs": [],
   "source": [
    "# Term lists\n",
    "termlist7_2a = [\"renewable\",\n",
    "                \"fornybar\"]\n",
    "\n",
    "termlist7_2b = [\"energy transition\", \"sector transformation\", \"energy transformation\",\n",
    "                \"omstilling\", \"endring\", \"transform\"]\n",
    "\n",
    "termlist7_2c = [\"renewable energy\",\n",
    "                \"fornybar energi\"]\n",
    "\n",
    "termlist7_2d = [\"substitut\", \"uptake\",\n",
    "                \"erstat\", \"overgang\"]\n",
    "\n",
    "phrasedefault7_2a = r'(?:{})'.format('|'.join(termlist7_2a))\n",
    "phrasedefault7_2b = r'(?:{})'.format('|'.join(termlist7_2b))\n",
    "phrasedefault7_2c = r'(?:{})'.format('|'.join(termlist7_2c))\n",
    "phrasedefault7_2d = r'(?:{})'.format('|'.join(termlist7_2d))"
   ]
  },
  {
   "cell_type": "code",
   "execution_count": null,
   "id": "75e0279b-9029-43c8-a614-bdc65a33b3fc",
   "metadata": {
    "colab": {
     "base_uri": "https://localhost:8080/"
    },
    "id": "Nzh5VzkFfoAZ",
    "outputId": "c7fd0f38-16af-4fb9-f11c-652cb8614267"
   },
   "outputs": [],
   "source": [
    "#Search 7_2abcd\n",
    "Data.loc[(\n",
    "    ((Data['result_title'].str.contains(phrasedefault7_2a, na=False, case=False)) & (Data['result_title'].str.contains(phrasedefault7_2b, na=False, case=False)))\n",
    "    |((Data['result_title'].str.contains(phrasedefault7_2c, na=False, case=False)) & (Data['result_title'].str.contains(phrasedefault7_2d, na=False, case=False)))   \n",
    "),\"tempsdg07_02\"] = \"SDG07_02\"\n",
    "\n",
    "print(\"Number of results = \", len(Data[(Data.tempsdg07_02 == \"SDG07_02\")])) "
   ]
  },
  {
   "cell_type": "code",
   "execution_count": null,
   "id": "f714ca65-dfa7-42dc-9645-f37f7d83d1bd",
   "metadata": {
    "colab": {
     "base_uri": "https://localhost:8080/",
     "height": 490
    },
    "id": "rs3gZYvZgJ5v",
    "outputId": "d90a94de-81c4-4f73-a64c-46bb6f72ac5c"
   },
   "outputs": [],
   "source": [
    "test=Data.loc[(Data.tempsdg07_02 == \"SDG07_02\"), (\"result_id\", \"result_title\")]\n",
    "test.iloc[0:5, ]"
   ]
  },
  {
   "cell_type": "markdown",
   "id": "c0886b05-5615-44e4-8286-bef68167e463",
   "metadata": {
    "id": "qW8ZeA2qumDg"
   },
   "source": [
    "#### Phrase 2\n"
   ]
  },
  {
   "cell_type": "code",
   "execution_count": null,
   "id": "36745a2a-05a9-4c5d-a34b-ae645a26bd4a",
   "metadata": {
    "id": "IYRdkLJn5Rai"
   },
   "outputs": [],
   "source": [
    "# Term lists\n",
    "termlist7_2c = [\"relian\", \"primary use\", \"primary usage\", \"primary source\", \"adopt\", \"implementation\", \"uptake\", \"contribution\", \"proportion\", \"share\", \"expansion\", \"feasibility\", \n",
    "                \"attractiveness\", \"incentive\", \"initiative\", \"affordab\", \"inexpensive\", \"low cost\", \"economic viability\", \"cost-effectiveness\", \n",
    "                \"cost-advantage\", \"investment\", \"investing\", \"investor\", \"subsidies\", \"subsidisation\", \"subsidization\", \"financing\", \"funding\", \n",
    "                \"commercialisation\", \"commercialization\", \"energy service\", \"energy sector\", \"generation\", \"capacity\", \"global energy\", \n",
    "                \"global electricity\", \"energy mix\", \"market share\", \"barrier\", \"obstacle\", \"implement\", \"incentivi\", \"energy transition\", \n",
    "                \"renewable transition\", \"transition to\", \"energy certificat\", \"green certificat\", \"policy\", \"policies\", \"legislation\", \"kyoto protocol\",\n",
    "                \"strateg\", \"energy management\", \"energy planning\", \"subsidise\", \"subsidize\", \"green bond\", \"climate bond\" \"feed-in tariff\", \"upscale\", \"scale-up\", \n",
    "                \"commercial development\", \"development commercially\", \"roll out\", \"rollout\", \"sustainable development\", \"sustainable energy development\",\n",
    "\n",
    "                \"avhengig\", \"primær bruk\", \"primærbruk\", \"primær kilde\", \"primær kjelde\", \"primærkilde\", \"primærkjelde\", \"ta i bruk\", \"implementer\", \"oppfat\", \n",
    "                \"bidra\", \"utvid\", \"gjennomfør\", \"attraktiv\", \"insentiv\", \"initiativ\", \"rimelig\", \"rimeleg\", \"billig\", \"billeg\", \"lav kost\", \"låg kost\", \n",
    "                \"kostnadseffektiv\", \"invester\", \"subsidie\", \"finansiering\", \"kommersialisering\", \"energitjeneste\", \"energiteneste\", \"energisektor\", \"produksjon\",\n",
    "                \"kapasitet\", \"global energi\", \"global elektrisitet\", \"energimiks\", \"markedsandel\", \"marknadsdel\", \n",
    "                \"barriere\", \"hinder\", \"hindring\", \"energiomstilling\", \"omstilling til fornybar\", \"overgang\", \"fornybar\", \n",
    "                \"elsertifi\", \"grønn sertifi\", \"grøn sertifi\", \"politikk\", \"retningslin\", \"lovgiv\", \"lovgjev\", \"kyotoprotokollen\", \"kyotoavtalen\", \n",
    "                \"energiledelse\", \"energileiing\", \"energiplanlegging\", \"invester\", \"grønne obligasjon\", \"grøne obligasjon\", \"klimaobligasjon\",\n",
    "                \"innmatingstariff\", \"oppskaler\", \"kommersiell utvikling\", \"lanser\", \"rulle ut\", \"utrulling\", \n",
    "                \"bærekraftig utvikling\", \"berekraftig utvikling\", \"bærekraftig energiutvikling\", \"berekraftig energiutvikling\"]\n",
    "termlist7_2ctrunk = [\"invest\", \n",
    "                     \"andel\", \"andeler\", \"del\"]                \n",
    "termlist7_2d = [\"non conventional energy\", \n",
    "                \"alternativ energi\"]\n",
    "termlist7_2e = [\"electricity\", \"power\", \"energy\", \n",
    "                \"elektrisitet\", \"kraft\", \"strøm\", \"straum\", \"energi\"]\n",
    "termlist7_2f = [\"renewable\", \"sustainable\", \"green\", \"hydrothermal\", \"geothermal\", \"hydroelectric\", \"hydropower\", \"hydro\", \"hydrokinetic\",\n",
    "                \"fornybar\", \"bærekraftig\", \"berekraftig\", \"grøn\", \"hydroterm\", \"varmekraft\", \"geoterm\", \"hydroelektris\", \"vannkraft\", \"vasskraft\", \"hydrokinetisk\"]\n",
    "termlist7_2g = [\"geothermal heat pump\", \"ground source heat pump\", \"solar cell\", \"solar-cell\", \"solar panel\", \"solar-panel\", \"solar power\", \"solar array\", \"solar PV\", \n",
    "                \"photovoltaic\", \"solar energy collector\", \"solar farm\", \"solar plant\", \"solar park\", \"solar district heating\", \"solar district cooling\", \n",
    "                \"solar air heating system\", \"solar space heating system\", \n",
    "                \"varmepumpe\", \"solcelle\", \"solkraft\", \"solenergi\", \"fotovoltaisk\", \"solfang\", \"solsaml\", \"solvarm\", \"solpark\", \"solcellepark\"] \n",
    "termlist7_2h = [\"solar thermal\", \n",
    "                \"sol\", \"solvarme\"]\n",
    "termlist7_2i = [\"power\", \"technolog\", \"collector\", \"district\", \n",
    "                \"kraft\", \"teknologi\", \"saml\", \"distrikt\"]\n",
    "termlist7_2j = [\"solar thermal energy\", \n",
    "                \"solenergi\", \"solvarm\"]\n",
    "termlist7_2k = [\"power\", \"electric\", \"water heating\", \"industrial process heat\", \n",
    "                \"kraft\", \"elektris\", \"vann\", \"vass\", \"spillvarme\"]              \n",
    "termlist7_2l = [\"wind farm\", \"wind turbine\", \"wind park\", \"wind factory\", \"wind factories\", \"wind energy\",\n",
    "                \"tidal turbine\", \"stream turbine\", \"current turbine\", \"tidal power\", \"tidal energy\", \"marine energy\",\n",
    "                \"vindkraftverk\", \"vindturbin\", \"vindpark\", \"vindmøllepark\", \"havvind\", \"vindenergi\",\n",
    "                \"tidevannsturbin\", \"havstrømturbin\", \"tidevannskraft\", \"tidevannsenergi\", \"marin energi\", \"havenergi\"]\n",
    "termlist7_2m = [\"wave energy\", \n",
    "                \"bølgeenergi\", \"bølgjeenergi\", \"bølgekraft\", \"bølgjekraft\"]              \n",
    "termlist7_2n = [\"converter\", \"renewable\", \"power\", \"generat\", \"energy harvesting\", \n",
    "                \"omdann\", \"omform\", \"konverter\", \"fornybar\", \"kraft\", \"energi\"] \n",
    "termlist7_2o = [\"biofuel\", \"bioenergy\", \"biodiesel\", \n",
    "                \"biodrivstoff\", \"bioenergi\"]\n",
    "termlist7_2p = [\"biomass\", \"wind\", \"solar\", \"ammonia\", \n",
    "                \"vind\", \"sol\"]\n",
    "termlist7_2q = [\"electric\", \"energy\", \"power system\",\n",
    "                \"elektrisk\", \"energi\", \"kraftsystem\"]\n",
    "termlist7_2r = [\"hydrogen\"]\n",
    "termlist7_2s = [\"renewable\", \"green\", \n",
    "                \"fornybar\", \"bærekraft\", \"berekraft\", \"grøn\"]\n",
    "termlist7_2t = [\"fuel cell\", \"battery\", \"batteries\", \"lithium ion\", \"energy storage\", \"smart grid\", \"smart-grid\",\n",
    "                \"brenselcelle\", \"brenselscelle\", \"brenslecelle\", \"batteri\", \"litium-ion\", \"energilagring\", \"smartgrid\", \"smartnett\"]\n",
    "termlist7_2u = [\"renewab\", \"sustainab\", \n",
    "                \"fornybar\", \"bærekraft\", \"berekraft\"]\n",
    "\n",
    "phrasedefault7_2c = r'(?:{})'.format('|'.join(termlist7_2c))\n",
    "phrasespecific7_2c = r'\\b(?:{})\\b'.format('|'.join(termlist7_2ctrunk))\n",
    "phrasedefault7_2d = r'(?:{})'.format('|'.join(termlist7_2d))\n",
    "phrasespecific7_2e = r'\\b(?:{})'.format('|'.join(termlist7_2e))\n",
    "phrasedefault7_2f = r'(?:{})'.format('|'.join(termlist7_2f))\n",
    "phrasedefault7_2g = r'(?:{})'.format('|'.join(termlist7_2g))\n",
    "phrasedefault7_2h = r'(?:{})'.format('|'.join(termlist7_2h))\n",
    "phrasedefault7_2i = r'(?:{})'.format('|'.join(termlist7_2i))\n",
    "phrasedefault7_2j = r'(?:{})'.format('|'.join(termlist7_2j))\n",
    "phrasedefault7_2k = r'(?:{})'.format('|'.join(termlist7_2k))\n",
    "phrasedefault7_2l = r'(?:{})'.format('|'.join(termlist7_2l))\n",
    "phrasedefault7_2m = r'(?:{})'.format('|'.join(termlist7_2m))\n",
    "phrasedefault7_2n = r'(?:{})'.format('|'.join(termlist7_2n))\n",
    "phrasedefault7_2o = r'(?:{})'.format('|'.join(termlist7_2o))\n",
    "phrasedefault7_2p = r'(?:{})'.format('|'.join(termlist7_2p))\n",
    "phrasedefault7_2q = r'(?:{})'.format('|'.join(termlist7_2q))\n",
    "phrasedefault7_2r = r'(?:{})'.format('|'.join(termlist7_2r))\n",
    "phrasedefault7_2s = r'(?:{})'.format('|'.join(termlist7_2s))\n",
    "phrasedefault7_2t = r'(?:{})'.format('|'.join(termlist7_2t))\n",
    "phrasedefault7_2u = r'(?:{})'.format('|'.join(termlist7_2u))"
   ]
  },
  {
   "cell_type": "code",
   "execution_count": null,
   "id": "2cf773c6-f60a-4002-a6ce-828dd7ed40b7",
   "metadata": {
    "colab": {
     "base_uri": "https://localhost:8080/"
    },
    "id": "d9TFUF5V3MSP",
    "outputId": "dbf0f475-469c-4a98-9d3b-d224356d52cc"
   },
   "outputs": [],
   "source": [
    "Data.loc[(\n",
    "    ((Data['result_title'].str.contains(phrasedefault7_2c, na=False, case=False))|(Data['result_title'].str.contains(phrasespecific7_2c, na=False, case=False))) \n",
    "    &\n",
    "    (\n",
    "        (Data['result_title'].str.contains(phrasedefault7_2d, na=False, case=False))\n",
    "        | ((Data['result_title'].str.contains(phrasespecific7_2e, na=False, case=False)) & (Data['result_title'].str.contains(phrasedefault7_2f, na=False, case=False)))\n",
    "        | (Data['result_title'].str.contains(phrasedefault7_2g, na=False, case=False))\n",
    "        | ((Data['result_title'].str.contains(phrasedefault7_2h, na=False, case=False)) & (Data['result_title'].str.contains(phrasedefault7_2i, na=False, case=False)))\n",
    "        | ((Data['result_title'].str.contains(phrasedefault7_2j, na=False, case=False)) & (Data['result_title'].str.contains(phrasedefault7_2k, na=False, case=False)))  \n",
    "        | (Data['result_title'].str.contains(phrasedefault7_2l, na=False, case=False))\n",
    "        | ((Data['result_title'].str.contains(phrasedefault7_2m, na=False, case=False)) & (Data['result_title'].str.contains(phrasedefault7_2n, na=False, case=False)))\n",
    "        | (Data['result_title'].str.contains(phrasedefault7_2o, na=False, case=False)) \n",
    "        | ((Data['result_title'].str.contains(phrasedefault7_2p, na=False, case=False)) & (Data['result_title'].str.contains(phrasedefault7_2q, na=False, case=False)))  \n",
    "        | ((Data['result_title'].str.contains(phrasedefault7_2r, na=False, case=False)) & (Data['result_title'].str.contains(phrasedefault7_2s, na=False, case=False)))   \n",
    "        | ((Data['result_title'].str.contains(phrasedefault7_2t, na=False, case=False)) & (Data['result_title'].str.contains(phrasedefault7_2u, na=False, case=False)))  \n",
    "    )\n",
    "),\"tempsdg07_02\"] = \"SDG07_02\"\n",
    "\n",
    "print(\"Number of results = \", len(Data[(Data.tempsdg07_02 == \"SDG07_02\")]))  "
   ]
  },
  {
   "cell_type": "code",
   "execution_count": null,
   "id": "57022965-f9ab-4da5-bbbb-93413483df11",
   "metadata": {
    "colab": {
     "base_uri": "https://localhost:8080/",
     "height": 1000
    },
    "id": "8rXpyrsrCQWn",
    "outputId": "3db7f4e6-e721-4d3e-ab2f-c77cdd29423e"
   },
   "outputs": [],
   "source": [
    "test=Data.loc[(Data.tempsdg07_02 == \"SDG07_02\"), (\"result_id\", \"result_title\")]\n",
    "test.iloc[0:5, ]"
   ]
  },
  {
   "cell_type": "markdown",
   "id": "a0661ac8-014f-4709-81eb-558f83c38e5e",
   "metadata": {
    "id": "cP7ftH2iRq7X"
   },
   "source": [
    "#### Phrase 3"
   ]
  },
  {
   "cell_type": "code",
   "execution_count": null,
   "id": "7dae73ee-178a-4d0f-b1d3-0da5fc00fd87",
   "metadata": {
    "id": "oYkbs5A-R-Xw"
   },
   "outputs": [],
   "source": [
    "# Term lists\n",
    "termlist7_2m = [\"fossil fuel\", \"natural gas\", \"grey hydrogen\", \"conventional energy\",\n",
    "                \"fossilt brensel\", \"fossile brensl\", \"fossilt brennstoff\", \"fossile brennstoff\", \"naturgass\", \"grått hydrogen\", \"konvensjonell energi\"]\n",
    "termlist7_2mtrunk = [\"coal\", \"oil\",\n",
    "                     \"kull\", \"kol\", \"olje\", \"råolje\", \"petroleum\"]\n",
    "\n",
    "termlist7_2n = [\"reduc\", \"decreas\", \"improv\", \"support\", \"encourag\", \"intervention\", \"policy\", \"policies\", \"legislation\", \"incentiv\",\n",
    "                \"reduser\", \"reduksjon\", \"mink\", \"bedre\", \"betr\", \"støtte\", \"stønad\", \"oppmuntr\", \"oppmod\", \"intervensjon\", \"inngrip\", \"politikk\", \"retningslin\", \"lovgiv\", \"insentiv\"]\n",
    "\n",
    "termlist7_2o = [\"reliance\", \"consumption\", \"transition\", \"substitut\", \"primary source\",\n",
    "                \"avhengig\", \"forbruk\", \"overgang\", \"erstat\", \"primærkilde\"]\n",
    "\n",
    "termlist7_2ptrunk = [\"use\", \"usage\", \n",
    "                     \"bruk\"]\n",
    "\n",
    "termlist7_2q = [\"phase out\", \"phasing out\", \"energy transition\", \"energy strateg\", \"energy management\", \"energy planning\", \"energy policy\",\n",
    "                \"energy services\", \"energy sector\", \"energy supply\", \"energy supplies\", \"energy generation\", \"global share\", \"global electricity\", \"energy mix\",\n",
    "                \"coal consumption\", \"fossil fuel consumption\", \"consumption of fossil fuel\", \"primary source\",\n",
    "                \n",
    "                \"utfas\", \"fase ut\", \"energistrategi\", \"energiledelse\", \"energileiing\", \"energiplan\", \"energipolitikk\", \"energitjeneste\", \"energiteneste\",\n",
    "                \"global andel\", \"global elektrisitet\", \"energimiks\", \"forbruk\", \"primær kilde\", \"primær kjelde\", \"primærkilde\", \"primærkjelde\"]\n",
    "\n",
    "termlist7_2r = [\"fossil fuel\", \"natural gas\", \"grey hydrogen\", \"conventional energy\", \"petroleum\",\n",
    "                \"fossilt brensel\", \"fossile brensl\", \"fossilt brennstoff\", \"fossile brennstoff\", \"naturgass\", \"grått hydrogen\", \"konvensjonell energi\"]\n",
    "\n",
    "termlist7_2NOT = [\"palm oil\", \"oil palm\", \"olive oil\", \"coconut oil\", \"vegetable oil\", \"eucalyptus oil\", \"cooking oil\", \"fish oil\", \"liver oil\",\n",
    "                  \"nutrition\", \"cholesterol\", \"obes\", \"human consum\",\n",
    "                  \"cylinder oil\", \"lubricat\", \"lube oil\", \"engine oil\"\n",
    "                 ] #Not an issue in Norwegian as \"olje\" is normally used as part of another word (e.g. \"olivenolje\")\n",
    "\n",
    "phrasedefault7_2m = r'(?:{})'.format('|'.join(termlist7_2m))\n",
    "phrasespecific7_2mtrunk = r'\\b(?:{})\\b'.format('|'.join(termlist7_2mtrunk))\n",
    "phrasedefault7_2n = r'(?:{})'.format('|'.join(termlist7_2n))\n",
    "phrasedefault7_2o = r'(?:{})'.format('|'.join(termlist7_2o))\n",
    "phrasespecific7_2ptrunk = r'\\b(?:{})\\b'.format('|'.join(termlist7_2ptrunk))\n",
    "phrasedefault7_2q = r'(?:{})'.format('|'.join(termlist7_2q))\n",
    "phrasedefault7_2r = r'(?:{})'.format('|'.join(termlist7_2r))\n",
    "phrasedefault7_2NOT = r'(?:{})'.format('|'.join(termlist7_2NOT))"
   ]
  },
  {
   "cell_type": "code",
   "execution_count": null,
   "id": "ff587210-77bc-4fa1-a4f2-8477806ebaa1",
   "metadata": {
    "colab": {
     "base_uri": "https://localhost:8080/"
    },
    "id": "LEM-6Ok7-bT9",
    "outputId": "ae10abc2-3dec-4e4b-ebfb-72e390b10b68"
   },
   "outputs": [],
   "source": [
    "#Search 7_2mnop\n",
    "Data.loc[(\n",
    "    (\n",
    "        (\n",
    "            (\n",
    "                (Data['result_title'].str.contains(phrasedefault7_2m, na=False, case=False))\n",
    "                |(Data['result_title'].str.contains(phrasespecific7_2mtrunk, na=False, case=False))\n",
    "            )\n",
    "        &\n",
    "            (\n",
    "                ((Data['result_title'].str.contains(phrasedefault7_2n, na=False, case=False)) & (Data['result_title'].str.contains(phrasespecific7_2ptrunk, na=False, case=False)))\n",
    "                | (Data['result_title'].str.contains(phrasedefault7_2o, na=False, case=False))\n",
    "            )\n",
    "        )\n",
    "    |\n",
    "        (\n",
    "            (\n",
    "                (Data['result_title'].str.contains(phrasedefault7_2r, na=False, case=False))\n",
    "                |(Data['result_title'].str.contains(phrasespecific7_2mtrunk, na=False, case=False))\n",
    "            )\n",
    "        & (Data['result_title'].str.contains(phrasedefault7_2q, na=False, case=False))\n",
    "        )\n",
    "    )\n",
    "    & (~Data['result_title'].str.contains(phrasedefault7_2NOT, na=False, case=False))\n",
    "),\"tempsdg07_02\"] = \"SDG07_02\"\n",
    "\n",
    "print(\"Number of results = \", len(Data[(Data.tempsdg07_02 == \"SDG07_02\")]))  "
   ]
  },
  {
   "cell_type": "code",
   "execution_count": null,
   "id": "6a3f22e1-e7a4-49e6-bb64-ad300a25b4a0",
   "metadata": {
    "colab": {
     "base_uri": "https://localhost:8080/",
     "height": 1000
    },
    "id": "B1lAq7T3NciC",
    "outputId": "a5ed203a-edcc-46a4-e3dd-fe9b2befb92d"
   },
   "outputs": [],
   "source": [
    "test=Data.loc[(Data.tempsdg07_02 == \"SDG07_02\"), (\"result_id\", \"result_title\")]\n",
    "test.iloc[0:25, ]"
   ]
  },
  {
   "cell_type": "markdown",
   "id": "c88c86fe-2845-443a-b567-f5c28223a54b",
   "metadata": {
    "id": "xax0Sa60ndlS"
   },
   "source": [
    "### SDG 7.3\n",
    "\n",
    "*By 2030, double the global rate of improvement in energy efficiency*\n",
    "\n",
    "*Innen 2030 få forbedringen av energieffektivitet på verdensbasis til å gå dobbelt så fort*"
   ]
  },
  {
   "cell_type": "markdown",
   "id": "1cfdf9cd-4fae-4a04-a543-cebac7fbe7aa",
   "metadata": {
    "id": "kkig82qAnkqB"
   },
   "source": [
    "#### Phrase 1\n",
    "This search is simplified compared to the WOS search, to adapt to a title search."
   ]
  },
  {
   "cell_type": "code",
   "execution_count": null,
   "id": "9c1bb4a0-0498-4a41-9920-f0e447474e28",
   "metadata": {
    "id": "Xi5OYrHpo0xI"
   },
   "outputs": [],
   "source": [
    "# Term lists\n",
    "termlist7_3a = [\"energy intensity\", \n",
    "                \"energiintensitet\" ]\n",
    "\n",
    "# As \"energy intensity\" is such a specialized term, we found it sufficient to search for it alone in the title search.\n",
    "\n",
    "phrasedefault7_3a = r'(?:{})'.format('|'.join(termlist7_3a))"
   ]
  },
  {
   "cell_type": "code",
   "execution_count": null,
   "id": "b3a9129a-7f52-4666-88bb-e79ae7d87a1e",
   "metadata": {
    "colab": {
     "base_uri": "https://localhost:8080/"
    },
    "id": "bZcJZ2bet7ip",
    "outputId": "c51fd71a-30ec-436a-bcdb-9a849415801c"
   },
   "outputs": [],
   "source": [
    "## Search 7_3a \n",
    "Data.loc[(\n",
    " (Data['result_title'].str.contains(phrasedefault7_3a, na=False, case=False))\n",
    "),\"tempsdg07_03\"] = \"SDG07_03\"\n",
    "\n",
    "print(\"Number of results = \", len(Data[(Data.tempsdg07_03 == \"SDG07_03\")]))  "
   ]
  },
  {
   "cell_type": "code",
   "execution_count": null,
   "id": "b19b9c4e-15ac-418d-a1d5-e6bcb1f12bb8",
   "metadata": {
    "colab": {
     "base_uri": "https://localhost:8080/",
     "height": 671
    },
    "id": "pMaV1kLtuIgL",
    "outputId": "072382f9-2924-4889-f12c-6fd481442926"
   },
   "outputs": [],
   "source": [
    "test=Data.loc[(Data.tempsdg07_03 == \"SDG07_03\"), (\"result_id\", \"result_title\")]\n",
    "test.iloc[0:5, ]"
   ]
  },
  {
   "cell_type": "markdown",
   "id": "c2f14836-4fb2-47c2-bc0c-2882499733bb",
   "metadata": {
    "id": "scvdOgumnyLJ"
   },
   "source": [
    "#### Phrase 2\n",
    "This search is simplified compared to the WOS search, to adapt to a title search."
   ]
  },
  {
   "cell_type": "code",
   "execution_count": null,
   "id": "11f86a8f-ae80-4ffb-b5f0-0e42c47e5f45",
   "metadata": {
    "id": "J_Gcc9tsZz3M"
   },
   "outputs": [],
   "source": [
    "# Term lists\n",
    "termlist7_3e = [\"energy consum\", \n",
    "                \"energiforbruk\"]\n",
    "\n",
    "#termlist7_3f = [\"decoupl\", \"de coupl\", \n",
    "#                \"kobl\", \"kopl\"]\n",
    "\n",
    "termlist7_3g = [\"econom\", \"GDP\", \n",
    "                \"økonomi\", \"BNP\"]\n",
    "\n",
    "#In this phrase, searching with the same phrases and limitations as in Web of Science was quite restrictive. \n",
    "#We therefore chose to simplify the search and accept a combination of \"energy consum\" and \"econom\" or \"GDP\" in the title as sufficient to be included (without \"decoupling\")\n",
    "\n",
    "phrasedefault7_3e = r'(?:{})'.format('|'.join(termlist7_3e))\n",
    "#phrasedefault7_3f = r'(?:{})'.format('|'.join(termlist7_3f))\n",
    "phrasedefault7_3g = r'(?:{})'.format('|'.join(termlist7_3g))"
   ]
  },
  {
   "cell_type": "code",
   "execution_count": null,
   "id": "178aca5c-9a9b-4495-9b49-418beec7bed7",
   "metadata": {
    "colab": {
     "base_uri": "https://localhost:8080/"
    },
    "id": "j8DVuCiKvGv8",
    "outputId": "0c27ccfb-e176-4355-ee51-739245534119"
   },
   "outputs": [],
   "source": [
    "## Search 7_3eg \n",
    "Data.loc[(\n",
    "    (Data['result_title'].str.contains(phrasedefault7_3e, na=False, case=False))\n",
    "    & (Data['result_title'].str.contains(phrasedefault7_3g, na=False, case=False))\n",
    "),\"tempsdg07_03\"] = \"SDG07_03\"\n",
    "\n",
    "print(\"Number of results = \", len(Data[(Data.tempsdg07_03 == \"SDG07_03\")]))  "
   ]
  },
  {
   "cell_type": "code",
   "execution_count": null,
   "id": "f601b1f1-9869-4de6-9598-45d76ef8552a",
   "metadata": {
    "colab": {
     "base_uri": "https://localhost:8080/",
     "height": 539
    },
    "id": "bP7UXHFjPfr4",
    "outputId": "92c99757-6fee-4b6e-f9cf-9d761e86987e"
   },
   "outputs": [],
   "source": [
    "test=Data.loc[(Data.tempsdg07_03 == \"SDG07_03\"), (\"result_id\", \"result_title\")]\n",
    "test.iloc[0:5, ]"
   ]
  },
  {
   "cell_type": "markdown",
   "id": "da651d11-dad9-452d-b866-31193d280bbc",
   "metadata": {
    "id": "3tNr4m5vn4pp"
   },
   "source": [
    "#### Phrase 3"
   ]
  },
  {
   "cell_type": "code",
   "execution_count": null,
   "id": "8252ceff-3d70-4785-b963-2359e405e5a5",
   "metadata": {
    "id": "msmAYHdCCcko"
   },
   "outputs": [],
   "source": [
    "# Term lists\n",
    "\n",
    "# A direct translation of the Web of Science search into Norwegian language gave barely any results. \n",
    "# We therefore allowed a few terms for energy efficiency and energy saving in Norwegian to stand alone in order to capture some more relevant titles (list 3no below). \n",
    "# This was not done in english because it is poor precision.\n",
    "termlist7_3h = [\"energy efficien\", \"energy utilisation efficiency\", \"energy utilization efficiency\", \"energy saving\", \"energy loss\", \"energy conservation\",\n",
    "                \"energieffektiv\", \"effektiv energibruk\", \"energisparing\", \"energiøkonomisering\", \"energitap\", \"energirasjonering\", \"strømrasjonering\"]\n",
    "\n",
    "termlist7_3i = [\"housing\", \"houses\", \"homes\", \"household\", \"domestic\", \"residential\", \"building\", \"cities\", \"service sector\", \"office\", \"retail\", \"food services\", \"restaurant\", \n",
    "                \"hotel\", \"warehouses\", \"lighting\", \"lamps\", \"cooking\", \"appliances\", \"white goods\", \"plug-in device\", \"smart\", \"space cooler\", \"air condition\", \"space heat\", \n",
    "                \"room heating\", \"district heating\", \"heat pump\", \"HVAC\", \"industry\", \"industrial\", \"manufacturing\", \"technolog\", \"transport\", \n",
    "                \"vehicles\", \"cars\", \"train\", \"airplane\", \"aeroplane\", \"ship\", \"freight\", \n",
    "                \"telecomm\", \"data centre\", \"data center\", \"data network\", \"server\", \"wireless\",\n",
    "\n",
    "                \"hus\", \"hjem\", \"heim\", \"hushold\", \"hushald\", \"bolig\", \"bustad\", \"bygning\", \"by\", \"tjenesteytende næring\", \"tjenesteytande næring\", \"tertiærnæring\", \n",
    "                \"kontor\", \"salg\", \"detaljhandel\", \"varehus\", \"kjøpesent\", \"lys\", \"ljos\", \"belysning\", \"lampe\", \"matlaging\", \"apparat\", \"maskin\", \"hvitevare\", \n",
    "                \"smart\", \"kjøler\", \"klimaanlegg\", \"oppvarm\", \"varmepumpe\", \"VVS\", \"industri\", \"produksjon\", \"teknologi\",\n",
    "                \"kjøretøy\", \"køyretøy\", \"biler\", \"bilar\", \"tog\", \"fly\", \"skip\", \"frakt\", \"last\", \"telekomm\", \"datasent\", \"datanett\", \"trådløs\"]\n",
    "\n",
    "termlist7_3j = [\"energy efficien\", \"energy conservation\", \n",
    "                \"energieffektiv\", \"energirasjonering\", \"strømrasjonering\", \"energisparing\", \"energiøkonomiser\", \"enøk\"]\n",
    "\n",
    "termlist7_3k = [\"policy\", \"policies\", \"framework\", \"legislation\", \"management\", \"plan\", \"initiativ\", \"intervention\", \"incentive\", \"invest\"\n",
    "                \"politikk\", \"retningslin\", \"rammeverk\", \"lovgiv\", \"ledelse\", \"leiing\", \"intervensjon\", \"inngripen\", \"insentiv\"]  \n",
    "\n",
    "termlist7_3l = [\"energy efficien\",\n",
    "                \"energieffektiv\"]\n",
    "\n",
    "termlist7_3m = [\"green bond\", \"climate bond\", \"energy certificat\", \"green certificat\", \"energy sustainability\", \"minimum energy performance\", \"energy labelling\", \"energy standard\", \n",
    "                \"energy efficiency standard\", \"sustainable development\", \n",
    "                \n",
    "                \"grønne obligasjon\", \"grøne obligasjon\", \"klimaobligasjon\", \"energisertifi\", \"grøn sertifi\", \"grønt sertifi\", \"grønne sertifi\", \"energimerk\", \n",
    "                \"energistandard\", \"energieffektivitetsstandard\", \"bærekraftig utvikling\", \"berekraftig utvikling\"] \n",
    "\n",
    "termlist7_3standalone = [\"energy efficien\", \"energy utilisation efficiency\", \"energy utilization efficiency\", \"energy saving\", \"energy conservation\",\n",
    "                         \"energieffektiv\", \"effektiv energibruk\", \"energispar\", \"energiøkonomiser\", \"energirasjonering\", \"strømrasjonering\"]\n",
    "\n",
    "phrasedefault7_3h = r'(?:{})'.format('|'.join(termlist7_3h))\n",
    "phrasedefault7_3i = r'(?:{})'.format('|'.join(termlist7_3i))\n",
    "phrasedefault7_3j = r'(?:{})'.format('|'.join(termlist7_3j))  \n",
    "phrasedefault7_3k = r'(?:{})'.format('|'.join(termlist7_3k))\n",
    "phrasedefault7_3l = r'(?:{})'.format('|'.join(termlist7_3l))\n",
    "phrasedefault7_3m = r'(?:{})'.format('|'.join(termlist7_3m))              \n",
    "phrasedefault7_3standalone = r'(?:{})'.format('|'.join(termlist7_3standalone))"
   ]
  },
  {
   "cell_type": "code",
   "execution_count": null,
   "id": "7d7ce570-4103-4d34-b817-cfcef07a0b73",
   "metadata": {
    "colab": {
     "base_uri": "https://localhost:8080/"
    },
    "id": "wsLodBwNnjbU",
    "outputId": "b58111ed-4720-4368-a654-19290c17c550"
   },
   "outputs": [],
   "source": [
    "## Search 7_3hijklmno \n",
    "\n",
    "#Title and abstract search\n",
    "#Data.loc[(\n",
    "#    ((Data['result_title'].str.contains(phrasedefault7_3h, na=False, case=False)) & (Data['result_title'].str.contains(phrasedefault7_3i, na=False, case=False)))\n",
    "#    |((Data['result_title'].str.contains(phrasedefault7_3j, na=False, case=False)) & (Data['result_title'].str.contains(phrasedefault7_3k, na=False, case=False)))\n",
    "#    |((Data['result_title'].str.contains(phrasedefault7_3l, na=False, case=False)) & (Data['result_title'].str.contains(phrasedefault7_3m, na=False, case=False)))\n",
    "#),\"tempsdg07_03\"] = \"SDG07_03\"\n",
    "\n",
    "#Title search\n",
    "Data.loc[(\n",
    "    (Data['result_title'].str.contains(phrasedefault7_3standalone, na=False, case=False))\n",
    "    |((Data['result_title'].str.contains(phrasedefault7_3h, na=False, case=False)) & (Data['result_title'].str.contains(phrasedefault7_3i, na=False, case=False)))\n",
    "    |((Data['result_title'].str.contains(phrasedefault7_3j, na=False, case=False)) & (Data['result_title'].str.contains(phrasedefault7_3k, na=False, case=False)))\n",
    "),\"tempsdg07_03\"] = \"SDG07_03\"\n",
    "\n",
    "print(\"Number of results = \", len(Data[(Data.tempsdg07_03 == \"SDG07_03\")])) "
   ]
  },
  {
   "cell_type": "code",
   "execution_count": null,
   "id": "6c7d03e8-e86f-487f-9a78-ecbb5fd11630",
   "metadata": {
    "colab": {
     "base_uri": "https://localhost:8080/"
    },
    "id": "gPOVjr_dtFhy",
    "outputId": "8d66ba04-ac57-42fa-8027-ca9861c3186d"
   },
   "outputs": [],
   "source": [
    "test=Data.loc[(Data.tempsdg07_03 == \"SDG07_03\"), (\"result_id\", \"result_title\")]\n",
    "test.iloc[0:5, ]"
   ]
  },
  {
   "cell_type": "markdown",
   "id": "f09837af-7967-4aef-84b6-e9f82d6c6294",
   "metadata": {
    "id": "evwQfmg4n7D5"
   },
   "source": [
    "#### Phrase 4\n",
    "We have simplified the search as we are only searching titles, and left out specific energy terms. All that is required now is terms for \"energy efficien\" combined with \"sufficien\", or the title to contain \"energy suffici*\"."
   ]
  },
  {
   "cell_type": "code",
   "execution_count": null,
   "id": "77457929-b1c3-4ea4-a3f3-cfe7451270a5",
   "metadata": {
    "id": "Obp2DdPZq5Ag"
   },
   "outputs": [],
   "source": [
    "# Term lists\n",
    "termlist7_3n = [\"energy suffici\"]\n",
    "\n",
    "termlist7_3q = [\"sufficien\", \"suffisien\", \n",
    "                \"tilstrekkelig\"]\n",
    "\n",
    "termlist7_3r = [\"energy efficien\", \n",
    "                \"energieffektiv\"]\n",
    "\n",
    "phrasedefault7_3n = r'(?:{})'.format('|'.join(termlist7_3n))\n",
    "phrasedefault7_3q = r'(?:{})'.format('|'.join(termlist7_3q))\n",
    "phrasedefault7_3r = r'(?:{})'.format('|'.join(termlist7_3r))"
   ]
  },
  {
   "cell_type": "code",
   "execution_count": null,
   "id": "9e560d69-3215-42da-872c-0f835cec7e89",
   "metadata": {
    "colab": {
     "base_uri": "https://localhost:8080/"
    },
    "id": "Wh9PUT9kxnuu",
    "outputId": "039743ee-1c77-4754-f3e1-a0313ae4b33e"
   },
   "outputs": [],
   "source": [
    "## Search 7_3nqr \n",
    "Data.loc[(\n",
    "    (Data['result_title'].str.contains(phrasedefault7_3n, na=False, case=False))\n",
    "    |\n",
    "    (\n",
    "        (Data['result_title'].str.contains(phrasedefault7_3q, na=False, case=False)) \n",
    "        &(Data['result_title'].str.contains(phrasedefault7_3r, na=False, case=False))  \n",
    "    )\n",
    "),\"tempsdg07_03\"] = \"SDG07_03\"\n",
    "\n",
    "print(\"Number of results = \", len(Data[(Data.tempsdg07_03 == \"SDG07_03\")])) "
   ]
  },
  {
   "cell_type": "code",
   "execution_count": null,
   "id": "81a55ff9-248e-49bf-8dda-1e4c2da45a8f",
   "metadata": {
    "colab": {
     "base_uri": "https://localhost:8080/",
     "height": 312
    },
    "id": "29M7J1aMyLJ_",
    "outputId": "6e65ac3e-9c27-4341-8f1e-6985a7a1c03e"
   },
   "outputs": [],
   "source": [
    "test=Data.loc[(Data.tempsdg07_03 == \"SDG07_03\"), (\"result_id\", \"result_title\")]\n",
    "test.iloc[0:5, ]"
   ]
  },
  {
   "cell_type": "markdown",
   "id": "9d461b67-7836-4598-98e8-6ff8791c386b",
   "metadata": {
    "id": "orL3PGk7oAm5"
   },
   "source": [
    "### SDG 7.a\n",
    "\n",
    "*By 2030, enhance international cooperation to facilitate access to clean energy research and technology, including renewable energy, energy efficiency and advanced and cleaner fossil-fuel technology, and promote investment in energy infrastructure and clean energy technology*\n",
    "\n",
    "*Innen 2030 styrke det internasjonale samarbeidet for å lette tilgangen til forskning og teknologi på området ren energi, inkludert fornybar energi, energieffektivisering og avansert og renere teknologi for fossilt brensel, og fremme investeringer i energiinfrastruktur og teknologi for ren energi*"
   ]
  },
  {
   "cell_type": "markdown",
   "id": "9ef729d8-32d1-447d-bb7c-d8ee94f8e7b4",
   "metadata": {
    "id": "fhoHvmuFoHhB"
   },
   "source": [
    "#### Phrase 1"
   ]
  },
  {
   "cell_type": "code",
   "execution_count": null,
   "id": "890c06a1-282c-4136-8c5b-ab6ba3bb22c5",
   "metadata": {
    "id": "iu3h1tAuwHJG"
   },
   "outputs": [],
   "source": [
    "# Term lists\n",
    "termlist7_a1 = [\"development spending\", \"cooperation fund\", \n",
    "                \"bistand\", \"utviklingshjelp\", \"u-hjelp\", \"samarbeidsfond\"]\n",
    "termlist7_a1caps = [\"ODA\"]\n",
    "termlist7_a2 = [\"international\", \"development\", \"foreign\",\n",
    "                \"internasjonal\", \"utvikling\", \"utland\", \"utenlandsk\", \"utanlands\", \"utalands\"]\n",
    "termlist7_a3 = [\"cooperat\", \"co-operat\", \"collaborat\", \"network\", \"partnership\", \"aid\", \"assistance\", \"fund\", \"grant\", \"financing\", \"financial resources\", \"capital flow\",\n",
    "                \"samarbeid\", \"felles\", \"nettverk\", \"partner\", \"hjelp\", \"bistand\", \"støtte\", \"stønad\", \"finans\", \"økonomi\", \"ressurs\", \"kapital\"]\n",
    "termlist7_a4 = [\"knowledge\", \"technolog\", \"technical\", \"research\", \"scientific\", \"R&D\",\n",
    "                \"kunnskap\", \"teknolog\", \"teknisk\", \"forskning\", \"forsking\", \"vitenskapelig\", \"vitskapeleg\", \"FOU\"]\n",
    "termlist7_a5 = [\"access\", \"capacity\", \"transfer\", \"sharing\", \"share\", \"cooperat\", \"co-operat\", \"collaborat\", \"partnership\",\n",
    "                \"tilgang\", \"kapasitet\", \"overfør\", \"deling\", \"dele\", \"samarbeid\", \"koopera\", \"partner\"]\n",
    "termlist7_a6 = [\"invest\", \"financing\", \"funding\", \"financial resources\", \"economic support\", \"economic assistance\", \"green bond\", \"climate bond\",\n",
    "                \"finans\", \"økonomi\", \"støtte\", \"stønad\", \"grønne obligasjon\", \"grøne obligasjon\", \"klimaobligasjon\"]\n",
    "termlist7_a7 = [\"financial\", \"monetary\",\n",
    "                \"finansiell\", \"monetær\", \"penge\"]\n",
    "termlist7_a8 = [\"support\", \"assist\",\n",
    "                \"støtte\", \"stønad\"]\n",
    "\n",
    "termlist7_a9 = [\"energy research\", \"energy efficiency research\", \"energy transition\", \"energy technolog\",\n",
    "                \"energiforskning\", \"energiforsking\", \"energiomstilling\", \"energiteknologi\"]\n",
    "\n",
    "termlist7_a10 = [\"technolog\", \"innovation\", \"R&D\",\n",
    "                 \"teknologi\", \"innovasjon\", \"FOU\"]\n",
    "\n",
    "termlist7_a11 = [\"clean energy\", \"green energy\", \"decarboni\", \"low carbon\", \"energy efficien\", \"renewable\", \"solar\", \n",
    "                 \"wind\", \"geothermal\", \"hydroelectric\", \"hydro electric\", \"hydro power\", \"marine energy\", \"tidal energy\", \"wave energy\",\n",
    "                 \n",
    "                 \"ren energi\", \"grønn energi\", \"avkarboniser\", \"lavkarbon\", \"lågkarbon\", \"energieffektiv\", \"fornybar\", \"solcelle\", \"solkraft\", \"solenergi\", \"solcelle\", \"solkraft\", \"solenergi\", \n",
    "                 \"vind\", \"geotermisk\", \"hydroelektrisk\", \"vannkraft\", \"vasskraft\", \"havenergi\", \"tidevannsenergi\", \"tidvass\", \"bølgeenergi\"]    \n",
    "\n",
    "phrasedefault7_a1 = r'(?:{})'.format('|'.join(termlist7_a1))\n",
    "phrasespecific7_a1caps = r'\\b(?:{})\\b'.format('|'.join(termlist7_a1caps))\n",
    "phrasedefault7_a2 = r'(?:{})'.format('|'.join(termlist7_a2))\n",
    "phrasedefault7_a3 = r'(?:{})'.format('|'.join(termlist7_a3))\n",
    "phrasedefault7_a4 = r'(?:{})'.format('|'.join(termlist7_a4))\n",
    "phrasedefault7_a5 = r'(?:{})'.format('|'.join(termlist7_a5))\n",
    "phrasedefault7_a6 = r'(?:{})'.format('|'.join(termlist7_a6)) \n",
    "phrasedefault7_a7 = r'(?:{})'.format('|'.join(termlist7_a7))\n",
    "phrasedefault7_a8 = r'(?:{})'.format('|'.join(termlist7_a8))\n",
    "phrasedefault7_a9 = r'(?:{})'.format('|'.join(termlist7_a9))\n",
    "phrasedefault7_a10 = r'(?:{})'.format('|'.join(termlist7_a10))\n",
    "phrasedefault7_a11 = r'(?:{})'.format('|'.join(termlist7_a11))                                                                                        "
   ]
  },
  {
   "cell_type": "code",
   "execution_count": null,
   "id": "a5ef82ec-95ce-48c6-b35b-151646c21a25",
   "metadata": {
    "colab": {
     "base_uri": "https://localhost:8080/"
    },
    "id": "pii5_Q-3DYfm",
    "outputId": "b1a189f5-9ea4-45f5-d28f-b4d4f548746b"
   },
   "outputs": [],
   "source": [
    "## Search 7_a1234567891011\n",
    "Data.loc[(\n",
    "    (\n",
    "        (Data['result_title'].str.contains(phrasedefault7_a1, na=False, case=False))\n",
    "        |(Data['result_title'].str.contains(phrasespecific7_a1caps, na=False, case=False))\n",
    "        |((Data['result_title'].str.contains(phrasedefault7_a2, na=False, case=False)) & (Data['result_title'].str.contains(phrasedefault7_a3, na=False, case=False)))\n",
    "        |((Data['result_title'].str.contains(phrasedefault7_a4, na=False, case=False)) & (Data['result_title'].str.contains(phrasedefault7_a5, na=False, case=False)))\n",
    "        |(Data['result_title'].str.contains(phrasedefault7_a6, na=False, case=False))\n",
    "        |((Data['result_title'].str.contains(phrasedefault7_a7, na=False, case=False)) & (Data['result_title'].str.contains(phrasedefault7_a8, na=False, case=False)))\n",
    "    )\n",
    "    &\n",
    "    (\n",
    "        (Data['result_title'].str.contains(phrasedefault7_a9, na=False, case=False))\n",
    "        |((Data['result_title'].str.contains(phrasedefault7_a10, na=False, case=False)) & (Data['result_title'].str.contains(phrasedefault7_a11, na=False, case=False)))\n",
    "    ) \n",
    "),\"tempsdg07_a\"] = \"SDG07_0a\"\n",
    "\n",
    "print(\"Number of results = \", len(Data[(Data.tempsdg07_a == \"SDG07_0a\")]))  "
   ]
  },
  {
   "cell_type": "code",
   "execution_count": null,
   "id": "482a7f54-8156-4188-85e9-bf405d0c9541",
   "metadata": {
    "colab": {
     "base_uri": "https://localhost:8080/",
     "height": 1000
    },
    "id": "rIolHXz643MV",
    "outputId": "4dab17ae-8fdf-4338-d9c6-721e3e3800ef"
   },
   "outputs": [],
   "source": [
    "test=Data.loc[(Data.tempsdg07_a == \"SDG07_0a\"), (\"result_id\", \"result_title\")]\n",
    "test.iloc[0:5, ]"
   ]
  },
  {
   "cell_type": "markdown",
   "id": "1c772e2e-5d3a-4c1d-bbcc-a2459f7f164e",
   "metadata": {
    "id": "CpC7QlBJoOeh"
   },
   "source": [
    "#### Phrase 2"
   ]
  },
  {
   "cell_type": "code",
   "execution_count": null,
   "id": "98be1af5-c96d-4fdb-bd87-a0275b0d980d",
   "metadata": {
    "id": "ihDawtwn2NQz"
   },
   "outputs": [],
   "source": [
    "# Term lists\n",
    "termlist7_a12 = [\"development spending\", \"cooperation fund\", \n",
    "                 \"offisiell utviklingsbistand\", \"offentlig utviklingsbistand\", \"bistand\", \"utviklingshjelp\", \"u-hjelp\", \"samarbeidsfond\"]\n",
    "termlist7_a1caps = [\"ODA\"]\n",
    "termlist7_a13 = [\"international\", \"development\", \"foreign\", \n",
    "                 \"internasjonal\", \"utvikling\", \"utland\", \"utaland\", \"utanland\", \"utenlandsk\"]\n",
    "termlist7_a14 = [\"cooperat\", \"co-operat\", \"collaborat\", \"network\", \"partnership\", \"aid\", \"assistance\", \"fund\", \"grant\", \"financing\", \n",
    "                 \"financial resources\", \"capital flow\",\n",
    "                 \"samarbeid\", \"felles\", \"nettverk\", \"partnerskap\", \"hjelp\", \"bistand\", \"støtte\", \"stønad\", \"finansier\", \"økonomisk ressurs\", \n",
    "                 \"økonomiske ressurs\", \"finansiell ressurs\", \"finansielle ressurs\", \"kapitalflyt\", \"kapitalstr\"]\n",
    "termlist7_a15 = [\"invest\", \"financing\", \"funding\", \"financial resources\", \"economic support\", \"economic assistance\", \"green bond\", \"climate bond\",\n",
    "                \"finansier\", \"finansiell ressurs\", \"finansielle ressurs\", \"økonomisk støtte\", \"økonomisk stønad\", \"grønne obligasjon\", \"grøne obligasjon\", \"klimaobligasjon\"]        \n",
    "termlist7_a16 = [\"financial\", \"monetary\", \n",
    "                 \"finansiell\", \"monetær\", \"penge\"] \n",
    "termlist7_a17 = [\"support\", \"assist\", \n",
    "                 \"støtte\", \"stønad\", \"assistanse\"] \n",
    "\n",
    "termlist7_a18 = [\"clean energy\", \"energy service\", \"energy sector\", \"electrical infrastructure\", \"electricity supply\", \"power supply\", \"community energy\", \n",
    "                 \"community renewable energy\", \"electrical grid\", \"power grid\", \"grid extension\", \"microgrid\", \"micro grid\", \"micro-grid\", \n",
    "                 \"minigrid\", \"mini grid\", \"mini-grid\", \"smartgrid\", \"smart grid\", \"smart-grid\", \"energy storage system\", \"energy transition\",\n",
    "                 \n",
    "                 \"ren energi\", \"rein energi\", \"energitjeneste\", \"energiteneste\", \"energisektor\", \"energiinfrastruktur\", \"elektrisk infrastruktur\", \"energiforsyning\",\n",
    "                 \"strømforsyning\", \"straumforsyning\", \"kraftforsyning\", \"små kraftverk\", \"minikraftverk\", \"mikrokraftverk\", \n",
    "                 \"energisamfunn\", \"mikronett\", \"øydrift\", \"smartnett\", \"energilagring\", \"energiomstilling\"]\n",
    "termlist7_a19 = [\"energy\", \"electricity\",\n",
    "                 \"energi\", \"elektrisitet\", \"strøm\", \"straum\", \"kraft\"]\n",
    "termlist7_a20 = [\"infrastructure\", \"technology\", \"off grid\", \"offgrid\", \"off-grid\", \"decentralised\", \"decentralized\", \"cooperative\",\n",
    "                 \"infrastruktur\", \"teknologi\", \"mikronett\", \"desentral\", \"kooperativ\"]\n",
    "termlist7_a21 = [\"power station\", \"power generation\", \"energy generation\", \"generator\",\n",
    "                 \"kraftstasjon\", \"kraftverk\", \"kraftproduksjon\", \"strømproduksjon\", \"straumproduksjon\"]\n",
    "termlist7_a22 = [\"modern\", \"clean\", \"sustainable\", \"renewable\", \"solar\", \"wind\", \"geothermal\", \"hydroelectric\", \"hydro electric\", \"hydropower\", \n",
    "                 \"marine\", \"tidal\", \"wave energy\",\n",
    "                 \"rein\", \"bærekraftig\", \"berekraftig\", \"fornybar\", \"sol\", \"vind\", \"geotermisk\", \"hydroelektrisk\", \"vannkraft\", \"vasskraft\", \n",
    "                 \"hav\", \"tidevann\", \"tidvass\", \"bølgeenergi\"]                                        \n",
    "\n",
    "phrasedefault7_a12 = r'(?:{})'.format('|'.join(termlist7_a12))\n",
    "phrasespecific7_a1caps = r'\\b(?:{})\\b'.format('|'.join(termlist7_a1caps))\n",
    "phrasedefault7_a13 = r'(?:{})'.format('|'.join(termlist7_a13))\n",
    "phrasedefault7_a14 = r'(?:{})'.format('|'.join(termlist7_a14))\n",
    "phrasedefault7_a15 = r'(?:{})'.format('|'.join(termlist7_a15))\n",
    "phrasedefault7_a16 = r'(?:{})'.format('|'.join(termlist7_a16))\n",
    "phrasedefault7_a17 = r'(?:{})'.format('|'.join(termlist7_a17))\n",
    "phrasedefault7_a18 = r'(?:{})'.format('|'.join(termlist7_a18))\n",
    "phrasedefault7_a19 = r'(?:{})'.format('|'.join(termlist7_a19))\n",
    "phrasedefault7_a20 = r'(?:{})'.format('|'.join(termlist7_a20))\n",
    "phrasedefault7_a21 = r'(?:{})'.format('|'.join(termlist7_a21))\n",
    "phrasedefault7_a22 = r'(?:{})'.format('|'.join(termlist7_a22))"
   ]
  },
  {
   "cell_type": "code",
   "execution_count": null,
   "id": "95ccbfc3-d050-4b8b-95a9-675503e03044",
   "metadata": {
    "colab": {
     "base_uri": "https://localhost:8080/"
    },
    "id": "tfWX7ycVBY25",
    "outputId": "3dc63787-f496-4164-bc37-40184e57f13d"
   },
   "outputs": [],
   "source": [
    "## Search 7_a1213141516171819202122\n",
    "Data.loc[(\n",
    "    (\n",
    "        (Data['result_title'].str.contains(phrasedefault7_a12, na=False, case=False))\n",
    "        |(Data['result_title'].str.contains(phrasespecific7_a1caps, na=False, case=False))\n",
    "        |((Data['result_title'].str.contains(phrasedefault7_a13, na=False, case=False)) & (Data['result_title'].str.contains(phrasedefault7_a14, na=False, case=False)))\n",
    "        |(Data['result_title'].str.contains(phrasedefault7_a15, na=False, case=False))\n",
    "        |((Data['result_title'].str.contains(phrasedefault7_a16, na=False, case=False)) & (Data['result_title'].str.contains(phrasedefault7_a17, na=False, case=False)))  \n",
    "    ) \n",
    "    &\n",
    "    (\n",
    "        (Data['result_title'].str.contains(phrasedefault7_a18, na=False, case=False))\n",
    "        |((Data['result_title'].str.contains(phrasedefault7_a19, na=False, case=False)) & (Data['result_title'].str.contains(phrasedefault7_a20, na=False, case=False)))\n",
    "        |((Data['result_title'].str.contains(phrasedefault7_a21, na=False, case=False)) & (Data['result_title'].str.contains(phrasedefault7_a22, na=False, case=False)) )\n",
    "    )\n",
    "),\"tempsdg07_a\"] = \"SDG07_0a\"\n",
    "\n",
    "print(\"Number of results = \", len(Data[(Data.tempsdg07_a == \"SDG07_0a\")]))"
   ]
  },
  {
   "cell_type": "code",
   "execution_count": null,
   "id": "af2344f9-f495-4225-912d-32ac1bc8f34a",
   "metadata": {
    "colab": {
     "base_uri": "https://localhost:8080/",
     "height": 1000
    },
    "id": "1GYz-aPoCF3I",
    "outputId": "0897a32d-7081-439c-8715-54614ce1454e"
   },
   "outputs": [],
   "source": [
    "test=Data.loc[(Data.tempsdg07_a == \"SDG07_0a\"), (\"result_id\", \"result_title\")]\n",
    "test.iloc[0:5, ]"
   ]
  },
  {
   "cell_type": "markdown",
   "id": "578a779b-3ecf-4c59-b4b1-6f0ce344eb75",
   "metadata": {
    "id": "iH-zoWxYoT2p"
   },
   "source": [
    "### SDG 7.b\n",
    "\n",
    "*By 2030, expand infrastructure and upgrade technology for supplying modern and sustainable energy services for all in developing countries, in particular least developed countries, small island developing States and landlocked developing countries, in accordance with their respective programmes of support*\n",
    "\n",
    "*Innen 2030 bygge ut infrastruktur og oppgradere teknologi for å tilby moderne og bærekraftige energitjenester til alle innbyggere i utviklingsland, særlig i de minst utviklede landene, små utviklingsøystater og kystløse utviklingsland, i samsvar med landenes respektive støtteprogram*"
   ]
  },
  {
   "cell_type": "code",
   "execution_count": null,
   "id": "dfe3b499-9a22-43c7-9841-66e19d6037b1",
   "metadata": {
    "id": "b2rxNf3jLs3b"
   },
   "outputs": [],
   "source": [
    "# Term lists\n",
    "termlist7_b1 = [\"energy service\", \"energy sector\", \"electrical infrastructure\", \n",
    "                \"electricity supply\", \"power supply\", \"energy\", \"electricity\",\n",
    "                \n",
    "                \"energitjeneste\", \"energiteneste\", \"energisektor\", \"elektrisk infrastruktur\", \"energiinfrastruktur\", \"elektrisitetsforsyning\", \n",
    "                \"strømforsyning\", \"straumforsyning\", \"kraftforsyning\", \"energi\", \"elektrisitet\"]\n",
    "\n",
    "termlist7_b2 = [\"infrastructure\", \"technolog\", \"off grid\", \"offgrid\", \"off-grid\", \"decentralised\", \"decentralized\", \"community\", \"cooperative\", \"co-operative\",\n",
    "                \"electrical grid\", \"power grid\", \"grid extension\", \n",
    "                \"microgrid\", \"micro-grid\", \"micro grid\", \"minigrid\", \"mini-grid\", \"mini grid\", \"smartgrid\", \"smart grid\", \"smart-grid\", \"energy storage system\",\n",
    "                \n",
    "                \"infrastruktur\", \"teknologi\", \"mikronett\", \"desentral\", \"samfunn\", \"kooperativ\", \"strømnett\", \"straumnett\", \"kraftnett\", \"elnett\", \"små kraftverk\", \"minikraftverk\",\n",
    "                \"mikrokraftverk\", \"øydrift\", \"smartnett\", \"energilagring\"]\n",
    "\n",
    "termlist7_b3 = [\"power station\", \"power generation\", \"energy generation\", \"generator\",\n",
    "                \"kraftstasjon\", \"kraftverk\", \"kraftprod\", \"strømprod\", \"straumprod\"]\n",
    "\n",
    "termlist7_b4 = [\"modern\", \"clean\", \"sustainable\", \"renewable\", \"decarboni\", \"low carbon\", \"solar\", \"wind\", \"geothermal\", \n",
    "                \"hydroelectric\", \"hydro electric\", \"hydropower\", \"marine\", \"tidal\", \"wave energy\",\n",
    "                \n",
    "                \"moderne\", \"bærekraftig\", \"berekraftig\", \"fornybar\", \"dekarboniser\", \"lavkarbon\", \"lågkarbon\", \"sol\", \"vind\", \"geotermisk\", \n",
    "                \"hydroelektrisk\", \"vannkraft\", \"vasskraft\", \"hav\", \"tidevann\", \"tidvass\", \"bølgeenergi\"]                 \n",
    "\n",
    "phrasedefault7_b1 = r'(?:{})'.format('|'.join(termlist7_b1))\n",
    "phrasedefault7_b2 = r'(?:{})'.format('|'.join(termlist7_b2))\n",
    "phrasedefault7_b3 = r'(?:{})'.format('|'.join(termlist7_b3))\n",
    "phrasedefault7_b4 = r'(?:{})'.format('|'.join(termlist7_b4))        \n"
   ]
  },
  {
   "cell_type": "code",
   "execution_count": null,
   "id": "b10b2489-d86d-440f-b028-e75c7eba3d7f",
   "metadata": {
    "colab": {
     "base_uri": "https://localhost:8080/"
    },
    "id": "AT_ZxCJnX1wq",
    "outputId": "0dbe492d-ec2d-4941-d5e4-3282d2c68915"
   },
   "outputs": [],
   "source": [
    "#Search 1 - in SIDS and LDCs data\n",
    "Data.loc[(\n",
    "    (\n",
    "        ((Data['result_title'].str.contains(phrasedefault7_b1, na=False, case=False)) & (Data['result_title'].str.contains(phrasedefault7_b2, na=False, case=False)))\n",
    "        |((Data['result_title'].str.contains(phrasedefault7_b3, na=False, case=False)) & (Data['result_title'].str.contains(phrasedefault7_b4, na=False, case=False)))\n",
    "    ) \n",
    "    & (Data['LMICs']==True)\n",
    "),\"tempsdg07_b\"] = \"SDG07_b\"\n",
    "\n",
    "print(\"Number of results = \", len(Data[(Data.tempsdg07_b == \"SDG07_b\")])) "
   ]
  },
  {
   "cell_type": "code",
   "execution_count": null,
   "id": "a9c14901-718c-4932-840b-4410d5659b4f",
   "metadata": {
    "colab": {
     "base_uri": "https://localhost:8080/",
     "height": 1000
    },
    "id": "Qw73MAdjZdKz",
    "outputId": "d59e7abd-c225-4d3f-80d4-feef6344914c"
   },
   "outputs": [],
   "source": [
    "test=Data.loc[(Data.tempsdg07_b == \"SDG07_b\"), (\"result_id\", \"result_title\")]\n",
    "test.iloc[0:5, ]"
   ]
  },
  {
   "cell_type": "markdown",
   "id": "11b7e7f2-2ad8-4d0b-97a7-fd4cb79551e0",
   "metadata": {
    "id": "rceuEa9AeIvL"
   },
   "source": [
    "### SDG 7 mentions\n"
   ]
  },
  {
   "cell_type": "code",
   "execution_count": null,
   "id": "ec53e67b-2e32-4258-a737-6c95e757ba89",
   "metadata": {
    "id": "R8jNR8A7ei8M"
   },
   "outputs": [],
   "source": [
    "# Term lists\n",
    "termlist7_1 = [\"SDG 7\", \"SDGs 7\", \"SDG7\", \"sustainable development goal 7\", \n",
    "               \"bærekraftsmål 7\", \"berekraftsmål 7\"]\n",
    "termlist7_2 = [\"sustainable development goal\", \n",
    "               \"bærekraftsmål\", \"berekraftsmål\"]\n",
    "termlist7_3 = [\"goal 7\", \n",
    "               \"mål 7\"]\n",
    "termlist7_4 = [\"sustainable development goal\", \"SDG\", \"goal 7\", \n",
    "               \"bærekraftsmål\", \"berekraftsmål\", \"mål 7\"]\n",
    "termlist7_5 = [\"energy\", \n",
    "               \"energi\"]\n",
    "termlist7_6 = [\"affordable and clean energy\", \n",
    "               \"ren energi til alle\", \"rein energi til alle\"]\n",
    "\n",
    "phrasedefault7_1 = r'(?:{})'.format('|'.join(termlist7_1))\n",
    "phrasedefault7_2 = r'(?:{})'.format('|'.join(termlist7_2))\n",
    "phrasedefault7_3 = r'(?:{})'.format('|'.join(termlist7_3))\n",
    "phrasedefault7_4 = r'(?:{})'.format('|'.join(termlist7_4))\n",
    "phrasedefault7_5 = r'(?:{})'.format('|'.join(termlist7_5))   \n",
    "phrasedefault7_6 = r'(?:{})'.format('|'.join(termlist7_6))\n"
   ]
  },
  {
   "cell_type": "code",
   "execution_count": null,
   "id": "70ee9235-d36c-45ce-917e-ba96e78564c2",
   "metadata": {
    "colab": {
     "base_uri": "https://localhost:8080/"
    },
    "id": "DuKzuDijiGRG",
    "outputId": "c20b2e37-19dd-4dfd-b380-486d1f531a58"
   },
   "outputs": [],
   "source": [
    "## Search 7_123456\n",
    "Data.loc[(\n",
    "    (Data['result_title'].str.contains(phrasedefault7_1, na=False, case=False))\n",
    "    |((Data['result_title'].str.contains(phrasedefault7_2, na=False, case=False)) & (Data['result_title'].str.contains(phrasedefault7_3, na=False, case=False))) \n",
    "    |((Data['result_title'].str.contains(phrasedefault7_4, na=False, case=False)) & (Data['result_title'].str.contains(phrasedefault7_5, na=False, case=False)))\n",
    "    |(Data['result_title'].str.contains(phrasedefault7_6, na=False, case=False))\n",
    "),\"tempmentionsdg07\"] = \"SDG07\"\n",
    "\n",
    "print(\"Number of results = \", len(Data[(Data.tempmentionsdg07 == \"SDG07\")]))"
   ]
  },
  {
   "cell_type": "code",
   "execution_count": null,
   "id": "d1e9b4ad-638a-469c-8750-250c97ef7a02",
   "metadata": {
    "colab": {
     "base_uri": "https://localhost:8080/",
     "height": 1000
    },
    "id": "QLR3dkPnjR7P",
    "outputId": "96c642e3-f805-4dfb-e5cc-97a581661786"
   },
   "outputs": [],
   "source": [
    "test=Data.loc[(Data.tempmentionsdg07 == \"SDG07\"), (\"result_id\", \"result_title\")]\n",
    "test.iloc[0:5, ]"
   ]
  },
  {
   "cell_type": "markdown",
   "id": "a1d055ad-2c36-4c79-b69b-daf27ba30406",
   "metadata": {},
   "source": [
    "## SDG 11\n",
    "\n",
    "General note: For the Norwegian adaptation, we include some of the major cities by name as synonymyms for \"city\". "
   ]
  },
  {
   "cell_type": "markdown",
   "id": "9c0a1fa5-0ffc-4aa0-a9fa-9e32fe6dd5ba",
   "metadata": {
    "id": "omVX8CAADPt2"
   },
   "source": [
    "### SDG 11.1\n",
    "\n",
    "*By 2030, ensure access for all to adequate, safe and affordable housing and basic services and upgrade slums*\n",
    "\n",
    "*Innen 2030 sikre at alle har tilgang til tilfredsstillende og trygge boliger og grunnleggende tjenester til en overkommelig pris, og bedre forholdene i slumområder*"
   ]
  },
  {
   "cell_type": "markdown",
   "id": "9e0a9bdd-aa06-4463-a37c-585971e6a500",
   "metadata": {
    "id": "OX1pv6oIEZus"
   },
   "source": [
    "#### Phrase 1"
   ]
  },
  {
   "cell_type": "code",
   "execution_count": null,
   "id": "e9b356a3-fd29-4166-ab2d-6f9659383835",
   "metadata": {
    "id": "s9O9mrvyDcYK"
   },
   "outputs": [],
   "source": [
    "#Termlists\n",
    "termlist11_1a = [\"access\", \"obstacle\", \"barrier\", \"hinder\", \"hindrance\", \"equitab\", \"non-equit\", \"legislat\", \"govern\", \"strateg\", \"policy\", \"policies\" , \"framework\" , \"program\",\n",
    "                 \"tilgang\", \"hindr\", \"rettferdig\", \"lovgiv\", \"lovgje\" \"politikk\", \"politisk\", \"reguler\", \"rettningslin\", \"strateg\"]\n",
    "\n",
    "termlist11_1b = [\"adequa\", \"inadequa\", \"afford\", \"low cost\", \"low-cost\", \"inexpensive\", \"unsafe\", \"safety\", \"secure\", \"security\", \"tenure\",\n",
    "                 \"adekvat\", \"tilstrekkel\", \"høveleg\", \"dekkende\", \"dekkande\", \"billig\", \"billeg\", \"rimelig\", \"rimeleg\", \"trygg\", \"sikker\"]\n",
    "\n",
    "termlist11_1c = [\"housing\", \"settlements\", \"living conditions\",\n",
    "                 \"bolig\", \"bustad\", \"bosetting\", \"busetjing\", \"boforhold\"]\n",
    "\n",
    "phrasedefault11_1a = r'(?:{})'.format('|'.join(termlist11_1a))\n",
    "phrasedefault11_1b = r'(?:{})'.format('|'.join(termlist11_1b))\n",
    "phrasedefault11_1c = r'(?:{})'.format('|'.join(termlist11_1c))"
   ]
  },
  {
   "cell_type": "code",
   "execution_count": null,
   "id": "23c7ce59-65db-47eb-865f-353af9f8bce9",
   "metadata": {
    "colab": {
     "base_uri": "https://localhost:8080/"
    },
    "id": "1tWrkEvvalGl",
    "outputId": "61cbd2c7-2890-4742-ff15-14263845a9f0"
   },
   "outputs": [],
   "source": [
    "#Search\n",
    "Data.loc[(\n",
    "        (Data['result_title'].str.contains(phrasedefault11_1a, na=False, case=False))\n",
    "        & (Data['result_title'].str.contains(phrasedefault11_1b, na=False, case=False))\n",
    "        & (Data['result_title'].str.contains(phrasedefault11_1c, na=False, case=False))             \n",
    "),\"tempsdg11_01\"] = \"SDG11_01\"\n",
    "\n",
    "print(\"Number of results = \", len(Data[(Data.tempsdg11_01 == \"SDG11_01\")])) "
   ]
  },
  {
   "cell_type": "code",
   "execution_count": null,
   "id": "641971fb-1e80-4408-8f8b-dc5596449952",
   "metadata": {
    "colab": {
     "base_uri": "https://localhost:8080/",
     "height": 142
    },
    "id": "_6gJBNJcDfPD",
    "outputId": "31dac866-aaa7-4cfe-bb74-bd02111b0153"
   },
   "outputs": [],
   "source": [
    "test=Data.loc[(Data.tempsdg11_01 == \"SDG11_01\"), (\"result_id\", \"result_title\")]\n",
    "test.iloc[0:5, ]"
   ]
  },
  {
   "cell_type": "markdown",
   "id": "eeb542c6-8162-4f44-b951-ddca8969003f",
   "metadata": {
    "id": "UxbkRhLKFBwt"
   },
   "source": [
    "#### Phrase 2"
   ]
  },
  {
   "cell_type": "code",
   "execution_count": null,
   "id": "5520fec0-a137-4d99-b128-82e6ce8e08fc",
   "metadata": {
    "id": "VXjXA6WcFXIb"
   },
   "outputs": [],
   "source": [
    "#Termlists\n",
    "termlist11_1d = [\"access\", \"obstacle\", \"barrier\", \"hinder\", \"hindrance\", \"equitab\", \"non-equit\", \"legislat\", \"governan\", \"strateg\", \"policy\", \"policies\", \"framework\", \"program\",\n",
    "                 \"tilgang\", \"hinder\", \"hindr\", \"rettferdig\", \"urettferdig\", \"lovgiv\", \"lovgje\" \"politikk\", \"politisk\", \"reguler\", \"strateg\"]\n",
    "\n",
    "termlist11_1e = [\"basic service\", \"basic facilities\", \"essential service\",\n",
    "                \"drinking water\", \"sanitation\", \"basic hygiene\", \"hygiene service\", \"toilet\", \"handwashing\", \"sewage\", \"WASH facilities\", \n",
    "                \"clean water\",\n",
    "                \"waste collection\", \"waste service\", \"waste facilit\", \"garbage service\", \"garbage collection\", \n",
    "                \"health service\", \"health facilit\", \"basic health\", \"essential health\", \"healthcare\", \"health care\", \"medical care\", \"essential medical\",\n",
    "                \"school service\", \"school facilit\", \"basic school\", \"primary school\", \"basic education\", \"education service\", \"primary education\",\n",
    "                \"basic communication service\", \"basic telecommunication service\", \"basic information service\", \"basic information infrastructure\",\n",
    "                \"electricity\", \"energy service\", \"modern energy\", \"clean fuel\", \"clean energy\", \"modern energy\",\n",
    "                \"public open space\", \"public space\", \"public green space\",\n",
    "                \"basic mobility\", \"urban mobility\", \"rural mobility\", \"all-season road\", \"transport service\", \"public transport\",\n",
    "\n",
    "                \"grunnleggende tjeneste\", \"grunnleggjande teneste\", \"greunnleggende fasilitet\", \n",
    "                \"drikkevann\", \"drikkevatn\", \"grunnleggende hygiene\", \"grunnleggjande hygiene\", \"kloakk\", \"toalett\", \"vannklosett\", \"vassklosett\", \"håndvask\", \"handvask\", \"sanitær\",\n",
    "                \"rent vann\", \"reint vatn\", \"reint vann\", \"innlagt vann\", \"innlagt vatn\", \"vanntilgang\", \"vannforsyning\",\n",
    "                \"avfallstjeneste\", \"avfallsteneste\", \"søppeltømming\", \"avfallsinnsamling\", \"bosteneste\", \"bosinnsamling\", \"bostømming\", \"renovasjon\",\n",
    "                \"helsetjeneste\", \"helseteneste\", \"fastlege\",\"helsevesen\",\n",
    "                \"ungdomsskole\", \"ungdomsskule\", \"barneskole\", \"barneskule\", \"grunnleggende utdannin\", \"grunnleggjande utdannin\", \n",
    "                \"kommunikasjonstjenester\", \"kommunikasjonstenester\", \"kommunikasjonsinfrastruktur\", \"grunnleggende kommunikasjon\",\n",
    "                \"energitjeneste\", \"energiteneste\", \"energilever\", \"elektrisitet\", \"energiforsyning\", \"kraftforsyning\", \"moderne energi\",\n",
    "                \"offentlig rom\", \"offentlige rom\", \"offentlege rom\", \"offentlege rom\", \"grønt areal\", \"grønne areal\", \"grøntområde\", \"friområde\", \"friareal\", \"rekreasjonsområde\",\n",
    "                \"offentlig transport\", \"offentlige transport\", \"offentleg transport\", \"offentlege transport\", \"kollektivtransport\", \"kollevktivtilb\", \"transport ordning\", \n",
    "                \"mobilitet\"\n",
    "                ]\n",
    "                #\"xxxxskole\"(NO) is specified here to avoid in Norwegian university names, e.g. \"Høyskole\"\n",
    "\n",
    "termlist11_1r = [\"housing\", \"settlements\", \"living conditions\",\n",
    "                 \"cities\", \"megacit\", \"urban\", \"metropolitan\", \n",
    "                 \"town\", \"village\", \"suburb\", \n",
    "                 \"municipal\", \"district\", \"region\", \"human settlement\", \"built-up area\", \"populated area\",\n",
    "                 \"local community\", \"neighborhood\", \"neighbourhood\", \n",
    "\n",
    "                 \"bolig\", \"bustad\", \"bosetting\", \"busetjing\", \"boforhold\"\n",
    "                 \"byer\", \"byar\", \"byen\", \"bydel\", \"byområde\", \"storby\", \"småby\", \"landsby\", \"kystby\", \"byplan\", \"byutvik\", \"bystruktur\", \"bymiljø\", \n",
    "                 \"bygd\", \"grend\", \"nærområde\", \"drabant\",\n",
    "                 \"kommun\", \"fylke\", \"distrikt\", \"befolka område\", \"befolket område\", \"tettsted\", \"tettstad\",\n",
    "                 \"samfunn\", \"lokalsamfunn\", \"nabolag\", \n",
    "                 \"oslo\", \"bergen\", \"trondheim\", \"stavanger\", \"tromsø\",\n",
    "                 ]\n",
    "\n",
    "termlist11_1rtrunc = [\"city\"] #\"city\" is prevented truncation due to \"capacity\" etc.\n",
    "\n",
    "phrasedefault11_1d = r'(?:{})'.format('|'.join(termlist11_1d))\n",
    "phrasedefault11_1e = r'(?:{})'.format('|'.join(termlist11_1e))\n",
    "phrasedefault11_1r = r'(?:{})'.format('|'.join(termlist11_1r))\n",
    "phrasespec11_1r_trunc = r'\\b(?:{})\\b'.format('|'.join(termlist11_1rtrunc))"
   ]
  },
  {
   "cell_type": "code",
   "execution_count": null,
   "id": "82ffcf21-4061-42b1-ba1a-54ac46bf774e",
   "metadata": {
    "colab": {
     "base_uri": "https://localhost:8080/"
    },
    "id": "L9bzri54O37u",
    "outputId": "c4202935-6ff0-4c29-851b-705cebcb0c22"
   },
   "outputs": [],
   "source": [
    "#Search\n",
    "Data.loc[(\n",
    "       (Data['result_title'].str.contains(phrasedefault11_1d, na=False, case=False))\n",
    "       & (Data['result_title'].str.contains(phrasedefault11_1e, na=False, case=False))\n",
    "       & ((Data['result_title'].str.contains(phrasedefault11_1r, na=False, case=False))|(Data['result_title'].str.contains(phrasespec11_1r_trunc, na=False, case=False)))\n",
    "),\"tempsdg11_01\"] = \"SDG11_01\"\n",
    "\n",
    "print(\"Number of results = \", len(Data[(Data.tempsdg11_01 == \"SDG11_01\")])) "
   ]
  },
  {
   "cell_type": "code",
   "execution_count": null,
   "id": "57d0208e-0c0a-45d1-985e-8d22855d1eea",
   "metadata": {
    "colab": {
     "base_uri": "https://localhost:8080/",
     "height": 529
    },
    "id": "7kWm-H0PuHls",
    "outputId": "dfc30e7b-65c8-454b-c155-c520f0214a53"
   },
   "outputs": [],
   "source": [
    "test=Data.loc[(Data.tempsdg11_01 == \"SDG11_01\"), (\"result_id\", \"result_title\")]\n",
    "test.iloc[0:5, ]"
   ]
  },
  {
   "cell_type": "markdown",
   "id": "3ba01dbf-40bb-413f-aa32-7c541e843a20",
   "metadata": {
    "id": "bS8kGirZFhtX"
   },
   "source": [
    "#### Phrase 3"
   ]
  },
  {
   "cell_type": "code",
   "execution_count": null,
   "id": "eddbaa70-9c3d-4b14-9ffd-36d6276b316b",
   "metadata": {
    "id": "IlrZIrNWFn0L"
   },
   "outputs": [],
   "source": [
    "#Termlists\n",
    "termlist11_1s = [\"shanty town\", \"informal settlement\",\n",
    "                 \"uformell bosetning\", \"uformelle bosetning\", \"uformell busetn\", \"uformelle busetn\"]\n",
    "\n",
    "termlist11_1strunk = [\"slum\", \"slums\"]\n",
    "\n",
    "phrasedefault11_1s = r'(?:{})'.format('|'.join(termlist11_1s))\n",
    "phrasedefault11_1strunk = r'\\b(?:{})\\b'.format('|'.join(termlist11_1strunk))\n",
    "#truncating \"slum\" adds noise"
   ]
  },
  {
   "cell_type": "code",
   "execution_count": null,
   "id": "dcec49e8-5219-48cb-ae91-c247e5725830",
   "metadata": {
    "colab": {
     "base_uri": "https://localhost:8080/"
    },
    "id": "wBA4NeTVM3qK",
    "outputId": "c2b1d508-2bec-4ce3-c450-70b6a2bcd47e"
   },
   "outputs": [],
   "source": [
    "#Search\n",
    "Data.loc[(\n",
    "    (Data['result_title'].str.contains(phrasedefault11_1s, na=False, case=False))|(Data['result_title'].str.contains(phrasedefault11_1strunk, na=False, case=False))             \n",
    "),\"tempsdg11_01\"] = \"SDG11_01\"\n",
    "\n",
    "print(\"Number of results = \", len(Data[(Data.tempsdg11_01 == \"SDG11_01\")])) "
   ]
  },
  {
   "cell_type": "code",
   "execution_count": null,
   "id": "1e70a401-9b7a-4799-b7ff-35f231f014e2",
   "metadata": {
    "colab": {
     "base_uri": "https://localhost:8080/",
     "height": 650
    },
    "id": "hiqVVdr4NKo5",
    "outputId": "6b8ed5f1-4ded-49b1-bb5d-cd1a904e11f0"
   },
   "outputs": [],
   "source": [
    "test=Data.loc[(Data.tempsdg11_01 == \"SDG11_01\"), (\"result_id\", \"result_title\")]\n",
    "test.iloc[0:5, ]"
   ]
  },
  {
   "cell_type": "markdown",
   "id": "eee4a1bf-90af-403d-9159-d2d1eb6059e8",
   "metadata": {
    "id": "eckj0buDKEpp"
   },
   "source": [
    "### SDG 11.2\n",
    "*By 2030, provide access to safe, affordable, accessible and sustainable transport systems for all, improving road safety, notably by expanding public transport*\n",
    "\n",
    "*Innen 2030 sørge for at alle har tilgang til trygge, tilgjengelige og bærekraftige transportsystemer til en overkommelig pris og bedre sikkerheten på veiene*"
   ]
  },
  {
   "cell_type": "markdown",
   "id": "02adab7c-5457-48d3-912f-d9d88868ef02",
   "metadata": {
    "id": "SFDRhq10zW_M"
   },
   "source": [
    "#### Phrase 1 & 2\n",
    "\n",
    "These two phrases are merged in this search. In addition we changed the structure - now, only terms that are ambiguous are combined with the \"city\" terms (e.g. \"transport\", \"vehice\", \"driver\")\n"
   ]
  },
  {
   "cell_type": "code",
   "execution_count": null,
   "id": "b7d7cdd7-71f5-4387-b56e-8e02afedd251",
   "metadata": {
    "id": "_T91rmCpscnM"
   },
   "outputs": [],
   "source": [
    "#Term lists\n",
    "\n",
    "termlist11_2a = [\"safe\", \"secure\", \"hazardous\",\"sustainab\", \"unsafe\", \"dangerous\",\"accident\",\"access\", \"availab\", \"reliab\", \"afford\", \"low cost\", \"low-cost\", \"expensive\", \"cost-effective\", \n",
    "                 \"sikker\", \"trygg\", \"farlig\", \"farleg\", \"risiko\", \"bærekraftig\", \"berekraftig\", \"tilgjengelig\", \"pålitelig\", \"rimelig\", \"billig\", \"kostbar\", \"kostnadseffektiv\"]\n",
    "termlist11_2a_trunc = [\"risk\", \"risks\", \"risky\"] \n",
    "\n",
    "termlist11_2b = [\"transport infrastructure\", \"public transport\", \"urban mobilit\", \"traffic\", \"roadway\", \"street\", \"roundabout\",\n",
    "                 \"highway\", \"motorway\", \"cycling lane\", \"cyclist\", \"cycle path\", \"bicycle lane\", \"walkway\", \"walking path\", \"sidewalk\", \"pavement\",\"pedestrian\",\"taxi\", \"ferry\",\n",
    "                 \"the underground\", \"railway\", \"airport\", \n",
    "                 \"travel\", \"car safety\", \"driver safety\", \"safe driving\", \"motorcycle\", \"automobile\", \"speed limit\",\n",
    "\n",
    "                 \"transportnettverk\", \"offentlig transport\", \"offentleg transport\", \"kollektivtransport\", \"transportinfrastruktur\", \"transportsystem\", \"trafikk\", \"rundkjøring\",\"rundkøyring\", \n",
    "                 \"motorvei\", \"motorveg\", \"sykkelsti\", \"sykkelve\", \"syklist\", \"gangve\", \"fortau\", \"drosje\", \"ferge\", \"hurtigbåt\",\n",
    "                 \"t-bane\", \"bybane\", \"jernbane\", \"flyplass\", \"kortbane\", \n",
    "                 \"sikkerhet i bil\", \"motorsykkel\", \"sjåfør\", \"kjøring\", \"kjøyring\", \"fartsgrense\"\n",
    "                 ] \n",
    "                 #\"driving\" and \"driver\" combined as otherwise problematic\n",
    "\n",
    "termlist11_2b2 = [\"transport system\",\"transport network\", \"driver\", \"vehicl\",\n",
    "                  \"reise\"]\n",
    "                  #terms that need to be combined with city-terms, as they are used in e.g. biomedicine\n",
    "                  #\"reise\" (NO) is moved here because often used in \"reiseliv\" (tourism)\n",
    "\n",
    "termlist11_2c = [\"road\", \"roads\", \"car\", \"cars\", \"bus\", \"train\", \"tube\", \"journey\",\n",
    "                 \"veier\", \"veger\", \"vegar\", \"gate\", \"gater\", \"buss\", \"train\", \"tube\", \"metro\", \"tog\", \"fører\", \"førere\"\n",
    "                 #\"veg\", \"vei\"\n",
    "                 ]\n",
    "                #terms where truncation is prevented\n",
    "                #\"vei\" and \"veg\", although relevant terms (= way, road) seem to be used nearly always metaphorically (\"way to safer workplaces\") so suggest removal for practical reasons\n",
    "\n",
    "termlist11_2d = [\"cities\", \"megacit\", \"urban\", \"metropolitan\", \n",
    "                 \"town\", \"village\", \"suburb\", \n",
    "                 \"municipal\", \"district\", \"region\", \"human settlement\", \"built-up area\", \"populated area\",\n",
    "                 \"community\", \"neighborhood\", \"neighbourhood\", \n",
    "\n",
    "                 \"byer\", \"byar\", \"byen\", \"bydel\", \"byområde\", \"storby\", \"småby\", \"landsby\", \"kystby\", \"byplan\", \"byutvik\", \"bystruktur\", \"bymiljø\", \n",
    "                 \"bygd\", \"grend\", \"nærområde\", \"drabant\",\n",
    "                 \"kommun\", \"fylke\", \"distrikt\", \"befolka område\", \"befolket område\", \"tettsted\", \"tettstad\",\n",
    "                 \"samfunn\", \"lokalsamfunn\", \"nabolag\", \n",
    "                 \"oslo\", \"bergen\", \"trondheim\", \"stavanger\", \"tromsø\",\n",
    "                 ]\n",
    "\n",
    "termlist11_2dtrunc = [\"city\"] #\"city\" is here due to capaCITY etc.\n",
    "\n",
    "phrasedefault11_2a = r'(?:{})'.format('|'.join(termlist11_2a))\n",
    "phrasespecific11_2atrunc = r'\\b(?:{})\\b'.format('|'.join(termlist11_2a_trunc))\n",
    "phrasedefault11_2b = r'(?:{})'.format('|'.join(termlist11_2b))\n",
    "phrasedefault11_2b2 = r'(?:{})'.format('|'.join(termlist11_2b2))\n",
    "phrasespecific11_2c = r'\\b(?:{})\\b'.format('|'.join(termlist11_2c))\n",
    "phrasedefault11_2d = r'(?:{})'.format('|'.join(termlist11_2d))\n"
   ]
  },
  {
   "cell_type": "code",
   "execution_count": null,
   "id": "156542fa-bea6-4268-a653-5bf80b091912",
   "metadata": {
    "colab": {
     "base_uri": "https://localhost:8080/"
    },
    "id": "sC2Q2HJqDzJU",
    "outputId": "14e882a8-a8c9-4591-c772-4d1aa5c6d9b5"
   },
   "outputs": [],
   "source": [
    "#Search 1\n",
    "Data.loc[(\n",
    "    (\n",
    "        (Data['result_title'].str.contains(phrasedefault11_2a, na=False, case=False))\n",
    "        |(Data['result_title'].str.contains(phrasespecific11_2atrunc, na=False, case=False))\n",
    "    )\n",
    "    &\n",
    "    (\n",
    "        (Data['result_title'].str.contains(phrasedefault11_2b, na=False, case=False))\n",
    "        |(Data['result_title'].str.contains(phrasespecific11_2c, na=False, case=False))\n",
    "        |((Data['result_title'].str.contains(phrasedefault11_2b2, na=False, case=False)) & (Data['result_title'].str.contains(phrasedefault11_2d, na=False, case=False)))\n",
    "    )\n",
    "),\"tempsdg11_02\"] = \"SDG11_02\"\n",
    "\n",
    "print(\"Number of results = \", len(Data[(Data.tempsdg11_02 == \"SDG11_02\")]))"
   ]
  },
  {
   "cell_type": "code",
   "execution_count": null,
   "id": "496417ac-097c-4ef6-9647-98076d0eaafe",
   "metadata": {
    "colab": {
     "base_uri": "https://localhost:8080/"
    },
    "id": "AZNkbb57ew8h",
    "outputId": "1d7f3b50-256c-46d8-f948-765975fda02d"
   },
   "outputs": [],
   "source": [
    "test=Data.loc[(Data.tempsdg11_02 == \"SDG11_02\"), (\"result_id\", \"result_title\")]\n",
    "test.iloc[0:5, ]"
   ]
  },
  {
   "cell_type": "markdown",
   "id": "69452a7d-51ab-4180-a933-19062bfaf0a0",
   "metadata": {},
   "source": [
    "#### Phrase 3"
   ]
  },
  {
   "cell_type": "code",
   "execution_count": null,
   "id": "470e30d1-0a11-45d0-98e2-3e37d4be00c1",
   "metadata": {
    "tags": []
   },
   "outputs": [],
   "source": [
    "#Term lists\n",
    "termlist11_2e  = [\"provide\", \"provision\", \"improv\", \"moderni\", \"reduc\", \"increas\", \"expand\", \"build\", \"boost\", \"rais\", \"extend\", \"implement\", \"establish\", \"develop\", \"strengthen\", \"enhanc\",\n",
    "                 \"tilbyr\", \"etablere\", \"forbedr\", \"styrk\", \"bedring\", \"betring\", \"reduser\", \"bygg\", \"utvikl\", \"oppgrad\", \"muliggjør\"]  \n",
    "\n",
    "termlist11_2f  = [\"public transport\",\n",
    "                 \"offentlig transport\", \"offentleg transport\", \"kollektivtransport\"] \n",
    "\n",
    "phrasedefault11_2e = r'(?:{})'.format('|'.join(termlist11_2e))\n",
    "phrasedefault11_2f = r'(?:{})'.format('|'.join(termlist11_2f))"
   ]
  },
  {
   "cell_type": "code",
   "execution_count": null,
   "id": "076d1127-55dc-4c65-82ae-b58c7c77100a",
   "metadata": {
    "colab": {
     "base_uri": "https://localhost:8080/"
    },
    "id": "sC2Q2HJqDzJU",
    "outputId": "14e882a8-a8c9-4591-c772-4d1aa5c6d9b5"
   },
   "outputs": [],
   "source": [
    "#Search 1\n",
    "Data.loc[(\n",
    "    (\n",
    "        (Data['result_title'].str.contains(phrasedefault11_2e, na=False, case=False))\n",
    "        &(Data['result_title'].str.contains(phrasedefault11_2f, na=False, case=False))\n",
    "    )\n",
    "),\"tempsdg11_02\"] = \"SDG11_02\"\n",
    "\n",
    "print(\"Number of results = \", len(Data[(Data.tempsdg11_02 == \"SDG11_02\")]))"
   ]
  },
  {
   "cell_type": "code",
   "execution_count": null,
   "id": "4e96d278-b8e0-4615-aa88-1dcecaf3b0a7",
   "metadata": {
    "colab": {
     "base_uri": "https://localhost:8080/"
    },
    "id": "AZNkbb57ew8h",
    "outputId": "1d7f3b50-256c-46d8-f948-765975fda02d"
   },
   "outputs": [],
   "source": [
    "test=Data.loc[(Data.tempsdg11_02 == \"SDG11_02\"), (\"result_id\", \"result_title\")]\n",
    "test.iloc[0:5, ]"
   ]
  },
  {
   "cell_type": "markdown",
   "id": "d8078428-31ee-4040-9497-ff5a552f4b1d",
   "metadata": {
    "id": "bqyhuM4GSL9E"
   },
   "source": [
    "### SDG 11.3\n",
    "\n",
    "*By 2030, enhance inclusive and sustainable urbanization and capacity for participatory, integrated and sustainable human settlement planning and management in all countries*\n",
    "\n",
    "*Innen 2030 styrke inkluderende og bærekraftig urbanisering og muligheten for en deltakende, integrert og bærekraftig samfunnsplanlegging og forvaltning i alle land*"
   ]
  },
  {
   "cell_type": "markdown",
   "id": "9f9b1f4c-40d2-4100-906b-950d06bf64b2",
   "metadata": {
    "id": "Hg35rxTASb_T"
   },
   "source": [
    "#### Phrase 1"
   ]
  },
  {
   "cell_type": "code",
   "execution_count": null,
   "id": "99fba34f-3053-4d34-87b3-67d6e2beac2d",
   "metadata": {
    "id": "NbR7x3qsTHjz"
   },
   "outputs": [],
   "source": [
    "#Termlists\n",
    "termlist11_3a = [\"sustainab\", \"inclusiv\", \"participatory\", \"participation\",\n",
    "                 \"bærekraft\", \"berekraft\", \"inkluder\", \"deltak\", \"deltag\"]\n",
    "\n",
    "termlist11_3b = [\"urbanisation\", \"urbanization\", \"urban development\", \"human settlement planning\", \"urban planning\",\n",
    "                 \"urbanisering\", \"urban utvikling\", \"byutvikling\", \"byplan\"]\n",
    "\n",
    "phrasedefault11_3a = r'(?:{})'.format('|'.join(termlist11_3a))\n",
    "phrasedefault11_3b = r'(?:{})'.format('|'.join(termlist11_3b))"
   ]
  },
  {
   "cell_type": "code",
   "execution_count": null,
   "id": "02325b0e-539a-43fa-b673-21b1f7d8488c",
   "metadata": {
    "colab": {
     "base_uri": "https://localhost:8080/"
    },
    "id": "-U5sdMNiVOva",
    "outputId": "8930e05d-a096-4215-e7f3-245ee56a7557"
   },
   "outputs": [],
   "source": [
    "#Search 11_3\n",
    "phrase11_3ab = Data.loc[(\n",
    "    (Data['result_title'].str.contains(phrasedefault11_3a, na=False, case=False))\n",
    "    & (Data['result_title'].str.contains(phrasedefault11_3b, na=False, case=False))             \n",
    "),\"tempsdg11_03\"] = \"SDG11_03\"\n",
    "\n",
    "print(\"Number of results = \", len(Data[(Data.tempsdg11_03 == \"SDG11_03\")]))  "
   ]
  },
  {
   "cell_type": "code",
   "execution_count": null,
   "id": "3a3c8d0d-6de0-4fde-bb26-3351d6e101f5",
   "metadata": {
    "colab": {
     "base_uri": "https://localhost:8080/",
     "height": 563
    },
    "id": "RGFScO68V5RE",
    "outputId": "61b4e3a0-e158-4c85-8af0-a5ac9ce8b92a"
   },
   "outputs": [],
   "source": [
    "test=Data.loc[(Data.tempsdg11_03 == \"SDG11_03\"), (\"result_id\", \"result_title\")]\n",
    "test.iloc[0:5, ]"
   ]
  },
  {
   "cell_type": "markdown",
   "id": "fda87dbd-3873-4d8d-bc6b-f93f6856c9ef",
   "metadata": {
    "id": "x6cRDVHdWKkP"
   },
   "source": [
    "#### Phrase 2"
   ]
  },
  {
   "cell_type": "code",
   "execution_count": null,
   "id": "d8622b4e-a6c0-4c30-ab77-283d3ce9b144",
   "metadata": {
    "id": "p5wZrE3XWYw8"
   },
   "outputs": [],
   "source": [
    "#Termlists\n",
    "termlist11_3c = [\"settlement\", \n",
    "                 \"cities\", \"megacit\", \"urban\", \"metropolitan\", \n",
    "                 \"town\", \"village\", \"suburb\", \n",
    "                 \"municipal\", \"district\", \"region\", \"human settlement\", \"built-up area\", \"populated area\",\n",
    "                 \"neighborhood\", \"neighbourhood\", \n",
    "                 \"local communit\", \n",
    "\n",
    "                 \"byer\", \"byar\", \"byen\", \"bydel\", \"byområde\", \"storby\", \"småby\", \"kystby\", \"byplan\", \"byutvik\", \"bystruktur\", \"bymiljø\", \n",
    "                 \"bygd\", \"grend\", \"nærområde\", \"drabant\",\n",
    "                 \"kommun\", \"fylke\", \"distrikt\", \"befolka område\", \"befolket område\", \"tettsted\", \"tettstad\",\n",
    "                 \"bosetting\", \"busetting\", \n",
    "                 \"nabolag\", \n",
    "                 \"lokal samfunn\",\n",
    "                 \"oslo\", \"bergen\", \"trondheim\", \"stavanger\", \"tromsø\",\n",
    "                 ]\n",
    "termlist11_3c_trunc = [\"city\"]\n",
    "\n",
    "termlist11_3d = [\"manag\",\n",
    "                 \"planleg\", \"lede\", \"leiing\", \"styring\", \"forvalt\"]\n",
    "\n",
    "termlist11_3d_trunc = [\"plan\",\"plans\",\"planning\"]  \n",
    "\n",
    "termlist11_3e = [\"democra\", \"taking part\", \"sustainab\", \"participatory\", \"participation\", \"stakeholder\",\n",
    "                 \"demokrat\", \"delta\", \"bærekraft\", \"berekraft\", \"interessent\"]\n",
    "\n",
    "phrasedefault11_3c = r'(?:{})'.format('|'.join(termlist11_3c))\n",
    "phrasedefault11_3c_trunc = r'\\b(?:{})\\b'.format('|'.join(termlist11_3c_trunc))\n",
    "phrasedefault11_3d = r'(?:{})'.format('|'.join(termlist11_3d))\n",
    "phrasedefault11_3d_trunc = r'\\b(?:{})\\b'.format('|'.join(termlist11_3d_trunc))\n",
    "phrasedefault11_3e = r'(?:{})'.format('|'.join(termlist11_3e))"
   ]
  },
  {
   "cell_type": "code",
   "execution_count": null,
   "id": "6805434e-f343-406c-9143-6c39ced73664",
   "metadata": {
    "colab": {
     "base_uri": "https://localhost:8080/"
    },
    "id": "qSTtcNrlWkhx",
    "outputId": "2124f35e-d429-4df5-e90a-1d132f5ec4e8"
   },
   "outputs": [],
   "source": [
    "#Search 11_3\n",
    "phrase11_3cde = Data.loc[(\n",
    "    ((Data['result_title'].str.contains(phrasedefault11_3c, na=False, case=False))|(Data['result_title'].str.contains(phrasedefault11_3c_trunc, na=False, case=False)))\n",
    "    & ((Data['result_title'].str.contains(phrasedefault11_3d, na=False, case=False))|(Data['result_title'].str.contains(phrasedefault11_3d_trunc, na=False, case=False)))\n",
    "    & (Data['result_title'].str.contains(phrasedefault11_3e, na=False, case=False))             \n",
    "),\"tempsdg11_03\"] = \"SDG11_03\"\n",
    "\n",
    "print(\"Number of results = \", len(Data[(Data.tempsdg11_03 == \"SDG11_03\")]))  "
   ]
  },
  {
   "cell_type": "markdown",
   "id": "bb58065e-0aef-467c-98b6-e7634d0fffd0",
   "metadata": {
    "id": "yLmB-OGuYKiZ"
   },
   "source": [
    "### SDG 11.4\n",
    "\n",
    "*Strengthen efforts to protect and safeguard the world’s cultural and natural heritage*\n",
    "\n",
    "*Styrke innsatsen for å verne og sikre verdens kultur- og naturarv*"
   ]
  },
  {
   "cell_type": "code",
   "execution_count": null,
   "id": "4c9e7a43-b75d-4988-a8dc-a27ffe0f4a68",
   "metadata": {
    "id": "40qFDOJVzVY1"
   },
   "outputs": [],
   "source": [
    "#Termlists\n",
    "termlist11_4a = [\"manag\", \"maintain\", \"conservation\", \"conserving\", \"conserve\", \"preserv\", \"sustain\", \"protect\", \"safeguard\",\n",
    "                 \"forvalt\", \"vedlikeh\", \"bevar\", \"konserver\", \"ta vare på\", \"oppretthold\", \"oppretthald\", \"sikre\", \"beskytte\", \"verne\", \"verna\", \"vern av\", \"frede\", \"freda\", \"fredning\", \"freding\",\n",
    "                 ]\n",
    "\n",
    "termlist11_4b = [\"cultural heritage\", \"culture heritage\", \"cultural landscape\", \"heritage object\", \"heritage building\", \"heritage site\", \"museum\",\n",
    "                 \"archaeological place\", \"archaeological site\", \"historical place\", \"historical building\", \"historical monument\", \"historical artefact\",\n",
    "                 \"natural heritage\", \"nature formation\", \"geopark\", \"nature park\", \"nature reserv\", \"zoo\", \"zoological garden\", \"botanical garden\", \"aquarium\", \"aquaria\",\n",
    "\n",
    "                 \"kulturarv\", \"kulturlandskap\", \"kulturminne\", \"historisk bygning\", \"historisk sted\",\n",
    "                 \"arkeologisk sted\", \"arkeologisk stad\", \"arkelogisk kulturminne\", \"fornminne\", \"arkeologisk område\", \"historisk monument\", \"historisk gjenstand\",\n",
    "                 \"naturarv\", \"naturformasjon\", \"naturpark\", \"nasjonalpark\", \"naturreservat\", \"dyrehage\", \"zoologisk hage\", \"botanisk hage\", \"akvarium\", \"akvarie\"\n",
    "                 ]\n",
    "\n",
    "phrasedefault11_4a = r'(?:{})'.format('|'.join(termlist11_4a))\n",
    "phrasedefault11_4b = r'(?:{})'.format('|'.join(termlist11_4b))"
   ]
  },
  {
   "cell_type": "code",
   "execution_count": null,
   "id": "f643fb5c-5e79-437a-8bac-343b0e518304",
   "metadata": {
    "colab": {
     "base_uri": "https://localhost:8080/"
    },
    "id": "VWznddjtzWiM",
    "outputId": "1b2679a5-6158-45cd-cb1c-8d19713be3b6"
   },
   "outputs": [],
   "source": [
    "#Search 11_4\n",
    "phrase11_4ab = Data.loc[(\n",
    "                 (Data['result_title'].str.contains(phrasedefault11_4a, na=False, case=False))&\n",
    "                 (Data['result_title'].str.contains(phrasedefault11_4b, na=False, case=False))           \n",
    "),\"tempsdg11_04\"] = \"SDG11_04\"\n",
    "\n",
    "print(\"Number of results = \", len(Data[(Data.tempsdg11_04 == \"SDG11_04\")]))  "
   ]
  },
  {
   "cell_type": "code",
   "execution_count": null,
   "id": "84aab5ef-1f18-498a-9566-4a2ec2881f1b",
   "metadata": {
    "colab": {
     "base_uri": "https://localhost:8080/"
    },
    "id": "h2RzRufaLr8_",
    "outputId": "dd3cb674-9d4a-48f6-82ba-5ab74018cf36"
   },
   "outputs": [],
   "source": [
    "test=Data.loc[(Data.tempsdg11_04 == \"SDG11_04\"), (\"result_id\", \"result_title\")]\n",
    "test.iloc[0:5, ]"
   ]
  },
  {
   "cell_type": "markdown",
   "id": "5db908ac-ac55-4002-9932-7399bf804c8c",
   "metadata": {
    "id": "22oPnK5MYqXQ"
   },
   "source": [
    "### SDG 11.5\n",
    "\n",
    "*By 2030, significantly reduce the number of deaths and the number of people affected and substantially decrease the direct economic losses relative to global gross domestic product caused by disasters, including water-related disasters, with a focus on protecting the poor and people in vulnerable situations*\n",
    "\n",
    "*Innen 2030 oppnå en betydelig reduksjon i antall dødsfall og antall personer som rammes av katastrofer, inkludert vannrelaterte katastrofer, og i betydelig grad minske de direkte økonomiske tapene i verdens samlede bruttonasjonalprodukt som følge av slike katastrofer, med vekt på å beskytte fattige og personer i utsatte situasjoner*"
   ]
  },
  {
   "cell_type": "markdown",
   "id": "63146571-9371-4f9f-a8dc-903f13e45313",
   "metadata": {
    "id": "L3e9dyfHYwH_"
   },
   "source": [
    "#### Phrase 1"
   ]
  },
  {
   "cell_type": "code",
   "execution_count": null,
   "id": "7e8768a5-695c-41f8-8817-6b9e799f1ccd",
   "metadata": {
    "id": "7MXaHuB55acX"
   },
   "outputs": [],
   "source": [
    "#Termlists\n",
    "termlist11_5a = [\"disaster\", \"catastrophe\", \n",
    "                 \"katastrofe\", \"krise\"]\n",
    "termlist11_5b = [\"extreme\", \n",
    "                 \"ekstrem\"]\n",
    "termlist11_5c = [\"climat\", \"weather\", \"precipitation\", \"rain\", \"snow\", \"temperatur\", \"storm\", \"wind\",\n",
    "                 \"klima\", \"vær\", \"nedbør\", \"regn\", \"snø\", \"vind\"]\n",
    "termlist11_5d = [\"natural\", \"climat\",\"anthropogenic\", \"environmental\", \"deforestation\", \"desertification\", \"degradation\", \"pollution\", \"erosion\", \"chemical\", \"heavy metal\", \"pesticide\", \"biological\", \n",
    "                 \"zoonotic\", \"technological\", \"radioactive\", \"nuclear\", \"cyber\", \"industrial\", \"construction\", \"transportation\",\n",
    "                 \"naturl\", \"klima\", \"antropogen\", \"miljømessig\", \"avskoging\", \"forørkning\", \"forørking\", \"forverring\", \"ødelegging\", \"øydelegging\", \"forurensing\", \"forureining\", \"erosjon\", \"avrenning\",\n",
    "                 \"kjemisk\", \"tungmetall\", \"plantegift\", \"plantevernmid\", \"insekticid\", \"fungicid\", \"biologisk\", \"zoonotisk\", \"teknologisk\", \"radioaktiv\", \"atom\", \"industriell\", \"bygge\",\n",
    "               ]\n",
    "termlist11_5e = [\"hazard\",\n",
    "                 \"fare\", \"risiko\"]  \n",
    "termlist11_5f = [\"extreme climat\", \"extreme weather\", \"extreme precipitation\", \"extreme rain\", \"extreme snow\", \"extreme temperatur\", \"extreme storm\", \"extreme wind\", \n",
    "                 \"rogue wave\", \"tsunami\", \"cyclone\", \"typhoon\", \"hurricane\", \"tornado\", \n",
    "                 \"drought\", \"flood\", \n",
    "                 \"avalanche\", \"landslide\", \"land-slide\", \"land slide\", \"rockslide\", \"rock-slide\", \"rock slide\", \"rockfall\", \"surface collapse\", \"mudflow\", \"mud-flow\", \n",
    "                 \"cold spell\", \"cold wave\", \"dzud\", \"blizzard\", \"snowstorm\", \n",
    "                 \"heatwave\", \"heat-wave\", \n",
    "                 \"earthquake\", \"volcan\", \"ash cloud\", \"ash fall\", \"tephra\", \n",
    "                 \"wildfire\", \"wild-fire\", \"wild fire\", \"forest-fire\", \"forest fire\", \"forestfire\", \n",
    "                 \"sea-level rise\", \"sea-level change\", \"rising sea-level\", \n",
    "                 \"armed conflict\", \"political instability\", \"civil instability\", \"politically volatile\", \n",
    "                 \"unrest\", \"financial crash\", \"financial shock\", \"economic downturn\", \"economic shock\",\n",
    "\n",
    "                 \"ekstremvær\", \"ekstremver\", \n",
    "                 \"tropisk lavtrykk\", \"tropisk lågtrykk\", \"flodbølg\", \"monsterbølg\", \"ekstrembølg\", \n",
    "                 \"orkan\",  \"tyfon\", \"syklon\", \"snøstorm\", \n",
    "                 \"flom\", \"flaum\", \"oversvøm\", \"ovefløym\", \"tørke\", \n",
    "                 \"snøskred\", \"skred\", \"snøras\", \"lavine\", \"jordskred\", \"jordras\", \"sørpeskred\", \"leirras\", \"leirskred\", \"steinras\", \"steinskred\", \"synkehull\", \n",
    "                 \"uvanlig kulde\", \"uvanlig kaldt\", \"uvanleg kulde\", \"uvanleg kaldt\", \"ekstrem kuld\", \"ekstremkuld\", \"kuldebølg\", \"snøstorm\", \n",
    "                 \"varmebølg\", \"hetebølg\", \"ekstrem varm\", \"ekstremvarm\", \"uvanlig varm\", \"uvanleg varm\", \n",
    "                 \"jordskjelv\", \"vulkan\", \"askenedfall\", \"oskenedfall\", \"askesky\", \"oskesky\", \n",
    "                 \"skogbrann\", \"gressbrann\", \"grasbrann\", \"lyngbrann\", \n",
    "                 \"havnivåstigning\", \"stormflo\", \n",
    "                 \"politisk ustabilitet\", \"væpnede konflikter\", \"væpnet konflikt\", \"væpna konflikt\", \"borgerkrig\", \"borgarkrig\", \"fremmedkrig\", \"finanskrise\", \"finanssjokk\", \n",
    "                 \"finanskatastrofe\", \"finanskræsj\", \"økonomisk nedgang\", \"økonomisk sjokk\", \"økonomisk katastrofe\"\n",
    "                 ]   \n",
    "termlist11_5ftrunc = [\"war\", \"wars\", \n",
    "                      \"krig\", \"ras\"]  #terms where we need to prevent truncation             \n",
    "#termlist11_5g = [\"sea level\",\n",
    "#                 \"havnivå\"] \n",
    "#termlist11_5h = [\"change\", \"changing\", \"rising\", \"rise\",\n",
    "#                 \"endre\", \"endring\", \"øke\", \"auke\", \"økning\", \"heve\", \"heving\"] \n",
    "termlist11_5j = [\"volatil\", \"unstable\", \"instability\", \"unrest\",\n",
    "                 \"flyktig\", \"ustabil\", \"instabilitet\", \"uro\"]\n",
    "termlist11_5k = [\"political\", \"civil\",\n",
    "                 \"politisk\", \"sivil\"]\n",
    "\n",
    "termlist11_5l = [\"death\", \"casualt\", \"survivors\", \"fatal\",\n",
    "                 \"død\", \"daud\" \"offer\", \"ofre\", \"overlevende\", \"overlevande\"]\n",
    "\n",
    "termlist11_5s = [\"affected\", \"injur\", \"trauma\", \"displaced\", \"missing\",\n",
    "                 \"berørte\", \"skadde\", \"traumatisert\", \"fordrevne\", \"fordrivne\", \"savnede\", \"savnet\", \"sakna\"]\n",
    "termlist11_5t = [\"people\", \"person\", \"civilian\", \"women\", \"men\", \"child\",\n",
    "                 \"folk\", \"sivile\", \"kvinner\", \"menn\", \"barn\", \"born\"]\n",
    "\n",
    "termlist11_5m = [\"surviv\", \"mortalit\",\n",
    "                 \"overlev\", \"død\"]\n",
    "\n",
    "termlist11_5n = [\"people\", \"human\", \"patient\", \"victim\", \"civilian\", \n",
    "                 \"city\",\"cities\", \"megacit\", \"urban\", \"metropolitan\", \n",
    "                 \"town\", \"village\", \"suburb\", \n",
    "                 \"municipal\", \"district\", \"region\", \"human settlement\", \"built-up area\", \"populated area\",\n",
    "                 \"community\", \"neighborhood\", \"neighbourhood\", \n",
    "                 \"public\", \"poverty\", \"the poor\", \"the poorest\", \"rural poor\", \"urban poor\", \"working poor\", \"destitute\", \"living in poverty\", \"the vulnerable\", \"vulnerable group\", \n",
    "                 \"vulnerable communit\", \"marginalised group\", \"marginalized group\", \"marginalised communit\", \"marginalised communit\", \"disadvantaged group\", \"disadvantaged communit\", \n",
    "                 \"slum\", \"shanty town\", \"informal settlement\", \"homeless\", \"disabled\", \"disabilities\", \"disability\", \"elderly\", \"elders\", \"pensioners\", \"vulnerable seniors\", \"unemployed\"\n",
    "                 \"women\", \"woman\", \"girl\", \"pregnant\", \"pregnancy\", \"maternity\", \"child\", \"children\", \"infant\", \"babies\", \"newborn\", \"toddler\", \"youth\", \"sexual minorit\", \"LGBT\", \"lesbian\", \n",
    "                 \"gay\", \"bisexual\", \"transgender\", \"living with HIV\", \"living with AIDS\", \"ethnic minorit\", \"minority group\", \"refugee\", \"migrant\", \"asylum\", \"indigenous group\",\n",
    "                 \n",
    "                 \"folk\", \"menneske\", \"pasient\", \"offer\", \"sivil\", \"borger\", \"borgar\", \n",
    "                 \"byer\", \"byar\", \"byen\", \"bydel\", \"byområde\", \"storby\", \"småby\", \"landsby\", \"kystby\", \"byplan\", \"byutvik\", \"bystruktur\", \"bymiljø\", \n",
    "                 \"bygd\", \"grend\", \"nærområde\", \"drabant\",\n",
    "                 \"kommun\", \"fylke\", \"distrikt\", \"befolka område\", \"befolket område\", \"tettsted\", \"tettstad\",\n",
    "                 \"lokalsamfunn\", \"nabolag\", \n",
    "                 \"fattig\", \"lavinntekt\", \"lav inntekt\", \"låginntekt\", \"låg inntekt\", \"sårbar\", \"marginalisert\", \"diskrimin\", \"uformell bosetting\", \"uformell busetnad\", \"uformelle bosettinger\", \n",
    "                 \"uformelle busetnader\", \"hjemløs\",\"heimlaus\", \"uføre\", \"funksjonshem\", \"eldre\", \"de gamle\", \"dei gamle\", \"pensjonist\", \"arbeidsløs\",\"arbeidslaus\", \"kvinne\", \"jente\", \"gravid\", \n",
    "                 \"barn\", \"born\", \"babier\", \"nyfødt\", \"nyfødd\", \"ungdom\", \"seksuell minoritet\", \"seksuelle minoritet\", \"urfolk\", \"urinnvånarar\", \"urbefolkning\", \"urinnvånere\", \"sápmi\", \"sami\", \n",
    "                 \"minoritet\", \"jøder\", \"jådar\", \"kvener\", \"kvenar\", \"norskfinn\", \"skogfinn\", \"romani\", \"tatere\", \"taterar\", \"asylsøk\", \"flyktning\", \"innvandrer\", \"innvandrar\", \"transperson\", \n",
    "                 \"lesbisk\", \"homofile\", \"bifile\", \"lbht\", \"interkjønn\", \"leve med aids\", \"leve med hiv\", \"lever med aids\", \"lever med hiv\"\n",
    "                 ]     \n",
    "termlist11_5o = [\"poor\", \"poorest\", \"low income\", \"lower income\", \"lowest income\"]  #other terms/norwegian terms already covered in 5n\n",
    "termlist11_5p = [\"household\", \"people\", \"children\", \"communit\",\n",
    "                \"husholdning\", \"hushaldning\", \"folk\", \"menneske\", \"samfunn\"]\n",
    "termlist11_5q = [\"person\", \"people\", \"adult\",\n",
    "                \"folk\", \"menneske\", \"voksen\", \"vaksen\"]\n",
    "termlist11_5r = [\"vulnerable\", \"marginalised\", \"marginalized\", \"disadvantaged\", \"discriminated\", \"displaced\", \"patient\", \"trans\", \"intersex\", \"older\", \"old\", \"elderly\", \"retired\", \"indigenous\", \n",
    "                \"sårbar\", \"marginalisert\", \"diskrimin\", \"fordrev\", \"pasient\", \"transperson\", \"lesbisk\", \"homofile\", \"bifile\", \"lbht\", \"interkjønn\" \"uføre\", \"funksjonshem\", \"eldre\", \"de gamle\", \n",
    "                \"dei gamle\", \"urfolk\", \"urinnvånarar\", \"urbefolkning\", \"urinnvånere\"]\n",
    "\n",
    "phrasedefault11_5a = r'(?:{})'.format('|'.join(termlist11_5a))\n",
    "phrasedefault11_5b = r'(?:{})'.format('|'.join(termlist11_5b))\n",
    "phrasedefault11_5c = r'(?:{})'.format('|'.join(termlist11_5c))\n",
    "phrasedefault11_5d = r'(?:{})'.format('|'.join(termlist11_5d))\n",
    "phrasedefault11_5e = r'(?:{})'.format('|'.join(termlist11_5e))\n",
    "phrasedefault11_5f = r'(?:{})'.format('|'.join(termlist11_5f))\n",
    "phrasedefault11_5ftrunc = r'\\b(?:{})\\b'.format('|'.join(termlist11_5ftrunc))\n",
    "#phrasedefault11_5g = r'(?:{})'.format('|'.join(termlist11_5g))\n",
    "#phrasedefault11_5h = r'(?:{})'.format('|'.join(termlist11_5h))\n",
    "phrasedefault11_5j = r'(?:{})'.format('|'.join(termlist11_5j))\n",
    "phrasedefault11_5k = r'(?:{})'.format('|'.join(termlist11_5k))\n",
    "phrasedefault11_5l = r'(?:{})'.format('|'.join(termlist11_5l))\n",
    "phrasedefault11_5m = r'(?:{})'.format('|'.join(termlist11_5m))\n",
    "phrasedefault11_5n = r'(?:{})'.format('|'.join(termlist11_5n))\n",
    "phrasedefault11_5o = r'(?:{})'.format('|'.join(termlist11_5o))\n",
    "phrasedefault11_5p = r'(?:{})'.format('|'.join(termlist11_5p))\n",
    "phrasedefault11_5q = r'(?:{})'.format('|'.join(termlist11_5q))\n",
    "phrasedefault11_5r = r'(?:{})'.format('|'.join(termlist11_5r))\n",
    "phrasedefault11_5s = r'(?:{})'.format('|'.join(termlist11_5s))\n",
    "phrasedefault11_5t = r'(?:{})'.format('|'.join(termlist11_5t))\n",
    "#The NOT-part at the end of WoS string is not included, as probably not needed/useful in title searching"
   ]
  },
  {
   "cell_type": "code",
   "execution_count": null,
   "id": "eba3de67-cf47-4c3a-b1cd-cbd9b368ed8e",
   "metadata": {
    "colab": {
     "base_uri": "https://localhost:8080/"
    },
    "id": "yisx9QFw5e3q",
    "outputId": "3f6787bf-f8c4-490b-84a1-95ffa5aad823"
   },
   "outputs": [],
   "source": [
    "#Search 11_5\n",
    "Data.loc[(\n",
    "    (\n",
    "        (Data['result_title'].str.contains(phrasedefault11_5a, na=False, case=False))\n",
    "        |((Data['result_title'].str.contains(phrasedefault11_5b, na=False, case=False)) & (Data['result_title'].str.contains(phrasedefault11_5c, na=False, case=False)))\n",
    "        |((Data['result_title'].str.contains(phrasedefault11_5d, na=False, case=False)) & (Data['result_title'].str.contains(phrasedefault11_5e, na=False, case=False)))\n",
    "        |((Data['result_title'].str.contains(phrasedefault11_5j, na=False, case=False)) & (Data['result_title'].str.contains(phrasedefault11_5k, na=False, case=False)))          \n",
    "        |(Data['result_title'].str.contains(phrasedefault11_5f, na=False, case=False))\n",
    "        |(Data['result_title'].str.contains(phrasedefault11_5ftrunc, na=False, case=False))\n",
    "    )\n",
    "    &\n",
    "    (\n",
    "        (Data['result_title'].str.contains(phrasedefault11_5l, na=False, case=False))\n",
    "        |((Data['result_title'].str.contains(phrasedefault11_5s, na=False, case=False)) & (Data['result_title'].str.contains(phrasedefault11_5t, na=False, case=False)))\n",
    "        |(\n",
    "            (Data['result_title'].str.contains(phrasedefault11_5m, na=False, case=False))\n",
    "            &\n",
    "            ( \n",
    "                (Data['result_title'].str.contains(phrasedefault11_5n, na=False, case=False))\n",
    "                |((Data['result_title'].str.contains(phrasedefault11_5o, na=False, case=False)) & (Data['result_title'].str.contains(phrasedefault11_5p, na=False, case=False)))\n",
    "                |((Data['result_title'].str.contains(phrasedefault11_5q, na=False, case=False)) & (Data['result_title'].str.contains(phrasedefault11_5r, na=False, case=False)))\n",
    "            )\n",
    "        )\n",
    "    )        \n",
    "),\"tempsdg11_05\"] = \"SDG11_05\"\n",
    "\n",
    "print(\"Number of results = \", len(Data[(Data.tempsdg11_05 == \"SDG11_05\")])) "
   ]
  },
  {
   "cell_type": "code",
   "execution_count": null,
   "id": "bbc19369-af83-47ef-8d89-575e68d98173",
   "metadata": {
    "colab": {
     "base_uri": "https://localhost:8080/",
     "height": 1000
    },
    "id": "t3kaSGLmW-cK",
    "outputId": "c774f135-60c1-46f2-b09b-2b5064b9d381"
   },
   "outputs": [],
   "source": [
    "test=Data.loc[(Data.tempsdg11_05 == \"SDG11_05\"), (\"result_id\", \"result_title\")]\n",
    "test.iloc[0:5, ]"
   ]
  },
  {
   "cell_type": "markdown",
   "id": "a1ce0a57-8af2-447f-842e-a8818c3268f9",
   "metadata": {
    "id": "F5eWXvb1Y9JJ"
   },
   "source": [
    "#### Phrase 2"
   ]
  },
  {
   "cell_type": "code",
   "execution_count": null,
   "id": "652de19c-d4fc-4e7e-b001-33c9d3b50d05",
   "metadata": {
    "id": "TFD_Y91CXzsu"
   },
   "outputs": [],
   "source": [
    "#Termlists\n",
    "                 \n",
    "termlist11_52l = [\"domestic product\", \"gross global produc\",\n",
    "                 \"nasjonalprodukt\", \"bnp\"]\n",
    "termlist11_52ltrunc = [\"gdp\", \"gpp\", \"ggdp\"]\n",
    "                                          \n",
    "phrasedefault11_52l = r'(?:{})'.format('|'.join(termlist11_52l))\n",
    "phrasedefault11_52ltrunc = r'\\b(?:{})\\b'.format('|'.join(termlist11_52ltrunc))\n",
    "#acronyms have truncation prevented to avoid results on gdpr"
   ]
  },
  {
   "cell_type": "code",
   "execution_count": null,
   "id": "23f64f58-24cd-4ab3-ba35-3f8bc5e25fb2",
   "metadata": {
    "colab": {
     "base_uri": "https://localhost:8080/"
    },
    "id": "45jCdKWtaLrk",
    "outputId": "3975a84f-42a9-42ad-c2e4-bc6f0acf886f"
   },
   "outputs": [],
   "source": [
    "#Search 11_5\n",
    "Data.loc[(\n",
    "    (\n",
    "        (Data['result_title'].str.contains(phrasedefault11_5a, na=False, case=False))\n",
    "        |((Data['result_title'].str.contains(phrasedefault11_5b, na=False, case=False)) & (Data['result_title'].str.contains(phrasedefault11_5c, na=False, case=False)))\n",
    "        |((Data['result_title'].str.contains(phrasedefault11_5d, na=False, case=False)) & (Data['result_title'].str.contains(phrasedefault11_5e, na=False, case=False)))\n",
    "        |((Data['result_title'].str.contains(phrasedefault11_5j, na=False, case=False)) & (Data['result_title'].str.contains(phrasedefault11_5k, na=False, case=False)))          \n",
    "        |(Data['result_title'].str.contains(phrasedefault11_5f, na=False, case=False))\n",
    "        |(Data['result_title'].str.contains(phrasedefault11_5ftrunc, na=False, case=False))\n",
    "    )\n",
    "    &\n",
    "    (\n",
    "        (Data['result_title'].str.contains(phrasedefault11_52l, na=False, case=False))\n",
    "        | (Data['result_title'].str.contains(phrasedefault11_52ltrunc, na=False, case=False))\n",
    "    )    \n",
    "),\"tempsdg11_05\"] = \"SDG11_05\"\n",
    "\n",
    "print(\"Number of results = \", len(Data[(Data.tempsdg11_05 == \"SDG11_05\")])) "
   ]
  },
  {
   "cell_type": "code",
   "execution_count": null,
   "id": "d29941e7-573a-4721-8340-2cca1b27669f",
   "metadata": {
    "colab": {
     "base_uri": "https://localhost:8080/",
     "height": 81
    },
    "id": "msZlTgt1bxbZ",
    "outputId": "6a708fab-ef27-4639-8718-0aaeb44b3e84"
   },
   "outputs": [],
   "source": [
    "test=Data.loc[(Data.tempsdg11_05 == \"SDG11_05\"), (\"result_id\", \"result_title\")]\n",
    "test.iloc[0:5, ]"
   ]
  },
  {
   "cell_type": "markdown",
   "id": "e4b2b085-9392-46e5-91e3-6245b2f68300",
   "metadata": {
    "id": "tlhnkAEsbXbT"
   },
   "source": [
    "### SDG 11.6\n",
    "\n",
    "*By 2030, reduce the adverse per capita environmental impact of cities, including by paying special attention to air quality and municipal and other waste management*\n",
    "\n",
    "*Innen 2030 redusere byenes og lokalsamfunnenes negative påvirkning på miljøet (målt per innbygger), med særlig vekt på luftkvalitet og avfallshåndtering i offentlig eller privat regi*"
   ]
  },
  {
   "cell_type": "markdown",
   "id": "de1048ec-9cf9-4a1b-8899-43641c92b7a9",
   "metadata": {
    "id": "8s7wiYjOnRTi"
   },
   "source": [
    "#### Phrase 1"
   ]
  },
  {
   "cell_type": "code",
   "execution_count": null,
   "id": "78bf3e1d-4fc3-4eb9-9b80-514061631607",
   "metadata": {
    "id": "egh7o4zbhtkF"
   },
   "outputs": [],
   "source": [
    "#Term lists\n",
    "\n",
    "termlist11_6a = [\"environmental impact\", \"impact on the environment\", \"impacts on the environment\",\"footprint\",\"foot print\",\n",
    "                 \"miljøpåvirk\",\"fotavtrykk\",\"påvirke miljø\",\"påverke miljø\"]\n",
    "  \n",
    "termlist11_6b = [\"cities\", \"megacit\", \"metropolitan\", \n",
    "                 \"town\", \"village\", \"suburb\", \n",
    "                 \"municipal\", \"district\", \"region\", \"human settlement\", \"built-up area\", \"populated area\",\n",
    "                 \"local communit\", \"neighborhood\", \"neighbourhood\", \n",
    "\n",
    "                 \"byer\", \"byar\", \"byen\", \"bydel\", \"byområde\", \"storby\", \"småby\", \"landsby\", \"kystby\", \"byplan\", \"byutvik\", \"bystruktur\", \"bymiljø\", \n",
    "                 \"bygd\", \"grend\", \"nærområde\", \"drabant\",\n",
    "                 \"kommun\", \"fylke\", \"distrikt\", \"befolka område\", \"befolket område\", \"tettsted\", \"tettstad\",\n",
    "                 \"lokalsamfunn\", \"nabolag\", \n",
    "                 \"oslo\", \"bergen\", \"trondheim\", \"stavanger\", \"tromsø\",\n",
    "                 ]\n",
    "                 #\"community\" dropped as causes only noise\n",
    "                 #added major Norwegian city names, adds no results to phrase 1 but quite a lot to phrase 2\n",
    "\n",
    "termlist11_6c = [\"city\", \"urban.*\"] \n",
    "\n",
    "\n",
    "phrasedefault11_6a = r'(?:{})'.format('|'.join(termlist11_6a))\n",
    "phrasedefault11_6b = r'(?:{})'.format('|'.join(termlist11_6b))\n",
    "phrasedefault11_6c = r'\\b(?:{})\\b'.format('|'.join(termlist11_6c))"
   ]
  },
  {
   "cell_type": "code",
   "execution_count": null,
   "id": "edd4f292-a3dd-4d41-ae65-92356a5dad79",
   "metadata": {
    "colab": {
     "base_uri": "https://localhost:8080/"
    },
    "id": "BW_7NmkXhyrS",
    "outputId": "9f8cc2a2-2ca5-4911-c205-f64a9fdb2c31"
   },
   "outputs": [],
   "source": [
    "#Search 1\n",
    "Data.loc[(\n",
    "     (Data['result_title'].str.contains(phrasedefault11_6a, na=False, case=False))\n",
    "     & \n",
    "      (\n",
    "         (Data['result_title'].str.contains(phrasedefault11_6b, na=False, case=False))\n",
    "         |(Data['result_title'].str.contains(phrasedefault11_6c, na=False, case=False))\n",
    "      )\n",
    "),\"tempsdg11_06\"] = \"SDG11_06\"\n",
    "\n",
    "print(\"Number of results = \", len(Data[(Data.tempsdg11_06 == \"SDG11_06\")])) "
   ]
  },
  {
   "cell_type": "code",
   "execution_count": null,
   "id": "5a5e668d-7dfe-422f-baad-58b311da3a4e",
   "metadata": {
    "colab": {
     "base_uri": "https://localhost:8080/",
     "height": 1000
    },
    "id": "XzQC4mq6h2sh",
    "outputId": "3dbb4c92-aa17-463d-afab-116510988a64",
    "tags": []
   },
   "outputs": [],
   "source": [
    "test=Data.loc[(Data.tempsdg11_06 == \"SDG11_06\"), (\"result_id\", \"result_title\")]\n",
    "test.iloc[0:5, ]"
   ]
  },
  {
   "cell_type": "markdown",
   "id": "f4247a3e-257a-4c4d-907b-e0875ec8af26",
   "metadata": {
    "id": "UgkUtAGsnafJ"
   },
   "source": [
    "#### Phrase 2"
   ]
  },
  {
   "cell_type": "code",
   "execution_count": null,
   "id": "f6f2c26d-1d4f-49f0-8504-87116afeb736",
   "metadata": {
    "id": "OGKrTHTSqiDo"
   },
   "outputs": [],
   "source": [
    "#Term lists\n",
    "termlist11_6d = [\"smog\", \"air pollution\",\"suspended particles\",\"particulate matter\",\"pm2.5\",\"pm10\",\"clean air\",\"air quality\",\n",
    "                 \"luftforure\",\"luftureining\",\"svevestøv\",\"partikler i luft\",\"ren luft\",\"rein luft\",\"luftkvalitet\",]\n",
    "termlist11_6not = [\"Cosmogenic\"]\n",
    "\n",
    "phrasedefault11_6d = r'(?:{})'.format('|'.join(termlist11_6d))\n",
    "phrasedefault11_6not = r'(?:{})'.format('|'.join(termlist11_6not))\n",
    "#Re-use b and c"
   ]
  },
  {
   "cell_type": "code",
   "execution_count": null,
   "id": "1e6dc3c3-69bf-47a7-ac1c-a6d227e25b94",
   "metadata": {
    "colab": {
     "base_uri": "https://localhost:8080/"
    },
    "id": "fFpbPP7uqh7c",
    "outputId": "81e58020-c34c-4cc9-ed37-4884c503080b"
   },
   "outputs": [],
   "source": [
    "#Search 2\n",
    "Data.loc[(\n",
    "    (Data['result_title'].str.contains(phrasedefault11_6d, na=False, case=False))\n",
    "    & \n",
    "    ((Data['result_title'].str.contains(phrasedefault11_6b, na=False, case=False))\n",
    "     |(Data['result_title'].str.contains(phrasedefault11_6c, na=False, case=False))\n",
    "    )\n",
    "    & (~Data['result_title'].str.contains(phrasedefault11_6not, na=False, case=False))\n",
    "),\"tempsdg11_06\"] = \"SDG11_06\"\n",
    "\n",
    "print(\"Number of results = \", len(Data[(Data.tempsdg11_06 == \"SDG11_06\")])) "
   ]
  },
  {
   "cell_type": "code",
   "execution_count": null,
   "id": "b60da670-911f-4cf8-984a-81c0c2c8981a",
   "metadata": {
    "colab": {
     "base_uri": "https://localhost:8080/"
    },
    "id": "1fcsGULzGd_L",
    "outputId": "2185ab04-4c54-452f-d28e-40d9f79af214"
   },
   "outputs": [],
   "source": [
    "test=Data.loc[(Data.tempsdg11_06 == \"SDG11_06\"), (\"result_id\", \"result_title\")]\n",
    "test.iloc[0:5, ]"
   ]
  },
  {
   "cell_type": "markdown",
   "id": "2f0d9088-ef55-45da-a048-2c96d6fef6dc",
   "metadata": {
    "id": "sVZuaUy7naTa"
   },
   "source": [
    "#### Phrase 3"
   ]
  },
  {
   "cell_type": "code",
   "execution_count": null,
   "id": "5c11abcb-a5d6-4043-ae0b-cac382ba86be",
   "metadata": {
    "id": "XGx1hjCJqlXE"
   },
   "outputs": [],
   "source": [
    "#Term lists\n",
    "\n",
    "termlist11_6e = [\"solid waste\", \"bulky waste\",\"houshold waste\",\"domestic waste\",\"commercial waste\",\"industrial waste\",\"MSW\",\n",
    "                 \"EOL waste\",\"end of life waste\",\"end of chain waste\",\"eoc waste\",\"garbage\",\"rubbish\", \"composting\",\n",
    "                 \n",
    "                 \"avfall\", \"søppel\", \"boss\", \"komposter\"\n",
    "                 ]\n",
    " \n",
    "phrasedefault11_6e = r'(?:{})'.format('|'.join(termlist11_6e))\n",
    "#Re-use b and c"
   ]
  },
  {
   "cell_type": "code",
   "execution_count": null,
   "id": "0ffdd635-eb96-4648-b0eb-97a6aa53cac0",
   "metadata": {
    "colab": {
     "base_uri": "https://localhost:8080/"
    },
    "id": "WxAgQNjFqlPc",
    "outputId": "27b39bb2-c0a5-4ce7-ec28-d1b9249fdcea"
   },
   "outputs": [],
   "source": [
    "#Search 3\n",
    "\n",
    "phrase11_6ebc = Data.loc[(\n",
    "     (Data['result_title'].str.contains(phrasedefault11_6e, na=False, case=False))\n",
    "     & \n",
    "     (\n",
    "         (Data['result_title'].str.contains(phrasedefault11_6b, na=False, case=False))\n",
    "         |(Data['result_title'].str.contains(phrasedefault11_6c, na=False, case=False))\n",
    "     )\n",
    "),\"tempsdg11_06\"] = \"SDG11_06\"\n",
    "\n",
    "print(\"Number of results = \", len(Data[(Data.tempsdg11_06 == \"SDG11_06\")])) "
   ]
  },
  {
   "cell_type": "code",
   "execution_count": null,
   "id": "f854fd8e-d7c3-4d98-8580-f0fd1f626494",
   "metadata": {
    "colab": {
     "base_uri": "https://localhost:8080/",
     "height": 1000
    },
    "id": "NiQoRd7zqlGU",
    "outputId": "986fd478-50ad-4b74-fbcd-b536099c0cfe"
   },
   "outputs": [],
   "source": [
    "test=Data.loc[(Data.tempsdg11_06 == \"SDG11_06\"), (\"result_id\", \"result_title\")]\n",
    "test.iloc[0:5, ]"
   ]
  },
  {
   "cell_type": "markdown",
   "id": "16cf44a0-f336-408d-9737-a234c18a1a25",
   "metadata": {
    "id": "28yi1B8XnVq0"
   },
   "source": [
    "#### Phrase 4"
   ]
  },
  {
   "cell_type": "code",
   "execution_count": null,
   "id": "637ec430-f1ff-4877-932a-91309d927a11",
   "metadata": {
    "id": "te7DLbXYqnID"
   },
   "outputs": [],
   "source": [
    "#Term lists\n",
    "\n",
    "termlist11_6f = [\"environmental impact\", \"impact on the environment\", \"impacts on the environment\",\"environmental assess\", \"footprint\",\"foot print\",\n",
    "                 \"miljøpåvirk\", \"fotavtrykk\", \"påvirke miljø\", \"påverke miljø\", \"miljøvurdering\"]\n",
    "  \n",
    "termlist11_6g = [\"waste\", \"garbage\", \"rubbish\", \n",
    "                 \"avfall\", \"søppel\", \"boss\"]\n",
    "\n",
    "termlist11_6h = [\"manag\", \"collect\", \"reuse\", \"re-use\", \"composting\", \"biological degrad\",\n",
    "                 \"håndter\", \"handter\", \"innsamling\", \"samle inn\", \"gjennvin\", \"gjenbruk\", \"resirkuler\", \"renovasjon\", \"komposter\", \"forbrenn\", \"energi\", \"deponi\"]\n",
    "\n",
    "phrasedefault11_6f = r'(?:{})'.format('|'.join(termlist11_6f))\n",
    "phrasedefault11_6g = r'(?:{})'.format('|'.join(termlist11_6g))\n",
    "phrasedefault11_6h = r'\\b(?:{})\\b'.format('|'.join(termlist11_6h))"
   ]
  },
  {
   "cell_type": "code",
   "execution_count": null,
   "id": "19aa94cf-4371-4769-acda-df22589a43d2",
   "metadata": {
    "colab": {
     "base_uri": "https://localhost:8080/"
    },
    "id": "h1UwtBYOB5w9",
    "outputId": "fec6c0c7-4996-49e5-81f1-47b73146e581"
   },
   "outputs": [],
   "source": [
    "#Search 4\n",
    "phrase11_6fgh = Data.loc[(\n",
    "    (Data['result_title'].str.contains(phrasedefault11_6f, na=False, case=False))\n",
    "    & (Data['result_title'].str.contains(phrasedefault11_6g, na=False, case=False))\n",
    "    & (Data['result_title'].str.contains(phrasedefault11_6h, na=False, case=False))   \n",
    "),\"tempsdg11_06\"] = \"SDG11_06\"\n",
    "\n",
    "print(\"Number of results = \", len(Data[(Data.tempsdg11_06 == \"SDG11_06\")])) "
   ]
  },
  {
   "cell_type": "code",
   "execution_count": null,
   "id": "093a5709-c87b-4a60-a80c-6ec07d0111aa",
   "metadata": {
    "colab": {
     "base_uri": "https://localhost:8080/",
     "height": 49
    },
    "id": "ZuR1jmNqqnAq",
    "outputId": "1d0555dd-c36e-480b-90ff-2f75233c90bc"
   },
   "outputs": [],
   "source": [
    "test=Data.loc[(Data.tempsdg11_06 == \"SDG11_06\"), (\"result_id\", \"result_title\")]\n",
    "test.iloc[0:5, ]"
   ]
  },
  {
   "cell_type": "markdown",
   "id": "6319af24-74bb-4070-b60f-b0dcb41fab05",
   "metadata": {
    "id": "s8wWbchxZZl1"
   },
   "source": [
    "### SDG 11.7\n",
    "\n",
    "*By 2030, provide universal access to safe, inclusive and accessible, green and public spaces, in particular for women and children, older persons and persons with disabilities*\n",
    "\n",
    "*Innen 2030 sørge for at alle, særlig kvinner og barn, eldre og personer med nedsatt funksjonsevne, har tilgang til trygge, inkluderende og tilgjengelige grøntområder og offentlige rom*"
   ]
  },
  {
   "cell_type": "markdown",
   "id": "cc080334-aeb7-4077-abd6-13ac663573cd",
   "metadata": {
    "id": "UL90LYjyZct-"
   },
   "source": [
    "#### Phrase 1"
   ]
  },
  {
   "cell_type": "code",
   "execution_count": null,
   "id": "c4dc05c2-0acb-4228-944d-e4683f8c57aa",
   "metadata": {
    "id": "vglDs8a6eoQ5"
   },
   "outputs": [],
   "source": [
    "#Termlists\n",
    "termlist11_7a = [\"safe\", \"inclus\", \"access\", \"unrestrict\",\n",
    "                 \"trygg\", \"sikker\", \"inkluder\", \"inklus\", \"tilgang\", \"adgang\", \"uhindr\", \"ubegrens\"]\n",
    "\n",
    "termlist11_7b = [\"green space\", \"recreational area\", \n",
    "                 \"public area\", \"public space\", \"public open space\", \"public playground\", \n",
    "                 \"public facilit\", \"boulevard\", \"public market\",\n",
    "                 \"library area\", \"library space\", \"libraries\", \"public library\", \"community cent\", \"community space\", \"civic cent\",\n",
    "                 \"public garden\", \"community garden\", \"allotment garden\", \"urban allotment\",\n",
    "\n",
    "                 \"grønne område\", \"grøntområde\", \"parkområde\", \"friluftsområde\", \"fritidsområde\", \n",
    "                 \"offentleg område\", \"offentlig område\" \"offentlig sted\", \"offentleg stad\", \"offentlig plass\", \"offentleg plass\", \"byrom\", \"fellesrom\",\n",
    "                 \"offentlig fasilit\", \"offentleg fasilit\",\n",
    "                 \"bibliotekareal\", \"bibliotekrom\", \"bibliotekbygg\", \"offentlig bibliotek\", \"samfunnshus\", \"forsamlingshus\",\n",
    "                 \"bypark\", \"kolonihage\", \"parsellhage\", \"hageparsell\", \"felleshage\"\n",
    "                 ]\n",
    "\n",
    "termlist11_7c = [\"park\", \"parks\", \"street\", \"avenue\", \"square\", \"beach\", \"waterfront\", \"riverbank\" \n",
    "                 \"gate\", \"torg\", \"strand\", \"vannkant\", \"elvebredd\",]\n",
    "\n",
    "termlist11_7d =  [\"cities\",\"city\", \"megacit\", \"urban\", \"metropolitan\",\n",
    "                 \"town\", \"village\", \"suburb\", \n",
    "                 \"municipal\", \"district\", \"region\", \"human settlement\", \"built-up area\", \"populated area\",\n",
    "                 \"community\", \"neighborhood\", \"neighbourhood\", \n",
    "\n",
    "                 \"byer\", \"byar\", \"byen\", \"bydel\", \"byområde\", \"storby\", \"småby\", \"landsby\", \"kystby\", \"byplan\", \"byutvik\", \"bystruktur\", \"bymiljø\", \n",
    "                 \"bygd\", \"grend\", \"nærområde\", \"drabant\",\n",
    "                 \"kommun\", \"fylke\", \"distrikt\", \"befolka område\", \"befolket område\", \"tettsted\", \"tettstad\", \"offentlig lekeplass\", \"offentleg leikeplass\",\n",
    "                 \"samfunn\", \"lokalsamfunn\", \"nabolag\", \n",
    "                 \"oslo\", \"bergen\", \"trondheim\", \"stavanger\", \"tromsø\",\n",
    "                 ]\n",
    "\n",
    "phrasedefault11_7a = r'(?:{})'.format('|'.join(termlist11_7a))\n",
    "phrasedefault11_7b = r'(?:{})'.format('|'.join(termlist11_7b))\n",
    "phrasedefault11_7c = r'\\b(?:{})\\b'.format('|'.join(termlist11_7c))\n",
    "phrasedefault11_7d = r'(?:{})'.format('|'.join(termlist11_7d))"
   ]
  },
  {
   "cell_type": "code",
   "execution_count": null,
   "id": "be26a029-2443-43a7-b235-7ce9f84dfd17",
   "metadata": {
    "colab": {
     "base_uri": "https://localhost:8080/"
    },
    "id": "yws2MBsoerGa",
    "outputId": "b2a86310-583d-4fff-c26e-86d8b3c2f5bc"
   },
   "outputs": [],
   "source": [
    "#Search 11_7\n",
    "Data.loc[(\n",
    "    (Data['result_title'].str.contains(phrasedefault11_7a, na=False, case=False))\n",
    "    &\n",
    "    (   \n",
    "        (Data['result_title'].str.contains(phrasedefault11_7b, na=False, case=False))\n",
    "        |((Data['result_title'].str.contains(phrasedefault11_7c, na=False, case=False)) & (Data['result_title'].str.contains(phrasedefault11_7d, na=False, case=False)))\n",
    "    )              \n",
    "),\"tempsdg11_07\"] = \"SDG11_07\"\n",
    "\n",
    "print(\"Number of results = \", len(Data[(Data.tempsdg11_07 == \"SDG11_07\")])) "
   ]
  },
  {
   "cell_type": "code",
   "execution_count": null,
   "id": "570d822f-116a-4d9f-8751-2da1802b4b4e",
   "metadata": {
    "colab": {
     "base_uri": "https://localhost:8080/",
     "height": 546
    },
    "id": "SLuopg81er4Z",
    "outputId": "e8a6b516-fd95-4922-8fc8-959fbec4553c"
   },
   "outputs": [],
   "source": [
    "test=Data.loc[(Data.tempsdg11_07 == \"SDG11_07\"), (\"result_id\", \"result_title\")]\n",
    "test.iloc[0:25, ]"
   ]
  },
  {
   "cell_type": "markdown",
   "id": "0dd30986-47a6-4b64-bf43-03620c1912ca",
   "metadata": {
    "id": "WMhlO5-dZxHU"
   },
   "source": [
    "#### Phrase 2"
   ]
  },
  {
   "cell_type": "markdown",
   "id": "abc99c93-ba0f-4367-a297-7dcd68a69c71",
   "metadata": {
    "id": "2lbtZ9BhZqaH"
   },
   "source": [
    "Here, as it is a title search, we have decided to drop the combination of \"parks\" + \"cities\", so that \"parks\" can be alone. May increase results about e.g. national parks."
   ]
  },
  {
   "cell_type": "code",
   "execution_count": null,
   "id": "f5cbfdb3-79c5-4d22-a420-030b80cccb90",
   "metadata": {
    "id": "jV86LpipjJzn"
   },
   "outputs": [],
   "source": [
    "#Termlists\n",
    "termlist11_7e = [\"restrict\", \"inaccess\", \"equal access\", \"inequalit\", \"equit\", \"justice\", \n",
    "                 \"discriminat\", \"exclud\", \"harass\", \"assault\", \"unsafe\",\n",
    "                 \n",
    "                 \"restrik\", \"utilgjenge\", \"allmen tilgang\", \"allmenn adgang\", \"lik adgang\", \"lik tilgang\", \"uhindr\", \"ubegrens\", \"ulikhet\", \"rettferd\", \n",
    "                 \"diskrimin\", \"utesteng\", \"utenforskap\", \"eksklude\", \"trakasser\", \"mobb\", \"overfall\", \"angrep\", \"utrygg\"\n",
    "                 ]\n",
    "#\"equit\" will find \"inequitable\", \"justice\" will find \"injustice\" etc.\n",
    "phrasedefault11_7e = r'(?:{})'.format('|'.join(termlist11_7e))"
   ]
  },
  {
   "cell_type": "code",
   "execution_count": null,
   "id": "ac6522c9-82dc-4fcf-ae1a-f0ada502590f",
   "metadata": {
    "colab": {
     "base_uri": "https://localhost:8080/"
    },
    "id": "ZCwOQIBIjNsn",
    "outputId": "7f9a0a1b-c1bb-43cc-a8fe-3bb5a4490aec"
   },
   "outputs": [],
   "source": [
    "#Search 11_7\n",
    "Data.loc[(\n",
    "    (Data['result_title'].str.contains(phrasedefault11_7e, na=False, case=False))\n",
    "    &\n",
    "             (   (Data['result_title'].str.contains(phrasedefault11_7b, na=False, case=False))\n",
    "             |\n",
    "               (\n",
    "                   (Data['result_title'].str.contains(phrasedefault11_7c, na=False, case=False))\n",
    "                   #& ((Data['result_title'].str.contains(phrasedefault11_7d, na=False, case=False))|(Data['result_title'].str.contains(phrasedefault11_7dtrunc, na=False, case=False)))\n",
    "               )\n",
    "             )              \n",
    "),\"tempsdg11_07\"] = \"SDG11_07\"\n",
    "#Here, as it is a title search, we have decided to drop the combination of \"parks\" + \"cities\", so that \"parks\" can be alone.\n",
    "\n",
    "print(\"Number of results = \", len(Data[(Data.tempsdg11_07 == \"SDG11_07\")])) "
   ]
  },
  {
   "cell_type": "code",
   "execution_count": null,
   "id": "8784a8de-b1f8-47f5-b829-777458a5e3f1",
   "metadata": {
    "colab": {
     "base_uri": "https://localhost:8080/",
     "height": 535
    },
    "id": "uPi29JE0jSB5",
    "outputId": "717121c9-3c5f-4da2-f4ea-537c6475a5e3"
   },
   "outputs": [],
   "source": [
    "test=Data.loc[(Data.tempsdg11_07 == \"SDG11_07\"), (\"result_id\", \"result_title\")]\n",
    "test.iloc[0:5, ]"
   ]
  },
  {
   "cell_type": "markdown",
   "id": "b020685a-8dbe-4e07-9bce-c3d49090c3bc",
   "metadata": {
    "id": "zPlHsecNaBz9"
   },
   "source": [
    "### SDG 11.a\n",
    "\n",
    "*Support positive economic, social and environmental links between urban, peri-urban and rural areas by strengthening national and regional development planning*\n",
    "\n",
    "*Støtte positive økonomiske, sosiale og miljømessige forbindelser mellom byområder, omland og spredtbygde områder ved  å styrke nasjonale og regionale planer*"
   ]
  },
  {
   "cell_type": "code",
   "execution_count": null,
   "id": "5bb6d18c-43c5-41f8-85af-12751626328c",
   "metadata": {
    "id": "MtFkrwylmnRk"
   },
   "outputs": [],
   "source": [
    "#Termlists\n",
    "termlist11_Aa = [\"national\", \"regional\",\n",
    "                 \"nasjonal\", \"landsdek\"]\n",
    "termlist11_Ab = [\"plan\", \"strateg\", \"framework\", \"program\", \"policy\", \"policies\", \"cooperat\",\n",
    "                 \"rammeverk\", \"styring\", \"politikk\", \"politisk\", \"samarbeid\", \"koopera\"]\n",
    "\n",
    "termlist11_Ac =   [\"cities\", \"megacit\", \"urban\", \"metropolitan\", \n",
    "                 \"town\", \"village\", \"suburb\", \n",
    "                 \"municipal\", \"district\", \"settlement\", \"built-up area\", \"populated area\",\n",
    "                 \"local community\", \"neighborhood\", \"neighbourhood\", \n",
    "                 \"rural area\", \"rural development\",\n",
    "\n",
    "                 \"byer\", \"byar\", \"byen\", \"bydel\", \"byområde\", \"storby\", \"småby\", \"landsby\", \"kystby\", \"byplan\", \"byutvik\", \"bystruktur\", \"bymiljø\", \n",
    "                 \"bygd\", \"grend\", \"nærområde\", \"drabant\",\n",
    "                 \"kommun\", \"fylke\", \"distrikt\", \"befolka område\", \"befolket område\", \"tettsted\", \"tettstad\",\n",
    "                 \"lokal samfunn\", \"lokalsamfunn\", \"nabolag\", \n",
    "                 \"rural utvikling\", \"bypolit\",\n",
    "                 ]\n",
    "                 #City names mostly cause noise here so are not included\n",
    "\n",
    "termlist11_Actrunc = [\"city\"] #\"city\" is here due to capaCITY\n",
    "\n",
    "phrasedefault11_Aa = r'(?:{})'.format('|'.join(termlist11_Aa))\n",
    "phrasedefault11_Ab = r'(?:{})'.format('|'.join(termlist11_Ab))\n",
    "phrasedefault11_Ac = r'(?:{})'.format('|'.join(termlist11_Ac))\n",
    "phrasespecific11_Actrunc = r'\\b(?:{})\\b'.format('|'.join(termlist11_Actrunc))"
   ]
  },
  {
   "cell_type": "code",
   "execution_count": null,
   "id": "f744fd3d-3556-4853-b667-2dc6e6d35633",
   "metadata": {
    "colab": {
     "base_uri": "https://localhost:8080/"
    },
    "id": "KGLDRXlxmo5_",
    "outputId": "c344ddf5-f98f-4d75-9084-92926ed74a43"
   },
   "outputs": [],
   "source": [
    "#Search 11_A\n",
    "Data.loc[(\n",
    "    (Data['result_title'].str.contains(phrasedefault11_Aa, na=False, case=False))\n",
    "    & (Data['result_title'].str.contains(phrasedefault11_Ab, na=False, case=False))\n",
    "    & ((Data['result_title'].str.contains(phrasedefault11_Ac, na=False, case=False))|(Data['result_title'].str.contains(phrasespecific11_Actrunc, na=False, case=False)))\n",
    "),\"tempsdg11_a\"] = \"SDG11_0a\"\n",
    "\n",
    "print(\"Number of results = \", len(Data[(Data.tempsdg11_a == \"SDG11_0a\")]))  "
   ]
  },
  {
   "cell_type": "code",
   "execution_count": null,
   "id": "e6693f47-596b-4368-9e4e-ea7964855070",
   "metadata": {
    "colab": {
     "base_uri": "https://localhost:8080/"
    },
    "id": "F_RTtHGmY10v",
    "outputId": "9fa09103-93c2-40a9-f57b-792699af34c1"
   },
   "outputs": [],
   "source": [
    "test=Data.loc[(Data.tempsdg11_a == \"SDG11_0a\"), (\"result_id\", \"result_title\")]\n",
    "test.iloc[0:5, ]"
   ]
  },
  {
   "cell_type": "markdown",
   "id": "7cbc3fcd-bc50-4474-b0a1-ac91e757e07f",
   "metadata": {
    "id": "AtOR7iD5ba1k"
   },
   "source": [
    "### SDG 11.b\n",
    "\n",
    "*By 2020, substantially increase the number of cities and human settlements adopting and implementing integrated policies and plans towards inclusion, resource efficiency, mitigation and adaptation to climate change, resilience to disasters, and develop and implement, in line with the Sendai Framework for Disaster Risk Reduction 2015–2030, holistic disaster risk management at all levels*\n",
    "\n",
    "*Innen 2020 oppnå en betydelig økning i antall byer og lokalsamfunn som vedtar en integrert politikk og gjennomfører planer med  sikte  på inkludering, bedre ressursbruk, begrensning av og tilpasning til klimaendringer samt evne til å stå imot og håndtere katastrofer, og dessuten utvikle og iverksette et helhetlig system for risikostyring og katastrofehåndtering på alle nivå, i tråd med Sendai-rammeverket for katastrofeberedskap for 2015–2030*"
   ]
  },
  {
   "cell_type": "code",
   "execution_count": null,
   "id": "7e820467-4276-4e56-b7e3-88e15d34b5a7",
   "metadata": {
    "id": "te8COnnVQvOR"
   },
   "outputs": [],
   "source": [
    "#Termlists\n",
    "termlist11_Ba = [\"sendai\", \"disaster risk reduction\", \"cancun adapation framework\", \"readiness and preparatory support programme\", \"readiness programme\",\n",
    "                 \"katastrofeforebygging\", \"cancun-avtal\", \"cancun avtal\", \"klimatilpas\", \"forebyggingstiltak\"\n",
    "                 ]\n",
    "termlist11_Bb = [\"plan \", \"plans\", \"planning\", \"strateg\", \"program\", \"policy\", \"policies\", \"governance\", \"framework\", \"preparedness\",\n",
    "                 \"rammeverk\", \"politikk\", \"politisk\", \"forvalt\", \"styring\", \"ledelse\", \"leiing\", \"retningslin\", \"forebygg\", \"beredskap\",\n",
    "                 ]\n",
    "                 #space after \"plan\" to prevent \"plant\"\n",
    "termlist11_Bc = [\"disaster\", \"risk judgement\", \"climate change\", \"climatic change\", \"global warming\", \"changing climate\", \"climate action\", \"climate mitigation\", \n",
    "                 \"katastrofe\", \"klimaendring\", \"global oppvarming\", \"klimatiltak\", \"klimatilpas\"\n",
    "                 ]\n",
    "                 #dropped \"risk\"/ \"risiko\" (NO) - to drop results about chemical risk assessments/risks in health and animals. Used \"risk judgements\"\n",
    "termlist11_Bd = [\"settlement\", \n",
    "                 \"cities\", \"megacit\", \"urban\", \"metropolitan\", \n",
    "                 \"town\", \"village\", \"suburb\", \n",
    "                 \"municipal\", \"district\", \"region\", \"human settlement\", \"built-up area\", \"populated area\",\n",
    "                 \"neighborhood\", \"neighbourhood\", \n",
    "                 \"local communit\", \n",
    "\n",
    "                 \"byer\", \"byar\", \"byen\", \"bydel\", \"byområde\", \"storby\", \"småby\", \"kystby\", \"byplan\", \"byutvik\", \"bystruktur\", \"bymiljø\", \n",
    "                 \"bygd\", \"grend\", \"nærområde\", \"drabant\",\n",
    "                 \"kommun\", \"fylke\", \"distrikt\", \"befolka område\", \"befolket område\", \"tettsted\", \"tettstad\",\n",
    "                 \"bosetting\", \"busetting\", \n",
    "                 \"nabolag\", \n",
    "                 \"lokal samfunn\",\n",
    "                 \"oslo\", \"bergen\", \"trondheim\", \"stavanger\", \"tromsø\",\n",
    "                 ]\n",
    "termlist11_Bdtrunc = [\"city\"] #\"city\" is here due to toxiCITY\n",
    "\n",
    "phrasedefault11_Ba = r'(?:{})'.format('|'.join(termlist11_Ba))\n",
    "phrasedefault11_Bb = r'(?:{})'.format('|'.join(termlist11_Bb))\n",
    "phrasedefault11_Bc = r'(?:{})'.format('|'.join(termlist11_Bc))\n",
    "phrasedefault11_Bd = r'(?:{})'.format('|'.join(termlist11_Bd))\n",
    "phrasespecific11_Bdtrunc = r'\\b(?:{})\\b'.format('|'.join(termlist11_Bdtrunc))\n",
    "#\"klimatilpas\"(NO) in termlist Bc is probably redundant, as it is included in Ba"
   ]
  },
  {
   "cell_type": "code",
   "execution_count": null,
   "id": "08dec2e2-6c1f-42a6-b326-cc08ed1fc2b9",
   "metadata": {
    "colab": {
     "base_uri": "https://localhost:8080/"
    },
    "id": "XZKuUbaRQwGz",
    "outputId": "c7969ea8-c9aa-476a-b375-7f8da431a9fb"
   },
   "outputs": [],
   "source": [
    "#Search 11_B\n",
    "Data.loc[(\n",
    "             (   (Data['result_title'].str.contains(phrasedefault11_Ba, na=False, case=False))\n",
    "             |    \n",
    "               ( (Data['result_title'].str.contains(phrasedefault11_Bb, na=False, case=False))\n",
    "               & (Data['result_title'].str.contains(phrasedefault11_Bc, na=False, case=False))\n",
    "               )\n",
    "             )\n",
    "             & ((Data['result_title'].str.contains(phrasedefault11_Bd, na=False, case=False))|(Data['result_title'].str.contains(phrasespecific11_Bdtrunc, na=False, case=False)))           \n",
    "),\"tempsdg11_b\"] = \"SDG11_b\"\n",
    "\n",
    "print(\"Number of results = \", len(Data[(Data.tempsdg11_b == \"SDG11_b\")]))  "
   ]
  },
  {
   "cell_type": "code",
   "execution_count": null,
   "id": "f48b9a87-3526-48f6-86cd-cf32de2d196b",
   "metadata": {
    "colab": {
     "base_uri": "https://localhost:8080/"
    },
    "id": "hLJYRygma_6e",
    "outputId": "010fb878-81d0-42a7-d8c6-f6a96914d723"
   },
   "outputs": [],
   "source": [
    "test=Data.loc[(Data.tempsdg11_b == \"SDG11_b\"), (\"result_id\", \"result_title\")]\n",
    "test.iloc[0:5, ]"
   ]
  },
  {
   "cell_type": "markdown",
   "id": "3c40ca68-9c3d-42f2-807b-fb0e28417169",
   "metadata": {
    "id": "SH8333KS54Iq"
   },
   "source": [
    "### SDG 11.c\n",
    "\n",
    "*Support least developed countries, including through financial and technical assistance, in building sustainable and resilient buildings utilizing local materials*\n",
    "\n",
    "*Bistå de minst utviklede landene med å oppføre bærekraftige og solide bygg ved bruk av lokale materialer, blant annet   gjennom  økonomisk og faglig bistand*\n",
    "\n"
   ]
  },
  {
   "cell_type": "code",
   "execution_count": null,
   "id": "52e2085e-cc24-425c-888e-df59c5a3a9dd",
   "metadata": {
    "id": "KGDLEqH7qmw8"
   },
   "outputs": [],
   "source": [
    "#Term lists\n",
    "\n",
    "termlist11_Ca = [\"sustainable architecture\",\"resilient architecture\",\"Sustainable Building and Construction Initiative\",\"sustainable building\",\"sustainable construction\",\n",
    "                 \"local building material\", \"local construction material\", \"locally available building material\",\n",
    "                 \n",
    "                 \"bærekraftig arkitektur\",\"berekraftig arkitektur\",\"bærekraftig bygning\",\"berekraftig bygning\",\"bærekraftig konstruksjon\", \"berekraftig konstruksjon\",\n",
    "                 \"lokale bygningsmatrial\",\"lokale konstruksjonsmaterial\"] \n",
    "  \n",
    "termlist11_Cb = [\"sustainable\", \"green\", \"eco-\", \"ecofriendly\", \"environmentally friendly\", \"resili\",\n",
    "                 \"local material\", \"locally available\", \"native\", \"traditional\",\n",
    "                 \n",
    "                 \"bærekraftig\", \"berekraftig\", \"grøn\", \"miljøven\", \"økoven\", \"tradisjonel\", \"lokal\"]\n",
    "\n",
    "termlist11_Cc = [\"construction\", \"buildings\", \"building material\", \"building technique\", \"building method\", \"building industry\", \"home building\", \"building homes\",\n",
    "                 \"konstruksjon\", \"bygge\", \"byggningsbransj\", \"byggebransj\"]\n",
    "                 #\"building\" causes issues (capacity building etc.)\n",
    "    \n",
    "termlist11_Cd_case = [\"SBCI\"]\n",
    "\n",
    "phrasedefault11_Ca = r'(?:{})'.format('|'.join(termlist11_Ca))\n",
    "phrasedefault11_Cb = r'(?:{})'.format('|'.join(termlist11_Cb))\n",
    "phrasedefault11_Cc = r'(?:{})'.format('|'.join(termlist11_Cc))\n",
    "phrasedefault11_Cd_case = r'\\b(?:{})\\b'.format('|'.join(termlist11_Cd_case))"
   ]
  },
  {
   "cell_type": "code",
   "execution_count": null,
   "id": "7fd1673d-e456-4c7a-bdab-719d3cad8945",
   "metadata": {
    "colab": {
     "base_uri": "https://localhost:8080/"
    },
    "id": "kU_o3g-t9kRa",
    "outputId": "ec4aeb69-7952-466f-88bc-ef466d19922c"
   },
   "outputs": [],
   "source": [
    "#Search 1 - in LDCs\n",
    "Data.loc[(\n",
    "    (\n",
    "        (Data['result_title'].str.contains(phrasedefault11_Ca, na=False, case=False))\n",
    "        |((Data['result_title'].str.contains(phrasedefault11_Cb, na=False, case=False)) & (Data['result_title'].str.contains(phrasedefault11_Cc, na=False, case=False)))\n",
    "        |(Data['result_title'].str.contains(phrasedefault11_Cd_case, na=False, case=False))\n",
    "    )\n",
    "    & (Data['LDCs']==True)\n",
    "),\"tempsdg11_c\"] = \"SDG11_c\"\n",
    "\n",
    "print(\"Number of results = \", len(Data[(Data.tempsdg11_c == \"SDG11_c\")]))"
   ]
  },
  {
   "cell_type": "code",
   "execution_count": null,
   "id": "05886043-be7c-43e2-bc4d-e03b7e50c33f",
   "metadata": {
    "colab": {
     "base_uri": "https://localhost:8080/",
     "height": 340
    },
    "id": "Tl9mFo109kFe",
    "outputId": "30d6284e-5b4f-4f39-899b-914c37e97295"
   },
   "outputs": [],
   "source": [
    "test=Data.loc[(Data.tempsdg11_c == \"SDG11_c\"), (\"result_id\", \"result_title\")]\n",
    "test.iloc[0:5, ]"
   ]
  },
  {
   "cell_type": "markdown",
   "id": "089ac5e3-8635-4ae0-abbd-686639646e68",
   "metadata": {
    "id": "DczzJQdmaY2a"
   },
   "source": [
    "### SDG 11 mentions"
   ]
  },
  {
   "cell_type": "markdown",
   "id": "ecd368fa-920a-4b72-ba23-35b940662f22",
   "metadata": {
    "id": "84hw5s4xajmC"
   },
   "source": [
    "Here it was not neccesary to exclude the NOT terms used in a normal abstract search, so they are not used. But in other contexts/abstract searches it may be necessary to add them in again. "
   ]
  },
  {
   "cell_type": "code",
   "execution_count": null,
   "id": "300961cc-fce4-45b3-9aee-86338e0df9df",
   "metadata": {
    "id": "qm8P5nBkXMfj"
   },
   "outputs": [],
   "source": [
    "#Termlists\n",
    "termlist11_1 = [\"SDG 11\", \"SDGs 11\", \"SDG11\", \"sustainable development goal 11\", \n",
    "               \"bærekraftsmål 11\", \"berekraftsmål 11\"]\n",
    "termlist11_2 = [\"sustainable development goal\", \n",
    "               \"bærekraftsmål\", \"berekraftsmål\"]\n",
    "termlist11_3 = [\"goal 11\", \"mål 11\"]\n",
    "termlist11_4 = [\"sustainable development goal\", \"SDG\", \"goal 11\", \n",
    "               \"bærekraftsmål\", \"berekraftsmål\", \"mål 11\"]\n",
    "termlist11_5 = [\"cities\", \n",
    "               \"byer\", \"byar\"]\n",
    "termlist11_6 = [\"sustainable cities and communities\" \n",
    "                \"bærekraftige byer og lokalsamfunn\"]\n",
    "#Possible search for the short titles of the SDGs, to be used in a title search\n",
    "\n",
    "phrasedefault11_1 = r'(?:{})'.format('|'.join(termlist11_1))\n",
    "phrasedefault11_2 = r'(?:{})'.format('|'.join(termlist11_2))\n",
    "phrasedefault11_3 = r'(?:{})'.format('|'.join(termlist11_3))\n",
    "phrasedefault11_4 = r'(?:{})'.format('|'.join(termlist11_4))\n",
    "phrasedefault11_5 = r'(?:{})'.format('|'.join(termlist11_5))\n",
    "phrasedefault11_6 = r'(?:{})'.format('|'.join(termlist11_6))"
   ]
  },
  {
   "cell_type": "code",
   "execution_count": null,
   "id": "6da7feb0-1822-40de-a9bc-ea741e631b4f",
   "metadata": {
    "colab": {
     "base_uri": "https://localhost:8080/"
    },
    "id": "TZcpJRdiXLwT",
    "outputId": "5a5f208d-23c0-4bd3-c8b2-5b458b2338c9"
   },
   "outputs": [],
   "source": [
    "#search\n",
    "Data.loc[(\n",
    "      (Data['result_title'].str.contains(phrasedefault11_1, na=False, case=False))\n",
    "      |(Data['result_title'].str.contains(phrasedefault11_6, na=False, case=False))\n",
    "      |\n",
    "      (\n",
    "        (Data['result_title'].str.contains(phrasedefault11_2, na=False, case=False))\n",
    "        & (Data['result_title'].str.contains(phrasedefault11_3, na=False, case=False))\n",
    "      )\n",
    "      |\n",
    "      (\n",
    "         (Data['result_title'].str.contains(phrasedefault11_4, na=False, case=False))\n",
    "         & (Data['result_title'].str.contains(phrasedefault11_5, na=False, case=False))\n",
    "      )\n",
    "),\"tempmentionsdg11\"] = \"SDG11\"\n",
    "\n",
    "print(\"Number of results = \", len(Data[(Data.tempmentionsdg11 == \"SDG11\")]))"
   ]
  },
  {
   "cell_type": "code",
   "execution_count": null,
   "id": "2407de43-e776-4c16-9fd6-8e974aa6d95f",
   "metadata": {
    "colab": {
     "base_uri": "https://localhost:8080/",
     "height": 403
    },
    "id": "F-LTxPJhXLap",
    "outputId": "1d4f4f1d-e64d-4fcc-d9d7-30cd3e923962"
   },
   "outputs": [],
   "source": [
    "test=Data.loc[(Data.tempmentionsdg11 == \"SDG11\"), (\"result_id\", \"result_title\")]\n",
    "test.iloc[0:5, ]"
   ]
  },
  {
   "cell_type": "markdown",
   "id": "46f5804b-11c8-42f0-ba06-4f07f6a8435a",
   "metadata": {},
   "source": [
    "## SDG 12"
   ]
  },
  {
   "cell_type": "markdown",
   "id": "cd2ff5c7-b6ed-4cfb-adac-36de6108d934",
   "metadata": {
    "id": "tt-Bv9BcnnUQ"
   },
   "source": [
    "### SDG 12 - sutainable consumption and production string\n",
    "\n",
    "In SDG12, there is a string often re-used/modified to specify sustainable consumption and production. This is included here and reused in targets as needed (currently 4 targets, 12.1, 12.2, 12.6, 12.a, in an unmodified form). "
   ]
  },
  {
   "cell_type": "code",
   "execution_count": null,
   "id": "85667a4a-c0da-4031-8006-b1cdf60fdfa0",
   "metadata": {
    "id": "J1OyLMbMnhye"
   },
   "outputs": [],
   "source": [
    "#Term lists\n",
    "termlist12_scp1 = [\"ecobuilding\", \"eco-building\", \"eco-housing\", \"eco-construct\", \"eco-design\", \"eco-technolog\",\n",
    "                   \"green building\", \"green housing\", \"green construct\", \"green design\", \"green technolog\",\n",
    "                   \"sustainable building\", \"sustainable housing\", \"sustainable construct\", \"sustainable design\", \"sustainable technolog\",\n",
    "                   \"Sustainable Building and Construction Initiative\", \"SCBI\",\n",
    "                   \"sustainable lifestyle\" , \"sustainable life style\" , \"green lifestyle\" , \"eco-lifestyle\" , \"environmental lifestyle\",\n",
    "                   \"ecolabel\", \"eco-label\", \n",
    "                   \"ecotourism\", \"eco-tourism\",\n",
    "                   \"responsible consump\", \"cleaner production\",\n",
    "                   \"circular econom\", \"circular bioeconom\", \"circular product\", \"circular consumption\",\n",
    "                   \"lifecycle analys\", \"lifecycle assess\", \"material lifecycle\",\n",
    "                   \"cradle-to-cradle\", \"cradle to cradle\",\n",
    "                   \n",
    "                   \"bærekraftig liv\", \"berekraftig liv\", \"grønn livsstil\", \"miljøvennlig hverdag\", \"miljøvennlig liv\",\n",
    "                   \"miljømerk\", \"svanemerk\",\n",
    "                   \"økoturism\",\n",
    "                   \"ansvarlig forbruk\", \"ansvarleg forbruk\", \"renere produksjon\",\n",
    "                   \"sirkulær økonomi\", \"sirkulær bioøkonomi\", \"sirkulær produk\", \"sirkulær forbruk\", \n",
    "                   \"livssyklusanalyse\", \"livsløpsvurdering\",\n",
    "                   \"vugge til vugge\"\n",
    "                  ]\n",
    "# In Norwegian, the construction terms (translations of ecobuilding etc.) are added to the phrase below as it needs more flexibility in this language\n",
    "# Svanemerk is a Norwegian ecolabelling scheme\n",
    "\n",
    "termlist12_scp2_trunc = [\"green\", \"eco\", \"eco-.*\", \"sustainab.*\", \"responsib.*\", \"environmental.*\", \"ecological.*\",\n",
    "                         \"grønne.*\", \"grønn\", \"øko\", \"bærekraft.*\", \"berekraft.*\", \"ansvarlig.*\", \"miljø.*\"\n",
    "                        ]\n",
    "# truncated as \"eco\" causes noise if not\n",
    "#\"Grønn\" (NO) is truncated to avoid \"grønnsak\"\n",
    "termlist12_scp3 = [\"consumer\", \n",
    "                   \"certificat\", \"label\",\n",
    "                   \"tourism\", \"tourist\", \"travel\", \"hospitality\", \"leisure\",\n",
    "                   \n",
    "                   \"forbruk\", \"kunder\",\n",
    "                   \"stempel\", \"akkredit\", \"sertifi\", \"merke\", \"merking\",\n",
    "                   \"turism\", \"turist\", \"reise\", \"fritid\",\n",
    "                   \"bygg\", \"bolig\", \"materialer\"]\n",
    "#will find e.g. \"miljøsertifisering\" (NO)\n",
    "\n",
    "termlist12_scp4_trunc = [\"utili.*\", \"use\", \"usage\", \"using\", \"design.*\",\n",
    "                         \"bruk.*\", \"forbruk\"]\n",
    "\n",
    "termlist12_scp5 = [\"sidestream\", \"side-stream\", \"byproduct\", \"by-product\"\n",
    "                  \"sidestrøm\", \"biprodukt\"]\n",
    "\n",
    "termlist12_scp6 = [\"recycl\", \"reuse\", \"re-use\", \"reusing\", \"re-using\", \"refurbish\", \"re-furbish\", \"remanufactur\", \"re-manufactur\", \"repurpos\", \"re-purpos\",\n",
    "                   \"compost\", \"codigest\", \"co-digest\",\n",
    "                   \"resource efficien\", \"resource-use efficien\", \"material efficicen\", \"material-use efficien\", \"footprint\",\n",
    "                   \n",
    "                   \"resirkul\", \"gjenbruk\", \"ombruk\",\n",
    "                   \"kompost\",\n",
    "                   \"ressurseffektiv\", \"materialeffektiv\", \"effektiv bruk av material\", \"effektiv bruk av ressurs\", \"fotspor\"]\n",
    "termlist12_scp7 = [\"bioeconom\", \"bio-econom\", \"produc\", \"consum\",\n",
    "                   \"packaging\",\n",
    "                   \"sidestream\", \"side-stream\", \"byproduct\", \"by-product\"\n",
    "                   \"resource\", \"material\", \"matter\", \"biomass\",\n",
    "                   \"waste\", \"garbage\", \"trash\",\n",
    "                   \n",
    "                   \"bioøkonom\", \"produksj\", \"produkter\", \"forbruk\",\n",
    "                   \"innpakning\", \"emballasje\", \"emballering\", \n",
    "                   \"sidestrøm\", \"biprodukt\",\n",
    "                   \"ressurs\",\n",
    "                   \"avfall\", \"søppel\", \"kloakk\", \" slam\"]\n",
    "\n",
    "termlist12_scp8_trunc = [\"green\", \"eco\", \"eco-.*\", \"sustainab.*\", \"environmental.*\", \"ecological.*\",\n",
    "                         \"grønne.*\", \"grønn\", \"øko\", \"bærekraft.*\", \"berekraft.*\", \"miljø.*\"]\n",
    "termlist12_scp9 = [\"waste\", \"garbage\", \"trash\", \"rubbish\", \"litter\", \"sewage\", \"sludge\",\n",
    "                   \"avfall\", \"søppel\", \"kloakk\", \" slam\"\n",
    "                  ]\n",
    "termlist12_scp10 = [\"management\", \"handling\", \"collect\", \"transport\", \"storing\", \"dispos\", \"treatment\", \"processing\", \"sorting\", \"incinerat\", \"combust\", \n",
    "                    \"end of life\", \"end of chain\", \"end-of-life\", \"end-of-chain\",\n",
    "                    \"packaging\", \"labelling\", \n",
    "                    \n",
    "                    \"ledelse\", \"håndter\", \"samle\", \"samling\", \"oppbevar\", \"lagring\", \"avhend\", \"tømming\", \"prossess\", \"sortering\", \"sortere\", \"forbrenning\",\n",
    "                    \"innpakning\", \"emballasje\", \"emballering\", \"stempel\", \"akkredit\", \"sertifi\", \"merke\", \"merkering\"]\n",
    "# \"behandling\" (NO) not included, as mostly seems to result in e.g. \"miljøbehandling\" in health\n",
    "termlist12_scp11 = [\"footprint\"\n",
    "                    \"produc\", \"consum\",\n",
    "                    \"retail\", \"trade\", \"market\",\n",
    "                    \" handling\", \"storage\", \"transport\", \"distribution network\", \"packaging\", \"supply chain\", \"logistics\",\n",
    "                    \"procurement\", \"aquisition\", \"purchas\", \"investment\",\n",
    "                    \"resource efficien\", \"resource-use efficien\", \"material efficicen\", \"material-use efficien\",\n",
    "                    \"food system\", \"food production\", \"food consumption\", \"food security\",\n",
    "                    \"agricultur\", \"cropping system\", \"agroforest\", \"agro-forest\", \"aquaculture\", \"fisher\", \"fish farm\",\n",
    "                    \n",
    "                    \"forspor\",\n",
    "                    \"produksj\", \"forbruk\",\n",
    "                    \"marked\", \"detaljhandel\", \"faghandel\", \"dagligvare\",\n",
    "                    \"håndter\", \"innsaml\", \"samling\", \"oppbevar\", \"lagring\", \"innpakning\", \"emballasje\", \"emballering\", \"forsyningskjede\", \"logistikk\",\n",
    "                    \"anskaffels\", \"anbud\", \"innkjøp\", \"investering\",\n",
    "                    \"ressurseffektiv\", \"materialeffektiv\", \"effektiv bruk av material\", \"effektiv bruk av ressurs\", \n",
    "                    \"matsystem\", \"matproduksjon\", \"matforbruk\", \"matsikkerhet\",\n",
    "                    \"jordbruk\", \"landbruk\", \"havbruk\", \"fiskeoppdrett\"]\n",
    "# The space in front of \"handling\" (EN/NO) is necessary to prevent \"behandling\" in Norwegian. Not needed in other languages potentially.\n",
    "\n",
    "phrasedefault12_scp1 = r'(?:{})'.format('|'.join(termlist12_scp1))\n",
    "phrasespecific12_scp2 = r'\\b(?:{})\\b'.format('|'.join(termlist12_scp2_trunc))\n",
    "phrasedefault12_scp3 = r'(?:{})'.format('|'.join(termlist12_scp3))\n",
    "phrasespecific12_scp4 = r'\\b(?:{})\\b'.format('|'.join(termlist12_scp4_trunc))\n",
    "phrasedefault12_scp5 = r'(?:{})'.format('|'.join(termlist12_scp5))\n",
    "phrasedefault12_scp6 = r'(?:{})'.format('|'.join(termlist12_scp6))\n",
    "phrasedefault12_scp7 = r'(?:{})'.format('|'.join(termlist12_scp7))\n",
    "phrasespecific12_scp8 = r'\\b(?:{})\\b'.format('|'.join(termlist12_scp8_trunc))\n",
    "phrasedefault12_scp9 = r'(?:{})'.format('|'.join(termlist12_scp9))\n",
    "phrasedefault12_scp10 = r'(?:{})'.format('|'.join(termlist12_scp10))\n",
    "phrasedefault12_scp11 = r'(?:{})'.format('|'.join(termlist12_scp11))"
   ]
  },
  {
   "cell_type": "code",
   "execution_count": null,
   "id": "effc3127-e190-4dbc-8c45-4c9551844b47",
   "metadata": {
    "colab": {
     "base_uri": "https://localhost:8080/"
    },
    "id": "EI6ZVZnZpE5i",
    "outputId": "afb61321-f2c8-401c-91c9-cd0d13b17b39"
   },
   "outputs": [],
   "source": [
    "#Search\n",
    "Data[\"scp\"]=(\n",
    "    (Data['result_title'].str.contains(phrasedefault12_scp1, na=False, case=False))\n",
    "    |((Data['result_title'].str.contains(phrasespecific12_scp2, na=False, case=False)) & (Data['result_title'].str.contains(phrasedefault12_scp3, na=False, case=False)))\n",
    "    |((Data['result_title'].str.contains(phrasespecific12_scp4, na=False, case=False)) & (Data['result_title'].str.contains(phrasedefault12_scp5, na=False, case=False)))\n",
    "    |((Data['result_title'].str.contains(phrasedefault12_scp6, na=False, case=False)) & (Data['result_title'].str.contains(phrasedefault12_scp7, na=False, case=False)))\n",
    "    |\n",
    "        (\n",
    "            (Data['result_title'].str.contains(phrasespecific12_scp8, na=False, case=False)) \n",
    "            & \n",
    "                ((Data['result_title'].str.contains(phrasedefault12_scp11, na=False, case=False))\n",
    "                 |((Data['result_title'].str.contains(phrasedefault12_scp9, na=False, case=False))&(Data['result_title'].str.contains(phrasedefault12_scp10, na=False, case=False)))\n",
    "                )\n",
    "        )\n",
    "    )\n",
    "\n",
    "print(\"Number of results = \", len(Data.loc[Data['scp']])) "
   ]
  },
  {
   "cell_type": "code",
   "execution_count": null,
   "id": "2127ded4-1169-4911-afac-75040b7a518f",
   "metadata": {
    "colab": {
     "base_uri": "https://localhost:8080/",
     "height": 389
    },
    "id": "Ixopkv8nppSs",
    "outputId": "b75b6bf4-25a7-481b-ea54-78ac014215fd"
   },
   "outputs": [],
   "source": [
    "#Results\n",
    "test=Data.loc[Data['scp']]\n",
    "test.iloc[0:5, [3,5,6,25,26]]"
   ]
  },
  {
   "cell_type": "markdown",
   "id": "09b68a12-ed2c-4cdf-82a0-388314b8ecbe",
   "metadata": {
    "id": "tt-Bv9BcnnUQ"
   },
   "source": [
    "### SDG 12.1\n",
    "\n",
    "*12.1 Implement the 10‑Year Framework of Programmes on Sustainable Consumption and Production Patterns, all countries taking action, with developed countries taking the lead, taking into account the development and capabilities of developing countries*\n",
    "\n",
    "*Gjennomføre det tiårige handlingsprogrammet for bærekraftig forbruk og produksjon ved at alle land deltar, men slik at de utviklede landene går foran, samtidig som det tas hensyn til utviklingslandenes utviklingsnivå og muligheter*"
   ]
  },
  {
   "cell_type": "code",
   "execution_count": null,
   "id": "49c48c10",
   "metadata": {
    "id": "J1OyLMbMnhye"
   },
   "outputs": [],
   "source": [
    "#Term lists\n",
    "#Here in the title search it is simplified, so that `national OR regional...` etc. is not included\n",
    "\n",
    "termlist12_1a = [\"10 year framework of program\", \"10-year framework of program\", \"10YFP\",\n",
    "                \"handlingsprogrammet for bærekraftig forbruk og produksjon\"]\n",
    "\n",
    "termlist12_1b_trunc = [\"polic.*\", \"govern.*\", \"action plan.*\", \"regulat.*\", \"legal.*\", \"law\", \"laws\", \"legislat.*\", \"standards\", \"code of conduct.*\", \"accounting\", \"reporting\",\n",
    "                       \"politikk.*\", \"handlingsplan.*\", \"tiltaksplan.*\", \"regulasj.*\", \".*lovverk.*\", \"lovgiv.*\", \"utredning.*\", \"utgreiing\", \"standarder\", \"retningslinje.*\", \"rapportering.*\"]\n",
    "\n",
    "termlist12_1c_trunc = [\"strateg.*\", \"framework\", \"program.*\", \"plan\", \"plans\", \"planning\", \"target.*\", \"goal.*\", \"instrument\", \"instruments\", \"national standard\", \"international standard\",\n",
    "                       \"rammeverk\", \"planer\", \"planar\", \"planlegg.*\", \"mål\", \"nasjonal standard\", \"internasjonal standard\"]\n",
    "\n",
    "phrasedefault12_1a = r'(?:{})'.format('|'.join(termlist12_1a))\n",
    "phrasespecific12_1b = r'\\b(?:{})\\b'.format('|'.join(termlist12_1b_trunc))\n",
    "phrasespecific12_1c = r'\\b(?:{})\\b'.format('|'.join(termlist12_1c_trunc))"
   ]
  },
  {
   "cell_type": "code",
   "execution_count": null,
   "id": "a5df7b0f",
   "metadata": {
    "colab": {
     "base_uri": "https://localhost:8080/"
    },
    "id": "EI6ZVZnZpE5i",
    "outputId": "afb61321-f2c8-401c-91c9-cd0d13b17b39"
   },
   "outputs": [],
   "source": [
    "#Search\n",
    "Data.loc[(\n",
    "    (\n",
    "        (Data['result_title'].str.contains(phrasedefault12_1a, na=False, case=False))\n",
    "        |(Data['result_title'].str.contains(phrasespecific12_1b, na=False, case=False))\n",
    "        |(Data['result_title'].str.contains(phrasespecific12_1c, na=False, case=False))\n",
    "    )\n",
    "    &(Data['scp']==True)\n",
    "    ),\"tempsdg12_01\"] = \"SDG12_01\"\n",
    "\n",
    "print(\"Number of results = \", len(Data[(Data.tempsdg12_01 == \"SDG12_01\")])) "
   ]
  },
  {
   "cell_type": "code",
   "execution_count": null,
   "id": "72c14faa",
   "metadata": {
    "colab": {
     "base_uri": "https://localhost:8080/",
     "height": 389
    },
    "id": "Ixopkv8nppSs",
    "outputId": "b75b6bf4-25a7-481b-ea54-78ac014215fd"
   },
   "outputs": [],
   "source": [
    "#Results\n",
    "test=Data.loc[(Data.tempsdg12_01 == \"SDG12_01\"), (\"result_id\", \"subcategory\", \"result_title\", \"SDG_action\", \"mentionssdgno\")]\n",
    "test.iloc[0:5, ]"
   ]
  },
  {
   "cell_type": "markdown",
   "id": "889456b4-82d8-4bf9-a7d1-0a4ec7e8780f",
   "metadata": {
    "id": "28QC5YCmq6wD"
   },
   "source": [
    "### SDG 12.2\n",
    "\n",
    "*12.2 By 2030, achieve the sustainable management and efficient use of natural resources*\n",
    "\n",
    "*Innen 2030 oppnå bærekraftig forvaltning og effektiv bruk av naturressurser*\n"
   ]
  },
  {
   "cell_type": "markdown",
   "id": "26141628-05d7-43e4-8874-c28aeec367f5",
   "metadata": {
    "id": "ZX2d-k91vhK_"
   },
   "source": [
    "#### Phrase 1"
   ]
  },
  {
   "cell_type": "code",
   "execution_count": null,
   "id": "9136925a-07bb-4e08-9bc5-eece094d7537",
   "metadata": {
    "id": "Ub1aKSj8q6wF"
   },
   "outputs": [],
   "source": [
    "#Termlists\n",
    "\n",
    "termlist12_2a_trunc = [\"eco\", \"eco-.*\", \"green\", \"sustainab.*\", \"responsibl.*\", \"environmental.*\", \"ecological\", \"long-term management\",\n",
    "                       \"grønne.*\", \"grønn\", \"øko\", \"bærekraft.*\", \"berekraft.*\", \"ansvarlig.*\", \"miljø.*\", \"strategisk planlegging\", \"langsiktig planlegging\", \"langsiktig ledelse\"]\n",
    "\n",
    "termlist12_2c_trunc = [\"manag.*\", \"extract.*\", \"practice.*\", \"resource use\", \"usage\", \"consumption\", \"consume.*\",\n",
    "                       \"govern.*\", \"development\", \"administrat.*\", \"plan\", \"planning\", \"policy\", \"policies\",\n",
    "                       \n",
    "                       \"forvalt.*\", \"høsting\", \"praksis\", \"bærekraftig bruk\", \"berekraftig bruk\", \"ressursbruk\", \"bruk av ressurs\", \"forbruk\",\n",
    "                       \"strying.*\", \"utvikling\", \"handlingsplan.*\", \"tiltaksplan.*\", \"planer\", \"planar\", \"planlegg.*\", \"regulasj.*\", \"lovverk\", \"lovgiv.*\", \"utredning\", \"utgreiing\", \"rammeverk\", \"politikk.*\"]\n",
    "\n",
    "#Terms that already indicate USE of resources (2d) - combined with sustainable/eco etc (2a)\n",
    "termlist12_2d = [\"forestry\", 'silvicult', \"arboritcult\", \"logging\",\n",
    "                 \"mining\",\n",
    "                 \"fishery\", \"fisheries\", \"hunting\",\n",
    "                 \"water use\", \"use of water\",\n",
    "                 \n",
    "                 \"skogbruk\", \"skogskjøtsel\", \"skogpleie\", \"skogsvirke\",\n",
    "                 \"gruvedrift\",\n",
    "                 \"fiskeri\", \"jakt\",\n",
    "                 \"vannbruk\", \"bruk av ferskvann\"]\n",
    "\n",
    "#Terms that are just resources (2e) - combined with sustainable/eco (2a) and management/extraction (2c).\n",
    "termlist12_2e = [\"natural resource\", \"natural material\", \"renewable resource\", \"renewable material\", \"natural capital\", \"raw material\", \n",
    "                 \"forest\", \"woodland\", \n",
    "                 \"ocean\", \"marine\", \"fresh water\", \"lake\", \"river\", \"coastal\", \"wildlife\", \n",
    "                 \"water supply\", \"water supplies\", \"water resource\", \"freshwater resource\", \"supply of freshwater\", \"water management\",\n",
    "                 \"mineral\",\n",
    "                 \n",
    "                 \"naturressurs\", \"naturlige materialer\", \"fornybar ressurs\", \"fornybare ressurs\", \"fornybar material\", \"fornybare material\", \"naturkapital\", \"råvare\",\n",
    "                 \"skog\",\n",
    "                 \"sjøen\", \"havet\", \"ferskvann\", \"innsjø\", \n",
    "                 \"vannressurs\", \"vassdrag\", \"grunnvann\", \"vannforvalt\",\n",
    "                 \"landressurs\", \"jordressurs\"]\n",
    "termlist12_2e_trunc = [\"land\", \"soil\", \"soils\", \"metal\", \"metals\", \"ore\", \"ores\",\n",
    "                       \"sjø\", \"hav\", \"kyst\", \"kysten\", \"jord\", \".*malm\", \"malmer\"]\n",
    "\n",
    "termlist12_2f = [\"global forest goals\", \"forest under certification\", \"certified forest area\", \"international resource panel\",\n",
    "                \"strategiske plan for skog\", \"sertifisering av skog\", \"skog sertifisering\", \"internasjonale ressurspanelet\"]\n",
    "\n",
    "phrasespecific12_2a = r'\\b(?:{})\\b'.format('|'.join(termlist12_2a_trunc))\n",
    "phrasespecific12_2c = r'\\b(?:{})\\b'.format('|'.join(termlist12_2c_trunc))\n",
    "phrasedefault12_2d = r'(?:{})'.format('|'.join(termlist12_2d))\n",
    "phrasedefault12_2e = r'(?:{})'.format('|'.join(termlist12_2e))\n",
    "phrasespecific12_2e = r'\\b(?:{})\\b'.format('|'.join(termlist12_2e_trunc))\n",
    "phrasedefault12_2f = r'(?:{})'.format('|'.join(termlist12_2f))"
   ]
  },
  {
   "cell_type": "code",
   "execution_count": null,
   "id": "8a977597-8bb1-4ee1-a5a2-b42a6cf765c1",
   "metadata": {
    "colab": {
     "base_uri": "https://localhost:8080/"
    },
    "id": "WSUKPLNFq6wH",
    "outputId": "d8b67fb1-f943-4015-fff0-6339360c16db"
   },
   "outputs": [],
   "source": [
    "#Search\n",
    "Data.loc[(\n",
    "    (Data['result_title'].str.contains(phrasedefault12_2f, na=False, case=False))\n",
    "    |((Data['result_title'].str.contains(phrasespecific12_2a, na=False, case=False))&(Data['result_title'].str.contains(phrasedefault12_2d, na=False, case=False)))\n",
    "    |\n",
    "    (\n",
    "        (Data['result_title'].str.contains(phrasespecific12_2a, na=False, case=False))\n",
    "        & (Data['result_title'].str.contains(phrasespecific12_2c, na=False, case=False))\n",
    "        & ((Data['result_title'].str.contains(phrasedefault12_2e, na=False, case=False))|(Data['result_title'].str.contains(phrasespecific12_2e, na=False, case=False)))\n",
    "    )\n",
    "    ),\"tempsdg12_02\"] = \"SDG12_02\"\n",
    "\n",
    "print(\"Number of results = \", len(Data[(Data.tempsdg12_02 == \"SDG12_02\")])) "
   ]
  },
  {
   "cell_type": "code",
   "execution_count": null,
   "id": "e42b7ebd-ba29-4c44-8120-bce9fcab443e",
   "metadata": {
    "colab": {
     "base_uri": "https://localhost:8080/",
     "height": 1000
    },
    "id": "N61k67bjq6wI",
    "outputId": "59e022f7-525e-45df-f118-22cce9421e33"
   },
   "outputs": [],
   "source": [
    "#Results\n",
    "test=Data.loc[(Data.tempsdg12_02 == \"SDG12_02\"), (\"result_id\", \"subcategory\", \"result_title\", \"SDG_action\", \"mentionssdgno\")]\n",
    "test.iloc[0:5, ]"
   ]
  },
  {
   "cell_type": "markdown",
   "id": "5b421310-25a4-4822-87f6-79020776a970",
   "metadata": {
    "id": "ZX2d-k91vhK_",
    "tags": []
   },
   "source": [
    "#### Phrase 2"
   ]
  },
  {
   "cell_type": "code",
   "execution_count": null,
   "id": "ec721486-45ff-4a01-8a35-565ed196fa6f",
   "metadata": {
    "id": "Ub1aKSj8q6wF"
   },
   "outputs": [],
   "source": [
    "#Termlists\n",
    "#Here we reuse the natural resources and management/use terms from phrase 1 (but note that this phrase also includes terms for some unsustaibable natural resources)\n",
    "\n",
    "termlist12_2g = [\"unsustainab\", \"irresponsib\", \"unecological\", \"inefficien\",\n",
    "                 \"ubærekraftig\", \"uansvarlig\", \"ueffektiv\"]\n",
    "\n",
    "termlist12_2h_trunc = [\"fossil fuel.*\", \"coal\", \"oil\", \"natural gas\", \"peat\", \"diesel\", \"gasoline\", \"kerosene\", \"petroleum\", \"energy resource.*\",\n",
    "                       \"fossilt brensel.*\", \"fossile brensl.*\", \"fossilt brennstoff.*\", \"fossile brennstoff.*\", \"kull\", \"olje\", \"naturgass\", \"parafin.*\", \"energiressurs.*\"]\n",
    "\n",
    "phrasedefault12_2g = r'(?:{})'.format('|'.join(termlist12_2g))\n",
    "phrasespecific12_2h = r'\\b(?:{})\\b'.format('|'.join(termlist12_2h_trunc))"
   ]
  },
  {
   "cell_type": "code",
   "execution_count": null,
   "id": "8201d90d-0338-4af4-a1c3-205a677ca0b9",
   "metadata": {
    "colab": {
     "base_uri": "https://localhost:8080/"
    },
    "id": "WSUKPLNFq6wH",
    "outputId": "d8b67fb1-f943-4015-fff0-6339360c16db"
   },
   "outputs": [],
   "source": [
    "#Search\n",
    "Data.loc[(\n",
    "    (\n",
    "        (Data['result_title'].str.contains(phrasedefault12_2d, na=False, case=False))\n",
    "        |\n",
    "        (\n",
    "            (Data['result_title'].str.contains(phrasespecific12_2c, na=False, case=False))\n",
    "            & \n",
    "            ((Data['result_title'].str.contains(phrasedefault12_2e, na=False, case=False))\n",
    "             |(Data['result_title'].str.contains(phrasespecific12_2e, na=False, case=False))\n",
    "             |(Data['result_title'].str.contains(phrasespecific12_2h, na=False, case=False))\n",
    "            )\n",
    "        )\n",
    "    )\n",
    "    & (Data['result_title'].str.contains(phrasedefault12_2g, na=False, case=False))\n",
    "    ),\"tempsdg12_02\"] = \"SDG12_02\"\n",
    "\n",
    "print(\"Number of results = \", len(Data[(Data.tempsdg12_02 == \"SDG12_02\")])) "
   ]
  },
  {
   "cell_type": "code",
   "execution_count": null,
   "id": "17ced871-08d2-411f-960f-a30ae7c40f74",
   "metadata": {
    "colab": {
     "base_uri": "https://localhost:8080/",
     "height": 1000
    },
    "id": "N61k67bjq6wI",
    "outputId": "59e022f7-525e-45df-f118-22cce9421e33"
   },
   "outputs": [],
   "source": [
    "#Results\n",
    "test=Data.loc[(Data.tempsdg12_02 == \"SDG12_02\"), (\"result_id\", \"subcategory\", \"result_title\", \"SDG_action\", \"mentionssdgno\")]\n",
    "test.iloc[0:5, ]"
   ]
  },
  {
   "cell_type": "markdown",
   "id": "4c0db710-8a36-4eea-b432-3714c78a72bf",
   "metadata": {
    "id": "ZX2d-k91vhK_"
   },
   "source": [
    "#### Phrase 3"
   ]
  },
  {
   "cell_type": "code",
   "execution_count": null,
   "id": "25b0b7e2-66e5-4f66-bcdd-8bbd9292312f",
   "metadata": {
    "id": "Ub1aKSj8q6wF"
   },
   "outputs": [],
   "source": [
    "#Termlists\n",
    "#Here we reuse the parts/all of the scp string, even though it is slightly wider than the original WoS combination string\n",
    "#In addition, there are two other new elements added:\n",
    "# \"efficient use\" (in WOS = (\"saving\" OR \"save$\" OR \"conserv*\" OR \"efficien*\") NEAR/5 (\"use\" OR \"using\" OR \"usage\" OR \"utili*\" OR \"consumption\"))\n",
    "# circular economy (stands alone without having to mention natural resources in WOS)\n",
    "#And combine it with the natural resources strings in phrase 1\n",
    "\n",
    "termlist12_2i = [\"circular econom\", \"circular bioeconom\", \"circular product\", \"circular consumption\",\n",
    "                 \"material lifecycle\", \"material footprint\",\n",
    "                 \n",
    "                 \"sirkulær økonomi\", \"sirkulær bioøkonomi\", \"sirkulær produk\", \"sirkulær forbruk\",\n",
    "                 \"materialets livssyklus\", \"materialenes livssyklus\"]\n",
    "\n",
    "termlist12_2j = [\"efficient consum\", \"efficient us\", \"conservative us\",\n",
    "                 \"effektiv forbruk\", \"effektiv bruk\", \"sparsom\"]\n",
    "\n",
    "phrasedefault12_2i = r'(?:{})'.format('|'.join(termlist12_2i))\n",
    "phrasedefault12_2j = r'(?:{})'.format('|'.join(termlist12_2j))"
   ]
  },
  {
   "cell_type": "code",
   "execution_count": null,
   "id": "00716795-a26b-413a-9672-9e799cee8214",
   "metadata": {
    "colab": {
     "base_uri": "https://localhost:8080/"
    },
    "id": "WSUKPLNFq6wH",
    "outputId": "d8b67fb1-f943-4015-fff0-6339360c16db"
   },
   "outputs": [],
   "source": [
    "#Search\n",
    "Data.loc[(\n",
    "    (Data['result_title'].str.contains(phrasedefault12_2i, na=False, case=False))\n",
    "    | ((Data['result_title'].str.contains(phrasedefault12_scp6, na=False, case=False))&(Data['result_title'].str.contains(phrasedefault12_scp7, na=False, case=False)))\n",
    "    |\n",
    "    (\n",
    "        ((Data['result_title'].str.contains(phrasedefault12_2d, na=False, case=False))\n",
    "        |(Data['result_title'].str.contains(phrasespecific12_2e, na=False, case=False))\n",
    "        |(Data['result_title'].str.contains(phrasedefault12_2e, na=False, case=False))\n",
    "        )\n",
    "        & ((Data['scp']==True)|(Data['result_title'].str.contains(phrasedefault12_2j, na=False, case=False)))\n",
    "    )\n",
    "    ),\"tempsdg12_02\"] = \"SDG12_02\"\n",
    "\n",
    "print(\"Number of results = \", len(Data[(Data.tempsdg12_02 == \"SDG12_02\")])) "
   ]
  },
  {
   "cell_type": "code",
   "execution_count": null,
   "id": "e74ac23a-57de-4cfb-a6de-032c1adfead2",
   "metadata": {
    "colab": {
     "base_uri": "https://localhost:8080/",
     "height": 1000
    },
    "id": "N61k67bjq6wI",
    "outputId": "59e022f7-525e-45df-f118-22cce9421e33"
   },
   "outputs": [],
   "source": [
    "#Results\n",
    "test=Data.loc[(Data.tempsdg12_02 == \"SDG12_02\"), (\"result_id\", \"subcategory\", \"result_title\", \"SDG_action\", \"mentionssdgno\")]\n",
    "test.iloc[0:10, ]"
   ]
  },
  {
   "cell_type": "markdown",
   "id": "fcae4068-3589-4456-aade-f68d83decd68",
   "metadata": {
    "id": "ZX2d-k91vhK_"
   },
   "source": [
    "#### Phrase 4"
   ]
  },
  {
   "cell_type": "code",
   "execution_count": null,
   "id": "4ea7c91d-a1be-4c3f-84b9-47664504a525",
   "metadata": {
    "id": "Ub1aKSj8q6wF"
   },
   "outputs": [],
   "source": [
    "#Termlists\n",
    "#Here we reuse the natural resources strings in phrase 1/2, but some more of the terms are combined with \"resources\" \n",
    "#(to avoid being too general, e.g. \"loss + land\" is forced to \"loss + land + resources\")\n",
    "\n",
    "#As this is a title search, we do not include the \"reduce\" element - so it is expanded to be about consumption generally\n",
    "\n",
    "termlist12_2k = [\"resource\", \"material\",\n",
    "                 \"ressurs\"]\n",
    "\n",
    "termlist12_2l_trunc = [\"material footprint\", \"material consumption\", \"ecological footprint\", \"resource footprint\",\n",
    "                       \"reduce the us\", \"decrease the us\", \"reduce usage\", \"decrease usage\",\n",
    "                       \"extract\", \"extraction\", \"consum.*\", \n",
    "                       \"deplet.*\", \"exploit.*\", \n",
    "                       \"waste\", \"loss\", \n",
    "                       \n",
    "                       \".*fotspor\", \n",
    "                       \"reduserer bruk\",\n",
    "                       \"ekstrak.*\", \"forbruk\", \"uttømm.*\", \n",
    "                       \"svinn\", \"avfall\", \"tap\"]\n",
    "#\"using\" caused a lot of noise, many results about for example \"Examining resource x USING method y\", and not actually about use of the resource.\n",
    "# Extraction is specified as \"extracts\" gives results from oil extracts\n",
    "\n",
    "phrasedefault12_2k = r'(?:{})'.format('|'.join(termlist12_2k))\n",
    "phrasespecific12_2l = r'\\b(?:{})\\b'.format('|'.join(termlist12_2l_trunc))"
   ]
  },
  {
   "cell_type": "code",
   "execution_count": null,
   "id": "c737d28b-8ee2-4c78-bf05-18057b9db810",
   "metadata": {
    "colab": {
     "base_uri": "https://localhost:8080/"
    },
    "id": "WSUKPLNFq6wH",
    "outputId": "d8b67fb1-f943-4015-fff0-6339360c16db"
   },
   "outputs": [],
   "source": [
    "#Search\n",
    "Data.loc[(\n",
    "    (\n",
    "        (Data['result_title'].str.contains(phrasedefault12_2d, na=False, case=False))\n",
    "        |((Data['result_title'].str.contains(phrasedefault12_2e, na=False, case=False))&(Data['result_title'].str.contains(phrasedefault12_2k, na=False, case=False)))\n",
    "        |((Data['result_title'].str.contains(phrasespecific12_2e, na=False, case=False))&(Data['result_title'].str.contains(phrasedefault12_2k, na=False, case=False)))\n",
    "        |(Data['result_title'].str.contains(phrasespecific12_2h, na=False, case=False))\n",
    "    )\n",
    "    & (Data['result_title'].str.contains(phrasespecific12_2l, na=False, case=False))\n",
    "    ),\"tempsdg12_02\"] = \"SDG12_02\"\n",
    "\n",
    "print(\"Number of results = \", len(Data[(Data.tempsdg12_02 == \"SDG12_02\")])) "
   ]
  },
  {
   "cell_type": "code",
   "execution_count": null,
   "id": "7dff0fbe-58f0-4949-9c4a-e710d077e7e2",
   "metadata": {
    "colab": {
     "base_uri": "https://localhost:8080/",
     "height": 1000
    },
    "id": "N61k67bjq6wI",
    "outputId": "59e022f7-525e-45df-f118-22cce9421e33"
   },
   "outputs": [],
   "source": [
    "#Results\n",
    "test=Data.loc[(Data.tempsdg12_02 == \"SDG12_02\"), (\"result_id\", \"subcategory\", \"result_title\", \"SDG_action\", \"mentionssdgno\")]\n",
    "test.iloc[0:5, ]"
   ]
  },
  {
   "cell_type": "markdown",
   "id": "ce3474ca-d40f-4ae9-91f8-4fcc7e17cd80",
   "metadata": {
    "tags": []
   },
   "source": [
    "#### Phrase 5\n",
    "\n",
    "Note - this is identical to 2.4 phrase 4"
   ]
  },
  {
   "cell_type": "code",
   "execution_count": null,
   "id": "d23ba6a8-490a-4c5c-8324-f7da518efeab",
   "metadata": {},
   "outputs": [],
   "source": [
    "termlist12_2m = [\"food-produc\", \"food produc\", \"grower\", \"agrifood\", \"agri-food\", \"agro-food\", \"agro food\",\n",
    "                \"agricultur\", \"farm\", \"smallhold\", \"small-hold\", \"permacultur\", \"cropping\", \"orchard\", \"arable land\",\n",
    "                \"pasture\", \"pastoral\", \"agroforest\", \"agro-forest\", \"silvopastur\", \"silvopastoral\",\n",
    "                \"aquacultur\", \"maricultur\", \"fisher\", \"fish farm\", \"herding\",\n",
    "                \"crop\", \"grain\", \"vegetable\", \"fruit\", \"cereal\", \" rice\", \"wheat\", \"maize\", \"pulses\", \"legume\",\n",
    "                \"livestock\", \"fish\", \"salmon\", \"cattle\", \"sheep\", \"poultry\", \"pigs\", \"goats\", \"chicken\", \"buffalo\", \"ducks\", \"reindeer\",\n",
    "                \"fodder\", \"animal feed \", \"fish feed \",\n",
    "                \n",
    "                \"matproduksjon\", \"matprodusent\",\n",
    "                \"gård\", \"gard\", \"landbruk\", \"jordbruk\", \"gårdsbruk\", \"gardsbruk\", \"småbruk\", \"familiebruk\", \"dyrket mark\", \"dyrkamark\",\n",
    "                \"dyrka mark\", \"kultivert mark\",\n",
    "                \"beite\", \"dyreproduksjon\", \"meieri\",\n",
    "                \"fiskeoppdrett\", \"lakseoppdrett\", \"havbruk\",\n",
    "                \"grønnsak\", \"grønsak\", \"belgfrukt\", \"frukt\", \"fiske\", \"laks\", \" sau \", \"sauedrift\", \"sauehold\", \"storfe\", \" svin\", \"fjærkre\", \" rein\",\n",
    "                \"bærekraftig fôr\", \"berekraftig fôr\", \"dyrefôr\", \"dyrefor \", \"fiskefôr\", \"fiskefor \"]\n",
    "                #Space before \" rice\" to avoid \"price\", similarly \"sau/svin\" (NO) and after \"xxxfor\" (NO, to avoid \"forbund\" etc.). Note that \"agricultur\" will also cover e.g. \"ecoagriculture\"\n",
    "    \n",
    "termlist12_2n = [\"ecoagricultur\", \"eco-agricultur\", \"agroecolog\", \"permaculture\", \"conservation agriculture\", \"conservation farming\",\n",
    "                \"organic farm\", \"organic agricult\", \"organic crop\", \"organic orchard\", \"organic arable\", \"organic pasture\",\n",
    "                \"organic aquacultur\", \"organic salmon\", \"organic pig\", \"organic poultry\", \"organic dairy\", \"organic reindeer\",\n",
    "\n",
    "                \"økolandbruk\", \"økojordbruk\", \"permakultur\"]\n",
    "                #\"organic\" is not used alone, but is instead combined in phrases to avoid e.g. organic acids, organic matter. Moved to this part rather than 4j as it can stand alone.\n",
    "                #\"bærekraftig fôr\" (NO) is added specifically due to it's inclusion as a priority area (\"samfunnsoppdrag\") in the governments Long-term plan.\n",
    "              \n",
    "termlist12_2o = [\"sustainab\", \"eco-friendly\", \"environmentally friendly\", \"ecosystem approach\", \"ecosystem based\",\n",
    "                \"natural pest control\", \"natural pest management\", \"biological pest control\", \"intergrated pest management\",\n",
    "                \"intercropping\", \"cover crop\", \"crop rotation\", \"polyculture\", \"permaculture\", \n",
    "                \"reduced tillage\", \"mulch\", \"mulching\",\n",
    "                \"water conservation\",\n",
    "\n",
    "                \"bærekraftig\", \"berekraftig\", \"selvbærende\", \"sjølvberande\", \"miljøvennlig\", \"miljøvennleg\", \"miljøvenleg\", \"miljøbevisst\", \"miljømedveten\", \"miljømedviten\", \"økosystem\", \n",
    "                \"økologisk\", \"biologisk bekjempelse\", \"biologisk nedkjemping\", \"biologisk skadedyrkontroll\", \"integrert skadedyrkontroll\", \"integrert ugrasbekjempelse\", \"integrert plantevern\",\n",
    "                \"vekstskifte\", \"grønngjødsling\", \"dekkvekst\", \"underkultur\", \"underså\", \"ettervekster\", \"polykultur\", \"permakultur\",\n",
    "                \"redusert jordarbeiding\", \"gjødselplanlegging\",\n",
    "                \"vannsparing\"                ] \n",
    "\n",
    "phrasedefault12_2m = r'(?:{})'.format('|'.join(termlist12_2m))\n",
    "phrasedefault12_2n = r'(?:{})'.format('|'.join(termlist12_2n))\n",
    "phrasedefault12_2o = r'(?:{})'.format('|'.join(termlist12_2o))"
   ]
  },
  {
   "cell_type": "code",
   "execution_count": null,
   "id": "03b79edc-34c7-4889-a49b-75b5f688f364",
   "metadata": {
    "colab": {
     "base_uri": "https://localhost:8080/"
    },
    "id": "WSUKPLNFq6wH",
    "outputId": "d8b67fb1-f943-4015-fff0-6339360c16db"
   },
   "outputs": [],
   "source": [
    "#Search\n",
    "Data.loc[(\n",
    "    (Data['result_title'].str.contains(phrasedefault12_2n, na=False, case=False)) \n",
    "    | ((Data['result_title'].str.contains(phrasedefault12_2m, na=False, case=False)) & (Data['result_title'].str.contains(phrasedefault12_2o, na=False, case=False)))\n",
    "    ),\"tempsdg12_02\"] = \"SDG12_02\"\n",
    "\n",
    "print(\"Number of results = \", len(Data[(Data.tempsdg12_02 == \"SDG12_02\")])) "
   ]
  },
  {
   "cell_type": "markdown",
   "id": "40d7d51a-e3c4-4a88-92cf-03d5b9933ee8",
   "metadata": {
    "id": "28QC5YCmq6wD"
   },
   "source": [
    "### SDG 12.3\n",
    "\n",
    "*12.3 By 2030, halve per capita global food waste at the retail and consumer levels and reduce food losses along production and supply chains, including post-harvest losses*\n",
    "\n",
    "*Innen 2030 halvere matsvinn per innbygger på verdensbasis, både i detaljhandelen og blant forbrukere, og redusere svinn i produksjons- og forsyningskjeden, inkludert svinn etter innhøsting*\n"
   ]
  },
  {
   "cell_type": "markdown",
   "id": "7b4ad61b-0009-45d9-9f72-3d8e8c4f89ab",
   "metadata": {
    "id": "ZX2d-k91vhK_"
   },
   "source": [
    "#### Phrase 1"
   ]
  },
  {
   "cell_type": "code",
   "execution_count": null,
   "id": "3c4cd1a4-341d-43ca-9b7e-bf5f2822946d",
   "metadata": {
    "id": "Ub1aKSj8q6wF"
   },
   "outputs": [],
   "source": [
    "#Termlists\n",
    "\n",
    "termlist12_3a = [\"food\", \"fodder\"\n",
    "                 \"matvare\", \"matprodukt\", \"matsvinn\", \"matprodu\", \"bærekraftig fôr\", \"berekraftig fôr\", \"dyrefôr\", \"fiskefôr\"]\n",
    "\n",
    "termlist12_3a_trunc = [\"animal feed\", \"fish feed\", \n",
    "                       \"mat\", \"dyrefor\", \"fiskefor\"]\n",
    "\n",
    "termlist12_3b_trunc = [\"loss\", \"losses\", \"lost\", \"waste\", \"wastage\", \"spoil.*\", \"discard.*\", \"incinerat.*\", \"perish.*\",\n",
    "                       \"matsvinn.*\", \"svinn.*\", \"tap\", \"tapt\", \"avfall\", \"søppel\", \"kaste.*\", \"går til spille\", \"går til grunne\"]\n",
    "#This works ok without the NOT phrase in a title search\n",
    "\n",
    "phrasedefault12_3a = r'(?:{})'.format('|'.join(termlist12_3a))\n",
    "phrasespecific12_3a = r'\\b(?:{})\\b'.format('|'.join(termlist12_3a_trunc))\n",
    "phrasespecific12_3b = r'\\b(?:{})\\b'.format('|'.join(termlist12_3b_trunc))"
   ]
  },
  {
   "cell_type": "code",
   "execution_count": null,
   "id": "5f283cb1-8889-4f1a-b400-fd3429dc04ff",
   "metadata": {
    "colab": {
     "base_uri": "https://localhost:8080/"
    },
    "id": "WSUKPLNFq6wH",
    "outputId": "d8b67fb1-f943-4015-fff0-6339360c16db"
   },
   "outputs": [],
   "source": [
    "#Search\n",
    "Data.loc[(\n",
    "    ((Data['result_title'].str.contains(phrasedefault12_3a, na=False, case=False))|(Data['result_title'].str.contains(phrasespecific12_3a, na=False, case=False)))\n",
    "    &(Data['result_title'].str.contains(phrasespecific12_3b, na=False, case=False))\n",
    "),\"tempsdg12_03\"] = \"SDG12_03\"\n",
    "\n",
    "print(\"Number of results = \", len(Data[(Data.tempsdg12_03 == \"SDG12_03\")])) "
   ]
  },
  {
   "cell_type": "code",
   "execution_count": null,
   "id": "35afe9e7-7cb1-490f-8a8e-a471a9acd7f2",
   "metadata": {
    "colab": {
     "base_uri": "https://localhost:8080/",
     "height": 1000
    },
    "id": "N61k67bjq6wI",
    "outputId": "59e022f7-525e-45df-f118-22cce9421e33"
   },
   "outputs": [],
   "source": [
    "#Results\n",
    "test=Data.loc[(Data.tempsdg12_03 == \"SDG12_03\"), (\"result_id\", \"subcategory\", \"result_title\", \"SDG_action\", \"mentionssdgno\")]\n",
    "test.iloc[0:5, ]"
   ]
  },
  {
   "cell_type": "markdown",
   "id": "b10d4c83-f54b-4d4a-aeac-fd43aa325e36",
   "metadata": {
    "id": "ZX2d-k91vhK_"
   },
   "source": [
    "#### Phrase 2"
   ]
  },
  {
   "cell_type": "code",
   "execution_count": null,
   "id": "1fa30885-d167-43a4-ae27-0f616fd519c1",
   "metadata": {
    "id": "Ub1aKSj8q6wF"
   },
   "outputs": [],
   "source": [
    "#Termlists\n",
    "#Re-use the \"loss\" terms from phrase 1 (phrasespecific12_3b)\n",
    "\n",
    "termlist12_3c = [\"cereal\", \"pulses\", \"fruit\", \"berry\", \"berries\", \"vegetable\", \"soybean\", \"lentil\", \"chickpea\", \"legume\",\n",
    "                 \"grain\", \"wheat\", \"maize\", \"livestock\", \"cattle\", \"sheep\", \"poultry\", \"goat\", \"chicken\", \"buffalo\",\n",
    "                 \"dairy waste\", \"slaughter\",\n",
    "                 \"harvest\", \n",
    "                 \n",
    "                 \"grønnsak\", \"grønsak\", \"frukt\", \n",
    "                 \"oppdrettslaks\", \"oppdrett\", \"storfe\", \"fjærkre\",\n",
    "                 \"dyreproduksjon\", \"meieri\", \"slakt\",\n",
    "                 \"innhøst\", \"høsting\"]\n",
    "\n",
    "termlist12_3c_trunc = [\"crop\", \"crops\", \"rice\", \"fisher.*\", \"pig\", \"pigs\", \"duck\", \"milk\",\n",
    "                       \"sau\", \"sauer\", \"sauedrift\", \"geit\", \"geiter\", \"svin\", \"svinedrift\", \"rein\", \"reindrift\", \"melk\", \"fiske.*\"]\n",
    "\n",
    "termlist12_3d = [\"production\", \"processing\", \" handling\", \"storage\", \"transport\", \"distribution\", \"market\", \"packaging\", \"supply chain\", \"logistics\",\n",
    "                 \"retail\", \"food service\", \"food service\", \"restaurant\", \"household\", \"farm\", \n",
    "                 \"consumer\", \"consumption\", \"consume\", \n",
    "                 \"harvest\", \"slaughter\",\n",
    "                 \n",
    "                 \"produksjon\", \"håndter\", \"innsaml\", \"samling\", \"oppbevar\", \"lagring\", \"innpakning\", \"emballasje\", \"prossess\", \"innpakning\", \"emballasje\", \"emballering\", \"forsyningskjede\", \"logistikk\",            \n",
    "                 \"matindustri\", \"matvare\", \"dagligvare\", \"hushold\", \"gård\",\n",
    "                 \"forbruk\",\n",
    "                 \"innhøst\", \"høsting\", \"slakt\"]\n",
    "\n",
    "phrasedefault12_3c = r'(?:{})'.format('|'.join(termlist12_3c))\n",
    "phrasespecific12_3c = r'\\b(?:{})\\b'.format('|'.join(termlist12_3c_trunc))\n",
    "phrasedefault12_3d = r'(?:{})'.format('|'.join(termlist12_3d))"
   ]
  },
  {
   "cell_type": "code",
   "execution_count": null,
   "id": "a3f2a320-b83c-46cd-ab76-d2b73a738d05",
   "metadata": {
    "colab": {
     "base_uri": "https://localhost:8080/"
    },
    "id": "WSUKPLNFq6wH",
    "outputId": "d8b67fb1-f943-4015-fff0-6339360c16db"
   },
   "outputs": [],
   "source": [
    "#Search\n",
    "Data.loc[(\n",
    "    ((Data['result_title'].str.contains(phrasedefault12_3c, na=False, case=False))|(Data['result_title'].str.contains(phrasespecific12_3c, na=False, case=False)))\n",
    "    & (Data['result_title'].str.contains(phrasedefault12_3d, na=False, case=False))\n",
    "    & (Data['result_title'].str.contains(phrasespecific12_3b, na=False, case=False))\n",
    "    ),\"tempsdg12_03\"] = \"SDG12_03\"\n",
    "\n",
    "print(\"Number of results = \", len(Data[(Data.tempsdg12_03 == \"SDG12_03\")])) "
   ]
  },
  {
   "cell_type": "code",
   "execution_count": null,
   "id": "b9d90125-fa63-4154-b278-c7c1e9bcffea",
   "metadata": {
    "colab": {
     "base_uri": "https://localhost:8080/",
     "height": 1000
    },
    "id": "N61k67bjq6wI",
    "outputId": "59e022f7-525e-45df-f118-22cce9421e33"
   },
   "outputs": [],
   "source": [
    "#Results\n",
    "test=Data.loc[(Data.tempsdg12_03 == \"SDG12_03\"), (\"result_id\", \"subcategory\", \"result_title\", \"SDG_action\", \"mentionssdgno\")]\n",
    "test.iloc[0:5, ]"
   ]
  },
  {
   "cell_type": "markdown",
   "id": "90ca6174-a069-495a-be50-48e4dc08a9e2",
   "metadata": {
    "id": "28QC5YCmq6wD"
   },
   "source": [
    "### SDG 12.4\n",
    "\n",
    "*12.4 By 2020, achieve the environmentally sound management of chemicals and all wastes throughout their life cycle, in accordance with agreed international frameworks, and significantly reduce their release to air, water and soil in order to minimize their adverse impacts on human health and the environment*\n",
    "\n",
    "*Innen 2020 oppnå en mer miljøvennlig forvaltning av kjemikalier og alle former for avfall gjennom hele livssyklusen, i samsvar med internasjonalt vedtatte rammeverk, og betydelig redusere utslipp av kjemikalier og avfall til luft, vann og jord for mest mulig å begrense skadevirkningene for folkehelsen og for miljøet*\n"
   ]
  },
  {
   "cell_type": "markdown",
   "id": "a50c3228-12fe-4012-8209-9fed10d0f6b2",
   "metadata": {
    "id": "ZX2d-k91vhK_"
   },
   "source": [
    "#### Phrase 1 (& 5)\n",
    "Note that this will also cover phrase 5 wos string, which uses the terms `\"unsustainab*\" OR \"irresponsib*\" OR \"unecological*\" OR \"unsafe\"` (covered by truncation here)."
   ]
  },
  {
   "cell_type": "code",
   "execution_count": null,
   "id": "0392050f-e48c-4708-acf7-3a6fd5bc7c98",
   "metadata": {
    "id": "Ub1aKSj8q6wF",
    "tags": []
   },
   "outputs": [],
   "source": [
    "#Termlists\n",
    "\n",
    "termlist12_4a_trunc = [\".*sustainab.*\", \".*responsib.*\", \"environmental.*\", \".*ecological.*\", \"eco\", \"eco-.*\", \"green\", \"safe\", \"unsafe\", \"safely\", \"safety\",\n",
    "                       \"bærekraft.*\", \"berekraft.*\", \"ubærekraftig\", \"ansvarlig.*\", \"uansvarlig\", \"grønne.*\", \"grønn\", \"øko\", \"miljø.*\", \"trygg\", \"utrygg\", \"sikker.*\"]\n",
    "\n",
    "termlist12_4b_trunc = [\"life cycle.*\", \"lifecycle.*\", \"end of life\", \"end of chain\",\n",
    "                       \"management\", \"handling\", \"packaging\", \"labelling\", \"storing\", \"storage\", \"stored\",\n",
    "                       \"disposal\", \"dispose\", \"transport.*\", \"process.*\", \"logistics\",\n",
    "                       \"use\", \"uses\", \"usage\", \"using\", \"utilis.*\", \"utiliz.*\", \"production\",\n",
    "                       \n",
    "                       \"livssyklus.*\", \"livløp.*\", \n",
    "                       \"håndter.*\", \"innsaml.*\", \"samling\", \"innpakning\", \"emballasje\", \"emballering\", \"stempel\", \"merking\", \"akkredit.*\", \"sertifi.*\", \"oppbevar.*\", \"lagring\", \n",
    "                       \"avhend.*\", \"tømming\", \"prossess\", \"forsyningskjede\", \"logistikk\",\n",
    "                       \"forbruk\", \"bruk\", \"produksjon\"]\n",
    "\n",
    "termlist12_4b = [\"life cycle analysis\", \"lifecycle analysis\", \"cradle to cradle\", \"cradle-to-cradle\",\n",
    "                 \"livssyklusanalyser\", \"livsløpsanalyser\", \"vugge til vugge\"]\n",
    "\n",
    "termlist12_4c = [\"chemical\", \"polish\", \"cleaning product\", \"engine oil\", \"plastic\", \"nanomaterial\", \n",
    "                 \"pesticid\", \"herbicide\", \"insecticide\", \"fungicide\",\n",
    "                 \"solvent\", \"etching solution\", \"battery\", \"batteries\", \"accumulator\",\n",
    "                 \"medicinal residue\", \"toxic mould\",\n",
    "                 \"Antimony\", \"Arsenic\", \"Beryllium\", \"Cadmium\", \"Mercury\", \"Selenium\", \"Tellurium\", \"Thallium\", \"Zinc\", \"Jarosite\", \"Hematite\", \"Copper\", \"cupric chloride\", \"organohalogen\", \n",
    "                 \"heavy metal\", \"toxic metal\", \"acrylamide\", \"persistent organic pollutant\", \"POP compounds\", \n",
    "                 \"aldrin\", \"chlordane\", \"dieldrin\", \"heptachlor\", \"hexachlorobenzen\", \"mirex\", \"organochloride\",\n",
    "                 \"polychlorinated biphenyls\", \"polychlorinated dibenzo-p-dioxin\", \"polychlorinated dibenzofuran\", \"toxaphen\", \"neonicotinoid\",\n",
    "                 \n",
    "                 \"kjemikalie\", \"rengjøringsprodukt\", \"rengjøringsmid\", \"desinfeksjonsmid\", \"motorolje\", \"mikroplast\", \"plastpartik\", \"plastavfall\",\n",
    "                 \"insektmid\", \"plantevernmid\", \"batteri\", \"giftig\", \"maling\", \n",
    "                 \"arsenikk\", \"kadmium\", \"kvikksølv\", \"kobber\", \"tallium\",  \n",
    "                 \"tungmetall\", \"persistente organiske miljøgift\",\n",
    "                 \"tinnorganiske\", \"organiske tinnforbindelse\",\n",
    "                 \"bioakkumuler\", \"dioksin\", \"neonikotinoid\"]\n",
    "\n",
    "termlist12_4c_trunc = [\"paint\", \"paints\", \"Lead\", \"DDT\", \"PCB\",\n",
    "                       \"bly\", \"plast\", \"endrin\"]\n",
    "\n",
    "termlist12_4d = [\"Dubai Declaration on International Chemicals Management\", \"Strategic Approach to International Chemicals Management\", \"SAICM\" ]\n",
    "\n",
    "termlist12_4not = [\"herbicide tolerant\" ]\n",
    "#This is a specific phrase included for the Norwegian searches - there are a number of reports with risk assessments for \"herbicide tolerant\" GM crops\n",
    "\n",
    "phrasespecific12_4a = r'\\b(?:{})\\b'.format('|'.join(termlist12_4a_trunc))\n",
    "phrasespecific12_4b = r'\\b(?:{})\\b'.format('|'.join(termlist12_4b_trunc))\n",
    "phrasedefault12_4b = r'(?:{})'.format('|'.join(termlist12_4b))\n",
    "phrasedefault12_4c = r'(?:{})'.format('|'.join(termlist12_4c))\n",
    "phrasespecific12_4c = r'\\b(?:{})\\b'.format('|'.join(termlist12_4c_trunc))\n",
    "phrasedefault12_4d = r'(?:{})'.format('|'.join(termlist12_4d))\n",
    "phrasedefault12_4not = r'(?:{})'.format('|'.join(termlist12_4not))"
   ]
  },
  {
   "cell_type": "code",
   "execution_count": null,
   "id": "d5ecda53-5a4c-4c59-8306-9e79aaa147b3",
   "metadata": {
    "colab": {
     "base_uri": "https://localhost:8080/"
    },
    "id": "WSUKPLNFq6wH",
    "outputId": "d8b67fb1-f943-4015-fff0-6339360c16db"
   },
   "outputs": [],
   "source": [
    "#Search\n",
    "Data.loc[(\n",
    "    (\n",
    "        (Data['result_title'].str.contains(phrasedefault12_4d, na=False, case=False))\n",
    "        |\n",
    "        (\n",
    "            (\n",
    "                ((Data['result_title'].str.contains(phrasespecific12_4a, na=False, case=False)) & (Data['result_title'].str.contains(phrasespecific12_4b, na=False, case=False)))\n",
    "                | (Data['result_title'].str.contains(phrasedefault12_4b, na=False, case=False))\n",
    "            )\n",
    "            & ((Data['result_title'].str.contains(phrasedefault12_4c, na=False, case=False))|(Data['result_title'].str.contains(phrasespecific12_4c, na=False, case=False)))\n",
    "        )\n",
    "    ) & (~Data['result_title'].str.contains(phrasedefault12_4not, na=False, case=False))\n",
    "),\"tempsdg12_04\"] = \"SDG12_04\"\n",
    "\n",
    "print(\"Number of results = \", len(Data[(Data.tempsdg12_04 == \"SDG12_04\")])) "
   ]
  },
  {
   "cell_type": "code",
   "execution_count": null,
   "id": "e46f4238-a7bf-4333-931a-e39570c51936",
   "metadata": {
    "colab": {
     "base_uri": "https://localhost:8080/",
     "height": 1000
    },
    "id": "N61k67bjq6wI",
    "outputId": "59e022f7-525e-45df-f118-22cce9421e33"
   },
   "outputs": [],
   "source": [
    "#Results\n",
    "test=Data.loc[(Data.tempsdg12_04 == \"SDG12_04\"), (\"result_id\", \"subcategory\", \"result_title\", \"SDG_action\", \"mentionssdgno\")]\n",
    "test.iloc[0:5, ]"
   ]
  },
  {
   "cell_type": "markdown",
   "id": "523d75de-3e96-47d3-81f8-41370e17ecac",
   "metadata": {
    "id": "ZX2d-k91vhK_"
   },
   "source": [
    "#### Phrase 2 (& 5)\n",
    "Note that this will also cover phrase 5 wos string, which uses the terms `\"unsustainab*\" OR \"irresponsib*\" OR \"unecological*\" OR \"unsafe\"` (covered by truncation here)."
   ]
  },
  {
   "cell_type": "code",
   "execution_count": null,
   "id": "35cbf6d6-06be-435d-9e6a-73368687af2b",
   "metadata": {
    "id": "Ub1aKSj8q6wF",
    "tags": []
   },
   "outputs": [],
   "source": [
    "#Termlists\n",
    "# Reuse 4a from above (sustainable OR responsible etc.)\n",
    "\n",
    "termlist12_4e_trunc = [\"life cycle.*\", \"lifecycle.*\",\n",
    "                       \"management\", \"handling\", \"packaging\", \"labelling\", \"storing\", \"storage\", \"stored\",\n",
    "                       \"disposal\", \"dispose\", \"transport.*\", \"process.*\", \"logistics\",\n",
    "                       \"incinerat.*\", \"combust.*\", \"collect.*\", \"treatment\", \"processing\", \"processed\", \"sorting\", \"sorted\",\n",
    "                       \n",
    "                       \"livssyklus.*\", \"livløp.*\", \n",
    "                       \"håndter.*\", \"innpakning\", \"emballasje\", \"emballering\", \"stempel\", \"merking\", \"akkredit.*\", \"sertifi.*\", \"oppbevar.*\", \"lagring\", \n",
    "                       \"avhend.*\", \"tømming\", \"prossess\", \"forsyningskjede\", \"logistikk\",\n",
    "                       \"innsaml.*\", \"samling\", \"behand.*\", \"prossess.*\", \"sorter.*\", \"forbrenning\"]\n",
    "                      \n",
    "termlist12_4f = [\"waste\", \"garbage\", \"trash\", \"litter \", \"rubbish\", \"sewage\", \"sludge\", \"street sweepings\", \"construction debris\", \"demolition debris\",\n",
    "                 \"avfall\", \"søppel\", \"kloakk\", \" slam\", \"byggrester\"]\n",
    "# The space after \"litter \" is intentional to stop \"litteratur\" (NO)\n",
    "\n",
    "termlist12_4g = [\"recycl\", \"reuse\", \"re-use\", \"reusing\", \"re-using\",\n",
    "                \"refurbish\", \"re-furbish\", \"remanufactur\", \"re-manufactur\", \"repurpos\", \"re-purpos\",\n",
    "                \"compost\", \"codigest\", \"co-digest\",\n",
    "                \"footprint\", \"cradle to cradle\", \"cradle-to-cradle\", \"end of life\", \"end of chain\", \"life cycle analysis\", \"lifecycle analysis\", \n",
    "                 \n",
    "                 \"resirkul\", \"gjenbruk\", \"ombruk\", \n",
    "                 \"kompost\",\n",
    "                 \"forspør\", \"vugge til vugge\", \"livssyklusanalyser\", \"livsløpsanalyser\"]\n",
    "\n",
    "termlist12_4h = [\"Basel Convention\", \"Rotterdam Convention\", \"Stockholm Convention\", \"Montreal Protocol\", \"Minamata Convention\", \"Bamako Convention\",\n",
    "                 \"Baselkonvensjonen\", \"Rotterdamkonvensjonen\", \"Stockholmkonvensjonen\", \"Minamatakonvensjonen\", \"Bamakokonvensjonen\",\n",
    "                 \"Basel-konvensjonen\", \"Rotterdam-konvensjonen\", \"Stockholm-konvensjonen\", \"Minamata-konvensjonen\", \"Bamako-konvensjonen\"]\n",
    "\n",
    "phrasespecific12_4e = r'\\b(?:{})\\b'.format('|'.join(termlist12_4e_trunc))\n",
    "phrasedefault12_4f = r'(?:{})'.format('|'.join(termlist12_4f))\n",
    "phrasedefault12_4g = r'(?:{})'.format('|'.join(termlist12_4g))\n",
    "phrasedefault12_4h = r'(?:{})'.format('|'.join(termlist12_4h))"
   ]
  },
  {
   "cell_type": "code",
   "execution_count": null,
   "id": "b6b5165a-bce7-469a-b2e3-127b6a962702",
   "metadata": {
    "colab": {
     "base_uri": "https://localhost:8080/"
    },
    "id": "WSUKPLNFq6wH",
    "outputId": "d8b67fb1-f943-4015-fff0-6339360c16db"
   },
   "outputs": [],
   "source": [
    "#Search\n",
    "Data.loc[(\n",
    "    ((Data['result_title'].str.contains(phrasedefault12_4f, na=False, case=False))\n",
    "    &\n",
    "        (\n",
    "            (Data['result_title'].str.contains(phrasedefault12_4g, na=False, case=False))\n",
    "            |((Data['result_title'].str.contains(phrasespecific12_4a, na=False, case=False)) & (Data['result_title'].str.contains(phrasespecific12_4e, na=False, case=False)))\n",
    "        )\n",
    "    )\n",
    "    |(Data['result_title'].str.contains(phrasedefault12_4h, na=False, case=False))\n",
    "    ),\"tempsdg12_04\"] = \"SDG12_04\"\n",
    "\n",
    "print(\"Number of results = \", len(Data[(Data.tempsdg12_04 == \"SDG12_04\")])) "
   ]
  },
  {
   "cell_type": "code",
   "execution_count": null,
   "id": "3d51e404-da37-45b2-8d48-9a35bdd6b381",
   "metadata": {
    "colab": {
     "base_uri": "https://localhost:8080/",
     "height": 1000
    },
    "id": "N61k67bjq6wI",
    "outputId": "59e022f7-525e-45df-f118-22cce9421e33"
   },
   "outputs": [],
   "source": [
    "#Results\n",
    "test=Data.loc[(Data.tempsdg12_04 == \"SDG12_04\"), (\"result_id\", \"subcategory\", \"result_title\", \"SDG_action\", \"mentionssdgno\")]\n",
    "test.iloc[0:5, ]"
   ]
  },
  {
   "cell_type": "markdown",
   "id": "a6913e96-387e-4958-b429-e7eab79e40d4",
   "metadata": {
    "id": "ZX2d-k91vhK_",
    "tags": []
   },
   "source": [
    "#### Phrase 3"
   ]
  },
  {
   "cell_type": "code",
   "execution_count": null,
   "id": "2f737029-0367-4edd-865b-46e2e3b4e241",
   "metadata": {
    "id": "Ub1aKSj8q6wF"
   },
   "outputs": [],
   "source": [
    "#Termlists\n",
    "# Reuse phrasedefault12_4f, phrasedefault12_4c and phrasespecific12_4c from phrases 1 and 2 (wastes and chemicals)\n",
    "\n",
    "termlist12_4i = [\"reduc\", \"minim\", \"decreas\", \"stopping\", \"avoid\", \"prevent\", \"combat\", \"tackl\", \"resist\", \"lowering\", \"lowered\", \"prohibit\", \"cleanup\", \"clean up\",\n",
    "                 \"reduse\", \"unngå\", \"hinder\", \"hindre\", \"kjempe\", \"lavere\", \"forby\", \"rengjør\", \"rydde opp\"]\n",
    "\n",
    "termlist12_4i_trunc = [\"stop\", \"end\", \"ends\", \"ending\", \"ended\", \"halt\", \"halting\", \"lower\",\n",
    "                       \"stoppe\", \"avta\", \"avtar\"]\n",
    "                      \n",
    "termlist12_4j = [\"releas\", \"emission\", \"effluent\", \"discharge\", \"pollut\", \"contaminat\",\n",
    "                 \"utslipp\", \"forurens\", \"forurein\", \"kontamin\"]\n",
    "\n",
    "phrasedefault12_4i = r'(?:{})'.format('|'.join(termlist12_4i))\n",
    "phrasespecific12_4i = r'\\b(?:{})\\b'.format('|'.join(termlist12_4i_trunc))\n",
    "phrasedefault12_4j = r'(?:{})'.format('|'.join(termlist12_4j))"
   ]
  },
  {
   "cell_type": "code",
   "execution_count": null,
   "id": "b09276a1-f54d-4f20-9859-f7d07476e330",
   "metadata": {
    "colab": {
     "base_uri": "https://localhost:8080/"
    },
    "id": "WSUKPLNFq6wH",
    "outputId": "d8b67fb1-f943-4015-fff0-6339360c16db"
   },
   "outputs": [],
   "source": [
    "#Search\n",
    "Data.loc[(\n",
    "    ((Data['result_title'].str.contains(phrasedefault12_4i, na=False, case=False)) | (Data['result_title'].str.contains(phrasespecific12_4i, na=False, case=False)))\n",
    "    & (Data['result_title'].str.contains(phrasedefault12_4j, na=False, case=False))\n",
    "    & \n",
    "    (\n",
    "        (Data['result_title'].str.contains(phrasedefault12_4c, na=False, case=False)) \n",
    "        | (Data['result_title'].str.contains(phrasespecific12_4c, na=False, case=False))\n",
    "        | (Data['result_title'].str.contains(phrasedefault12_4f, na=False, case=False))\n",
    "    )\n",
    "    ),\"tempsdg12_04\"] = \"SDG12_04\"\n",
    "\n",
    "print(\"Number of results = \", len(Data[(Data.tempsdg12_04 == \"SDG12_04\")])) "
   ]
  },
  {
   "cell_type": "code",
   "execution_count": null,
   "id": "31434605-918f-44e6-a1bb-9733ed37b1d6",
   "metadata": {
    "colab": {
     "base_uri": "https://localhost:8080/",
     "height": 1000
    },
    "id": "N61k67bjq6wI",
    "outputId": "59e022f7-525e-45df-f118-22cce9421e33"
   },
   "outputs": [],
   "source": [
    "#Results\n",
    "test=Data.loc[(Data.tempsdg12_04 == \"SDG12_04\"), (\"result_id\", \"subcategory\", \"result_title\", \"SDG_action\", \"mentionssdgno\")]\n",
    "test.iloc[0:5, ]"
   ]
  },
  {
   "cell_type": "markdown",
   "id": "e07f7eaa-d05d-4e23-9de3-d4fefc127374",
   "metadata": {
    "id": "ZX2d-k91vhK_",
    "tags": []
   },
   "source": [
    "#### Phrase 4"
   ]
  },
  {
   "cell_type": "code",
   "execution_count": null,
   "id": "d9c66d0c-ef3d-457f-a724-4bd673d9cbfd",
   "metadata": {
    "id": "Ub1aKSj8q6wF",
    "tags": []
   },
   "outputs": [],
   "source": [
    "#Termlists\n",
    "# Reuse phrasedefault12_4f, phrasedefault12_4c and phrasespecific12_4c from phrases 1 and 2 (wastes and chemicals)\n",
    "\n",
    "termlist12_4k = [\"reduc\", \"minim\", \"decreas\", \"avoid\", \"prevent\", \"combat\", \"tackl\", \"resist\", \"lowering\", \"lowered\", \"control\", \"assess\", \"evaluat\", \"monitor\",\n",
    "                 \"reduse\", \"unngå\", \"hinder\", \"hindre\", \"kjempe\", \"lavere\", \"forby\",\"kontroll\", \"vurder\", \"evaluering\", \"overvåk\"]\n",
    "\n",
    "termlist12_4k_trunc = [\"stop\", \"stopping\", \"lower\", \n",
    "                       \"stoppe\"]\n",
    "                      \n",
    "termlist12_4l = [\"health\", \"wellbeing\", \"well-being\", \"risk\", \"hazard\", \"danger\", \"effect\",\n",
    "                 \"helse\", \"risiko\", \"farlig\", \"miljøfare\", \"effekt\", \"påvirk\"]\n",
    "\n",
    "phrasedefault12_4k = r'(?:{})'.format('|'.join(termlist12_4k))\n",
    "phrasespecific12_4k = r'\\b(?:{})\\b'.format('|'.join(termlist12_4k_trunc))\n",
    "phrasedefault12_4l = r'(?:{})'.format('|'.join(termlist12_4l))"
   ]
  },
  {
   "cell_type": "code",
   "execution_count": null,
   "id": "9d7ddc9a-5787-4040-97b4-3b4cc43ce0fe",
   "metadata": {
    "colab": {
     "base_uri": "https://localhost:8080/"
    },
    "id": "WSUKPLNFq6wH",
    "outputId": "d8b67fb1-f943-4015-fff0-6339360c16db"
   },
   "outputs": [],
   "source": [
    "#Search\n",
    "Data.loc[(\n",
    "    ((Data['result_title'].str.contains(phrasedefault12_4k, na=False, case=False)) | (Data['result_title'].str.contains(phrasespecific12_4k, na=False, case=False)))\n",
    "    & (Data['result_title'].str.contains(phrasedefault12_4l, na=False, case=False))\n",
    "    & \n",
    "    (\n",
    "        (Data['result_title'].str.contains(phrasedefault12_4c, na=False, case=False)) \n",
    "        | (Data['result_title'].str.contains(phrasespecific12_4c, na=False, case=False))\n",
    "        | (Data['result_title'].str.contains(phrasedefault12_4f, na=False, case=False))\n",
    "    )\n",
    "    ),\"tempsdg12_04\"] = \"SDG12_04\"\n",
    "\n",
    "print(\"Number of results = \", len(Data[(Data.tempsdg12_04 == \"SDG12_04\")])) "
   ]
  },
  {
   "cell_type": "code",
   "execution_count": null,
   "id": "a938c977-dc61-4544-b72c-58bb66fc727c",
   "metadata": {
    "colab": {
     "base_uri": "https://localhost:8080/",
     "height": 1000
    },
    "id": "N61k67bjq6wI",
    "outputId": "59e022f7-525e-45df-f118-22cce9421e33"
   },
   "outputs": [],
   "source": [
    "#Results\n",
    "test=Data.loc[(Data.tempsdg12_04 == \"SDG12_04\"), (\"result_id\", \"subcategory\", \"result_title\", \"SDG_action\", \"mentionssdgno\")]\n",
    "test.iloc[0:5, ]"
   ]
  },
  {
   "cell_type": "markdown",
   "id": "1564c045-2d92-494e-80bf-3655f680faa7",
   "metadata": {
    "id": "28QC5YCmq6wD"
   },
   "source": [
    "### SDG 12.5\n",
    "\n",
    "*12.5 By 2030, substantially reduce waste generation through prevention, reduction, recycling and reuse*\n",
    "\n",
    "*Innen 2030 redusere avfallsmengden betydelig gjennom forebygging, reduksjon, materialgjenvinning og ombruk*\n"
   ]
  },
  {
   "cell_type": "markdown",
   "id": "68c03883-b885-40c5-acbe-69538d92d52a",
   "metadata": {
    "id": "ZX2d-k91vhK_",
    "tags": []
   },
   "source": [
    "#### Phrase 1"
   ]
  },
  {
   "cell_type": "code",
   "execution_count": null,
   "id": "f11b219b-b207-4e65-8c59-5276e3a4eb8a",
   "metadata": {
    "id": "Ub1aKSj8q6wF",
    "tags": []
   },
   "outputs": [],
   "source": [
    "#Termlists\n",
    "\n",
    "termlist12_5a = [\"waste\", \"sludge\", \"garbage\", \"trash\", \"litter \"]\n",
    "# Waste terms with multiple meanings. The space after \"litter \" is intentional to stop \"litteratur\" (NO)\n",
    "\n",
    "termlist12_5b = [\"agrowaste\", \"solid waste\", \"bio-waste\", \"biowaste\",\n",
    "                 \"ewaste\", \"e-waste\", \"electronic waste\",\n",
    "                 \"rubbish\", \"sewage\",  \"street sweepings\", \"construction debris\",  \n",
    "                 \n",
    "                 \"avfall\", \"søppel\", \"kloakk\", \" slam\", \"byggrester\"]\n",
    "#Waste terms which are generally to do with physical/chemical waste. Most Norwegian terms are covered by \"avfall\" (e.g. spesialavfall, landbruksavfall) and don't needs specifying.\n",
    "\n",
    "termlist12_5c = [\"household\", \"domestic\", \"residential\", \n",
    "                 \"commerce\", \"commercial\", \"trade\", \"business\", \"office\", \n",
    "                 \"institution\", \"schools\", \"hospital\", \"municipal\", \"urban\", \"cities\",\n",
    "                 \"industr\", \"manufacturing\", \"hotel\", \"restaurant\",\n",
    "                 \n",
    "                 \"hushold\", \"domestik\", \"privat\",\n",
    "                 \"kommersiel\", \"bedrift\", \"kontor\", \"byggeplass\"\n",
    "                 \"institusjon\", \"skole\", \"sykehus\", \"sjukehus\", \"kommunal\", \"byer\"]\n",
    "\n",
    "termlist12_5d = [\"generation\", \"generated\",                \n",
    "                 \"generer\"]   \n",
    "\n",
    "termlist12_5e_trunc = [\"reduc.*\" , \"minimi.*\" , \"decreas.*\" , \"stop\" , \"end\" , \"ends\" , \"ended\" , \"ending\" , \"eliminat.*\",\n",
    "                       \"avoid.*\" , \"prevent.*\" , \"combat.*\" , \"tackl.*\" , \"halt.*\" , \"resist\" , \"resisting\" , \"lowering\" , \"lower\" , \"lowered\"]\n",
    "\n",
    "phrasedefault12_5a = r'(?:{})'.format('|'.join(termlist12_5a))\n",
    "phrasedefault12_5b = r'(?:{})'.format('|'.join(termlist12_5b))\n",
    "phrasedefault12_5c = r'(?:{})'.format('|'.join(termlist12_5c))\n",
    "phrasedefault12_5d = r'(?:{})'.format('|'.join(termlist12_5d))\n",
    "phrasespecific12_5e = r'\\b(?:{})\\b'.format('|'.join(termlist12_5e_trunc))"
   ]
  },
  {
   "cell_type": "code",
   "execution_count": null,
   "id": "5727e747-ddf4-4f91-b59a-4aa0aa9a0468",
   "metadata": {
    "colab": {
     "base_uri": "https://localhost:8080/"
    },
    "id": "WSUKPLNFq6wH",
    "outputId": "d8b67fb1-f943-4015-fff0-6339360c16db"
   },
   "outputs": [],
   "source": [
    "#Search\n",
    "Data.loc[(\n",
    "    (\n",
    "        ((Data['result_title'].str.contains(phrasedefault12_5a, na=False, case=False))|(Data['result_title'].str.contains(phrasedefault12_5b, na=False, case=False)))\n",
    "        & (Data['result_title'].str.contains(phrasedefault12_5d, na=False, case=False))\n",
    "    )\n",
    "    |\n",
    "    (\n",
    "        (Data['result_title'].str.contains(phrasespecific12_5e, na=False, case=False))\n",
    "        & \n",
    "            (\n",
    "                (Data['result_title'].str.contains(phrasedefault12_5b, na=False, case=False))\n",
    "                |((Data['result_title'].str.contains(phrasedefault12_5a, na=False, case=False))&(Data['result_title'].str.contains(phrasedefault12_5c, na=False, case=False)))\n",
    "            )\n",
    "    )\n",
    "),\"tempsdg12_05\"] = \"SDG12_05\"\n",
    "\n",
    "print(\"Number of results = \", len(Data[(Data.tempsdg12_05 == \"SDG12_05\")])) "
   ]
  },
  {
   "cell_type": "code",
   "execution_count": null,
   "id": "fc55a41c-0ea4-43ea-aae4-1d20d3d3df6e",
   "metadata": {
    "colab": {
     "base_uri": "https://localhost:8080/",
     "height": 1000
    },
    "id": "N61k67bjq6wI",
    "outputId": "59e022f7-525e-45df-f118-22cce9421e33"
   },
   "outputs": [],
   "source": [
    "#Results\n",
    "test=Data.loc[(Data.tempsdg12_05 == \"SDG12_05\"), (\"result_id\", \"subcategory\", \"result_title\", \"SDG_action\", \"mentionssdgno\")]\n",
    "test.iloc[0:5, ]"
   ]
  },
  {
   "cell_type": "markdown",
   "id": "a1028555-5bfe-48d5-8338-b72cb841bf8b",
   "metadata": {
    "id": "ZX2d-k91vhK_",
    "tags": []
   },
   "source": [
    "#### Phrase 2"
   ]
  },
  {
   "cell_type": "code",
   "execution_count": null,
   "id": "8d02fd90-73a2-4f35-b75e-b66b3fb6cb52",
   "metadata": {
    "id": "Ub1aKSj8q6wF",
    "tags": []
   },
   "outputs": [],
   "source": [
    "#Termlists\n",
    "\n",
    "termlist12_5f = [\"recycl\", \"reuse\", \"re-use\", \"reusing\", \"re-using\",\n",
    "                \"refurbish\", \"re-furbish\", \"remanufactur\", \"re-manufactur\", \"repurpos\", \"re-purpos\",\n",
    "                \"compost\", \"codigest\", \"co-digest\",\n",
    "                \"resource efficien\", \"resource-use efficien\", \"material efficicen\", \"material-use efficien\",\n",
    "                \"life cycle\", \"lifecycle\", \"footprint\", \"cradle to cradle\", \"cradle-to-cradle\",\n",
    "                \"cleaner production\",\n",
    "                 \n",
    "                \"resirkul\", \"gjenbruk\", \"ombruk\",\n",
    "                \"kompost\",\n",
    "                \"ressurseffektiv\", \"materialeffektiv\", \"effektiv bruk av material\", \"effektiv bruk av ressurs\",\n",
    "                \"livssyklusanalyse\", \"livsløpsvurdering\", \"fotspor\", \"vugge til vugge\"]\n",
    "\n",
    "termlist12_5g = [\"sidestream\", \"side-stream\", \"byproduct\", \"by-product\",\n",
    "                \"waste\", \"garbage\", \"trash\", \"litter\", \"rubbish\", \"sewage\", \"sludge\", \"street sweepings\", \"construction debris\",  \n",
    "                 \n",
    "                \"sidestrøm\", \"biprodukt\",\n",
    "                \"avfall\", \"søppel\", \"kloakk\", \" slam\", \"byggrester\"]\n",
    "\n",
    "termlist12_5h = [\"recycl\", \"reuse\", \"re-use\", \"reusing\", \"re-using\",\n",
    "                \"refurbish\", \"re-furbish\", \"remanufactur\", \"re-manufactur\", \"repurpos\", \"re-purpos\",\n",
    "                \"compost\", \"codigest\", \"co-digest\",\n",
    "                \"cradle to cradle\", \"cradle-to-cradle\",\n",
    "                 \n",
    "                \"resirkul\", \"gjenbruk\", \"ombruk\",\n",
    "                \"kompost\",\n",
    "                \"vugge til vugge\"]\n",
    "\n",
    "termlist12_5i = [\"bioeconom\", \"bio-econom\", \n",
    "                 \"produc\", \"consum\", \"packaging\", \n",
    "                 \"resource\", \"material\", \"matter\", \"biomass\",\n",
    "                 \n",
    "                 \"bioøkonomi\", \"produksj\", \"forbruk\",\n",
    "                 \"innpakning\", \"emballasje\", \"emballering\", \n",
    "                 \"ressurs\"]\n",
    "\n",
    "termlist12_5j = [\"circular econom\", \"circular bioeconom\", \"circular product\", \"circular consumption\", \"zero waste\",\n",
    "                 \"sirkulær økonomi\", \"sirkulær bioøkonomi\", \"sirkulær produk\", \"sirkulær forbruk\", \"null avfall\", \"null svinn\"]\n",
    "\n",
    "termlist12_scp4_trunc = [\"utili.*\", \"use\", \"usage\", \"design.*\",\n",
    "                         \"bruk.*\", \"forbruk\"]\n",
    "termlist12_scp5 = [\"sidestream\", \"side-stream\", \"byproduct\", \"by-product\",\n",
    "                   \"sidestrøm\", \"biprodukt\"]\n",
    "\n",
    "termlist12_scp2_trunc = [\"green\", \"eco\", \"sustainab.*\", \"responsib.*\", \"environmental.*\", \"ecological.*\",\n",
    "                         \"grønne.*\", \"grønn\", \"øko\", \"bærekraft.*\", \"berekraft.*\", \"ansvarlig.*\", \"miljø.*\"]\n",
    "\n",
    "termlist12_5k = [\"footprint\", \"lifecycle analys\", \"lifecycle assess\", \"material lifecycle\", \"cradle to cradle\", \"cradle-to-cradle\",\n",
    "                 \"livssyklusanalyse\", \"livsløpsvurdering\", \"fotspor\", \"vugge til vugge\"]\n",
    "\n",
    "termlist12_5l = [\"recycl\", \"reuse\",                 \n",
    "                \"resirkul\", \"gjenbruk\"]\n",
    "                                        \n",
    "phrasedefault12_5f = r'(?:{})'.format('|'.join(termlist12_5f))\n",
    "phrasedefault12_5g = r'(?:{})'.format('|'.join(termlist12_5g))\n",
    "phrasedefault12_5h = r'(?:{})'.format('|'.join(termlist12_5h))\n",
    "phrasedefault12_5i = r'(?:{})'.format('|'.join(termlist12_5i))\n",
    "phrasedefault12_5j = r'(?:{})'.format('|'.join(termlist12_5j))\n",
    "phrasespecific12_scp4 = r'\\b(?:{})\\b'.format('|'.join(termlist12_scp4_trunc))\n",
    "phrasedefault12_scp5 = r'(?:{})'.format('|'.join(termlist12_scp5))\n",
    "phrasespecific12_scp2 = r'\\b(?:{})\\b'.format('|'.join(termlist12_scp2_trunc))\n",
    "phrasedefault12_5k = r'(?:{})'.format('|'.join(termlist12_5k))\n",
    "phrasedefault12_5l = r'(?:{})'.format('|'.join(termlist12_5l))"
   ]
  },
  {
   "cell_type": "code",
   "execution_count": null,
   "id": "65024f8e-2992-48fd-ae0d-1c0abf7072a2",
   "metadata": {
    "colab": {
     "base_uri": "https://localhost:8080/"
    },
    "id": "WSUKPLNFq6wH",
    "outputId": "d8b67fb1-f943-4015-fff0-6339360c16db"
   },
   "outputs": [],
   "source": [
    "#Search\n",
    "Data.loc[(\n",
    "    ((Data['result_title'].str.contains(phrasedefault12_5f, na=False, case=False)) & (Data['result_title'].str.contains(phrasedefault12_5g, na=False, case=False)))\n",
    "    | ((Data['result_title'].str.contains(phrasedefault12_5h, na=False, case=False)) &  (Data['result_title'].str.contains(phrasedefault12_5i, na=False, case=False)))\n",
    "    | (Data['result_title'].str.contains(phrasedefault12_5j, na=False, case=False))\n",
    "    | ((Data['result_title'].str.contains(phrasespecific12_scp4, na=False, case=False)) & (Data['result_title'].str.contains(phrasedefault12_scp5, na=False, case=False)))\n",
    "    | \n",
    "    (\n",
    "        (Data['result_title'].str.contains(phrasespecific12_scp2, na=False, case=False)) \n",
    "        & \n",
    "            (\n",
    "                (Data['result_title'].str.contains(phrasedefault12_5k, na=False, case=False))\n",
    "                |(Data['result_title'].str.contains(phrasedefault12_5l, na=False, case=False))\n",
    "            )\n",
    "    )\n",
    "    ),\"tempsdg12_05\"] = \"SDG12_05\"\n",
    "\n",
    "print(\"Number of results = \", len(Data[(Data.tempsdg12_05 == \"SDG12_05\")])) "
   ]
  },
  {
   "cell_type": "code",
   "execution_count": null,
   "id": "beb3eecc-cebd-4f62-9959-c84c769f0184",
   "metadata": {
    "colab": {
     "base_uri": "https://localhost:8080/",
     "height": 1000
    },
    "id": "N61k67bjq6wI",
    "outputId": "59e022f7-525e-45df-f118-22cce9421e33"
   },
   "outputs": [],
   "source": [
    "#Results\n",
    "test=Data.loc[(Data.tempsdg12_05 == \"SDG12_05\"), (\"result_id\", \"subcategory\", \"result_title\", \"SDG_action\", \"mentionssdgno\")]\n",
    "test.iloc[0:5, ]"
   ]
  },
  {
   "cell_type": "markdown",
   "id": "66b72891-d3ae-4bb4-9827-f35168bee191",
   "metadata": {
    "id": "28QC5YCmq6wD"
   },
   "source": [
    "### SDG 12.6\n",
    "\n",
    "*12.6 Encourage companies, especially large and transnational companies, to adopt sustainable practices and to integrate sustainability information into their reporting cycle*\n",
    "\n",
    "*Stimulere selskaper, særlig store og flernasjonale selskaper, til å ta i bruk bærekraftige metoder og integrere informasjon om egen  bærekraft i sine rapporteringsrutiner*\n"
   ]
  },
  {
   "cell_type": "markdown",
   "id": "3cdee865-2084-4944-9a5a-7b4588db0815",
   "metadata": {
    "id": "ZX2d-k91vhK_",
    "tags": []
   },
   "source": [
    "#### Phrase 1"
   ]
  },
  {
   "cell_type": "code",
   "execution_count": null,
   "id": "c314cc92-19e9-4304-8e44-c1b612941419",
   "metadata": {
    "id": "Ub1aKSj8q6wF"
   },
   "outputs": [],
   "source": [
    "#Termlists\n",
    "\n",
    "#Here we use the whole scp phrase, and supplement with 6a + scp2\n",
    "\n",
    "termlist12_scp2_trunc = [\"green\", \"eco\", \"sustainab.*\", \"responsib.*\", \"environmental.*\", \"ecological.*\",\n",
    "                         \"grønne.*\", \"grønn\", \"øko\", \"bærekraft.*\", \"berekraft.*\", \"ansvarlig.*\", \"miljø.*\"]\n",
    "\n",
    "termlist12_6a = [\"practic\", \"procedure\", \"custom\", \"culture\", \"praxis\", \"method\", \"policy\", \"policies\", \"standard\", \"code of conduct\",\n",
    "                 \"praksis\", \"kultur\", \"metoder\", \"politikk\", \"retningslinje\"]\n",
    "\n",
    "termlist12_6c = [\"company\", \"companies\", \"organisation\", \"organization\", \"corporation\", \"conglomerate\", \"business\", \"corporate\",\n",
    "                 \"producer\", \"industry\", \"industries\", \"industrial sector\", \"manufacturer\", \"manufacturing sector\", \"commercial sector\",\n",
    "                 \"institution\",\n",
    "                 \n",
    "                 \"bedrift\", \"kontor\", \"organisasjon\", \"selskap\", \"konglomerat\",\n",
    "                 \"industrier\", \"industrien\", \"industri \", \"industrisektor\", \"produsent\", \"produksjonssektor\", \"kommersiell sektor\", \"kommersielle sektor\", \n",
    "                 \"institusjon\"] \n",
    "termlist12_6c_trunc = [\"firms\", \"firm\"] \n",
    "# \"Industri\" (NO) has a space after to prevent \"industriasliert\" but allow e.g. \"kjemikalieindustri\"\n",
    "\n",
    "phrasespecific12_scp2 = r'\\b(?:{})\\b'.format('|'.join(termlist12_scp2_trunc))\n",
    "phrasedefault12_6a = r'(?:{})'.format('|'.join(termlist12_6a))\n",
    "phrasedefault12_6c = r'(?:{})'.format('|'.join(termlist12_6c))\n",
    "phrasespecific12_6c = r'\\b(?:{})\\b'.format('|'.join(termlist12_6c_trunc))"
   ]
  },
  {
   "cell_type": "code",
   "execution_count": null,
   "id": "e30c1544-bba1-4207-a637-719fe665b3eb",
   "metadata": {
    "colab": {
     "base_uri": "https://localhost:8080/"
    },
    "id": "WSUKPLNFq6wH",
    "outputId": "d8b67fb1-f943-4015-fff0-6339360c16db"
   },
   "outputs": [],
   "source": [
    "#Search\n",
    "Data.loc[(\n",
    "    (\n",
    "        (Data['scp']==True)\n",
    "        |((Data['result_title'].str.contains(phrasespecific12_scp2, na=False, case=False)) & (Data['result_title'].str.contains(phrasedefault12_6a, na=False, case=False)))\n",
    "    )\n",
    "    & ((Data['result_title'].str.contains(phrasedefault12_6c, na=False, case=False)) | (Data['result_title'].str.contains(phrasespecific12_6c, na=False, case=False)))\n",
    "    ),\"tempsdg12_06\"] = \"SDG12_06\"\n",
    "\n",
    "print(\"Number of results = \", len(Data[(Data.tempsdg12_06 == \"SDG12_06\")])) "
   ]
  },
  {
   "cell_type": "code",
   "execution_count": null,
   "id": "c9cf6994-ad6c-4440-83b2-96ba7cf3102d",
   "metadata": {
    "colab": {
     "base_uri": "https://localhost:8080/",
     "height": 1000
    },
    "id": "N61k67bjq6wI",
    "outputId": "59e022f7-525e-45df-f118-22cce9421e33"
   },
   "outputs": [],
   "source": [
    "#Results\n",
    "test=Data.loc[(Data.tempsdg12_06 == \"SDG12_06\"), (\"result_id\", \"subcategory\", \"result_title\", \"SDG_action\", \"mentionssdgno\")]\n",
    "test.iloc[0:5, ]"
   ]
  },
  {
   "cell_type": "markdown",
   "id": "fd4a8c83-fdec-4cc0-8366-9ccb96f251e5",
   "metadata": {
    "id": "ZX2d-k91vhK_",
    "tags": []
   },
   "source": [
    "#### Phrase 2"
   ]
  },
  {
   "cell_type": "code",
   "execution_count": null,
   "id": "9ae76930-66c1-421f-958c-bb1dd3f73412",
   "metadata": {
    "id": "Ub1aKSj8q6wF"
   },
   "outputs": [],
   "source": [
    "#Termlists\n",
    "# Reuse lists phrasespecific12_6c and phrasedefault12_6c from phrase 1 for companies terms\n",
    "\n",
    "termlist12_6d = [\"sustainab\", \"responsib\", \"environmental\",\n",
    "                \"bærekraft\", \"berekraft\", \"ansvarlig\", \"miljøvurder\", \"miljøprestasjon\", \"miljøstyring\", \"miljøsertifiser\", \"miljøinformasjon\"]\n",
    "#\"environmental\" works ok alone in English, but in Norwegian (miljø) creates some noise. \n",
    "\n",
    "termlist12_6e = [\"report\", \"accounting\", \"publish\", \"disclos\",\n",
    "                 \"rapport\", \"regnskap\", \"publiser\", \"avslør\", \"offentliggjør\", \"offentleggj\"]\n",
    "\n",
    "termlist12_6f = [\"environmental information disclos\"]\n",
    "\n",
    "phrasedefault12_6d = r'(?:{})'.format('|'.join(termlist12_6d))\n",
    "phrasedefault12_6e = r'(?:{})'.format('|'.join(termlist12_6e))\n",
    "phrasedefault12_6f = r'(?:{})'.format('|'.join(termlist12_6f))"
   ]
  },
  {
   "cell_type": "code",
   "execution_count": null,
   "id": "ce3017c5-06af-4b59-a116-9eb6b26f8fbc",
   "metadata": {
    "colab": {
     "base_uri": "https://localhost:8080/"
    },
    "id": "WSUKPLNFq6wH",
    "outputId": "d8b67fb1-f943-4015-fff0-6339360c16db"
   },
   "outputs": [],
   "source": [
    "#Search\n",
    "Data.loc[(\n",
    "    (\n",
    "        ((Data['result_title'].str.contains(phrasedefault12_6d, na=False, case=False)) & (Data['result_title'].str.contains(phrasedefault12_6e, na=False, case=False)))\n",
    "        |(Data['result_title'].str.contains(phrasedefault12_6f, na=False, case=False))\n",
    "    )\n",
    "    & ((Data['result_title'].str.contains(phrasedefault12_6c, na=False, case=False)) | (Data['result_title'].str.contains(phrasespecific12_6c, na=False, case=False)))\n",
    "    ),\"tempsdg12_06\"] = \"SDG12_06\"\n",
    "\n",
    "print(\"Number of results = \", len(Data[(Data.tempsdg12_06 == \"SDG12_06\")])) "
   ]
  },
  {
   "cell_type": "code",
   "execution_count": null,
   "id": "67ec089d-8013-44dd-b8e4-e9031324c9d5",
   "metadata": {
    "colab": {
     "base_uri": "https://localhost:8080/",
     "height": 1000
    },
    "id": "N61k67bjq6wI",
    "outputId": "59e022f7-525e-45df-f118-22cce9421e33"
   },
   "outputs": [],
   "source": [
    "#Results\n",
    "test=Data.loc[(Data.tempsdg12_06 == \"SDG12_06\"), (\"result_id\", \"subcategory\", \"result_title\", \"SDG_action\", \"mentionssdgno\")]\n",
    "test.iloc[0:5, ]"
   ]
  },
  {
   "cell_type": "markdown",
   "id": "348bbcc7-260c-449c-9d50-a43ea2959a13",
   "metadata": {
    "id": "28QC5YCmq6wD"
   },
   "source": [
    "### SDG 12.7\n",
    "\n",
    "*12.7 Promote public procurement practices that are sustainable, in accordance with national policies and priorities*\n",
    "\n",
    "*Fremme bærekraftige ordninger for offentlige anskaffelser, i samsvar med de enkelte landenes politikk og prioriteringer*\n"
   ]
  },
  {
   "cell_type": "code",
   "execution_count": null,
   "id": "e339b853-31fa-4a4c-afa4-2a46b1e25dff",
   "metadata": {
    "id": "Ub1aKSj8q6wF"
   },
   "outputs": [],
   "source": [
    "#Termlists\n",
    "\n",
    "#termlist12_7a = [\"sustainable public procurement\", \"circular public procurement\", \"green public procurement\",\n",
    "#                 \"bærekraftige offentlige anskaffelse\", \"bærekraftig offentlig anskaffelse\", \"bærekraftige anskaffelse\", \"bærekraftig anskaffelse\", \"bærekraftig fellesavtale\", \"bærekraftige fellesavtale\",\n",
    "#                 \"berekraftige offentlige anskaffelse\", \"berekraftig offentlig anskaffelse\", \"berekraftige anskaffelse\", \"berekraftig anskaffelse\", \"berekraftig fellesavtale\", \"berekraftige fellesavtale\", \n",
    "#                ]\n",
    "#Not needed\n",
    "\n",
    "termlist12_scp2_trunc = [\"green\", \"eco\", \"eco-.*\", \"sustainab.*\", \"responsib.*\", \"environmental.*\", \"ecological.*\", \"circular\",\n",
    "                         \"grønne.*\", \"grønn\", \"øko\", \"bærekraft.*\", \"berekraft.*\", \"ansvarlig.*\", \"miljø.*\", \"sirkulær\"]\n",
    "\n",
    "termlist12_7b = [\"fair trade\", \"human rights\",\n",
    "                 \"lifecycle\", \"life cycle\", \n",
    "                 \"employment of minorities\", \"employment of minority\",\n",
    "                 \"Best value for Money\", \"Most Economically Advantageous Tender\",\n",
    "                 \n",
    "                 \"rettferdig handel\", \"menneskerettigheter\",\n",
    "                 \"livssyklus\", \"livsløps\",\n",
    "                 \"likestilt rekruttering\", \"ansette minoriteter\", \"ansette etniske minoriteter\",\n",
    "                 \"økonomisk mest fordelaktige\"]\n",
    "\n",
    "termlist12_7c = [\"procurement\", \"aquisition\", \"purchas\", \"contract\", \"tender\",\n",
    "                 \"anskaffels\", \"anbud\", \"innkjøp\", \"kontrakt\", \"tilbudet\"] \n",
    "\n",
    "#termlist12_7d = [\"national\", \"countr\", \"domestic\", \"government\", \"administrat\", \"public\", \"authorit\"] \n",
    "#We have not included 7d in the final search as it lost relevant results in a title search. A few less relevant creep in (about e.g. consumer purchasing), but more relevant are lost.\n",
    "\n",
    "#phrasedefault12_7a = r'(?:{})'.format('|'.join(termlist12_7a))\n",
    "phrasespecific12_scp2 = r'\\b(?:{})\\b'.format('|'.join(termlist12_scp2_trunc))\n",
    "phrasedefault12_7b = r'(?:{})'.format('|'.join(termlist12_7b))\n",
    "phrasedefault12_7c = r'(?:{})'.format('|'.join(termlist12_7c))\n",
    "#phrasedefault12_7d = r'(?:{})'.format('|'.join(termlist12_7d))"
   ]
  },
  {
   "cell_type": "code",
   "execution_count": null,
   "id": "31c1475e-4f0f-4396-aa32-743c8aa96e75",
   "metadata": {
    "colab": {
     "base_uri": "https://localhost:8080/"
    },
    "id": "WSUKPLNFq6wH",
    "outputId": "d8b67fb1-f943-4015-fff0-6339360c16db"
   },
   "outputs": [],
   "source": [
    "#Search\n",
    "Data.loc[(\n",
    "    #(Data['result_title'].str.contains(phrasedefault12_7a, na=False, case=False))\n",
    "    #|\n",
    "    (\n",
    "        ((Data['result_title'].str.contains(phrasespecific12_scp2, na=False, case=False)) | (Data['result_title'].str.contains(phrasedefault12_7b, na=False, case=False)))\n",
    "        & (Data['result_title'].str.contains(phrasedefault12_7c, na=False, case=False))\n",
    "        #& (Data['result_title'].str.contains(phrasedefault12_7d, na=False, case=False))\n",
    "    )\n",
    "    ),\"tempsdg12_07\"] = \"SDG12_07\"\n",
    "\n",
    "print(\"Number of results = \", len(Data[(Data.tempsdg12_07 == \"SDG12_07\")])) "
   ]
  },
  {
   "cell_type": "code",
   "execution_count": null,
   "id": "dc5082aa-f2ec-4fba-a329-b26a3b85965c",
   "metadata": {
    "colab": {
     "base_uri": "https://localhost:8080/",
     "height": 1000
    },
    "id": "N61k67bjq6wI",
    "outputId": "59e022f7-525e-45df-f118-22cce9421e33"
   },
   "outputs": [],
   "source": [
    "#Results\n",
    "test=Data.loc[(Data.tempsdg12_07 == \"SDG12_07\"), (\"result_id\", \"subcategory\", \"result_title\", \"SDG_action\", \"mentionssdgno\")]\n",
    "test.iloc[0:5, ]"
   ]
  },
  {
   "cell_type": "markdown",
   "id": "b8dd60d5-d498-4a6e-9d01-cbc93d54ff6c",
   "metadata": {
    "id": "28QC5YCmq6wD"
   },
   "source": [
    "### SDG 12.8\n",
    "\n",
    "*12.8 By 2030, ensure that people everywhere have the relevant information and awareness for sustainable development and lifestyles in harmony with nature*\n",
    "\n",
    "*Innen 2030 sikre at alle mennesker i hele verden har relevant informasjon om og forståelse av bærekraftig utvikling og et levesett som er i harmoni med naturen*\n"
   ]
  },
  {
   "cell_type": "markdown",
   "id": "3a050785-f238-4737-9ebf-7be6cec1596e",
   "metadata": {
    "id": "ZX2d-k91vhK_",
    "tags": []
   },
   "source": [
    "#### Phrase 1 & 2"
   ]
  },
  {
   "cell_type": "code",
   "execution_count": null,
   "id": "14511978-510c-47a0-a3a0-2371f5fbc890",
   "metadata": {
    "id": "Ub1aKSj8q6wF"
   },
   "outputs": [],
   "source": [
    "#Termlists\n",
    "\n",
    "termlist12_8a = [\"education for sustainable\", \"education in sustainable\", \"sustainable development educat\", \"sustainability educat\", \n",
    "                 \"utdanning for bærekraft\", \"utdanning for berekraft\", \"bærekraftig utvikling utdann\", \"berekraftig utvikling utdann\"]\n",
    "\n",
    "termlist12_8b = [\"awareness\", \"lifelong learn\", \"life-long learn\",\n",
    "                 \"oppmerksom\", \"bevisst\", \"livslang læring\"]\n",
    "\n",
    "termlist12_8c = [\"inform\", \"knowledge\", \"aware\", \"educat\", \"guide\", \"instruct\", \"learn\", \"educat\", \"teach\",\n",
    "                 \"kunnskap\", \"kjennskap\", \"kjenne\", \"veiled\", \"undervis\", \"læring\", \"lære\", \"utdann\", \"kompetans\", \"engasj\"] \n",
    "\n",
    "termlist12_8g = [\"consumer\", \"customer\", \"resident\", \"visitor\", \"guest\", \"tourist\", \"employee\", \"farmer\",\n",
    "                 \"citizen\", \"children\", \"teenager\", \"adolescent\", \"the elderly\", \"public\", \"student\", \"adult\",\n",
    "                 \"purchas\", \"buying\", \"habit\",\n",
    "                 \"consumption\", \"lifestyle\", \"life-style\",\n",
    "                 \n",
    "                 \"forbruk\", \"beboer\", \"bebuar\", \"besøkende\", \"besøkande\", \"gjest\", \"turist\", \"ansatt\", \"bonde\",\n",
    "                 \"borger\", \"folk\", \"barna\", \"barne\", \"tenåring\", \"de gamle\", \"offentlig\", \"voksne\", \"voksen\", \"vaksne\", \"vaksen\",\n",
    "                 \"kjøp\", \"vane\"\n",
    "                 \"livstil\"] \n",
    "\n",
    "termlist12_8d_trunc = [\"green\", \"eco\", \"eco-.*\", \"sustainab.*\", \"environmental.*\", \"ecological.*\", \"social responsib\", \"socially responsib\", \"circular\",\n",
    "                       \"cleaner production\",\n",
    "                       \"resource efficien.*\", \"resource use efficiency\" , \"material efficiency\" , \"material use efficiency\" , \"energy efficiency\",\n",
    "                       \"eco-label.*\", \"ecolabel.*\", \"environmental label.*\",\n",
    "                       \"ecotouris.*\", \"eco-touris.*\",\n",
    "                       \"ecobuilding.*\", \"eco-building.*\", \"eco-housing\", \"eco-construct.*\", \"eco-design\", \"eco-technolog.*\",\n",
    "                       \"footprint\", \"cradle-to-cradle\", \"cradle to cradle\",\n",
    "                       \"recycl\", \"reuse\", \"re-use\", \"reusing\", \"re-using\", \"refurbish.*\", \"re-furbish.*\", \"remanufactur.*\", \"re-manufactur.*\", \"repurpos.*\", \"re-purpos.*\", \"compost.*\",\n",
    "                       \"renewable energy\",\n",
    "                       \n",
    "                       \"grønne.*\", \"grønn\", \"øko\", \"bærekraft.*\", \"berekraft.*\", \"miljø.*\", \"sosial ansvar.*\", \"sosialt ansvar.*\", \"sirkulær.*\",\n",
    "                       \"renere produksjon.*\",\n",
    "                       \"ressurseffektiv.*\", \"materialeffektiv.*\", \"effektiv bruk av material\", \"effektiv bruk av ressurs.*\", \n",
    "                       \"miljømerk.*\", \"svanemerk.*\",\n",
    "                       \"økoturism\",\n",
    "                       \"fotspor\", \"vugge til vugge\",\n",
    "                       \"resirkul\", \"gjenbruk\", \"ombruk\", \"kompost\",\n",
    "                       \"fornybar energi\"] \n",
    "\n",
    "termlist12_8e = [\"responsible\",\n",
    "                \"ansvarlig\", \"ansvarleg\"]\n",
    "\n",
    "termlist12_8f_trunc = [\"consumer.*\", \"consumption\", \"tourism\", \"product\", \"lifestyle.*\", \"life-style.*\", \"purchas.*\", \"waste\",\n",
    "                       \"forbruk.*\", \"turist.*\", \"turism\", \"produksj.*\", \"produkt.*\", \"livstil.*\", \"kjøp\", \"avfall\"]\n",
    "\n",
    "phrasedefault12_8a = r'(?:{})'.format('|'.join(termlist12_8a))\n",
    "phrasedefault12_8b = r'(?:{})'.format('|'.join(termlist12_8b))\n",
    "phrasedefault12_8c = r'(?:{})'.format('|'.join(termlist12_8c))\n",
    "phrasespecific12_8d = r'\\b(?:{})\\b'.format('|'.join(termlist12_8d_trunc))\n",
    "phrasedefault12_8e = r'(?:{})'.format('|'.join(termlist12_8e))\n",
    "phrasespecific12_8f = r'\\b(?:{})\\b'.format('|'.join(termlist12_8f_trunc))\n",
    "phrasedefault12_8g = r'(?:{})'.format('|'.join(termlist12_8g))"
   ]
  },
  {
   "cell_type": "code",
   "execution_count": null,
   "id": "d5e8cf14-d256-40af-8146-ad3895f0712f",
   "metadata": {
    "colab": {
     "base_uri": "https://localhost:8080/"
    },
    "id": "WSUKPLNFq6wH",
    "outputId": "d8b67fb1-f943-4015-fff0-6339360c16db"
   },
   "outputs": [],
   "source": [
    "#Search\n",
    "Data.loc[(\n",
    "    (Data['result_title'].str.contains(phrasedefault12_8a, na=False, case=False))\n",
    "    |\n",
    "    (\n",
    "        ((Data['result_title'].str.contains(phrasedefault12_8b, na=False, case=False)) \n",
    "         | ((Data['result_title'].str.contains(phrasedefault12_8c, na=False, case=False))&(Data['result_title'].str.contains(phrasedefault12_8g, na=False, case=False)))\n",
    "        )\n",
    "        & \n",
    "        (\n",
    "            (Data['result_title'].str.contains(phrasespecific12_8d, na=False, case=False))\n",
    "            |((Data['result_title'].str.contains(phrasedefault12_8e, na=False, case=False)) & (Data['result_title'].str.contains(phrasespecific12_8f, na=False, case=False)))\n",
    "        )\n",
    "    )\n",
    "    ),\"tempsdg12_08\"] = \"SDG12_08\"\n",
    "\n",
    "print(\"Number of results = \", len(Data[(Data.tempsdg12_08 == \"SDG12_08\")])) "
   ]
  },
  {
   "cell_type": "code",
   "execution_count": null,
   "id": "ca351075-c97c-450a-b3d0-faeaad10172f",
   "metadata": {
    "colab": {
     "base_uri": "https://localhost:8080/",
     "height": 1000
    },
    "id": "N61k67bjq6wI",
    "outputId": "59e022f7-525e-45df-f118-22cce9421e33"
   },
   "outputs": [],
   "source": [
    "#Results\n",
    "test=Data.loc[(Data.tempsdg12_08 == \"SDG12_08\"), (\"result_id\", \"subcategory\", \"result_title\", \"SDG_action\", \"mentionssdgno\")]\n",
    "test.iloc[0:5, ]"
   ]
  },
  {
   "cell_type": "markdown",
   "id": "ea9bc580-b62b-4d87-82e2-43bfd8bb717e",
   "metadata": {
    "id": "28QC5YCmq6wD"
   },
   "source": [
    "### SDG 12.a\n",
    "\n",
    "*12.a Support developing countries to strengthen their scientific and technological capacity to move towards more sustainable patterns of consumption and production*\n",
    "\n",
    "*Støtte utviklingslandene i å styrke deres vitenskapelige og tekniske kapasitet til å innføre mer bærekraftige forbruks- og produksjonsmønstre*\n"
   ]
  },
  {
   "cell_type": "markdown",
   "id": "bdad32e0-299e-4e31-9812-58c1fdd91bdc",
   "metadata": {
    "id": "ZX2d-k91vhK_",
    "tags": []
   },
   "source": [
    "#### Phrase 1"
   ]
  },
  {
   "cell_type": "code",
   "execution_count": null,
   "id": "45545b65-ee24-476d-81b4-2f164dd2ae80",
   "metadata": {
    "id": "Ub1aKSj8q6wF"
   },
   "outputs": [],
   "source": [
    "#Termlists\n",
    "# Using the scp and country strings already created\n",
    "#Some terms are simplified for a title search - e.g. \"managerial support\" -> Support; \"financial resources\" -> financ; \"institional capacity\" -> capacity\n",
    "\n",
    "termlist12_a1 = [\"capacity\", \"support\", \"resources\"\n",
    "                 \"infrastructure\", \"facilities\", \"tools\", \n",
    "                 \"research\", \"scientific\", \"knowledge\", \"skills\", \"competenc\", \"expertise\", \"R&D\", \"innovation\", \"technolog\", \"cleantech\",\n",
    "                 \"communication\", \"social network\", \"information network\", \"campaign\", \n",
    "                 \"awareness\", \"disseminat\", \"educat\", \"training\",\n",
    "                 \"cooperation\", \"collaboration\", \"partnership\", \n",
    "                 \"transfer of technolog\", \"technological transfer\", \"technology transfer\",               \n",
    "                 \"expenditure\", \"investing\", \"investment\", \"financ\", \"spending\", \"funding\", \"funder\", \n",
    "                 \"incentive\", \"subsidy\", \"subsidies\", \"subsidis\", \"subsidiz\", \n",
    "                 \"development spending\", \"development aid\", \"development assistance\", \"foreign aid\", \"foreign assistance\", \"international aid\", \"international assistance\", \n",
    "                 \"policy\", \"policies\", \"empower\", \"strateg\", \"program\", \"intervention\", \n",
    "                 \n",
    "                 \"kapasitet\", \"hjelp\", \"bistand\", \"støtte\", \"stønad\", \"ressurs\",\n",
    "                 \"infrastruktur\", \"fasilitet\", \"verktøy\",\n",
    "                 \"forskning\", \"vitenskapelig\", \"kunnskap\", \"ferdighet\", \"kompetans\", \"ekspertis\", \"innovasjon\", \"teknologi\",\n",
    "                 \"kommunikasjon\", \"sosiale nettverk\", \"informasjonsnettverk\", \"kampanje\",\n",
    "                 \"bevisst\", \"utdanning\", \"opplær\" \n",
    "                 \"samarbeid\", \"felles\", \"partner\", \n",
    "                 \"teknologioverføring\", \"overfører teknologi\", \"overføre teknologi\",\n",
    "                 \"utgift\", \"invester\", \"finans\", \"pengebruk\", \"kapital\",\n",
    "                 \"insentiv\", \"subsider\", \n",
    "                 \"bistand\", \"utviklingssamarbeid\", \"utviklingsstøtte\", \"utviklingsstønad\", \"utviklingshjelp\", \"u-hjelp\", \"samarbeidsfond\",\n",
    "                 \"politikk\", \"retningslin\", \"myndiggjør\", \"strategi\", \"intervensjon\"]\n",
    "\n",
    "termlist12_a1_trunc = [\"invest\", \"fund\", \"funds\", \"grant\", \"grants\", \"tax\", \"taxes\", \"fees\", \"ODA\",\n",
    "                      \"fond\", \"bevilgning\", \"midler\", \"skatt\", \"skatter\", \"FoU\"]\n",
    "\n",
    "phrasedefault12_a1 = r'(?:{})'.format('|'.join(termlist12_a1))\n",
    "phrasespecific12_a1 = r'\\b(?:{})\\b'.format('|'.join(termlist12_a1_trunc))"
   ]
  },
  {
   "cell_type": "code",
   "execution_count": null,
   "id": "42909578-fcb7-455d-916e-f95b7af62800",
   "metadata": {
    "colab": {
     "base_uri": "https://localhost:8080/"
    },
    "id": "WSUKPLNFq6wH",
    "outputId": "d8b67fb1-f943-4015-fff0-6339360c16db"
   },
   "outputs": [],
   "source": [
    "#Search\n",
    "Data.loc[(\n",
    "    ((Data['result_title'].str.contains(phrasedefault12_a1, na=False, case=False))|(Data['result_title'].str.contains(phrasespecific12_a1, na=False, case=False)))\n",
    "    & (Data['scp']==True)\n",
    "    & (Data[\"LMICs\"]==True)\n",
    "    ),\"tempsdg12_a\"] = \"SDG12_0a\"\n",
    "\n",
    "print(\"Number of results = \", len(Data[(Data.tempsdg12_a == \"SDG12_0a\")])) "
   ]
  },
  {
   "cell_type": "code",
   "execution_count": null,
   "id": "5598b8c0-d708-4472-934e-3f3e3e9eb28d",
   "metadata": {
    "colab": {
     "base_uri": "https://localhost:8080/",
     "height": 1000
    },
    "id": "N61k67bjq6wI",
    "outputId": "59e022f7-525e-45df-f118-22cce9421e33"
   },
   "outputs": [],
   "source": [
    "#Results\n",
    "test=Data.loc[(Data.tempsdg12_a == \"SDG12_0a\"), (\"result_id\", \"subcategory\", \"result_title\", \"SDG_action\", \"mentionssdgno\")]\n",
    "test.iloc[0:5, ]"
   ]
  },
  {
   "cell_type": "markdown",
   "id": "c3c8eb73-493e-4579-aad8-fa89a3266623",
   "metadata": {
    "id": "ZX2d-k91vhK_",
    "tags": []
   },
   "source": [
    "#### Phrase 2"
   ]
  },
  {
   "cell_type": "code",
   "execution_count": null,
   "id": "5f5d0ce4-e176-47f1-b0cf-2086c234128b",
   "metadata": {
    "id": "Ub1aKSj8q6wF"
   },
   "outputs": [],
   "source": [
    "#Termlists\n",
    "# Using the country strings already created, and the capacity string from phrase 1\n",
    "\n",
    "termlist12_a2 = [\"energy transition\",  \n",
    "                 \"geothermal heat pump\", \"ground source heat pump\", \n",
    "                 \"solar PV\", \"photovoltaic\", \"solar cell\", \"solar-cell\", \"solar panel\", \"solar-panel\", \"solar array\", \"solar energy collector\", \"solar farm\", \"solar plant\", \"solar park\", \n",
    "                 \"solar district heating\", \"solar district cooling\", \"solar air heating system\", \"solar space heating system\", \n",
    "                 \"wind farm\", \"wind turbine\", \"wind park\", \"wind factory\", \"wind factories\", \n",
    "                 \"hydropower\", \"hydroelectric\", \"hydro-electric\", \"tidal turbine\", \"stream turbine\", \"current turbine\", \"tidal power\", \"tidal energy\", \"marine energy\", \"wave energy\", \n",
    "                 \n",
    "                 \"energiomstilling\", \n",
    "                 \"geotermisk varmepump\", \n",
    "                 \"solcelle\", \"solkraft\", \"solenergi\", \"fotovoltaisk\", \"solfang\", \"solsaml\", \"solvarm\", \"solpark\", \"solcellepark\",\n",
    "                 \"vindkraftverk\", \"vindturbin\", \"vindpark\", \"vindmøllepark\", \"havvind\", \"vindenergi\",\n",
    "                 \"vannkraft\", \"vasskraft\", \"hydroelektrisk\", \"tidevannsturbin\", \"havstrømturbin\", \"tidevannskraft\", \"tidevannsenergi\", \"bølgeenergi\", \"marin energi\", \"havenergi\"]\n",
    "\n",
    "termlist12_a3 = [\"power\", \"energy\", \"electricity\",\n",
    "                 \"kraft\", \"energi\", \"elektrisit\"]\n",
    "                 \n",
    "termlist12_a4 = [\"clean\", \"sustainab\", \"renewable\",\n",
    "                 \"solar\", \"thermal energy\", \"wind\",\n",
    "                 \"geothermal\", \"hydrothermal\", \n",
    "                 \"hydrokinetic\", \"marine\", \"tidal\", \"wave energy\", \"ocean energy\",\n",
    "                 \"bioenergy\", \"biofuel\", \"biodiesel\",\n",
    "                                 \n",
    "                 \"ren energi\", \"bærekraftig\", \"berekraftig\", \"fornybar\",\n",
    "                 \"solcelle\", \"solkraft\", \"solenergi\", \"fotovoltaisk\", \"solfang\", \"solsaml\", \"solvarm\", \"solpark\", \"solcellepark\",\n",
    "                 \"geotermisk\",\n",
    "                 \"bioenergi\", \"biodrivstoff\"]\n",
    "\n",
    "phrasedefault12_a2 = r'(?:{})'.format('|'.join(termlist12_a2))\n",
    "phrasedefault12_a3 = r'(?:{})'.format('|'.join(termlist12_a3))\n",
    "phrasedefault12_a4 = r'(?:{})'.format('|'.join(termlist12_a4))"
   ]
  },
  {
   "cell_type": "code",
   "execution_count": null,
   "id": "b4d17e0d-f528-49d7-925e-b95b9ebe3289",
   "metadata": {
    "colab": {
     "base_uri": "https://localhost:8080/"
    },
    "id": "WSUKPLNFq6wH",
    "outputId": "d8b67fb1-f943-4015-fff0-6339360c16db"
   },
   "outputs": [],
   "source": [
    "#Search\n",
    "Data.loc[(\n",
    "    (\n",
    "        (Data['result_title'].str.contains(phrasedefault12_a1, na=False, case=False))\n",
    "        |(Data['result_title'].str.contains(phrasespecific12_a1, na=False, case=False))\n",
    "    )\n",
    "    & \n",
    "    (\n",
    "        (Data['result_title'].str.contains(phrasedefault12_a2, na=False, case=False))\n",
    "        |((Data['result_title'].str.contains(phrasedefault12_a3, na=False, case=False))&(Data['result_title'].str.contains(phrasedefault12_a4, na=False, case=False)))\n",
    "    )\n",
    "    & (Data[\"LMICs\"]==True)\n",
    "    ),\"tempsdg12_a\"] = \"SDG12_0a\"\n",
    "\n",
    "print(\"Number of results = \", len(Data[(Data.tempsdg12_a == \"SDG12_0a\")])) "
   ]
  },
  {
   "cell_type": "code",
   "execution_count": null,
   "id": "e89a51a1-7bfd-4aa3-b3bf-e6bd63f43037",
   "metadata": {
    "colab": {
     "base_uri": "https://localhost:8080/",
     "height": 1000
    },
    "id": "N61k67bjq6wI",
    "outputId": "59e022f7-525e-45df-f118-22cce9421e33"
   },
   "outputs": [],
   "source": [
    "#Results\n",
    "test=Data.loc[(Data.tempsdg12_a == \"SDG12_0a\"), (\"result_id\", \"subcategory\", \"result_title\", \"SDG_action\", \"mentionssdgno\")]\n",
    "test.iloc[0:5, ]"
   ]
  },
  {
   "cell_type": "markdown",
   "id": "4a61f9cd-05c1-4117-a142-a10dc708e937",
   "metadata": {
    "id": "28QC5YCmq6wD"
   },
   "source": [
    "### SDG 12.b\n",
    "\n",
    "*12.b Develop and implement tools to monitor sustainable development impacts for sustainable tourism that creates jobs and promotes local culture and products*\n",
    "\n",
    "*Utvikle og innføre metoder for å måle effekten av bærekraftig reiseliv som skaper arbeidsplasser og fremmer lokal kultur og lokale produkter*\n"
   ]
  },
  {
   "cell_type": "code",
   "execution_count": null,
   "id": "16fda1b5-7679-4638-9f1d-8afe3c165545",
   "metadata": {
    "id": "Ub1aKSj8q6wF"
   },
   "outputs": [],
   "source": [
    "#Termlists\n",
    "#Simplified to remove the \"effect\" terms - not really needed \n",
    "\n",
    "termlist12_b1 = [\"monitor\", \"report\", \"account\", \"control\", \"measur\", \"assess\", \"evaluat\", \"survey\",\n",
    "                 \"overvåk\", \"rapport\", \"styring\", \"forvalt\", \"måling\", \"evaluer\", \"vurder\", \"undersøke\"]\n",
    "\n",
    "termlist12_scp2_trunc = [\"green\", \"eco\", \"eco-.*\", \"sustainab.*\", \"responsib.*\", \"environmental.*\", \"ecological.*\",\n",
    "                        \"grønne.*\", \"grønn\", \"øko\", \"bærekraft.*\", \"berekraft.*\", \"ansvarlig.*\", \"miljø.*\"]\n",
    "\n",
    "termlist12_b2 = [\"tourism\", \"tourist\", \"hospitality\", \"leisure\", \"air travel\", \"hotel\",\n",
    "                 \"turism\", \"turist\", \" reise\", \"fritid\", \"flyreise\", \"syden\"]\n",
    "\n",
    "termlist12_b3 = [\"ecotourism\", \n",
    "                 \"økoturism\"]\n",
    "\n",
    "phrasedefault12_b1 = r'(?:{})'.format('|'.join(termlist12_b1))\n",
    "phrasespecific12_scp2 = r'\\b(?:{})\\b'.format('|'.join(termlist12_scp2_trunc))\n",
    "phrasedefault12_b2 = r'(?:{})'.format('|'.join(termlist12_b2))\n",
    "phrasedefault12_b3 = r'(?:{})'.format('|'.join(termlist12_b3))"
   ]
  },
  {
   "cell_type": "code",
   "execution_count": null,
   "id": "92f8aa39-27ba-4085-a35c-9695c72d0476",
   "metadata": {
    "colab": {
     "base_uri": "https://localhost:8080/"
    },
    "id": "WSUKPLNFq6wH",
    "outputId": "d8b67fb1-f943-4015-fff0-6339360c16db"
   },
   "outputs": [],
   "source": [
    "#Search\n",
    "Data.loc[(\n",
    "    (Data['result_title'].str.contains(phrasedefault12_b1, na=False, case=False))\n",
    "    &\n",
    "    (\n",
    "        (Data['result_title'].str.contains(phrasedefault12_b3, na=False, case=False))\n",
    "        |((Data['result_title'].str.contains(phrasespecific12_scp2, na=False, case=False))&(Data['result_title'].str.contains(phrasedefault12_b2, na=False, case=False)))\n",
    "    )\n",
    "    ),\"tempsdg12_b\"] = \"SDG12_b\"\n",
    "\n",
    "print(\"Number of results = \", len(Data[(Data.tempsdg12_b == \"SDG12_b\")])) "
   ]
  },
  {
   "cell_type": "code",
   "execution_count": null,
   "id": "782b9c2e-9ee8-4857-88c7-c7a489985e6c",
   "metadata": {
    "colab": {
     "base_uri": "https://localhost:8080/",
     "height": 1000
    },
    "id": "N61k67bjq6wI",
    "outputId": "59e022f7-525e-45df-f118-22cce9421e33"
   },
   "outputs": [],
   "source": [
    "#Results\n",
    "test=Data.loc[(Data.tempsdg12_b == \"SDG12_b\"), (\"result_id\", \"subcategory\", \"result_title\", \"SDG_action\", \"mentionssdgno\")]\n",
    "test.iloc[0:5, ]"
   ]
  },
  {
   "cell_type": "markdown",
   "id": "764a9b37-c5f9-467a-a16c-38bd3635297e",
   "metadata": {
    "id": "28QC5YCmq6wD"
   },
   "source": [
    "### SDG 12.c\n",
    "\n",
    "*12.c Rationalize inefficient fossil-fuel subsidies that encourage wasteful consumption by removing market distortions, in accordance with national circumstances, including by restructuring taxation and phasing out those harmful subsidies, where they exist, to reflect their environmental impacts, taking fully into account the specific needs and conditions of developing countries and minimizing the possible adverse impacts on their development in a manner that protects the poor and the affected communities*\n",
    "\n",
    "*Redusere ineffektive subsidier til fossilt brensel ved å fjerne markedsvridninger som oppmuntrer til overforbruk, i samsvar med nasjonale forhold, blant annet ved å legge om skatter og avgifter og avvikle skadelige subsidier der de finnes, slik at konsekvensene for miljøet avdekkes, og samtidig fullt ut ta hensyn til utviklingslandenes særlige behov og situasjon og begrense eventuelle negative konsekvenser for deres utvikling mest mulig og på en måte som beskytter de fattige og de berørte lokalsamfunnene*\n"
   ]
  },
  {
   "cell_type": "markdown",
   "id": "9c48059c-3ea1-430c-a244-1e7b112267a9",
   "metadata": {
    "id": "ZX2d-k91vhK_",
    "tags": []
   },
   "source": [
    "#### Phrase 1"
   ]
  },
  {
   "cell_type": "code",
   "execution_count": null,
   "id": "59a034c8-8ef4-41e8-88dd-3612e700d1e2",
   "metadata": {
    "id": "Ub1aKSj8q6wF"
   },
   "outputs": [],
   "source": [
    "#Termlists\n",
    "termlist12_c2 = [\"subsidi\", \"subsidy\", \"fiscal incentive\", \"price support\", \"underpricing\", \"underprice\", \"under-pricing\", \"under-price\", \"under pricing\", \"under price\", \n",
    "                 \"below market lending\", \"below market loan\", \"below-market\",\n",
    "                 \"credit support\", \"credit guarantee\", \"credit restructur\", \"credit cancel\", \n",
    "                 \"loan support\", \"loan guarantee\", \"loan restructur\", \"loan cancel\", \n",
    "                 \"debt support\", \"debt guarantee\", \"debt restructur\", \"debt cancel\", \n",
    "                 \"market distor\", \"price distortion\",\n",
    "                 \"government spending\", \"government funding\", \"government ownership\", \"government payment\",\n",
    "                 \n",
    "                 \"næringsstøtte\", \"insentiv\", \"prisstøtte\", \"prisstønad\", \"økonomisk støtte\", \"økonomisk stønad\", \"tilskudd\", \"tilskot\", \"prissetting\",\n",
    "                 \"kreditt\", \" lån\", \"gjeld\",\n",
    "                 \"vridning\",\n",
    "                 \"offentlige utgifter\", \"statlig eier\", \"offentlig forvalt\", \"statlig forvalt\", \"finansiell støtte\", \"finansiell stønad\", \"finansielle ressurs\"]\n",
    "\n",
    "termlist12_c3 = [\"fossil fuel\", \"natural gas\", \"diesel\", \"gasoline\", \"kerosene\", \"petroleum\", \"energy resource\", \"conventional energy\",\n",
    "                 \"fossilt brensel\", \"fossile brensl\", \"fossilt brennstoff\", \"fossile brennstoff\", \"naturgass\", \"energiressurs\", \"konvensjonell energi\"]\n",
    "\n",
    "termlist12_c3_trunc = [\"coal\", \"oil\", \"peat\",\n",
    "                       \"kull\", \"kol\", \"olje\", \"torv\"]\n",
    "\n",
    "phrasedefault12_c2 = r'(?:{})'.format('|'.join(termlist12_c2))\n",
    "phrasedefault12_c3 = r'(?:{})'.format('|'.join(termlist12_c3))\n",
    "phrasespecific12_c3 = r'\\b(?:{})\\b'.format('|'.join(termlist12_c3_trunc))"
   ]
  },
  {
   "cell_type": "code",
   "execution_count": null,
   "id": "9a67c8b8-cfa7-4cc4-8f7b-e383fdf6fd28",
   "metadata": {
    "colab": {
     "base_uri": "https://localhost:8080/"
    },
    "id": "WSUKPLNFq6wH",
    "outputId": "d8b67fb1-f943-4015-fff0-6339360c16db"
   },
   "outputs": [],
   "source": [
    "#Search\n",
    "Data.loc[(\n",
    "    (Data['result_title'].str.contains(phrasedefault12_c2, na=False, case=False))\n",
    "    & ((Data['result_title'].str.contains(phrasedefault12_c3, na=False, case=False))|(Data['result_title'].str.contains(phrasespecific12_c3, na=False, case=False)))\n",
    "    ),\"tempsdg12_c\"] = \"SDG12_c\"\n",
    "\n",
    "print(\"Number of results = \", len(Data[(Data.tempsdg12_c == \"SDG12_c\")])) "
   ]
  },
  {
   "cell_type": "code",
   "execution_count": null,
   "id": "8d27e5a6-9f1d-49a0-81e8-bce21130bc36",
   "metadata": {
    "colab": {
     "base_uri": "https://localhost:8080/",
     "height": 1000
    },
    "id": "N61k67bjq6wI",
    "outputId": "59e022f7-525e-45df-f118-22cce9421e33"
   },
   "outputs": [],
   "source": [
    "#Results\n",
    "test=Data.loc[(Data.tempsdg12_c == \"SDG12_c\"), (\"result_id\", \"subcategory\", \"result_title\", \"SDG_action\", \"mentionssdgno\")]\n",
    "test.iloc[0:5, ]"
   ]
  },
  {
   "cell_type": "markdown",
   "id": "a453c4de-c76b-4124-aa47-68e40d2dc03f",
   "metadata": {
    "id": "ZX2d-k91vhK_",
    "tags": []
   },
   "source": [
    "#### Phrase 2"
   ]
  },
  {
   "cell_type": "code",
   "execution_count": null,
   "id": "f85cba9e-0cc2-4d8d-bade-48aa9752efff",
   "metadata": {
    "id": "Ub1aKSj8q6wF"
   },
   "outputs": [],
   "source": [
    "#Termlists\n",
    "#reuse fossil fuels from phrase 1\n",
    "\n",
    "termlist12_c5_trunc = [\"taxation\", \"tax\", \"taxes\", \"tariff.*\", \"duty\", \"duties\", \"fees\", \"fee\",\n",
    "                       \".*skatt.*\", \".*avgift.*\", \"gebyr.*\"]\n",
    "\n",
    "termlist12_c6 = [\"heavy duty\", \"light duty\", \"medium duty\"]\n",
    "\n",
    "phrasespecific12_c5 = r'\\b(?:{})\\b'.format('|'.join(termlist12_c5_trunc))\n",
    "phrasedefault12_c6 = r'(?:{})'.format('|'.join(termlist12_c6))"
   ]
  },
  {
   "cell_type": "code",
   "execution_count": null,
   "id": "cae6f152-832c-4251-abc3-0b40b566d383",
   "metadata": {
    "colab": {
     "base_uri": "https://localhost:8080/"
    },
    "id": "WSUKPLNFq6wH",
    "outputId": "d8b67fb1-f943-4015-fff0-6339360c16db"
   },
   "outputs": [],
   "source": [
    "#Search\n",
    "Data.loc[(\n",
    "    (Data['result_title'].str.contains(phrasespecific12_c5, na=False, case=False))\n",
    "    & ((Data['result_title'].str.contains(phrasedefault12_c3, na=False, case=False))|(Data['result_title'].str.contains(phrasespecific12_c3, na=False, case=False)))\n",
    "    & (~Data['result_title'].str.contains(phrasedefault12_c6, na=False, case=False))\n",
    "    ),\"tempsdg12_c\"] = \"SDG12_c\"\n",
    "\n",
    "print(\"Number of results = \", len(Data[(Data.tempsdg12_c == \"SDG12_c\")])) "
   ]
  },
  {
   "cell_type": "code",
   "execution_count": null,
   "id": "f83cd494-83a9-4dbb-8251-1b1f8f5ee40f",
   "metadata": {
    "colab": {
     "base_uri": "https://localhost:8080/",
     "height": 1000
    },
    "id": "N61k67bjq6wI",
    "outputId": "59e022f7-525e-45df-f118-22cce9421e33"
   },
   "outputs": [],
   "source": [
    "#Results\n",
    "test=Data.loc[(Data.tempsdg12_c == \"SDG12_c\"), (\"result_id\", \"subcategory\", \"result_title\", \"SDG_action\", \"mentionssdgno\")]\n",
    "test.iloc[0:5, ]"
   ]
  },
  {
   "cell_type": "markdown",
   "id": "4bec900d-4add-487a-a738-d7cb3dbf6310",
   "metadata": {
    "id": "DczzJQdmaY2a"
   },
   "source": [
    "### SDG 12 mentions"
   ]
  },
  {
   "cell_type": "markdown",
   "id": "3a398a90-6834-414d-ace6-0923ab2d9ec1",
   "metadata": {
    "id": "84hw5s4xajmC"
   },
   "source": [
    "Here it was not neccesary to exclude the NOT terms used in a normal abstract search, so they are not used. But in other contexts/abstract searches it may be necessary to add them in again. "
   ]
  },
  {
   "cell_type": "code",
   "execution_count": null,
   "id": "a79d800c-3f6d-4250-b99e-90cca0650ce0",
   "metadata": {
    "id": "qm8P5nBkXMfj"
   },
   "outputs": [],
   "source": [
    "#Termlists\n",
    "termlist12_1 = [\"SDG 12\", \"SDGs 12\", \"SDG12\", \"sustainable development goal 12\", \n",
    "               \"bærekraftsmål 12\", \"berekraftsmål 12\"]\n",
    "termlist12_2 = [\"sustainable development goal\", \n",
    "               \"bærekraftsmål\", \"berekraftsmål\"]\n",
    "termlist12_3 = [\"goal 12\", \"mål 12\"]\n",
    "termlist12_4 = [\"sustainable development goal\", \"SDG\", \"goal 12\", \n",
    "               \"bærekraftsmål\", \"berekraftsmål\", \"mål 12\"]\n",
    "termlist12_5 = [\"sustainable consumption\", \"responsible consumption\",\n",
    "               \"bærekraftig forbruk\", \"berekraftig forbruk\", \"ansvarlig forbruk\", \"ansvarleg forbruk\"]\n",
    "#Possible search for the short titles of the SDGs, to be used in a title search\n",
    "\n",
    "phrasedefault12_1 = r'(?:{})'.format('|'.join(termlist12_1))\n",
    "phrasedefault12_2 = r'(?:{})'.format('|'.join(termlist12_2))\n",
    "phrasedefault12_3 = r'(?:{})'.format('|'.join(termlist12_3))\n",
    "phrasedefault12_4 = r'(?:{})'.format('|'.join(termlist12_4))\n",
    "phrasedefault12_5 = r'(?:{})'.format('|'.join(termlist12_5))"
   ]
  },
  {
   "cell_type": "code",
   "execution_count": null,
   "id": "6f3790e2-6eb1-4bf9-a249-4380df1d0563",
   "metadata": {
    "colab": {
     "base_uri": "https://localhost:8080/"
    },
    "id": "TZcpJRdiXLwT",
    "outputId": "5a5f208d-23c0-4bd3-c8b2-5b458b2338c9"
   },
   "outputs": [],
   "source": [
    "#search\n",
    "Data.loc[(\n",
    "      (Data['result_title'].str.contains(phrasedefault12_1, na=False, case=False))\n",
    "      |((Data['result_title'].str.contains(phrasedefault12_2, na=False, case=False)) & (Data['result_title'].str.contains(phrasedefault12_3, na=False, case=False)))\n",
    "      |((Data['result_title'].str.contains(phrasedefault12_4, na=False, case=False)) & (Data['result_title'].str.contains(phrasedefault12_5, na=False, case=False)))\n",
    "),\"tempmentionsdg12\"] = \"SDG12\"\n",
    "\n",
    "print(\"Number of results = \", len(Data[(Data.tempmentionsdg12 == \"SDG12\")]))"
   ]
  },
  {
   "cell_type": "code",
   "execution_count": null,
   "id": "6136c276-96f0-46e4-9873-2620dfc4e306",
   "metadata": {
    "colab": {
     "base_uri": "https://localhost:8080/",
     "height": 403
    },
    "id": "F-LTxPJhXLap",
    "outputId": "1d4f4f1d-e64d-4fcc-d9d7-30cd3e923962"
   },
   "outputs": [],
   "source": [
    "test=Data.loc[(Data.tempmentionsdg12 == \"SDG12\"), (\"result_id\", \"result_title\")]\n",
    "test.iloc[0:5, ]"
   ]
  },
  {
   "cell_type": "markdown",
   "id": "abd93b15-68e6-4199-b489-b5fb1c5dff46",
   "metadata": {},
   "source": [
    "## SDG 13"
   ]
  },
  {
   "cell_type": "markdown",
   "id": "908105ba-c797-403f-8dc9-79a7704c10b7",
   "metadata": {
    "id": "VU5OSKiGV8xe"
   },
   "source": [
    "### SDG 13.1\n",
    "13.1 Strengthen resilience and adaptive capacity to climate-related hazards and natural disasters in all countries\n",
    "\n",
    "Styrkje evna til å stå imot og tilpasse seg til klimarelaterte farar og naturkatastrofar i alle land\n"
   ]
  },
  {
   "cell_type": "code",
   "execution_count": null,
   "id": "4860bc7d-433f-4a8d-a5a9-528f908d5f04",
   "metadata": {
    "id": "J1OyLMbMnhye"
   },
   "outputs": [],
   "source": [
    "#Term lists\n",
    "termlist13_1a = [\"coping\", \"cope\", \"adapt\", \"resilien\", \"mitigat\", \"risk reduction\", \"preparedness\", \"preparing\", \"preparation\",\n",
    "                 \n",
    "                 \"takl\", \"klare\", \"greie\", \"holde ut\", \"halde ut\", \"tåle\", \"tole\", \"utstå\", \"overkomme\", \"tilpas\", \"robust\",\n",
    "                 \"mink\", \"demp\", \"reduser\", \"reduksjon\", \"beredskap\", \"forbered\", \"førebu\" ]\n",
    "\n",
    "termlist13_1b = [\"mitigat\", \"prevent\", \"reduc\", \"decreas\", \"minimis\", \"minimiz\", \"manag\",\n",
    "                 \"mink\", \"demp\", \"forebygg\", \"førebygg\", \"reduser\", \"reduksjon\", \"minimer\"]\n",
    "termlist13_1c = [\"impact\", \"vulnerab\",\n",
    "                 \"innflytelse\", \"innvirkning\", \"innverknad\", \"påvirk\", \"påverk\", \"betydning\", \"sårbar\"]\n",
    "\n",
    "termlist13_1d = [\"disaster\", \"risk\",\n",
    "                 \"katastrof\", \"risiko\"]\n",
    "termlist13_1e = [\"plan\", \"assess\", \"strateg\", \"program\", \"policy\", \"policies\", \"governance\", \"reduc\", \"manag\", \"medical response\", \"relief\",\n",
    "                 \"vurder\", \"politikk\", \"retningslin\", \"styring\", \"ledelse\", \"leiing\", \"reduser\", \"reduksjon\", \"medisinsk\", \"bistand\", \"støtte\", \"stønad\"]\n",
    "\n",
    "termlist13_1f = [\"sendai\", \"cancun\", \"readiness and preparatory support programme\", \"readiness programme\",\n",
    "                 \"beredskap\"]\n",
    "\n",
    "termlist13_1g = [\"extreme\",\n",
    "                 \"ekstrem\"]\n",
    "termlist13_1h = [\"climat\", \"weather\", \"precipitation\", \"rain\", \"snow\", \"temperatur\", \"storm\", \"wind\",\n",
    "                 \"klima\", \"vær\", \"ver\", \"nedbør\", \"regn\", \"snø\", \"vind\"]\n",
    "\n",
    "termlist13_1i = [\"natural\", \"climat\",\n",
    "                 \"naturlig\", \"naturleg\", \"klima\"]\n",
    "termlist13_1j = [\"hazard\", \"catastroph\", \"disaster\",\n",
    "                 \"fare\", \"risiko\", \"katastrof\"]\n",
    "\n",
    "termlist13_1k = [\"rogue wave\", \"tsunami\", \"cyclone\", \"typhoon\", \"hurricane\", \"tornado\",\n",
    "                 \"drought\", \"flood\",\n",
    "                 \"avalanche\", \"landslide\", \"land-slide\", \"land slide\", \"rockslide\", \"rock-slide\", \"rock slide\", \"rockfall\", \"surface collapse\", \"mudflow\", \"mud-flow\",\n",
    "                 \"cold spell\", \"cold wave\", \"dzud\", \"blizzard\", \"snowstorm\",\n",
    "                 \"heatwave\", \"heat-wave\",\n",
    "                 \"earthquake\", \"volcan\", \"ash cloud\", \"ash fall\", \"tephra\",\n",
    "                 \"wildfire\", \"wild-fire\", \"wild fire\", \"forest-fire\", \"forest fire\", \"forestfire\",\n",
    "                 \"sea-level rise\", \"sea-level change\", \"rising sea-level\",\n",
    "\n",
    "                 \"tropisk lavtrykk\", \"tropisk lågtrykk\", \"flodbølg\", \"monsterbølg\", \"ekstrembølg\",\n",
    "                 \"orkan\",  \"tyfon\", \"syklon\", \"snøstorm\",\n",
    "                 \"flom\", \"flaum\", \"oversvøm\", \"ovefløym\", \"tørke\",\n",
    "                 \"snøskred\", \"skred\", \"snøras\", \"lavine\", \"jordskred\", \"jordras\", \"sørpeskred\", \"leirras\", \"leirskred\", \"steinras\", \"steinskred\", \"synkehull\",\n",
    "                 \"uvanlig kulde\", \"uvanlig kaldt\", \"uvanleg kulde\", \"uvanleg kaldt\", \"ekstrem kuld\", \"ekstremkuld\", \"kuldebølg\", \"snøstorm\",\n",
    "                 \"varmebølg\", \"hetebølg\", \"ekstrem varm\", \"ekstremvarm\", \"uvanlig varm\", \"uvanleg varm\",\n",
    "                 \"jordskjelv\", \"vulkan\", \"askenedfall\", \"oskenedfall\", \"askesky\", \"oskesky\",\n",
    "                 \"skogbrann\", \"gressbrann\", \"grasbrann\", \"lyngbrann\",\n",
    "                 \"havnivåstigning\", \"stormflo\"]\n",
    "\n",
    "termlist13_1l = [\"sea level\",\n",
    "                 \"havflate\", \"havnivå\"]\n",
    "termlist13_1m = [\"chang\", \"rise\", \"rising\",\n",
    "                 \"forandr\", \"endr\", \"stig\", \"øk\", \"auke\", \"auking\", \"hev\"]\n",
    "\n",
    "phrasedefault13_1a = r'(?:{})'.format('|'.join(termlist13_1a))\n",
    "phrasedefault13_1b = r'(?:{})'.format('|'.join(termlist13_1b))\n",
    "phrasedefault13_1c = r'(?:{})'.format('|'.join(termlist13_1c))\n",
    "phrasedefault13_1d = r'(?:{})'.format('|'.join(termlist13_1d))\n",
    "phrasedefault13_1e = r'(?:{})'.format('|'.join(termlist13_1e))\n",
    "phrasedefault13_1f = r'(?:{})'.format('|'.join(termlist13_1f))\n",
    "phrasedefault13_1g = r'(?:{})'.format('|'.join(termlist13_1g))\n",
    "phrasedefault13_1h = r'(?:{})'.format('|'.join(termlist13_1h))\n",
    "phrasedefault13_1i = r'(?:{})'.format('|'.join(termlist13_1i))\n",
    "phrasedefault13_1j = r'(?:{})'.format('|'.join(termlist13_1j))\n",
    "phrasedefault13_1k = r'(?:{})'.format('|'.join(termlist13_1k))\n",
    "phrasedefault13_1l = r'(?:{})'.format('|'.join(termlist13_1l))\n",
    "phrasedefault13_1m = r'(?:{})'.format('|'.join(termlist13_1m))"
   ]
  },
  {
   "cell_type": "code",
   "execution_count": null,
   "id": "f8847fbf-1ac2-409c-98e8-eeba22b698f2",
   "metadata": {
    "colab": {
     "base_uri": "https://localhost:8080/"
    },
    "id": "pQ4xsd9zqCYj",
    "outputId": "c6808c23-28d1-48c4-a91d-a4906b6ef788"
   },
   "outputs": [],
   "source": [
    "#Search 13_1abcdefghijklm\n",
    "Data.loc[(\n",
    "    (\n",
    "        (Data['result_title'].str.contains(phrasedefault13_1a, na=False, case=False))\n",
    "        |((Data['result_title'].str.contains(phrasedefault13_1b, na=False, case=False)) & (Data['result_title'].str.contains(phrasedefault13_1c, na=False, case=False)))\n",
    "        |((Data['result_title'].str.contains(phrasedefault13_1d, na=False, case=False)) & (Data['result_title'].str.contains(phrasedefault13_1e, na=False, case=False)))\n",
    "        |(Data['result_title'].str.contains(phrasedefault13_1f, na=False, case=False))\n",
    "    )\n",
    "    &\n",
    "    (\n",
    "        ((Data['result_title'].str.contains(phrasedefault13_1g, na=False, case=False)) & (Data['result_title'].str.contains(phrasedefault13_1h, na=False, case=False)))\n",
    "        |((Data['result_title'].str.contains(phrasedefault13_1i, na=False, case=False)) & (Data['result_title'].str.contains(phrasedefault13_1j, na=False, case=False)))\n",
    "        |(Data['result_title'].str.contains(phrasedefault13_1k, na=False, case=False))\n",
    "        |((Data['result_title'].str.contains(phrasedefault13_1l, na=False, case=False)) & (Data['result_title'].str.contains(phrasedefault13_1m, na=False, case=False)))\n",
    "    )\n",
    "),\"tempsdg13_01\"] = \"SDG13_01\"\n",
    "\n",
    "print(\"Number of results = \", len(Data[(Data.tempsdg13_01 == \"SDG13_01\")])) "
   ]
  },
  {
   "cell_type": "code",
   "execution_count": null,
   "id": "6c66fc31-7b49-4e8e-8958-3c7bb8ffc13b",
   "metadata": {
    "colab": {
     "base_uri": "https://localhost:8080/",
     "height": 1000
    },
    "id": "zkvcvoNrxYfz",
    "outputId": "e9b6cd91-9449-4abe-9e15-389e8bb2d968"
   },
   "outputs": [],
   "source": [
    "test=Data.loc[(Data.tempsdg13_01 == \"SDG13_01\"), (\"result_id\", \"result_title\")]\n",
    "test.iloc[0:5, ]"
   ]
  },
  {
   "cell_type": "markdown",
   "id": "df6bea08-8309-4c71-8ee2-f040ff9d996b",
   "metadata": {
    "id": "AWpHYPtC0d39"
   },
   "source": [
    "### SDG 13.2\n",
    "13.2 Integrate climate change measures into national policies, strategies and planning\n",
    "\n",
    "Innarbeide tiltak mot klimaendringar i politikk, strategiar og planlegging på nasjonalt nivå"
   ]
  },
  {
   "cell_type": "markdown",
   "id": "5d6558eb-1cbf-4d85-b1fd-5c6cdcf5756d",
   "metadata": {
    "id": "9vc6KVpJ0zqG"
   },
   "source": [
    "#### Phrase 1"
   ]
  },
  {
   "cell_type": "code",
   "execution_count": null,
   "id": "24f62f48-535b-4f7b-954d-ffda5fc5ab23",
   "metadata": {
    "id": "Z3rStuqu1jUV"
   },
   "outputs": [],
   "source": [
    "# Term lists\n",
    "termlist13_2a = [\"climate change\", \"global warming\", \"climatic change\", \"changing climate\", \"climate measures\", \"climate action\", \"climate adaptation\", \"climate mitigation\", \"climate resilience\",\n",
    "                 \"klimaendring\", \"global oppvarming\", \"klima i endring\", \"klimamål\", \"klimahandling\", \"klimatilpas\", \"klimaforandring\", \"klimavariasjon\", \"klimatiltak\"]\n",
    "\n",
    "termlist13_2b = [\"warming\",\n",
    "                 \"oppvarming\"]\n",
    "termlist13_2j = [\"climat\", \"atmospher\", \"ocean\",\n",
    "                 \"klima\", \"atmosfær\", \"hav\"]\n",
    "\n",
    "termlist13_2k = [\"GHG\", \"greenhouse gas\", \"carbon footprint\", \"CO2 footprint\", \"carbon emission\", \"CO2 emission\", \"methane\", \"ch4\", \"nitrous oxide\", \"nox\", \"n20\", \"carbon dioxide\",\n",
    "                 \"co2\", \"hydrofluorocarbons\", \"hfcs\", \"perfluorocarbons\", \"pfcs\", \"sulphur hexafluoride\", \"sulfur hexafluoride\", \"sf6\",\n",
    "                 \n",
    "                 \"klimagass\", \"karbonfotavtrykk\", \"karbonavtrykk\", \"karbondioksid\", \"karbonutslipp\", \"karbonutslepp\", \"co2-utslipp\", \"co2-utslepp\", \"metan\", \"dinitrogenoksid\", \"lystgass\",\n",
    "                 \"hydrofluorkarbon\", \"perfluorkarbon\", \"svovelheksafluorid\"]\n",
    "\n",
    "termlist13_2l = [\"national\", \"state\", \"federal\", \"domestic\", \"sectoral\", \"multi level\", \"multilevel\",\n",
    "                 \"nasjonal\", \"stat\", \"føderal\", \"delstat\", \"fylke\", \"innenlands\", \"innalands\", \"innanlands\", \"sektor\", \"kommun\"]\n",
    "\n",
    "termlist13_2m = [\"program\", \"strategy\", \"framework\", \"initiativ\", \"plan\", \"policy\", \"policies\", \"law\", \"legislat\", \"governance\", \"mandat\",\n",
    "                 \"nationally determined contribution\", \"adaptation communication\", \"monitoring and evaluation\", \"adaptation committee\",\n",
    "                 \n",
    "                 \"strategi\", \"rammeverk\", \"avtale\", \"overenskomst\", \"politikk\", \"retningslin\", \"lov\", \"lovgiv\", \"styring\", \"ledelse\", \"leiing\",\n",
    "                 \"nasjonalt fastsatt bidrag\", \"nasjonalt fastsatte bidrag\", \"nasjonalt fastsette bidrag\", \"tilpasningskommunikasjon\", \"tilpassingskommunikasjon\", \"komite\"]\n",
    "\n",
    "termlist13_2n = [\"climate\", \"global warming\", \"climatic change\",\n",
    "                 \"klima\", \"global oppvarming\"]\n",
    "termlist13_2o = [\"warming\",\n",
    "                 \"oppvarming\"]\n",
    "termlist13_2p = [\"atmosphere\", \"ocean\",\n",
    "                 \"atmosfære\", \"hav\"]\n",
    "termlist13_2q = [\"GHG\", \"greenhouse gas\", \"carbon footprint\", \"CO2 footprint\", \"carbon emission\", \"CO2 emission\", \"sea-level rise\",\n",
    "                 \"drivhusgass\", \"klimagass\", \"karbonfotavtrykk\", \"karbonavtrykk\", \"karbondioksid\", \"co2-utslipp\", \"co2-utslepp\", \"havnivåstigning\"]                                             \n",
    "\n",
    "phrasedefault13_2a = r'(?:{})'.format('|'.join(termlist13_2a)) \n",
    "phrasedefault13_2b = r'(?:{})'.format('|'.join(termlist13_2b))\n",
    "phrasedefault13_2j = r'(?:{})'.format('|'.join(termlist13_2j)) \n",
    "phrasedefault13_2k = r'(?:{})'.format('|'.join(termlist13_2k))\n",
    "phrasedefault13_2l = r'(?:{})'.format('|'.join(termlist13_2l)) \n",
    "phrasedefault13_2m = r'(?:{})'.format('|'.join(termlist13_2m))\n",
    "phrasedefault13_2n = r'(?:{})'.format('|'.join(termlist13_2n)) \n",
    "phrasedefault13_2o = r'(?:{})'.format('|'.join(termlist13_2o))\n",
    "phrasedefault13_2p = r'(?:{})'.format('|'.join(termlist13_2p)) \n",
    "phrasedefault13_2q = r'(?:{})'.format('|'.join(termlist13_2q))"
   ]
  },
  {
   "cell_type": "code",
   "execution_count": null,
   "id": "b27b0d76-a21d-4efd-9e14-4ec084a21e04",
   "metadata": {
    "colab": {
     "base_uri": "https://localhost:8080/"
    },
    "id": "veaoqeMbMxft",
    "outputId": "a209664c-38fc-4dc9-e24e-9b289e0ca4b4"
   },
   "outputs": [],
   "source": [
    "#Search 13_2abjklmnopq\n",
    "Data.loc[(\n",
    "    (\n",
    "        (Data['result_title'].str.contains(phrasedefault13_2a, na=False, case=False))\n",
    "        |((Data['result_title'].str.contains(phrasedefault13_2b, na=False, case=False)) & (Data['result_title'].str.contains(phrasedefault13_2j, na=False, case=False)))\n",
    "        |(Data['result_title'].str.contains(phrasedefault13_2k, na=False, case=False))   \n",
    "    )\n",
    "    & ((Data['result_title'].str.contains(phrasedefault13_2l, na=False, case=False))&(Data['result_title'].str.contains(phrasedefault13_2m, na=False, case=False)))\n",
    "    &\n",
    "    (\n",
    "        (Data['result_title'].str.contains(phrasedefault13_2n, na=False, case=False)) \n",
    "        |((Data['result_title'].str.contains(phrasedefault13_2o, na=False, case=False)) & (Data['result_title'].str.contains(phrasedefault13_2p, na=False, case=False))) \n",
    "        |(Data['result_title'].str.contains(phrasedefault13_2q, na=False, case=False))\n",
    "    )   \n",
    "),\"tempsdg13_02\"] = \"SDG13_02\"\n",
    "\n",
    "print(\"Number of results = \", len(Data[(Data.tempsdg13_02 == \"SDG13_02\")]))  "
   ]
  },
  {
   "cell_type": "code",
   "execution_count": null,
   "id": "b044295e-cdbe-4b58-9bac-3c9d3ede5366",
   "metadata": {
    "colab": {
     "base_uri": "https://localhost:8080/",
     "height": 1000
    },
    "id": "Sdy5xLXoRMM7",
    "outputId": "8c20cf97-b22f-4600-9eee-7fbd86bdec06"
   },
   "outputs": [],
   "source": [
    "test=Data.loc[(Data.tempsdg13_02 == \"SDG13_02\"), (\"result_id\", \"result_title\")]\n",
    "test.iloc[0:5, ]"
   ]
  },
  {
   "cell_type": "markdown",
   "id": "42656265-e3f6-43a3-ae23-8115078e4f48",
   "metadata": {
    "id": "qW8ZeA2qumDg"
   },
   "source": [
    "#### Phrase 2\n"
   ]
  },
  {
   "cell_type": "code",
   "execution_count": null,
   "id": "fdc62420-a866-40ba-9d7f-00efc11b2763",
   "metadata": {
    "id": "S1aa0i8jvRPo"
   },
   "outputs": [],
   "source": [
    "# Term lists\n",
    "termlist13_2c = [\"global temperatur\", \"surface temperature\", \"sea-level\", \"sea level\", \"sea ice\", \"glacial\", \"glaciers\", \"permafrost\", \"ocean acidification\", \"ocean heat content\",\n",
    "                 \"global oppvarming\", \"overflatetemperatur\", \"havnivå\", \"havis\", \"glasial\", \"isbre\", \"havforsuring\"]\n",
    "\n",
    "termlist13_2d = [\"action\", \"sustainab\", \"adapt\", \"cope\", \"coping\", \"resilience\", \"mitigat\", \"impact\", \"effect\",  \"consequence\", \"influence\", \"vulnerab\",\n",
    "                 \n",
    "                 \"handling\", \"bærekraft\", \"berekraft\", \"takl\", \"klare\", \"greie\", \"fikse\", \"overkomme\", \"tilpas\", \"mink\", \"demp\", \"reduser\", \"reduksjon\", \"innflytelse\", \"innvirkning\",\n",
    "                 \"innverknad\", \"påvirk\", \"påverk\", \"betydning\", \"effekt\", \"konsekvens\", \"sårbar\"]\n",
    "\n",
    "termlist13_2e = [\"national\", \"state\", \"federal\", \"domestic\", \"sectoral\", \"multi level\", \"multilevel\",\n",
    "                 \"nasjonal\", \"stat\", \"føderal\", \"delstat\", \"fylke\", \"innenlands\", \"innalands\", \"innanlands\", \"sektor\", \"kommune\"]\n",
    "\n",
    "termlist13_2f = [\"program\", \"strategy\", \"framework\", \"initiativ\", \"plan\", \"policy\", \"policies\", \"law\", \"legislat\", \"governance\", \"mandat\",\n",
    "                 \"nationally determined contribution\", \"adaptation communication\", \"monitoring and evaluation\", \"adaptation committee\",\n",
    "                 \n",
    "                 \"strategi\", \"rammeverk\", \"politikk\", \"retningslin\", \"lov\", \"lovgiv\", \"styring\", \"ledelse\", \"leiing\",\n",
    "                 \"nasjonalt fastsatt bidrag\", \"nasjonalt fastsatte bidrag\", \"nasjonalt fastsette bidrag\", \"tilpasningskommunikasjon\", \"tilpassingskommunikasjon\", \"komite\"]\n",
    "\n",
    "phrasedefault13_2c = r'(?:{})'.format('|'.join(termlist13_2c))\n",
    "phrasedefault13_2d = r'(?:{})'.format('|'.join(termlist13_2d))\n",
    "phrasedefault13_2e = r'(?:{})'.format('|'.join(termlist13_2e))\n",
    "phrasedefault13_2f = r'(?:{})'.format('|'.join(termlist13_2f))"
   ]
  },
  {
   "cell_type": "code",
   "execution_count": null,
   "id": "867a8837-2899-4609-b3ea-a9d13959927b",
   "metadata": {
    "colab": {
     "base_uri": "https://localhost:8080/"
    },
    "id": "hHUJmOUUyBc8",
    "outputId": "75d96aae-c91f-463f-9ddc-d54ead1c6bdd"
   },
   "outputs": [],
   "source": [
    "#Search13_2cdef\n",
    "Data.loc[(\n",
    "    (Data['result_title'].str.contains(phrasedefault13_2c, na=False, case=False))\n",
    "    & (Data['result_title'].str.contains(phrasedefault13_2d, na=False, case=False))\n",
    "    & (Data['result_title'].str.contains(phrasedefault13_2e, na=False, case=False))\n",
    "    & (Data['result_title'].str.contains(phrasedefault13_2f, na=False, case=False))\n",
    "),\"tempsdg13_02\"] = \"SDG13_02\"\n",
    "\n",
    "print(\"Number of results = \", len(Data[(Data.tempsdg13_02 == \"SDG13_02\")]))  "
   ]
  },
  {
   "cell_type": "code",
   "execution_count": null,
   "id": "919fd47e-8fc3-44b9-88f7-af316c30a852",
   "metadata": {
    "colab": {
     "base_uri": "https://localhost:8080/",
     "height": 159
    },
    "id": "FXTKCPAXKYT2",
    "outputId": "98e2ea66-00da-4929-f9d3-37d31e994001"
   },
   "outputs": [],
   "source": [
    "test=Data.loc[(Data.tempsdg13_02 == \"SDG13_02\"), (\"result_id\", \"result_title\")]\n",
    "test.iloc[0:5, ]"
   ]
  },
  {
   "cell_type": "markdown",
   "id": "32d07cd1-085e-4926-b774-0498decbe666",
   "metadata": {
    "id": "cP7ftH2iRq7X"
   },
   "source": [
    "#### Phrase 3"
   ]
  },
  {
   "cell_type": "code",
   "execution_count": null,
   "id": "8ec96640-7cb1-4a08-8849-51cf7bfd3b5a",
   "metadata": {
    "id": "oYkbs5A-R-Xw"
   },
   "outputs": [],
   "source": [
    "# Term lists\n",
    "termlist13_2g = [\"Kyoto protocol\", \"kyoto\", \"Paris agreement\", \"cop 21\", \"cop21\", \"cop 22\", \"cop22\", \"cop 23\", \"cop23\",\n",
    "                 \"cop 24\", \"cop24\", \"cop 25\", \"cop25\", \"cop 26\", \"cop26\", \"cop 27\", \"cop27\", \"cop28\",\n",
    "                 \"unfccc\", \"United Nations Framework Convention on Climate Change\", \"Cancun\", \"adaptation framework\",\n",
    "                 \n",
    "                 \"kyotoprotokoll\", \"parisavtale\", \"paris-avtale\", \"parisavtala\", \"paris-avtala\", \"klimakonvensjon\"]\n",
    "\n",
    "termlist13_2gtrunk = [\"Paris\"]\n",
    "\n",
    "termlist13_2h = [\"national\", \"state\", \"federal\", \"domestic\", \"sectoral\", \"multi level\", \"multilevel\"\n",
    "                 \"nasjonal\", \"stat\", \"føderal\", \"delstat\", \"fylke\", \"innenlands\", \"innalands\", \"innanlands\", \"sektor\", \"kommune\"]\n",
    "\n",
    "termlist13_2i = [\"program\", \"strategy\", \"framework\", \"initiativ\", \"plan\", \"policy\", \"policies\", \"law\", \"legislat\", \"governance\", \"mandat\",\n",
    "                 \"nationally determined contribution\", \"adaptation communication\", \"monitoring and evaluation\", \"adaptation committee\",\n",
    "                 \n",
    "                 \"strategi\", \"rammeverk\", \"politikk\", \"retningslin\", \"lov\", \"lovgiv\", \"styring\", \"ledelse\", \"leiing\",\n",
    "                 \"nasjonalt fastsatt bidrag\", \"nasjonalt fastsatte bidrag\", \"tilpasningskommunikasjon\", \"komite\"]\n",
    "\n",
    "phrasedefault13_2g = r'(?:{})'.format('|'.join(termlist13_2g))\n",
    "phrasespecific13_2gtrunk = r'\\b(?:{})\\b'.format('|'.join(termlist13_2gtrunk))\n",
    "phrasedefault13_2h = r'(?:{})'.format('|'.join(termlist13_2h))\n",
    "phrasedefault13_2i = r'(?:{})'.format('|'.join(termlist13_2i))"
   ]
  },
  {
   "cell_type": "code",
   "execution_count": null,
   "id": "58cc411b-e454-40aa-bf33-fa340b65daab",
   "metadata": {
    "colab": {
     "base_uri": "https://localhost:8080/"
    },
    "id": "Z5MlXN3nwvxj",
    "outputId": "6cf1a44c-8727-4508-d69f-cb4f3d001cba"
   },
   "outputs": [],
   "source": [
    "#Search 13_2ghi\n",
    "Data.loc[(\n",
    "    (\n",
    "        (Data['result_title'].str.contains(phrasedefault13_2g, na=False, case=False))\n",
    "        |(Data['result_title'].str.contains(phrasespecific13_2gtrunk, na=False, case=False))\n",
    "    )\n",
    "    & ((Data['result_title'].str.contains(phrasedefault13_2h, na=False, case=False)) & (Data['result_title'].str.contains(phrasedefault13_2i, na=False, case=False)))\n",
    "),\"tempsdg13_02\"] = \"SDG13_02\"\n",
    "\n",
    "print(\"Number of results = \", len(Data[(Data.tempsdg13_02 == \"SDG13_02\")]))  "
   ]
  },
  {
   "cell_type": "code",
   "execution_count": null,
   "id": "466aee3b-b4a2-4384-a98d-3afa77b2f37b",
   "metadata": {
    "colab": {
     "base_uri": "https://localhost:8080/",
     "height": 1000
    },
    "id": "48svpoRYyT01",
    "outputId": "78c9f590-c8a4-4cf0-84db-c161af6ad572"
   },
   "outputs": [],
   "source": [
    "test=Data.loc[(Data.tempsdg13_02 == \"SDG13_02\"), (\"result_id\", \"result_title\")]\n",
    "test.iloc[0:5, ]"
   ]
  },
  {
   "cell_type": "markdown",
   "id": "64f93b27-39ff-4a47-93fa-80a24eadef84",
   "metadata": {
    "id": "xax0Sa60ndlS"
   },
   "source": [
    "### SDG 13.3\n",
    "\n",
    "13.3 Improve education, awareness-raising and human and institutional capacity on climate change mitigation, adaptation, impact reduction and early warning\n",
    "\n",
    "Styrkje evna enkeltpersonar og institusjonar har til å redusere klimagassutslepp, tilpasse seg til og redusere konsekvensane av klimaendringar og varsle tidleg, og dessutan styrkje utdanninga og bevisstgjeringa om dette."
   ]
  },
  {
   "cell_type": "code",
   "execution_count": null,
   "id": "5211d902-0d76-49a1-8fc8-bd840360ae49",
   "metadata": {
    "id": "Xi5OYrHpo0xI"
   },
   "outputs": [],
   "source": [
    "# Term lists\n",
    "termlist13_3a1 = [\"climate\", \"climatic change\", \"global warming\", \"sea level rise\", \"rising sea level\",\n",
    "                  \"klima\", \"global oppvarming\", \"havnivåstigning\"]\n",
    "\n",
    "termlist13_3b1 = [\"action\", \"mitigat\", \"adaptive capacity\", \"capacity to adapt\", \"resilien\", \"early warning\", \"warning system\", \n",
    "                  \"preparedness\", \"risk\", \"vulnerab\", \"awareness\",\n",
    "                  \"climate education\", \"climate sensitive education\", \"climate change education\", \"climate literacy\", \"solution\", \"problem\",\n",
    "\n",
    "                 \"handl\", \"mink\", \"demp\", \"reduser\", \"reduksjon\", \"tilpas\", \"takl\", \"klare\", \"greie\", \"fikse\", \"overkomme\", \"tidlig varsling\", \"tidleg varsling\", \"varslingssystem\",\n",
    "                 \"forbered\", \"førebu\", \"risik\", \"sårbar\", \"bevisst\", \"oppmerks\",\n",
    "                 \"klimautdann\", \"klimaopplær\", \"klimakomp\", \"løsning\", \"løysing\"]\n",
    "\n",
    "termlist13_3c1 = [\"reduc\", \"minimi\", \"decreas\", \"limit\", \"alleviat\",\n",
    "                 \"reduser\", \"reduksjon\", \"minimer\", \"mink\", \"grens\", \"lett\"]\n",
    "termlist13_3d1 = [\"impact\", \"effect\", \"consequence\",\n",
    "                 \"innflytelse\", \"innvirkning\", \"innverknad\", \"påvirk\", \"påverk\", \"betydning\", \"effekt\", \"konsekvens\", \"følge\", \"følgje\"]\n",
    "\n",
    "termlist13_3e1 = [\"sustainab\",\"adapt\", \"cope\", \"coping\",\n",
    "                 \"bærekraft\", \"berekraft\", \"tilpas\", \"takl\", \"klare\", \"greie\", \"fikse\", \"overkomme\"]\n",
    "\n",
    "termlist13_3f1 = [\"reduc\", \"minimi\", \"decreas\", \"limit\", \"alleviat\", \"lower\", \"mitigate\", \"tackl\", \"combat\", \"prevent\", \"stop\", \"avoid\", \"capture\", \"storage\", \"store\", \"storing\", \"sequestrat\",\n",
    "                 \"reduser\", \"reduksjon\", \"minimer\", \"mink\", \"grens\", \"lett\", \"takl\", \"klare\", \"greie\", \"fikse\", \"overkomme\", \"kjempe\", \"hindr\", \"stopp\", \"stogg\", \"unngå\", \"fang\", \"lagr\", \"isoler\", \"isolasjon\"]\n",
    "termlist13_3g1 = [\"GHG\", \"greenhouse gas\", \"carbon footprint\", \"CO2 footprint\", \"carbon emission\", \"CO2 emission\",\n",
    "                 \"drivhusgass\", \"klimagass\", \"karbonfotavtrykk\", \"karbonavtrykk\", \"karbonutsl\", \"karbondioksidutsl\", \"co2-utsl\"]\n",
    "termlist13_3h1 = [\"methane\", \"CH4\", \"nitrous oxide\", \"NOX\", \"N2O\", \"CO2\", \"carbon\", \"HFCs\", \"PFCs\", \"sulphur hexafluoride\", \"sulfur hexafluoride\", \"SF6\",\n",
    "                  \"metan\", \"nitrogenoksid\", \"karbon\", \"svovel\"]\n",
    "\n",
    "termlist13_3inot = [\"motivational climate\", \"organisational climate\", \"organizaional climate\", \"learning climate\", \"education climate\", \"emotional climate\", \"family climate\",\n",
    "                  \"motivasjonsklima\", \"organisasjonsklima\", \"arbeidsklima\", \"læringsklima\", \"følelsesmessig klima\", \"familieklima\"]\n",
    "\n",
    "phrasedefault13_3a1 = r'(?:{})'.format('|'.join(termlist13_3a1))\n",
    "phrasedefault13_3b1 = r'(?:{})'.format('|'.join(termlist13_3b1))\n",
    "phrasedefault13_3c1 = r'(?:{})'.format('|'.join(termlist13_3c1))\n",
    "phrasedefault13_3d1 = r'(?:{})'.format('|'.join(termlist13_3d1))\n",
    "phrasedefault13_3e1 = r'(?:{})'.format('|'.join(termlist13_3e1))\n",
    "phrasedefault13_3f1 = r'(?:{})'.format('|'.join(termlist13_3f1))\n",
    "phrasedefault13_3g1 = r'(?:{})'.format('|'.join(termlist13_3g1))\n",
    "phrasedefault13_3h1 = r'(?:{})'.format('|'.join(termlist13_3h1))\n",
    "phrasedefault13_3inot = r'(?:{})'.format('|'.join(termlist13_3inot))"
   ]
  },
  {
   "cell_type": "code",
   "execution_count": null,
   "id": "3294196c-110e-4b94-8a6f-16b96297ed15",
   "metadata": {
    "colab": {
     "base_uri": "https://localhost:8080/"
    },
    "id": "BB9v36VTqrSN",
    "outputId": "d9d77ea0-bef7-40a7-df45-67fc80ffa4bf"
   },
   "outputs": [],
   "source": [
    "## Search 13_3abcdefghi\n",
    "Data.loc[(\n",
    "    (\n",
    "        ( \n",
    "            (Data['result_title'].str.contains(phrasedefault13_3a1, na=False, case=False))\n",
    "            & \n",
    "            (\n",
    "                (Data['result_title'].str.contains(phrasedefault13_3b1, na=False, case=False))\n",
    "                |((Data['result_title'].str.contains(phrasedefault13_3c1, na=False, case=False)) & (Data['result_title'].str.contains(phrasedefault13_3d1, na=False, case=False)))\n",
    "            )\n",
    "        )\n",
    "        |((Data['result_title'].str.contains(phrasedefault13_3a1, na=False, case=False)) & (Data['result_title'].str.contains(phrasedefault13_3e1, na=False, case=False)))\n",
    "        |((Data['result_title'].str.contains(phrasedefault13_3f1, na=False, case=False)) & (Data['result_title'].str.contains(phrasedefault13_3g1, na=False, case=False)))\n",
    "        |\n",
    "        (\n",
    "            (Data['result_title'].str.contains(phrasedefault13_3a1, na=False, case=False))\n",
    "            & (Data['result_title'].str.contains(phrasedefault13_3f1, na=False, case=False))\n",
    "            & (Data['result_title'].str.contains(phrasedefault13_3h1, na=False, case=False))\n",
    "        )\n",
    "    )\n",
    "    & (~Data['result_title'].str.contains(phrasedefault13_3inot, na=False, case=False))\n",
    "),\"tempsdg13_03\"] = \"SDG13_03\"\n",
    "\n",
    "print(\"Number of results = \", len(Data[(Data.tempsdg13_03 == \"SDG13_03\")]))\n"
   ]
  },
  {
   "cell_type": "code",
   "execution_count": null,
   "id": "be148e2e-a623-43ec-89fa-c43ef326a0b3",
   "metadata": {
    "colab": {
     "base_uri": "https://localhost:8080/",
     "height": 1000
    },
    "id": "rxqYJvNyXXR5",
    "outputId": "9ace31ab-d164-475d-dde6-801da03c465d"
   },
   "outputs": [],
   "source": [
    "test=Data.loc[(Data.tempsdg13_03 == \"SDG13_03\"), (\"result_id\", \"result_title\")]\n",
    "test.iloc[0:25, ]"
   ]
  },
  {
   "cell_type": "markdown",
   "id": "d5d054e8-c137-466f-a46a-719b4d476b44",
   "metadata": {
    "id": "orL3PGk7oAm5"
   },
   "source": [
    "### SDG 13.a\n",
    "13.a Implement the commitment undertaken by developed-country parties to the United Nations Framework Convention on Climate Change to a goal of mobilizing jointly $100 billion annually by 2020 from all sources to address the needs of developing countries in the context of meaningful mitigation actions and transparency on implementation and fully operationalize the Green Climate Fund through its capitalization as soon as possible.\n",
    "\n",
    "Gjennomføre forpliktingane som dei utvikla landa som er part i FNs rammekonvensjon om klimaendring, har teke på seg for å nå målet om i fellesskap å skaffe 100 milliardar dollar per år innan 2020 frå alle kjelder for å dekkje det behovet utviklingslanda har for å innføre føremålstenlege klimatiltak og gjennomføre dei på ein open måte, og fullt ut operasjonalisere Det grøne klimafondet ved at fondet så snart som mogleg blir tilført kapital.\n",
    "\n",
    "#### Phrase 1"
   ]
  },
  {
   "cell_type": "code",
   "execution_count": null,
   "id": "490fc5c0-bbdd-4baf-9bda-0de4dd831e1e",
   "metadata": {},
   "outputs": [],
   "source": [
    "# term lists\n",
    "termlist13_1a = [\"green climate fund\", \"least developed countries fund\", \"LDCF\", \"special climate change fund\", \"SCCF\"\n",
    "                 \"grønt fond\", \"klimafond\",\n",
    "                 ]\n",
    "\n",
    "phrasedefault13_1a = r'(?:{})'.format('|'.join(termlist13_1a))"
   ]
  },
  {
   "cell_type": "code",
   "execution_count": null,
   "id": "47ca726e-9fa1-4bda-ae0f-90cacfa0a6cd",
   "metadata": {},
   "outputs": [],
   "source": [
    "# Search\n",
    "Data.loc[(\n",
    "    (Data['result_title'].str.contains(phrasedefault13_1a, na=False, case=False))\n",
    "),\"tempsdg13_a\"] = \"SDG13_0a\"\n",
    "\n",
    "print(\"Number of results = \", len(Data[(Data.tempsdg13_a == \"SDG13_0a\")]))"
   ]
  },
  {
   "cell_type": "code",
   "execution_count": null,
   "id": "a01cbbdf-a0f5-40b0-a87c-84360922dfd0",
   "metadata": {},
   "outputs": [],
   "source": [
    "test=Data.loc[(Data.tempsdg13_a == \"SDG13_0a\"), (\"result_id\", \"result_title\")]\n",
    "test.iloc[0:5, ]"
   ]
  },
  {
   "cell_type": "markdown",
   "id": "96e2067c-ac30-4ac0-8cac-3e5fefadf9e0",
   "metadata": {},
   "source": [
    "#### Phrase 2"
   ]
  },
  {
   "cell_type": "code",
   "execution_count": null,
   "id": "592ea42c-afe5-4c55-8def-b016892ac056",
   "metadata": {
    "id": "iu3h1tAuwHJG"
   },
   "outputs": [],
   "source": [
    "# Term lists\n",
    "termlist13_a2 = [\"transparency\", \"accountability\", \"governance\", \"allocation\", \"misallocation\", \"corruption\", \"operationali\", \"capitali,\", \"mobilis\", \"mobiliz\", \"contribut\",\n",
    "                \"commitment\", \"negotiation\", \"donor\", \"donation\", \"donate\",\n",
    "                \"transparen\", \"ansvarlig\", \"ansvarleg\", \"styring\", \"ledelse\", \"leiing\", \"korrupsjon\", \"muting\", \"bestikke\", \"tildel\", \"fordel\", \"utdel\", \"alloker\", \"operasjonaliser\", \"kapital\", \"mobiliser\", \"bidra\",\n",
    "                \"forplikt\", \"forhandl\", \"giver\", \"givar\", \"gjevar\", \"donasjon\", \"doner\"]\n",
    "\n",
    "termlist13_a3 = [\"financial mechanism\", \"finansiering\"]\n",
    "termlist13_a4 = [\"UNFCC\", \"convention\", \"konvensjon\"]\n",
    "\n",
    "termlist13_a5 = [\"climate financ\", \"climate aid\", \"climate loan\",  \"climate fund\", \"climate bond\", \"climate investment\", \"green climate fund\", \"Least Developed Countries Fund\",\n",
    "                \"LDCF\", \"Special Climate Change Fund\", \"SCCF\",\"adaptation fund\", \"adaptation financ\",\n",
    "                 \n",
    "                \"klimafinans\", \"klimahjelp\", \"klimastø\", \"klimalån\", \"klimafond\", \"klimaobligasjon\", \"klimainvesteringsfond\", \"grønt fond\", \"klimafond\", \"tilpasningsfond\", \"tilpassingsfond\",\n",
    "                \"tilpasningsfinans\", \"tilpassingsfinans\"]\n",
    "\n",
    "termlist13_a6 = [\"mitigat\", \"green\", \"climate\",\n",
    "                \"mink\", \"demp\", \"reduser\", \"reduksjon\", \"grøn\", \"klima\"]\n",
    "\n",
    "termlist13_a7 = [\"financ\", \"fund\", \"invest\",\n",
    "                \"finans\", \"fond\"]\n",
    "termlist13_a8 = [\"economic\", \"financial\", \"monetary\",\n",
    "                  \"økonomisk\", \"finans\", \"penge\"]\n",
    "termlist13_a9 = [\"support\", \"assist\", \"resource\",\n",
    "                  \"støtte\", \"stønad\", \"ressurs\"]\n",
    "termlist13_a10 = [\"ODA\", \"cooperation fund\", \"development spending\",\n",
    "                  \"samarbeidsfond\", \"bistandsutgift\", \"bistandsmid\"]\n",
    "termlist13_a11 = [\"international\", \"development\", \"foreign\",\n",
    "                  \"internasjonal\", \"utvikling\", \"bistand\", \"utenland\", \"utland\", \"utaland\"]\n",
    "termlist13_a12 = [\"aid\", \"assistance\", \"finance\", \"grant\", \"investment\",\n",
    "                  \"hjelp\", \"støtte\", \"stønad\", \"assistanse\", \"bistand\", \"finans\", \"bevilgning\", \"bevilling\", \"tilskudd\", \"tilskot\", \"invester\"]\n",
    "\n",
    "termlist13_a13 = [\"climate change\", \"global warming\", \"climate action\", \"climate mitigation\", \"climate adaptation\", \"climate financ\", \"climate aid\", \"climate loan\", \"climate fund\", \"climate bond\",\n",
    "                  \"green climate fund\", \"Least Developed Countries Fund\",\n",
    "                  \"LDCF\", \"Special Climate Change Fund\", \"SCCF\",\"adaptation fund\", \"adaptation financ\", \"low carbon\"\n",
    "                  \n",
    "                  \"klimaendr\", \"global oppvarming\", \"klimahandling\", \"klimatilpas\", \"klimafinans\", \"klimahjelp\", \"klimastø\", \"klimalån\", \"klimafond\", \"klimaobligasjon\", \"grønt fond\", \"klimafond\", \"tilpasningsfond\", \"tilpassingsfond\",\n",
    "                  \"tilpasningsfinans\", \"tilpassingsfinans\", \"lavkarbon\", \"lågkarbon\"]\n",
    "\n",
    "phrasedefault13_a2 = r'(?:{})'.format('|'.join(termlist13_a2))\n",
    "phrasedefault13_a3 = r'(?:{})'.format('|'.join(termlist13_a3))\n",
    "phrasedefault13_a4 = r'(?:{})'.format('|'.join(termlist13_a4))\n",
    "phrasedefault13_a5 = r'(?:{})'.format('|'.join(termlist13_a5))\n",
    "phrasedefault13_a6 = r'(?:{})'.format('|'.join(termlist13_a6))\n",
    "phrasedefault13_a7 = r'(?:{})'.format('|'.join(termlist13_a7))\n",
    "phrasedefault13_a8 = r'(?:{})'.format('|'.join(termlist13_a8))\n",
    "phrasedefault13_a9 = r'(?:{})'.format('|'.join(termlist13_a9))\n",
    "phrasedefault13_a10 = r'(?:{})'.format('|'.join(termlist13_a10))\n",
    "phrasedefault13_a11 = r'(?:{})'.format('|'.join(termlist13_a11))\n",
    "phrasedefault13_a12 = r'(?:{})'.format('|'.join(termlist13_a12))\n",
    "phrasedefault13_a13 = r'(?:{})'.format('|'.join(termlist13_a13))                                                                                   "
   ]
  },
  {
   "cell_type": "code",
   "execution_count": null,
   "id": "c18c404c-67f2-40c6-b304-e543e99d208e",
   "metadata": {
    "colab": {
     "base_uri": "https://localhost:8080/"
    },
    "id": "pii5_Q-3DYfm",
    "outputId": "d244aaee-a9cc-4d65-a919-02c5da18cc35"
   },
   "outputs": [],
   "source": [
    "# Search\n",
    "Data.loc[(\n",
    "    (\n",
    "        (\n",
    "            (Data['result_title'].str.contains(phrasedefault13_a2, na=False, case=False))\n",
    "            |((Data['result_title'].str.contains(phrasedefault13_a3, na=False, case=False)) & (Data['result_title'].str.contains(phrasedefault13_a4, na=False, case=False)))\n",
    "        )\n",
    "        &\n",
    "        (\n",
    "            (Data['result_title'].str.contains(phrasedefault13_a5, na=False, case=False))\n",
    "            |\n",
    "            (\n",
    "                (Data['result_title'].str.contains(phrasedefault13_a6 , na=False, case=False))\n",
    "                &\n",
    "                (\n",
    "                    (Data['result_title'].str.contains(phrasedefault13_a7 , na=False, case=False))\n",
    "                    |((Data['result_title'].str.contains(phrasedefault13_a8 , na=False, case=False)) & (Data['result_title'].str.contains(phrasedefault13_a9 , na=False, case=False)))\n",
    "                    |(Data['result_title'].str.contains(phrasedefault13_a10 , na=False, case=False))\n",
    "                    |((Data['result_title'].str.contains(phrasedefault13_a11 , na=False, case=False)) & (Data['result_title'].str.contains(phrasedefault13_a12, na=False, case=False)))\n",
    "                )\n",
    "            )\n",
    "        )\n",
    "    )\n",
    "    & ((Data['result_title'].str.contains(phrasedefault13_a13, na=False, case=False)))\n",
    "),\"tempsdg13_a\"] = \"SDG13_0a\"\n",
    "\n",
    "print(\"Number of results = \", len(Data[(Data.tempsdg13_a == \"SDG13_0a\")])) "
   ]
  },
  {
   "cell_type": "code",
   "execution_count": null,
   "id": "5e6df4b4-8f61-450c-b10d-6e26836d5c44",
   "metadata": {
    "colab": {
     "base_uri": "https://localhost:8080/",
     "height": 1000
    },
    "id": "rIolHXz643MV",
    "outputId": "2bfcb826-f7ba-41de-9759-558f0485617d"
   },
   "outputs": [],
   "source": [
    "test=Data.loc[(Data.tempsdg13_a == \"SDG13_0a\"), (\"result_id\", \"result_title\")]\n",
    "test.iloc[0:5, ]"
   ]
  },
  {
   "cell_type": "markdown",
   "id": "a54ae58c-92dd-4b13-a491-519d9b89bf75",
   "metadata": {},
   "source": [
    "#### Phrase 3"
   ]
  },
  {
   "cell_type": "code",
   "execution_count": null,
   "id": "3eba09c0-cf5b-46bc-bd0a-439a6899d6a9",
   "metadata": {},
   "outputs": [],
   "source": [
    "termlist13_a14 = [\"annex II party\", \"annex II parties\", \"developed contr\", \"developed nation\", \"oecd\"]\n",
    "\n",
    "phrasedefault13_a14 = r'(?:{})'.format('|'.join(termlist13_a14))"
   ]
  },
  {
   "cell_type": "code",
   "execution_count": null,
   "id": "9f8170ab-8a13-4fca-909d-3b6777ad82f9",
   "metadata": {
    "colab": {
     "base_uri": "https://localhost:8080/"
    },
    "id": "pii5_Q-3DYfm",
    "outputId": "d244aaee-a9cc-4d65-a919-02c5da18cc35"
   },
   "outputs": [],
   "source": [
    "# Search\n",
    "Data.loc[(\n",
    "    (\n",
    "        (\n",
    "            (Data['LMICs']==True)\n",
    "            |(Data['result_title'].str.contains(phrasedefault13_a14 , na=False, case=False))\n",
    "        )\n",
    "        &\n",
    "        (\n",
    "            (Data['result_title'].str.contains(phrasedefault13_a5, na=False, case=False))\n",
    "            |\n",
    "            (\n",
    "                (Data['result_title'].str.contains(phrasedefault13_a6 , na=False, case=False))\n",
    "                &\n",
    "                (\n",
    "                    (Data['result_title'].str.contains(phrasedefault13_a7 , na=False, case=False))\n",
    "                    |((Data['result_title'].str.contains(phrasedefault13_a8 , na=False, case=False)) & (Data['result_title'].str.contains(phrasedefault13_a9 , na=False, case=False)))\n",
    "                    |(Data['result_title'].str.contains(phrasedefault13_a10 , na=False, case=False))\n",
    "                    |((Data['result_title'].str.contains(phrasedefault13_a11 , na=False, case=False)) & (Data['result_title'].str.contains(phrasedefault13_a12, na=False, case=False)))\n",
    "                )\n",
    "            )\n",
    "        )\n",
    "    )\n",
    "    & ((Data['result_title'].str.contains(phrasedefault13_a13, na=False, case=False)))\n",
    "),\"tempsdg13_a\"] = \"SDG13_0a\"\n",
    "\n",
    "print(\"Number of results = \", len(Data[(Data.tempsdg13_a == \"SDG13_0a\")])) "
   ]
  },
  {
   "cell_type": "code",
   "execution_count": null,
   "id": "d1c8aed1-da49-4deb-b87b-25fa9e5576f4",
   "metadata": {
    "colab": {
     "base_uri": "https://localhost:8080/",
     "height": 1000
    },
    "id": "rIolHXz643MV",
    "outputId": "2bfcb826-f7ba-41de-9759-558f0485617d"
   },
   "outputs": [],
   "source": [
    "test=Data.loc[(Data.tempsdg13_a == \"SDG13_0a\"), (\"result_id\", \"result_title\")]\n",
    "test.iloc[0:5, ]"
   ]
  },
  {
   "cell_type": "markdown",
   "id": "75778711-42d5-4c43-acbf-b3168daa5bc9",
   "metadata": {
    "id": "iH-zoWxYoT2p"
   },
   "source": [
    "### SDG 13.b\n",
    "13.b Promote mechanisms for raising capacity for effective climate change-related planning and management in least developed countries and small island developing States, including focusing on women, youth and local and marginalized communities.\n",
    "\n",
    "Fremje mekanismar for å styrkje evna til effektiv klimarelatert planlegging og forvaltning i dei minst utvikla landa og små utviklingsøystatar, mellom anna med vekt på kvinner, ungdom og lokale og marginaliserte samfunn."
   ]
  },
  {
   "cell_type": "code",
   "execution_count": null,
   "id": "c4664eec-db67-4be5-8de3-f99881ac1b38",
   "metadata": {
    "id": "b2rxNf3jLs3b"
   },
   "outputs": [],
   "source": [
    "termlist13_b1 = [\"climate\",\n",
    "                 \"klima\"]\n",
    "termlist13_b2 = [\"strateg\", \"policy\", \"policies\", \"plan\", \"management\", \"adaptation communication\",\n",
    "                 \"politikk\", \"retningslin\", \"ledelse\", \"leiing\", \"styring\", \"tilpasningskommunikasjon\", \"tilpassingskommunikasjon\"]\n",
    "\n",
    "termlist13_b3 = [\"nationally determined contribution\", \"green climate fund\", \"least developed countries fund\", \"LDCF\", \"special climate change fund\", \"sccf\", \"adaptation fund\", \"adaptation financ\",\n",
    "                 \"nasjonalt fastsatt bidrag\", \"nasjonalt fastsatte bidrag\", \"klimafond\"]\n",
    "\n",
    "termlist13_b4 = [\"capacity\", \"capabilit\", \"educat\", \"curriculum\", \"curricula\", \"teacher training\", \"climate literacy\", \"research\", \"knowledge\", \"skills\",\n",
    "                 \"tools\", \"competenc\", \"expertise\", \"training\", \"awareness\", \"responsibilit\", \"infrastructure\", \"technolog\", \"early warning system\",\n",
    "                 \"communication\", \"collaboration\", \"cooperation\", \"co operation\", \"social network\", \"information network\",\n",
    "                 \"economic resources\", \"financial resources\", \"human resource\",\n",
    "\n",
    "                 \"kapasitet\", \"evne\", \"utdann\", \"opplær\", \"pensum\", \"læreplan\", \"fagplan\", \"emneplan\", \"studieplan\", \"lærerutdann\", \"lærarutdann\", \"klimakompetanse\", \"forskning\", \"forsking\", \"kunnskap\", \"ferdighet\", \"ferdigheit\",\n",
    "                 \"verktøy\", \"kompetanse\", \"ekspertise\", \"bevisst\", \"medvett\", \"medvit\", \"ansvar\", \"infrastruktur\", \"teknolog\", \"tidlig varsling\", \"tidleg varsling\", \"varslingssystem\",\n",
    "                 \"kommunikasjon\", \"samarbeid\", \"sosiale nettverk\", \"informasjonsnettverk\",\n",
    "                 \"økonomiske ressurs\", \"finansielle ressurs\", \"menneskelige ressurser\", \"menneskelege ressursar\"]\n",
    "\n",
    "termlist13_b5 = [\"institutional\", \"administrativ\", \"policy\", \"governance\",\n",
    "                 \"institusjonell\", \"politikk\", \"retningslin\", \"ledelse\", \"leiing\", \"styring\"]\n",
    "termlist13_b6 = [\"structure\", \"values\", \"practices\", \"arrangement\", \"resources\",\n",
    "                 \"struktur\", \"verdi\", \"praksis\", \"ressurs\"]\n",
    "\n",
    "termlist13_b7 = [\"climate\", \"global warming\", \"climatic change\", \"sea level rise\",\n",
    "                 \"klima\", \"global oppvarming\", \"havnivåstigning\" ]\n",
    "\n",
    "termlist13_b8 = [\"action\", \"sustainab\", \"mitigat\", \"adapt\", \"cope\", \"coping\", \"resilience\", \"early warning\", \"warning system\", \"preparedness\", \"risks\", \"vulnerab\", \"awareness\",\n",
    "                 \"climate education\", \"climate sensitive education\", \"climate change education\", \"climate literacy\", \"solutions\", \"problem\", \"manag\",\n",
    "                 \n",
    "                 \"handl\", \"bærekraft\", \"berekraft\", \"mink\", \"demp\", \"reduser\", \"reduksjon\", \"tilpas\", \"takl\", \"klare\", \"greie\", \"fikse\", \"overkomme\",\"tidlig varsling\", \"tidleg varsling\",\n",
    "                 \"varslingssystem\", \"forbered\", \"førebu\", \"risik\", \"sårbar\", \"bevisst\", \"medvit\", \"medvett\", \"klimautdann\", \"klimakompet\", \"løsning\", \"løysing\", \"styring\", \"lede\", \"leie\", \"leiing\"\n",
    "                ]\n",
    "\n",
    "phrasedefault13_b1 = r'(?:{})'.format('|'.join(termlist13_b1))\n",
    "phrasedefault13_b2 = r'(?:{})'.format('|'.join(termlist13_b2))\n",
    "phrasedefault13_b3 = r'(?:{})'.format('|'.join(termlist13_b3))\n",
    "phrasedefault13_b4 = r'(?:{})'.format('|'.join(termlist13_b4))\n",
    "phrasedefault13_b5 = r'(?:{})'.format('|'.join(termlist13_b5))\n",
    "phrasedefault13_b6 = r'(?:{})'.format('|'.join(termlist13_b6))\n",
    "phrasedefault13_b7 = r'(?:{})'.format('|'.join(termlist13_b7))\n",
    "phrasedefault13_b8 = r'(?:{})'.format('|'.join(termlist13_b8))"
   ]
  },
  {
   "cell_type": "code",
   "execution_count": null,
   "id": "e84e3391-6935-4646-9d1f-fc880ede0631",
   "metadata": {},
   "outputs": [],
   "source": [
    "# Search in LDCs and SIDS\n",
    "Data.loc[(\n",
    "    (\n",
    "        (\n",
    "            ((Data['result_title'].str.contains(phrasedefault13_b1, na=False, case=False)) & (Data['result_title'].str.contains(phrasedefault13_b2, na=False, case=False)))\n",
    "            |(Data['result_title'].str.contains(phrasedefault13_b3, na=False, case=False))\n",
    "        )\n",
    "        |\n",
    "        (\n",
    "            (\n",
    "                (Data['result_title'].str.contains(phrasedefault13_b4, na=False, case=False))\n",
    "                |((Data['result_title'].str.contains(phrasedefault13_b5, na=False, case=False)) & (Data['result_title'].str.contains(phrasedefault13_b6, na=False, case=False)))\n",
    "            )\n",
    "            & ((Data['result_title'].str.contains(phrasedefault13_b7, na=False, case=False)) & (Data['result_title'].str.contains(phrasedefault13_b8, na=False, case=False)))\n",
    "        )\n",
    "    )\n",
    "    & (Data['LDCSIDS']==True)\n",
    "),\"tempsdg13_b\"] = \"SDG13_b\"\n",
    "\n",
    "print(\"Number of results = \", len(Data[(Data.tempsdg13_b == \"SDG13_b\")]))"
   ]
  },
  {
   "cell_type": "code",
   "execution_count": null,
   "id": "96f774eb-6127-4f92-a48f-5e50bf2d33f9",
   "metadata": {
    "colab": {
     "base_uri": "https://localhost:8080/",
     "height": 1000
    },
    "id": "Qw73MAdjZdKz",
    "outputId": "123b0e68-2daf-4204-ea26-2ff78784f469"
   },
   "outputs": [],
   "source": [
    "test=Data.loc[(Data.tempsdg13_b == \"SDG13_b\"), (\"result_id\", \"result_title\")]\n",
    "test.iloc[0:5, ]"
   ]
  },
  {
   "cell_type": "markdown",
   "id": "f826c94b-3f04-4856-95dc-d90768032774",
   "metadata": {
    "id": "rceuEa9AeIvL"
   },
   "source": [
    "### SDG 13 mentions\n"
   ]
  },
  {
   "cell_type": "code",
   "execution_count": null,
   "id": "d52f29df-10d0-4b8f-a41a-6dff47cc2be6",
   "metadata": {
    "id": "R8jNR8A7ei8M"
   },
   "outputs": [],
   "source": [
    "# Term lists\n",
    "termlist13_1 = [\"SDG 13\", \"SDGs 13\", \"SDG13\", \"sustainable development goal 13\",\n",
    "                \"bærekraftsmål 13\", \"berekraftsmål 13\"]\n",
    "termlist13_2 = [\"sustainable development goal\", \n",
    "                \"bærekraftsmål\", \"berekraftsmål\"]\n",
    "termlist13_3 = [\"goal 13\", \n",
    "                \"mål 13\"]\n",
    "termlist13_4 = [\"sustainable development goal\", \"SDG\", \"goal 13\", \n",
    "                \"bærekraftsmål\", \"berekraftsmål\", \"mål 13\"]\n",
    "termlist13_5 = [\"climate\", \n",
    "                \"klima\"]\n",
    "termlist13_6 = [\"climate action\", \n",
    "                \"stoppe klimaendringene\", \"stoppe klimaendringane\"]\n",
    "\n",
    "phrasedefault13_1 = r'(?:{})'.format('|'.join(termlist13_1))\n",
    "phrasedefault13_2 = r'(?:{})'.format('|'.join(termlist13_2))\n",
    "phrasedefault13_3 = r'(?:{})'.format('|'.join(termlist13_3))\n",
    "phrasedefault13_4 = r'(?:{})'.format('|'.join(termlist13_4))\n",
    "phrasedefault13_5 = r'(?:{})'.format('|'.join(termlist13_5)) \n",
    "phrasedefault13_6 = r'(?:{})'.format('|'.join(termlist13_6))     "
   ]
  },
  {
   "cell_type": "code",
   "execution_count": null,
   "id": "deb15a1b-50d5-4954-a92f-3610ed584030",
   "metadata": {
    "colab": {
     "base_uri": "https://localhost:8080/"
    },
    "id": "DuKzuDijiGRG",
    "outputId": "318fe646-05d5-405f-cda3-9c44597b2c2f"
   },
   "outputs": [],
   "source": [
    "## Search 13_123456\n",
    "Data.loc[(\n",
    "    (Data['result_title'].str.contains(phrasedefault13_1, na=False, case=False))\n",
    "    |((Data['result_title'].str.contains(phrasedefault13_2, na=False, case=False)) & (Data['result_title'].str.contains(phrasedefault13_3, na=False, case=False))) \n",
    "    |((Data['result_title'].str.contains(phrasedefault13_4, na=False, case=False)) & (Data['result_title'].str.contains(phrasedefault13_5, na=False, case=False)))\n",
    "    |(Data['result_title'].str.contains(phrasedefault13_6, na=False, case=False))\n",
    "),\"tempmentionsdg13\"] = \"SDG13\"\n",
    "\n",
    "print(\"Number of results = \", len(Data[(Data.tempmentionsdg13 == \"SDG13\")]))"
   ]
  },
  {
   "cell_type": "code",
   "execution_count": null,
   "id": "02ad1356-faa6-4c59-b7ba-ac3dd89c080f",
   "metadata": {
    "colab": {
     "base_uri": "https://localhost:8080/",
     "height": 1000
    },
    "id": "QLR3dkPnjR7P",
    "outputId": "2a22b69b-1193-409f-f642-e1b7b09dd523"
   },
   "outputs": [],
   "source": [
    "test=Data.loc[(Data.tempmentionsdg13 == \"SDG13\"), (\"result_id\", \"result_title\")]\n",
    "test.iloc[5:10, ]"
   ]
  },
  {
   "cell_type": "markdown",
   "id": "64fb19f6-8166-43f0-9f01-87e38a1df610",
   "metadata": {
    "id": "XlCmOYBwniZB"
   },
   "source": [
    "## SDG 14\n",
    "\n",
    "Webpages about SDG targets from the UN Association of Norway were used to get target translations and to help with Norwegian terms (https://www.fn.no/om-fn/fns-baerekraftsmaal/livet-i-havet).\n",
    "\n",
    "We have also used \"Realfagstermer\", a controlled vocabulary for English and Norwegian scientific terms from the University of Oslo and University of Bergen - https://app.uio.no/ub/emnesok/realfagstermer/search\n",
    "\n",
    "A website with Norwegian and English names for international environmental agreements from the Norwegian Environment Agency was used to help translate international agreement/convention names (https://www.miljodirektoratet.no/regelverk/konvensjoner/; accessed 24/01/23)"
   ]
  },
  {
   "cell_type": "markdown",
   "id": "30b8866c-b858-487f-b3fa-bd548cc201c4",
   "metadata": {
    "id": "tt-Bv9BcnnUQ"
   },
   "source": [
    "### Marine terms\n",
    "\n",
    "Used together with most (but not all) targets to try and limit the results to the marine environment. Done by creating a T/F column (\"marine_terms\") that can be combined with other searches. T = contains a word indicating it is about the marine environment. "
   ]
  },
  {
   "cell_type": "code",
   "execution_count": null,
   "id": "dfea033b-c898-4635-9703-20707d81bc9c",
   "metadata": {
    "id": "J1OyLMbMnhye"
   },
   "outputs": [],
   "source": [
    "#Term lists\n",
    "\n",
    "termlist14_marine1 = [\"marine\", \"mariculture\", \"barents sea\", \"norwegian sea\",\n",
    "                     \"seabed\", \"seafloor\", \"seamount\", \"hydrothermal vent\", \"cold seep\", \"continental shelf\", \"continental shelves\", \"continental slope\", \n",
    "                     \"subtidal\", \"intertidal\", \"deep sea\", \"bathyal\", \"abyssal\",\n",
    "                     \"rocky shore\", \"beach\", \"salt marsh\", \"mud flat\", \"mudflat\", \"tidal flat\",\n",
    "                     \"estuar\", \"fjord\", \n",
    "                     \"sea ice\",\n",
    "                     \"sea life\", \"sealife\", \"mangrove\", \"kelp bed\", \"kelp forest\", \"seagrass\", \"seaweed\", \"macroalga\", \n",
    "                     \"sponge ground\", \"organic fall\", \"reef\", \n",
    "                     \"coastal communit\", \"coastal zone management\",\n",
    "                     \"offshore\",\n",
    "                      \n",
    "                      \"sjøområd\", \"havområd\", \"havbruk\", \"havforsuring\", \"Skagerrak\", \n",
    "                      \"sjøbunn\", \"sjøbotn\", \"havbunn\", \"havbotn\", \"sjøfjell\", \"hydrotermisk skorstein\", \"hydrotermiske skorstein\", \"hydrotermisk ventil\", \"midhavsrygg\", \"kontinentalskråning\", \"kontinentalhylle\",\n",
    "                      \"submarin\", \"fjære\", \"fjøre\", \"tidevann\", \"tidevatn\", \"havdyp\", \"havdjup\", \"dyphav\", \"djuphav\", \n",
    "                      \"sandstrand\", \"strandeng\", \"saltmarsk\", \"saltvannssump\",\n",
    "                      \"havis\", \"sjødyr\", \"sjøgress\", \"sjøgras\", \"korall\", \n",
    "                      \"kystsamfunn\", \"kystson\",\n",
    "                      \"utaskjærs\",\n",
    "                      \"skipsfart\"]\n",
    "                     #Difficult because \"Fjære\"(NO) is also a local municipality\n",
    "                     #\"tidevann\"(NO) will cover several other terms, like tidevannssonen\n",
    "                     #\"skipsfart\"(NO) was added here as in Norwegian it is likely to be used in a marine context. In English, \"ship\" is combined with other terms.\n",
    "                     #In Norwegian I have added \"havbruk\"(NO) as this is aquaculture specifically in the sea, and \"havforsuring\"(NO) (as \"hav\" is difficult to use alone). \n",
    "                     #Also relevant geographic areas (e.g. Skagerrak), but some will be found by \"havet\"(NO) below (e.g. Barentshavet).\n",
    "\n",
    "termlist14_marine2 = [\"ocean\", \"oceans\", \"oceanogra.*\", \"seas\", \n",
    "                      \"marin\", \"oseanografi.*\", \"hav\", \"havet\", \"verdenshav\", \"sjø\", \"sjøen\", \"tang\", \"tare\"]\n",
    "                      #\"marin\"(EN&NO), \"tang\" (NO), \"tare\"(NO) are added here instead of untruncated in termlist_marine1 because it is part of other words (e.g. marinate)\n",
    "\n",
    "termlist14_marine3 = [\"sea\", \"coast\", \"coastal\", \"tidal\",\n",
    "                      \"sjø.*\", \"kyst.*\", \"tideva.*\"]\n",
    "                      #\"tideva\"(NO) covers both tidevatn and tidevann while excluding \"tide\"\n",
    "\n",
    "termlist14_marine4 = [\"habitat\", \"ecosystem\", \"dune\", \"wetland\", \"marsh\", \"bay\", \"lagoon\", \"gulf\", \"water\", \"current\", \"pelagi\",\n",
    "                     \"fish\", \"shrimp\", \"shellfish\", \"aquacultur\",\n",
    "                      \"harbour\", \"harbor\", \"port\", \"maritim\", \"ship\",\n",
    "\n",
    "                      \"leveområd\", \"økosystem\", \"våtmark\", \"sumpmark\", \"viker\", \"bukter\", \"strøm\",\n",
    "                      \"fisk\", \"akvakultur\", \n",
    "                      \"havn\", \"båt\", \"elvemunn\"] \n",
    "                     #In the original string, \"sea\" and \"coast\" etc. were combined with this set to remove noise (i.e. coastal cities)\n",
    "                     #However, in a title search, I think we lose more relevant than we get noise, so I do not combine with this set.\n",
    "                        #\"elvemunn\"(NO) is moved here as used with rivers into lakes also\n",
    "                        #\"maritim\", \"pelagi\" cover both the Norwegian and English terms\n",
    "                        #\"bay\" and \"ship\" are potentially problematic with free truncation, but combined with the terms in marine3 don't seem to cause issues\n",
    "\n",
    "termlist14_marine5 = [\"marine\", \"ocean\", \"oceans\", \"oceanogra.*\", \"estuar.*\", \"deep sea\", \"sea\", \n",
    "                      \"havforsk.*\", \"havbruk.*\"] \n",
    "                      #Journal titles\n",
    "                      #Using \"hav\"(NO) alone is difficult, even with no truncation, because in Norwegian it is so often in combined words\n",
    "\n",
    "phrasedefault14_marine1 = r'(?:{})'.format('|'.join(termlist14_marine1))\n",
    "phrasespecific14_marine2 = r'\\b(?:{})\\b'.format('|'.join(termlist14_marine2))\n",
    "phrasespecific14_marine3 = r'\\b(?:{})\\b'.format('|'.join(termlist14_marine3))\n",
    "phrasedefault14_marine4 = r'(?:{})'.format('|'.join(termlist14_marine4))\n",
    "phrasespecific14_marine5 = r'\\b(?:{})\\b'.format('|'.join(termlist14_marine5))"
   ]
  },
  {
   "cell_type": "code",
   "execution_count": null,
   "id": "e1e568cb-ac7c-4cf9-9b05-f1a39668f833",
   "metadata": {},
   "outputs": [],
   "source": [
    "Data[\"marine_terms\"] = (\n",
    "    (Data['result_title'].str.contains(phrasedefault14_marine1, na=False, case=False))\n",
    "    |(Data['result_title'].str.contains(phrasespecific14_marine2, na=False, case=False))\n",
    "    | (Data['result_title'].str.contains(phrasespecific14_marine3, na=False, case=False)) #& (Data['result_title'].str.contains(phrasedefault14_marine4, na=False, case=False)))\n",
    "    | (Data['journal'].str.contains(phrasespecific14_marine5, na=False, case=False))\n",
    "    )\n",
    "#In the original string, \"sea\" and \"coast\" etc. were combined with this set to remove noise (i.e. coastal cities)\n",
    "#However, in a title search, we seem to lose more relevant than we get noise, so we do not combine with this set (commented out above).\n",
    "\n",
    "len(Data.loc[Data['marine_terms']])"
   ]
  },
  {
   "cell_type": "code",
   "execution_count": null,
   "id": "8eb022ab-1b64-47d4-a818-558acce56fb2",
   "metadata": {
    "colab": {
     "base_uri": "https://localhost:8080/",
     "height": 685
    },
    "id": "Ixopkv8nppSs",
    "outputId": "16eeb653-6f7b-41f7-ed5a-3a196658e070"
   },
   "outputs": [],
   "source": [
    "#Results\n",
    "test=Data.loc[Data['marine_terms']]\n",
    "test.iloc[0:10, [0,4,5,6,8]]"
   ]
  },
  {
   "cell_type": "markdown",
   "id": "801b40cf-7382-423c-bf20-377e8f7da7ab",
   "metadata": {
    "id": "28QC5YCmq6wD"
   },
   "source": [
    "### SDG 14.1\n",
    "\n",
    "*14.1 By 2025, prevent and significantly reduce marine pollution of all kinds, in particular from land-based activities, including marine debris and nutrient pollution*\n",
    "\n",
    "*Innen 2025 forhindre og i betydelig grad redusere alle former for havforurensning, særlig fra landbasert virksomhet, inkludert marin forsøpling og utslipp av næringssalter*\n",
    "\n",
    "#### Phrase 1/2/3"
   ]
  },
  {
   "cell_type": "code",
   "execution_count": null,
   "id": "6a98511e-c105-447e-b83b-e3e698db5ac6",
   "metadata": {
    "id": "Ub1aKSj8q6wF"
   },
   "outputs": [],
   "source": [
    "#Termlists\n",
    "termlist14_1a = [\"pollut\", \n",
    "                 \"sewage\",\"sewer\", \"eutrophicat\",\"excess nutrient\",\"excessive nutrient\",\"effluent\",\"runoff\",\"waste\",\"discharge\",\n",
    "                 \"littering\",\"garbage patch\",\"debris\",\n",
    "                 \"microplastic\",\"micro plastic\",\"nanoplastic\",\"nano plastic\",\"plastic waste\",\"plastic particles\",\n",
    "                 \"heavy metal\",\"toxic metal\",\"mercury\",\"arsenic\",\"cadmium\",\"chromium\",\"copper\",\"nickel\",\n",
    "                 \"organotin\",\"tributyltin\",\"TBT\",\"mining\",\"mine tailing\",\n",
    "                 \"contaminant\",\"bioaccumula\",\"bioconcentrat\",\"ecotox\",\"toxic chemical\",\n",
    "                 \"endocrine disrupting chemical\", \"persistent organic pollutant\",\"pesticid\",\"herbicide\",\n",
    "                 \"polychlorinated biphenyl\",\"hexachlorocyclohexane\",\"hexachlorobenzene\",\"hexachlorobutadiene\",\n",
    "                 \"pentachlorobenzene\",\"pentachlorophenol\",\"pentachloroanisole\",\"hexabromocyclododecane\",\n",
    "                 \"polybrominated diphenyl ether\",\"perflurochemicals\",\"PFAS\",\"endosulfan\", \"polycyclic aromatic hydrocarbon\",\n",
    "                 \"oil spill\", \"crude oil\",\n",
    "\n",
    "                 \"forurens\", \"forurein\",\n",
    "                 \"utslipp\", \"kloakk\", \"eutrofier\", \"overgjødsling\", \"overflatevann\", \"overflatevatn\", \"avrenning\", \"næringssalt\",\n",
    "                 \"søppel\", \"avfall\", #\"farlig avfall\", \"kjemikalieavfall\", \"radioaktivt avfall\", \n",
    "                 \"mikroplast\", \"plastpartik\", #\"plastavfall\",\n",
    "                 \"tungmetall\", \"kvikksølv\", \"kadmium\", \"kobber\", \"nikkel\", \"arsenikk\",\n",
    "                 \"tinnorganiske\", \"organiske tinnforbindelse\", #\"gruveavfall\",\n",
    "                 \"bioakkumuler\", \"miljøtoksikologi\",\n",
    "                 \"miljøgift\", \"hormonforstyr\", \"insektmiddel\", \"insektmidler\", \"plantevernmid\",\n",
    "                 \"oljesøl\", \"oljeutslipp\"]\n",
    "                 #Can add \"wastewater\",\"waste water\" back again if \"waste\" is too general alone\n",
    "                 #\"pesticid\" will find Norwegian-ifications of this word.\n",
    "                 #\"avfall\" (NO), after testing, is ok to use alone, thus the specific terms are commented out above.\n",
    "\n",
    "termlist14_1b_case = [\"PCB\",\"DDT\",\"PAH\"] \n",
    "\n",
    "termlist14_1c = [\"litter\", \n",
    "                 \"bly\", \"arsen\", \"krom\", \"tinn\", \"plast\"]\n",
    "                 #\"Litter\" needs specific truncation because it is part of \"litteratur\" in Norwegian\n",
    "                 #These Norwegian heavy metals are short words and need to prevent truncation\n",
    "\n",
    "termlist14_1d = [\"oil\", \"lead\",\n",
    "                 \"olje\", \"kjemikal.*\"]\n",
    "\n",
    "termlist14_1e = [\"contamina\", \"toksis\"]\n",
    "\n",
    "termlist14_1not = [\"PM2.5\",\"PM10\",\"leaf litter\"] \n",
    "\n",
    "phrasedefault14_1a = r'(?:{})'.format('|'.join(termlist14_1a))\n",
    "phrasedefault14_1b_case = r'(?:{})'.format('|'.join(termlist14_1b_case))\n",
    "phrasespecific14_1c = r'\\b(?:{})\\b'.format('|'.join(termlist14_1c))\n",
    "phrasespecific14_1d = r'\\b(?:{})\\b'.format('|'.join(termlist14_1d))\n",
    "phrasedefault14_1e = r'(?:{})'.format('|'.join(termlist14_1e))\n",
    "phrasedefault14_1not = r'(?:{})'.format('|'.join(termlist14_1not))"
   ]
  },
  {
   "cell_type": "code",
   "execution_count": null,
   "id": "77023420-5d7d-44bb-8a10-d75564bfd2db",
   "metadata": {
    "colab": {
     "base_uri": "https://localhost:8080/"
    },
    "id": "WSUKPLNFq6wH",
    "outputId": "8ed3492e-0b2a-460b-dd62-052c88355abd"
   },
   "outputs": [],
   "source": [
    "#Search \n",
    "Data.loc[(\n",
    "    (\n",
    "        (\n",
    "            (Data['result_title'].str.contains(phrasedefault14_1a, na=False, case=False))\n",
    "            | (Data['result_title'].str.contains(phrasedefault14_1b_case, na=False, case=True)) #case = True\n",
    "            | (Data['result_title'].str.contains(phrasespecific14_1c, na=False, case=False))\n",
    "            | ((Data['result_title'].str.contains(phrasespecific14_1d, na=False, case=False)) & (Data['result_title'].str.contains(phrasedefault14_1e, na=False, case=False)))\n",
    "        )\n",
    "        & (~Data['result_title'].str.contains(phrasedefault14_1not, na=False, case=False))\n",
    "    ) & (Data['marine_terms']==True)\n",
    "),\"tempsdg14_01\"] = \"SDG14_01\"\n",
    "\n",
    "print(\"Number of results = \", len(Data[(Data.tempsdg14_01 == \"SDG14_01\")]))"
   ]
  },
  {
   "cell_type": "code",
   "execution_count": null,
   "id": "cfc57cf3-5686-49a0-863a-d1f1de04d9ba",
   "metadata": {
    "colab": {
     "base_uri": "https://localhost:8080/",
     "height": 1000
    },
    "id": "pBrbRX_Lm1Dh",
    "outputId": "2aa4b7be-48ff-4496-fc10-e3da1e029bb5"
   },
   "outputs": [],
   "source": [
    "test=Data.loc[(Data.tempsdg14_01 == \"SDG14_01\"), (\"result_id\", \"result_title\")]\n",
    "test.iloc[0:5, ]"
   ]
  },
  {
   "cell_type": "markdown",
   "id": "c1887a25-fd95-4051-8479-6e3fc17a8799",
   "metadata": {
    "id": "TpEselsSq3ps"
   },
   "source": [
    "### SDG 14.2\n",
    "\n",
    "*14.2 By 2020, sustainably manage and protect marine and coastal ecosystems to avoid significant adverse impacts, including by strengthening their resilience, and take action for their restoration in order to achieve healthy and productive oceans*\n",
    "\n",
    "*Innen 2020 forvalte og beskytte økosystemene i havet og langs kysten på en bærekraftig måte for å unngå betydelig skadevirkninger, blant annet ved å styrke økosystemenes motstandsevne og ved å iverksette tiltak for å gjenoppbygge dem, slik at havene kan bli sunne og produktive*"
   ]
  },
  {
   "cell_type": "markdown",
   "id": "98909431-0d73-47d1-87e9-7373a28a7a27",
   "metadata": {
    "id": "3jCL_GZ0g5Y3"
   },
   "source": [
    "#### Phrase 1/2"
   ]
  },
  {
   "cell_type": "code",
   "execution_count": null,
   "id": "a0243132-938a-449b-81ad-f54ef4a42e78",
   "metadata": {
    "id": "70OcZ_OWvoLX"
   },
   "outputs": [],
   "source": [
    "#Termlists\n",
    "termlist14_2a = [\"marine reserve\", \"ocean reserve\", \"marine sanctuar\", \"marine park\", \"particularly sensitive sea area\",\"marine conservation\",\n",
    "                 \"marine spatial planning\",\n",
    "                 \"coastal zone management\",\"integrated coastal zone planning\",\"coastal resources management\",\n",
    "                 \"locally managed marine area\",\n",
    "\n",
    "                 \"marint vernområde\",\"marine vernområde\",\"marine verneområde\",\"marine reservat\",\"marint vern\",\n",
    "                 \"integrert kystsone\", \"kystplanlegging\", \"kystsoneforvaltning\"]\n",
    "termlist_14_2acase = [\"LMMA.*\", \"NTMR\",\"ICZM\", \"LSMPA.*\", \"MPA\", \"MPAs\"] #can search case sensitive\n",
    "            \n",
    "#Above are terms that are specific to the marine environment\n",
    "#In the rest of the term lists, the terms need combining with marine terms\n",
    "\n",
    "termlist14_2b = [\"nature reserve\", \n",
    "                 \"spatial management\", \"community based management\",\"resilience based management\",\n",
    "                 \"herbivore management area\", \n",
    "                 \"ecosystem-based\", \"area-based manag\", \"area-based approach\",\n",
    "                 \"sustainable management\", \"sustainable governance\",\n",
    "                 \"no-take area\", \"no-take zone\", \"no-take reserve\",\n",
    "\n",
    "                 \"naturreservat\", \"biotopvernområde\", \"nasjonalpark\", \"bevarte område\", \"bevart område\", \"bevaringsområde\",\n",
    "                 \"økosystembasert forvaltning\", \"økosystemtilnærming\", \"økosystembasert styring\", \"forvaltningsplaner\",\n",
    "                 \"samfunnsforvalt\", \"bærekraftig forvalt\", \"berekraftig forvalt\", \"arealforvalt\", \"bærekraftig ledelse\", \"berekraftig leiing\",\n",
    "                 \"fiskeforbud\", \"fiskevernsone\"]\n",
    "\n",
    "termlist14_2c = [\"protect\",\"conserve\",\"conservation\",\"conserves\",\"conserving\",\n",
    "                \"vernet\", \"verne\", \"verna\", \"vern av\", \"bevare\", \"bevaring\", \"frede\", \"freda\", \"fredning\", \"beskytt\" ]\n",
    "\n",
    "termlist14_2d = [\"area\", \"zone\", \"habitat\",\"ecosystem\",\n",
    "                \"område\", \"sone\", \"miljø\", \"leveområd\", \"økosystem\"]\n",
    "\n",
    "termlist14_2not = [\"Marine Predator Algorithm\"] \n",
    "#This term can cause an issue if you run a search for \"MPA\" in titles - but not using \"MPA\" loses relevant results. \n",
    "# In abstracts/longer texts it sometimes works better to drop \"MPA\" as they normally use the full term somewhere (\"protected areas\")\n",
    "\n",
    "phrasedefault14_2a = r'(?:{})'.format('|'.join(termlist14_2a))\n",
    "phrasespecific14_2acase = r'\\b(?:{})\\b'.format('|'.join(termlist_14_2acase))\n",
    "phrasedefault14_2b = r'(?:{})'.format('|'.join(termlist14_2b))\n",
    "phrasedefault14_2c = r'(?:{})'.format('|'.join(termlist14_2c))\n",
    "phrasedefault14_2d = r'(?:{})'.format('|'.join(termlist14_2d))\n",
    "phrasedefault14_2not = r'(?:{})'.format('|'.join(termlist14_2not))"
   ]
  },
  {
   "cell_type": "code",
   "execution_count": null,
   "id": "256491b0-3a0e-4eb2-bbcf-5aef46a5d094",
   "metadata": {
    "colab": {
     "base_uri": "https://localhost:8080/"
    },
    "id": "F1Xb_vc6voLZ",
    "outputId": "31944553-0420-411f-b885-ccc1384bccb9"
   },
   "outputs": [],
   "source": [
    "#Search 1\n",
    "Data.loc[(\n",
    "    (\n",
    "        (Data['result_title'].str.contains(phrasedefault14_2a, na=False, case=False)) \n",
    "        | (Data['result_title'].str.contains(phrasespecific14_2acase, na=False, case=True)) #case = True\n",
    "        | (Data['result_title'].str.contains(phrasedefault14_2b, na=False, case=False))\n",
    "        | ((Data['result_title'].str.contains(phrasedefault14_2c, na=False, case=False)) & (Data['result_title'].str.contains(phrasedefault14_2d, na=False, case=False)))\n",
    "    )\n",
    "    &(Data['marine_terms']==True)\n",
    "    &~(Data['result_title'].str.contains(phrasedefault14_2not, na=False, case=True))\n",
    "),\"tempsdg14_02\"] = \"SDG14_02\"\n",
    "\n",
    "print(\"Number of results = \", len(Data.loc[(Data.tempsdg14_02 == \"SDG14_02\")]))  "
   ]
  },
  {
   "cell_type": "code",
   "execution_count": null,
   "id": "07e4e3e2-a17a-4f87-ac94-edb98d6b6f1e",
   "metadata": {
    "tags": []
   },
   "outputs": [],
   "source": [
    "test=Data.loc[(Data.tempsdg14_02 == \"SDG14_02\"), (\"result_id\", \"result_title\")]\n",
    "test.iloc[0:5, ]"
   ]
  },
  {
   "cell_type": "markdown",
   "id": "381d0524-1dcc-43f6-801d-422130a356ae",
   "metadata": {
    "id": "CrzWCQ_xtTAq"
   },
   "source": [
    "#### Phrase 3"
   ]
  },
  {
   "cell_type": "code",
   "execution_count": null,
   "id": "4cf0c4b9-c05d-45ab-8354-e99a7e3ae897",
   "metadata": {
    "id": "Dkcf4xJttTAu"
   },
   "outputs": [],
   "source": [
    "#Termlists\n",
    "termlist14_2e = [\"manag\", \"conserv\", \"protect\", \"restor\", \"rehabilita\", \"resilien\",      \n",
    "                 \"forvalt\", \"verne\", \"verna\", \"vern av\", \"miljøvern\",\"bevare\", \"bevaring\", \"frede\", \"freda\", \"fredning\", \"beskytt\", \"gjenoppbygg\", \"restaurer\", \"bærekraftig bruk\", \"berekraftig bruk\"]\n",
    "                 #\"vernet\"(NO) will also find \"vernetiltak\"\n",
    "\n",
    "termlist14_2f = [\"habitat\",\"ecosystem\",\"ecological communit\",\n",
    "                 \"mangrove\", \"kelp\", \"seagrass\", \"seaweed\", \"macroalga\", \"sponge ground\", \"reef\", \"coral\", \n",
    "                 \"salt marsh\", \"mud flat\", \"mudflat\", \"tidal flat\",\n",
    "                 \"estuar\", \"fjord\", \"coastal dune\", \"coastal wetland\", \"coastal water\", \n",
    "                 \"environmental function\", \"environmental quality\", \"environmental stabil\", \"environmental resilience\",\n",
    "                 \"ocean health\", \"ocean function\", \"ocean resilience\",\n",
    "                 \"water quality\",\n",
    "                 \"diversity\", \"tipping point\", \"extinction\", \"key species\", \"foundation species\", \"keystone species\", \"habitat-forming\",\n",
    "                 \"productivity\", \"food production\", \"fish stock\", \"fishery\", \"fisheries\", \"aquaculture\",\n",
    "                 \"habitats directive\",\"Conservation of Antarctic Marine Living Resources\", \n",
    "                 \"Lima convention\",\"Nairobi convention\",\"Noumea convention\",\"Barcelona convention\",\"World heritage convention\",\"European landscape convention\",\n",
    "                 \"International coral reef initiative\",\n",
    "\n",
    "                \"leveområd\", \"miljø\", \"økosystem\", \"samfunn\",\n",
    "                \"sjøgress\", \"makroalge\", \"korall\", \"saltmarsker\", \"sandstrand\", \"strandeng\",\n",
    "                \"havbunn\", \"sjøbunn\", \"sjøfjell\", \"hydrotermisk skorstein\", \"hydrotermiske skorstein\", \"hydrotermisk ventil\", \"midhavsrygg\", \"kontinentalskråning\", \"kontinentalhylle\",\n",
    "                \"vannkvalitet\", \"resiliens\",\n",
    "                \"mangfold\", \"mangfald\", \"diversitet\", \"vippepunkt\", \"nøkkelart\", \"flaggskipsart\", \"paraplyart\", \n",
    "                \"produktivitet\", \"mat produksjon\", \"fiskebestand\", \"fiskeri\", \"havbruk\", \"akvakultur\",\n",
    "                \"habitatdirektiv\", \"Lima-konvensjonen\",\"Nairobi-konvensjonen\",\"Noumea-konvensjonen\",\"Barcelona-konvensjonen\",\"verdensarvkonvensjonen\",\"Landskapskonvensjonen\",\n",
    "                \"naturmangfoldloven\", \"områdevern\", \"artsforvaltning\"]\n",
    "                #added Norwegian-specific legislation\n",
    "\n",
    "termlist14_2ftrunc = [\"tare.*\", \"tang\", \"tangart.*\"] #Norwegian terms from 2f that need prevent truncation\n",
    "\n",
    "termlist14_2hcase = [\"BBNJ\", \"CBD\", \"HELCOM\", \"OSPAR\", \"UNEP\", \"CCAMLR\"]\n",
    "\n",
    "phrasedefault14_2e = r'(?:{})'.format('|'.join(termlist14_2e))\n",
    "phrasedefault14_2f = r'(?:{})'.format('|'.join(termlist14_2f))\n",
    "phrasespecific14_2ftrunc = r'\\b(?:{})\\b'.format('|'.join(termlist14_2ftrunc))\n",
    "phrasedefault14_2hcase = r'(?:{})'.format('|'.join(termlist14_2hcase))"
   ]
  },
  {
   "cell_type": "code",
   "execution_count": null,
   "id": "b0a4d221-6915-4ffd-b5e4-07ac9918c428",
   "metadata": {
    "colab": {
     "base_uri": "https://localhost:8080/"
    },
    "id": "PAnipJUltTAw",
    "outputId": "65b166c2-0fc1-46f1-bcb9-80b02278ffd6"
   },
   "outputs": [],
   "source": [
    "#Search 1\n",
    "Data.loc[(\n",
    "    (\n",
    "        (Data['result_title'].str.contains(phrasedefault14_2hcase, na=False, case=True)) #case=T\n",
    "        | ((Data['result_title'].str.contains(phrasedefault14_2e, na=False, case= False)) & (Data['result_title'].str.contains(phrasedefault14_2f, na=False, case=False)))\n",
    "        | ((Data['result_title'].str.contains(phrasedefault14_2e, na=False, case= False)) & (Data['result_title'].str.contains(phrasespecific14_2ftrunc, na=False, case=False)))\n",
    "    )\n",
    "    &(Data['marine_terms']==True)\n",
    "),\"tempsdg14_02\"] = \"SDG14_02\"\n",
    "\n",
    "print(\"Number of results = \", len(Data.loc[(Data.tempsdg14_02 == \"SDG14_02\")])) "
   ]
  },
  {
   "cell_type": "code",
   "execution_count": null,
   "id": "26fde097-6e01-4527-ad4f-f25d22a5b2ad",
   "metadata": {
    "colab": {
     "base_uri": "https://localhost:8080/",
     "height": 598
    },
    "id": "3YH6Ao0ltTAy",
    "outputId": "7105b5ab-63c2-4e69-c695-86cd01dced74"
   },
   "outputs": [],
   "source": [
    "test=Data.loc[(Data.tempsdg14_02 == \"SDG14_02\"), (\"result_id\", \"result_title\")]\n",
    "test.iloc[0:5, ]"
   ]
  },
  {
   "cell_type": "markdown",
   "id": "45407407-0537-4073-a230-ecea41def1a7",
   "metadata": {
    "id": "KEvhGTvE3qhK"
   },
   "source": [
    "### SDG 14.3\n",
    "*14.3 Minimize and address the impacts of ocean acidification, including through enhanced scientific cooperation at all levels*\n",
    "\n",
    "*Begrense mest mulig og sørge for håndtering av konsekvensene av havforsuring, blant annet gjennom styrket vitenskapelig samarbeid på alle nivåer*"
   ]
  },
  {
   "cell_type": "markdown",
   "id": "36c43467-b3a5-4d70-9d11-678930ad0045",
   "metadata": {
    "id": "WUoDxa7dn359"
   },
   "source": [
    "Compared to the original string, we have added the term \"monitoring\" (\"overvåk\"). This is somewhat of an expansion; the original string was very limited to terms to do with impacts. If one can consider monitoring as a way of \"addressing\" impacts then it should be added to the original string too. "
   ]
  },
  {
   "cell_type": "code",
   "execution_count": null,
   "id": "54a994de-7c25-40b3-8b9b-b764ad654c46",
   "metadata": {
    "id": "AuK2N2yssudt"
   },
   "outputs": [],
   "source": [
    "#Termlists\n",
    "termlist14_3a = [\"impact\", \"effect\", \"affect\", \"respons\", \"consequence\",\n",
    "                 \"results in\", \"changes\", \"alters\", \"altering\", \"changing\",\n",
    "                 \"sensitiv\", \"vulnerab\", \"threat\",\n",
    "                 \"resilien\", \"coping\", \"toleran\",\n",
    "                 \"calcif\", \"carbonate\", \"aragonit\", \"calcite\", \n",
    "                 \"extinct\", \"adapt\", \"competiti\", \"recruit\", \"surviv\", \"reproduc\",\n",
    "                 \"monitor\",\n",
    "\n",
    "                 \"påvirk\", \"impakt\", \"konsekvens\", \"effekt\",\n",
    "                 \"resultat\", \"endring\", \n",
    "                 \"sårbar\", \"truet\", \"truer\", \" trua\", \" trued\", \"stress\", \"tåle\", \n",
    "                 \"forkalk\", \"karbonsyre\", \"karbonat\", \"kalsit\", \"skjell\", #\"aragonit\", \n",
    "                 \"utrydd\", \"tilpass\", \"konkurr\", \"rekrutter\", \"overleve\", \"formering\", \"reproduksjon\",\n",
    "                 \"overvåk\", \"overvak\"]\n",
    "                #spaces added with \"trua\"(NO) and \"trued\"(NO) on purpose to avoid truncation\n",
    "\n",
    "termlist14_3b = [\"acidi\", \"ocean ph\", \"seawater ph\", \"low ph\", \"declining ph\", \"decreasing ph\", \"decreased ph\", \"effect of ph\", \"effects of ph\",\n",
    "                 \"forsur\", \"nedgangen i pH\", \"nedgang i ph\", \"lav ph\", \"lavere ph\", \"lågere ph\", \"surere hav\", \"surare hav\", \"surt hav\"]\n",
    "\n",
    "termlist14_3ccase = [\"OA\"]\n",
    "\n",
    "phrasedefault14_3a = r'(?:{})'.format('|'.join(termlist14_3a))\n",
    "phrasedefault14_3b = r'(?:{})'.format('|'.join(termlist14_3b))\n",
    "phrasespecific14_3ccase = r'\\b(?:{})\\b'.format('|'.join(termlist14_3ccase))"
   ]
  },
  {
   "cell_type": "code",
   "execution_count": null,
   "id": "f4dbe3ec-83fb-4b56-9372-9a723a757620",
   "metadata": {
    "colab": {
     "base_uri": "https://localhost:8080/"
    },
    "id": "5C6tbH26sud1",
    "outputId": "e5c6ef27-187c-4f54-eda5-d5ff7ac06642"
   },
   "outputs": [],
   "source": [
    "#Search 1\n",
    "#Note that \"havforsuring\" (NO; ocean acidification) is included in the marine terms, so it should not be a problem to find works using this term even when combined with marine terms.\n",
    "Data.loc[(\n",
    "    (\n",
    "        (Data['result_title'].str.contains(phrasedefault14_3a, na=False, case=False)) \n",
    "        & (\n",
    "            (Data['result_title'].str.contains(phrasedefault14_3b, na=False, case=False)) \n",
    "            | (Data['result_title'].str.contains(phrasespecific14_3ccase, na=False, case=True)) #case = T\n",
    "            )\n",
    "    )\n",
    "    &(Data['marine_terms']==True)\n",
    "),\"tempsdg14_03\"] = \"SDG14_03\"\n",
    "\n",
    "print(\"Number of results = \", len(Data.loc[(Data.tempsdg14_03 == \"SDG14_03\")]))  "
   ]
  },
  {
   "cell_type": "code",
   "execution_count": null,
   "id": "71ce4419-abe9-474c-a60e-f309a182a659",
   "metadata": {
    "colab": {
     "base_uri": "https://localhost:8080/"
    },
    "id": "mtKEPCyPsud7",
    "outputId": "86fc6f77-d464-401b-b43f-163459dbc092"
   },
   "outputs": [],
   "source": [
    "test=Data.loc[(Data.tempsdg14_03 == \"SDG14_03\"), (\"result_id\", \"result_title\")]\n",
    "test.iloc[0:5, ]"
   ]
  },
  {
   "cell_type": "markdown",
   "id": "b8f0a114-632f-47ab-b5cc-c7c6aaa08ae7",
   "metadata": {
    "id": "tGGLZe813Qq-"
   },
   "source": [
    "### SDG 14.4\n",
    "\n",
    "*14.4 By 2020, effectively regulate harvesting and end overfishing, illegal, unreported and unregulated fishing and destructive fishing practices and implement science-based management plans, in order to restore fish stocks in the shortest time feasible, at least to levels that can produce maximum sustainable yield as determined by their biological characteristics*\n",
    "\n",
    "*Innen 2020 innføre effektive tiltak for å regulere uttaket av fiskebestandene, få slutt på overfiske og ulovlig, urapportert og uregulert fiske og ødeleggende fiskemetoder, og iverksette vitenskapelig baserte forvaltningsplaner for å gjenoppbygge fiskebestandene på kortest mulig tid, i det minste til de nivåene som kan gi høyest mulig bærekraftig avkastning ut fra bestandenes biologiske særtrekk*\n",
    "\n",
    "#### Phrase 1/2"
   ]
  },
  {
   "cell_type": "code",
   "execution_count": null,
   "id": "066276c8-3467-44bb-a354-e6d5aa0e2012",
   "metadata": {
    "id": "ryMg9x0H3QrC"
   },
   "outputs": [],
   "source": [
    "#Termlists\n",
    "termlist14_4a = [\"overfish\", \"bycatch\", \"by-catch\", \"IUU fish\", \n",
    "                 \"ghost fishing\", \"ghost net\", \"ALDFG\", \"poison fishing\",\n",
    "\n",
    "                 \"overfisk\", \"ulovlig fisk\", \"ulovlige fisk\", \"ulovleg fisk\", \"ulovlege fisk\", \"tjuvfiske\", \"bifangst\", \"UUU fiske\", \"UUU-fiske\",\n",
    "                 \"spøkelsesfiske\", \"tapte garn\"]\n",
    "\n",
    "termlist14_4b = [\"gear\", \"net\", \"nets\",\n",
    "                 \"fiskeredskap.*\", \"fiskegarn\", \"havteine.*\", \"torskebur\", \"teina\"]\n",
    "termlist14_4c = [\"abandoned\", \"lost\", \"discarded\",\n",
    "                 \"tapt\", \"mistet\", ]\n",
    "\n",
    "termlist14_4d = [\"trawl\", \"trawling\",\n",
    "                 \"trål\", \"bunntrål.*\", \"trålfiske\"]\n",
    "                 #\"Trål\" (NO) causes problems alone with free truncation (e.g. stråle)\n",
    "termlist14_4e = [\"degrad\", \"damag\", \"harm\",\n",
    "                 \"skade\", \"ødelag\", \"ødeleg\"]\n",
    "\n",
    "termlist14_4f = [\"overharvest\", \"overexploit\", \"overcapacit\", \"collaps\", \"closure\",\n",
    "                 \"illegal\", \"unreport\", \"unregulat\", \"corrupt\", \"destruct\", \"blast\", \"dynamite\", \"cyanid\",\n",
    "                 \n",
    "                 \"overbeskat\", \"kollaps\", \"stenge\", \"stenging\",\n",
    "                 \"ulovlig\", \"ulovleg\", \"urapport\", \"uregulert\", \"korrupsj\", \"ødelegg\", \"ødelagt\", \"forring\", \"dynamitt\", \"eksplosiv\", \"tapt redskap\", \"tapte redskap\"]\n",
    "                #\"cyanid\" covers norwegian and english\n",
    "    \n",
    "termlist14_4g = [\"fishing\", \"fisher\", \"shellfish\", \"trawl\",                \n",
    "                 \"fiske\", \"skalldyr\"]\n",
    "\n",
    "phrasedefault14_4a = r'(?:{})'.format('|'.join(termlist14_4a))\n",
    "phrasespecific14_4b = r'\\b(?:{})\\b'.format('|'.join(termlist14_4b))\n",
    "phrasedefault14_4c = r'(?:{})'.format('|'.join(termlist14_4c))\n",
    "phrasespecific14_4d = r'\\b(?:{})\\b'.format('|'.join(termlist14_4d))\n",
    "phrasedefault14_4e = r'(?:{})'.format('|'.join(termlist14_4e))\n",
    "phrasedefault14_4f = r'(?:{})'.format('|'.join(termlist14_4f))\n",
    "phrasedefault14_4g = r'(?:{})'.format('|'.join(termlist14_4g))"
   ]
  },
  {
   "cell_type": "code",
   "execution_count": null,
   "id": "d7b95b38-5e06-4b5c-bed4-2316b8ddcd63",
   "metadata": {
    "colab": {
     "base_uri": "https://localhost:8080/"
    },
    "id": "zLOkXhXE3QrE",
    "outputId": "4f29eb4c-a604-4ffe-e82c-399bc01374fd"
   },
   "outputs": [],
   "source": [
    "#Search 1\n",
    "\n",
    "Data.loc[(\n",
    "    (Data['result_title'].str.contains(phrasedefault14_4a, na=False, case=False)) \n",
    "    | ((Data['result_title'].str.contains(phrasespecific14_4b, na=False, case=False)) & (Data['result_title'].str.contains(phrasedefault14_4c, na=False, case=False)))\n",
    "    | ((Data['result_title'].str.contains(phrasespecific14_4d, na=False, case=False)) & (Data['result_title'].str.contains(phrasedefault14_4e, na=False, case=False)))\n",
    "    | ((Data['result_title'].str.contains(phrasedefault14_4f, na=False, case=False)) & (Data['result_title'].str.contains(phrasedefault14_4g, na=False, case=False)))\n",
    "),\"tempsdg14_04\"] = \"SDG14_04\"\n",
    "\n",
    "print(\"Number of results = \", len(Data[(Data.tempsdg14_04 == \"SDG14_04\")])) "
   ]
  },
  {
   "cell_type": "code",
   "execution_count": null,
   "id": "29ba61a2-98af-4956-8b69-b88c033c94d3",
   "metadata": {
    "colab": {
     "base_uri": "https://localhost:8080/"
    },
    "id": "g-krKS6z3QrG",
    "outputId": "bc76986c-cba4-4e30-9286-bdcdbef1537e"
   },
   "outputs": [],
   "source": [
    "test=Data.loc[(Data.tempsdg14_04 == \"SDG14_04\"), (\"result_id\", \"result_title\")]\n",
    "test.iloc[0:5, ]"
   ]
  },
  {
   "cell_type": "markdown",
   "id": "0d9e3b6b-c8df-43b2-9bcf-2f3e79b66372",
   "metadata": {
    "id": "e8srM3I7mn7Z"
   },
   "source": [
    "#### Phrase 3\n",
    "\n",
    "Fish species taken from The Norwegian Directorate of Fisheries https://www.fiskeridir.no/Yrkesfiske/Tall-og-analyse/Fangst-og-kvoter/Fangst/Fangst-fordelt-paa-art "
   ]
  },
  {
   "cell_type": "code",
   "execution_count": null,
   "id": "a48a0f36-0703-451c-92fb-c86c804461d0",
   "metadata": {
    "id": "IojPJAl2mn7e"
   },
   "outputs": [],
   "source": [
    "#Termlists\n",
    "termlist14_4h = [\"manag\", \"planning\", \"governance\", \n",
    "                 \"restor\", \"stock recovery\",\"rehabilit\",\n",
    "                 \"sustainab\", \"ecosystem approach\",\n",
    "                 \"maximum sustainable yield\", \n",
    "                 \"marine stewardship council\", \n",
    "                 \"regional fisheries management\", \n",
    "                 \"convention on the law of the sea\", \"fish stocks agreement\", \"code of conduct for responsible fisheries\", \"port state measures agreement\",\n",
    "                 \"Management of Straddling Fish Stocks\", \"Management of Highly Migratory Fish Stocks\", \"north atlantic salmon conservation organization\",\n",
    "                 \"deep-sea fisheries guidelines\", \"Management of Deep-sea Fisheries in the High Seas\", \n",
    "                 \"common fisheries policy\", \n",
    "                 \"legislation\", \"instrument\", \"strateg\", \"policy\", \"policies\", \"framework\", \"agreement\", \"treaty\", \"treaties\",\n",
    "\n",
    "                 \"forvalt\", \"planlegg\", \"styring\", \"ledelse\", \"leiing\",\n",
    "                 \"gjenoppbygg\", \"restaurer\",\n",
    "                 \"bærekraftig\", \"berekraftig\", \"økosystemtilnærming\",\"økosystembasert forvaltning\",\n",
    "                 \"likevektsfangst\",\n",
    "                 \"havrettskonvensjon\", \"Havrettstraktaten\",\n",
    "                 \"avtalen om fiske på det åpne hav\", \"avtalen om havnestatstiltak\",\n",
    "                 \"den nordatlantiske laksevernorganisasjonen\",\n",
    "                 \"regulering av fisket etter dyphavsarter\",\n",
    "                 \"felles fiskeripolitik\",\n",
    "                 \"politikk\", \"lovverk\", \"regelverk\", \"regler\", \"rettningslin\", \"utredning\", \"utgreiing\", \"rammeverk\", \"avtale\", \"forskrift\"]\n",
    "termlist14_4icase = [\"EBFM\", \"MSY\", \"RFMO\", \"UNCLOS\", \"CCRF\", \"UNFSA\"]\n",
    "\n",
    "termlist14_4jtrunc = [\"law\", \"plan\", \"plans\",\n",
    "                      \"lov\", \"planer\"]\n",
    "                \n",
    "termlist14_4k = [\"fish\", \"cod stock\", \"cod population\", \"herring\", \"saithe\", \"haddock\", \"mackrel\", \"capelin\", \"blue whiting\", #\"fishing\", \"fisher\", \"shellfish\", \"fish stock\", \"overfish\",                \n",
    "                 \"fiske\", \"skalldyr\", \"torsk\", \"skrei\", \"kysttorsk\", \"sild\", \"sei \", \"seifisk\", \"hyse\", \"makrell\", \"lodde \", \"loddefisk\", \"kolmule\"]\n",
    "                #terms where I prevent left truncation (\"orthograFISKE\"). \n",
    "                #Here we have added some Norwegian fish species, taken from the Norwegian Directorate of Fisheries (\"utvalgte art\")\n",
    "                #\"sei\"(NO) was however difficult to include alone, have added a space after to prevent truncation in both direction\n",
    "            \n",
    "termlist14_4l = [\"catch\",\n",
    "                 \"fangst\"]\n",
    "termlist14_4m = [\"entitlement\", \"limit\", \"tolerance\",\n",
    "                 \"begrens\", \"kvote\"]                                \n",
    "phrasedefault14_4h = r'(?:{})'.format('|'.join(termlist14_4h))\n",
    "phrasedefault14_4icase = r'(?:{})'.format('|'.join(termlist14_4icase))\n",
    "phrasespecific14_4j = r'\\b(?:{})\\b'.format('|'.join(termlist14_4jtrunc))\n",
    "phrasespecific14_4k = r'\\b(?:{})'.format('|'.join(termlist14_4k))\n",
    "phrasedefault14_4l = r'(?:{})'.format('|'.join(termlist14_4l))\n",
    "phrasedefault14_4m = r'(?:{})'.format('|'.join(termlist14_4m))"
   ]
  },
  {
   "cell_type": "code",
   "execution_count": null,
   "id": "00622937-7913-4540-9cbe-e8b8aa604d98",
   "metadata": {
    "colab": {
     "base_uri": "https://localhost:8080/"
    },
    "id": "wNJchkCimn7j",
    "outputId": "2a0082aa-7780-4452-b62d-f12c68282779"
   },
   "outputs": [],
   "source": [
    "#Search 1\n",
    "Data.loc[(\n",
    "    (\n",
    "        (Data['result_title'].str.contains(phrasedefault14_4h, na=False, case=False)) \n",
    "        | (Data['result_title'].str.contains(phrasedefault14_4icase, na=False, case=True)) #case = True\n",
    "        | (Data['result_title'].str.contains(phrasespecific14_4j, na=False, case=False))\n",
    "    ) \n",
    "    &\n",
    "    (\n",
    "        (Data['result_title'].str.contains(phrasespecific14_4k, na=False, case=False)) \n",
    "        | ((Data['result_title'].str.contains(phrasedefault14_4l, na=False, case=False)) & (Data['result_title'].str.contains(phrasedefault14_4m, na=False, case=False)))\n",
    "    )\n",
    "),\"tempsdg14_04\"] = \"SDG14_04\"\n",
    "\n",
    "print(\"Number of results = \", len(Data[(Data.tempsdg14_04 == \"SDG14_04\")])) "
   ]
  },
  {
   "cell_type": "code",
   "execution_count": null,
   "id": "b2f890a4-eb07-491e-8f13-4c1c3068412f",
   "metadata": {
    "colab": {
     "base_uri": "https://localhost:8080/"
    },
    "id": "D_OJyvDImn7l",
    "outputId": "6de045de-6d0a-4ac3-aa3e-a9ca76a62746"
   },
   "outputs": [],
   "source": [
    "test=Data.loc[(Data.tempsdg14_04 == \"SDG14_04\"), (\"result_id\", \"result_title\")]\n",
    "test.iloc[0:5, ]"
   ]
  },
  {
   "cell_type": "markdown",
   "id": "e8fd0ca8-426b-49db-a0a9-d57b6c640e73",
   "metadata": {
    "id": "ZcpqNKFMREH7"
   },
   "source": [
    "### SDG 14.5\n",
    "\n",
    "*14.5 By 2020, conserve at least 10 per cent of coastal and marine areas, consistent with national and international law and based on the best available scientific information*\n",
    "\n",
    "*Innen 2020 bevare minst 10 prosent av kyst- og havområdene, i samsvar med nasjonal rett og folkeretten og på grunnlag av den beste vitenskapelige kunnskapen som er tilgjengelig*\n"
   ]
  },
  {
   "cell_type": "code",
   "execution_count": null,
   "id": "424923f5-69da-4ef3-9d83-0cff10c3e348",
   "metadata": {
    "id": "QIS85H52RQGM"
   },
   "outputs": [],
   "source": [
    "#Termlists\n",
    "termlist14_5a = [\"marine reserve\", \"ocean reserve\", \"nature reserve\", \"marine sanctuar\", \"marine park\", \"particularly sensitive sea area\", \"marine conservation\",\n",
    "                 \"nature reserve\",\"national park\",\n",
    "                 \"no-take area\", \"no-take zone\", \"no-take reserve\",\n",
    "\n",
    "                 \"vernområde\",\"vernområde\", \"vernet økosystem\", \"marine reservat\", \"marint vern\",\n",
    "                 \"naturreservat\", \"nasjonalpark\", \"biotopvernområde\", \"biosfæreområde\", \"bevarte område\", \"bevaringsområde\",\"fredningsområde\",\"nasjonalpark\",\n",
    "                 \"fiskeforbud\"]\n",
    "termlist_145acaps = [\"MPA\",\"LSMPA\",\"NMTR\"] \n",
    "\n",
    "termlist14_5b = [\"protect\",\"conserved\",\"conservation\",\"conserves\",\"conserving\",\n",
    "                \"verne\", \"verna\", \"vern av\",\"bevare\",\"bevaring\",\"frede\",\"freda\",\"fredning\",\"beskytt\"]\n",
    "\n",
    "termlist14_5c = [\"area\",\"zone\", \"habitat\", \"ecosystem\",\n",
    "                \"område\", \"sone\", \"leveområd\", \"miljø\", \"økosystem\"]\n",
    "\n",
    "termlist14_5not = [\"landskapsvernområde\"]\n",
    "#This NOT search is needed as this \"landskapsvernområde\"(NO) is often used for terrestrial conservation, \n",
    "# and results are found even with the marine terms because many norwegian place names contain \"fjord\"...\n",
    "\n",
    "phrasedefault14_5a = r'(?:{})'.format('|'.join(termlist14_5a))\n",
    "phrasedefault14_5acaps = r'(?:{})'.format('|'.join(termlist_145acaps))\n",
    "phrasedefault14_5b = r'(?:{})'.format('|'.join(termlist14_5b))\n",
    "phrasedefault14_5c = r'(?:{})'.format('|'.join(termlist14_5c))\n",
    "phrasedefault14_5not = r'(?:{})'.format('|'.join(termlist14_5not))"
   ]
  },
  {
   "cell_type": "code",
   "execution_count": null,
   "id": "b9fbb090-ee87-46c4-8d9e-8ce365f21aff",
   "metadata": {
    "colab": {
     "base_uri": "https://localhost:8080/"
    },
    "id": "Og8O1lGcRQGO",
    "outputId": "864f904f-1e42-4b04-bb77-bd970a23fdb3"
   },
   "outputs": [],
   "source": [
    "#Search\n",
    "Data.loc[(\n",
    "    (\n",
    "        (Data['result_title'].str.contains(phrasedefault14_5a, na=False, case=False)) \n",
    "        | (Data['result_title'].str.contains(phrasedefault14_5acaps, na=False, case=True)) #case = True\n",
    "        | ((Data['result_title'].str.contains(phrasedefault14_5b, na=False, case=False)) & (Data['result_title'].str.contains(phrasedefault14_5c, na=False, case=False)))\n",
    "    )\n",
    "    & (~Data['result_title'].str.contains(phrasedefault14_5not, na=False, case=False))\n",
    "    & (Data['marine_terms']==True)\n",
    "),\"tempsdg14_05\"] = \"SDG14_05\"\n",
    "\n",
    "print(\"Number of results = \", len(Data[(Data.tempsdg14_05 == \"SDG14_05\")])) "
   ]
  },
  {
   "cell_type": "code",
   "execution_count": null,
   "id": "38d364ce-2aee-4c7d-9733-6a28a572159a",
   "metadata": {
    "colab": {
     "base_uri": "https://localhost:8080/",
     "height": 546
    },
    "id": "F1hwfdYaREIZ",
    "outputId": "e39fe7bf-8842-4ccc-904a-df68e593eb3f"
   },
   "outputs": [],
   "source": [
    "test=Data.loc[(Data.tempsdg14_05 == \"SDG14_05\"), (\"result_id\", \"result_title\")]\n",
    "test.iloc[0:5, ]"
   ]
  },
  {
   "cell_type": "markdown",
   "id": "0f77a49b-ea4d-4c5c-8a4a-08e2085b8f84",
   "metadata": {
    "id": "3FeBRzXW0O1G"
   },
   "source": [
    "### SDG 14.6\n",
    "\n",
    "*14.6 By 2020, prohibit certain forms of fisheries subsidies which contribute to overcapacity and overfishing, eliminate subsidies that contribute to illegal, unreported and unregulated fishing and refrain from introducing new such subsidies, recognizing that appropriate and effective special and differential treatment for developing and least developed countries should be an integral part of the World Trade Organization fisheries subsidies negotiation*\n",
    "\n",
    "*Innen 2020 forby visse former for fiskerisubsidier som bidrar til overkapasitet og overfiske, avskaffe subsidier som bidrar til ulovlig, urapportert og uregulert fiske, og dessuten unngå å innføre nye tilsvarende subsidier, samtidig som man erkjenner at en hensiktsmessig og effektiv særskilt og differensiert behandling av utviklingslandene og de minst utviklede landene bør være en integrert del av Verdens handelsorganisasjons forhandlinger om fiskerisubsidier*\n",
    "\n",
    "Merged phrases 1 and 2."
   ]
  },
  {
   "cell_type": "code",
   "execution_count": null,
   "id": "06bece65-bab7-420c-acd0-25c039de50fb",
   "metadata": {
    "id": "NmWp7m690O1Q"
   },
   "outputs": [],
   "source": [
    "#Termlists\n",
    "termlist14_6a = [\"subsidy\", \"subsidies\", \"subsidiz\", \"subsidis\", \n",
    "                 \"development assistance\", \"development aid\", \"development intervention\", \"foreign aid\", \"doha development agenda\", \"hong kong ministerial\", \"world trade organization\",\n",
    "                 \n",
    "                 \"subsidier\", \n",
    "                 \"statsstøtte\", \"offentlig støtte\", \"utviklingsstøtte\", \"bistand\", \"Verdens handelsorganisasjon\", \"Doha-runden\", \"ministermøtet i Hongkong\"]\n",
    "\n",
    "termlist14_6acaps = [\"ODA\", \"WTO\"]\n",
    "\n",
    "termlist14_6b = [\"fishing\", \"fisher\", \"shellfish\", \"trawl\",                \n",
    "                 \"fiske\", \"skalldyr\"]\n",
    "                #\"fishing\" will find overfishing\n",
    "\n",
    "#termlist14_6not = [\"larval subsid\", \"recruitment subsid\"] \n",
    "#Doesn't seem to be needed here in a title search\n",
    "\n",
    "phrasedefault14_6a = r'(?:{})'.format('|'.join(termlist14_6a))\n",
    "phrasespecific14_6acaps = r'\\b(?:{})\\b'.format('|'.join(termlist14_6acaps))\n",
    "phrasedefault14_6b = r'(?:{})'.format('|'.join(termlist14_6b))\n",
    "#phrasedefault14_6not = r'(?:{})'.format('|'.join(termlist14_6not))"
   ]
  },
  {
   "cell_type": "code",
   "execution_count": null,
   "id": "61af2adf-8c2c-4024-850d-a222a5df3709",
   "metadata": {
    "colab": {
     "base_uri": "https://localhost:8080/"
    },
    "id": "ApcBKHh80O1S",
    "outputId": "714c1b48-7d02-4bd7-bed2-c250767e4188"
   },
   "outputs": [],
   "source": [
    "#Search 1\n",
    "Data.loc[(\n",
    "    ((Data['result_title'].str.contains(phrasedefault14_6a, na=False, case=False)) | (Data['result_title'].str.contains(phrasespecific14_6acaps, na=False, case=True)))\n",
    "    & (Data['result_title'].str.contains(phrasedefault14_6b, na=False, case=False))\n",
    "),\"tempsdg14_06\"] = \"SDG14_06\"\n",
    "\n",
    "print(\"Number of results = \", len(Data[(Data.tempsdg14_06 == \"SDG14_06\")])) "
   ]
  },
  {
   "cell_type": "code",
   "execution_count": null,
   "id": "e35e9708-374c-4fd6-b887-c8debbede130",
   "metadata": {
    "colab": {
     "base_uri": "https://localhost:8080/"
    },
    "id": "JI2f0lK50O1V",
    "outputId": "c1bf6360-dc78-400e-906c-4052ebd8dd9a"
   },
   "outputs": [],
   "source": [
    "test=Data.loc[(Data.tempsdg14_06 == \"SDG14_06\"), (\"result_id\", \"result_title\")]\n",
    "test.iloc[0:10, ]"
   ]
  },
  {
   "cell_type": "markdown",
   "id": "40739798-7c23-45e2-95b6-b906122b37af",
   "metadata": {
    "id": "94Y0SQYG5or6"
   },
   "source": [
    "### SDG 14.7\n",
    "\n",
    "*14.7 By 2030, increase the economic benefits to small island developing States and least developed countries from the sustainable use of marine resources, including through sustainable management of fisheries, aquaculture and tourism*\n",
    "\n",
    "*Innen 2030 sikre at de økonomiske fordelene ved bærekraftig bruk av havets ressurser, blant annet gjennom bærekraftig forvaltning av fiskeri, akvakultur og turistnæring, i større grad kommer små utviklingsøystater og de minst utviklede landene til gode*"
   ]
  },
  {
   "cell_type": "code",
   "execution_count": null,
   "id": "8ff0d978-86f5-4a4c-aea3-4cca14ca1d58",
   "metadata": {
    "id": "AYA0Vkx65osA"
   },
   "outputs": [],
   "source": [
    "#Termlists\n",
    "termlist14_7a = [\"econom\",\"wealth\",\n",
    "                 \"exploit\",\"goods and services\",\"ecosystem service\",\n",
    "                 \"marine resource\", \"biological resource\", \"genetic resource\",\n",
    "                 \"livelihood\",\"job\",\"income\",\"profit\",\"trade\",\"trading\",\"market\",\n",
    "                 \"monetary\",\"moneti\",\"investor\",\n",
    "                 \"blue growth\",\"blue bond\",\n",
    "\n",
    "                 \"økonomi\", \"rikdom\",\n",
    "                 \"marine ressurs\", \"biologiske ressurs\", \"biologisk ressurs\", \"genetiske ressurs\", \"genetisk ressurs\",\n",
    "                 \"utnytt\", \"varer\", \"tjenester\",\n",
    "                 \"levebrød\", \"jobb\", \"arbeid\", \"inntekt\", \"handel\", \"marked\", \"markad\",\n",
    "                 \"penger\",\n",
    "                 \"blå vekst\", \"blåvekst\"]\n",
    "                 #\"Blue/Bio economy\" and \"socioeconomic\" (NO: blå/bio økonomi, sosioøkonomisk) is covered by \"econom\" (NO: økonomi)\n",
    "                 #\"økosystemtjenester\" (NO) are covered by \"tjenester\"\n",
    "\n",
    "termlist14_7acaps = [\"GDP\"] #can search case sensitive\n",
    "\n",
    "termlist14_7b = [\"sustainab\", \"marine conservation\",\n",
    "                 \"marine spatial planning\",  \n",
    "                 \"ecosystem-based\", \"ecosystem-based fisheries\", \"area-based manag\", \"area-based approach\",     \n",
    "                 \"spatial management\", \"community based management\",\"resilience based management\", \n",
    "                 \"coastal zone management\",\"integrated coastal zone planning\",\"coastal resources management\",   \n",
    "                 \"locally managed marine area\",\n",
    "                 \"protected area\", \"marine reserve\", \"ocean reserve\", \"nature reserve\", \"marine park\", \n",
    "                 \"conservation zone\", \"particularly sensitive sea area\",\n",
    "                 \"regional fisheries management\",\n",
    "                 \"port state measures agreement\",\n",
    "                 \"fish stocks agreement\",\"Management of Straddling Fish Stocks\",\"Management of Highly Migratory Fish Stocks\",\n",
    "                 \"code of conduct for responsible fisheries\",\n",
    "                 \"Nairobi convention\"\n",
    "\n",
    "                 \"bærekraft\",\"berekraft\", \"marint vern\",\n",
    "                 \"økosystem tilnærming\", \"økosystembasert forvaltning\", \"økosystembasert styring\", \"forvaltningsplaner\",\n",
    "                 \"integrert kystsone\", \"kystplanlegging\", \"kystsoneforvalt\",\n",
    "                 \"samfunnsforvalt\", \"bærekraftig forvalt\", \"berekraftig forvalt\", \"arealforvalt\",\n",
    "                 \"marint vernområde\",\"marine vernområde\",\"marine verneområde\",\"marine reservat\",\n",
    "                 \"naturreservat\", \"biotopvernområde\", \"nasjonalpark\", \n",
    "                 \"bevarte område\", \"bevaringsområde\", \"fredet område\", \"vernet område\", \"marine vernområde\", \"marine verneområde\",\n",
    "                 #if this term list is used in the search, the agreement translations need to be added from 14.2c here. Currently it is not used (see note below)\n",
    "                 \"fiskeriforvalt\", \"fiskeriplanlegg\", \n",
    "                 \"likevektsfangst\"]\n",
    "\n",
    "#termlist14_7bcaps = [\"LMMA\",\"ICZM\",\"MPA\",\"RFMO\",\"CCRF\",\"UNFSA\"] \n",
    "\n",
    "phrasedefault14_7a = r'(?:{})'.format('|'.join(termlist14_7a))\n",
    "phrasedefault14_7acaps = r'(?:{})'.format('|'.join(termlist14_7acaps))\n",
    "#phrasedefault14_7b = r'(?:{})'.format('|'.join(termlist14_7b))\n",
    "#phrasedefault14_7bcaps = r'(?:{})'.format('|'.join(termlist14_7bcaps))"
   ]
  },
  {
   "cell_type": "markdown",
   "id": "8bf9149b-5e99-4cbe-ad43-b20a5acf2f4e",
   "metadata": {
    "id": "WdtZE3iYOhLj"
   },
   "source": [
    "As this is a title search, we suggest dropping the second element to simplify, so it is enough to mention marine economy in LDCs/SIDS."
   ]
  },
  {
   "cell_type": "code",
   "execution_count": null,
   "id": "00a79a83-0971-4634-83be-28655801fa79",
   "metadata": {
    "colab": {
     "base_uri": "https://localhost:8080/"
    },
    "id": "vnEUxUej5osC",
    "outputId": "f318464f-1e2a-4753-f041-321f1dd0c26a"
   },
   "outputs": [],
   "source": [
    "#Search 1\n",
    "Data.loc[(\n",
    "    ((Data['result_title'].str.contains(phrasedefault14_7a, na=False, case=False)) | (Data['result_title'].str.contains(phrasedefault14_7acaps, na=False, case=True)))\n",
    "    #& ((Data['result_title'].str.contains(phrasedefault14_7b, na=False, case=False)) | (Data['result_title'].str.contains(phrasedefault14_7bcaps, na=False, case=True)))\n",
    "    & (Data['LDCSIDS']==True)\n",
    "    & (Data['marine_terms']==True)\n",
    "),\"tempsdg14_07\"] = \"SDG14_07\"\n",
    "\n",
    "print(\"Number of results = \", len(Data[(Data.tempsdg14_07 == \"SDG14_07\")]))  "
   ]
  },
  {
   "cell_type": "code",
   "execution_count": null,
   "id": "214470ef-f00a-49d2-8dc4-aff4f26bfdf8",
   "metadata": {},
   "outputs": [],
   "source": [
    "test=Data.loc[(Data.tempsdg14_07 == \"SDG14_07\"), (\"result_id\", \"result_title\")]\n",
    "test.iloc[0:5, ]"
   ]
  },
  {
   "cell_type": "markdown",
   "id": "1378adb9-4a40-42fb-befd-3068aa9ae15e",
   "metadata": {
    "id": "-7fgw7omIq0n"
   },
   "source": [
    "### SDG 14.a\n",
    "\n",
    "*14.a Increase scientific knowledge, develop research capacity and transfer marine technology, taking into account the Intergovernmental Oceanographic Commission Criteria and Guidelines on the Transfer of Marine Technology, in order to improve ocean health and to enhance the contribution of marine biodiversity to the development of developing countries, in particular small island developing States and least developed countries*\n",
    "\n",
    "*Styrke vitenskapelig kunnskap, bygge opp forskningskapasitet og overføre marin teknologi – og samtidig ta hensyn til kriterier og retningslinjer fra Den mellomstatlige oseanografiske kommisjon for overføring av marin teknologi – med sikte på å bedre tilstanden i havet og øke det marine artsmangfoldets bidrag til utviklingen i utviklingslandene, særlig i små utviklingsøystater og de minst utviklede landene*"
   ]
  },
  {
   "cell_type": "markdown",
   "id": "749cf6d9-a8ab-454f-b991-2ee54b7b20ac",
   "metadata": {
    "id": "VJNncYuMJwWy"
   },
   "source": [
    "#### Phrase 1"
   ]
  },
  {
   "cell_type": "code",
   "execution_count": null,
   "id": "8f5b179a-9131-4124-8fe9-9cae1431f412",
   "metadata": {
    "id": "OHsT-pHiIq0x"
   },
   "outputs": [],
   "source": [
    "#Termlists\n",
    "termlist14_aa = [\"transfer of marine technolog\", \"marine technology transfer\", \"technology transfer\",\n",
    "                 \"teknologioverføring\", \"overføring av marin teknologi\", \"overføre marin teknologi\", \"overføre teknologi\"]\n",
    "                 #added \"technology transfer\" alone, as we are going to search within the marine results anyway\n",
    "\n",
    "phrasedefault14_aa = r'(?:{})'.format('|'.join(termlist14_aa))"
   ]
  },
  {
   "cell_type": "code",
   "execution_count": null,
   "id": "8b46ad71-613b-40f3-9eba-929521d74fce",
   "metadata": {
    "colab": {
     "base_uri": "https://localhost:8080/"
    },
    "id": "IeYMyN-QIq01",
    "outputId": "3d2891f6-1567-4f43-d3d7-df2692c28875"
   },
   "outputs": [],
   "source": [
    "#Search 1\n",
    "Data.loc[(\n",
    "    (Data['result_title'].str.contains(phrasedefault14_aa, na=False, case=False)) \n",
    "    & (Data['marine_terms']==True)\n",
    "),\"tempsdg14_a\"] = \"SDG14_0a\"\n",
    "\n",
    "print(\"Number of results = \", len(Data[(Data.tempsdg14_a == \"SDG14_0a\")])) "
   ]
  },
  {
   "cell_type": "code",
   "execution_count": null,
   "id": "5944b2a6-ddf5-484f-b58d-17eda54d333d",
   "metadata": {
    "colab": {
     "base_uri": "https://localhost:8080/",
     "height": 142
    },
    "id": "IM02rvZtIq07",
    "outputId": "73236e62-0ead-4e4a-e7e8-3661360ab511"
   },
   "outputs": [],
   "source": [
    "test=Data.loc[(Data.tempsdg14_a == \"SDG14_0a\"), (\"result_id\", \"result_title\")]\n",
    "test.iloc[0:5, ]"
   ]
  },
  {
   "cell_type": "markdown",
   "id": "6de0e696-b7d6-456d-9b12-21940f191c3a",
   "metadata": {},
   "source": [
    "#### Phrase 2"
   ]
  },
  {
   "cell_type": "code",
   "execution_count": null,
   "id": "0f63aa47-bfb9-4a84-9ad5-16e1d3d3988f",
   "metadata": {
    "id": "nDZY6ck2KfYc"
   },
   "outputs": [],
   "source": [
    "#Termlists\n",
    "termlist14_ab = [\"establish\",\"build\",\"develop\",\"implement\",\"propos\",\"design\",\"provide\",\"provision\",\n",
    "                 \"increas\",\"improv\",\"strengthen\",\"enhanc\",\"upgrad\",\"accelerat\",\"prioriti\",\"promot\",\"enabl\",\n",
    "                 \"cooperat\",\"co-operat\",\"collaborat\",\"network\",\"partnership\",\n",
    "                 \"open data\",\"data sharing\",\"open science\",\n",
    "                 \"technology transfer\", \"knowledge transfer\", \"technical transfer\",\n",
    "                 \"invest\", \"fund\", \"financ\", \"grant\", \"support\", \"assist\",\n",
    "                 \"international network\",\n",
    "                 \"policy\",\"policies\",\"initiativ\",\"framework\",\"governance\",\"strateg\",\"program\",\"agenda\",\n",
    "                 \"innovation\",\n",
    "\n",
    "                 \"etablere\",\"bygg\",\"utvikl\",\"tilbyr\",\n",
    "                 \"forbedr\",\"styrk\",\"bedring\", \"betring\",\"oppgrad\",\"muliggjør\",\n",
    "                 \"samarbeid\",\"nettverk\",\"partnerskap\",\n",
    "                 \"åpne data\",\"datadeling\",\"åpen tilgang\",\"åpen vitenskap\",\"åpen forskning\",\n",
    "                 \"teknologioverføring\",\"kunnskapsoverfør\", \"tekniskoverfør\",\n",
    "                 \"finansiering\", \"forskningsmidler\", \"støtte\",\n",
    "                 \"internasjonalt nettverk\",\"internasjonale nettverk\",\n",
    "                 \"politikk\", \"retningslinj\", \"rammeverk\", \"styring\", \"ledelse\", \"leiing\",\n",
    "                 \"innovasjon\"] \n",
    "                 #several words work in both languages (e.g. \"promot\", \"design\", \"assist\", \"strateg\")            \n",
    "                 \n",
    "termlist14_ac = [\"plan\",\"planned\",\"planning\",\"aid\",\"ODA\",\n",
    "                 \"øke\", \"øker\", \"midler\"] #Control truncation\n",
    "\n",
    "termlist14_ad = [\"knowledge\",\"technolog\",\"technical\",\"research\",\"scientific\",\"R&D\",\n",
    "                 \"kunnskap\", \"teknologi\", \"teknisk\", \"forskning\", \"vitenskap\", \"innovasjon\"]\n",
    "termlist14_ae = [\"sharing\",\"shared\",\"share\",\"cooperat\",\"co-operat\",\"collaborat\",\"partnership\",\"network\",\n",
    "                 \"deling\", \"samarbeid\", \"partnerskap\", \"nettverk\"]\n",
    "\n",
    "termlist14_af = [\"research\", \"science\", \"scientific\", \"biotech\", \"ocean technolog\",\n",
    "                 \"data infrastructure\",\"data network\",\"big data\",\"smart ocean\",\"modelling technique\",\n",
    "                 \"biomonitoring\",\"remote sensing equipment\",\"tide gauge\",\n",
    "\n",
    "                 \"forskning\", \"vitenskap\", \"bioteknol\", \"havteknolog\", \"marin teknolog\",\n",
    "                 \"data infrastruktur\", \"datanettverk\", \"stordata\", \"smart hav\", \"modellering\",\n",
    "                 \"miljøovervåk\", \"miljøovervak\", \"fjernmålingsutstyr\"]\n",
    "                 #Originally, some of these terms were combined with the terms in termlist14_aj, but in a title search we felt they worked alone.\n",
    "\n",
    "termlist14_ag = [\"observation\",\"observator\",\"monitoring\",\"equipment\",\n",
    "                 \"observasjon\", \"overvåk\", \"overvak\", \"utstyr\"]\n",
    "termlist14_ah = [\"ocean\",\"marine\",\"biolog\",\"ecological\",\"ecological\",\"environmental\",\"network\",\"facilit\",\"system\",\n",
    "                 \"hav\", \"sjø\", \"marin\", \"økologi\", \"miljø\", \"nettverk\", \"fasilitet\", \"system\"]\n",
    "                 \n",
    "termlist14_ai = [\"taxonom\",\"genetic\",\"species\",\"diversit\",\"technolog\", \"technical\",\n",
    "                 \"taksonom\", \"genetisk\", \" art\", \"teknolog\", \"teknisk\"]\n",
    "termlist14_aj = [\"knowledge\",\"capacity\",\"advisor\",\"capabilit\",\"training\",\"expertise\",\"skills\",\"compentenc\",\n",
    "                 \"infrastructure\",\"facilities\",\"research vessel\",\"vehicle\",\"laborator\",\"equipment\",\"herbari\",\"museum collection\",\n",
    "                 \"software\",\" data\",\"register\",\"reference librar\",\"inventory\",\"inventories\",\"information system\",\n",
    "                 \"guideline\",\n",
    "                 \"investment\",\"funding\",\"GERD\",\"expenditure\",\n",
    "                 \"network\",\"sharing\",\"joint research\",\"joint effort\",\"collaborat\",\"international cooperation\",\n",
    "\n",
    "                 \"kunnskap\", \"kapasitet\", \"rådgi\", \" evne\", \"opplær\", \"ekspert\", \"ferdighet\", \"kompetanse\",\n",
    "                 \"infrastruktur\", \"fasilitet\", \"forskningsskip\", \"forskningsfartøy\", \"utstyr\", \"museum samling\",\n",
    "                 \"programvare\", \"forskningsdata\", \"inventar\", \"datasystem\", \n",
    "                 \"retningslinj\",\n",
    "                 \"midler\", \"pengebruk\", \"utgift\",\n",
    "                 \"nettverk\", \"deling\", \"samarbeid\"]\n",
    "\n",
    "termlist14_anot = [\"torp sandefjord\"]\n",
    "#There are a lot of reports about torp sandefjord which show up due to \"Fjord\"- manually removed them here (Norway only)\n",
    "\n",
    "phrasedefault14_ab = r'(?:{})'.format('|'.join(termlist14_ab))\n",
    "phrasespecific14_ac = r'\\b(?:{})\\b'.format('|'.join(termlist14_ac))\n",
    "phrasedefault14_ad = r'(?:{})'.format('|'.join(termlist14_ad))\n",
    "phrasedefault14_ae = r'(?:{})'.format('|'.join(termlist14_ae))\n",
    "phrasedefault14_af = r'(?:{})'.format('|'.join(termlist14_af))\n",
    "phrasedefault14_ag = r'(?:{})'.format('|'.join(termlist14_ag))\n",
    "phrasedefault14_ah = r'(?:{})'.format('|'.join(termlist14_ah))\n",
    "phrasedefault14_ai = r'(?:{})'.format('|'.join(termlist14_ai))\n",
    "phrasedefault14_aj = r'(?:{})'.format('|'.join(termlist14_aj))\n",
    "phrasedefault14_anot = r'(?:{})'.format('|'.join(termlist14_anot))"
   ]
  },
  {
   "cell_type": "code",
   "execution_count": null,
   "id": "ff511f33-6c49-442b-b063-ba7fa4a93b25",
   "metadata": {
    "colab": {
     "base_uri": "https://localhost:8080/"
    },
    "id": "5JdWwgrHKfYg",
    "outputId": "0d85a21f-8d5e-4919-f1c7-7860bb500261"
   },
   "outputs": [],
   "source": [
    "#Search 1\n",
    "Data.loc[(\n",
    "    ( (Data['result_title'].str.contains(phrasedefault14_ab, na=False, case=False)) \n",
    "    | (Data['result_title'].str.contains(phrasespecific14_ac, na=False, case=False))\n",
    "    | ((Data['result_title'].str.contains(phrasedefault14_ad, na=False, case=False)) & (Data['result_title'].str.contains(phrasedefault14_ae, na=False, case=False)))\n",
    "    )\n",
    "    &  \n",
    "    ( (Data['result_title'].str.contains(phrasedefault14_af, na=False, case=False)) \n",
    "    | ((Data['result_title'].str.contains(phrasedefault14_ag, na=False, case=False)) & (Data['result_title'].str.contains(phrasedefault14_ah, na=False, case=False)))\n",
    "    | ((Data['result_title'].str.contains(phrasedefault14_ai, na=False, case=False)) & (Data['result_title'].str.contains(phrasedefault14_aj, na=False, case=False)))\n",
    "    )\n",
    "    & (~Data['result_title'].str.contains(phrasedefault14_anot, na=False, case=False))\n",
    "    & (Data['marine_terms']==True)\n",
    "),\"tempsdg14_a\"] = \"SDG14_0a\"\n",
    "\n",
    "print(\"Number of results = \", len(Data[(Data.tempsdg14_a == \"SDG14_0a\")])) "
   ]
  },
  {
   "cell_type": "code",
   "execution_count": null,
   "id": "8b135940-55d4-4171-bbca-556c94b4cbb4",
   "metadata": {
    "colab": {
     "base_uri": "https://localhost:8080/",
     "height": 752
    },
    "id": "muwrjZemKfYn",
    "outputId": "86cf0799-72c5-4a6a-eb19-33994ddde1a1"
   },
   "outputs": [],
   "source": [
    "test=Data.loc[(Data.tempsdg14_a == \"SDG14_0a\"), (\"result_id\", \"result_title\")]\n",
    "test.iloc[0:5, ]"
   ]
  },
  {
   "cell_type": "markdown",
   "id": "4671b497-4685-4933-a633-38e7935b9332",
   "metadata": {
    "id": "P5c-lKJXWigZ"
   },
   "source": [
    "#### Phrase 3"
   ]
  },
  {
   "cell_type": "code",
   "execution_count": null,
   "id": "55aabdca-79c8-4a0c-8a97-11ae302dbdb5",
   "metadata": {
    "id": "ZTKb5hkvWigc"
   },
   "outputs": [],
   "source": [
    "#Termlists\n",
    "termlist14_ak = [\"blue growth\",\"blue econom\",\"marine economy\",\n",
    "                 \"blå vekst\", \"blåvekst\", \"blå økonomi\", \"marin økonomi\"]                   \n",
    "termlist14_al = [\"sustainab\",\n",
    "                 \"bærekraft\", \"berekraft\"] \n",
    "\n",
    "termlist14_am = [\"bioresource\",\"biological resource\",\"genetic resource\",\"living marine resources\",\n",
    "                 \"biodivers\",\"biological diversity\",\"BBNJ\",\"species diversity\",\"genetic diversity\",\"genomic diversity\",\"taxonomic diversity\",\n",
    "\n",
    "                 \"bioressurs\", \"biologiske ressurs\", \"genressurs\", \"genetiske ressurs\", \"levende marine ressurs\",\n",
    "                 \"biologisk diversit\", \"biologisk mangf\", \"artsmangf\", \"genetisk mangf\", \"taksonomisk mang\", \"naturmangf\"]\n",
    "\n",
    "termlist14_an = [\"bioprospect\",\"biopiracy\",\"Nagoya\",\"biotech\",\"marine natural product\",\"bioactive\",\n",
    "                 \"bio-econom\",\"bioeconom\",\"blue growth\",\"blue econom\",\"blue bond\",\"marine economy\",\n",
    "                 \"benefit\",\"sustainable development\",\"development intervention\",\"human development\",\"social development\",\"economic development\",\n",
    "                 \"tourism\",\"tourist\",\"sightsee\",\n",
    "                 \"fisher\",\"fishing\",\"aquaculture\",\"mariculture\",\"fish farm\",\"harvest\",\"aquarium trade\",\n",
    "                 \"exploit\",\"goods and services\",\"ecosystem service\",\n",
    "                 \"social ecological\",\"socialecological\",\"socioecological\",\"socio economic\",\"socioeconomic\",\n",
    "                 \"econom\",\"GDP\",\"wealth\",\"monetary\",\"moneti\",\"investor\",\n",
    "                 \"livelihood\",\"job\",\"income\",\"profit\",\n",
    "                 \"trade\",\"trading\",\"market\",\n",
    "                 \"sustainable use\", \"use sustainab\", \"using sustainab\", \"sustainable usage\",\n",
    "\n",
    "                 \"biopirat\", \"bioteknolog\", \"bioaktiv\",\n",
    "                 \"bioøkonom\", \"blå vekst\", \"blå økonomi\", \"blå aksjer\", \"marin økonomi\",\n",
    "                 \"fordel\", \"gevinst\", \"bærekraftig utvik\", \"berekraftig utvik\", \"bistand\", \"menneskelig utvikling\", \"økonomisk utvikling\", \"levekårsutvikling\", \"sosial utvikling\",\n",
    "                 \"turism\", \"turist\", \n",
    "                 \"fiske\", \"akvakultur\", \"havbruk\", \"akvarie\",\n",
    "                 \"utnytt\", \"varer og tjeneste\", \"økosystem tjenest\",\n",
    "                 \"sosio-økologisk\", \"sosioøkologi\", \"sosioøkonomisk\", \"sosio-økonomisk\",\n",
    "                 \"økonomi\", \"BNP\", \"rikdom\", \"penger\", \"investor\",\n",
    "                 \"levebrød\", \"arbeid\", \"inntekt\", \"avkastn\",\n",
    "                 \"handel\", \"marked\",\n",
    "                 \"bærekraftig bruk\", \"berekraftig bruk\",  \"selvbærende\", \"sjølvberande\", \"miljøvennlig\", \"miljøvennleg\", \"miljøvenleg\", \"miljøbevisst\"]\n",
    "\n",
    "phrasedefault14_ak = r'(?:{})'.format('|'.join(termlist14_ak))\n",
    "phrasedefault14_al = r'(?:{})'.format('|'.join(termlist14_al))\n",
    "phrasedefault14_am = r'(?:{})'.format('|'.join(termlist14_am))\n",
    "phrasedefault14_an = r'(?:{})'.format('|'.join(termlist14_an))"
   ]
  },
  {
   "cell_type": "code",
   "execution_count": null,
   "id": "b35ebcb4-617c-46f8-a921-d67d44395fad",
   "metadata": {
    "colab": {
     "base_uri": "https://localhost:8080/"
    },
    "id": "p6n1LHKxWigf",
    "outputId": "175c3f29-e5e2-4765-8d14-16ea853c7b3e"
   },
   "outputs": [],
   "source": [
    "#Search 1\n",
    "Data.loc[(\n",
    "    (\n",
    "        (Data['result_title'].str.contains(phrasedefault14_ak, na=False, case=False)) #& (Data['result_title'].str.contains(phrasedefault14_al, na=False, case=False)))\n",
    "        | ((Data['result_title'].str.contains(phrasedefault14_an, na=False, case=False)) & (Data['result_title'].str.contains(phrasedefault14_am, na=False, case=False)))  \n",
    "    )\n",
    "    & (Data['LMICs']==True)\n",
    "    & (Data['marine_terms']==True)\n",
    "),\"tempsdg14_a\"] = \"SDG14_0a\"\n",
    "\n",
    "print(\"Number of results = \", len(Data[(Data.tempsdg14_a == \"SDG14_0a\")])) "
   ]
  },
  {
   "cell_type": "code",
   "execution_count": null,
   "id": "b2b242de-0b54-40a6-95ba-7431adcffe9a",
   "metadata": {
    "colab": {
     "base_uri": "https://localhost:8080/"
    },
    "id": "2biI_b70fmEV",
    "outputId": "2f77cc71-1347-4ae7-8677-9bdb1aa1f6f5"
   },
   "outputs": [],
   "source": [
    "test=Data.loc[(Data.tempsdg14_a == \"SDG14_0a\"), (\"result_id\", \"result_title\")]\n",
    "test.iloc[0:5, ]"
   ]
  },
  {
   "cell_type": "markdown",
   "id": "bc54ef64-19ff-4cee-a984-56f02825d3c3",
   "metadata": {
    "id": "5M72AnzujaXx"
   },
   "source": [
    "### SDG 14.b\n",
    "*14.b Provide access for small-scale artisanal fishers to marine resources and markets*\n",
    "\n",
    "*Gi fiskere som driver småskala fiske, tilgang til marine ressurser og markeder*\n",
    "\n",
    "Phrase 1 and 2 merged."
   ]
  },
  {
   "cell_type": "code",
   "execution_count": null,
   "id": "5764b249-199c-4d54-bc66-2c142da130e8",
   "metadata": {
    "id": "M1T2J_KKjaX7"
   },
   "outputs": [],
   "source": [
    "#Termlists\n",
    "termlist14_ba = [\"access\", \"right\",\n",
    "                 \"commons\", \"common property\", \"common fishing\", \"ownership\", \"inheritance\",\n",
    "                 \"conflict\", \"dispute\", \"contested\", \"competition\",\n",
    "                 \"inequit\", \"marginali\", \"criminal\", \"appropriat\",\n",
    "                 \"blue injustice\", \"blue justice\", \"distributional justice\",\n",
    "                 \"governance\", \"planning\" , \"legislation\" , \"policy\" , \"policies\" , \"framework\" , \"strateg\" , \"legislat\" , \"regulations\",\n",
    "\n",
    "                 \"tilgang\", \"rett\",\n",
    "                 \"felles\", \"eierskap\",\n",
    "                 \"konflikt\", \"tvist\", \"konkurrans\",\n",
    "                 \"kriminel\", \"stjel\",\n",
    "                 \"styring\", \"ledelse\", \"leiing\", \"politikk\", \"retningslinj\", \"rammverk\", \"planlegging\", \"regulativ\", \"lovgiv\", \"forskrift\",]\n",
    "                #\"rett\"(NO) covers both rights and justice (rett, rettferd)\n",
    "\n",
    "termlist14_bb = [\"law\", \"laws\",\n",
    "                 \"lov\", \"lovverk\", \"arv\"] #terms to control truncation\n",
    "\n",
    "termlist14_bc = [\"fishing\", \"fisher\", \"fish market\", \"shellfish\", \"marine resource\", \"marine harvest\",                \n",
    "                 \"fiske\", \"skalldyr\", \"marine ressurs\", \"havbruk\"]\n",
    "\n",
    "termlist14_bd = [\"traditional fishing\",\"small-scale\", \"artisan\", \"subsistence\", \"indigenous\", \"sami\", \"sapmi\", \n",
    "                 \"tradisjonel\", \"småskala\", \"subsistens\", \"levebrød\", \"urfolk\", \"urbefolk\", \"samene\"]\n",
    "\n",
    "phrasedefault14_ba = r'(?:{})'.format('|'.join(termlist14_ba))\n",
    "phrasespecific4_bb = r'\\b(?:{})\\b'.format('|'.join(termlist14_bb))\n",
    "phrasedefault14_bc = r'(?:{})'.format('|'.join(termlist14_bc))\n",
    "phrasedefault14_bd = r'(?:{})'.format('|'.join(termlist14_bd))"
   ]
  },
  {
   "cell_type": "code",
   "execution_count": null,
   "id": "51b87cb8-4660-413c-bd5c-8ef8d767f583",
   "metadata": {
    "colab": {
     "base_uri": "https://localhost:8080/"
    },
    "id": "LB6Quz3MjaX-",
    "outputId": "d8ca6180-a6f0-4275-9227-74c3267d6517"
   },
   "outputs": [],
   "source": [
    "#Search 1\n",
    "\n",
    "Data.loc[(\n",
    "    ((Data['result_title'].str.contains(phrasedefault14_ba, na=False, case=False)) | (Data['result_title'].str.contains(phrasespecific4_bb, na=False, case=False)))\n",
    "    & \n",
    "    (\n",
    "        (Data['result_title'].str.contains(phrasedefault14_bc, na=False, case=False)) \n",
    "        & (Data['result_title'].str.contains(phrasedefault14_bd, na=False, case=False))\n",
    "    )\n",
    "),\"tempsdg14_b\"] = \"SDG14_b\"\n",
    "\n",
    "print(\"Number of results = \", len(Data[(Data.tempsdg14_b == \"SDG14_b\")]))  "
   ]
  },
  {
   "cell_type": "code",
   "execution_count": null,
   "id": "520d43cb-6696-4806-a32f-4ada6ade297f",
   "metadata": {
    "colab": {
     "base_uri": "https://localhost:8080/"
    },
    "id": "7cJGJYctjaYC",
    "outputId": "a5808f48-e88b-4761-a906-021858f642f5"
   },
   "outputs": [],
   "source": [
    "test=Data.loc[(Data.tempsdg14_b == \"SDG14_b\"), (\"result_id\", \"result_title\")]\n",
    "test.iloc[0:5, ]"
   ]
  },
  {
   "cell_type": "markdown",
   "id": "82a96408-b0c1-40cc-a23e-0cb1cf8d9227",
   "metadata": {
    "id": "khq_t-dwokmq"
   },
   "source": [
    "### SDG 14.c\n",
    "\n",
    "*14.c Enhance the conservation and sustainable use of oceans and their resources by implementing international law as reflected in the United Nations Convention on the Law of the Sea, which provides the legal framework for the conservation and sustainable use of oceans and their resources, as recalled in paragraph 158 of “The future we want”*\n",
    "\n",
    "*Styrke bevaring og bærekraftig bruk av havene og de marine ressursene ved å implementere folkeretten slik den er reflektert i FNs havrettskonvensjon, som utgjør rettsgrunnlaget for bevaring og bærekraftig bruk av havene og de marine ressursene, slik det framgår av punkt 158 i FN-rapporten «The Future We Want»*\n"
   ]
  },
  {
   "cell_type": "markdown",
   "id": "5c6a5a95-5c9b-4498-b10f-682a4ad82e63",
   "metadata": {
    "id": "LrB_4e03okmx"
   },
   "source": [
    "#### Phrase 1 & 2"
   ]
  },
  {
   "cell_type": "markdown",
   "id": "84661174-2914-403d-9f26-82e898685cab",
   "metadata": {
    "id": "jwzcZMLt8CNa"
   },
   "source": [
    "A website with Norwegian and English names for international environmental agreements from the Norwegian Environment Agency was used to help translate agreement names (https://www.miljodirektoratet.no/regelverk/konvensjoner/; accessed 24/01/23)"
   ]
  },
  {
   "cell_type": "code",
   "execution_count": null,
   "id": "7646bf4e-51b6-4c28-bbdd-16571903589e",
   "metadata": {
    "id": "VXOJxQrpokm3",
    "tags": []
   },
   "outputs": [],
   "source": [
    "#Termlists\n",
    "termlist14_ca = [\"law of the sea\",\n",
    "                 \"diversity beyond national jurisdiction\", \"high seas treaty\",\n",
    "                 \"common fisheries policy\",\n",
    "                 \"marine stewardship council\",\n",
    "                 \"regional fisheries management organi\",\n",
    "                 \"fish stocks agreement\",\n",
    "                 \"code of conduct for responsible fisheries\",\n",
    "                 \"port state measures agreement\",\n",
    "                 \"Management of Straddling Fish Stocks\",\"Management of Highly Migratory Fish Stocks\",\n",
    "                 \"deep-sea fisheries guidelines\",\"Management of Deep-sea Fisheries in the High Seas\",\n",
    "                 \"North Atlantic Salmon conservation Organization\",\n",
    "                 \"marine spatial planning directive\",\n",
    "                 \"Regional seas programme\",\n",
    "                 \"Marine strategy framework directive\",\n",
    "                 \"OSPAR convention\",\"Convention for Protection of the Marine Environment of the North-East Atlantic\",\n",
    "                 \"Barcelona convention\",\n",
    "                 \"Global Programme of Action for the Protection of the Marine Environment\",\n",
    "                 \"prevention of pollution from ships\",\n",
    "                 \"Conservation of Antarctic Living Marine Resources\", \"Agreement on the Conservation of Polar Bears\",\n",
    "\n",
    "                 \"havrettskonvensjon\",\"Havrettstraktaten\", \"havtraktat\",\n",
    "                 \"avtalen om verdenshavene\",\n",
    "                 \"felles fiskeripolitik\",\n",
    "                 \"avtalen om fiske på det åpne hav\",\n",
    "                 \"avtalen om havnestatstiltak\",\n",
    "                 \"avtalen om fiske på vandrende bestander\",\n",
    "                 \"regulering av fisket etter dyphavsarter\",\n",
    "                 \"Den nordatlantiske laksevernorganisasjonen\",\n",
    "                 \"havstrategidirektiv\", \n",
    "                 \"Konvensjonen for bevaring av det marine miljø\", \"Oslo-Paris-konvensjonen\", \n",
    "                 \"Isbjørnavtalen\"]\n",
    "                #Terms that can be searched for in all data, are about marine law/agreements\n",
    "\n",
    "termlist14_ca_case = [\"UNCLOS\",\"ABNJ\",\"BBNJ\",\"RFMO\",\"CCRF\",\"UNFSA\",\"MSFD\",\"MARPOL\"] #terms to use uppercase\n",
    "\n",
    "termlist14_cb = [\"the future we want\",\n",
    "                 \"habitats directive\",\"convention on biological diversity\",\n",
    "                 \"Convention on International Trade in Endangered Species\",\n",
    "                 \"World Heritage Convention\",\n",
    "                 \"Water framework directive\",\n",
    "                 \"Bern convention\", \"Convention on the Conservation of European Wildlife and Natural Habitats\",\n",
    "                 \"Bonn convention\",\"Convention on the Conservation of Migratory Species of Wild Animals\",\n",
    "                 \"stockholm convention\",\n",
    "\n",
    "                 \"habitatdirektiv\", \"Konvensjon om biologisk mangfold\", \"Konvensjonen om biologisk mangfold\", \"biodiversitetskonvensjon\",\n",
    "                 \"Konvensjonen om internasjonal handel med truede dyr\",\"internasjonal handel med truede og sårbare arter\",\n",
    "                 \"verdensarvkonvensjonen\",\n",
    "                 \"Vannrammedirektiv\",\n",
    "                 \"Bernkonvensjonen\", \"Bern-konvensjon\", \"Konvensjonen om vern av ville europeiske planter og dyr\",\n",
    "                 \"Bonnkonvensjonen\", \"Bonn-konvensjon\", \"konvensjonen om bevaring av trekkende ville dyr\",\n",
    "                 \"Stockholmkonvensjonen\", \"Stockholm-konvensjon\"]\n",
    "                #Terms that need to be used with marine terms\n",
    "\n",
    "phrasedefault14_ca = r'(?:{})'.format('|'.join(termlist14_ca))\n",
    "phrasedefault14_ca_case = r'(?:{})'.format('|'.join(termlist14_ca_case))\n",
    "phrasedefault14_cb = r'(?:{})'.format('|'.join(termlist14_cb))"
   ]
  },
  {
   "cell_type": "code",
   "execution_count": null,
   "id": "6bafa31d-62b1-4a04-b885-61908c14da15",
   "metadata": {},
   "outputs": [],
   "source": [
    "#Search in marine set for generic environmental legislation, and in the whole data for marine specific legislation\n",
    "Data.loc[(\n",
    "    ((Data['result_title'].str.contains(phrasedefault14_ca, na=False, case=False))|(Data['result_title'].str.contains(phrasedefault14_ca_case, na=False, case=True)))\n",
    "    |((Data['result_title'].str.contains(phrasedefault14_cb, na=False, case=False)) & (Data['marine_terms']==True))\n",
    "),\"tempsdg14_c\"] = \"SDG14_c\"\n",
    "\n",
    "print(\"Number of results = \", len(Data[(Data.tempsdg14_c == \"SDG14_c\")])) "
   ]
  },
  {
   "cell_type": "code",
   "execution_count": null,
   "id": "90aac000-540c-410e-b711-3b5d4ae4cb1e",
   "metadata": {},
   "outputs": [],
   "source": [
    "test=Data.loc[(Data.tempsdg14_c == \"SDG14_c\"), (\"result_id\", \"result_title\")]\n",
    "test.iloc[0:5, ]"
   ]
  },
  {
   "cell_type": "markdown",
   "id": "93c9c625-8a2d-4a5c-a002-157417c17849",
   "metadata": {
    "id": "SeTnaN1Cuxsg"
   },
   "source": [
    "#### Phrase 3"
   ]
  },
  {
   "cell_type": "code",
   "execution_count": null,
   "id": "3221adce-e90e-42ac-8c1b-08afa761003e",
   "metadata": {
    "id": "HrK66W7Puxsj"
   },
   "outputs": [],
   "source": [
    "#Termlists\n",
    "termlist14_cc = [\"international\", \"beyond national jurisdiction\", \"high seas\", \"europ\", \"pacific\", \"asia\", \"africa\", \"latin america\", \"south america\", \"arctic\",\n",
    "                 \"internasjonal\", \"stillehavet\", \"afrika\", \"sør-amerika\", \"arktisk\"]\n",
    "\n",
    "termlist14_cccaps = [\"UN\", \"ABNJ\",\n",
    "                     \"FN\"]\n",
    "\n",
    "termlist14_cd = [\"governance\",\"policy\",\"policies\",\"regulat\",\"legal\",\"legislat\",\"agreement\",\"treaty\",\"treaties\",\"framework\",\"instrument\",\n",
    "                 \"styring\", \"ledelse\", \"leiing\", \"politikk\", \"retningslin\", \"rammeverk\", \"styring\", \"planlegging\", \"regulativ\", \"lovgivning\", \"rett\", \"juridisk\", \"lovverk\", \"forskrift\"]\n",
    "\n",
    "termlist14_ce = [\"law\", \"laws\"\n",
    "                 \"lov\"] #terms to limit truncation\n",
    "\n",
    "termlist14_cf = [\"conservation\",\"sustainab\",\"ecosystem restoration\",\n",
    "                 \"ecosystem based management\",\"area based management\",\"resilience based management\",\n",
    "                 \"coastal zone management\",\"integrated coastal zone planning\",\"coastal resources management\",\n",
    "                 \"community based management\",\"locally managed marine area$\",\n",
    "                 \"marine spatial planning\",\"spatial management\",\n",
    "                 \"herbivore management area\",\"ecosystem approach\",\n",
    "                 \"protected area\", \"marine reserve\",\"ocean reserve\",\"marine park\",\"marine sancturary\",\n",
    "                 \"nature reserve\",\"conservation zone\",\"particularly sensitive sea area\",\n",
    "                 \"biodivers\", \"biological diversity\",\n",
    "                 \"blue growth\",\"blue econom\",\n",
    "\n",
    "                 \"forvalt\", \"vernet\", \"miljøvern\", \"bevart\", \"bevaring\", \"fredet\", \"fredning\", \"gjenoppbygg\", \"restaurer\", \"bærekraft\",\n",
    "                 \"økosystembasert forvaltning\", \"økosystembasert styring\", \"forvaltningsplaner\",\n",
    "                 \"samfunnsforvalt\", \"bærekraftig forvalt\", \"berekraftig forvalt\", \"arealforvaltning\",\n",
    "                 \"integrert kystsone\", \"kystplanlegging\", \"kystsoneforvaltning\",\n",
    "                 \"marint vernområde\",\"marine vernområde\",\"marine verneområde\",\"marine reservat\",\n",
    "                 \"naturreservat\", \"biotopvernområde\", \"nasjonalpark\", \"bevarte område\",\n",
    "                 \"biologisk diversit\",\"biologisk mangfold\",\n",
    "                 \"blåvekst\", \"blå vekst\", \"blå økonomi\"]\n",
    "\n",
    "termlist14_cfcaps = [\"MSP\", \"ICZM\", \"LMMA\", \"MPA\", \"LSMPA\"] #terms to search case sensitive\n",
    "\n",
    "phrasedefault14_cc = r'(?:{})'.format('|'.join(termlist14_cc))\n",
    "phrasespecific14_cccaps = r'\\b(?:{})\\b'.format('|'.join(termlist14_cccaps))\n",
    "phrasedefault14_cd = r'(?:{})'.format('|'.join(termlist14_cd))\n",
    "phrasespecific14_ce = r'\\b(?:{})\\b'.format('|'.join(termlist14_ce))\n",
    "phrasedefault14_cf = r'(?:{})'.format('|'.join(termlist14_cf))\n",
    "phrasedefault14_cfcaps = r'(?:{})'.format('|'.join(termlist14_cfcaps))\n"
   ]
  },
  {
   "cell_type": "code",
   "execution_count": null,
   "id": "c5fc1e62-0a5b-4ff8-b10c-541ecbd0312b",
   "metadata": {
    "colab": {
     "base_uri": "https://localhost:8080/"
    },
    "id": "a1rnXRCluxsl",
    "outputId": "b5c55aa2-815b-4299-fb02-b9b48b9b4db0"
   },
   "outputs": [],
   "source": [
    "#Search 1\n",
    "Data.loc[(\n",
    "    ((Data['result_title'].str.contains(phrasedefault14_cc, na=False, case=False))  | (Data['result_title'].str.contains(phrasespecific14_cccaps, na=False, case=False)) )\n",
    "    & ((Data['result_title'].str.contains(phrasedefault14_cd, na=False, case=False))  | (Data['result_title'].str.contains(phrasespecific14_ce, na=False, case=False)) )\n",
    "    & ((Data['result_title'].str.contains(phrasedefault14_cf, na=False, case=False)) | (Data['result_title'].str.contains(phrasedefault14_cfcaps, na=False, case=True)) )\n",
    "    & (Data['marine_terms']==True)\n",
    "),\"tempsdg14_c\"] = \"SDG14_c\"\n",
    "\n",
    "print(\"Number of results = \", len(Data[(Data.tempsdg14_c == \"SDG14_c\")])) "
   ]
  },
  {
   "cell_type": "code",
   "execution_count": null,
   "id": "7ea58dfa-2ca8-4fb8-a87b-dace791be339",
   "metadata": {},
   "outputs": [],
   "source": [
    "test=Data.loc[(Data.tempsdg14_c == \"SDG14_c\"), (\"result_id\", \"result_title\")]\n",
    "test.iloc[0:5, ]"
   ]
  },
  {
   "cell_type": "markdown",
   "id": "3bd2dbc0-b2f4-42ab-a402-5d73bf20a2e6",
   "metadata": {
    "id": "8ADVh9SQzOkV"
   },
   "source": [
    "### SDG 14 mentions\n",
    "\n",
    "Works mentioning SDG14"
   ]
  },
  {
   "cell_type": "markdown",
   "id": "dc98fe70-7886-4c6c-bb14-8eed4a9624ab",
   "metadata": {
    "id": "qxpRLCsfzOka"
   },
   "source": [
    "Here it was not neccesary to exclude the NOT terms used in a normal abstract search, so they are not used. But in other contexts/abstract searches it may be necessary to add them in again. \n",
    "\n",
    "\"SDG\" was also not searched for case-sensitive, as it seems to work ok without."
   ]
  },
  {
   "cell_type": "code",
   "execution_count": null,
   "id": "e856b74a-ecdf-4891-9d61-fee036022a74",
   "metadata": {
    "id": "jHKLb8DLzOkf"
   },
   "outputs": [],
   "source": [
    "#Termlists\n",
    "\n",
    "termlist_sdg_a = [\"SDG 14\", \"SDGs 14\", \"SDG14\", \"sustainable development goal 14\", \n",
    "                  \"bærekraftsmål 14\", \"berekraftsmål 14\"]\n",
    "termlist_sdg_b = [\"sustainable development goal\", \n",
    "                  \"bærekraftsmål\", \"berekraftsmål\"]\n",
    "termlist_sdg_c = [\"goal 14\",\n",
    "                  \"mål 14\"]\n",
    "termlist_sdg_d = [\"sustainable development goal\", \"SDG\", \"goal 14\", \n",
    "                  \"bærekraftsmål\", \"berekraftsmål\", \"mål 14\"]\n",
    "termlist_sdg_e = [\"ocean.*\", \"marine\", \"sea\", \"seas\", \"fisher.*\",\n",
    "                  \"hav\", \"havet\", \"sjø\", \"marin\", \"fisker.*\"]\n",
    "\n",
    "termlist_sdg_f = [\"life below water\", \"livet i havet\", \"Liv under vatn\"]\n",
    "#extra phrase where the short titles of the SDG are included, since this is a title search\n",
    "\n",
    "phrasedefault_sdg_a = r'(?:{})'.format('|'.join(termlist_sdg_a))\n",
    "phrasedefault_sdg_b = r'(?:{})'.format('|'.join(termlist_sdg_b))\n",
    "phrasedefault_sdg_c = r'(?:{})'.format('|'.join(termlist_sdg_c))\n",
    "phrasedefault_sdg_d = r'(?:{})'.format('|'.join(termlist_sdg_d))\n",
    "phrasespecific_sdg_e = r'\\b(?:{})\\b'.format('|'.join(termlist_sdg_e))\n",
    "phrasedefault_sdg_f = r'(?:{})'.format('|'.join(termlist_sdg_f))"
   ]
  },
  {
   "cell_type": "code",
   "execution_count": null,
   "id": "649d0954-9822-4e17-a633-ee039bb2a190",
   "metadata": {
    "colab": {
     "base_uri": "https://localhost:8080/"
    },
    "id": "PdvRZGF2zOki",
    "outputId": "9e65b5cc-62f7-4cfe-f985-bba42e498560"
   },
   "outputs": [],
   "source": [
    "#Search 1\n",
    "Data.loc[(\n",
    "      (Data['result_title'].str.contains(phrasedefault_sdg_a, na=False, case=False))\n",
    "      |(Data['result_title'].str.contains(phrasedefault_sdg_f, na=False, case=False))\n",
    "      |((Data['result_title'].str.contains(phrasedefault_sdg_b, na=False, case=False)) & (Data['result_title'].str.contains(phrasedefault_sdg_c, na=False, case=False)))\n",
    "      |((Data['result_title'].str.contains(phrasedefault_sdg_d, na=False, case=False)) & (Data['result_title'].str.contains(phrasespecific_sdg_e, na=False, case=False)))\n",
    "),\"tempmentionsdg14\"] = \"SDG14\"\n",
    "    \n",
    "print(\"Number of results = \", len(Data[(Data.tempmentionsdg14 == \"SDG14\")]))"
   ]
  },
  {
   "cell_type": "code",
   "execution_count": null,
   "id": "d877dee9-a121-4431-94db-2a9cc2fc4583",
   "metadata": {
    "colab": {
     "base_uri": "https://localhost:8080/",
     "height": 581
    },
    "id": "FbI98lLkzOkk",
    "outputId": "bf25a4c4-0173-435d-c524-b5ec6df61d95"
   },
   "outputs": [],
   "source": [
    "test=Data.loc[(Data.tempmentionsdg14 == \"SDG14\"), (\"result_id\", \"result_title\")]\n",
    "test.iloc[0:5, ]"
   ]
  },
  {
   "cell_type": "markdown",
   "id": "17d07bbc-a82e-419b-95cd-193241dfc610",
   "metadata": {
    "id": "XlCmOYBwniZB"
   },
   "source": [
    "## SDG 15\n",
    "\n",
    "Webpages about SDG targets from the UN Association of Norway were used to get target translations and to help with Norwegian terms (https://www.fn.no/om-fn/fns-baerekraftsmaal/livet-paa-land).\n",
    "\n",
    "Have also used \"Realfagstermer\", a controlled vocabulary for scientific terms from the University of Oslo and University of Bergen - https://app.uio.no/ub/emnesok/realfagstermer/search\n",
    "\n",
    "Natur i Norge (Artsdatabanken) was used to help with translation of terrestrial and limnic habitats - https://www.artsdatabanken.no/NiN/Natursystem/Typeinndeling (accessed 24/01/23\n",
    "\n",
    "A website with Norwegian and English names for international environmental agreements from the Norwegian Environment Agency was used to help translate agreement names - https://www.miljodirektoratet.no/regelverk/konvensjoner/ (accessed 24/01/23)"
   ]
  },
  {
   "cell_type": "markdown",
   "id": "1e02a7a8-12a6-4cf8-9416-6c27faa23487",
   "metadata": {
    "id": "tt-Bv9BcnnUQ"
   },
   "source": [
    "### Terrestrial terms\n",
    "Used together with most (but not all) targets to try and limit the results to the terrestrial/limnic environment. Done by creating a T/F column that can be combined with other searches. There are two variants - an AND set, and a double NOT set, that are used variously as needed. The double NOT variant is used because many terrestrial works may not indicate habitat type. \n",
    "\n",
    "* terr_terms : T = contains a word indicating it is about the terrestrial/limnic environment. \n",
    "* terrestrial_double_NOT : T = does not contain marine terms alone (e.g. a title talking about coral and peatlands will be included, but one only about coral will not). "
   ]
  },
  {
   "cell_type": "code",
   "execution_count": null,
   "id": "600ed7f5-baa8-4199-80ab-5c30ad910e1a",
   "metadata": {
    "id": "J1OyLMbMnhye"
   },
   "outputs": [],
   "source": [
    "## The terrestial list\n",
    "#---------------------------------\n",
    "\n",
    "termlist15_terr1 = [\"terrestrial\",\n",
    "                    \"forest\", \"woodland\", \"taiga\", \"jungle\", \"mangrove\", \n",
    "                    \"peatland\", \"peat land\", \"swamp\", \"wetland\", \"marsh\", \"paludal\",\n",
    "                    \"farmland\", \"agricultural land\", \"cropland\", \"pasture\", \"rangeland\",\n",
    "                    \"shrub\", \"meadow\", \"bushland\", \"heath\", \"moorland\",\n",
    "                    \"savanna\",\"grassland\",\"prairie\",\n",
    "                    \"dryland\", \"dry land\", \"desert\", \n",
    "                    \"lowland\",\n",
    "                    \"mountain\", \"highland\", \"alpine\", \"tundra\", \"upland\",\n",
    "                    \"freshwater\", \"limnic\", \"inland fish\",\n",
    "                    \"brook\", \"creek\",\n",
    "\n",
    "                    \"terrestrisk\", \"landlevende\", \"villmarksområd\",\n",
    "                    \"skog\", \"jungel\",\n",
    "                    \"torv\", \"torvmos\", \"torvmyr\", \"slåttemyr\", \"myrer\", \"myrar\", \"sumper\", \"sumpar\", \"våtmark\", \"våteng\", \"torvmark\",\n",
    "                    \"dyrket mark\", \"dyrket jord\", \"dyrka jord\", \"dyrka mark\", \"landbruksmark\", \"utmark\", \"innmark\", \"beite\",\n",
    "                    \"kratt\", \"busker\", \"lynghei\",\n",
    "                    \"engmark\", \"natureng\", \"kultureng\", \"engvegeta\", \"moseeng\", \"gresseng\", \"strandeng\", \"slåttemark\", \n",
    "                    \"prærie\", \"tørre område\",\n",
    "                    \"tørrmark\", \"ørken\", \"halvtørre områd\",\n",
    "                    \"fjell\", \"bergtopp\", \"alpin\", \n",
    "                    \"ferskvann\", \"ferskvatn\", \"innlandsfisk\", \"innsjø\"]\n",
    "\n",
    "termlist15_terr2 = [\"soil\", \"soils\", \"bog\", \"bogs\", \"mire\", \"mires\", \"fen\", \"fens\", \"bush\", \"bushes\", \"plains\", \"steppe\",\n",
    "                    \"lake\", \"lakes\", \"pond\", \"ponds\", \"river\", \"rivers\", \"stream\", \"streams\",\n",
    "\n",
    "                    \"jord\", \"åker\", \"myr\", \"sump\", \"eng\", \"enger\", \"busk\", \"elv\", \"elver\", \"bekk\"]\n",
    "\n",
    "phrasedefault15_terr1 = r'(?:{})'.format('|'.join(termlist15_terr1))\n",
    "phrasespecific15_terr2 = r'\\b(?:{})\\b'.format('|'.join(termlist15_terr2))"
   ]
  },
  {
   "cell_type": "code",
   "execution_count": null,
   "id": "f9fe77b7-32b8-4635-acbc-cdd52d7ffc94",
   "metadata": {},
   "outputs": [],
   "source": [
    "Data[\"terr_terms\"] = (\n",
    "    (Data['result_title'].str.contains(phrasedefault15_terr1, na=False, case=False))\n",
    "    | (Data['result_title'].str.contains(phrasespecific15_terr2, na=False, case=False))\n",
    ")\n",
    "\n",
    "len(Data.loc[Data['terr_terms']])"
   ]
  },
  {
   "cell_type": "code",
   "execution_count": null,
   "id": "aecc7e34-9756-4801-93ee-e52c26bc30e5",
   "metadata": {
    "colab": {
     "base_uri": "https://localhost:8080/",
     "height": 685
    },
    "id": "Ixopkv8nppSs",
    "outputId": "16eeb653-6f7b-41f7-ed5a-3a196658e070"
   },
   "outputs": [],
   "source": [
    "#Results\n",
    "test=Data.loc[Data['terr_terms']]\n",
    "test.iloc[0:10, [0,4,5,6,8]]"
   ]
  },
  {
   "cell_type": "code",
   "execution_count": null,
   "id": "662eb7e7-e135-4b45-a369-d9a0090e177d",
   "metadata": {
    "id": "urzPk00bh8EH"
   },
   "outputs": [],
   "source": [
    "## The terrestial double NOT list\n",
    "#---------------------------------\n",
    "\n",
    "termlist_noise = [\"marin\", \"coral\", \"ocean\", \"seafloor\", \"deep-sea\", \"deep sea\",\"kelp\", \n",
    "                  \"random forest\", \"internet of thing\", \"urban ecosystem\",\n",
    "                  \"salivary microbio\",\"gut microbio\",\"skin microbio\",\"oral microbiome\",\"gut flora\",\"skin flora\",\"immunologi\",\"immunology\",\"hormon\",\"syndrome\",\"vector\",\"enzyme\",\"infected\",\"infection\",\"infect\",\n",
    "                  \n",
    "                  \"korall\", \"sjøbunn\", \"sjøbotn\", \"havbunn\", \"havbotn\", \"havdyp\", \"havdjup\", \"dyphav\", \"djuphav\", \"tareskog\", \"tare skog\",\n",
    "                  \"språk\", \"barnevernet\"]\n",
    "                  #\"språk\" (NO: language) is added here as in Norwegian a lot of the same terms are used for language conservation as nature conservation (e.g. forvaltningsområde).\n",
    "                  #\"barnevernet\" (NO: child protective services) also\n",
    "                  #The medical terms (line 3) are from 15.1 phrase 3. We have included all from the WOS string except from parasite.\n",
    "\n",
    "termlist_noise2 = [\"IOT\", \"hav\", \"havet\"]\n",
    "phrasedefault_noise = r'(?:{})'.format('|'.join(termlist_noise))\n",
    "phrasespecific_noise_2 = r'\\b(?:{})\\b'.format('|'.join(termlist_noise2))"
   ]
  },
  {
   "cell_type": "code",
   "execution_count": null,
   "id": "3c44bbef-4e63-4851-ba96-51a0ab42e410",
   "metadata": {
    "colab": {
     "base_uri": "https://localhost:8080/"
    },
    "id": "tEZIGL7yhUkp",
    "outputId": "8308d7f0-c281-443b-f2f8-a33813448d4d"
   },
   "outputs": [],
   "source": [
    "mask15_pre = Data.loc[(Data['result_title'].str.contains(phrasedefault_noise, na=False, case=False))|(Data['result_title'].str.contains(phrasespecific_noise_2, na=False, case=False))]\n",
    "#Select all that include marine terms\n",
    "\n",
    "mask15 = mask15_pre.loc[~((mask15_pre['result_title'].str.contains(phrasedefault15_terr1, na=False, case=False))|(Data['result_title'].str.contains(phrasespecific15_terr2, na=False, case=False)))]\n",
    "#Select those that don't also include one of the terrestrial terms - i.e. they are purely marine\n",
    "#Note that this will not successfully remove \"kelp forest\" (/tareskog) as these contain the terms forest(/skog).\n",
    "\n",
    "print(\"Number of results = \", len(Data)) "
   ]
  },
  {
   "cell_type": "code",
   "execution_count": null,
   "id": "306cb664-39e8-408d-a935-36cc8082c895",
   "metadata": {},
   "outputs": [],
   "source": [
    "Data[\"terrestrial_double_NOT\"] = (~Data.index.isin(mask15.index))\n",
    "\n",
    "print(\"Number of original results = \", len(Data)) \n",
    "print(\"Number of double NOT results = \",(len(Data.loc[Data['terrestrial_double_NOT']])))\n",
    "print(\"Number of results dropped = \",((len(Data.loc[Data['terrestrial_double_NOT']]))-(len(Data))))"
   ]
  },
  {
   "cell_type": "code",
   "execution_count": null,
   "id": "5bfdf231-2bb4-47e0-ad5a-e1a0b2fde489",
   "metadata": {},
   "outputs": [],
   "source": [
    "#Results\n",
    "test=Data.loc[Data['terrestrial_double_NOT']]\n",
    "test.iloc[15:25, [0,4,5,6,8]]"
   ]
  },
  {
   "cell_type": "markdown",
   "id": "c70dc7f1-c641-4a85-a4b8-9b314e9d99cc",
   "metadata": {
    "id": "28QC5YCmq6wD"
   },
   "source": [
    "### SDG 15.1\n",
    "\n",
    "*15.1 By 2020, ensure the conservation, restoration and sustainable use of terrestrial and inland freshwater ecosystems and their services, in particular forests, wetlands, mountains and drylands, in line with obligations under international agreements*\n",
    "\n",
    "*Innen 2020 bevare og gjenopprette bærekraftig bruk av ferskvannsbaserte økosystemer og tjenester som benytter seg av disse økosystemene, på land og i innlandsområder, særlig skoger, våtmarker, fjell og tørre områder, i samsvar med forpliktelser i internasjonale avtaler.*\n"
   ]
  },
  {
   "cell_type": "markdown",
   "id": "8df649d0-210a-4525-ab6a-c7253db6d5b8",
   "metadata": {
    "id": "ZX2d-k91vhK_"
   },
   "source": [
    "#### Phrase 1"
   ]
  },
  {
   "cell_type": "code",
   "execution_count": null,
   "id": "f42ea64f-b0c3-4ab0-9c74-e01f4fa7b189",
   "metadata": {
    "id": "Ub1aKSj8q6wF"
   },
   "outputs": [],
   "source": [
    "#Termlists\n",
    "termlist15_1a = [\"protected area\",\"conservation area\",\"conservation zone\",\"Wilderness area\",\"Nature reserve\",\"National park\",\n",
    "                 \"Habitat management area\",\"Species management area\",\"Protected landscape\",\n",
    "                 \"conserved ecosystem\",\"conservation ecosystem\", \"protected ecosystem\",\"protecting ecosystem\", \"protect ecosystem\",\n",
    "\n",
    "                 \"vernområde\",\"bevarte område\", \"bevaringsområde\", \"naturreservat\",\"biotopvernområde\",\"biosfæreområde\",\"nasjonalpark\",\n",
    "                 \"landskapsvern\",\"økosystemforvalt\",\"økosystembasert forvalt\",\n",
    "                 \"vernet økosystem\",\"fredningsområde\",\"forvaltningsområde\"]\n",
    "\n",
    "termlist15_1b = [\"protect\", \"preserv\", \"conserv\", \"reforest\", \"re-forest\", \"rehabilit\", \"restor\",\n",
    "                 \"verne\", \"verna\", \"vern av\", \"miljøvern\", \"bevare\", \"bevaring\", \"frede\", \"freda\", \"fredning\", \"gjenoppbygg\", \"restaurer\", \"skogplanting\", \"gjengro\"]\n",
    "                 #\"vernet\" (NO) will also find \"vernetiltak\"\n",
    "    \n",
    "termlist15_1c = [\"habitat\",\"biotop\", \n",
    "                 \"leveområd\"]\n",
    "\n",
    "phrasedefault15_1a = r'(?:{})'.format('|'.join(termlist15_1a))\n",
    "phrasedefault15_1b = r'(?:{})'.format('|'.join(termlist15_1b))\n",
    "phrasedefault15_1c = r'(?:{})'.format('|'.join(termlist15_1c))"
   ]
  },
  {
   "cell_type": "code",
   "execution_count": null,
   "id": "36e52cbb-aaf9-4ce8-ae5d-30efd3679eb8",
   "metadata": {
    "colab": {
     "base_uri": "https://localhost:8080/"
    },
    "id": "WSUKPLNFq6wH",
    "outputId": "28329219-4cac-48b4-fa88-0fd00f0fe45e"
   },
   "outputs": [],
   "source": [
    "#Search in terr double NOT\n",
    "\n",
    "Data.loc[(\n",
    "    (    \n",
    "        (Data['result_title'].str.contains(phrasedefault15_1a, na=False, case=False))\n",
    "        | ((Data['result_title'].str.contains(phrasedefault15_1b, na=False, case=False)) & (Data['result_title'].str.contains(phrasedefault15_1c, na=False, case=False)))\n",
    "    )\n",
    "    &(Data['terrestrial_double_NOT']==True)\n",
    "),\"tempsdg15_01\"] = \"SDG15_01\"\n",
    "\n",
    "print(\"Number of results = \", len(Data[(Data.tempsdg15_01 == \"SDG15_01\")])) "
   ]
  },
  {
   "cell_type": "code",
   "execution_count": null,
   "id": "ae253986-4fe4-47b7-a7cd-f9deed298b39",
   "metadata": {
    "colab": {
     "base_uri": "https://localhost:8080/"
    },
    "id": "Rjkp-WkKm1Db",
    "outputId": "de40a9d0-de02-44de-b2c7-e127baa821c3"
   },
   "outputs": [],
   "source": [
    "test=Data.loc[(Data.tempsdg15_01 == \"SDG15_01\"), (\"result_id\", \"result_title\")]\n",
    "test.iloc[0:5, ]"
   ]
  },
  {
   "cell_type": "markdown",
   "id": "723b0501-20df-49c5-a5ba-4b599601b9a6",
   "metadata": {
    "id": "sgo-x0pBpGmO"
   },
   "source": [
    "#### Phrase 2"
   ]
  },
  {
   "cell_type": "code",
   "execution_count": null,
   "id": "5b9fbd97-15ad-44a8-8d23-e1eafd35def9",
   "metadata": {
    "id": "2k5Owe7vpGmQ"
   },
   "outputs": [],
   "source": [
    "#Termlists\n",
    "termlist15_1d = [\"protect\",\"preserv\",\"conserv\", \"reforest\", \"re-forest\", \"rehabilit\", \"restor\",\n",
    "                 \"verne\", \"verna\", \"vern av\", \"miljøvern\", \"bevare\", \"bevaring\", \"frede\", \"freda\", \"fredning\", \"gjenoppbygg\", \"restaurer\", \"skogplanting\", \"gjengro\"]\n",
    "                 #\"vernet\"(NO) will also find \"vernetiltak\"\n",
    "    \n",
    "termlist15_1e = [\"ecosystem\", \"ecolog\", \"zone\", \"environment\", \"protected area\", \"protected zone\", \"protection zone\", \"conservation area\", \"conservation zone\",\n",
    "                 \"økosystem\", \"kulturlandskap\", \"landskapsvern\", \"miljøvern\", \"miljøparagraf\"]\n",
    "#Supplement with the terrestrial terms in phrasedefault15_terr1 and phrasedefault15_terr2\n",
    "#Added \"natur\" and \"kulturlandskap\"(NO) instead of \"område\"(NO) because there were too many results from cultural/human conservation\n",
    "#\"landskap\"(NO) alone got a lot of cultural results, so it is combined to specific types\n",
    "#\"area\" is also combined, as this solution works well to cut away 95 % noisy results\n",
    "\n",
    "termlist15_1etrunc = [\"natur\"] #prevent left truncation (e.g. signatur)\n",
    "\n",
    "phrasedefault15_1d = r'(?:{})'.format('|'.join(termlist15_1d))\n",
    "phrasedefault15_1e = r'(?:{})'.format('|'.join(termlist15_1e))\n",
    "phrasespecific15_1etrunc = r'\\b(?:{})'.format('|'.join(termlist15_1etrunc))"
   ]
  },
  {
   "cell_type": "code",
   "execution_count": null,
   "id": "1352de09-2ca4-4815-8ccf-1c70d3fbee4d",
   "metadata": {
    "colab": {
     "base_uri": "https://localhost:8080/"
    },
    "id": "y6PPhG-epGmS",
    "outputId": "4168e57e-11d1-40ef-8cfa-d55f80eb1d13"
   },
   "outputs": [],
   "source": [
    "#Search 1 - in terr double NOT\n",
    "\n",
    "Data.loc[(\n",
    "    (\n",
    "        (Data['result_title'].str.contains(phrasedefault15_1d, na=False, case=False))\n",
    "        & ((Data['result_title'].str.contains(phrasedefault15_1e, na=False, case=False)) | (Data['result_title'].str.contains(phrasespecific15_1etrunc, na=False, case=False)))\n",
    "        & (Data['terrestrial_double_NOT']==True)\n",
    "    )\n",
    "),\"tempsdg15_01\"] = \"SDG15_01\"\n",
    "\n",
    "print(\"Number of results = \", len(Data[(Data.tempsdg15_01 == \"SDG15_01\")])) "
   ]
  },
  {
   "cell_type": "code",
   "execution_count": null,
   "id": "7554772d-c0bc-43b7-bccc-70853d9c0be5",
   "metadata": {},
   "outputs": [],
   "source": [
    "#Search 2 - in terr\n",
    "Data.loc[(\n",
    "    (Data['result_title'].str.contains(phrasedefault15_1d, na=False, case=False))\n",
    "    & (Data['terr_terms']==True)\n",
    "),\"tempsdg15_01\"] = \"SDG15_01\"\n",
    "\n",
    "print(\"Number of results = \", len(Data[(Data.tempsdg15_01 == \"SDG15_01\")])) "
   ]
  },
  {
   "cell_type": "code",
   "execution_count": null,
   "id": "e3e1bde6-3faa-4ad7-b298-d3599fe9838d",
   "metadata": {
    "colab": {
     "base_uri": "https://localhost:8080/"
    },
    "id": "AMcXMVAdpGmT",
    "outputId": "54442465-d2af-4a7d-cd35-eb7aae4b9d75"
   },
   "outputs": [],
   "source": [
    "test=Data.loc[(Data.tempsdg15_01 == \"SDG15_01\"), (\"result_id\", \"result_title\")]\n",
    "test.iloc[10:15, ]"
   ]
  },
  {
   "cell_type": "markdown",
   "id": "a7e7ff78-39e4-4205-9d90-c7f6f848616d",
   "metadata": {
    "id": "oHQN27E_sjVf"
   },
   "source": [
    "#### Phrase 3"
   ]
  },
  {
   "cell_type": "code",
   "execution_count": null,
   "id": "6424e82f-3d3c-4596-92d2-e9de68051be8",
   "metadata": {
    "id": "zaEkcLy0sjVm"
   },
   "outputs": [],
   "source": [
    "#Termlists\n",
    "termlist15_1f = [\"protect\",\"preserv\",\"conserv\",\"restore\", \"restoring\", \"restoration\", \"sustainable\",\n",
    "                 \"verne\", \"verna\", \"vern av\", \"miljøvern\", \"bevare\", \"bevaring\", \"frede\", \"freda\", \"fredning\", \"gjenoppbygg\", \"restaurer\", \"bærekraft\", \"berekraft\"]\n",
    "                 #\"vernet\"(NO) will also find \"vernetiltak\"\n",
    "    \n",
    "termlist15_1g = [\"habitat\", \"nature conservation\",\n",
    "                 \"biodivers\",\"biological diversity\",\"species diversity\",\"functional diversity\",\"genetic diversity\",\"taxonomic diversity\",\n",
    "                 \"key species\",\"keystone species\",\"foundation species\",\"habitat forming species\",\"key resource\",\n",
    "                 \n",
    "                 \"leveområd\", \"naturvern\",\n",
    "                 \"biologisk mangf\", \"biomangf\", \"biologiske mangf\", \"artsmangf\", \"artsdiversitet\", \"naturmangf\", \"genetisk mangf\", \"genetisk diversitet\",\n",
    "                 \"nøkkelart\"]\n",
    "\n",
    "termlist15_1h = [\"diversity\", \"community\", \"ecosystem\",\n",
    "                 \"diversitet\", \"mangfold\", \"mangfald\", \"samfunn\", \"økosystem\"]\n",
    "termlist15_1i = [\"ecolog\", \"taxonomic\", \"species\", \"plant\", \"animal\", \"organism\", \"flora\", \"fauna\", \"insect\", \"amphibian\",\"reptil\", \"bird\", \"mosses\", \"tree\", \"grassland\", \"pollinator\",\n",
    "                 \"taksonomisk\", \"økolog\", \"rovdyr\", \"pattedyr\", \"dyreart\", \"dyrart\", \"dyreliv\", \"insekt\", \"amfibi\", \"krypdyr\", \"fugl\", \"moser\", \"mosar\", \"trær\"] \n",
    "                 #\"dyr\" (NO:animal) is difficult in Norwegian as it is a part of many non-relevant words, but also relevant words, so is difficult to control with truncation. Added in combinations.\n",
    "\n",
    "phrasedefault15_1f = r'(?:{})'.format('|'.join(termlist15_1f))\n",
    "phrasedefault15_1g = r'(?:{})'.format('|'.join(termlist15_1g))\n",
    "phrasedefault15_1h = r'(?:{})'.format('|'.join(termlist15_1h))\n",
    "phrasedefault15_1i = r'(?:{})'.format('|'.join(termlist15_1i))"
   ]
  },
  {
   "cell_type": "code",
   "execution_count": null,
   "id": "1faab1b6-757c-4fba-a897-85d57aaaae22",
   "metadata": {
    "colab": {
     "base_uri": "https://localhost:8080/"
    },
    "id": "cVQF_UF8sjVq",
    "outputId": "7970fe78-2db8-4e80-fc9c-f02440b655d0"
   },
   "outputs": [],
   "source": [
    "#Search 1 in double NOT\n",
    "Data.loc[(\n",
    "    (\n",
    "        (Data['result_title'].str.contains(phrasedefault15_1f, na=False, case=False))\n",
    "        & \n",
    "        (\n",
    "            (Data['result_title'].str.contains(phrasedefault15_1g, na=False, case=False))\n",
    "            | ((Data['result_title'].str.contains(phrasedefault15_1h, na=False, case=False)) & (Data['result_title'].str.contains(phrasedefault15_1i, na=False, case=False)))\n",
    "        )\n",
    "    & (Data['terrestrial_double_NOT']==True)\n",
    "    )\n",
    "),\"tempsdg15_01\"] = \"SDG15_01\"\n",
    "\n",
    "print(\"Number of results = \", len(Data[(Data.tempsdg15_01 == \"SDG15_01\")])) \n",
    "\n",
    "\n",
    "#Search 2 - in terrestrial\n",
    "Data.loc[(\n",
    "    (Data['result_title'].str.contains(phrasedefault15_1f, na=False, case=False))\n",
    "    & (Data['result_title'].str.contains(phrasedefault15_1h, na=False, case=False))\n",
    "    & (Data['terr_terms']==True)\n",
    "),\"tempsdg15_01\"] = \"SDG15_01\"\n",
    "\n",
    "print(\"Number of results = \", len(Data[(Data.tempsdg15_01 == \"SDG15_01\")])) "
   ]
  },
  {
   "cell_type": "code",
   "execution_count": null,
   "id": "45770212-54ff-40c1-aa10-bb11795a9e45",
   "metadata": {
    "colab": {
     "base_uri": "https://localhost:8080/"
    },
    "id": "t4PGi_YIsjVt",
    "outputId": "d1991c48-4bcf-4591-b755-9d4c75435aad"
   },
   "outputs": [],
   "source": [
    "test=Data.loc[(Data.tempsdg15_01 == \"SDG15_01\"), (\"result_id\", \"result_title\")]\n",
    "test.iloc[10:15, ]"
   ]
  },
  {
   "cell_type": "markdown",
   "id": "acc8c47d-d57c-4e9b-88ce-d46b417754ce",
   "metadata": {
    "id": "ArVL0YEPx51d"
   },
   "source": [
    "#### Phrase 4\n",
    "\n",
    "Note that here one can expect some marine results regarding fishing - this is because relatively many fishing works concern fisheries management generally, and trying to limit to either marine or freshwater is very challenging. "
   ]
  },
  {
   "cell_type": "code",
   "execution_count": null,
   "id": "ce43c5a1-49fb-448d-8739-84029ac6d511",
   "metadata": {
    "id": "RNE6ijznx51q"
   },
   "outputs": [],
   "source": [
    "#Termlists\n",
    "termlist15_1j = [\"agro-ecological\",\"agro ecological\",\n",
    "                 \"key biodiversity area\", \"important sites for biodiversity\",\n",
    "                 \"ecotourism\",\"eco-tourism\",\n",
    "                 \n",
    "                 \"nøkkelhabitat\",\"nøkkelbiotop\",\n",
    "                 \"økoturis\", \"øko-turis\"]\n",
    "\n",
    "termlist15_1k = [\"sustainabl\", \"responsibl\", \"environmental\", \"ecological\", \"ecosystem approach\",\n",
    "                 \"bærekraft\", \"berekraft\", \"ansvarlig\", \"ansvarleg\", \"miljø\", \"økologisk\", \"økosystemtilnærm\", \"økosystembasert forvaltning\"]\n",
    "\n",
    "termlist15_1l = [\"grazing\", \"forestry\", \"fishing\", \"fisher\", \"hunter\", \"hunting\", \"trapping\",\n",
    "                 \"beite\", \"skogbruk\", \"ferskvannsfisk\", \"innlandsfisk\", \"ferskvannskreps\", \"laks\", \"ørret\", \"auret\", \"jakt\", \"fangst\"]\n",
    "                 #Fishing terms in Norwegian are limited to freshwater since there is so much marine research. \n",
    "                  #44 results dropped, nearly all marine, should be found by SDG14. Salmon and trout included as partially freshwater.\n",
    "\n",
    "termlist15_1m = [\"long term management\", \"long-term management\", \n",
    "                 \"langsiktig miljøforvaltning\", \"langsiktig forvalt\"]\n",
    "\n",
    "termlist15_1n = [\"manag\", \"sustainable us\", \"responsible us\", \"usage\", \"development\", \"ecosystem approach\",\n",
    "                 \"govern\", \"administr\", \"planning\", \"policies\", \"policy\", \"strateg\",\n",
    "                 \"recreation\", \"tourism\", \"tourist\",\n",
    "                 \"fuel wood\", \"fire wood\", \"firewood\",\n",
    "                 \n",
    "                 \"forvalt\", \"bruk\", \"bruker\", \"økosystemtilnærm\", \"økosystembasert forvaltning\",\n",
    "                 \"planlegg\", \"styring\", \"ledelse\", \"leiing\", \"politikk\", \n",
    "                 \"fritid\", \"tursti\", \"turist\", \"turism\", \n",
    "                 \"fyringsved\", \"bjørkeved\"] \n",
    "#\"ved\" (NO: firewood) is difficult in Norwegian because it is often combined with other words (can't stop truncation), AND is a preposition (ved also = \"by\")\n",
    "\n",
    "termlist15_1o = [\"ecosystem service\",\"natural resource\",\"groundwater\",\n",
    "                 \"biodiversit\",\"biological diversity\",\n",
    "                 \"fishing\", \"hunting\", \"trapping\",\n",
    "                 \n",
    "                 \"økosystemtjenest\", \"ferskvann\", \"ferskvatn\",\n",
    "                 \"biologisk diversitet\", \"biologisk mangf\", \"biologiske mangf\", \"biomangf\", \"artsmangf\",\n",
    "                 \"ferskvannsfiske\", \"innlandsfiske\", \"laksefiske\", \"ørretfiske\", \"auretfiske\", \"jakt\", \"fangst\"]\n",
    "\n",
    "phrasedefault15_1j = r'(?:{})'.format('|'.join(termlist15_1j))\n",
    "phrasedefault15_1k = r'(?:{})'.format('|'.join(termlist15_1k))\n",
    "phrasedefault15_1l = r'(?:{})'.format('|'.join(termlist15_1l))\n",
    "phrasedefault15_1m = r'(?:{})'.format('|'.join(termlist15_1m))\n",
    "phrasedefault15_1n = r'(?:{})'.format('|'.join(termlist15_1n))\n",
    "phrasedefault15_1o = r'(?:{})'.format('|'.join(termlist15_1o))"
   ]
  },
  {
   "cell_type": "code",
   "execution_count": null,
   "id": "86e3817f-a135-4d4b-96c5-8f5c57569c02",
   "metadata": {
    "colab": {
     "base_uri": "https://localhost:8080/"
    },
    "id": "To2-OX-Yx51s",
    "outputId": "0a5dbd19-f27e-4341-9dda-e44d0c7aedfc"
   },
   "outputs": [],
   "source": [
    "#Search 1 - in double NOT\n",
    "Data.loc[(\n",
    "    (\n",
    "        (Data['result_title'].str.contains(phrasedefault15_1j, na=False, case=False))\n",
    "        | ((Data['result_title'].str.contains(phrasedefault15_1k, na=False, case=False)) & (Data['result_title'].str.contains(phrasedefault15_1l, na=False, case=False)))\n",
    "        | ((Data['result_title'].str.contains(phrasedefault15_1m, na=False, case=False)) & (Data['result_title'].str.contains(phrasedefault15_1o, na=False, case=False)))\n",
    "        |\n",
    "        (\n",
    "            (Data['result_title'].str.contains(phrasedefault15_1k, na=False, case=False))\n",
    "            & (Data['result_title'].str.contains(phrasedefault15_1n, na=False, case=False))   \n",
    "            & (Data['result_title'].str.contains(phrasedefault15_1o, na=False, case=False))\n",
    "        )\n",
    "    )\n",
    "    &(Data['terrestrial_double_NOT']==True)\n",
    "),\"tempsdg15_01\"] = \"SDG15_01\"\n",
    "\n",
    "print(\"Number of results = \", len(Data[(Data.tempsdg15_01 == \"SDG15_01\")])) \n",
    "\n",
    "\n",
    "#Search 2 - in terrestrial terms\n",
    "Data.loc[(  \n",
    "    (\n",
    "        (Data['result_title'].str.contains(phrasedefault15_1m, na=False, case=False))\n",
    "        | (Data['result_title'].str.contains(phrasedefault15_1k, na=False, case=False)) & (Data['result_title'].str.contains(phrasedefault15_1n, na=False, case=False))   \n",
    "    )\n",
    "    & (Data['terr_terms']==True)\n",
    "),\"tempsdg15_01\"] = \"SDG15_01\"\n",
    "\n",
    "print(\"Number of results = \", len(Data[(Data.tempsdg15_01 == \"SDG15_01\")])) "
   ]
  },
  {
   "cell_type": "code",
   "execution_count": null,
   "id": "12e23504-dd42-4921-bed5-6c4dacac8bbd",
   "metadata": {},
   "outputs": [],
   "source": [
    "test=Data.loc[(Data.tempsdg15_01 == \"SDG15_01\"), (\"result_id\", \"result_title\")]\n",
    "test.iloc[10:15, ]"
   ]
  },
  {
   "cell_type": "markdown",
   "id": "a80a82e0-61a7-4e3b-b9ff-afa7aece30f1",
   "metadata": {
    "id": "Y58iYqpS_JwD"
   },
   "source": [
    "#### Phrase 5"
   ]
  },
  {
   "cell_type": "code",
   "execution_count": null,
   "id": "522469fe-b0ae-4df1-ae32-dda645566bc5",
   "metadata": {
    "id": "4qeL_-hx_JwQ"
   },
   "outputs": [],
   "source": [
    "#Termlists\n",
    "termlist15_1s = [\"Convention on Biological Diversity\",\n",
    "                 \"Convention to Combat Desertification\",\n",
    "                 \"Convention on International Trade in Endangered Species of Wild Fauna and Flora\",\n",
    "                 \"Nagoya\",\"Plant Genetic Resources for Food and Agriculture\",\"International Seed Treaty\",\"Plant Treaty\",\n",
    "                 \"Convention on Wetlands of International Importance\", \"Ramsar convention\",\n",
    "                 \"Bonn convention\", \"Convention on the Conservation of Migratory Species of Wild Animals\",\n",
    "\n",
    "                 \"Konvensjon om biologisk mangfold\", \"Konvensjonen om biologisk mangfold\", \"biodiversitetskonvensjon\",\n",
    "                 \"Naturmangfoldloven\", \"lov om vern av naturens mangfold\",\n",
    "                 \"Konvensjonen om internasjonal handel med truede dyr\", \"handel med truede og sårbare arter\",\n",
    "                 \"Den internasjonale plantetraktaten\",\n",
    "                 \"Ramsarkonvensjon\", \"Ramsar-konvensjon\", \"Våtmarkskonvensjonen\",\n",
    "                 \"Bonnkonvensjon\", \"Bonn-konvensjon\", \"konvensjonen om bevaring av trekkende ville dyr\"]\n",
    "termlist15_1tcase = [\"UNCCD\", \"CITES\", \"ITPGRFA\"]      \n",
    "\n",
    "termlist15_1u = [\"Framework Convention on Climate Change\", \"UNFCCC\", \"CBD\",\n",
    "                 \"world heritage convention\",\n",
    "                 \"European landscape convention\",\n",
    "\n",
    "                 \"Klimakonvensjon.*\", \"rammekonvensjon om klimaendring.*\",\n",
    "                 \"verdensarvkonvensjon.*\",\n",
    "                 \"landskapskonvensjon.*\"]       \n",
    "\n",
    "termlist15_1v = [\"ecosystem\", \"habitat\", \"environment\", \"biotop\", \"ecolog\", \"species\", \"plant\", \"animal\", \"organism\", \"flora\", \"fauna\", \"biodivers\", \"biological diversit\",\n",
    "                 \"økosystem\", \"leveområd\", \"miljø\", \"økolog\", \"rovdyr\", \"pattedyr\", \"dyreart\", \"dyrart\", \"planter\", \"artsmangf\", \"biologisk diversit\", \"biologisk mangf\", \"biomangf\"] \n",
    "termlist15_1w = [\"art\", \"arter\"]\n",
    "\n",
    "phrasedefault15_1s = r'(?:{})'.format('|'.join(termlist15_1s))\n",
    "phrasespecific15_1tcase = r'\\b(?:{})\\b'.format('|'.join(termlist15_1tcase))\n",
    "phrasespecific15_1u = r'\\b(?:{})\\b'.format('|'.join(termlist15_1u))\n",
    "phrasedefault15_1v = r'(?:{})'.format('|'.join(termlist15_1v))\n",
    "phrasespecific15_1w = r'\\b(?:{})\\b'.format('|'.join(termlist15_1w))"
   ]
  },
  {
   "cell_type": "code",
   "execution_count": null,
   "id": "5d2222ef-3e8e-42f0-9d7d-35c05e54d82b",
   "metadata": {
    "colab": {
     "base_uri": "https://localhost:8080/"
    },
    "id": "08JoTAop_JwT",
    "outputId": "8354abbf-c7be-409c-9a46-97aed268eaca"
   },
   "outputs": [],
   "source": [
    "#Search 1\n",
    "\n",
    "Data.loc[(\n",
    "    (\n",
    "        (Data['result_title'].str.contains(phrasedefault15_1s, na=False, case=False))\n",
    "        | (Data['result_title'].str.contains(phrasespecific15_1tcase, na=False, case=True)) #case = True\n",
    "        |\n",
    "        (\n",
    "            (Data['result_title'].str.contains(phrasespecific15_1u, na=False, case=False))\n",
    "            & ((Data['result_title'].str.contains(phrasedefault15_1v, na=False, case=False))|(Data['result_title'].str.contains(phrasespecific15_1w, na=False, case=False))) \n",
    "        )\n",
    "    )\n",
    "    &(Data['terrestrial_double_NOT']==True)\n",
    "),\"tempsdg15_01\"] = \"SDG15_01\"\n",
    "\n",
    "print(\"Number of results = \", len(Data[(Data.tempsdg15_01 == \"SDG15_01\")])) "
   ]
  },
  {
   "cell_type": "markdown",
   "id": "22dd5624-a944-4a16-b7ed-9b77d12f02c0",
   "metadata": {
    "id": "TpEselsSq3ps"
   },
   "source": [
    "### SDG 15.2\n",
    "\n",
    "*15.2 By 2020, promote the implementation of sustainable management of all types of forests, halt deforestation, restore degraded forests and substantially increase afforestation and reforestation globally*\n",
    "\n",
    "*Innen 2020 fremme innføringen av en bærekraftig forvaltning av all slags skog, stanse avskoging, gjenopprette forringede skoger, og i betydelig grad øke gjenreising og nyplanting av skog på globalt nivå.*\n",
    "\n",
    "Norsk Skogseierforbund (https://skog.no) and Landbruksdirektoratet (https://www.landbruksdirektoratet.no/nb/skogbruk/skogskjotsel) websites were used to help with translation of forestry terms."
   ]
  },
  {
   "cell_type": "markdown",
   "id": "f6353d8e-35eb-4e8c-8d45-fb57f3b92d4b",
   "metadata": {
    "id": "3jCL_GZ0g5Y3"
   },
   "source": [
    "#### Phrase 1"
   ]
  },
  {
   "cell_type": "code",
   "execution_count": null,
   "id": "2f810620-b351-4959-9335-ab7a6404cac6",
   "metadata": {
    "id": "70OcZ_OWvoLX"
   },
   "outputs": [],
   "source": [
    "#Termlists\n",
    "termlist15_2a = [\"sustainable forest\",\"sustainable woodland\",\"sustainable silvicultur\",\"sustainable arboricultur\",\n",
    "                 \"protected forest\", \"reserved forest\", \n",
    "                 \"UN strategic plan for forests\", \"global forest goals\",\n",
    "\n",
    "                 \"bærekraftfig skog\", \"bærekraftig silvikultur\", \"berekraftig skog\", \"berekraftig silvikult\",\n",
    "                 \"vernet skog\", \"vern av skog\", \"bevarte skog\", \"bevart skog\", \"freda skog\", \"skogvern\", \"verneområder i skog\",\n",
    "                 \"strategiske plan for skog\"]\n",
    "termlist15_2acaps = [\"UNSPF\", \"GFG\"]\n",
    "\n",
    "termlist15_2b = [\"sustainab\", \"responsibl\", \"environmental\", \"ecological\",\n",
    "                 \"bærekraftig\", \"berekraftig\", \"ansvarlig\", \"ansvarleg\",\"miljøbevisst\", \"miljøvennlig\",\"miljøvennleg\", \"økologisk\"]\n",
    "\n",
    "termlist15_2c = [\"manag\", \"govern\", \"development\", \"administ\", \"planning\", \"policy\", \"policies\", \"strateg\", \"approach\",\n",
    "                 \"practice\", \"method\", \"forestry\",\n",
    "                 \"cutting\", \"logging\", \"felling\", \"clearing\", \"lopping\", \"limbing\", \"thinning\", \"creaming\", \"pruning\", \"rotation\",\n",
    "                 \"planting tree\", \"tree planting\", \"drainage\", \n",
    "                 \"forest area change\",\n",
    "                 \"above ground biomass\",\n",
    "                 \"protected area\", \"term management plan\",\n",
    "                 \"forest under certification\",\n",
    "                 \"certified forest area\",\n",
    "\n",
    "                 \"forvalt\", \"styring\", \"ledelse\", \"leiing\", \"utvikling\", \"planlegg\", \"politikk\", \"retningslin\", \"tilnærming\",\n",
    "                 \"praksis\", \"metode\", \"skogskjøtsel\", \"skogpleie\", \"skogsvirke\",\n",
    "                 \"tynning\", \"gjødsling\", \"hogst\", \"hogge\", \"stelle\",\n",
    "                 \"planting\", \"foryngelse\", \"gjengro\", \"attgro\", \"restaurer\", \"drenering\",\n",
    "                 \"skogområde\", \"skogvolum\", \"skogdek\", \"skogbevokste områd\", \"skogbevokst områd\",\"skogareal\",\n",
    "                 \"miljøvern\", \"bevaret\", \"bevaring\", \"fredet\", \"fredning\", \"frivillig vern\",\n",
    "                 \"miljøsertifi\"]\n",
    "termlist15_2ctrunc = [\"use\", \"usage\", \"using\", \"cut\",\n",
    "                      \"bruk\", \"skogbruk.*\"]\n",
    "\n",
    "termlist15_2d = [\"forest\", \"woodland\", \"silvicultur\", \"arboricultu\",\n",
    "                 \"skog\", \"silvikultur\"]\n",
    "\n",
    "phrasedefault15_2a = r'(?:{})'.format('|'.join(termlist15_2a))\n",
    "phrasedefault15_2acaps = r'(?:{})'.format('|'.join(termlist15_2acaps))\n",
    "phrasedefault15_2b = r'(?:{})'.format('|'.join(termlist15_2b))\n",
    "phrasedefault15_2c = r'(?:{})'.format('|'.join(termlist15_2c))\n",
    "phrasedefault15_2ctrunc = r'(?:{})'.format('|'.join(termlist15_2ctrunc))\n",
    "phrasedefault15_2d = r'(?:{})'.format('|'.join(termlist15_2d))"
   ]
  },
  {
   "cell_type": "code",
   "execution_count": null,
   "id": "a0a7994a-e5de-40c6-b125-92d38d14cfca",
   "metadata": {
    "colab": {
     "base_uri": "https://localhost:8080/"
    },
    "id": "F1Xb_vc6voLZ",
    "outputId": "b833a67f-d4fd-4130-c022-ba8dc51744ee"
   },
   "outputs": [],
   "source": [
    "#Search 1\n",
    "Data.loc[(\n",
    "    (Data['result_title'].str.contains(phrasedefault15_2a, na=False, case=False)) \n",
    "    | (Data['result_title'].str.contains(phrasedefault15_2acaps, na=False, case=True)) #case = True\n",
    "    | \n",
    "    (\n",
    "        (Data['result_title'].str.contains(phrasedefault15_2b, na=False, case=False))\n",
    "        & ((Data['result_title'].str.contains(phrasedefault15_2c, na=False, case=False)) | (Data['result_title'].str.contains(phrasedefault15_2ctrunc, na=False, case=False)))\n",
    "        & (Data['result_title'].str.contains(phrasedefault15_2d, na=False, case=False))\n",
    "    )\n",
    "),\"tempsdg15_02\"] = \"SDG15_02\"\n",
    "\n",
    "print(\"Number of results = \", len(Data[(Data.tempsdg15_02 == \"SDG15_02\")]))  "
   ]
  },
  {
   "cell_type": "code",
   "execution_count": null,
   "id": "ae378932-6cd0-455b-871f-d6cd24bda366",
   "metadata": {
    "colab": {
     "base_uri": "https://localhost:8080/"
    },
    "id": "KFSovp5-voLb",
    "outputId": "c642710f-05c5-44d6-a9a8-f3d563bdc492"
   },
   "outputs": [],
   "source": [
    "test=Data.loc[(Data.tempsdg15_02 == \"SDG15_02\"), (\"result_id\", \"result_title\")]\n",
    "test.iloc[0:5, ]"
   ]
  },
  {
   "cell_type": "markdown",
   "id": "25daaa8e-f9f4-46f4-b7b5-439c34e438f5",
   "metadata": {
    "id": "CrzWCQ_xtTAq"
   },
   "source": [
    "#### Phrase 2"
   ]
  },
  {
   "cell_type": "code",
   "execution_count": null,
   "id": "6fae7556-001e-4afd-8b8a-a92b6269b41e",
   "metadata": {
    "id": "Dkcf4xJttTAu"
   },
   "outputs": [],
   "source": [
    "#Termlists\n",
    "termlist15_2e = [\"deforest\", \"de-forest\",\n",
    "                 \"avskog\", \"skogforringelse\", \"skogtap\"]\n",
    "#skogforringelse (NO: forest degredation), and is included here instead of below because in Norwegian this is specific to forests.\n",
    "\n",
    "termlist15_2f = [\"forests\", \"woodland\", \"silvicultur\", \"arboricultu\",\n",
    "                 \"skoger\", \"silvikultur\"]\n",
    "termlist15_2f_trunc = [\"forest\",\n",
    "                       \"skog\"] \n",
    "#Here we don't allow right truncation because \"forest\" can find \"forestillinger\"(NO), and \"skog\"(NO) finds \"skogsfugl\" etc. \n",
    "#Left truncation still allows \"rainforest\" etc.            \n",
    "\n",
    "termlist15_2g = [\"losses\", \"degradation\", \"decreas\", \"reduc\", \"mitigat\", \"disappear\",\n",
    "                 \"fortapt\", \"forring\", \"reduksj\", \"nedgang\", \"mindre\", \"forsvinn\", \"forsvunn\", \"naturtap\"]\n",
    "termlist15_2gtrunc = [\"loss\", \"lost\", \n",
    "                      \"tap\", \"tapt\"]\n",
    "\n",
    "termlist15_2hcase = [\"REDD\"] \n",
    "\n",
    "phrasedefault15_2e = r'(?:{})'.format('|'.join(termlist15_2e))\n",
    "phrasedefault15_2f = r'(?:{})'.format('|'.join(termlist15_2f))\n",
    "phrasespecific15_2ftrunc = r'(?:{})\\b'.format('|'.join(termlist15_2f_trunc))\n",
    "phrasedefault15_2g = r'(?:{})'.format('|'.join(termlist15_2g))\n",
    "phrasespecific15_2gtrunc = r'\\b(?:{})\\b'.format('|'.join(termlist15_2gtrunc))\n",
    "phrasedefault15_2hcase = r'(?:{})'.format('|'.join(termlist15_2hcase))"
   ]
  },
  {
   "cell_type": "code",
   "execution_count": null,
   "id": "c914ee7b-3166-4cbd-8e94-06da9f2676d1",
   "metadata": {
    "colab": {
     "base_uri": "https://localhost:8080/"
    },
    "id": "PAnipJUltTAw",
    "outputId": "46b27958-88ff-4353-9cc2-52a0bbc77b98"
   },
   "outputs": [],
   "source": [
    "#Search 1\n",
    "Data.loc[(\n",
    "    (Data['result_title'].str.contains(phrasedefault15_2e, na=False, case=False)) \n",
    "    | (Data['result_title'].str.contains(phrasedefault15_2hcase, na=False, case=True)) #case=T\n",
    "    | \n",
    "    (\n",
    "        ((Data['result_title'].str.contains(phrasedefault15_2f, na=False, case=False))|(Data['result_title'].str.contains(phrasespecific15_2ftrunc, na=False, case=False)))\n",
    "        & ((Data['result_title'].str.contains(phrasedefault15_2g, na=False, case=False))|(Data['result_title'].str.contains(phrasespecific15_2gtrunc, na=False, case=False)))\n",
    "    )\n",
    "),\"tempsdg15_02\"] = \"SDG15_02\"\n",
    "\n",
    "print(\"Number of results = \", len(Data[(Data.tempsdg15_02 == \"SDG15_02\")]))  "
   ]
  },
  {
   "cell_type": "code",
   "execution_count": null,
   "id": "4659337b-fa63-4cd4-8f81-b72477a11a7e",
   "metadata": {
    "colab": {
     "base_uri": "https://localhost:8080/"
    },
    "id": "7Vq7XeSMtTAx",
    "outputId": "746c3a95-6e81-4bee-ce7b-eb39f1860d03"
   },
   "outputs": [],
   "source": [
    "test=Data.loc[(Data.tempsdg15_02 == \"SDG15_02\"), (\"result_id\", \"result_title\")]\n",
    "test.iloc[0:5, ]"
   ]
  },
  {
   "cell_type": "markdown",
   "id": "43920e44-60a6-4b57-bac7-ecaa04e1d0c1",
   "metadata": {
    "id": "f_G7dfrd2vLm"
   },
   "source": [
    "#### Phrase 3"
   ]
  },
  {
   "cell_type": "code",
   "execution_count": null,
   "id": "d8e967aa-ba7a-45b6-90f4-64052c25bab1",
   "metadata": {
    "id": "nQmCx3u82vLp"
   },
   "outputs": [],
   "source": [
    "#Termlists\n",
    "#Here we have changed the structure to accomodate that we can't use NEAR, so some terms are combined in phrases.\n",
    "\n",
    "termlist15_2i = [\"afforest\", \"reforest\", \"re-forest\",\n",
    "                 \"increase forest cover\", \"increasing forest cover\",\"increase forest area\", \"increasing forest area\",\n",
    "                 \"skogplanting\", \"planting av skog\", \n",
    "                 ]\n",
    "\n",
    "termlist15_2l = [\"skogområde\", \"skogvolum\", \"skogdek\", \"skogbevokste områd\", \"skogbevokst områd\",\"skogareal\"]\n",
    "termlist15_2m = [\" øk\", \" auk\", \"høyere\", \"høgre\", \"høgare\", \"større\", \"utvid\"] #space before \"øk\"(NO) and \"auk\"(NO) added to prevent left truncation\n",
    "\n",
    "termlist15_2j = [\"forests\", \"woodland\",\n",
    "                 \"skoger\", \"skogar\"]\n",
    "termlist15_2j_trunc = [\"forest\",\n",
    "                       \"skog\"] \n",
    "    #Here we don't allow right truncation because \"forest\" can find \"forestillinger\"(NO), and \"skog\"(NO) finds \"skogsfugl\" etc. \n",
    "    #Left truncation still allows \"rainforest\" etc.\n",
    "\n",
    "termlist15_2k = [\"restor\", \"rehabilit\", \"increase cover\",\n",
    "                 \"restaur\", \"gjengro\", \"attgro\", \"gjenopprett\", \"gjenreis\", \"nyplanting\"]\n",
    "\n",
    "phrasedefault15_2i = r'(?:{})'.format('|'.join(termlist15_2i))\n",
    "phrasedefault15_2j = r'(?:{})'.format('|'.join(termlist15_2j))\n",
    "phrasespecific15_2jtrunc = r'(?:{})\\b'.format('|'.join(termlist15_2j_trunc))\n",
    "phrasedefault15_2k = r'(?:{})'.format('|'.join(termlist15_2k))\n",
    "phrasedefault15_2l = r'(?:{})'.format('|'.join(termlist15_2l))\n",
    "phrasedefault15_2m = r'(?:{})'.format('|'.join(termlist15_2m))"
   ]
  },
  {
   "cell_type": "code",
   "execution_count": null,
   "id": "7d280614-269b-4f25-9fec-380e5c4769f2",
   "metadata": {
    "colab": {
     "base_uri": "https://localhost:8080/"
    },
    "id": "YlE4ggwM2vLr",
    "outputId": "8ea609f3-3af1-4dff-fddc-47b08fcff5b1"
   },
   "outputs": [],
   "source": [
    "#Search 1\n",
    "Data.loc[(\n",
    "    (Data['result_title'].str.contains(phrasedefault15_2i, na=False, case=False)) \n",
    "    | ((Data['result_title'].str.contains(phrasedefault15_2l, na=False, case=False))& (Data['result_title'].str.contains(phrasedefault15_2m, na=False, case=False)))\n",
    "    |\n",
    "    (\n",
    "        ((Data['result_title'].str.contains(phrasedefault15_2j, na=False, case=False))|(Data['result_title'].str.contains(phrasespecific15_2jtrunc, na=False, case=False)))\n",
    "        & (Data['result_title'].str.contains(phrasedefault15_2k, na=False, case=False))\n",
    "    )\n",
    "),\"tempsdg15_02\"] = \"SDG15_02\"\n",
    "\n",
    "print(\"Number of results = \", len(Data[(Data.tempsdg15_02 == \"SDG15_02\")]))  "
   ]
  },
  {
   "cell_type": "code",
   "execution_count": null,
   "id": "8a42e68f-1d2b-4527-bac0-15fa93161422",
   "metadata": {
    "colab": {
     "base_uri": "https://localhost:8080/"
    },
    "id": "r2fgB8Hw2vLt",
    "outputId": "67b1e772-7c0d-4ca9-91fb-caf2723d5478"
   },
   "outputs": [],
   "source": [
    "test=Data.loc[(Data.tempsdg15_02 == \"SDG15_02\"), (\"result_id\", \"result_title\")]\n",
    "test.iloc[0:5, ]"
   ]
  },
  {
   "cell_type": "markdown",
   "id": "fcd70f16-d7a5-4a5c-bd83-55194a68b97b",
   "metadata": {
    "id": "KEvhGTvE3qhK"
   },
   "source": [
    "### SDG 15.3\n",
    "\n",
    "*15.3 By 2030, combat desertification, restore degraded land and soil, including land affected by desertification, drought and floods, and strive to achieve a land degradation-neutral world*\n",
    "\n",
    "*Innen 2030 bekjempe ørkenspredning, restaurere forringet land og matjord, inkludert landområder som er rammet av ørkenspredning,   tørke og flom, og arbeide for en verden uten landforringelse.*\n",
    "\n",
    "The Store Norske Leksikon was used to help translate terms (https://snl.no/%C3%B8rkenspredning)."
   ]
  },
  {
   "cell_type": "markdown",
   "id": "8f748260-d1c4-4043-8a1e-02ceddc8fcf1",
   "metadata": {
    "id": "HixEU1PIsiv8"
   },
   "source": [
    "#### Phrase 1"
   ]
  },
  {
   "cell_type": "code",
   "execution_count": null,
   "id": "ed2e5ca9-2e34-493e-9165-6c218180b949",
   "metadata": {
    "id": "AuK2N2yssudt"
   },
   "outputs": [],
   "source": [
    "#Termlists\n",
    "termlist15_3a = [\"desertific\", \"convention to combat desertification\",\n",
    "                \"ørkenspredning\", \"ørkenspreiing\", \"forørkning\", \"konvensjon for bekjempelse av ørkenspredning\", \"forørkningskonvensjon\"\n",
    "                ]\n",
    "termlist15_3acaps = [\"UNCCD\"]\n",
    "\n",
    "termlist15_3b = [\"increas\", \"expand\", \"expansion\",\n",
    "                 \"økning\", \"utvid\", \"spredning\", \"spreiing\", \" auk\" #space before \" auk\" to prevent left truncation\n",
    "                ]\n",
    "termlist15_3c = [\"desert\", \"drylands\", \"dryland area\",\n",
    "                 \"ørken\", \"halvtørr\"]\n",
    "\n",
    "phrasedefault15_3a = r'(?:{})'.format('|'.join(termlist15_3a))\n",
    "phrasedefault15_3acaps = r'(?:{})'.format('|'.join(termlist15_3acaps))\n",
    "phrasedefault15_3b = r'(?:{})'.format('|'.join(termlist15_3b))\n",
    "phrasedefault15_3c = r'(?:{})'.format('|'.join(termlist15_3c))"
   ]
  },
  {
   "cell_type": "code",
   "execution_count": null,
   "id": "76427827-e685-4bfc-a24f-fc53f440025c",
   "metadata": {
    "colab": {
     "base_uri": "https://localhost:8080/"
    },
    "id": "5C6tbH26sud1",
    "outputId": "5e43f967-8a7a-4af2-fb07-803d85f5aafc"
   },
   "outputs": [],
   "source": [
    "#Search 1\n",
    "\n",
    "Data.loc[(\n",
    "    (Data['result_title'].str.contains(phrasedefault15_3a, na=False, case=False)) \n",
    "    |(Data['result_title'].str.contains(phrasedefault15_3acaps, na=False, case=True)) #case=T\n",
    "    | \n",
    "    (\n",
    "        (Data['result_title'].str.contains(phrasedefault15_3b, na=False, case=False)) \n",
    "        & (Data['result_title'].str.contains(phrasedefault15_3c, na=False, case=False))\n",
    "    )\n",
    "),\"tempsdg15_03\"] = \"SDG15_03\"\n",
    "\n",
    "print(\"Number of results = \", len(Data[(Data.tempsdg15_03 == \"SDG15_03\")]))  "
   ]
  },
  {
   "cell_type": "code",
   "execution_count": null,
   "id": "3345c766-c38c-4648-8188-2d9411a33479",
   "metadata": {
    "colab": {
     "base_uri": "https://localhost:8080/"
    },
    "id": "mtKEPCyPsud7",
    "outputId": "305eae0d-224b-435e-933f-c4849bd907bd"
   },
   "outputs": [],
   "source": [
    "test=Data.loc[(Data.tempsdg15_03 == \"SDG15_03\"), (\"result_id\", \"result_title\")]\n",
    "test.iloc[0:5, ]"
   ]
  },
  {
   "cell_type": "markdown",
   "id": "1ae32016-b9fb-49c9-80fc-1edb6009bee5",
   "metadata": {
    "id": "J8BNqDoZ8UCT"
   },
   "source": [
    "#### Phrase 2"
   ]
  },
  {
   "cell_type": "code",
   "execution_count": null,
   "id": "f5ff4dad-8b19-4da1-8f02-b528e9bd6479",
   "metadata": {
    "id": "pEBbKhDp8UCY"
   },
   "outputs": [],
   "source": [
    "#Termlists\n",
    "termlist15_3d = [\"desertific\", \"drought\", \"flood\", \"drylands\", \"dryland area\", \n",
    "                 \"ørkenspredning\", \"ørkenspreiing\", \"halvtørre område\", \"tørrland\"]\n",
    "\n",
    "termlist15_3e = [\"soil structure\" , \"soil fertility\", \"soil health\",\n",
    "                 \"soil quality\", \"land quality\",\n",
    "                 \"jordskjelett\", \"jordstruktur\", \"fruktbar jord\", \"jordhelse\",\n",
    "                 \"jordkvalitet\", \"kvalitetsjord\"]\n",
    "\n",
    "termlist15_3f = [\"land\", \"soil\",\n",
    "                 \"jord\", \"dyrket mark\", \"dyrkamark\", \"kultivert mark\"]\n",
    "\n",
    "termlist15_3g = [\"quality\", \"fertility\", \"degrad\", \"erosion\", \"eroded\",\n",
    "                 \"kvalitet\", \"fruktbar\", \"forring\", \"erosjon\", \"jordtap\"]\n",
    "\n",
    "phrasedefault15_3d = r'(?:{})'.format('|'.join(termlist15_3d))\n",
    "phrasedefault15_3e = r'(?:{})'.format('|'.join(termlist15_3e))\n",
    "phrasedefault15_3f = r'(?:{})'.format('|'.join(termlist15_3f))\n",
    "phrasedefault15_3g = r'(?:{})'.format('|'.join(termlist15_3g))"
   ]
  },
  {
   "cell_type": "code",
   "execution_count": null,
   "id": "1417247e-fed1-4e29-9a76-90473f6dbd1c",
   "metadata": {
    "colab": {
     "base_uri": "https://localhost:8080/"
    },
    "id": "qQ_oRD3P8UCZ",
    "outputId": "31b7fa6f-d084-4b1f-c70f-3a59481947c2"
   },
   "outputs": [],
   "source": [
    "#Search 1\n",
    "Data.loc[(\n",
    "    (Data['result_title'].str.contains(phrasedefault15_3d, na=False, case=False)) \n",
    "    & \n",
    "    (\n",
    "        (Data['result_title'].str.contains(phrasedefault15_3e, na=False, case=False))\n",
    "        | ((Data['result_title'].str.contains(phrasedefault15_3f, na=False, case=False))&(Data['result_title'].str.contains(phrasedefault15_3g, na=False, case=False)))\n",
    "    )\n",
    "),\"tempsdg15_03\"] = \"SDG15_03\"\n",
    "\n",
    "print(\"Number of results = \", len(Data[(Data.tempsdg15_03 == \"SDG15_03\")]))  "
   ]
  },
  {
   "cell_type": "code",
   "execution_count": null,
   "id": "a81d62fc-de58-434c-b458-065817bb55bc",
   "metadata": {
    "colab": {
     "base_uri": "https://localhost:8080/",
     "height": 292
    },
    "id": "M8NDH55A8UCc",
    "outputId": "027c3952-18ea-467d-9365-ca372c7727e9"
   },
   "outputs": [],
   "source": [
    "test=Data.loc[(Data.tempsdg15_03 == \"SDG15_03\"), (\"result_id\", \"result_title\")]\n",
    "test.iloc[0:5, ]"
   ]
  },
  {
   "cell_type": "markdown",
   "id": "09e10bee-c015-4b31-b3db-6714ea0f0299",
   "metadata": {
    "id": "eUZ5gHUj8UCf"
   },
   "source": [
    "#### Phrase 3"
   ]
  },
  {
   "cell_type": "code",
   "execution_count": null,
   "id": "b799c1d0-b6ff-4d52-8f9f-4aa255fdd9af",
   "metadata": {
    "id": "0jF6fobb8UCh"
   },
   "outputs": [],
   "source": [
    "#Termlists\n",
    "\n",
    "termlist15_3h = [\"aridificat\", \"soil pollution\", \"soil loss\"] #Translations of these (e.g.\"uttørking\"(NO)) are combined with soil terms in 3j\n",
    "\n",
    "termlist15_3i = [\"soil\",\n",
    "                 \"dyrket mark\", \"dyrkamark\", \"dyrka mark\", \"dyrkamark\",  \"kultivert mark\"]\n",
    "termlist15_3itrunc = [\"land\", \"jord\", \"jordbruk\"] \n",
    "#\"land\" is not truncated because in Norwegian it is a part of many place names, also in english (e.g. LANDSAT, Iceland...), and \"jord\"(NO) due to \"fjord\"\n",
    "# land still creates some noise in Norwegian (\"land\"(NO) = \"country\"(EN)) - but not enough to make it worth losing English combinations (land quality, land erosion)?\n",
    "termlist15_3j = [\"quality\", \"degrad\", \"erosion\", \"eroded\", \"salinisat\", \"alkalinisat\", \"acidificat\", \"contaminat\", \"pollution\", \"biodiversity loss\",\n",
    "                 \"kvalitet\", \"forring\", \"uttørking\", \"erosjon\", \"jordtap\", \"salinering\", \"forsalting\", \"forsuring\", \"forurein\", \"forurensing\"]\n",
    "\n",
    "termlist15_3k = [\"declin\",\"decreas\",\"reduc\",\"degrad\",\"lower\",\"loss\",\n",
    "                 \"nedgang\", \"mindre\", \"forring\", \"lavere\", \"lægre\", \"lågare\"]\n",
    "termlist15_3k_trunc = [\"tap\", \"tapt\", \"tapte\"]\n",
    "termlist15_3l = [\"biodiversity\",\"soil\",\"vegetation\",\"groundwater\",\n",
    "                 \"biodiversitet\", \"biologisk diversitet\", \"biologisk mangf\", \"biomangf\", \"jord\", \"vegetasjon\", \"grunnvann\", \"grunnvatn\"]\n",
    "\n",
    "termlist15_3m = [\"desert\", \"drylands\", \"dryland area\", \"sub-humid\", \"sub humid\", \"semi-arid\", \"semiarid\",\n",
    "                 \"ørken\", \"halvtørr\", \"tørrland\"]\n",
    "termlist15_3mtrunc = [\"arid\"]\n",
    "\n",
    "phrasedefault15_3h = r'(?:{})'.format('|'.join(termlist15_3h))\n",
    "phrasedefault15_3i = r'(?:{})'.format('|'.join(termlist15_3i))\n",
    "phrasespecific15_3itrunc = r'\\b(?:{})\\b'.format('|'.join(termlist15_3itrunc))\n",
    "phrasedefault15_3j = r'(?:{})'.format('|'.join(termlist15_3j))\n",
    "phrasedefault15_3k = r'(?:{})'.format('|'.join(termlist15_3k))\n",
    "phrasespecific15_2ktrunc = r'\\b(?:{})\\b'.format('|'.join(termlist15_3k_trunc))\n",
    "phrasedefault15_3l = r'(?:{})'.format('|'.join(termlist15_3l))\n",
    "phrasedefault15_3m = r'(?:{})'.format('|'.join(termlist15_3m))\n",
    "phrasespecific15_2mtrunc = r'\\b(?:{})\\b'.format('|'.join(termlist15_3mtrunc))"
   ]
  },
  {
   "cell_type": "code",
   "execution_count": null,
   "id": "435bf8d4-ebbc-465f-9f89-b7fd7bf66067",
   "metadata": {
    "colab": {
     "base_uri": "https://localhost:8080/"
    },
    "id": "_jY-PN2Q8UCi",
    "outputId": "042a3e68-10f1-4e90-e91c-14e53f0a0ef9"
   },
   "outputs": [],
   "source": [
    "#Search 1\n",
    "Data.loc[(\n",
    "    (Data['result_title'].str.contains(phrasedefault15_3h, na=False, case=False)) \n",
    "    | (\n",
    "        ((Data['result_title'].str.contains(phrasedefault15_3i, na=False, case=False)) | (Data['result_title'].str.contains(phrasespecific15_3itrunc, na=False, case=False)))\n",
    "        & (Data['result_title'].str.contains(phrasedefault15_3j, na=False, case=False))\n",
    "      )\n",
    "    |\n",
    "    (\n",
    "        ((Data['result_title'].str.contains(phrasedefault15_3k, na=False, case=False))|(Data['result_title'].str.contains(phrasespecific15_2ktrunc, na=False, case=False)))\n",
    "        & (Data['result_title'].str.contains(phrasedefault15_3l, na=False, case=False))\n",
    "        & ((Data['result_title'].str.contains(phrasedefault15_3m, na=False, case=False))|(Data['result_title'].str.contains(phrasespecific15_2mtrunc, na=False, case=False)))\n",
    "    )\n",
    "),\"tempsdg15_03\"] = \"SDG15_03\"\n",
    "\n",
    "print(\"Number of results = \", len(Data[(Data.tempsdg15_03 == \"SDG15_03\")]))  "
   ]
  },
  {
   "cell_type": "code",
   "execution_count": null,
   "id": "8c82516f-84df-479b-a889-99377a013264",
   "metadata": {
    "colab": {
     "base_uri": "https://localhost:8080/"
    },
    "id": "vD8uT-Ua8UCj",
    "outputId": "aa8822c9-489b-4c6c-b05a-e24c323578c9"
   },
   "outputs": [],
   "source": [
    "test=Data.loc[(Data.tempsdg15_03 == \"SDG15_03\"), (\"result_id\", \"result_title\")]\n",
    "test.iloc[0:5, ]"
   ]
  },
  {
   "cell_type": "markdown",
   "id": "ca379a63-40ad-4303-945c-216156b3cca0",
   "metadata": {
    "id": "RMUL6K1qI_60"
   },
   "source": [
    "#### Phrase 4"
   ]
  },
  {
   "cell_type": "markdown",
   "id": "080edf5d-5518-4add-99ba-0af4b2eb4cdf",
   "metadata": {
    "id": "1qfTcOK0I_64"
   },
   "source": [
    "Note, \"land degredation\" is already covered by phrase 3, and \"LDN\" only brings noise here, so it is not included (low-dose naltrexone)."
   ]
  },
  {
   "cell_type": "code",
   "execution_count": null,
   "id": "d8ee5396-8b3e-4023-91fd-44f908ddde58",
   "metadata": {
    "id": "1C-Vv8_TI_6-"
   },
   "outputs": [],
   "source": [
    "#Termlists\n",
    "termlist15_3n = [\"protect\", \"conserv\", \"preserv\", \"restor\", \"rehabilit\", \n",
    "                 \"promot\", \"improv\", \"enhanc\", \"strengthen\", \"maintain\",\n",
    "                 \n",
    "                 \"verne\", \"verna\", \"vern av\", \"miljøvern\", \"bevare\", \"bevaring\", \"frede\", \"freda\", \"fredning\", \"gjenoppbygg\", \"restaure\",\n",
    "                 \"forbedr\", \"sterke\", \"vedlikehold\", \"forvalt\",]\n",
    "\n",
    "termlist15_3o = [\"soil\",\n",
    "                 \"dyrkbar jord\", \"dyrka jord\", \"dyrkajord\", \"dyrket jord\", \"matjord\", \"jordmass\", \"jordvern\", \"dyrket mark\", \"dyrkamark\", \"dyrka mark\", \"kultivert mark\"]\n",
    "#\"jord\"(NO) is added in phrases here as the terms it is combined with (AND) are a lot more general than in the other phrases - causes issues with e.g. \"Jordan\"(EN/NO) or \"fjord\"(EN/NO) or \"gjorde\"(NO).\n",
    "\n",
    "termlist15_3p = [\"fertility\", \"productivity\", \"stucture\", \"health\", \"protect\", \"conserv\", \"preserv\", \"restor\", \"rehabilit\",\n",
    "                 \"fruktbar\", \"fertilitet\", \"produktivitet\", \"helse\", \"verne\", \"verna\", \"vern av\", \"miljøvern\", \"bevare\", \"bevaring\", \"frede\", \"freda\", \"fredning\", \"gjenoppbygg\", \"restaure\"]\n",
    "                \n",
    "phrasedefault15_3n = r'(?:{})'.format('|'.join(termlist15_3n))\n",
    "phrasedefault15_3o = r'(?:{})'.format('|'.join(termlist15_3o))\n",
    "phrasedefault15_3p = r'(?:{})'.format('|'.join(termlist15_3p))"
   ]
  },
  {
   "cell_type": "code",
   "execution_count": null,
   "id": "384d92cd-889d-4c1f-a59a-2c6c6c1e1198",
   "metadata": {
    "colab": {
     "base_uri": "https://localhost:8080/"
    },
    "id": "JtwDEKH3I_7A",
    "outputId": "81327531-1e2b-4011-ef94-9d1dc7205e65"
   },
   "outputs": [],
   "source": [
    "#Search 1\n",
    "Data.loc[(\n",
    "    (Data['result_title'].str.contains(phrasedefault15_3n, na=False, case=False))\n",
    "    & (Data['result_title'].str.contains(phrasedefault15_3o, na=False, case=False))\n",
    "    & (Data['result_title'].str.contains(phrasedefault15_3p, na=False, case=False))\n",
    "),\"tempsdg15_03\"] = \"SDG15_03\"\n",
    "\n",
    "print(\"Number of results = \", len(Data[(Data.tempsdg15_03 == \"SDG15_03\")])) "
   ]
  },
  {
   "cell_type": "code",
   "execution_count": null,
   "id": "bad68348-f74b-4fbb-a1bb-973c69a200fa",
   "metadata": {
    "colab": {
     "base_uri": "https://localhost:8080/",
     "height": 1000
    },
    "id": "pqytguM-I_7F",
    "outputId": "c502cb0e-ec14-4923-9026-b7437da40cdf"
   },
   "outputs": [],
   "source": [
    "test=Data.loc[(Data.tempsdg15_03 == \"SDG15_03\"), (\"result_id\", \"result_title\")]\n",
    "test.iloc[0:5, ]"
   ]
  },
  {
   "cell_type": "markdown",
   "id": "0a3114f1-0998-4843-9b7e-eeede7a6b4a0",
   "metadata": {
    "id": "tGGLZe813Qq-"
   },
   "source": [
    "### SDG 15.4\n",
    "\n",
    "*15.4 By 2030, ensure the conservation of mountain ecosystems, including their biodiversity, in order to enhance their capacity to provide benefits that are essential for sustainable development*\n",
    "\n",
    "*Innen 2030 bevare økosystemer i fjellområder, inkludert det biologiske mangfoldet der, slik at de skal bli bedre i stand til å bidra til en bærekraftig utvikling*"
   ]
  },
  {
   "cell_type": "markdown",
   "id": "865e7e89-6b09-46c2-b3de-a146448b09dd",
   "metadata": {
    "id": "rxCKl_4U3QrA"
   },
   "source": [
    "#### Phrase 1 & 2 \n",
    "Since phrase 1 and 2 use many of the same terms, they are both handled here. For the original phrase 2, I have simplified by only taking the terms \"sustainable\", \"ecologial\" and \"environmental\" and dropped the combination with use, management etc. as this is a title search. In an abstract search they should probably be included. I have also allowed some area-conservation terms (e.g. \"nature reserve\") to be combined with mountain/alpine alone, instead of area-conservation + mountain/alpine + nature/ecosystem. "
   ]
  },
  {
   "cell_type": "code",
   "execution_count": null,
   "id": "29f21a0b-b413-46f5-bde0-ca53da1dfa8f",
   "metadata": {
    "id": "ryMg9x0H3QrC"
   },
   "outputs": [],
   "source": [
    "#Termlists\n",
    "termlist15_4a = [\"mountain\", \"alpine\", \"highland\", \"montane\",         \n",
    "                 \"fjell\", \"alpin\", \"vidde\", \"vidda\"]\n",
    "\n",
    "termlist15_4b = [\"manag\", \"conserv\", \"protect\", \"restor\", \"rehabilit\",\n",
    "                 \"increas\",\"strengthen\",\"improv\",\"enhanc\",\"better\",\"higher\",\"upgrad\",\"advance\",\"develop\",\"ensure\",\"maintain\",\"preserv\",\"sustain\",\n",
    "                 \"decreas\",\"reduc\",\"restrict\",\"degrad\",\"lower\",\"declin\",\"deterior\",\n",
    "                 \"coping\",\"cope\",\"adapt\",\"resilien\",\n",
    "                 \"assess\",\"examin\",\"evaluat\",\"measur\",\"monitor\",\n",
    "                 \"govern\", \"administra\", \"planning\", \"policy\", \"policies\", \"strateg\", \"approach\",\n",
    "                 \"sustainable\", \n",
    "\n",
    "                 \"styring\", \"forvalt\", \"vernet\", \"verna\", \"verne\", \"vern av\", \"miljøvern\", \"bevare\", \"bevaring\", \"frede\", \"freda\", \"fredning\", \"gjenoppbygg\", \"restaur\",\n",
    "                 \"øker\", \"styrk\", \"forbedr\", \"bedring\", \"betring\", \"oppgrad\", \"viderefør\", \"sikre\", \"vedlikehold\", \"vedlikehald\", \"oppretthold\", \"opprethald\",\n",
    "                 \"reduser\", \"nedgang\", \"avgrens\", \"forring\", \"nedsatt\", \"nedsett\", \n",
    "                 \"tåle\", \"tilpass\", \"resilien\",\n",
    "                 \"overvåk\", \"vurder\", \"evaluer\", \"måle\", \"monitor\",\n",
    "                 \"styring\", \"ledels\", \"leiing\", \"planlegg\", \"politikk\",\n",
    "                 \"bærekraft\", \"berekraft\", ]\n",
    "\n",
    "termlist15_4c = [\"ecosystem\", \"habitat\",\n",
    "                 \"diversity\",\n",
    "                 \"key species\",\"keystone species\",\"foundation species\",\"habitat forming species\",\"habitat-forming species\",\"key resource\",\n",
    "                 \"cover\",\n",
    "                 \"ecological\", \"environmental\",\n",
    "\n",
    "                 \"økosystem\", \"miljø\", \"leveområd\", \n",
    "                 \"mangfold\", \"mangfald\", \"diversitet\", \n",
    "                 \"nøkkelart\", \"flaggskipsart\", \"paraplyart\", \"nøkkelressurs\",\n",
    "                 \"dekning\", \"dekke\",\n",
    "                 \"økologi\", \"miljø\"]\n",
    "\n",
    "termlist15_4d = [\"Protected area\",\"Wilderness area\", \"nature conservation\",\n",
    "                 \"Nature reserve\",\"National park\",\"Natural monument\",\"Natural feature\",\"Protected landscape\",\n",
    "                 \"Habitat management area\", \"Species management area\",\n",
    "                 \"key biodiversity area\", \"important sites for biodiversity\",\n",
    "                 \"Mountain Partnership\", \"Mountain Green Cover Index\",\n",
    "                 \"Convention on Biological Diversity\", \n",
    "                 \"Convention on International Trade in Endangered Species of Wild Fauna and Flora\",\n",
    "                 \n",
    "                 \"vernområde\", \"verneområde\", \"naturvern\",\n",
    "                 \"naturreservat\", \"biotopvernområde\", \"nasjonalpark\", \"bevarte område\", \"bevaringsområde\",\n",
    "                 \"områdevern\", \"økosystembasert forvalt\", \"økosystembasert styring\", \"forvaltningsplan\", \"bærekraftig forvalt\", \"berekraftig forvalt\",\"arealforvaltning\", \n",
    "                 \"artsforvaltning\", \"naturmangfoldloven\", \"lov om vern av naturens mangfold\",\n",
    "                 \"Konvensjonen om biologisk mangfold\", \"Konvensjon om biologisk mangfold\", \"biodiversitetskonvensjon\", \n",
    "                 \"Konvensjonen om internasjonal handel med truede dyr\", \"naturmangfoldloven\"]\n",
    "\n",
    "termlist15_4d_case = [\"KBA\", \"KBAs\", \"CBD\", \"CITES\"]\n",
    "\n",
    "phrasedefault15_4a = r'(?:{})'.format('|'.join(termlist15_4a))\n",
    "phrasespecific15_4b = r'(?:{})'.format('|'.join(termlist15_4b))\n",
    "phrasedefault15_4c = r'(?:{})'.format('|'.join(termlist15_4c))\n",
    "phrasedefault15_4d = r'(?:{})'.format('|'.join(termlist15_4d))\n",
    "phrasespecific15_4d_case = r'\\b(?:{})\\b'.format('|'.join(termlist15_4d_case))"
   ]
  },
  {
   "cell_type": "code",
   "execution_count": null,
   "id": "c2313d15-038e-4064-9788-2aad1b6d2e9a",
   "metadata": {
    "colab": {
     "base_uri": "https://localhost:8080/"
    },
    "id": "zLOkXhXE3QrE",
    "outputId": "e8140260-ea03-4972-af9b-a378bdb0a298"
   },
   "outputs": [],
   "source": [
    "#Search 1\n",
    "Data.loc[(\n",
    "    (Data['result_title'].str.contains(phrasedefault15_4a, na=False, case=False)) \n",
    "    & \n",
    "    (\n",
    "        (Data['result_title'].str.contains(phrasedefault15_4d, na=False, case=False)) \n",
    "        | (Data['result_title'].str.contains(phrasespecific15_4d_case, na=False, case=True)) #case=T\n",
    "        | ((Data['result_title'].str.contains(phrasespecific15_4b, na=False, case=False)) & (Data['result_title'].str.contains(phrasedefault15_4c, na=False, case=False)))\n",
    "    )\n",
    "),\"tempsdg15_04\"] = \"SDG15_04\"\n",
    "\n",
    "print(\"Number of results = \", len(Data[(Data.tempsdg15_04 == \"SDG15_04\")]))  "
   ]
  },
  {
   "cell_type": "code",
   "execution_count": null,
   "id": "f1bc7223-1081-4e9d-b9e9-4ef8c1bd5e9f",
   "metadata": {
    "colab": {
     "base_uri": "https://localhost:8080/"
    },
    "id": "g-krKS6z3QrG",
    "outputId": "626623ab-3269-4069-c900-f2be886dce83"
   },
   "outputs": [],
   "source": [
    "test=Data.loc[(Data.tempsdg15_04 == \"SDG15_04\"), (\"result_id\", \"result_title\")]\n",
    "test.iloc[0:5, ]"
   ]
  },
  {
   "cell_type": "markdown",
   "id": "98aa29cb-3a00-4326-b06a-f961937137b5",
   "metadata": {
    "id": "ZcpqNKFMREH7"
   },
   "source": [
    "### SDG 15.5\n",
    "*15.5 Take urgent and significant action to reduce the degradation of natural habitats, halt the loss of biodiversity and, by 2020, protect and prevent the extinction of threatened species*\n",
    "\n",
    "*Iverksette umiddelbare og omfattende tiltak for å redusere ødeleggelsen av habitater, stanse tap av biologisk mangfold og innen 2020 verne truede arter og forhindre at de dør ut*\n",
    "\n",
    "The Norwegian Red List (Artsdatabanken) webpages were used for Norwegian terms (https://artsdatabanken.no/lister/rodlisteforarter/2021/)\n",
    "\n",
    "#### Phrase 1"
   ]
  },
  {
   "cell_type": "code",
   "execution_count": null,
   "id": "0d8cf061-8ee7-488d-b337-d77c425e2972",
   "metadata": {
    "id": "QIS85H52RQGM"
   },
   "outputs": [],
   "source": [
    "#Termlists\n",
    "termlist15_5a = [\"degrad\", \"declin\", \"loss\", \"lost\", \"destruct\", \"disappear\", \"fragment\",\n",
    "                 \"forring\", \"nedgang\", \"taper\", \"tapt\", \"miste\", \"ødelegg\", \"ødelag\", \"øydelegg\", \"øydelag\", \"forsvinn\"]\n",
    "termlist15_5a_trunc = [\"tap\",\"tape\"] \n",
    "\n",
    "termlist15_5b = [\"ecosystem\",\"biotope\",\"habitat\",\n",
    "                 \"økosystem\", \"biotop\", \"leveområd\"] \n",
    "\n",
    "termlist15_5c = [\"communit\",\n",
    "                 \"samfunn\"] \n",
    "\n",
    "termlist15_5d = [\"ecolog\", \"species\", \"plant\", \"animal\", \"organism\", \"flora\", \"fauna\", \"wildlife\", \"insect\", \"amphibian\", \"reptile\", \"bird\", \"moss\", \"tree\", \"grassland\", \"pollinat\",\n",
    "                 \"økologi\", \"rovdyr\", \"pattedyr\", \"dyreart\", \"dyrart\", \"dyreliv\", \"insekt\", \"amfibi\", \"krypdyr\", \"fugl\", \"moser\", \"mosar\", \"trær\"]\n",
    "termlist15_5d_trunc = [\"art\",\"arter\",\"dyr\"] \n",
    "\n",
    "phrasedefault15_5a = r'(?:{})'.format('|'.join(termlist15_5a))\n",
    "phrasedefault15_5a_trunc = r'\\b(?:{})\\b'.format('|'.join(termlist15_5a_trunc))\n",
    "phrasedefault15_5b = r'(?:{})'.format('|'.join(termlist15_5b))\n",
    "phrasedefault15_5c = r'(?:{})'.format('|'.join(termlist15_5c))\n",
    "phrasedefault15_5d = r'(?:{})'.format('|'.join(termlist15_5d))\n",
    "phrasedefault15_5d_trunc = r'\\b(?:{})\\b'.format('|'.join(termlist15_5d_trunc))"
   ]
  },
  {
   "cell_type": "code",
   "execution_count": null,
   "id": "4594a986-f442-4933-86e4-a4310c2f4bd0",
   "metadata": {
    "colab": {
     "base_uri": "https://localhost:8080/"
    },
    "id": "Og8O1lGcRQGO",
    "outputId": "9b38ce94-6aab-4362-85d1-c7ac4090cc63"
   },
   "outputs": [],
   "source": [
    "#Search 1 - in terrestrial terms\n",
    "Data.loc[(\n",
    "    (\n",
    "        ((Data['result_title'].str.contains(phrasedefault15_5a, na=False, case=False)) | (Data['result_title'].str.contains(phrasedefault15_5a_trunc, na=False, case=False)))\n",
    "        &    \n",
    "        ((Data['result_title'].str.contains(phrasedefault15_5b, na=False, case=False))\n",
    "        |\n",
    "         (\n",
    "            (Data['result_title'].str.contains(phrasedefault15_5c, na=False, case=False)) \n",
    "            & ((Data['result_title'].str.contains(phrasedefault15_5d, na=False, case=False)) | (Data['result_title'].str.contains(phrasedefault15_5d_trunc, na=False, case=False)))\n",
    "         )\n",
    "        )\n",
    "    )\n",
    "    &(Data['terr_terms']==True)\n",
    "),\"tempsdg15_05\"] = \"SDG15_05\"\n",
    "\n",
    "print(\"Number of results = \", len(Data[(Data.tempsdg15_05 == \"SDG15_05\")]))  "
   ]
  },
  {
   "cell_type": "code",
   "execution_count": null,
   "id": "4170c0f6-93a8-424c-9c4a-f49fbacacfb6",
   "metadata": {
    "colab": {
     "base_uri": "https://localhost:8080/"
    },
    "id": "abOA32WeREIW",
    "outputId": "b19bf67a-2f2f-4b41-dee8-24a3a8232fe6"
   },
   "outputs": [],
   "source": [
    "test=Data.loc[(Data.tempsdg15_05 == \"SDG15_05\"), (\"result_id\", \"result_title\")]\n",
    "test.iloc[0:5, ]"
   ]
  },
  {
   "cell_type": "markdown",
   "id": "32dc84e7-e03d-48e6-8554-345bce9cf3b1",
   "metadata": {
    "id": "qLDwCe7hdUME"
   },
   "source": [
    "#### Phrase 2"
   ]
  },
  {
   "cell_type": "code",
   "execution_count": null,
   "id": "7c48deaa-3f96-42ab-be95-0982cb707d27",
   "metadata": {
    "id": "q1SnD_mPdUMG"
   },
   "outputs": [],
   "source": [
    "#Termlists\n",
    "#Use same terms as 15_5a\n",
    "\n",
    "termlist15_5e = [\"diversity\", \"species\",\n",
    "                 \"diversitet\", \"mangfold\", \"mangfald\"] \n",
    "termlist15_5e_trunc = [\"art\",\"arter\"] \n",
    "\n",
    "phrasedefault15_5e = r'(?:{})'.format('|'.join(termlist15_5e))\n",
    "phrasedefault15_5e_trunc = r'\\b(?:{})\\b'.format('|'.join(termlist15_5e_trunc))"
   ]
  },
  {
   "cell_type": "code",
   "execution_count": null,
   "id": "9074469b-2679-48d0-a75c-4da35f4b5a3f",
   "metadata": {
    "colab": {
     "base_uri": "https://localhost:8080/"
    },
    "id": "2qd33ASBdUMI",
    "outputId": "99b7173a-e6e7-48bd-8e6f-c192c685450c"
   },
   "outputs": [],
   "source": [
    "#Search 1 - in terr\n",
    "Data.loc[(\n",
    "    (\n",
    "        ((Data['result_title'].str.contains(phrasedefault15_5a, na=False, case=False)) | (Data['result_title'].str.contains(phrasedefault15_5a_trunc, na=False, case=False)))\n",
    "        &    \n",
    "        ((Data['result_title'].str.contains(phrasedefault15_5e, na=False, case=False)) | (Data['result_title'].str.contains(phrasedefault15_5e_trunc, na=False, case=False)))\n",
    "    )\n",
    "    & (Data['terr_terms']==True)\n",
    ")]\n",
    "\n",
    "print(\"Number of results = \", len(Data[(Data.tempsdg15_05 == \"SDG15_05\")]))  "
   ]
  },
  {
   "cell_type": "code",
   "execution_count": null,
   "id": "8037c5b0-c66e-4a1c-9813-96062cd3e5b8",
   "metadata": {
    "colab": {
     "base_uri": "https://localhost:8080/"
    },
    "id": "0-BfSxmNdUMI",
    "outputId": "24b6edd0-542f-4826-d7d7-ddd447a2083b"
   },
   "outputs": [],
   "source": [
    "test=Data.loc[(Data.tempsdg15_05 == \"SDG15_05\"), (\"result_id\", \"result_title\")]\n",
    "test.iloc[0:5, ]"
   ]
  },
  {
   "cell_type": "markdown",
   "id": "b90e9469-c1a1-4437-8493-aff4b624cbfe",
   "metadata": {
    "id": "j1NRQS50eg8t"
   },
   "source": [
    "#### Phrase 3"
   ]
  },
  {
   "cell_type": "code",
   "execution_count": null,
   "id": "94d106d1-8528-401d-b1e9-a03c0f5fc7ab",
   "metadata": {
    "id": "39Qbogkqeg8w"
   },
   "outputs": [],
   "source": [
    "#Termlists\n",
    "\n",
    "termlist15_5f = [\"manag\", \"conserv\", \"protect\", \"restor\", \"rehabilit\", \"preserv\",\n",
    "                 \"increas\",\"strengthen\",\"improv\",\"enhanc\",\"better\",\"higher\",\"upgrad\",\"advance\",\"develop\",\"ensure\",\"maintain\",\"preserv\",\"sustain\",\n",
    "                 \"decreas\",\"reduc\",\"restrict\",\"degrad\",\"lower\",\"declin\",\"deterior\",\" loss\"\n",
    "                 \"coping\",\"cope\",\"adapt\",\"resilien\",\n",
    "                 \"assess\",\"examin\",\"evaluat\",\"measur\",\"monitor\",\n",
    "\n",
    "                 \"styring\", \"forvalt\", \"verne\", \"verna\", \"vern av\", \"miljøvern\", \"bevare\", \"betring\", \"bevaring\", \"frede\", \"freda\", \"fredning\", \"gjenoppbygg\", \"restaur\",\n",
    "                 \"øker\", \"styrk\", \"forbedr\", \"bedring\", \"oppgrad\", \"viderefør\", \"sikre\", \"vedlikehold\", \"vedlikehald\", \"oppretthold\", \"opprethald\",\n",
    "                 \"reduser\", \"nedgang\", \"avgrens\", \"forring\", \"nedsatt\", \"nedsett\", \"tap av\",\n",
    "                 \"tåle\", \"tilpas\", \"resilien\",\n",
    "                 \"overvåk\", \"overvak\", \"vurder\", \"evaluer\", \"måle\", \"monitor\"]\n",
    "\n",
    "termlist15_5g = [\"biodiversity\",\"species diversity\",\n",
    "                \"red list\", \"International Union for Conservation of Nature\",\n",
    "\n",
    "                \"artsmangf\", \"artsdiversitet\", \"biomangf\", \"biologisk mangf\", \"biologiske mangf\", \"naturmangf\",\n",
    "                \"artsforvaltning\", \"naturmangfoldloven\", \"lov om vern av naturens mangfold\",\n",
    "                \"rødlist\", \"rød list\", \"raudlist\", \"raud list\",\n",
    "                \"trua art\", \"trued art\", \"truede art\"] \n",
    "                 #\"trua art\" (NO) etc are included as phrases here because both terms are easily creating noise with automatic truncation\n",
    "                 #The english combinations and \"truet\"(NO) are covered by h+i below\n",
    "termlist15_5g_case = [\"KBA\", \"KBAs\", \"CBD\", \"RLI\", \"IUCN\"]\n",
    "\n",
    "termlist15_5h = [\"threatened\",\"near extinct\",\"at risk\",\"endanger\",\"vulnerable\",\"protected\",\"red list\",\n",
    "                 \"diversity\",\n",
    "                 \"truet\", \"truga\", \"utryddingstru\", \"utrydjingstruga\", \"utsatte\", \"utsette\", \"sårbar\", \"vernet\", \"verna\", \"fredet\", \"freda\", \"rødlist\", \"rød list\", \"raudlist\", \"raud list\",\n",
    "                 \"diversitet\", \"mangfold\", \"mangfald\"]\n",
    "\n",
    "termlist15_5i = [\"species\", \"plant\", \"animal\", \"organism\", \"flora\", \"fauna\", \"wildlife\", \"insect\", \"amphibian\", \"reptile\", \"bird\",\n",
    "                 \"plant\", \"rovdyr\", \"pattedyr\", \"dyreart\", \"dyrart\", \"dyreliv\", \"insekt\", \"amfibi\", \"krypdyr\", \"fugl\", \"moser\", \"mosar\", \"trær\"]\n",
    "termlist15_5i_trunc = [\"art\",\"arter\",\"dyr\"]  \n",
    "\n",
    "phrasedefault15_5f = r'(?:{})'.format('|'.join(termlist15_5f))\n",
    "phrasedefault15_5g = r'(?:{})'.format('|'.join(termlist15_5g))\n",
    "phrasedefault15_5g_case = r'\\b(?:{})\\b'.format('|'.join(termlist15_5g_case))\n",
    "phrasedefault15_5h = r'(?:{})'.format('|'.join(termlist15_5h))\n",
    "phrasedefault15_5i = r'(?:{})'.format('|'.join(termlist15_5i))\n",
    "phrasedefault15_5i_trunc = r'\\b(?:{})\\b'.format('|'.join(termlist15_5i_trunc))"
   ]
  },
  {
   "cell_type": "code",
   "execution_count": null,
   "id": "fe73dc10-9e96-4373-b9d7-443c4164d3dc",
   "metadata": {
    "colab": {
     "base_uri": "https://localhost:8080/"
    },
    "id": "rTqhU-_deg8z",
    "outputId": "fb4b4415-173b-4621-8873-051251b166bf"
   },
   "outputs": [],
   "source": [
    "#Search 1 - in terr double NOT\n",
    "Data.loc[(\n",
    "    (\n",
    "        (Data['result_title'].str.contains(phrasedefault15_5f, na=False, case=False)) \n",
    "        & \n",
    "        (\n",
    "            ((Data['result_title'].str.contains(phrasedefault15_5g, na=False, case=False))|(Data['result_title'].str.contains(phrasedefault15_5g_case, na=False, case=True)))\n",
    "            | \n",
    "            ((Data['result_title'].str.contains(phrasedefault15_5h, na=False, case=False))\n",
    "            & ((Data['result_title'].str.contains(phrasedefault15_5i, na=False, case=False))|(Data['result_title'].str.contains(phrasedefault15_5i_trunc, na=False, case=False)))\n",
    "            )\n",
    "        )\n",
    "    )\n",
    "    &(Data['terrestrial_double_NOT']==True)\n",
    ")]\n",
    "\n",
    "print(\"Number of results = \", len(Data[(Data.tempsdg15_05 == \"SDG15_05\")]))  "
   ]
  },
  {
   "cell_type": "code",
   "execution_count": null,
   "id": "803d84a4-983b-42d4-836f-2169b1bfbad5",
   "metadata": {
    "colab": {
     "base_uri": "https://localhost:8080/"
    },
    "id": "-QRYTMZPeg82",
    "outputId": "15f0aeac-b167-4bb3-ffbf-5b7f6ea2aaa0"
   },
   "outputs": [],
   "source": [
    "test=Data.loc[(Data.tempsdg15_05 == \"SDG15_05\"), (\"result_id\", \"result_title\")]\n",
    "test.iloc[0:5, ]"
   ]
  },
  {
   "cell_type": "markdown",
   "id": "8717383e-aea8-42e6-8063-68724b6f7506",
   "metadata": {
    "id": "nXoYe9F8eixl"
   },
   "source": [
    "#### Phrase 4"
   ]
  },
  {
   "cell_type": "code",
   "execution_count": null,
   "id": "73eff16f-609b-4c36-a155-cf6fa95a39e0",
   "metadata": {
    "id": "LGed2S5Meixo"
   },
   "outputs": [],
   "source": [
    "#Termlists\n",
    "termlist15_5j = [\"threatened\",\"near extinct\",\"at risk\",\"endanger\",\"vulnerable\",\"protected\",\"red list\",\n",
    "                 \"truet\", \"truga\", \"trua \", \" trued\", \"truede\", \"utryddingstru\", \"utrydjingstruga\", \"utsatte\", \"utsette\", \"sårbar\", \"vernet\", \"verna\", \"fredet\", \"freda\", \"rødlist\", \"rød list\", \"raudlist\", \"raud list\"] \n",
    "#the spaces before/after \"trua\"(NO), \"trued\"(NO) are intentional (to avoid e.g. \"construed\")\n",
    "\n",
    "termlist15_5k = [\"species\", \"plant\", \"animal\", \"organism\", \"flora\", \"fauna\", \"wildlife\", \"insect\", \"amphibian\", \"reptile\", \"bird\",\n",
    "                 \"plant\", \"rovdyr\", \"pattedyr\", \"dyreart\", \"dyrart\", \"dyreliv\", \"insekt\", \"amfibi\", \"krypdyr\", \"fugl\"]\n",
    "termlist15_5k_trunc = [\"art\", \"arter\", \"dyr\"]  \n",
    "\n",
    "termlist15_5l = [\"extinction\", \"loss\", \"going extinct\",\n",
    "                 \"utrydd\", \"utrydj\", \"tapt\", \"miste\", \"mista\"]\n",
    "termlist15_5l_trunc = [\"tap\", \"tape\"]                 \n",
    "\n",
    "phrasedefault15_5j = r'(?:{})'.format('|'.join(termlist15_5j))\n",
    "phrasedefault15_5k = r'(?:{})'.format('|'.join(termlist15_5k))\n",
    "phrasedefault15_5k_trunc = r'\\b(?:{})\\b'.format('|'.join(termlist15_5k_trunc))\n",
    "phrasedefault15_5l = r'(?:{})'.format('|'.join(termlist15_5l))\n",
    "phrasedefault15_5l_trunc = r'\\b(?:{})\\b'.format('|'.join(termlist15_5l_trunc))"
   ]
  },
  {
   "cell_type": "code",
   "execution_count": null,
   "id": "8c33c5cd-2294-42b2-b9a9-a1e39273d0f3",
   "metadata": {
    "colab": {
     "base_uri": "https://localhost:8080/"
    },
    "id": "4xWEhYJQeixs",
    "outputId": "094da3be-8094-4c23-8534-530501c84c0f"
   },
   "outputs": [],
   "source": [
    "#Search 1\n",
    "Data.loc[(\n",
    "    (\n",
    "        ((Data['result_title'].str.contains(phrasedefault15_5l, na=False, case=False)) | (Data['result_title'].str.contains(phrasedefault15_5l_trunc, na=False, case=False)))\n",
    "        &    \n",
    "        (\n",
    "            (Data['result_title'].str.contains(phrasedefault15_5j, na=False, case=False))\n",
    "            & ((Data['result_title'].str.contains(phrasedefault15_5k, na=False, case=False))|(Data['result_title'].str.contains(phrasedefault15_5k_trunc, na=False, case=False)))\n",
    "        )\n",
    "    )\n",
    "    &(Data['terrestrial_double_NOT']==True)\n",
    ")]\n",
    "\n",
    "print(\"Number of results = \", len(Data[(Data.tempsdg15_05 == \"SDG15_05\")]))  "
   ]
  },
  {
   "cell_type": "code",
   "execution_count": null,
   "id": "d11cfacf-fd71-4d35-a12b-c456fb4c96a6",
   "metadata": {
    "colab": {
     "base_uri": "https://localhost:8080/"
    },
    "id": "XGvs5KIoeixu",
    "outputId": "e64724f2-ad72-410f-fa5d-c017416388e4"
   },
   "outputs": [],
   "source": [
    "test=Data.loc[(Data.tempsdg15_05 == \"SDG15_05\"), (\"result_id\", \"result_title\")]\n",
    "test.iloc[0:5, ]"
   ]
  },
  {
   "cell_type": "markdown",
   "id": "9279c7cc-ac66-46a3-9127-a02636bf7bb8",
   "metadata": {
    "id": "3FeBRzXW0O1G"
   },
   "source": [
    "### SDG 15.6\n",
    "\n",
    "*15.6 Promote fair and equitable sharing of the benefits arising from the utilization of genetic resources and promote appropriate access to such resources, as internationally agreed*\n",
    "\n",
    "*Fremme en rettferdig og likeverdig deling av godene knyttet til bruk av genressurser, og fremme formålstjenlig tilgang til slike ressurser i  tråd med internasjonal enighet*"
   ]
  },
  {
   "cell_type": "markdown",
   "id": "90ac6f1a-2f3b-47bb-bfae-97f5d353f7d1",
   "metadata": {
    "id": "Ot9ZN6Fm0O1L"
   },
   "source": [
    "#### Phrase 1"
   ]
  },
  {
   "cell_type": "code",
   "execution_count": null,
   "id": "f8a3cbb1-b433-405c-aea2-5ec93041169d",
   "metadata": {
    "id": "NmWp7m690O1Q"
   },
   "outputs": [],
   "source": [
    "#Termlists\n",
    "termlist15_6a = [\"share\", \"sharing\", \"equitab\", \"equal\", \"fair\", \"access\", \"right\", \"ownership\", \"appropriati\", \"biopira\", \"biocoloni\", \"using\", \"utiliz\", \"utilis\", \"use of\",\n",
    "                 \"deling\", \"deler\", \" dele\"  \"tilgang\", \"rett\", \"rettferd\", \"eierskap\", \"eigarskap\", \"bruk av\", \"bruker\", \"utnytte\"] \n",
    "#spaces around \"dele\"(NO) intentional to avoid truncation\n",
    "\n",
    "termlist15_6b = [\"genetic resource\", \"gene resource\", \"bioresource\", \"biological resource\",\n",
    "                 \"traditional knowledge\", \"indigenous knowledge\", \"autochthonous knowledge\", \"local knowledge\",\n",
    "\n",
    "                 \"genetiske ressurs\", \"genressurs\", \"plantegenetiske ressurs\", \"dyrgenetiske ressurs\", \"dyregenetiske ressurs\", \"bioressurs\", \"biologiske ressurs\",\n",
    "                 \"tradisjonelle kunnskap\", \"tradisjonell kunnskap\", \"urfolkskunnskap\"]\n",
    "\n",
    "termlist15_6c = [\"ecosystem\", \"biotop\", \"diversity\", \"species\", \"plant\", \"animal\", \"organism\", \n",
    "                 \"økosystem\", \"diversit\", \"mangfold\", \"mangfald\", \"rovdyr\", \"pattedyr\", \"dyreart\", \"dyrart\", \"dyreliv\", \"dyrgenetiske\", \"dyrgenetiske\"] \n",
    "termlist15_6c_trunc = [\"art\", \"arter\", \"dyr\"]  \n",
    "\n",
    "phrasedefault15_6a = r'(?:{})'.format('|'.join(termlist15_6a))\n",
    "phrasedefault15_6b = r'(?:{})'.format('|'.join(termlist15_6b))\n",
    "phrasedefault15_6c = r'(?:{})'.format('|'.join(termlist15_6c))\n",
    "phrasedefault15_6c_trunc = r'\\b(?:{})\\b'.format('|'.join(termlist15_6c_trunc))"
   ]
  },
  {
   "cell_type": "markdown",
   "id": "22822450-98cf-4c8c-9ff3-4516c4d1bacb",
   "metadata": {
    "id": "5nZsV8Oq2twQ"
   },
   "source": [
    "In the WOS string,  6a and 6b are run with 6c against the double NOT terrestrial set. Here we carry out an additional search, since these are quite specific terms, where 6a and 6b are also run with AND against the terrestrial set (e.g. publications with genetic resource sharing + forests can be found)"
   ]
  },
  {
   "cell_type": "code",
   "execution_count": null,
   "id": "342afc45-ee2e-420d-9e77-c5a44b588fae",
   "metadata": {
    "colab": {
     "base_uri": "https://localhost:8080/"
    },
    "id": "ApcBKHh80O1S",
    "outputId": "9e6ae920-52fd-4a99-e681-9d9f35eb682e"
   },
   "outputs": [],
   "source": [
    "#Search 1\n",
    "Data.loc[(\n",
    "    (\n",
    "        (Data['result_title'].str.contains(phrasedefault15_6a, na=False, case=False)) \n",
    "        & (Data['result_title'].str.contains(phrasedefault15_6b, na=False, case=False))\n",
    "        & ((Data['result_title'].str.contains(phrasedefault15_6c, na=False, case=False))|(Data['result_title'].str.contains(phrasedefault15_6c_trunc, na=False, case=False)))\n",
    "        & (Data['terrestrial_double_NOT']==True)\n",
    "    )\n",
    "    |\n",
    "    (\n",
    "        (Data['result_title'].str.contains(phrasedefault15_6a, na=False, case=False)) \n",
    "        & (Data['result_title'].str.contains(phrasedefault15_6b, na=False, case=False))\n",
    "        & (Data['terr_terms']==True)\n",
    "    )\n",
    "),\"tempsdg15_06\"] = \"SDG15_06\"\n",
    "\n",
    "print(\"Number of results = \", len(Data[(Data.tempsdg15_06 == \"SDG15_06\")])) "
   ]
  },
  {
   "cell_type": "code",
   "execution_count": null,
   "id": "3f7e1b40-b5d6-4d91-b074-3f6d30c4fe60",
   "metadata": {
    "colab": {
     "base_uri": "https://localhost:8080/"
    },
    "id": "JI2f0lK50O1V",
    "outputId": "340a60d3-79f3-4c0d-bcc5-e4b6d623229d"
   },
   "outputs": [],
   "source": [
    "test=Data.loc[(Data.tempsdg15_06 == \"SDG15_06\"), (\"result_id\", \"result_title\")]\n",
    "test.iloc[0:5, ]"
   ]
  },
  {
   "cell_type": "markdown",
   "id": "2859a30e-fd48-4be3-b903-d29a429d7674",
   "metadata": {
    "id": "rmL1Q6TW3dQp"
   },
   "source": [
    "#### Phrase 2 & 3 "
   ]
  },
  {
   "cell_type": "code",
   "execution_count": null,
   "id": "f2302fd6-424b-4636-9ad0-35e67d4421b3",
   "metadata": {
    "id": "FeRz5qEt3dQr"
   },
   "outputs": [],
   "source": [
    "#Termlists\n",
    "#Re-use 6b and 6c\n",
    "\n",
    "termlist15_6d = [\"benefit\", \"results\", \"transfer\", \"technolog\", \"participat\", \"product\", \"monetary\", \"royalties\", \"compensat\", \"bioprospect\",\n",
    "                 \"fordel\", \"gevinst\", \"resultat\", \"overfør\", \"teknologi\", \"deltak\", \"finansiel\", \"kompensasj\", \"godtgjørelse\", \"godtgjer\", \"bioprospekt\"] \n",
    "\n",
    "termlist15_6e = [\"Nagoya\", \"Convention on biological diversity\", \"benefit sharing\", \"benefit-sharing\",\n",
    "                 \"Plant Genetic Resources for Food and Agriculture\",\n",
    "                 \"Konvensjonen om biologisk mangfold\", \"biodiversitetskonvensjon\", \"Den internasjonale plantetraktaten\"\n",
    "                ] \n",
    "termlist15_6e_case = [\"CBD\",\"ABS\",\"PGRFA\"]\n",
    "\n",
    "termlist15_6f = [\"Access and benefit sharing\", \"Access and benefit-sharing\",  \"Bonn guideline\"]\n",
    "\n",
    "phrasedefault15_6d = r'(?:{})'.format('|'.join(termlist15_6d))\n",
    "phrasedefault15_6e = r'(?:{})'.format('|'.join(termlist15_6e))\n",
    "phrasedefault15_6e_case = r'(?:{})'.format('|'.join(termlist15_6e_case))\n",
    "phrasedefault15_6f = r'(?:{})'.format('|'.join(termlist15_6f))"
   ]
  },
  {
   "cell_type": "code",
   "execution_count": null,
   "id": "be7295c9-a683-4ea4-b57f-4c05903bb158",
   "metadata": {
    "colab": {
     "base_uri": "https://localhost:8080/"
    },
    "id": "QvxQUfj13dQt",
    "outputId": "00c6075f-8504-46a4-dd10-c98712bdd176"
   },
   "outputs": [],
   "source": [
    "#Search 1 - slightly simplified compared to WOS due to title search\n",
    "Data.loc[(\n",
    "    (\n",
    "        (Data['result_title'].str.contains(phrasedefault15_6b, na=False, case=False))\n",
    "        & (Data['result_title'].str.contains(phrasedefault15_6d, na=False, case=False))\n",
    "        & ((Data['terr_terms']==True) | (Data['result_title'].str.contains(phrasedefault15_6c, na=False, case=False)))\n",
    "    )\n",
    "    |\n",
    "    (\n",
    "        (Data['result_title'].str.contains(phrasedefault15_6b, na=False, case=False)) \n",
    "        & ((Data['result_title'].str.contains(phrasedefault15_6e, na=False, case=False))|(Data['result_title'].str.contains(phrasedefault15_6e_case, na=False, case=True))) #case=T\n",
    "        & (Data['terr_terms']==True)\n",
    "    )\n",
    "    | (Data['result_title'].str.contains(phrasedefault15_6f, na=False, case=False))\n",
    "),\"tempsdg15_06\"] = \"SDG15_06\"\n",
    "\n",
    "print(\"Number of results = \", len(Data[(Data.tempsdg15_06 == \"SDG15_06\")]))  "
   ]
  },
  {
   "cell_type": "code",
   "execution_count": null,
   "id": "bc304561-ae57-4e51-be7a-8f9a256e6d90",
   "metadata": {
    "colab": {
     "base_uri": "https://localhost:8080/"
    },
    "id": "wkbCDLHW3dQu",
    "outputId": "fbad32e0-2345-4b4c-af5a-375ee6f3bba2"
   },
   "outputs": [],
   "source": [
    "test=Data.loc[(Data.tempsdg15_06 == \"SDG15_06\"), (\"result_id\", \"result_title\")]\n",
    "test.iloc[0:5, ]"
   ]
  },
  {
   "cell_type": "markdown",
   "id": "434b1d67-5c0d-4a7e-90c2-53b9264f3bc4",
   "metadata": {
    "id": "94Y0SQYG5or6"
   },
   "source": [
    "### SDG 15.7\n",
    "\n",
    "*15.7 Take urgent action to end poaching and trafficking of protected species of flora and fauna and address both demand and supply of illegal wildlife products*\n",
    "\n",
    "*Iverksette umiddelbare tiltak for å stanse krypskyting og ulovlig handel med vernede plante- og dyrearter, og håndtere både tilbuds- og etterspørselssiden ved handelen med ulovlige produkter fra viltlevende dyr*"
   ]
  },
  {
   "cell_type": "markdown",
   "id": "9e1fffd4-676c-4641-adc4-2aeb418d3723",
   "metadata": {
    "id": "2-eslV9s5or9"
   },
   "source": [
    "#### Phrase 1"
   ]
  },
  {
   "cell_type": "code",
   "execution_count": null,
   "id": "19a44bd9-9a7d-4a49-8d34-33d92f70ce2a",
   "metadata": {
    "id": "AYA0Vkx65osA"
   },
   "outputs": [],
   "source": [
    "#Termlists\n",
    "termlist15_7a = [\"poach\", \"traffick\", \"smuggl\",\n",
    "                 \"krypskyt\", \"ulovlig\", \"ulovleg\", \"smugl\"]\n",
    "\n",
    "#termlist15_7b = [\"protected\", \"endanger\", \"threat\", \"extinct\", \"at risk\", \"vulnerable\", \"red list\",\n",
    "#                 \"truet\", \"truga\", \"utryddingstru\", \"utrydjingstruga\", \"utsatte\", \"utsette\", \"sårbar\", \"vernet\", \"verna\", \"fredet\", \"freda\", \"rødlist\", \"rød list\", \"raudlist\", \"raud list\"]\n",
    "#Taken out of newest version\n",
    "\n",
    "termlist15_7c = [\"species\", \"plant\", \"animal\", \"organism\", \"flora\", \"fauna\", \"wildlife\", \"insect\", \"amphibian\", \"reptile\", \"bird\",\n",
    "                 \"plant\", \"rovdyr\", \"pattedyr\", \"dyreart\", \"dyrart\", \"dyreliv\", \"insekt\", \"amfibi\", \"krypdyr\", \"fugl\"]  \n",
    "\n",
    "termlist15_7c_trunc = [\"art\", \"arter\", \"dyr\"]                                  \n",
    "\n",
    "termlist15_7d = [\"rosewood\" , \"kosso\" , \"elephant\" , \"rhino\" , \"ivory\" , \"pangolin\" , \"turtle\" , \"tortoise\" , \"big cat\" , \"tiger\" , \"glass eel\",      \n",
    "                 \"elefant\", \"neshorn\", \"elfenbein\", \"elfenben\", \"skilpadde\", \"store katt\", \"glassål\"]\n",
    "\n",
    "phrasedefault15_7a = r'(?:{})'.format('|'.join(termlist15_7a))\n",
    "#phrasedefault15_7b = r'(?:{})'.format('|'.join(termlist15_7b))\n",
    "phrasedefault15_7c = r'(?:{})'.format('|'.join(termlist15_7c))\n",
    "phrasedefault15_7c_trunc = r'\\b(?:{})\\b'.format('|'.join(termlist15_7c_trunc))\n",
    "phrasedefault15_7d = r'(?:{})'.format('|'.join(termlist15_7d))"
   ]
  },
  {
   "cell_type": "code",
   "execution_count": null,
   "id": "0a7b7026-cde1-43e7-a545-fd6491d1dc52",
   "metadata": {
    "colab": {
     "base_uri": "https://localhost:8080/"
    },
    "id": "vnEUxUej5osC",
    "outputId": "f4268208-86b1-4d1f-f6a3-52dd164f904c"
   },
   "outputs": [],
   "source": [
    "#Search 1 - terr double NOT\n",
    "Data.loc[(\n",
    "    (\n",
    "        (Data['result_title'].str.contains(phrasedefault15_7a, na=False, case=False))\n",
    "        & \n",
    "        (\n",
    "            (Data['result_title'].str.contains(phrasedefault15_7c, na=False, case=False))\n",
    "            |(Data['result_title'].str.contains(phrasedefault15_7c_trunc, na=False, case=False))\n",
    "            |(Data['result_title'].str.contains(phrasedefault15_7d, na=False, case=False))\n",
    "        )\n",
    "    )\n",
    "    &(Data['terrestrial_double_NOT']==True)\n",
    "),\"tempsdg15_07\"] = \"SDG15_07\"\n",
    "\n",
    "print(\"Number of results = \", len(Data[(Data.tempsdg15_07 == \"SDG15_07\")])) "
   ]
  },
  {
   "cell_type": "code",
   "execution_count": null,
   "id": "a4e4c432-ddd9-4bba-ac6f-fb16498cb34b",
   "metadata": {
    "colab": {
     "base_uri": "https://localhost:8080/",
     "height": 361
    },
    "id": "oz5GAJpN5osF",
    "outputId": "38dd13a0-757a-4a16-dd96-3744417e277a"
   },
   "outputs": [],
   "source": [
    "test=Data.loc[(Data.tempsdg15_07 == \"SDG15_07\"), (\"result_id\", \"result_title\")]\n",
    "test.iloc[0:5, ]"
   ]
  },
  {
   "cell_type": "markdown",
   "id": "3a3464f9-7298-46c7-b0da-24e24f6d1f6e",
   "metadata": {
    "id": "CMvRbBNa_2xj"
   },
   "source": [
    "#### Phrase 2"
   ]
  },
  {
   "cell_type": "code",
   "execution_count": null,
   "id": "3653fb94-b29a-4c08-b529-025ad1c86957",
   "metadata": {
    "id": "0M_jN8rz_2xn"
   },
   "outputs": [],
   "source": [
    "#Termlists\n",
    "\n",
    "#Re-use c, c_trunc and d\n",
    "termlist15_7e = [\"illegal\", \"illicit\", \"criminal\", \"crime\",\n",
    "                 \"ulovlig\", \"ulovleg\", \"krim\"]\n",
    "\n",
    "termlist15_7f = [\"product\" , \"manufact\" , \"merchandise\" , \"artifact\" , \"fabricat\" , \"handicraft\" , \"handiwork\",\n",
    "                 \"market\" , \"supply\" , \"supplier\" , \"supplied\" , \"demand\" , \"trade\" , \"trading\" , \"import\", \"export\", \"purchas\" , \"livelihood\",\n",
    "                 \"ivory\",\n",
    "                 \n",
    "                 \"produkt\", \"varer\", \"produser\", \"gjenstand\", \"lager\", \"håndverk\", \"handverk\",\n",
    "                 \"marked\", \"marknad\", \"etterspørsel\", \"tilbud\", \"tilbod\", \"handel\", \"kjøp\", \"salg\", \"eksport\", \"levebrød\", \"inntektskilde\", \"inntektskjelde\",\n",
    "                 \"elfenbein\", \"elfenben\"]\n",
    "\n",
    "phrasedefault15_7e = r'(?:{})'.format('|'.join(termlist15_7e))\n",
    "phrasedefault15_7f = r'(?:{})'.format('|'.join(termlist15_7f))"
   ]
  },
  {
   "cell_type": "code",
   "execution_count": null,
   "id": "96345237-3f94-43c9-9a2b-5ad45e61e17a",
   "metadata": {
    "colab": {
     "base_uri": "https://localhost:8080/"
    },
    "id": "HKtoTdFs_2xr",
    "outputId": "bd9e6c45-1215-4f02-ad4a-4d9cfa149c88"
   },
   "outputs": [],
   "source": [
    "#Search 1 - in terr double NOT\n",
    "Data.loc[(\n",
    "    (\n",
    "        (Data['result_title'].str.contains(phrasedefault15_7e, na=False, case=False))\n",
    "        & (Data['result_title'].str.contains(phrasedefault15_7f, na=False, case=False))\n",
    "        & \n",
    "        (\n",
    "            (Data['result_title'].str.contains(phrasedefault15_7c, na=False, case=False))\n",
    "            |(Data['result_title'].str.contains(phrasedefault15_7c_trunc, na=False, case=False))\n",
    "            |(Data['result_title'].str.contains(phrasedefault15_7d, na=False, case=False))\n",
    "        )\n",
    "    )\n",
    "    & (Data['terrestrial_double_NOT']==True)\n",
    "),\"tempsdg15_07\"] = \"SDG15_07\"\n",
    "\n",
    "print(\"Number of results = \", len(Data[(Data.tempsdg15_07 == \"SDG15_07\")])) "
   ]
  },
  {
   "cell_type": "code",
   "execution_count": null,
   "id": "33391edb-f938-49dd-b4ae-2e2722926d7a",
   "metadata": {
    "colab": {
     "base_uri": "https://localhost:8080/",
     "height": 257
    },
    "id": "TGceBAQ3_2xu",
    "outputId": "30e7321c-365b-45e8-f80c-ee7768391899"
   },
   "outputs": [],
   "source": [
    "test=Data.loc[(Data.tempsdg15_07 == \"SDG15_07\"), (\"result_id\", \"result_title\")]\n",
    "test.iloc[0:5, ]"
   ]
  },
  {
   "cell_type": "markdown",
   "id": "5e63f7d1-d784-4064-ba45-154c8fe1495e",
   "metadata": {
    "id": "w3BKndrACreY"
   },
   "source": [
    "#### Phrase 3"
   ]
  },
  {
   "cell_type": "code",
   "execution_count": null,
   "id": "f03b83d3-3bfc-4fc5-91b6-62c78e4afe4a",
   "metadata": {
    "id": "E2y3Cfv0Crec"
   },
   "outputs": [],
   "source": [
    "#Termlists\n",
    "\n",
    "termlist15_7g = [\"International Trade in Endangered Species of Wild Fauna and Flora\",\n",
    "                 \"Konvensjonen om internasjonal handel med truede dyr\", \"handel med truede og sårbare arter\", \"handel med truede arter\"]\n",
    "\n",
    "termlist15_7g_case = [\"CITES\"]\n",
    "\n",
    "phrasedefault15_7g = r'(?:{})'.format('|'.join(termlist15_7g))\n",
    "phrasespecific15_7g_case = r'\\b(?:{})\\b'.format('|'.join(termlist15_7g_case))"
   ]
  },
  {
   "cell_type": "code",
   "execution_count": null,
   "id": "b2249b3e-4f2d-4450-b040-47ef5e901d13",
   "metadata": {
    "colab": {
     "base_uri": "https://localhost:8080/"
    },
    "id": "SULkR5WyCree",
    "outputId": "cf29c8cf-9641-411f-f5bd-1a767d37bc9d"
   },
   "outputs": [],
   "source": [
    "#Search 1\n",
    "# Simplified as a title search - enough just to mention CITES\n",
    "Data.loc[(\n",
    "    (\n",
    "        (Data['result_title'].str.contains(phrasedefault15_7g, na=False, case=False))\n",
    "        | (Data['result_title'].str.contains(phrasespecific15_7g_case, na=False, case=True)) #case=T\n",
    "    )\n",
    "    & (Data['terrestrial_double_NOT']==True)\n",
    "),\"tempsdg15_07\"] = \"SDG15_07\"\n",
    "\n",
    "print(\"Number of results = \", len(Data[(Data.tempsdg15_07 == \"SDG15_07\")])) "
   ]
  },
  {
   "cell_type": "code",
   "execution_count": null,
   "id": "828eb847-7dbf-4460-8f52-cd303cae6324",
   "metadata": {
    "colab": {
     "base_uri": "https://localhost:8080/",
     "height": 1000
    },
    "id": "MFfTUCqXCreh",
    "outputId": "79d2ad74-98a3-4486-8ec7-38d4934af141"
   },
   "outputs": [],
   "source": [
    "test=Data.loc[(Data.tempsdg15_07 == \"SDG15_07\"), (\"result_id\", \"result_title\")]\n",
    "test.iloc[0:5, ]"
   ]
  },
  {
   "cell_type": "markdown",
   "id": "d754423a-aa22-42d6-84d0-627af2c9e392",
   "metadata": {
    "id": "sR7ZPNbsD4Es"
   },
   "source": [
    "### SDG 15.8\n",
    "\n",
    "*15.8 By 2020, introduce measures to prevent the introduction and significantly reduce the impact of invasive alien species on land and water ecosystems and control or eradicate the priority species*\n",
    "\n",
    "*Innen 2020 innføre tiltak for å unngå innføring og spredning av fremmede arter for å redusere fremmede arters påvirkning på land- og vannbaserte økosystemer i betydelig grad, og dessuten kontrollere eller utrydde prioriterte fremmede arter*\n",
    "\n",
    "In some of the phrases I have added an additional term list specific for using these strings for Norwegian research. It contains Latin and Norwegian names for terrestrial and limnic species deemed \"very high risk\" in the Norwegian black list of introduced species (2018, newest version; https://www.artsdatabanken.no/fremmedartslista2018)"
   ]
  },
  {
   "cell_type": "markdown",
   "id": "0026b10c-8425-4139-88ee-6afb3ffe49b8",
   "metadata": {
    "id": "JPVawgTKD4Ex"
   },
   "source": [
    "#### Phrase 1"
   ]
  },
  {
   "cell_type": "code",
   "execution_count": null,
   "id": "c6b3a01d-6fc5-4bde-9ca6-d78856076c6f",
   "metadata": {
    "id": "ZeRV84FUD4E3"
   },
   "outputs": [],
   "source": [
    "#Termlists\n",
    "termlist15_8a = [\"introduc\", \"spread\", \"expansion\", \"dispers\", \"range increas\",\n",
    "                 \"introduser\", \"rømme\", \"forvill\", \"utvide\", \"spredning\", \"sprei\", \"spre seg\", \"sprer seg\", \"spredd seg\", \"utbre\"]\n",
    "\n",
    "termlist15_8b = [\"invasive\",\"alien\",\"exotic\",\"nonnative\",\"non-native\",\"nonindigenous\",\"non-indigenous\",\n",
    "                  \"fremmed\"]\n",
    "\n",
    "termlist15_8c = [\"species\", \"plant\", \"animal\", \"organism\", \"flora\", \"fauna\", \"wildlife\", \"insect\", \"amphibian\", \"reptile\", \"bird\", \"rodent\",\n",
    "                 \"plant\", \"rovdyr\", \"pattedyr\", \"dyreart\", \"dyrart\", \"dyreliv\", \"insekt\", \"amfibi\", \"krypdyr\", \"fugl\", \"gnager\",\n",
    "                 \"fremmedart\"]  \n",
    "                 #\"fremmedart\"(NO) is added as a term here, as in the trunc list below \"art\" is not allowed to be truncated. b&c will find \"fremmede arter\".\n",
    "                 #This term can be an adjective, or e.g. \"fremmedartslista\"\n",
    "termlist15_8c_trunc = [\"art\", \"arter\", \"dyr\"]       \n",
    "\n",
    "termlist15_8d = [\"Pelophylax ridibundus\" , \"Pelophylax lessonae\" , \"Pelophylax esculentus\" , \"Esox lucius\" , \"Neogobius melanostomus\" , \"Phoxinus phoxinus\" , \"Scardinius erythrophthalmus\" , \"Branta canadensis\" , \"Barbarea vulgaris\" , \"Bunias orientalis\" , \"Elodea canadensis\" , \"Elodea nuttallii\" , \"Lactuca serriola\" , \"Lupinus nootkatensis\" , \"Symphytum officinale\" , \"Reynoutria ×bohemica\" , \"Vincetoxicum rossicum\" , \"Epilobium ciliatum ciliatum\" , \"Epilobium ciliatum glandulosum\" , \"Aruncus dioicus\" , \"Lamiastrum galeobdolon argentatum\" , \"Lamiastrum galeobdolon galeobdolon\" , \"Lysimachia punctata\" , \"Pastinaca sativa hortensis\" , \"Amelanchier spicata\" , \"Berberis thunbergii\" , \"Cotoneaster bullatus\" , \"Cotoneaster dielsianus\" , \"Cotoneaster horizontalis\" , \"Lonicera caerulea\" , \"Lysimachia nummularia\" , \"Rosa rugosa\" , \"Arctium tomentosum\" , \"Lupinus polyphyllus\" , \"Rorippa ×armoracioides\" , \"Salix viminalis\" , \"Bromopsis inermis\" , \"Cerastium tomentosum\" , \"Cotoneaster lucidus\" , \"Heracleum mantegazzianum\" , \"Heracleum persicum\" , \"Laburnum anagyroides\" , \"Melilotus albus\" , \"Petasites japonicus giganteus\" , \"Petasites hybridus\" , \"Phedimus spurius\" , \"Primula elatior elatior\" , \"Reynoutria sachalinensis\" , \"Sambucus racemosa\" , \"Senecio viscosus\" , \"Sorbaria sorbifolia\" , \"Swida sericea\" , \"Vinca minor\" , \"Taxus ×media\" , \"Senecio inaequidens\" , \"Melilotus officinalis\" , \"Odontites vulgaris\" , \"Solidago canadensis\" , \"Festuca rubra commutata\" , \"Cotoneaster divaricatus\" , \"Berteroa incana\" , \"Pinus mugo uncinata\" , \"Cytisus scoparius\" , \"Impatiens glandulifera\" , \"Impatiens parviflora\" , \"Myrrhis odorata\" , \"Phedimus hybridus\" , \"Populus balsamifera\" , \"Reynoutria japonica\" , \"Sorbus mougeotii\" , \"Spiraea ×billardii\" , \"Spiraea ×rosalba\" , \"Spiraea ×rubella\" , \"Tsuga heterophylla\" , \"Alchemilla mollis\" , \"Pinus contorta\" , \"Picea sitchensis\" , \"Picea ×lutzii\" , \"Acer pseudoplatanus\" , \"Laburnum alpinum\" , \"Pinus mugo\" , \"Campylopus introflexus\" , \"Neovison vison\" , \"Lepus europaeus\" , \"Nyctereutes procyonoides\" , \"Sciurus carolinensis\" , \"Castor canadensis\" , \"Echinococcus multilocularis\" , \"Gyrodactylus salaris\" , \"Angiostrongylus vasorum\" , \"Anguillicoloides crassus\" , \"Bursaphelenchus xylophilus\" , \"Meloidogyne hapla\" , \"Meloidogyne minor\" , \"Aphanomyces astaci\" , \"Batrachochytrium dendrobatidis\" , \"Batrachochytrium salamandrivorans\" , \"Hymenoscyphus fraxineus\" , \"Phytophthora ramorum\" , \"Phytophthora austrocedri\" , \"Agrilus planipennis\" , \"Anoplophora glabripennis\" , \"Harmonia axyridis\" , \"Ips amitinus\" , \"Arion vulgaris\" , \"Dreissena bugensis\" , \"Dreissena polymorpha\" , \"Potamopyrgus antipodarum\" , \"Opilio canestrinii\" , \"Eriocheir sinensis\" , \"Daphnia parvula\" , \"Pacifastacus leniusculus\" , \"Aedes japonicus\" , \"Bombus terrestris\" , \n",
    "                 \"latterfrosk\" , \"kontinental damfrosk\" , \"hybridfrosk\" , \"gjedde\" , \"svartmunnet kutling\" , \"ørekyt\" , \"sørv\" , \"kanadagås\" , \"vinterkarse\" , \"russekål\" , \"vasspest\" , \"smal vasspest\" , \"taggsalat\" , \"sandlupin\" , \"valurt\" , \"hybridslirekne\" , \"russesvalerot\" , \"ugrasmjølke\" , \"alaskamjølke\" , \"skogskjegg\" , \"sølvtvetann\" , \"parkgulltvetann\" , \"fagerfredløs\" , \"hagepastinakk\" , \"blåhegg\" , \"høstberberis\" , \"bulkemispel\" , \"dielsmispel\" , \"krypmispel\" , \"blåleddved\" , \"krypfredløs\" , \"rynkerose\" , \"ullborre\" , \"hagelupin\" , \"hybridkulekarse\" , \"kurvpil\" , \"bladfaks\" , \"filtarve\" , \"blankmispel\" , \"kjempebjørnekjeks\" , \"tromsøpalme\" , \"gullregn\" , \"hvitsteinkløver\" , \"japanpestrot\" , \"legepestrot\" , \"gravbergknapp\" , \"lundnøkleblom\" , \"kjempeslirekne\" , \"rødhyll\" , \"klistersvineblom\" , \"rognspirea\" , \"alaskakornell\" , \"gravmyrt\" , \"hybridbarlind\" , \"boersvineblom\" , \"legesteinkløver\" , \"engrødtopp\" , \"kanadagullris\" , \"veirødsvingel\" , \"sprikemispel\" , \"hvitdodre\" , \"bergfuru\" , \"gyvel\" , \"kjempespringfrø\" , \"mongolspringfrø\" , \"spansk kjørvel\" , \"sibirbergknapp\" , \"balsampoppel\" , \"parkslirekne\" , \"alpeasal\" , \"klasespirea\" , \"purpurspirea\" , \"bleikspirea\" , \"vestamerikansk hemlokk\" , \"praktmarikåpe\" , \"vrifuru\" , \"sitkagran\" , \"lutzgran\" , \"platanlønn\" , \"alpegullregn\" , \"alpefuru\" , \"ribbesåtemose\" , \"mink \" , \"sørhare\" , \"mårhund\" , \"riebannjáŋkkár\" , \"furuvednematode\" , \"askeskuddbeger\" , \"greindreper\" , \"asiatisk askepraktbille\" , \"harlekinmarihøne\" , \"brunskogsnegl\" , \"sebramusling\" , \"vandrepollsnegl\" , \"gulrotvevkjerring\" , \"kinaullhåndskrabbe\" , \"signalkreps\" , \"mørk jordhumle\"]\n",
    "                 #Norway-specific adaptation: Added list of specific species that problematic in Norway - improves recall.\n",
    "\n",
    "phrasedefault15_8a = r'(?:{})'.format('|'.join(termlist15_8a))\n",
    "phrasedefault15_8b = r'(?:{})'.format('|'.join(termlist15_8b))\n",
    "phrasedefault15_8c = r'(?:{})'.format('|'.join(termlist15_8c))\n",
    "phrasedefault15_8c_trunc = r'\\b(?:{})\\b'.format('|'.join(termlist15_8c_trunc))\n",
    "phrasedefault15_8d = r'(?:{})'.format('|'.join(termlist15_8d))"
   ]
  },
  {
   "cell_type": "code",
   "execution_count": null,
   "id": "2da8db1f-d1f9-471c-a3dc-5cb88ea428f1",
   "metadata": {
    "colab": {
     "base_uri": "https://localhost:8080/"
    },
    "id": "svre7MJ8D4E7",
    "outputId": "0d864556-3dff-4616-d528-2c33e881f0f8"
   },
   "outputs": [],
   "source": [
    "#Search 1\n",
    "Data.loc[(\n",
    "    (\n",
    "        (Data['result_title'].str.contains(phrasedefault15_8a, na=False, case=False))\n",
    "        & \n",
    "        (\n",
    "            ((Data['result_title'].str.contains(phrasedefault15_8b, na=False, case=False)) \n",
    "            & ((Data['result_title'].str.contains(phrasedefault15_8c, na=False, case=False))|(Data['result_title'].str.contains(phrasedefault15_8c_trunc, na=False, case=False)))\n",
    "            )\n",
    "            |(Data['result_title'].str.contains(phrasedefault15_8d, na=False, case=False))\n",
    "        )\n",
    "    )\n",
    "    & (Data['terrestrial_double_NOT']==True)\n",
    "),\"tempsdg15_08\"] = \"SDG15_08\"\n",
    "\n",
    "print(\"Number of results = \", len(Data[(Data.tempsdg15_08 == \"SDG15_08\")]))  "
   ]
  },
  {
   "cell_type": "code",
   "execution_count": null,
   "id": "254dd0aa-2ffc-4e00-97b7-9f90ac9a03d2",
   "metadata": {
    "colab": {
     "base_uri": "https://localhost:8080/"
    },
    "id": "Uf-L9h-6IUYi",
    "outputId": "9763d671-71dd-4829-893b-25264b07754c"
   },
   "outputs": [],
   "source": [
    "test=Data.loc[(Data.tempsdg15_08 == \"SDG15_08\"), (\"result_id\", \"result_title\")]\n",
    "test.iloc[0:5, ]"
   ]
  },
  {
   "cell_type": "markdown",
   "id": "dd282384-afc5-4f28-a07d-2f24a9ef1d6a",
   "metadata": {
    "id": "yTiAfW64D4FB"
   },
   "source": [
    "#### Phrase 2 & 3\n",
    "\n",
    "A NINA report was used to help with Norwegian terminology: *Blaalid, R., Often, A., Magnussen, K., Olsen, S. L. & Westergaard, K. B. 2017. Fremmede skadelige karplanter – Bekjempelsesmetodikk og spredningshindrende tiltak. – NINA Rapport 1432. 87 s.* http://hdl.handle.net/11250/2469573"
   ]
  },
  {
   "cell_type": "code",
   "execution_count": null,
   "id": "5965474a-a121-4c0e-aec3-b7bd7b21da70",
   "metadata": {
    "id": "WjY6DL6JD4FD"
   },
   "outputs": [],
   "source": [
    "#Termlists\n",
    "\n",
    "#Re-use b, c, d\n",
    "\n",
    "termlist15_8e = [\"impact\" , \"effect\" , \"affect\" , \"consequen\",\n",
    "                 \"competition\", \"predation\", \"hybridisation\", \"hybridization\", \n",
    "                 \"disease\", \"parasitism\",\n",
    "                 \"trampling\", \"rooting\",\n",
    "                 \"loss\", \"degrad\",\n",
    "                 \"ecosystem service\", \"biodiversity\", \n",
    "                 \"reduc\",\"decreas\",\"tackle\",\"control\",\"eradicat\",\"remov\",\n",
    "\n",
    "                 \"påvirk\", \"effekt\", \"impakt\", \"konsekvens\",\n",
    "                 \"konkurrans\", \"predasjon\", \"hybridiser\",\n",
    "                 \"sykdom\", \"sjukdom\", \"parasit\",\n",
    "                 \"forring\",\n",
    "                 \"økosystemtjeneste\", \"økosystemtenest\", \"biodiversitet\", \"biologisk mangf\", \"biologiske mangf\", \"artsmangf\", \"biomangf\",\n",
    "                 \"reduser\", \"tiltak\", \"kontroll\", \"utrydd\", \"fjerne\", \"bekjemp\", \"spredningshindr\", \"spreiingshindr\", \"forebygg\", \"førebygg\"]\n",
    "\n",
    "termlist15_8e_trunc = [\"tap\", \"tapt\"]\n",
    "\n",
    "phrasedefault15_8e = r'(?:{})'.format('|'.join(termlist15_8e))\n",
    "phrasedefault15_8e_trunc = r'\\b(?:{})\\b'.format('|'.join(termlist15_8e_trunc))\n"
   ]
  },
  {
   "cell_type": "code",
   "execution_count": null,
   "id": "fab2cfec-03c0-4ef1-9c90-e26e64867243",
   "metadata": {
    "colab": {
     "base_uri": "https://localhost:8080/"
    },
    "id": "F8lsJR9sD4FG",
    "outputId": "190538d5-9f37-4af2-994d-19aefb685ed7"
   },
   "outputs": [],
   "source": [
    "#Search 1\n",
    "Data.loc[(\n",
    "    (\n",
    "        ((Data['result_title'].str.contains(phrasedefault15_8e, na=False, case=False))|(Data['result_title'].str.contains(phrasedefault15_8e_trunc, na=False, case=False)))\n",
    "        & \n",
    "        (\n",
    "            ((Data['result_title'].str.contains(phrasedefault15_8b, na=False, case=False)) \n",
    "            & ((Data['result_title'].str.contains(phrasedefault15_8c, na=False, case=False))|(Data['result_title'].str.contains(phrasedefault15_8c_trunc, na=False, case=False)))\n",
    "            )\n",
    "            |(Data['result_title'].str.contains(phrasedefault15_8d, na=False, case=False))\n",
    "        )\n",
    "    )\n",
    "    & (Data['terrestrial_double_NOT']==True)\n",
    "),\"tempsdg15_08\"] = \"SDG15_08\"\n",
    "\n",
    "print(\"Number of results = \", len(Data[(Data.tempsdg15_08 == \"SDG15_08\")]))  "
   ]
  },
  {
   "cell_type": "code",
   "execution_count": null,
   "id": "dc099e40-e216-40c4-b06c-7e6cf7966b5c",
   "metadata": {
    "colab": {
     "base_uri": "https://localhost:8080/"
    },
    "id": "t4PqSRi3-_aD",
    "outputId": "f2ba329a-5180-44b5-89b6-1c2466e2d93a"
   },
   "outputs": [],
   "source": [
    "test=Data.loc[(Data.tempsdg15_08 == \"SDG15_08\"), (\"result_id\", \"result_title\")]\n",
    "test.iloc[0:5, ]"
   ]
  },
  {
   "cell_type": "markdown",
   "id": "655c5741-32e3-49e3-90e3-12acc693ab2b",
   "metadata": {
    "id": "GhJ8mgNcD4FP"
   },
   "source": [
    "### SDG 15.9\n",
    "\n",
    "*15.9 By 2020, integrate ecosystem and biodiversity values into national and local planning, development processes, poverty reduction strategies and accounts*\n",
    "\n",
    "*Innen 2020 integrere verdien av økosystemer og biologisk mangfold i nasjonale og lokale planleggingsprosesser, i strategier for fattigdomsbekjempelse og i regnskap*"
   ]
  },
  {
   "cell_type": "markdown",
   "id": "24d17b11-cb8e-40a7-96cd-306d2f0c880a",
   "metadata": {
    "id": "9jQhhtUbC7vx"
   },
   "source": [
    "This string has been simplified for a title search. \"Biodiversity\" and related terms are used more alone."
   ]
  },
  {
   "cell_type": "code",
   "execution_count": null,
   "id": "76a8b378-3fa0-4479-98e4-82df0921e225",
   "metadata": {
    "id": "In78SNGZD4FQ"
   },
   "outputs": [],
   "source": [
    "#Termlists\n",
    "termlist15_9d = [\"National biodiversity strategy\", \"national biodiversity action plan\"]\n",
    "termlist15_9d_case = [\"NBSAP\"]\n",
    "\n",
    "termlist15_9a = [\"biodiversit\", \"biological diversity\", \"species diversity\", \" cbd\",\n",
    "                 \"habitats\", \"habitat \", \"biotop\", \"nature conserv\",\n",
    "                 \n",
    "                 \"biologisk diversitet\", \"biomangf\", \"artsmangf\", \"biologisk mangf\", \"biologiske mangf\", \"naturmangf\",\n",
    "                 \"økosystem\", \"leveområd\", \"naturvern\"]\n",
    "#\"habitat\" variants are to avoid habitation\n",
    "\n",
    "termlist15_9b = [\"community\", \"environment\", \"ecosystem\", \"diversit\", \"habitat\",\n",
    "                 \"samfunn\", \"miljø\", \"mangfold\", \"mangfald\"]\n",
    "                 #Ecosystem was 50-50 noise, so was moved here to be combined with species, plant etc. \n",
    "                 #This phrase is searched for together with 9c, and alone *within* the terrestrial set to find e.g. \"forest community\"\n",
    "\n",
    "termlist15_9c = [\"species\", \"plant\", \"taxonom\", \"animal\", \"organism\", \"flora\", \"fauna\", \"wildlife\", \"insect\", \"amphibian\", \"reptile\", \"bird\",\n",
    "                 \"taksonom\", \"rovdyr\", \"pattedyr\", \"dyreart\", \"dyrart\", \"dyreliv\", \"insekt\", \"amfibi\", \"krypdyr\", \"fugl\"]\n",
    "\n",
    "termlist15_9e = [\"national\", \"local\", \"government\", \"regional\", \"sector\", \"municipal\", \"federal\", \"urban\", \"settlement\", \"multilevel\", \"multi-level\",\n",
    "                 \"poverty reduction\", \"reduce poverty\", \"anti-poverty\", \"anti poverty\",\n",
    "\n",
    "                 \"nasjonal\", \"regjering\", \"kommun\", \"lokal\", \"fylke\", \"sektor\", \"byer\", \"byområd\", \"byråd\",\n",
    "                 \"fattigdom\"]\n",
    "\n",
    "termlist15_9f = [\"target\", \"goal\", \"program\", \"strateg\", \"policy\", \"policies\", \"framework\", \"governance\", \n",
    "                 \"action plan\", \"development\", \"accounting\", \"report\",\n",
    "\n",
    "                 \"handlingsplan\", \"planlegg\", \"politikk\", \"retningslin\", \"rammeverk\", \"styring\", \"ledelse\", \"leiing\", \"forvaltning\", \n",
    "                 \"utvikling\", \"rapport\"]\n",
    "\n",
    "termlist15_9f_trunc = [\"plan\", \"planning\", \"plans\",\n",
    "                       \"mål\"] \n",
    "\n",
    "phrasedefault15_9a = r'(?:{})'.format('|'.join(termlist15_9a))\n",
    "phrasedefault15_9b = r'(?:{})'.format('|'.join(termlist15_9b))\n",
    "phrasedefault15_9c = r'(?:{})'.format('|'.join(termlist15_9c))\n",
    "phrasedefault15_9d = r'(?:{})'.format('|'.join(termlist15_9d))\n",
    "phrasedefault15_9d_case = r'(?:{})'.format('|'.join(termlist15_9d_case))\n",
    "phrasedefault15_9e = r'(?:{})'.format('|'.join(termlist15_9e))\n",
    "phrasedefault15_9f = r'(?:{})'.format('|'.join(termlist15_9f))\n",
    "phrasespecific15_9f_trunc = r'\\b(?:{})\\b'.format('|'.join(termlist15_9f_trunc))"
   ]
  },
  {
   "cell_type": "code",
   "execution_count": null,
   "id": "301b47d6-671c-4bc9-ae81-e20d0a5d3e8d",
   "metadata": {
    "colab": {
     "base_uri": "https://localhost:8080/"
    },
    "id": "Do7MieQmJpYK",
    "outputId": "0986e8be-8de6-4f11-cce0-86af47fee653"
   },
   "outputs": [],
   "source": [
    "#Search in terr double NOT\n",
    "Data.loc[(\n",
    "    (Data['result_title'].str.contains(phrasedefault15_9d, na=False, case=False)) \n",
    "    |(Data['result_title'].str.contains(phrasedefault15_9d_case, na=False, case=True)) #case=T\n",
    "    |\n",
    "    (\n",
    "        ((Data['result_title'].str.contains(phrasedefault15_9a, na=False, case=False))\n",
    "        |((Data['result_title'].str.contains(phrasedefault15_9b, na=False, case=False)) & (Data['result_title'].str.contains(phrasedefault15_9c, na=False, case=False)))\n",
    "        )\n",
    "        & \n",
    "        (\n",
    "            (Data['result_title'].str.contains(phrasedefault15_9e, na=False, case=False))\n",
    "            & ((Data['result_title'].str.contains(phrasedefault15_9f, na=False, case=False))|(Data['result_title'].str.contains(phrasespecific15_9f_trunc, na=False, case=False)))\n",
    "        )\n",
    "    )\n",
    "    & (Data['terrestrial_double_NOT']==True)\n",
    "),\"tempsdg15_09\"] = \"SDG15_09\"\n",
    "\n",
    "print(\"Number of results = \", len(Data[(Data.tempsdg15_09 == \"SDG15_09\")]))  \n",
    "\n",
    "#search in terr terms\n",
    "Data.loc[(\n",
    "    (\n",
    "        (Data['result_title'].str.contains(phrasedefault15_9b, na=False, case=False))\n",
    "        & \n",
    "        (\n",
    "            (Data['result_title'].str.contains(phrasedefault15_9e, na=False, case=False))\n",
    "            & ((Data['result_title'].str.contains(phrasedefault15_9f, na=False, case=False))|(Data['result_title'].str.contains(phrasespecific15_9f_trunc, na=False, case=False)))\n",
    "        )\n",
    "    )\n",
    "    & (Data['terr_terms']==True)\n",
    "),\"tempsdg15_09\"] = \"SDG15_09\"\n",
    "\n",
    "print(\"Number of results = \", len(Data[(Data.tempsdg15_09 == \"SDG15_09\")]))  "
   ]
  },
  {
   "cell_type": "code",
   "execution_count": null,
   "id": "6c8476e4-874f-413a-a497-e5e962eac3d5",
   "metadata": {
    "colab": {
     "base_uri": "https://localhost:8080/"
    },
    "id": "vDUoSO8xJpYL",
    "outputId": "c58ac4a2-e661-46d5-eb62-9ef05c1b1394"
   },
   "outputs": [],
   "source": [
    "test=Data.loc[(Data.tempsdg15_09 == \"SDG15_09\"), (\"result_id\", \"result_title\")]\n",
    "test.iloc[0:5, ]"
   ]
  },
  {
   "cell_type": "markdown",
   "id": "37f5956d-0679-46a6-9092-52c046ba949c",
   "metadata": {
    "id": "-7fgw7omIq0n"
   },
   "source": [
    "### SDG 15.a\n",
    "\n",
    "*15.a Mobilize and significantly increase financial resources from all sources to conserve and sustainably use biodiversity and ecosystems*\n",
    "\n",
    "*Mobilisere en betydelig økning i finansielle ressurser fra alle kilder for å bevare og utnytte biologisk mangfold og økosystemer på en bærekraftig måte*\n"
   ]
  },
  {
   "cell_type": "code",
   "execution_count": null,
   "id": "41896b2f-cd63-46ce-9b08-687c76a5d3a4",
   "metadata": {
    "id": "OHsT-pHiIq0x"
   },
   "outputs": [],
   "source": [
    "#Termlists\n",
    "\n",
    "termlist15_aa = [\"protect\", \"preserv\", \"conserv\", \"promot\", \"improv\", \"restor\", \"rehabilit\",\n",
    "                 \"enhanc\", \"strengthen\", \"maintain\", \"preserv\", \"support\",\n",
    "                 \n",
    "                 \"verne\", \"verna\", \"vern av\", \"miljøvern\", \"bevare\", \"bevaring\", \"frede\", \"freda\", \"fredning\", \"gjenoppbygg\", \"restaurer\", \n",
    "                 \"forbedr\", \"betre\", \"betring\", \"styrke\", \"vedlikeh\", \"støtte\", \"stønad\"]\n",
    "\n",
    "termlist15_ab = [\"manag\",\"use\",\"using\",\"govern\",\"development\",\"administrat\",\"planning\",\n",
    "                 \"forvalt\", \"bruk\", \"styr\", \"ledelse\", \"leiing\", \"utvikl\", \"planlegg\"]\n",
    "termlist15_ab_trunc = [\"use\",\"using\",\n",
    "                       \"bruk\"]\n",
    "termlist15_ac = [\"sustainabl\", \"responsib\", \"environmental\", \"ecological\", \"ecosystem\",\n",
    "                 \"bærekraft\", \"berekraft\", \"ansvarl\", \"miljø\", \"økologisk\", \"økosystem\"]\n",
    "\n",
    "termlist15_ad = [\"biodiversit\", \"biological diversity\", \"species diversity\",\n",
    "                 \"habitat\",\"biotop\",\"nature conservation\",\n",
    "                 \"ecosystem service\", \"ecosystem restor\", \"rio marker\",\n",
    "                 \n",
    "                 \"biologisk diversitet\", \"biomangf\", \"artsmangf\", \"biologisk mangf\", \"biologiske mangf\",\n",
    "                 \"økosystem\", \"leveområd\", \"naturvern\"]\n",
    "\n",
    "termlist15_ae = [\"community\", \"environment\", \"ecosystem\", \"diversit\",\n",
    "                 \"samfunn\", \"miljø\", \"mangfold\"]\n",
    "                 #Ecosystem was 50-50 noise, so was moved here to be combined with species, plant etc. \n",
    "                 #This phrase is searched for together with 9af, and alone *within* the terrestrial set\n",
    "\n",
    "termlist15_af = [\"ecolog\", \"species\", \"taxonom\", \"plant\", \"animal\", \"organism\", \"flora\", \"fauna\", \"wildlife\", \"insect\", \"amphibian\", \"reptile\", \"bird\",\n",
    "                 \"økologi\", \"taksonom\", \"rovdyr\", \"pattedyr\", \"dyreart\", \"dyrart\", \"dyreliv\", \"insekt\", \"amfibi\", \"krypdyr\", \"fugl\"]\n",
    "\n",
    "termlist15_ag = [\"investing\", \"investment\", \"investor\", \"financ\", \"spending\", \"funding\", \"grant\", \"funds\",\n",
    "                  \"incentive\", \"taxes\", \"fees\", \"subsidy\", \"subsidi\",\n",
    "                  \"cooperation fund\", \"development fund\", \"development assistance\", \"international aid\", \"international assistance\", \"foreign aid\", \"foreign assistance\", \n",
    "                  \"global environmental facility\", \"Biodiversity finance intitiative\", \n",
    "                  \"partnership for action on green economy\", \n",
    "                  \"poverty-environment action for sustainable\", \"poverty environment action for sustainable\",\n",
    "                  \"green commodities program\",\n",
    "                 \n",
    "                 \"finansiel\", \"midlar\", \"økonomiske ressurs\",\n",
    "                 \"insentiv\", \"skatt\", \"subsidier\", \"subsidiar\", \"tilskudd\", \"tilskot\",\n",
    "                 \"samarbeidsfond\", \"utviklingsstøtte\", \"utviklingsstønad\", \"bistand\", \"utviklingshjelp\", \"u-hjelp\"]\n",
    "                 #\"midler\"(NO) is not used alone as is also in e.g. \"sprøytemidler\"\n",
    "termlist15_9ag_case = [\"GEF\", \"BIOFIN\", \"PAGE\", \"PEAS\", \"ODA\"]\n",
    "\n",
    "phrasedefault15_aa = r'(?:{})'.format('|'.join(termlist15_aa))\n",
    "phrasedefault15_ab = r'(?:{})'.format('|'.join(termlist15_ab))\n",
    "phrasespecific15_ab_trunc = r'\\b(?:{})\\b'.format('|'.join(termlist15_ab_trunc))\n",
    "phrasedefault15_ac = r'(?:{})'.format('|'.join(termlist15_ac))\n",
    "phrasedefault15_ad = r'(?:{})'.format('|'.join(termlist15_ad))\n",
    "phrasedefault15_ae = r'(?:{})'.format('|'.join(termlist15_ae))\n",
    "phrasedefault15_af = r'(?:{})'.format('|'.join(termlist15_af))\n",
    "phrasedefault15_ag = r'(?:{})'.format('|'.join(termlist15_ag))\n",
    "phrasespecific15_ag_case = r'\\b(?:{})\\b'.format('|'.join(termlist15_9ag_case))"
   ]
  },
  {
   "cell_type": "markdown",
   "id": "44bf5bdb-9821-49c0-bc9b-861bb5bb4cf4",
   "metadata": {
    "id": "rolse8c3lBsQ"
   },
   "source": [
    "Since this is only a title search, we simplify to search for only biodiversity + investment, and drop the \"sustainable use/protect\" parts (when used = no results). They are commented-out below."
   ]
  },
  {
   "cell_type": "code",
   "execution_count": null,
   "id": "494670da-dc86-4f7b-8c97-678d4720dbc6",
   "metadata": {
    "colab": {
     "base_uri": "https://localhost:8080/"
    },
    "id": "IeYMyN-QIq01",
    "outputId": "ef6c2aa9-9a57-4a0e-9c3d-e6a7c9a79220"
   },
   "outputs": [],
   "source": [
    "#Search 1\n",
    "Data.loc[(\n",
    "    (\n",
    "        #(\n",
    "        #    (terrestrial_double_NOT['result_title'].str.contains(phrasedefault15_aa, na=False, case=False)) \n",
    "        #    |(\n",
    "        #       (terrestrial_double_NOT['result_title'].str.contains(phrasedefault15_ac, na=False, case=False))  \n",
    "        #       & ((terrestrial_double_NOT['result_title'].str.contains(phrasedefault15_ab, na=False, case=False))|(terrestrial_double_NOT['result_title'].str.contains(phrasespecific15_ab_trunc, na=False, case=False)))\n",
    "        #    )\n",
    "        #)\n",
    "        #&\n",
    "        (\n",
    "            (Data['result_title'].str.contains(phrasedefault15_ad, na=False, case=False)) \n",
    "            |((Data['result_title'].str.contains(phrasedefault15_ae, na=False, case=False))&(Data['result_title'].str.contains(phrasedefault15_af, na=False, case=False)))\n",
    "            |((Data['result_title'].str.contains(phrasedefault15_ae, na=False, case=False))&(Data['terr_terms']==True)) #This line combined with terrestrial terms\n",
    "        )\n",
    "        &\n",
    "        (\n",
    "            (Data['result_title'].str.contains(phrasedefault15_ag, na=False, case=False))\n",
    "            |(Data['result_title'].str.contains(phrasespecific15_ag_case, na=False, case=True))\n",
    "        )\n",
    "    )\n",
    "    & (Data['terrestrial_double_NOT']==True)\n",
    "),\"tempsdg15_a\"] = \"SDG15_0a\"\n",
    "\n",
    "print(\"Number of results = \", len(Data[(Data.tempsdg15_a == \"SDG15_0a\")]))  "
   ]
  },
  {
   "cell_type": "code",
   "execution_count": null,
   "id": "21688d63-2a93-40fc-b6eb-ea9ac195d6fd",
   "metadata": {
    "colab": {
     "base_uri": "https://localhost:8080/",
     "height": 532
    },
    "id": "IM02rvZtIq07",
    "outputId": "38dc13f3-fc46-4be8-dbfa-1867e76257d2"
   },
   "outputs": [],
   "source": [
    "test=Data.loc[(Data.tempsdg15_a == \"SDG15_0a\"), (\"result_id\", \"result_title\")]\n",
    "test.iloc[0:10, ]"
   ]
  },
  {
   "cell_type": "markdown",
   "id": "4b92f4f7-89be-4adb-92f1-d26f1f86e83e",
   "metadata": {
    "id": "5M72AnzujaXx"
   },
   "source": [
    "### SDG 15.b\n",
    "\n",
    "*15.b Mobilize significant resources from all sources and at all levels to finance sustainable forest management and provide adequate incentives to developing countries to advance such management, including for conservation and reforestation*\n",
    "\n",
    "*Mobilisere betydelige ressurser fra alle kilder og på alle nivåer for å finansiere en bærekraftig skogforvaltning, og sørge for virkemidler som er egnet til å fremme slik forvaltning i utviklingslandene, blant annet virkemidler for bevaring og nyplanting av skog*\n"
   ]
  },
  {
   "cell_type": "markdown",
   "id": "57703acf-8cf1-48f0-8f9a-af985e4e1872",
   "metadata": {
    "id": "dLeM93mENfY1"
   },
   "source": [
    "In this search I have added a NOT search for kelp forest, as there is relatively much about this in Norway and only very rarely is a paper about both terrestrial and kelp forests. I have also simplified this search since it is a title search, by only using forests + support (not requiring + sustinable management/conservation/afforestation)."
   ]
  },
  {
   "cell_type": "code",
   "execution_count": null,
   "id": "2b812c2e-a8a7-41fe-9297-ffbb53fea1ee",
   "metadata": {
    "id": "M1T2J_KKjaX7"
   },
   "outputs": [],
   "source": [
    "#Termlists\n",
    "termlist15_ba = [\"investing\", \"investment\", \"investor\", \"financ\", \"spending\", \"funding\", \"grant\", \"funds\",\n",
    "                  \"incentive\", \"taxes\", \"fees\", \"subsidy\", \"subsidi\", \"payment\",\n",
    "                  \"cooperation fund\", \"development fund\", \"development assistance\", \"international aid\", \"international assistance\", \"foreign aid\", \"foreign assistance\", \n",
    "                 \n",
    "                 \"finansiel\", \"midlar\", \"økonomiske ressurs\", \"økonomiske midler\",\n",
    "                 \"insentiv\", \"skatt\", \"subsidier\", \"subsidiar\", \"tilskudd\", \"tilskot\", \"utbetal\",\n",
    "                 \"samarbeidsfond\", \"utviklingsstøtte\", \"utviklingsstønad\", \"bistand\", \"utviklingshjelp\", \"u-hjelp\"]\n",
    "                 #\"midler\"(NO) is not used alone as is also in e.g. \"sprøytemidler\"\n",
    "termlist15_ba_case = [\"ODA\"]\n",
    "\n",
    "termlist15_bb = [\"forest\", \"woodland\", \"silvicultur\", \"arboricultu\",\n",
    "                 \"skog\", \"silvikultur\"]\n",
    "\n",
    "termlist15_bNOT = [\"kelp forest\"]\n",
    "\n",
    "phrasedefault15_ba = r'(?:{})'.format('|'.join(termlist15_ba))\n",
    "phrasespecific15_ba_case = r'\\b(?:{})\\b'.format('|'.join(termlist15_ba_case))\n",
    "phrasedefault15_bb = r'(?:{})'.format('|'.join(termlist15_bb))\n",
    "phrasedefault15_bNOT = r'(?:{})'.format('|'.join(termlist15_bNOT))"
   ]
  },
  {
   "cell_type": "code",
   "execution_count": null,
   "id": "61ab2c8b-8a18-44e1-a672-695829489e6c",
   "metadata": {
    "colab": {
     "base_uri": "https://localhost:8080/"
    },
    "id": "LB6Quz3MjaX-",
    "outputId": "4b4b74ea-e692-4b5d-e646-77c13932d7cd"
   },
   "outputs": [],
   "source": [
    "#Search 1\n",
    "Data.loc[(\n",
    "    ((Data['result_title'].str.contains(phrasedefault15_ba, na=False, case=False)) | (Data['result_title'].str.contains(phrasespecific15_ba_case, na=False, case=True))) #case = T\n",
    "    & (Data['result_title'].str.contains(phrasedefault15_bb, na=False, case=False)) \n",
    "    & (~Data['result_title'].str.contains(phrasedefault15_bNOT, na=False, case=False))\n",
    "),\"tempsdg15_b\"] = \"SDG15_b\"\n",
    "\n",
    "print(\"Number of results = \", len(Data[(Data.tempsdg15_b == \"SDG15_b\")]))  "
   ]
  },
  {
   "cell_type": "code",
   "execution_count": null,
   "id": "15b6cdd8-5cb1-4fea-83cb-071c78e69d4a",
   "metadata": {
    "colab": {
     "base_uri": "https://localhost:8080/",
     "height": 629
    },
    "id": "e1leNokYjaYE",
    "outputId": "da667ce2-113f-4a92-9ef2-a55c68dc86e4"
   },
   "outputs": [],
   "source": [
    "test=Data.loc[(Data.tempsdg15_b == \"SDG15_b\"), (\"result_id\", \"result_title\")]\n",
    "test.iloc[0:10, ]"
   ]
  },
  {
   "cell_type": "markdown",
   "id": "c346c82e-b446-4135-b6b6-ffaaefc3c879",
   "metadata": {
    "id": "khq_t-dwokmq"
   },
   "source": [
    "### SDG 15.c\n",
    "*15.c Enhance global support for efforts to combat poaching and trafficking of protected species, including by increasing the capacity of local communities to pursue sustainable livelihood opportunities*\n",
    "\n",
    "*Øke den globale støtten til tiltak for å bekjempe krypskyting og ulovlig handel med vernede arter, blant annet ved å styrke lokalsamfunnenes evne til å benytte de muligheter som finnes for å opprettholde et bærekraftig livsgrunnlag*"
   ]
  },
  {
   "cell_type": "markdown",
   "id": "d0797aa4-b952-4076-83cb-f8e8d31220d7",
   "metadata": {
    "id": "LrB_4e03okmx"
   },
   "source": [
    "#### Phrase 1"
   ]
  },
  {
   "cell_type": "code",
   "execution_count": null,
   "id": "e0d24b73-18f2-44a8-9902-b6eea528a6e9",
   "metadata": {
    "id": "VXOJxQrpokm3"
   },
   "outputs": [],
   "source": [
    "#Termlists\n",
    "termlist15_ca = [\"poach\", \"traffick\", \"smuggl\", \"illegal\",\n",
    "                 \"krypskyt\", \"smugl\", \"ulovlig\", \"ulovleg\"]\n",
    "\n",
    "termlist15_cc = [\"species\", \"plant\", \"animal\", \"organism\", \"flora\", \"fauna\", \"wildlife\", \"insect\", \"amphibian\", \"reptile\", \"bird\",\n",
    "                 \"plant\", \"rovdyr\", \"pattedyr\", \"dyreart\", \"dyrart\", \"dyreliv\", \"insekt\", \"amfibi\", \"krypdyr\", \"fugl\"]  \n",
    "termlist15_cc_trunc = [\"art\", \"arter\", \"dyr\"]                                  \n",
    "\n",
    "termlist15_cd = [\"rosewood\" , \"kosso\" , \"elephant\" , \"rhino\" , \"ivory\" , \"pangolin\" , \"turtle\" , \"tortoise\" , \"big cat\" , \"tiger\" , \"glass eel\",\n",
    "                 \"elefant\", \"neshorn\", \"elfenbein\", \"elfenben\", \"skilpadde\", \"store katt\", \"glassål\"]\n",
    "\n",
    "termlist15_ce = [\"capacity\",\n",
    "                 \"cooperation\",\"collaboration\",\"support\",\"international agreement\",\n",
    "                 \"polic\", \"empower\", \"investing\", \"investment\",\n",
    "                 \"knowledge transfer\", \"awareness\", \"knowledge\", \"information\", \"dissemination\",\n",
    "                 \"educat\", \n",
    "                 \"Landscapes for People, Food and Nature partnership\",\n",
    "                 \"Convention on International Trade in Endangered Species of Wild\",\n",
    "                 \"anti-poach\", \"patrol\", \"detection\", \n",
    "                 \n",
    "                 \"kapasitet\", \n",
    "                 \"samarbeid\", \"nettverk\", \"støtte\", \"stønad\",\n",
    "                 \"politikk\", \"retningslin\", \"myndiggjør\", \"bistand\", \"ressurs\",\n",
    "                 \"kunnskapsoverfør\", \"kjenner til\", \"kunnskap\", \"informasjon\", \"formidl\",\n",
    "                 \"utdann\",\n",
    "                 \"internasjonal handel med truede dyr\", \"internasjonal handel med truede og sårbare\",\n",
    "                 \"anti-krypskyt\", \"avslør\", \"kontroll\"]\n",
    "termlist15_ce_case = [\"CITES\"]\n",
    "\n",
    "phrasedefault15_ca = r'(?:{})'.format('|'.join(termlist15_ca))\n",
    "phrasedefault15_cc = r'(?:{})'.format('|'.join(termlist15_cc))\n",
    "phrasespecific15_cc = r'\\b(?:{})\\b'.format('|'.join(termlist15_cc_trunc))\n",
    "phrasedefault15_cd = r'(?:{})'.format('|'.join(termlist15_cd))\n",
    "phrasedefault15_ce = r'(?:{})'.format('|'.join(termlist15_ce))\n",
    "phrasedefault15_ce_case = r'(?:{})'.format('|'.join(termlist15_ce_case))"
   ]
  },
  {
   "cell_type": "code",
   "execution_count": null,
   "id": "a8a653b1-0af2-4b7d-a7ed-def65ef9e946",
   "metadata": {
    "colab": {
     "base_uri": "https://localhost:8080/"
    },
    "id": "78027ZoPokm8",
    "outputId": "4a607f27-e830-4582-8cbb-bbd1823e3cc3"
   },
   "outputs": [],
   "source": [
    "#Search 1\n",
    "\n",
    "Data.loc[(\n",
    "    (\n",
    "        (Data['result_title'].str.contains(phrasedefault15_ca, na=False, case=False))\n",
    "        & \n",
    "        (\n",
    "            (Data['result_title'].str.contains(phrasedefault15_cd, na=False, case=False)) \n",
    "            |(Data['result_title'].str.contains(phrasedefault15_cc, na=False, case=False))\n",
    "            |(Data['result_title'].str.contains(phrasespecific15_cc, na=False, case=False))\n",
    "        )\n",
    "        & \n",
    "        (\n",
    "            (Data['result_title'].str.contains(phrasedefault15_ce, na=False, case=False))\n",
    "            |(Data['result_title'].str.contains(phrasedefault15_ce_case, na=False, case=True)) # case = T\n",
    "        )\n",
    "    )\n",
    "    & (Data['terrestrial_double_NOT']==True)\n",
    "),\"tempsdg15_c\"] = \"SDG15_c\"\n",
    "\n",
    "print(\"Number of results = \", len(Data[(Data.tempsdg15_c == \"SDG15_c\")]))  "
   ]
  },
  {
   "cell_type": "code",
   "execution_count": null,
   "id": "e7171418-1b9d-444c-9cec-7c98f45ed060",
   "metadata": {
    "colab": {
     "base_uri": "https://localhost:8080/",
     "height": 142
    },
    "id": "MbjfrXwLoknB",
    "outputId": "9f59c200-fd9e-4b2f-abd8-d8caaf0e1b1d"
   },
   "outputs": [],
   "source": [
    "test=Data.loc[(Data.tempsdg15_c == \"SDG15_c\"), (\"result_id\", \"result_title\")]\n",
    "test.iloc[0:5, ]"
   ]
  },
  {
   "cell_type": "markdown",
   "id": "7b554b2a-103b-4061-96e4-52e68502e184",
   "metadata": {
    "id": "SKhjoDxRvp6E"
   },
   "source": [
    "#### Phrase 2"
   ]
  },
  {
   "cell_type": "code",
   "execution_count": null,
   "id": "16d89e2d-2e93-4a6f-9538-e26032937919",
   "metadata": {
    "id": "b9vr-uIKvp6H"
   },
   "outputs": [],
   "source": [
    "#Termlists\n",
    "termlist15_cf = [\"Convention on International Trade in Endangered Species of Wild Fauna and Flora\",\n",
    "                 \"internasjonal handel med truede dyr\", \"internasjonal handel med truede og sårbare arter\"]\n",
    "                 #Reuse 15_ce_case for CITES\n",
    "\n",
    "termlist15_cg = [\"livelihood\", \"employment\",\n",
    "                 \"local communit\", \"local people\", \"indigenous communit\", \"indigenous people\", \"rural communit\", \"rural people\", \"native communit\", \"native people\",\n",
    "                 \n",
    "                 \"levebrød\", \"jobb\", \"tilsatt\", \"ansatt\", \"arbeid\",\n",
    "                 \"lokale samfunn\", \"lokalsamfunn\", \"urfolk\", \"urbefolkning\", \"bygd\"]\n",
    "\n",
    "termlist15_ch = [\"sustainab\", \"ecological\", \"legal\", \"alternativ\", \"eco-friendly\", \"environmentally friendly\",\n",
    "                 \"bærekraft\", \"berekraft\", \"økologi\", \"lovlig\", \"lovleg\", \"miljøven\", \"økoven\"]\n",
    "\n",
    "termlist15_ci = [\"fishing\", \"fisher\", \"hunting\", \"hunter\", \"touris\", \"agroforest\", \"agricult\", \"income\",\n",
    "                 \"fiske\", \"jakt\", \"turism\", \"landbruk\", \"jordbruk\", \"inntekt\"]\n",
    "\n",
    "phrasedefault15_cf = r'(?:{})'.format('|'.join(termlist15_cf))\n",
    "phrasedefault15_cg = r'(?:{})'.format('|'.join(termlist15_cg))\n",
    "phrasedefault15_ch = r'(?:{})'.format('|'.join(termlist15_ch))\n",
    "phrasedefault15_ci = r'(?:{})'.format('|'.join(termlist15_ci))"
   ]
  },
  {
   "cell_type": "code",
   "execution_count": null,
   "id": "735495f3-2b86-4fb2-8784-87f1ee459b65",
   "metadata": {
    "colab": {
     "base_uri": "https://localhost:8080/"
    },
    "id": "8oBisVWavp6I",
    "outputId": "c81958b6-8c57-4499-e8c6-b0d8063ef4e6"
   },
   "outputs": [],
   "source": [
    "#Search 1\n",
    "\n",
    "Data.loc[(\n",
    "    (\n",
    "        (\n",
    "            (Data['result_title'].str.contains(phrasedefault15_cf, na=False, case=False)) \n",
    "            |(Data['result_title'].str.contains(phrasedefault15_ce_case, na=False, case=True))\n",
    "            |\n",
    "              (\n",
    "                  (Data['result_title'].str.contains(phrasedefault15_ca, na=False, case=False)) \n",
    "                  &\n",
    "                  (\n",
    "                      (Data['result_title'].str.contains(phrasedefault15_cc, na=False, case=False))\n",
    "                      |(Data['result_title'].str.contains(phrasespecific15_cc, na=False, case=False))\n",
    "                      |(Data['result_title'].str.contains(phrasedefault15_cd, na=False, case=False))\n",
    "                  )\n",
    "              )\n",
    "        )\n",
    "        & \n",
    "        (\n",
    "            (Data['result_title'].str.contains(phrasedefault15_cg, na=False, case=False))\n",
    "            |((Data['result_title'].str.contains(phrasedefault15_ch, na=False, case=False))&(Data['result_title'].str.contains(phrasedefault15_ci, na=False, case=False)))\n",
    "          \n",
    "        )\n",
    "    )\n",
    "    & (Data['terrestrial_double_NOT']==True)\n",
    "),\"tempsdg15_c\"] = \"SDG15_c\"\n",
    "\n",
    "print(\"Number of results = \", len(Data[(Data.tempsdg15_c == \"SDG15_c\")]))  "
   ]
  },
  {
   "cell_type": "code",
   "execution_count": null,
   "id": "55b5fb6d-73e0-466c-8da4-a34005ca9c12",
   "metadata": {
    "colab": {
     "base_uri": "https://localhost:8080/",
     "height": 81
    },
    "id": "K-ilgS_-vp6K",
    "outputId": "955d5422-48f4-4d40-a31f-8eb3ed77e709"
   },
   "outputs": [],
   "source": [
    "test=Data.loc[(Data.tempsdg15_c == \"SDG15_c\"), (\"result_id\", \"result_title\")]\n",
    "test.iloc[0:5, ]"
   ]
  },
  {
   "cell_type": "markdown",
   "id": "1888a127-ecac-46db-add5-cf19244cc72e",
   "metadata": {
    "id": "8ADVh9SQzOkV"
   },
   "source": [
    "### SDG 15\n",
    "\n",
    "Works mentioning SDG15"
   ]
  },
  {
   "cell_type": "code",
   "execution_count": null,
   "id": "e699e332-5f5a-47e2-9951-7e185fc42f23",
   "metadata": {
    "id": "jHKLb8DLzOkf"
   },
   "outputs": [],
   "source": [
    "#Termlists\n",
    "\n",
    "termlist_sdg_a = [\"SDG 15\", \"SDGs 15\", \"SDG15\", \"sustainable development goal 15\", \n",
    "                  \"bærekraftsmål 15\", \"berekraftsmål 15\"]\n",
    "termlist_sdg_b = [\"sustainable development goal\", \n",
    "                  \"bærekraftsmål\", \"berekraftsmål\"]\n",
    "termlist_sdg_c = [\"goal 15\",\n",
    "                  \"mål 15\"]\n",
    "termlist_sdg_d = [\"sustainable development goal\", \"SDG\", \"goal 15\", \n",
    "                  \"bærekraftsmål\", \"berekraftsmål\", \"mål 15\"]\n",
    "termlist_sdg_e = [\"life on land\", \"mountain\", \"terrestrial\", \"forest\", \"dryland\", \"grassland\",\n",
    "                  \"livet på land\", \"terrestrisk\", \"skog\"]\n",
    "\n",
    "termlist_sdg_f = [\"life on land\", \"livet på land\"]\n",
    "#extra phrase where the short titles of the SDG are included, since this is a title search\n",
    "\n",
    "phrasedefault_sdg_a = r'(?:{})'.format('|'.join(termlist_sdg_a))\n",
    "phrasedefault_sdg_b = r'(?:{})'.format('|'.join(termlist_sdg_b))\n",
    "phrasedefault_sdg_c = r'(?:{})'.format('|'.join(termlist_sdg_c))\n",
    "phrasedefault_sdg_d = r'(?:{})'.format('|'.join(termlist_sdg_d))\n",
    "phrasedefault_sdg_e = r'(?:{})'.format('|'.join(termlist_sdg_e))\n",
    "phrasedefault_sdg_f = r'(?:{})'.format('|'.join(termlist_sdg_f))"
   ]
  },
  {
   "cell_type": "markdown",
   "id": "eb026a7d-2acf-4d40-9268-a4194156aed6",
   "metadata": {
    "id": "zBtRoz_MzOki"
   },
   "source": [
    "Here it was not neccesary to exclude the NOT terms used in a normal abstract search, so they are not used. But in other contexts/abstract searches it may be necessary to add them in again. \n",
    "\n",
    "\"SDG\" was also not searched for case-sensitive, as it seems to work ok without."
   ]
  },
  {
   "cell_type": "code",
   "execution_count": null,
   "id": "97c16e93-0449-4971-81a1-51d7db161f2e",
   "metadata": {
    "colab": {
     "base_uri": "https://localhost:8080/"
    },
    "id": "PdvRZGF2zOki",
    "outputId": "c6b2058a-d469-4b20-e620-0772dd6d5253"
   },
   "outputs": [],
   "source": [
    "#Search 1\n",
    "Data.loc[(\n",
    "      (Data['result_title'].str.contains(phrasedefault_sdg_a, na=False, case=False))\n",
    "      |(Data['result_title'].str.contains(phrasedefault_sdg_f, na=False, case=False))\n",
    "      |\n",
    "      (\n",
    "        (Data['result_title'].str.contains(phrasedefault_sdg_b, na=False, case=False))\n",
    "        & (Data['result_title'].str.contains(phrasedefault_sdg_c, na=False, case=False))\n",
    "      )\n",
    "      |\n",
    "      (\n",
    "         (Data['result_title'].str.contains(phrasedefault_sdg_d, na=False, case=False))\n",
    "         & (Data['result_title'].str.contains(phrasedefault_sdg_e, na=False, case=False))\n",
    "      )\n",
    "),\"tempmentionsdg15\"] = \"SDG15\"\n",
    "\n",
    "print(\"Number of results = \", len(Data[(Data.tempmentionsdg15 == \"SDG15\")]))  "
   ]
  },
  {
   "cell_type": "code",
   "execution_count": null,
   "id": "ad1f75ee-1f9c-4725-aa0a-803f31d6e7c6",
   "metadata": {
    "colab": {
     "base_uri": "https://localhost:8080/",
     "height": 386
    },
    "id": "FbI98lLkzOkk",
    "outputId": "c4216b7c-d604-455a-ebb8-5b42787c82d2"
   },
   "outputs": [],
   "source": [
    "test=Data.loc[(Data.tempmentionsdg15 == \"SDG15\"), (\"result_id\", \"result_title\")]\n",
    "test.iloc[0:5, ]"
   ]
  },
  {
   "cell_type": "markdown",
   "id": "f7766474-9dba-4108-b313-862eee916802",
   "metadata": {},
   "source": [
    "## Combine the search result labels"
   ]
  },
  {
   "cell_type": "code",
   "execution_count": null,
   "id": "19d95601-66a3-4d03-b86c-074cf1ebbbc3",
   "metadata": {},
   "outputs": [],
   "source": [
    "#Examine - see new columns\n",
    "test=Data.loc[Data['tempsdg15_b'].notna() & Data['tempsdg15_02'].notna()]   \n",
    "test.iloc[0:4, [1,4,6,20,21,23,24, -3,-12]]"
   ]
  },
  {
   "cell_type": "code",
   "execution_count": null,
   "id": "ae875640-0471-4fcf-a7d7-6aeb91bc92c0",
   "metadata": {},
   "outputs": [],
   "source": [
    "print(Data.columns.tolist())"
   ]
  },
  {
   "cell_type": "code",
   "execution_count": null,
   "id": "e8355839-4946-4b54-b41a-3bdc2cf07e3b",
   "metadata": {},
   "outputs": [],
   "source": [
    "# Make a copy of the data\n",
    "data2=Data.copy()"
   ]
  },
  {
   "cell_type": "code",
   "execution_count": null,
   "id": "2f1088f8-28dd-4c42-890a-565ae544b67f",
   "metadata": {},
   "outputs": [],
   "source": [
    "data2.info()"
   ]
  },
  {
   "cell_type": "code",
   "execution_count": null,
   "id": "3a762b33-a0fa-4c33-a6f3-d59b66ff3816",
   "metadata": {},
   "outputs": [],
   "source": [
    "#remove columns used in searching that are no longer needed\n",
    "data2.drop(columns = [\"terr_terms\", \"terrestrial_double_NOT\", \"marine_terms\", \"LDCs\", \"SIDS\", \"LDS\", \"LMICs\", \"LDCSIDS\", \"scp\"], inplace=True)"
   ]
  },
  {
   "cell_type": "markdown",
   "id": "ba0b59f0-d6e0-4c83-9d88-8711f40e03b4",
   "metadata": {},
   "source": [
    "### Combined target-level results\n",
    "This section combines all of the target-level labels. When doing this, we also separate out those that concern the general SDG phrase (i.e. works that mention SDG4 - this is not a target, so we don't want them as a target label - your use may vary)"
   ]
  },
  {
   "cell_type": "code",
   "execution_count": null,
   "id": "5998a5f6-8de0-4d1f-9383-a75e1c3af646",
   "metadata": {},
   "outputs": [],
   "source": [
    "cols_target_python=(data2.filter(like='tempsdg').columns).tolist()\n",
    "print(type(cols_target_python))"
   ]
  },
  {
   "cell_type": "code",
   "execution_count": null,
   "id": "c3bdb475-07fb-4686-ac85-f6c6ef8d2ade",
   "metadata": {},
   "outputs": [],
   "source": [
    "cols_mentionsthesdg_python=(data2.filter(like='tempmentionsdg').columns).tolist()\n",
    "print(type(cols_mentionsthesdg_python))"
   ]
  },
  {
   "cell_type": "code",
   "execution_count": null,
   "id": "6dc4061d-6f52-4d8a-b0ad-d473decc605b",
   "metadata": {},
   "outputs": [],
   "source": [
    "cols_target_python[0:5]"
   ]
  },
  {
   "cell_type": "code",
   "execution_count": null,
   "id": "5e1bb295-11f0-4783-a9c6-d2b525fc38b5",
   "metadata": {},
   "outputs": [],
   "source": [
    "cols_mentionsthesdg_python"
   ]
  },
  {
   "cell_type": "code",
   "execution_count": null,
   "id": "870cc209-ac78-4ff2-883a-ce079a342f4b",
   "metadata": {},
   "outputs": [],
   "source": [
    "# Concatenate the labels for all the target columns\n",
    "data2['SDG_target_topic_python'] = data2[cols_target_python].apply(lambda x: x.str.cat(sep=','), axis=1)\n",
    "#...and all the SDG mention columns\n",
    "data2['SDG_sdg_topic_python'] = data2[cols_mentionsthesdg_python].apply(lambda x: x.str.cat(sep=','), axis=1)"
   ]
  },
  {
   "cell_type": "code",
   "execution_count": null,
   "id": "4463c408-272d-41f1-8272-5edb973b8d49",
   "metadata": {},
   "outputs": [],
   "source": [
    "test=data2.loc[Data['tempsdg15_b'].notna() & data2['tempsdg15_02'].notna()]   \n",
    "#test=data2.loc[data2['tempmentionsdg02'].notna()]   \n",
    "test.iloc[0:4, [1,4,6,20,21,23,24,-1,-2, -5,-14]]"
   ]
  },
  {
   "cell_type": "markdown",
   "id": "efc6fbbe-c812-4c12-a581-3aed06a4160b",
   "metadata": {},
   "source": [
    "### Combined SDG-level results"
   ]
  },
  {
   "cell_type": "code",
   "execution_count": null,
   "id": "4079a580-d6a3-43da-b891-9f982a06c5f4",
   "metadata": {},
   "outputs": [],
   "source": [
    "data2[\"SDG_topic_python\"]=\"\""
   ]
  },
  {
   "cell_type": "code",
   "execution_count": null,
   "id": "7987eb8f-93b3-4d68-ad3c-f38dab9c7034",
   "metadata": {},
   "outputs": [],
   "source": [
    "#loop to check whether the target column contains the SDG, and add that SDG to the whole SDG col\n",
    "SDGlist = [\"SDG01\", \"SDG02\", \"SDG03\", \"SDG04\", \"SDG07\", \"SDG11\", \"SDG12\", \"SDG13\", \"SDG14\", \"SDG15\"]\n",
    "\n",
    "for ei in SDGlist:\n",
    "    data2[\"SDG_topic_python\"] = np.where(data2['SDG_target_topic_python'].str.contains(ei)|data2['SDG_sdg_topic_python'].str.contains(ei), (data2[\"SDG_topic_python\"]+\",\"+ei), data2[\"SDG_topic_python\"])"
   ]
  },
  {
   "cell_type": "code",
   "execution_count": null,
   "id": "6f7834ef-5111-485d-9330-4c1989b0cbc0",
   "metadata": {},
   "outputs": [],
   "source": [
    "#Strip beginning comma\n",
    "data2[\"SDG_topic_python\"] = data2[\"SDG_topic_python\"].str.lstrip(',')"
   ]
  },
  {
   "cell_type": "code",
   "execution_count": null,
   "id": "6eff3058-a405-4116-b250-71527e2be510",
   "metadata": {},
   "outputs": [],
   "source": [
    "#Remove the columns no longer needed\n",
    "#Remove columns for each individual target...\n",
    "data2.drop(columns = cols_target_python, inplace=True)\n",
    "#And the columns for the whole sdg searches...\n",
    "data2.drop(columns = cols_mentionsthesdg_python, inplace=True)\n",
    "data2.drop(columns = \"SDG_sdg_topic_python\", inplace=True)"
   ]
  },
  {
   "cell_type": "markdown",
   "id": "42273dcc-516c-4e1a-8655-23fe2403bc48",
   "metadata": {},
   "source": [
    "**How many results?**"
   ]
  },
  {
   "cell_type": "code",
   "execution_count": null,
   "id": "f5ff95b0-66fc-476e-9d67-15c17df82842",
   "metadata": {},
   "outputs": [],
   "source": [
    "SDGlist = [\"SDG01\", \"SDG02\", \"SDG03\", \"SDG04\", \"SDG07\", \"SDG11\", \"SDG12\", \"SDG13\", \"SDG14\", \"SDG15\"]\n",
    "\n",
    "for ei in SDGlist:\n",
    "    print(\"No. results for\", (ei), \"(topic):\", np.count_nonzero(data2['SDG_topic_python'].str.contains(ei)))"
   ]
  },
  {
   "cell_type": "code",
   "execution_count": null,
   "id": "380fde9f-3d41-487f-8510-368bd774ec67",
   "metadata": {},
   "outputs": [],
   "source": [
    "SDGlist = [\"SDG03_01\", \"SDG03_02\", \"SDG03_03\", \"SDG03_04\", \"SDG07_01\", \"SDG11_01\"]\n",
    "\n",
    "for ei in SDGlist:\n",
    "    print(\"No. results for\", (ei), \"(topic):\", np.count_nonzero(data2['SDG_target_topic_python'].str.contains(ei)))"
   ]
  },
  {
   "cell_type": "markdown",
   "id": "b33d0ac2-cc9a-4767-add5-a09f63315416",
   "metadata": {
    "tags": []
   },
   "source": [
    "### Final clean"
   ]
  },
  {
   "cell_type": "code",
   "execution_count": null,
   "id": "3497ecc2-26c5-422a-aa49-f0ce8570006c",
   "metadata": {},
   "outputs": [],
   "source": [
    "# Make a copy of the data\n",
    "data3=data2.copy()"
   ]
  },
  {
   "cell_type": "code",
   "execution_count": null,
   "id": "f0664c98-e996-4810-a4ce-8694daead789",
   "metadata": {},
   "outputs": [],
   "source": [
    "#Empty SDG fields to NA\n",
    "data3.loc[~data3['SDG_target_topic_python'].str.contains('SDG'), 'SDG_target_topic_python'] = np.nan\n",
    "data3.loc[~data3['SDG_topic_python'].str.contains('SDG'), 'SDG_topic_python'] = np.nan"
   ]
  },
  {
   "cell_type": "code",
   "execution_count": null,
   "id": "9d168df0-92a2-4958-8831-77bbe634083b",
   "metadata": {},
   "outputs": [],
   "source": [
    "data3.info()"
   ]
  }
 ],
 "metadata": {
  "kernelspec": {
   "display_name": "Python 3 (ipykernel)",
   "language": "python",
   "name": "python3"
  },
  "language_info": {
   "codemirror_mode": {
    "name": "ipython",
    "version": 3
   },
   "file_extension": ".py",
   "mimetype": "text/x-python",
   "name": "python",
   "nbconvert_exporter": "python",
   "pygments_lexer": "ipython3",
   "version": "3.11.5"
  }
 },
 "nbformat": 4,
 "nbformat_minor": 5
}
